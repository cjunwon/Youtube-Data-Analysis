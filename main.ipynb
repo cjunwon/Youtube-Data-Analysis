{
 "cells": [
  {
   "cell_type": "markdown",
   "metadata": {},
   "source": [
    "## Data Collection"
   ]
  },
  {
   "cell_type": "markdown",
   "metadata": {},
   "source": [
    "Main data collection is processed by running ['update.py'](https://github.com/cjunwon/Youtube-Data-Analysis/blob/main/update.py) on a Flask ['server.py'](https://github.com/cjunwon/Youtube-Data-Analysis/blob/main/server.py) scheduled through ngrok and Invictify.\n",
    "\n",
    "This collection pipeline automatically updates the AWS MySQL RDS database with up-to-date channel statistics depending on the configured Invictify schedule."
   ]
  },
  {
   "cell_type": "code",
   "execution_count": 6,
   "metadata": {},
   "outputs": [],
   "source": [
    "from MySQL_DB_connect_functions import *\n",
    "from MySQL_DB_update_functions import *\n",
    "from youtube_api_functions import *"
   ]
  },
  {
   "cell_type": "code",
   "execution_count": 7,
   "metadata": {},
   "outputs": [],
   "source": [
    "channel_id_list = ['UCIRYBXDze5krPDzAEOxFGVA'] #TheGuardian\n",
    "channel_id_list = ['UCqnbDFdCpuN8CMEg0VuEBqA'] #NYTimes"
   ]
  },
  {
   "cell_type": "code",
   "execution_count": 8,
   "metadata": {},
   "outputs": [],
   "source": [
    "# using youtube_api_functions.py:\n",
    "youtube_obj = build_yt_API_object() # builds Youtube API object"
   ]
  },
  {
   "cell_type": "code",
   "execution_count": 9,
   "metadata": {},
   "outputs": [],
   "source": [
    "video_df = create_video_df(youtube_obj, channel_id_list, 50) # store API data into pandas df\n",
    "processed_video_df = clean_video_df(video_df) # run df through cleaning function"
   ]
  },
  {
   "cell_type": "code",
   "execution_count": 10,
   "metadata": {},
   "outputs": [
    {
     "data": {
      "text/html": [
       "<div>\n",
       "<style scoped>\n",
       "    .dataframe tbody tr th:only-of-type {\n",
       "        vertical-align: middle;\n",
       "    }\n",
       "\n",
       "    .dataframe tbody tr th {\n",
       "        vertical-align: top;\n",
       "    }\n",
       "\n",
       "    .dataframe thead th {\n",
       "        text-align: right;\n",
       "    }\n",
       "</style>\n",
       "<table border=\"1\" class=\"dataframe\">\n",
       "  <thead>\n",
       "    <tr style=\"text-align: right;\">\n",
       "      <th></th>\n",
       "      <th>video_id</th>\n",
       "      <th>channelTitle</th>\n",
       "      <th>title</th>\n",
       "      <th>description</th>\n",
       "      <th>publishedAt</th>\n",
       "      <th>viewCount</th>\n",
       "      <th>likeCount</th>\n",
       "      <th>favoriteCount</th>\n",
       "      <th>commentCount</th>\n",
       "      <th>caption</th>\n",
       "      <th>publishDayName</th>\n",
       "      <th>durationSecs</th>\n",
       "      <th>tagCount</th>\n",
       "    </tr>\n",
       "  </thead>\n",
       "  <tbody>\n",
       "    <tr>\n",
       "      <th>0</th>\n",
       "      <td>FJvnn0qRWb4</td>\n",
       "      <td>The New York Times</td>\n",
       "      <td>Watch Warriors in Training in ‘The Woman King’...</td>\n",
       "      <td>The intensity of the action epic “The Woman Ki...</td>\n",
       "      <td>2022-09-16</td>\n",
       "      <td>2081</td>\n",
       "      <td>152</td>\n",
       "      <td>0</td>\n",
       "      <td>0</td>\n",
       "      <td>1</td>\n",
       "      <td>Friday</td>\n",
       "      <td>119.0</td>\n",
       "      <td>11</td>\n",
       "    </tr>\n",
       "    <tr>\n",
       "      <th>1</th>\n",
       "      <td>O5d1Cclk5QA</td>\n",
       "      <td>The New York Times</td>\n",
       "      <td>I Sold the French Laundry. Then It Became \"The...</td>\n",
       "      <td>When my father died, he held disappointment in...</td>\n",
       "      <td>2022-09-13</td>\n",
       "      <td>47866</td>\n",
       "      <td>2170</td>\n",
       "      <td>0</td>\n",
       "      <td>218</td>\n",
       "      <td>1</td>\n",
       "      <td>Tuesday</td>\n",
       "      <td>1233.0</td>\n",
       "      <td>21</td>\n",
       "    </tr>\n",
       "    <tr>\n",
       "      <th>2</th>\n",
       "      <td>ccVH_1g-kCY</td>\n",
       "      <td>The New York Times</td>\n",
       "      <td>OB-GYNs Confront Legal Impact of Abortion Bans...</td>\n",
       "      <td>As anti-abortion laws take effect across the U...</td>\n",
       "      <td>2022-09-12</td>\n",
       "      <td>11569</td>\n",
       "      <td>603</td>\n",
       "      <td>0</td>\n",
       "      <td>318</td>\n",
       "      <td>1</td>\n",
       "      <td>Monday</td>\n",
       "      <td>379.0</td>\n",
       "      <td>33</td>\n",
       "    </tr>\n",
       "    <tr>\n",
       "      <th>3</th>\n",
       "      <td>0bw7rJ2eZaA</td>\n",
       "      <td>The New York Times</td>\n",
       "      <td>The Legacy of Elizabeth II: The Media Queen</td>\n",
       "      <td>Queen Elizabeth II, the world’s longest-servin...</td>\n",
       "      <td>2022-09-08</td>\n",
       "      <td>55968</td>\n",
       "      <td>2049</td>\n",
       "      <td>0</td>\n",
       "      <td>377</td>\n",
       "      <td>1</td>\n",
       "      <td>Thursday</td>\n",
       "      <td>486.0</td>\n",
       "      <td>19</td>\n",
       "    </tr>\n",
       "    <tr>\n",
       "      <th>4</th>\n",
       "      <td>m5aWtcx02ZI</td>\n",
       "      <td>The New York Times</td>\n",
       "      <td>Jonathan Pie: Welcome to Britain. Everything i...</td>\n",
       "      <td>So Liz Truss will be Britain’s next prime mini...</td>\n",
       "      <td>2022-09-06</td>\n",
       "      <td>878372</td>\n",
       "      <td>44490</td>\n",
       "      <td>0</td>\n",
       "      <td>4993</td>\n",
       "      <td>1</td>\n",
       "      <td>Tuesday</td>\n",
       "      <td>401.0</td>\n",
       "      <td>15</td>\n",
       "    </tr>\n",
       "  </tbody>\n",
       "</table>\n",
       "</div>"
      ],
      "text/plain": [
       "      video_id        channelTitle  \\\n",
       "0  FJvnn0qRWb4  The New York Times   \n",
       "1  O5d1Cclk5QA  The New York Times   \n",
       "2  ccVH_1g-kCY  The New York Times   \n",
       "3  0bw7rJ2eZaA  The New York Times   \n",
       "4  m5aWtcx02ZI  The New York Times   \n",
       "\n",
       "                                               title  \\\n",
       "0  Watch Warriors in Training in ‘The Woman King’...   \n",
       "1  I Sold the French Laundry. Then It Became \"The...   \n",
       "2  OB-GYNs Confront Legal Impact of Abortion Bans...   \n",
       "3        The Legacy of Elizabeth II: The Media Queen   \n",
       "4  Jonathan Pie: Welcome to Britain. Everything i...   \n",
       "\n",
       "                                         description publishedAt  viewCount  \\\n",
       "0  The intensity of the action epic “The Woman Ki...  2022-09-16       2081   \n",
       "1  When my father died, he held disappointment in...  2022-09-13      47866   \n",
       "2  As anti-abortion laws take effect across the U...  2022-09-12      11569   \n",
       "3  Queen Elizabeth II, the world’s longest-servin...  2022-09-08      55968   \n",
       "4  So Liz Truss will be Britain’s next prime mini...  2022-09-06     878372   \n",
       "\n",
       "   likeCount  favoriteCount  commentCount  caption publishDayName  \\\n",
       "0        152              0             0        1         Friday   \n",
       "1       2170              0           218        1        Tuesday   \n",
       "2        603              0           318        1         Monday   \n",
       "3       2049              0           377        1       Thursday   \n",
       "4      44490              0          4993        1        Tuesday   \n",
       "\n",
       "   durationSecs  tagCount  \n",
       "0         119.0        11  \n",
       "1        1233.0        21  \n",
       "2         379.0        33  \n",
       "3         486.0        19  \n",
       "4         401.0        15  "
      ]
     },
     "execution_count": 10,
     "metadata": {},
     "output_type": "execute_result"
    }
   ],
   "source": [
    "processed_video_df.head()"
   ]
  },
  {
   "cell_type": "code",
   "execution_count": 11,
   "metadata": {},
   "outputs": [],
   "source": [
    "video_ids = list(processed_video_df['video_id'])"
   ]
  },
  {
   "cell_type": "code",
   "execution_count": 12,
   "metadata": {},
   "outputs": [
    {
     "data": {
      "text/plain": [
       "['FJvnn0qRWb4',\n",
       " 'O5d1Cclk5QA',\n",
       " 'ccVH_1g-kCY',\n",
       " '0bw7rJ2eZaA',\n",
       " 'm5aWtcx02ZI',\n",
       " '3-MzNPcEh6M',\n",
       " 'm0E_wMIwfSI',\n",
       " '4oyL1aESwSk',\n",
       " 'X04HKyW-3hc',\n",
       " 'eMGqvUZjkH8',\n",
       " 'UlAOP8GIuIY',\n",
       " 'pjn_MJx-mJ8',\n",
       " 'yOy5BMItCuU',\n",
       " '-p0x_woeZD8',\n",
       " 'RilwnjDwTOc',\n",
       " 'IAWtx-rsXpo',\n",
       " 'DHJtdX481is',\n",
       " 'tjIgYs81mB8',\n",
       " 'faL6ERtj5oM',\n",
       " 'mX80JIl6vFs',\n",
       " 'Oo_FM3mjBCY',\n",
       " '2D_Ogifqm2c',\n",
       " '-DfLbrUa5Ng',\n",
       " '9RnjVFZoHuc',\n",
       " '43nX7uzD-Lc',\n",
       " 'iZhjGQlq9io',\n",
       " 'y3LPHMl5cqw',\n",
       " 'jji9hiaAMvc',\n",
       " 'v1_ilS5zku8',\n",
       " 'j4qwMGd2wmQ',\n",
       " 'QJaCliumTcA',\n",
       " 'pCCTf17ZiIs',\n",
       " 'AhJiSZHHHHs',\n",
       " 'UjmhDyJhgvs',\n",
       " 'lzmyO0E5ClU',\n",
       " 'CawT_sqiBxo',\n",
       " 'tuGdOAY33MI',\n",
       " 'Wr7BrKOX6bE',\n",
       " 'Q8DrPYj-REc',\n",
       " 'ODU_QasrkcQ',\n",
       " 'N04aLpZ0SJ8',\n",
       " 'pCnlxfBgq4o',\n",
       " 'SJn1ZFEi3Mo',\n",
       " 'ww8PjviNPfw',\n",
       " 'gCldVMfFim8',\n",
       " 'NkMsSXzRBEs',\n",
       " 'Ws0mMP7uM34',\n",
       " 'j-88-Fttz7w',\n",
       " 'DGxE64cGbZQ',\n",
       " 'gOmYi96cU1M']"
      ]
     },
     "execution_count": 12,
     "metadata": {},
     "output_type": "execute_result"
    }
   ],
   "source": [
    "video_ids"
   ]
  },
  {
   "cell_type": "code",
   "execution_count": 13,
   "metadata": {},
   "outputs": [],
   "source": [
    "all_comments_df = pd.DataFrame()\n",
    "for video in video_ids:\n",
    "    comment_data = get_video_comments(youtube_obj, video)\n",
    "    all_comments_df = all_comments_df.append(comment_data, ignore_index=True)"
   ]
  },
  {
   "cell_type": "code",
   "execution_count": 14,
   "metadata": {},
   "outputs": [
    {
     "data": {
      "text/html": [
       "<div>\n",
       "<style scoped>\n",
       "    .dataframe tbody tr th:only-of-type {\n",
       "        vertical-align: middle;\n",
       "    }\n",
       "\n",
       "    .dataframe tbody tr th {\n",
       "        vertical-align: top;\n",
       "    }\n",
       "\n",
       "    .dataframe thead th {\n",
       "        text-align: right;\n",
       "    }\n",
       "</style>\n",
       "<table border=\"1\" class=\"dataframe\">\n",
       "  <thead>\n",
       "    <tr style=\"text-align: right;\">\n",
       "      <th></th>\n",
       "      <th>video_id</th>\n",
       "      <th>comment_id</th>\n",
       "      <th>comment</th>\n",
       "      <th>date</th>\n",
       "    </tr>\n",
       "  </thead>\n",
       "  <tbody>\n",
       "    <tr>\n",
       "      <th>0</th>\n",
       "      <td>O5d1Cclk5QA</td>\n",
       "      <td>UgwN5U3S_bClNWg9mO14AaABAg</td>\n",
       "      <td>Hi there! I'm Ben Proudfoot, the director and ...</td>\n",
       "      <td>2022-09-13T17:48:37Z</td>\n",
       "    </tr>\n",
       "    <tr>\n",
       "      <th>1</th>\n",
       "      <td>O5d1Cclk5QA</td>\n",
       "      <td>UgxoHKeoMxf7gX2S9o14AaABAg</td>\n",
       "      <td>What an incredible piece of food journalism! S...</td>\n",
       "      <td>2022-09-15T22:54:51Z</td>\n",
       "    </tr>\n",
       "    <tr>\n",
       "      <th>2</th>\n",
       "      <td>O5d1Cclk5QA</td>\n",
       "      <td>Ugx4m090jOxgY61GEAB4AaABAg</td>\n",
       "      <td>I’ve heard about the infamous French Laundry r...</td>\n",
       "      <td>2022-09-15T22:05:57Z</td>\n",
       "    </tr>\n",
       "    <tr>\n",
       "      <th>3</th>\n",
       "      <td>O5d1Cclk5QA</td>\n",
       "      <td>UgyK5ScVQYz2CljWQsp4AaABAg</td>\n",
       "      <td>This was inspiring and makes me feel nostalgic...</td>\n",
       "      <td>2022-09-15T21:38:59Z</td>\n",
       "    </tr>\n",
       "    <tr>\n",
       "      <th>4</th>\n",
       "      <td>O5d1Cclk5QA</td>\n",
       "      <td>UgxYrat_ikBHRnQQMVR4AaABAg</td>\n",
       "      <td>Just watched this. We were blown away by the t...</td>\n",
       "      <td>2022-09-15T18:52:47Z</td>\n",
       "    </tr>\n",
       "  </tbody>\n",
       "</table>\n",
       "</div>"
      ],
      "text/plain": [
       "      video_id                  comment_id  \\\n",
       "0  O5d1Cclk5QA  UgwN5U3S_bClNWg9mO14AaABAg   \n",
       "1  O5d1Cclk5QA  UgxoHKeoMxf7gX2S9o14AaABAg   \n",
       "2  O5d1Cclk5QA  Ugx4m090jOxgY61GEAB4AaABAg   \n",
       "3  O5d1Cclk5QA  UgyK5ScVQYz2CljWQsp4AaABAg   \n",
       "4  O5d1Cclk5QA  UgxYrat_ikBHRnQQMVR4AaABAg   \n",
       "\n",
       "                                             comment                  date  \n",
       "0  Hi there! I'm Ben Proudfoot, the director and ...  2022-09-13T17:48:37Z  \n",
       "1  What an incredible piece of food journalism! S...  2022-09-15T22:54:51Z  \n",
       "2  I’ve heard about the infamous French Laundry r...  2022-09-15T22:05:57Z  \n",
       "3  This was inspiring and makes me feel nostalgic...  2022-09-15T21:38:59Z  \n",
       "4  Just watched this. We were blown away by the t...  2022-09-15T18:52:47Z  "
      ]
     },
     "execution_count": 14,
     "metadata": {},
     "output_type": "execute_result"
    }
   ],
   "source": [
    "all_comments_df.head()"
   ]
  },
  {
   "cell_type": "code",
   "execution_count": 15,
   "metadata": {},
   "outputs": [],
   "source": [
    "import nltk\n",
    "from nltk.sentiment import SentimentIntensityAnalyzer\n",
    "sia = SentimentIntensityAnalyzer()"
   ]
  },
  {
   "cell_type": "code",
   "execution_count": 16,
   "metadata": {},
   "outputs": [],
   "source": [
    "all_comments_df['vader_sentiment'] = all_comments_df.comment.apply(lambda x: sia.polarity_scores(x))\n",
    "all_comments_df['vader_comp_sentiment'] = all_comments_df.vader_sentiment.apply(lambda x: x['compound'])"
   ]
  },
  {
   "cell_type": "code",
   "execution_count": 17,
   "metadata": {},
   "outputs": [
    {
     "data": {
      "text/plain": [
       "0.048862135454326674"
      ]
     },
     "execution_count": 17,
     "metadata": {},
     "output_type": "execute_result"
    }
   ],
   "source": [
    "all_comments_df['vader_comp_sentiment'].mean()"
   ]
  },
  {
   "cell_type": "code",
   "execution_count": 18,
   "metadata": {},
   "outputs": [],
   "source": [
    "video_comp_sentiments = pd.DataFrame(columns=['video_id', 'vid_title', 'avg_comp_sentiment', 'vid_viewcount'])\n",
    "for video in video_ids:\n",
    "    comment_data = get_video_comments(youtube_obj, video)\n",
    "    comment_data['vader_sentiment'] = comment_data.comment.apply(lambda x: sia.polarity_scores(x))\n",
    "    comment_data['vader_comp_sentiment'] = comment_data.vader_sentiment.apply(lambda x: x['compound'])\n",
    "    comp_mean = comment_data['vader_comp_sentiment'].mean()\n",
    "\n",
    "    vid_title = processed_video_df.loc[processed_video_df['video_id'] == video, 'title'].item()\n",
    "    vid_viewcount = processed_video_df.loc[processed_video_df['video_id'] == video, 'viewCount'].item()\n",
    "    vid_likecount = processed_video_df.loc[processed_video_df['video_id'] == video, 'likeCount'].item()\n",
    "\n",
    "    dict = {'video_id': video,\n",
    "            'vid_title': vid_title,\n",
    "            'avg_comp_sentiment': comp_mean,\n",
    "            'vid_viewcount': vid_viewcount,\n",
    "            'vid_likecount': vid_likecount\n",
    "            }\n",
    "\n",
    "    video_comp_sentiments = video_comp_sentiments.append(dict, ignore_index=True)\n",
    "    "
   ]
  },
  {
   "cell_type": "code",
   "execution_count": 19,
   "metadata": {},
   "outputs": [
    {
     "data": {
      "text/html": [
       "<div>\n",
       "<style scoped>\n",
       "    .dataframe tbody tr th:only-of-type {\n",
       "        vertical-align: middle;\n",
       "    }\n",
       "\n",
       "    .dataframe tbody tr th {\n",
       "        vertical-align: top;\n",
       "    }\n",
       "\n",
       "    .dataframe thead th {\n",
       "        text-align: right;\n",
       "    }\n",
       "</style>\n",
       "<table border=\"1\" class=\"dataframe\">\n",
       "  <thead>\n",
       "    <tr style=\"text-align: right;\">\n",
       "      <th></th>\n",
       "      <th>video_id</th>\n",
       "      <th>vid_title</th>\n",
       "      <th>avg_comp_sentiment</th>\n",
       "      <th>vid_viewcount</th>\n",
       "      <th>vid_likecount</th>\n",
       "    </tr>\n",
       "  </thead>\n",
       "  <tbody>\n",
       "    <tr>\n",
       "      <th>0</th>\n",
       "      <td>FJvnn0qRWb4</td>\n",
       "      <td>Watch Warriors in Training in ‘The Woman King’...</td>\n",
       "      <td>NaN</td>\n",
       "      <td>2081</td>\n",
       "      <td>152.0</td>\n",
       "    </tr>\n",
       "    <tr>\n",
       "      <th>1</th>\n",
       "      <td>O5d1Cclk5QA</td>\n",
       "      <td>I Sold the French Laundry. Then It Became \"The...</td>\n",
       "      <td>0.539888</td>\n",
       "      <td>47866</td>\n",
       "      <td>2170.0</td>\n",
       "    </tr>\n",
       "    <tr>\n",
       "      <th>2</th>\n",
       "      <td>ccVH_1g-kCY</td>\n",
       "      <td>OB-GYNs Confront Legal Impact of Abortion Bans...</td>\n",
       "      <td>-0.154864</td>\n",
       "      <td>11569</td>\n",
       "      <td>603.0</td>\n",
       "    </tr>\n",
       "    <tr>\n",
       "      <th>3</th>\n",
       "      <td>0bw7rJ2eZaA</td>\n",
       "      <td>The Legacy of Elizabeth II: The Media Queen</td>\n",
       "      <td>0.077100</td>\n",
       "      <td>55968</td>\n",
       "      <td>2049.0</td>\n",
       "    </tr>\n",
       "    <tr>\n",
       "      <th>4</th>\n",
       "      <td>m5aWtcx02ZI</td>\n",
       "      <td>Jonathan Pie: Welcome to Britain. Everything i...</td>\n",
       "      <td>0.040505</td>\n",
       "      <td>878372</td>\n",
       "      <td>44490.0</td>\n",
       "    </tr>\n",
       "    <tr>\n",
       "      <th>5</th>\n",
       "      <td>3-MzNPcEh6M</td>\n",
       "      <td>I Have Face Blindness. This Is How I Recognize...</td>\n",
       "      <td>0.349753</td>\n",
       "      <td>19655</td>\n",
       "      <td>736.0</td>\n",
       "    </tr>\n",
       "    <tr>\n",
       "      <th>6</th>\n",
       "      <td>m0E_wMIwfSI</td>\n",
       "      <td>I Stutter. But I Need You to Listen. | NYT Opi...</td>\n",
       "      <td>0.248334</td>\n",
       "      <td>36553</td>\n",
       "      <td>2138.0</td>\n",
       "    </tr>\n",
       "    <tr>\n",
       "      <th>7</th>\n",
       "      <td>4oyL1aESwSk</td>\n",
       "      <td>Watch a Tense Pool Scene From ‘Bodies Bodies B...</td>\n",
       "      <td>0.214835</td>\n",
       "      <td>31856</td>\n",
       "      <td>407.0</td>\n",
       "    </tr>\n",
       "    <tr>\n",
       "      <th>8</th>\n",
       "      <td>X04HKyW-3hc</td>\n",
       "      <td>What a Legally Blind Person Can See | NYT Opinion</td>\n",
       "      <td>0.351140</td>\n",
       "      <td>23455</td>\n",
       "      <td>1149.0</td>\n",
       "    </tr>\n",
       "    <tr>\n",
       "      <th>9</th>\n",
       "      <td>eMGqvUZjkH8</td>\n",
       "      <td>Kill Your Lawn | NYT Opinion</td>\n",
       "      <td>0.118600</td>\n",
       "      <td>85999</td>\n",
       "      <td>3603.0</td>\n",
       "    </tr>\n",
       "    <tr>\n",
       "      <th>10</th>\n",
       "      <td>UlAOP8GIuIY</td>\n",
       "      <td>Watch Daniel Kaluuya Face a U.F.O. in ‘Nope’ |...</td>\n",
       "      <td>0.090721</td>\n",
       "      <td>61440</td>\n",
       "      <td>1034.0</td>\n",
       "    </tr>\n",
       "    <tr>\n",
       "      <th>11</th>\n",
       "      <td>pjn_MJx-mJ8</td>\n",
       "      <td>How Much Does Your M.R.I. Cost? Buy It First t...</td>\n",
       "      <td>0.108257</td>\n",
       "      <td>24484</td>\n",
       "      <td>1169.0</td>\n",
       "    </tr>\n",
       "    <tr>\n",
       "      <th>12</th>\n",
       "      <td>yOy5BMItCuU</td>\n",
       "      <td>Watch Chris Hemsworth and Natalie Portman Reun...</td>\n",
       "      <td>0.109195</td>\n",
       "      <td>28769</td>\n",
       "      <td>377.0</td>\n",
       "    </tr>\n",
       "    <tr>\n",
       "      <th>13</th>\n",
       "      <td>-p0x_woeZD8</td>\n",
       "      <td>Underground Abortion Pills, From Mexico to the...</td>\n",
       "      <td>-0.008379</td>\n",
       "      <td>17352</td>\n",
       "      <td>756.0</td>\n",
       "    </tr>\n",
       "    <tr>\n",
       "      <th>14</th>\n",
       "      <td>RilwnjDwTOc</td>\n",
       "      <td>We Debunk the Latest Corporate Climate Lie | N...</td>\n",
       "      <td>-0.014841</td>\n",
       "      <td>282748</td>\n",
       "      <td>13266.0</td>\n",
       "    </tr>\n",
       "    <tr>\n",
       "      <th>15</th>\n",
       "      <td>IAWtx-rsXpo</td>\n",
       "      <td>America Is Failing Refugees, And Itself. Here'...</td>\n",
       "      <td>-0.045398</td>\n",
       "      <td>31379</td>\n",
       "      <td>1233.0</td>\n",
       "    </tr>\n",
       "    <tr>\n",
       "      <th>16</th>\n",
       "      <td>DHJtdX481is</td>\n",
       "      <td>Watch Austin Butler Cause Hysteria in ‘Elvis’ ...</td>\n",
       "      <td>0.169278</td>\n",
       "      <td>303334</td>\n",
       "      <td>2991.0</td>\n",
       "    </tr>\n",
       "    <tr>\n",
       "      <th>17</th>\n",
       "      <td>tjIgYs81mB8</td>\n",
       "      <td>How I Had an Abortion at Home in Texas | NYT O...</td>\n",
       "      <td>-0.183299</td>\n",
       "      <td>283620</td>\n",
       "      <td>8811.0</td>\n",
       "    </tr>\n",
       "    <tr>\n",
       "      <th>18</th>\n",
       "      <td>faL6ERtj5oM</td>\n",
       "      <td>MINK! — My Mom Fought For Title IX, but It Alm...</td>\n",
       "      <td>0.313953</td>\n",
       "      <td>23927</td>\n",
       "      <td>1104.0</td>\n",
       "    </tr>\n",
       "    <tr>\n",
       "      <th>19</th>\n",
       "      <td>mX80JIl6vFs</td>\n",
       "      <td>He Was the N.R.A.’s ‘Pointman.’ An Unlikely Fr...</td>\n",
       "      <td>0.057082</td>\n",
       "      <td>18360</td>\n",
       "      <td>918.0</td>\n",
       "    </tr>\n",
       "    <tr>\n",
       "      <th>20</th>\n",
       "      <td>Oo_FM3mjBCY</td>\n",
       "      <td>How China’s Surveillance Is Growing More Invas...</td>\n",
       "      <td>0.028863</td>\n",
       "      <td>257991</td>\n",
       "      <td>9791.0</td>\n",
       "    </tr>\n",
       "    <tr>\n",
       "      <th>21</th>\n",
       "      <td>2D_Ogifqm2c</td>\n",
       "      <td>The Ukrainians Sent to Russia’s ‘Filtration Ca...</td>\n",
       "      <td>-0.075310</td>\n",
       "      <td>125225</td>\n",
       "      <td>2404.0</td>\n",
       "    </tr>\n",
       "    <tr>\n",
       "      <th>22</th>\n",
       "      <td>-DfLbrUa5Ng</td>\n",
       "      <td>How the Proud Boys Breached the Capitol | Visu...</td>\n",
       "      <td>-0.012082</td>\n",
       "      <td>116654</td>\n",
       "      <td>4699.0</td>\n",
       "    </tr>\n",
       "    <tr>\n",
       "      <th>23</th>\n",
       "      <td>9RnjVFZoHuc</td>\n",
       "      <td>Watch Bryce Dallas Howard’s Slow Escape in ‘Ju...</td>\n",
       "      <td>0.049167</td>\n",
       "      <td>2700795</td>\n",
       "      <td>8522.0</td>\n",
       "    </tr>\n",
       "    <tr>\n",
       "      <th>24</th>\n",
       "      <td>43nX7uzD-Lc</td>\n",
       "      <td>What Does It Mean to Be Alive in Profound Isol...</td>\n",
       "      <td>0.271413</td>\n",
       "      <td>23829</td>\n",
       "      <td>770.0</td>\n",
       "    </tr>\n",
       "    <tr>\n",
       "      <th>25</th>\n",
       "      <td>iZhjGQlq9io</td>\n",
       "      <td>How Does It Feel to Be Russian Right Now? | NY...</td>\n",
       "      <td>-0.127760</td>\n",
       "      <td>31025</td>\n",
       "      <td>1092.0</td>\n",
       "    </tr>\n",
       "    <tr>\n",
       "      <th>26</th>\n",
       "      <td>y3LPHMl5cqw</td>\n",
       "      <td>Independent Journalism | The New York Times | ...</td>\n",
       "      <td>0.085061</td>\n",
       "      <td>1167620</td>\n",
       "      <td>271.0</td>\n",
       "    </tr>\n",
       "    <tr>\n",
       "      <th>27</th>\n",
       "      <td>jji9hiaAMvc</td>\n",
       "      <td>Independent Journalism | The New York Times | ...</td>\n",
       "      <td>0.022606</td>\n",
       "      <td>9697</td>\n",
       "      <td>222.0</td>\n",
       "    </tr>\n",
       "    <tr>\n",
       "      <th>28</th>\n",
       "      <td>v1_ilS5zku8</td>\n",
       "      <td>48 Hours in A Kansas Abortion Clinic | NYT News</td>\n",
       "      <td>-0.053823</td>\n",
       "      <td>116280</td>\n",
       "      <td>4552.0</td>\n",
       "    </tr>\n",
       "    <tr>\n",
       "      <th>29</th>\n",
       "      <td>j4qwMGd2wmQ</td>\n",
       "      <td>Watch Tom Cruise Go Hypersonic in ‘Top Gun: Ma...</td>\n",
       "      <td>0.211171</td>\n",
       "      <td>1070291</td>\n",
       "      <td>10669.0</td>\n",
       "    </tr>\n",
       "    <tr>\n",
       "      <th>30</th>\n",
       "      <td>QJaCliumTcA</td>\n",
       "      <td>What the Pandemic Can Teach Us About Endings |...</td>\n",
       "      <td>0.023059</td>\n",
       "      <td>23437</td>\n",
       "      <td>865.0</td>\n",
       "    </tr>\n",
       "    <tr>\n",
       "      <th>31</th>\n",
       "      <td>pCCTf17ZiIs</td>\n",
       "      <td>Twenty Years of Putin Playing the West in 3 Mi...</td>\n",
       "      <td>-0.000321</td>\n",
       "      <td>719851</td>\n",
       "      <td>17759.0</td>\n",
       "    </tr>\n",
       "    <tr>\n",
       "      <th>32</th>\n",
       "      <td>AhJiSZHHHHs</td>\n",
       "      <td>Watch Jessie Buckley Take a Haunting Tunnel Wa...</td>\n",
       "      <td>0.154862</td>\n",
       "      <td>29412</td>\n",
       "      <td>613.0</td>\n",
       "    </tr>\n",
       "    <tr>\n",
       "      <th>33</th>\n",
       "      <td>UjmhDyJhgvs</td>\n",
       "      <td>I'm a College Student with a Disability. Stop ...</td>\n",
       "      <td>0.349686</td>\n",
       "      <td>33013</td>\n",
       "      <td>913.0</td>\n",
       "    </tr>\n",
       "    <tr>\n",
       "      <th>34</th>\n",
       "      <td>lzmyO0E5ClU</td>\n",
       "      <td>Russia’s Attacks on Ukrainian Hospitals Show a...</td>\n",
       "      <td>-0.170264</td>\n",
       "      <td>24462</td>\n",
       "      <td>943.0</td>\n",
       "    </tr>\n",
       "    <tr>\n",
       "      <th>35</th>\n",
       "      <td>CawT_sqiBxo</td>\n",
       "      <td>Have You Considered the Benefits of Crying? | ...</td>\n",
       "      <td>-0.012251</td>\n",
       "      <td>22016</td>\n",
       "      <td>682.0</td>\n",
       "    </tr>\n",
       "    <tr>\n",
       "      <th>36</th>\n",
       "      <td>tuGdOAY33MI</td>\n",
       "      <td>Watch Alexander Skarsgard Battle the Undead in...</td>\n",
       "      <td>0.020674</td>\n",
       "      <td>30304</td>\n",
       "      <td>552.0</td>\n",
       "    </tr>\n",
       "    <tr>\n",
       "      <th>37</th>\n",
       "      <td>Wr7BrKOX6bE</td>\n",
       "      <td>Teens Are In Crisis. Here’s Why. | The New Yor...</td>\n",
       "      <td>0.013058</td>\n",
       "      <td>273796</td>\n",
       "      <td>11255.0</td>\n",
       "    </tr>\n",
       "    <tr>\n",
       "      <th>38</th>\n",
       "      <td>Q8DrPYj-REc</td>\n",
       "      <td>How Nicolas Cage Parodies Himself in ‘Massive ...</td>\n",
       "      <td>0.009053</td>\n",
       "      <td>33873</td>\n",
       "      <td>482.0</td>\n",
       "    </tr>\n",
       "    <tr>\n",
       "      <th>39</th>\n",
       "      <td>ODU_QasrkcQ</td>\n",
       "      <td>Under Attack in Ukraine’s Southeast | Russia-U...</td>\n",
       "      <td>-0.058130</td>\n",
       "      <td>2417448</td>\n",
       "      <td>25683.0</td>\n",
       "    </tr>\n",
       "    <tr>\n",
       "      <th>40</th>\n",
       "      <td>N04aLpZ0SJ8</td>\n",
       "      <td>How Russia’s Disinformation Spreads Beyond Its...</td>\n",
       "      <td>-0.145117</td>\n",
       "      <td>598111</td>\n",
       "      <td>10924.0</td>\n",
       "    </tr>\n",
       "    <tr>\n",
       "      <th>41</th>\n",
       "      <td>pCnlxfBgq4o</td>\n",
       "      <td>Ukrainians Identify Bodies in Bucha | Russia-U...</td>\n",
       "      <td>-0.211044</td>\n",
       "      <td>145377</td>\n",
       "      <td>1831.0</td>\n",
       "    </tr>\n",
       "    <tr>\n",
       "      <th>42</th>\n",
       "      <td>SJn1ZFEi3Mo</td>\n",
       "      <td>How a Fanny Pack Attacks in ‘Everything Everyw...</td>\n",
       "      <td>0.166120</td>\n",
       "      <td>107443</td>\n",
       "      <td>2328.0</td>\n",
       "    </tr>\n",
       "    <tr>\n",
       "      <th>43</th>\n",
       "      <td>ww8PjviNPfw</td>\n",
       "      <td>The Horrors Russia Left Behind | Russia-Ukrain...</td>\n",
       "      <td>-0.078005</td>\n",
       "      <td>510675</td>\n",
       "      <td>6380.0</td>\n",
       "    </tr>\n",
       "    <tr>\n",
       "      <th>44</th>\n",
       "      <td>gCldVMfFim8</td>\n",
       "      <td>The Ukrainian Fighters Defending Kyiv | Russia...</td>\n",
       "      <td>-0.016504</td>\n",
       "      <td>3127863</td>\n",
       "      <td>33793.0</td>\n",
       "    </tr>\n",
       "    <tr>\n",
       "      <th>45</th>\n",
       "      <td>NkMsSXzRBEs</td>\n",
       "      <td>Will Doja Cat, Olivia Rodrigo, or Billie Eilis...</td>\n",
       "      <td>0.180017</td>\n",
       "      <td>32318</td>\n",
       "      <td>701.0</td>\n",
       "    </tr>\n",
       "    <tr>\n",
       "      <th>46</th>\n",
       "      <td>Ws0mMP7uM34</td>\n",
       "      <td>Escape from Mariupol | Russia-Ukraine War</td>\n",
       "      <td>-0.089089</td>\n",
       "      <td>551193</td>\n",
       "      <td>8736.0</td>\n",
       "    </tr>\n",
       "    <tr>\n",
       "      <th>47</th>\n",
       "      <td>j-88-Fttz7w</td>\n",
       "      <td>Watch Ryan Reynolds Meet His Past Self in ‘The...</td>\n",
       "      <td>0.182544</td>\n",
       "      <td>17340</td>\n",
       "      <td>318.0</td>\n",
       "    </tr>\n",
       "    <tr>\n",
       "      <th>48</th>\n",
       "      <td>DGxE64cGbZQ</td>\n",
       "      <td>Ukrainian Families Flee to Moldova | Russia-Uk...</td>\n",
       "      <td>0.111374</td>\n",
       "      <td>88731</td>\n",
       "      <td>1724.0</td>\n",
       "    </tr>\n",
       "    <tr>\n",
       "      <th>49</th>\n",
       "      <td>gOmYi96cU1M</td>\n",
       "      <td>Russia Struggled to Capture a Ukrainian Town. ...</td>\n",
       "      <td>-0.131845</td>\n",
       "      <td>5336004</td>\n",
       "      <td>79281.0</td>\n",
       "    </tr>\n",
       "  </tbody>\n",
       "</table>\n",
       "</div>"
      ],
      "text/plain": [
       "       video_id                                          vid_title  \\\n",
       "0   FJvnn0qRWb4  Watch Warriors in Training in ‘The Woman King’...   \n",
       "1   O5d1Cclk5QA  I Sold the French Laundry. Then It Became \"The...   \n",
       "2   ccVH_1g-kCY  OB-GYNs Confront Legal Impact of Abortion Bans...   \n",
       "3   0bw7rJ2eZaA        The Legacy of Elizabeth II: The Media Queen   \n",
       "4   m5aWtcx02ZI  Jonathan Pie: Welcome to Britain. Everything i...   \n",
       "5   3-MzNPcEh6M  I Have Face Blindness. This Is How I Recognize...   \n",
       "6   m0E_wMIwfSI  I Stutter. But I Need You to Listen. | NYT Opi...   \n",
       "7   4oyL1aESwSk  Watch a Tense Pool Scene From ‘Bodies Bodies B...   \n",
       "8   X04HKyW-3hc  What a Legally Blind Person Can See | NYT Opinion   \n",
       "9   eMGqvUZjkH8                       Kill Your Lawn | NYT Opinion   \n",
       "10  UlAOP8GIuIY  Watch Daniel Kaluuya Face a U.F.O. in ‘Nope’ |...   \n",
       "11  pjn_MJx-mJ8  How Much Does Your M.R.I. Cost? Buy It First t...   \n",
       "12  yOy5BMItCuU  Watch Chris Hemsworth and Natalie Portman Reun...   \n",
       "13  -p0x_woeZD8  Underground Abortion Pills, From Mexico to the...   \n",
       "14  RilwnjDwTOc  We Debunk the Latest Corporate Climate Lie | N...   \n",
       "15  IAWtx-rsXpo  America Is Failing Refugees, And Itself. Here'...   \n",
       "16  DHJtdX481is  Watch Austin Butler Cause Hysteria in ‘Elvis’ ...   \n",
       "17  tjIgYs81mB8  How I Had an Abortion at Home in Texas | NYT O...   \n",
       "18  faL6ERtj5oM  MINK! — My Mom Fought For Title IX, but It Alm...   \n",
       "19  mX80JIl6vFs  He Was the N.R.A.’s ‘Pointman.’ An Unlikely Fr...   \n",
       "20  Oo_FM3mjBCY  How China’s Surveillance Is Growing More Invas...   \n",
       "21  2D_Ogifqm2c  The Ukrainians Sent to Russia’s ‘Filtration Ca...   \n",
       "22  -DfLbrUa5Ng  How the Proud Boys Breached the Capitol | Visu...   \n",
       "23  9RnjVFZoHuc  Watch Bryce Dallas Howard’s Slow Escape in ‘Ju...   \n",
       "24  43nX7uzD-Lc  What Does It Mean to Be Alive in Profound Isol...   \n",
       "25  iZhjGQlq9io  How Does It Feel to Be Russian Right Now? | NY...   \n",
       "26  y3LPHMl5cqw  Independent Journalism | The New York Times | ...   \n",
       "27  jji9hiaAMvc  Independent Journalism | The New York Times | ...   \n",
       "28  v1_ilS5zku8    48 Hours in A Kansas Abortion Clinic | NYT News   \n",
       "29  j4qwMGd2wmQ  Watch Tom Cruise Go Hypersonic in ‘Top Gun: Ma...   \n",
       "30  QJaCliumTcA  What the Pandemic Can Teach Us About Endings |...   \n",
       "31  pCCTf17ZiIs  Twenty Years of Putin Playing the West in 3 Mi...   \n",
       "32  AhJiSZHHHHs  Watch Jessie Buckley Take a Haunting Tunnel Wa...   \n",
       "33  UjmhDyJhgvs  I'm a College Student with a Disability. Stop ...   \n",
       "34  lzmyO0E5ClU  Russia’s Attacks on Ukrainian Hospitals Show a...   \n",
       "35  CawT_sqiBxo  Have You Considered the Benefits of Crying? | ...   \n",
       "36  tuGdOAY33MI  Watch Alexander Skarsgard Battle the Undead in...   \n",
       "37  Wr7BrKOX6bE  Teens Are In Crisis. Here’s Why. | The New Yor...   \n",
       "38  Q8DrPYj-REc  How Nicolas Cage Parodies Himself in ‘Massive ...   \n",
       "39  ODU_QasrkcQ  Under Attack in Ukraine’s Southeast | Russia-U...   \n",
       "40  N04aLpZ0SJ8  How Russia’s Disinformation Spreads Beyond Its...   \n",
       "41  pCnlxfBgq4o  Ukrainians Identify Bodies in Bucha | Russia-U...   \n",
       "42  SJn1ZFEi3Mo  How a Fanny Pack Attacks in ‘Everything Everyw...   \n",
       "43  ww8PjviNPfw  The Horrors Russia Left Behind | Russia-Ukrain...   \n",
       "44  gCldVMfFim8  The Ukrainian Fighters Defending Kyiv | Russia...   \n",
       "45  NkMsSXzRBEs  Will Doja Cat, Olivia Rodrigo, or Billie Eilis...   \n",
       "46  Ws0mMP7uM34          Escape from Mariupol | Russia-Ukraine War   \n",
       "47  j-88-Fttz7w  Watch Ryan Reynolds Meet His Past Self in ‘The...   \n",
       "48  DGxE64cGbZQ  Ukrainian Families Flee to Moldova | Russia-Uk...   \n",
       "49  gOmYi96cU1M  Russia Struggled to Capture a Ukrainian Town. ...   \n",
       "\n",
       "    avg_comp_sentiment vid_viewcount  vid_likecount  \n",
       "0                  NaN          2081          152.0  \n",
       "1             0.539888         47866         2170.0  \n",
       "2            -0.154864         11569          603.0  \n",
       "3             0.077100         55968         2049.0  \n",
       "4             0.040505        878372        44490.0  \n",
       "5             0.349753         19655          736.0  \n",
       "6             0.248334         36553         2138.0  \n",
       "7             0.214835         31856          407.0  \n",
       "8             0.351140         23455         1149.0  \n",
       "9             0.118600         85999         3603.0  \n",
       "10            0.090721         61440         1034.0  \n",
       "11            0.108257         24484         1169.0  \n",
       "12            0.109195         28769          377.0  \n",
       "13           -0.008379         17352          756.0  \n",
       "14           -0.014841        282748        13266.0  \n",
       "15           -0.045398         31379         1233.0  \n",
       "16            0.169278        303334         2991.0  \n",
       "17           -0.183299        283620         8811.0  \n",
       "18            0.313953         23927         1104.0  \n",
       "19            0.057082         18360          918.0  \n",
       "20            0.028863        257991         9791.0  \n",
       "21           -0.075310        125225         2404.0  \n",
       "22           -0.012082        116654         4699.0  \n",
       "23            0.049167       2700795         8522.0  \n",
       "24            0.271413         23829          770.0  \n",
       "25           -0.127760         31025         1092.0  \n",
       "26            0.085061       1167620          271.0  \n",
       "27            0.022606          9697          222.0  \n",
       "28           -0.053823        116280         4552.0  \n",
       "29            0.211171       1070291        10669.0  \n",
       "30            0.023059         23437          865.0  \n",
       "31           -0.000321        719851        17759.0  \n",
       "32            0.154862         29412          613.0  \n",
       "33            0.349686         33013          913.0  \n",
       "34           -0.170264         24462          943.0  \n",
       "35           -0.012251         22016          682.0  \n",
       "36            0.020674         30304          552.0  \n",
       "37            0.013058        273796        11255.0  \n",
       "38            0.009053         33873          482.0  \n",
       "39           -0.058130       2417448        25683.0  \n",
       "40           -0.145117        598111        10924.0  \n",
       "41           -0.211044        145377         1831.0  \n",
       "42            0.166120        107443         2328.0  \n",
       "43           -0.078005        510675         6380.0  \n",
       "44           -0.016504       3127863        33793.0  \n",
       "45            0.180017         32318          701.0  \n",
       "46           -0.089089        551193         8736.0  \n",
       "47            0.182544         17340          318.0  \n",
       "48            0.111374         88731         1724.0  \n",
       "49           -0.131845       5336004        79281.0  "
      ]
     },
     "execution_count": 19,
     "metadata": {},
     "output_type": "execute_result"
    }
   ],
   "source": [
    "video_comp_sentiments"
   ]
  },
  {
   "cell_type": "code",
   "execution_count": 20,
   "metadata": {},
   "outputs": [
    {
     "data": {
      "text/plain": [
       "Renderers configuration\n",
       "-----------------------\n",
       "    Default renderer: 'vscode'\n",
       "    Available renderers:\n",
       "        ['plotly_mimetype', 'jupyterlab', 'nteract', 'vscode',\n",
       "         'notebook', 'notebook_connected', 'kaggle', 'azure', 'colab',\n",
       "         'cocalc', 'databricks', 'json', 'png', 'jpeg', 'jpg', 'svg',\n",
       "         'pdf', 'browser', 'firefox', 'chrome', 'chromium', 'iframe',\n",
       "         'iframe_connected', 'sphinx_gallery', 'sphinx_gallery_png']"
      ]
     },
     "execution_count": 20,
     "metadata": {},
     "output_type": "execute_result"
    }
   ],
   "source": [
    "import plotly.io as pio\n",
    "\n",
    "pio.renderers"
   ]
  },
  {
   "cell_type": "code",
   "execution_count": 21,
   "metadata": {},
   "outputs": [
    {
     "name": "stdout",
     "output_type": "stream",
     "text": [
      "Requirement already satisfied: orca in /Users/junwonchoi/opt/anaconda3/lib/python3.9/site-packages (1.7)\n",
      "Requirement already satisfied: tables>=3.1 in /Users/junwonchoi/opt/anaconda3/lib/python3.9/site-packages (from orca) (3.6.1)\n",
      "Requirement already satisfied: toolz>=0.8.1 in /Users/junwonchoi/opt/anaconda3/lib/python3.9/site-packages (from orca) (0.11.1)\n",
      "Requirement already satisfied: pandas>=0.15.0 in /Users/junwonchoi/opt/anaconda3/lib/python3.9/site-packages (from orca) (1.3.4)\n",
      "Requirement already satisfied: python-dateutil>=2.7.3 in /Users/junwonchoi/opt/anaconda3/lib/python3.9/site-packages (from pandas>=0.15.0->orca) (2.8.2)\n",
      "Requirement already satisfied: pytz>=2017.3 in /Users/junwonchoi/opt/anaconda3/lib/python3.9/site-packages (from pandas>=0.15.0->orca) (2021.3)\n",
      "Requirement already satisfied: numpy>=1.17.3 in /Users/junwonchoi/opt/anaconda3/lib/python3.9/site-packages (from pandas>=0.15.0->orca) (1.20.3)\n",
      "Requirement already satisfied: numexpr>=2.6.2 in /Users/junwonchoi/opt/anaconda3/lib/python3.9/site-packages (from tables>=3.1->orca) (2.7.3)\n",
      "Requirement already satisfied: six>=1.5 in /Users/junwonchoi/opt/anaconda3/lib/python3.9/site-packages (from python-dateutil>=2.7.3->pandas>=0.15.0->orca) (1.16.0)\n",
      "Note: you may need to restart the kernel to use updated packages.\n"
     ]
    }
   ],
   "source": [
    "pip install orca"
   ]
  },
  {
   "cell_type": "code",
   "execution_count": 22,
   "metadata": {},
   "outputs": [],
   "source": [
    "import plotly.express as px\n",
    "import plotly.graph_objects as go\n",
    "from plotly.subplots import make_subplots"
   ]
  },
  {
   "cell_type": "code",
   "execution_count": 23,
   "metadata": {},
   "outputs": [
    {
     "name": "stdout",
     "output_type": "stream",
     "text": [
      "Requirement already satisfied: kaleido in /Users/junwonchoi/opt/anaconda3/lib/python3.9/site-packages (0.2.1)\n",
      "Note: you may need to restart the kernel to use updated packages.\n"
     ]
    }
   ],
   "source": [
    "pip install -U kaleido"
   ]
  },
  {
   "cell_type": "code",
   "execution_count": 24,
   "metadata": {},
   "outputs": [
    {
     "data": {
      "image/svg+xml": "<svg class=\"main-svg\" xmlns=\"http://www.w3.org/2000/svg\" xmlns:xlink=\"http://www.w3.org/1999/xlink\" width=\"700\" height=\"500\" style=\"\" viewBox=\"0 0 700 500\"><rect x=\"0\" y=\"0\" width=\"700\" height=\"500\" style=\"fill: rgb(255, 255, 255); fill-opacity: 1;\"/><defs id=\"defs-517fd4\"><g class=\"clips\"><clipPath id=\"clip517fd4xyplot\" class=\"plotclip\"><rect width=\"479.4\" height=\"320\"/></clipPath><clipPath id=\"clip517fd4xy2plot\" class=\"plotclip\"><rect width=\"479.4\" height=\"320\"/></clipPath><clipPath class=\"axesclip\" id=\"clip517fd4x\"><rect x=\"80\" y=\"0\" width=\"479.4\" height=\"500\"/></clipPath><clipPath class=\"axesclip\" id=\"clip517fd4y\"><rect x=\"0\" y=\"100\" width=\"700\" height=\"320\"/></clipPath><clipPath class=\"axesclip\" id=\"clip517fd4xy\"><rect x=\"80\" y=\"100\" width=\"479.4\" height=\"320\"/></clipPath><clipPath class=\"axesclip\" id=\"clip517fd4y2\"><rect x=\"0\" y=\"100\" width=\"700\" height=\"320\"/></clipPath><clipPath class=\"axesclip\" id=\"clip517fd4xy2\"><rect x=\"80\" y=\"100\" width=\"479.4\" height=\"320\"/></clipPath></g><g class=\"gradients\"/><g class=\"patterns\"/></defs><g class=\"bglayer\"><rect class=\"bg\" x=\"80\" y=\"100\" width=\"479.4\" height=\"320\" style=\"fill: rgb(229, 236, 246); fill-opacity: 1; stroke-width: 0;\"/></g><g class=\"layer-below\"><g class=\"imagelayer\"/><g class=\"shapelayer\"/></g><g class=\"cartesianlayer\"><g class=\"subplot xy\"><g class=\"layer-subplot\"><g class=\"shapelayer\"/><g class=\"imagelayer\"/></g><g class=\"gridlayer\"><g class=\"x\"><path class=\"xgrid crisp\" transform=\"translate(113.96000000000001,0)\" d=\"M0,100v320\" style=\"stroke: rgb(255, 255, 255); stroke-opacity: 1; stroke-width: 1px;\"/><path class=\"xgrid crisp\" transform=\"translate(339.79,0)\" d=\"M0,100v320\" style=\"stroke: rgb(255, 255, 255); stroke-opacity: 1; stroke-width: 1px;\"/><path class=\"xgrid crisp\" transform=\"translate(452.7,0)\" d=\"M0,100v320\" style=\"stroke: rgb(255, 255, 255); stroke-opacity: 1; stroke-width: 1px;\"/></g><g class=\"y\"><path class=\"ygrid crisp\" transform=\"translate(0,347.77)\" d=\"M80,0h479.4\" style=\"stroke: rgb(255, 255, 255); stroke-opacity: 1; stroke-width: 1px;\"/><path class=\"ygrid crisp\" transform=\"translate(0,295.18)\" d=\"M80,0h479.4\" style=\"stroke: rgb(255, 255, 255); stroke-opacity: 1; stroke-width: 1px;\"/><path class=\"ygrid crisp\" transform=\"translate(0,242.6)\" d=\"M80,0h479.4\" style=\"stroke: rgb(255, 255, 255); stroke-opacity: 1; stroke-width: 1px;\"/><path class=\"ygrid crisp\" transform=\"translate(0,190.01)\" d=\"M80,0h479.4\" style=\"stroke: rgb(255, 255, 255); stroke-opacity: 1; stroke-width: 1px;\"/><path class=\"ygrid crisp\" transform=\"translate(0,137.42000000000002)\" d=\"M80,0h479.4\" style=\"stroke: rgb(255, 255, 255); stroke-opacity: 1; stroke-width: 1px;\"/></g><g class=\"y2\"><path class=\"y2grid crisp\" transform=\"translate(0,329.89)\" d=\"M80,0h479.4\" style=\"stroke: rgb(255, 255, 255); stroke-opacity: 1; stroke-width: 1px;\"/><path class=\"y2grid crisp\" transform=\"translate(0,259)\" d=\"M80,0h479.4\" style=\"stroke: rgb(255, 255, 255); stroke-opacity: 1; stroke-width: 1px;\"/><path class=\"y2grid crisp\" transform=\"translate(0,188.1)\" d=\"M80,0h479.4\" style=\"stroke: rgb(255, 255, 255); stroke-opacity: 1; stroke-width: 1px;\"/><path class=\"y2grid crisp\" transform=\"translate(0,117.2)\" d=\"M80,0h479.4\" style=\"stroke: rgb(255, 255, 255); stroke-opacity: 1; stroke-width: 1px;\"/></g></g><g class=\"zerolinelayer\"><path class=\"xzl zl crisp\" transform=\"translate(226.87,0)\" d=\"M0,100v320\" style=\"stroke: rgb(255, 255, 255); stroke-opacity: 1; stroke-width: 2px;\"/><path class=\"yzl zl crisp\" transform=\"translate(0,400.36)\" d=\"M80,0h479.4\" style=\"stroke: rgb(255, 255, 255); stroke-opacity: 1; stroke-width: 2px;\"/><path class=\"y2zl zl crisp\" transform=\"translate(0,400.79)\" d=\"M80,0h479.4\" style=\"stroke: rgb(255, 255, 255); stroke-opacity: 1; stroke-width: 2px;\"/></g><path class=\"xlines-below\"/><path class=\"ylines-below\"/><g class=\"overlines-below\"><path class=\"xy2-x\"/><path class=\"xy2-y\"/></g><g class=\"xaxislayer-below\"/><g class=\"yaxislayer-below\"/><g class=\"overaxes-below\"><g class=\"xy2-x\"/><g class=\"xy2-y\"/></g><g class=\"plot\" transform=\"translate(80,100)\" clip-path=\"url(#clip517fd4xyplot)\"><g class=\"scatterlayer mlayer\"><g class=\"trace scatter trace303cf1\" style=\"stroke-miterlimit: 2; opacity: 1;\"><g class=\"fills\"/><g class=\"errorbars\"/><g class=\"lines\"/><g class=\"points\"><path class=\"point\" transform=\"translate(451.68,297.84)\" d=\"M3,0A3,3 0 1,1 0,-3A3,3 0 0,1 3,0Z\" style=\"opacity: 1; stroke-width: 0px; fill: rgb(0, 0, 255); fill-opacity: 1;\"/><path class=\"point\" transform=\"translate(59.44,299.75)\" d=\"M3,0A3,3 0 1,1 0,-3A3,3 0 0,1 3,0Z\" style=\"opacity: 1; stroke-width: 0px; fill: rgb(0, 0, 255); fill-opacity: 1;\"/><path class=\"point\" transform=\"translate(190.4,297.42)\" d=\"M3,0A3,3 0 1,1 0,-3A3,3 0 0,1 3,0Z\" style=\"opacity: 1; stroke-width: 0px; fill: rgb(0, 0, 255); fill-opacity: 1;\"/><path class=\"point\" transform=\"translate(169.74,254.17)\" d=\"M3,0A3,3 0 1,1 0,-3A3,3 0 0,1 3,0Z\" style=\"opacity: 1; stroke-width: 0px; fill: rgb(0, 0, 255); fill-opacity: 1;\"/><path class=\"point\" transform=\"translate(344.33,299.33)\" d=\"M3,0A3,3 0 1,1 0,-3A3,3 0 0,1 3,0Z\" style=\"opacity: 1; stroke-width: 0px; fill: rgb(0, 0, 255); fill-opacity: 1;\"/><path class=\"point\" transform=\"translate(287.07,298.44)\" d=\"M3,0A3,3 0 1,1 0,-3A3,3 0 0,1 3,0Z\" style=\"opacity: 1; stroke-width: 0px; fill: rgb(0, 0, 255); fill-opacity: 1;\"/><path class=\"point\" transform=\"translate(268.16,298.68)\" d=\"M3,0A3,3 0 1,1 0,-3A3,3 0 0,1 3,0Z\" style=\"opacity: 1; stroke-width: 0px; fill: rgb(0, 0, 255); fill-opacity: 1;\"/><path class=\"point\" transform=\"translate(345.12,299.13)\" d=\"M3,0A3,3 0 1,1 0,-3A3,3 0 0,1 3,0Z\" style=\"opacity: 1; stroke-width: 0px; fill: rgb(0, 0, 255); fill-opacity: 1;\"/><path class=\"point\" transform=\"translate(213.83,295.84)\" d=\"M3,0A3,3 0 1,1 0,-3A3,3 0 0,1 3,0Z\" style=\"opacity: 1; stroke-width: 0px; fill: rgb(0, 0, 255); fill-opacity: 1;\"/><path class=\"point\" transform=\"translate(198.09,297.13)\" d=\"M3,0A3,3 0 1,1 0,-3A3,3 0 0,1 3,0Z\" style=\"opacity: 1; stroke-width: 0px; fill: rgb(0, 0, 255); fill-opacity: 1;\"/><path class=\"point\" transform=\"translate(207.99,299.07)\" d=\"M3,0A3,3 0 1,1 0,-3A3,3 0 0,1 3,0Z\" style=\"opacity: 1; stroke-width: 0px; fill: rgb(0, 0, 255); fill-opacity: 1;\"/><path class=\"point\" transform=\"translate(208.52,298.85)\" d=\"M3,0A3,3 0 1,1 0,-3A3,3 0 0,1 3,0Z\" style=\"opacity: 1; stroke-width: 0px; fill: rgb(0, 0, 255); fill-opacity: 1;\"/><path class=\"point\" transform=\"translate(142.14,299.45)\" d=\"M3,0A3,3 0 1,1 0,-3A3,3 0 0,1 3,0Z\" style=\"opacity: 1; stroke-width: 0px; fill: rgb(0, 0, 255); fill-opacity: 1;\"/><path class=\"point\" transform=\"translate(138.49,285.49)\" d=\"M3,0A3,3 0 1,1 0,-3A3,3 0 0,1 3,0Z\" style=\"opacity: 1; stroke-width: 0px; fill: rgb(0, 0, 255); fill-opacity: 1;\"/><path class=\"point\" transform=\"translate(121.24,298.71)\" d=\"M3,0A3,3 0 1,1 0,-3A3,3 0 0,1 3,0Z\" style=\"opacity: 1; stroke-width: 0px; fill: rgb(0, 0, 255); fill-opacity: 1;\"/><path class=\"point\" transform=\"translate(242.44,284.41)\" d=\"M3,0A3,3 0 1,1 0,-3A3,3 0 0,1 3,0Z\" style=\"opacity: 1; stroke-width: 0px; fill: rgb(0, 0, 255); fill-opacity: 1;\"/><path class=\"point\" transform=\"translate(43.38,285.44)\" d=\"M3,0A3,3 0 1,1 0,-3A3,3 0 0,1 3,0Z\" style=\"opacity: 1; stroke-width: 0px; fill: rgb(0, 0, 255); fill-opacity: 1;\"/><path class=\"point\" transform=\"translate(324.12,299.1)\" d=\"M3,0A3,3 0 1,1 0,-3A3,3 0 0,1 3,0Z\" style=\"opacity: 1; stroke-width: 0px; fill: rgb(0, 0, 255); fill-opacity: 1;\"/><path class=\"point\" transform=\"translate(179.1,299.39)\" d=\"M3,0A3,3 0 1,1 0,-3A3,3 0 0,1 3,0Z\" style=\"opacity: 1; stroke-width: 0px; fill: rgb(0, 0, 255); fill-opacity: 1;\"/><path class=\"point\" transform=\"translate(163.17,286.79)\" d=\"M3,0A3,3 0 1,1 0,-3A3,3 0 0,1 3,0Z\" style=\"opacity: 1; stroke-width: 0px; fill: rgb(0, 0, 255); fill-opacity: 1;\"/><path class=\"point\" transform=\"translate(104.35,293.77)\" d=\"M3,0A3,3 0 1,1 0,-3A3,3 0 0,1 3,0Z\" style=\"opacity: 1; stroke-width: 0px; fill: rgb(0, 0, 255); fill-opacity: 1;\"/><path class=\"point\" transform=\"translate(140.05,294.22)\" d=\"M3,0A3,3 0 1,1 0,-3A3,3 0 0,1 3,0Z\" style=\"opacity: 1; stroke-width: 0px; fill: rgb(0, 0, 255); fill-opacity: 1;\"/><path class=\"point\" transform=\"translate(174.63,158.33)\" d=\"M3,0A3,3 0 1,1 0,-3A3,3 0 0,1 3,0Z\" style=\"opacity: 1; stroke-width: 0px; fill: rgb(0, 0, 255); fill-opacity: 1;\"/><path class=\"point\" transform=\"translate(300.1,299.11)\" d=\"M3,0A3,3 0 1,1 0,-3A3,3 0 0,1 3,0Z\" style=\"opacity: 1; stroke-width: 0px; fill: rgb(0, 0, 255); fill-opacity: 1;\"/><path class=\"point\" transform=\"translate(74.74,298.73)\" d=\"M3,0A3,3 0 1,1 0,-3A3,3 0 0,1 3,0Z\" style=\"opacity: 1; stroke-width: 0px; fill: rgb(0, 0, 255); fill-opacity: 1;\"/><path class=\"point\" transform=\"translate(194.89,238.96)\" d=\"M3,0A3,3 0 1,1 0,-3A3,3 0 0,1 3,0Z\" style=\"opacity: 1; stroke-width: 0px; fill: rgb(0, 0, 255); fill-opacity: 1;\"/><path class=\"point\" transform=\"translate(159.63,299.85)\" d=\"M3,0A3,3 0 1,1 0,-3A3,3 0 0,1 3,0Z\" style=\"opacity: 1; stroke-width: 0px; fill: rgb(0, 0, 255); fill-opacity: 1;\"/><path class=\"point\" transform=\"translate(116.48,294.24)\" d=\"M3,0A3,3 0 1,1 0,-3A3,3 0 0,1 3,0Z\" style=\"opacity: 1; stroke-width: 0px; fill: rgb(0, 0, 255); fill-opacity: 1;\"/><path class=\"point\" transform=\"translate(266.09,244.08)\" d=\"M3,0A3,3 0 1,1 0,-3A3,3 0 0,1 3,0Z\" style=\"opacity: 1; stroke-width: 0px; fill: rgb(0, 0, 255); fill-opacity: 1;\"/><path class=\"point\" transform=\"translate(159.89,299.13)\" d=\"M3,0A3,3 0 1,1 0,-3A3,3 0 0,1 3,0Z\" style=\"opacity: 1; stroke-width: 0px; fill: rgb(0, 0, 255); fill-opacity: 1;\"/><path class=\"point\" transform=\"translate(146.69,262.5)\" d=\"M3,0A3,3 0 1,1 0,-3A3,3 0 0,1 3,0Z\" style=\"opacity: 1; stroke-width: 0px; fill: rgb(0, 0, 255); fill-opacity: 1;\"/><path class=\"point\" transform=\"translate(234.3,298.81)\" d=\"M3,0A3,3 0 1,1 0,-3A3,3 0 0,1 3,0Z\" style=\"opacity: 1; stroke-width: 0px; fill: rgb(0, 0, 255); fill-opacity: 1;\"/><path class=\"point\" transform=\"translate(344.3,298.62)\" d=\"M3,0A3,3 0 1,1 0,-3A3,3 0 0,1 3,0Z\" style=\"opacity: 1; stroke-width: 0px; fill: rgb(0, 0, 255); fill-opacity: 1;\"/><path class=\"point\" transform=\"translate(50.74,299.07)\" d=\"M3,0A3,3 0 1,1 0,-3A3,3 0 0,1 3,0Z\" style=\"opacity: 1; stroke-width: 0px; fill: rgb(0, 0, 255); fill-opacity: 1;\"/><path class=\"point\" transform=\"translate(139.95,299.2)\" d=\"M3,0A3,3 0 1,1 0,-3A3,3 0 0,1 3,0Z\" style=\"opacity: 1; stroke-width: 0px; fill: rgb(0, 0, 255); fill-opacity: 1;\"/><path class=\"point\" transform=\"translate(158.54,298.77)\" d=\"M3,0A3,3 0 1,1 0,-3A3,3 0 0,1 3,0Z\" style=\"opacity: 1; stroke-width: 0px; fill: rgb(0, 0, 255); fill-opacity: 1;\"/><path class=\"point\" transform=\"translate(154.24,285.96)\" d=\"M3,0A3,3 0 1,1 0,-3A3,3 0 0,1 3,0Z\" style=\"opacity: 1; stroke-width: 0px; fill: rgb(0, 0, 255); fill-opacity: 1;\"/><path class=\"point\" transform=\"translate(151.98,298.58)\" d=\"M3,0A3,3 0 1,1 0,-3A3,3 0 0,1 3,0Z\" style=\"opacity: 1; stroke-width: 0px; fill: rgb(0, 0, 255); fill-opacity: 1;\"/><path class=\"point\" transform=\"translate(114.05,173.23)\" d=\"M3,0A3,3 0 1,1 0,-3A3,3 0 0,1 3,0Z\" style=\"opacity: 1; stroke-width: 0px; fill: rgb(0, 0, 255); fill-opacity: 1;\"/><path class=\"point\" transform=\"translate(64.94,268.91)\" d=\"M3,0A3,3 0 1,1 0,-3A3,3 0 0,1 3,0Z\" style=\"opacity: 1; stroke-width: 0px; fill: rgb(0, 0, 255); fill-opacity: 1;\"/><path class=\"point\" transform=\"translate(27.72,292.71)\" d=\"M3,0A3,3 0 1,1 0,-3A3,3 0 0,1 3,0Z\" style=\"opacity: 1; stroke-width: 0px; fill: rgb(0, 0, 255); fill-opacity: 1;\"/><path class=\"point\" transform=\"translate(240.66,294.71)\" d=\"M3,0A3,3 0 1,1 0,-3A3,3 0 0,1 3,0Z\" style=\"opacity: 1; stroke-width: 0px; fill: rgb(0, 0, 255); fill-opacity: 1;\"/><path class=\"point\" transform=\"translate(102.83,273.5)\" d=\"M3,0A3,3 0 1,1 0,-3A3,3 0 0,1 3,0Z\" style=\"opacity: 1; stroke-width: 0px; fill: rgb(0, 0, 255); fill-opacity: 1;\"/><path class=\"point\" transform=\"translate(137.55,135.87)\" d=\"M3,0A3,3 0 1,1 0,-3A3,3 0 0,1 3,0Z\" style=\"opacity: 1; stroke-width: 0px; fill: rgb(0, 0, 255); fill-opacity: 1;\"/><path class=\"point\" transform=\"translate(248.5,298.66)\" d=\"M3,0A3,3 0 1,1 0,-3A3,3 0 0,1 3,0Z\" style=\"opacity: 1; stroke-width: 0px; fill: rgb(0, 0, 255); fill-opacity: 1;\"/><path class=\"point\" transform=\"translate(96.57,271.37)\" d=\"M3,0A3,3 0 1,1 0,-3A3,3 0 0,1 3,0Z\" style=\"opacity: 1; stroke-width: 0px; fill: rgb(0, 0, 255); fill-opacity: 1;\"/><path class=\"point\" transform=\"translate(249.93,299.45)\" d=\"M3,0A3,3 0 1,1 0,-3A3,3 0 0,1 3,0Z\" style=\"opacity: 1; stroke-width: 0px; fill: rgb(0, 0, 255); fill-opacity: 1;\"/><path class=\"point\" transform=\"translate(209.75,295.69)\" d=\"M3,0A3,3 0 1,1 0,-3A3,3 0 0,1 3,0Z\" style=\"opacity: 1; stroke-width: 0px; fill: rgb(0, 0, 255); fill-opacity: 1;\"/><path class=\"point\" transform=\"translate(72.43,19.75)\" d=\"M3,0A3,3 0 1,1 0,-3A3,3 0 0,1 3,0Z\" style=\"opacity: 1; stroke-width: 0px; fill: rgb(0, 0, 255); fill-opacity: 1;\"/></g><g class=\"text\"/></g></g></g><g class=\"overplot\"><g class=\"xy2\" transform=\"translate(80,100)\" clip-path=\"url(#clip517fd4xy2plot)\"><g class=\"scatterlayer mlayer\"><g class=\"trace scatter trace5eb93f\" style=\"stroke-miterlimit: 2; opacity: 1;\"><g class=\"fills\"/><g class=\"errorbars\"/><g class=\"lines\"/><g class=\"points\"><path class=\"point\" transform=\"translate(451.68,293.1)\" d=\"M3,0A3,3 0 1,1 0,-3A3,3 0 0,1 3,0Z\" style=\"opacity: 1; stroke-width: 0px; fill: rgb(255, 0, 0); fill-opacity: 1;\"/><path class=\"point\" transform=\"translate(59.44,298.65)\" d=\"M3,0A3,3 0 1,1 0,-3A3,3 0 0,1 3,0Z\" style=\"opacity: 1; stroke-width: 0px; fill: rgb(255, 0, 0); fill-opacity: 1;\"/><path class=\"point\" transform=\"translate(190.4,293.53)\" d=\"M3,0A3,3 0 1,1 0,-3A3,3 0 0,1 3,0Z\" style=\"opacity: 1; stroke-width: 0px; fill: rgb(255, 0, 0); fill-opacity: 1;\"/><path class=\"point\" transform=\"translate(169.74,143.08)\" d=\"M3,0A3,3 0 1,1 0,-3A3,3 0 0,1 3,0Z\" style=\"opacity: 1; stroke-width: 0px; fill: rgb(255, 0, 0); fill-opacity: 1;\"/><path class=\"point\" transform=\"translate(344.33,298.18)\" d=\"M3,0A3,3 0 1,1 0,-3A3,3 0 0,1 3,0Z\" style=\"opacity: 1; stroke-width: 0px; fill: rgb(255, 0, 0); fill-opacity: 1;\"/><path class=\"point\" transform=\"translate(287.07,293.21)\" d=\"M3,0A3,3 0 1,1 0,-3A3,3 0 0,1 3,0Z\" style=\"opacity: 1; stroke-width: 0px; fill: rgb(255, 0, 0); fill-opacity: 1;\"/><path class=\"point\" transform=\"translate(268.16,299.35)\" d=\"M3,0A3,3 0 1,1 0,-3A3,3 0 0,1 3,0Z\" style=\"opacity: 1; stroke-width: 0px; fill: rgb(255, 0, 0); fill-opacity: 1;\"/><path class=\"point\" transform=\"translate(345.12,296.72)\" d=\"M3,0A3,3 0 1,1 0,-3A3,3 0 0,1 3,0Z\" style=\"opacity: 1; stroke-width: 0px; fill: rgb(255, 0, 0); fill-opacity: 1;\"/><path class=\"point\" transform=\"translate(213.83,288.02)\" d=\"M3,0A3,3 0 1,1 0,-3A3,3 0 0,1 3,0Z\" style=\"opacity: 1; stroke-width: 0px; fill: rgb(255, 0, 0); fill-opacity: 1;\"/><path class=\"point\" transform=\"translate(198.09,297.12)\" d=\"M3,0A3,3 0 1,1 0,-3A3,3 0 0,1 3,0Z\" style=\"opacity: 1; stroke-width: 0px; fill: rgb(255, 0, 0); fill-opacity: 1;\"/><path class=\"point\" transform=\"translate(207.99,296.64)\" d=\"M3,0A3,3 0 1,1 0,-3A3,3 0 0,1 3,0Z\" style=\"opacity: 1; stroke-width: 0px; fill: rgb(255, 0, 0); fill-opacity: 1;\"/><path class=\"point\" transform=\"translate(208.52,299.45)\" d=\"M3,0A3,3 0 1,1 0,-3A3,3 0 0,1 3,0Z\" style=\"opacity: 1; stroke-width: 0px; fill: rgb(255, 0, 0); fill-opacity: 1;\"/><path class=\"point\" transform=\"translate(142.14,298.11)\" d=\"M3,0A3,3 0 1,1 0,-3A3,3 0 0,1 3,0Z\" style=\"opacity: 1; stroke-width: 0px; fill: rgb(255, 0, 0); fill-opacity: 1;\"/><path class=\"point\" transform=\"translate(138.49,253.76)\" d=\"M3,0A3,3 0 1,1 0,-3A3,3 0 0,1 3,0Z\" style=\"opacity: 1; stroke-width: 0px; fill: rgb(255, 0, 0); fill-opacity: 1;\"/><path class=\"point\" transform=\"translate(121.24,296.42)\" d=\"M3,0A3,3 0 1,1 0,-3A3,3 0 0,1 3,0Z\" style=\"opacity: 1; stroke-width: 0px; fill: rgb(255, 0, 0); fill-opacity: 1;\"/><path class=\"point\" transform=\"translate(242.44,290.19)\" d=\"M3,0A3,3 0 1,1 0,-3A3,3 0 0,1 3,0Z\" style=\"opacity: 1; stroke-width: 0px; fill: rgb(255, 0, 0); fill-opacity: 1;\"/><path class=\"point\" transform=\"translate(43.38,269.56)\" d=\"M3,0A3,3 0 1,1 0,-3A3,3 0 0,1 3,0Z\" style=\"opacity: 1; stroke-width: 0px; fill: rgb(255, 0, 0); fill-opacity: 1;\"/><path class=\"point\" transform=\"translate(324.12,296.88)\" d=\"M3,0A3,3 0 1,1 0,-3A3,3 0 0,1 3,0Z\" style=\"opacity: 1; stroke-width: 0px; fill: rgb(255, 0, 0); fill-opacity: 1;\"/><path class=\"point\" transform=\"translate(179.1,297.53)\" d=\"M3,0A3,3 0 1,1 0,-3A3,3 0 0,1 3,0Z\" style=\"opacity: 1; stroke-width: 0px; fill: rgb(255, 0, 0); fill-opacity: 1;\"/><path class=\"point\" transform=\"translate(163.17,266.08)\" d=\"M3,0A3,3 0 1,1 0,-3A3,3 0 0,1 3,0Z\" style=\"opacity: 1; stroke-width: 0px; fill: rgb(255, 0, 0); fill-opacity: 1;\"/><path class=\"point\" transform=\"translate(104.35,292.27)\" d=\"M3,0A3,3 0 1,1 0,-3A3,3 0 0,1 3,0Z\" style=\"opacity: 1; stroke-width: 0px; fill: rgb(255, 0, 0); fill-opacity: 1;\"/><path class=\"point\" transform=\"translate(140.05,284.13)\" d=\"M3,0A3,3 0 1,1 0,-3A3,3 0 0,1 3,0Z\" style=\"opacity: 1; stroke-width: 0px; fill: rgb(255, 0, 0); fill-opacity: 1;\"/><path class=\"point\" transform=\"translate(174.63,270.58)\" d=\"M3,0A3,3 0 1,1 0,-3A3,3 0 0,1 3,0Z\" style=\"opacity: 1; stroke-width: 0px; fill: rgb(255, 0, 0); fill-opacity: 1;\"/><path class=\"point\" transform=\"translate(300.1,298.06)\" d=\"M3,0A3,3 0 1,1 0,-3A3,3 0 0,1 3,0Z\" style=\"opacity: 1; stroke-width: 0px; fill: rgb(255, 0, 0); fill-opacity: 1;\"/><path class=\"point\" transform=\"translate(74.74,296.92)\" d=\"M3,0A3,3 0 1,1 0,-3A3,3 0 0,1 3,0Z\" style=\"opacity: 1; stroke-width: 0px; fill: rgb(255, 0, 0); fill-opacity: 1;\"/><path class=\"point\" transform=\"translate(194.89,299.83)\" d=\"M3,0A3,3 0 1,1 0,-3A3,3 0 0,1 3,0Z\" style=\"opacity: 1; stroke-width: 0px; fill: rgb(255, 0, 0); fill-opacity: 1;\"/><path class=\"point\" transform=\"translate(159.63,300)\" d=\"M3,0A3,3 0 1,1 0,-3A3,3 0 0,1 3,0Z\" style=\"opacity: 1; stroke-width: 0px; fill: rgb(255, 0, 0); fill-opacity: 1;\"/><path class=\"point\" transform=\"translate(116.48,284.65)\" d=\"M3,0A3,3 0 1,1 0,-3A3,3 0 0,1 3,0Z\" style=\"opacity: 1; stroke-width: 0px; fill: rgb(255, 0, 0); fill-opacity: 1;\"/><path class=\"point\" transform=\"translate(266.09,262.97)\" d=\"M3,0A3,3 0 1,1 0,-3A3,3 0 0,1 3,0Z\" style=\"opacity: 1; stroke-width: 0px; fill: rgb(255, 0, 0); fill-opacity: 1;\"/><path class=\"point\" transform=\"translate(159.89,297.72)\" d=\"M3,0A3,3 0 1,1 0,-3A3,3 0 0,1 3,0Z\" style=\"opacity: 1; stroke-width: 0px; fill: rgb(255, 0, 0); fill-opacity: 1;\"/><path class=\"point\" transform=\"translate(146.69,237.84)\" d=\"M3,0A3,3 0 1,1 0,-3A3,3 0 0,1 3,0Z\" style=\"opacity: 1; stroke-width: 0px; fill: rgb(255, 0, 0); fill-opacity: 1;\"/><path class=\"point\" transform=\"translate(234.3,298.62)\" d=\"M3,0A3,3 0 1,1 0,-3A3,3 0 0,1 3,0Z\" style=\"opacity: 1; stroke-width: 0px; fill: rgb(255, 0, 0); fill-opacity: 1;\"/><path class=\"point\" transform=\"translate(344.3,297.55)\" d=\"M3,0A3,3 0 1,1 0,-3A3,3 0 0,1 3,0Z\" style=\"opacity: 1; stroke-width: 0px; fill: rgb(255, 0, 0); fill-opacity: 1;\"/><path class=\"point\" transform=\"translate(50.74,297.45)\" d=\"M3,0A3,3 0 1,1 0,-3A3,3 0 0,1 3,0Z\" style=\"opacity: 1; stroke-width: 0px; fill: rgb(255, 0, 0); fill-opacity: 1;\"/><path class=\"point\" transform=\"translate(139.95,298.37)\" d=\"M3,0A3,3 0 1,1 0,-3A3,3 0 0,1 3,0Z\" style=\"opacity: 1; stroke-width: 0px; fill: rgb(255, 0, 0); fill-opacity: 1;\"/><path class=\"point\" transform=\"translate(158.54,298.83)\" d=\"M3,0A3,3 0 1,1 0,-3A3,3 0 0,1 3,0Z\" style=\"opacity: 1; stroke-width: 0px; fill: rgb(255, 0, 0); fill-opacity: 1;\"/><path class=\"point\" transform=\"translate(154.24,260.89)\" d=\"M3,0A3,3 0 1,1 0,-3A3,3 0 0,1 3,0Z\" style=\"opacity: 1; stroke-width: 0px; fill: rgb(255, 0, 0); fill-opacity: 1;\"/><path class=\"point\" transform=\"translate(151.98,299.08)\" d=\"M3,0A3,3 0 1,1 0,-3A3,3 0 0,1 3,0Z\" style=\"opacity: 1; stroke-width: 0px; fill: rgb(255, 0, 0); fill-opacity: 1;\"/><path class=\"point\" transform=\"translate(114.05,209.75)\" d=\"M3,0A3,3 0 1,1 0,-3A3,3 0 0,1 3,0Z\" style=\"opacity: 1; stroke-width: 0px; fill: rgb(255, 0, 0); fill-opacity: 1;\"/><path class=\"point\" transform=\"translate(64.94,262.06)\" d=\"M3,0A3,3 0 1,1 0,-3A3,3 0 0,1 3,0Z\" style=\"opacity: 1; stroke-width: 0px; fill: rgb(255, 0, 0); fill-opacity: 1;\"/><path class=\"point\" transform=\"translate(27.72,294.3)\" d=\"M3,0A3,3 0 1,1 0,-3A3,3 0 0,1 3,0Z\" style=\"opacity: 1; stroke-width: 0px; fill: rgb(255, 0, 0); fill-opacity: 1;\"/><path class=\"point\" transform=\"translate(240.66,292.54)\" d=\"M3,0A3,3 0 1,1 0,-3A3,3 0 0,1 3,0Z\" style=\"opacity: 1; stroke-width: 0px; fill: rgb(255, 0, 0); fill-opacity: 1;\"/><path class=\"point\" transform=\"translate(102.83,278.17)\" d=\"M3,0A3,3 0 1,1 0,-3A3,3 0 0,1 3,0Z\" style=\"opacity: 1; stroke-width: 0px; fill: rgb(255, 0, 0); fill-opacity: 1;\"/><path class=\"point\" transform=\"translate(137.55,181)\" d=\"M3,0A3,3 0 1,1 0,-3A3,3 0 0,1 3,0Z\" style=\"opacity: 1; stroke-width: 0px; fill: rgb(255, 0, 0); fill-opacity: 1;\"/><path class=\"point\" transform=\"translate(248.5,298.3)\" d=\"M3,0A3,3 0 1,1 0,-3A3,3 0 0,1 3,0Z\" style=\"opacity: 1; stroke-width: 0px; fill: rgb(255, 0, 0); fill-opacity: 1;\"/><path class=\"point\" transform=\"translate(96.57,269.82)\" d=\"M3,0A3,3 0 1,1 0,-3A3,3 0 0,1 3,0Z\" style=\"opacity: 1; stroke-width: 0px; fill: rgb(255, 0, 0); fill-opacity: 1;\"/><path class=\"point\" transform=\"translate(249.93,299.66)\" d=\"M3,0A3,3 0 1,1 0,-3A3,3 0 0,1 3,0Z\" style=\"opacity: 1; stroke-width: 0px; fill: rgb(255, 0, 0); fill-opacity: 1;\"/><path class=\"point\" transform=\"translate(209.75,294.68)\" d=\"M3,0A3,3 0 1,1 0,-3A3,3 0 0,1 3,0Z\" style=\"opacity: 1; stroke-width: 0px; fill: rgb(255, 0, 0); fill-opacity: 1;\"/><path class=\"point\" transform=\"translate(72.43,19.75)\" d=\"M3,0A3,3 0 1,1 0,-3A3,3 0 0,1 3,0Z\" style=\"opacity: 1; stroke-width: 0px; fill: rgb(255, 0, 0); fill-opacity: 1;\"/></g><g class=\"text\"/></g></g></g></g><path class=\"xlines-above crisp\" d=\"M0,0\" style=\"fill: none;\"/><path class=\"ylines-above crisp\" d=\"M0,0\" style=\"fill: none;\"/><g class=\"overlines-above\"><path class=\"xy2-x crisp\" d=\"M0,0\" style=\"fill: none;\"/><path class=\"xy2-y crisp\" d=\"M0,0\" style=\"fill: none;\"/></g><g class=\"xaxislayer-above\"><g class=\"xtick\"><text text-anchor=\"middle\" x=\"0\" y=\"433\" transform=\"translate(113.96000000000001,0)\" style=\"font-family: 'Open Sans', verdana, arial, sans-serif; font-size: 12px; fill: rgb(42, 63, 95); fill-opacity: 1; white-space: pre; opacity: 1;\">−0.2</text></g><g class=\"xtick\"><text text-anchor=\"middle\" x=\"0\" y=\"433\" style=\"font-family: 'Open Sans', verdana, arial, sans-serif; font-size: 12px; fill: rgb(42, 63, 95); fill-opacity: 1; white-space: pre; opacity: 1;\" transform=\"translate(226.87,0)\">0</text></g><g class=\"xtick\"><text text-anchor=\"middle\" x=\"0\" y=\"433\" style=\"font-family: 'Open Sans', verdana, arial, sans-serif; font-size: 12px; fill: rgb(42, 63, 95); fill-opacity: 1; white-space: pre; opacity: 1;\" transform=\"translate(339.79,0)\">0.2</text></g><g class=\"xtick\"><text text-anchor=\"middle\" x=\"0\" y=\"433\" style=\"font-family: 'Open Sans', verdana, arial, sans-serif; font-size: 12px; fill: rgb(42, 63, 95); fill-opacity: 1; white-space: pre; opacity: 1;\" transform=\"translate(452.7,0)\">0.4</text></g></g><g class=\"yaxislayer-above\"><g class=\"ytick\"><text text-anchor=\"end\" x=\"79\" y=\"4.199999999999999\" transform=\"translate(0,400.36)\" style=\"font-family: 'Open Sans', verdana, arial, sans-serif; font-size: 12px; fill: rgb(42, 63, 95); fill-opacity: 1; white-space: pre; opacity: 1;\">0</text></g><g class=\"ytick\"><text text-anchor=\"end\" x=\"79\" y=\"4.199999999999999\" style=\"font-family: 'Open Sans', verdana, arial, sans-serif; font-size: 12px; fill: rgb(42, 63, 95); fill-opacity: 1; white-space: pre; opacity: 1;\" transform=\"translate(0,347.77)\">1M</text></g><g class=\"ytick\"><text text-anchor=\"end\" x=\"79\" y=\"4.199999999999999\" style=\"font-family: 'Open Sans', verdana, arial, sans-serif; font-size: 12px; fill: rgb(42, 63, 95); fill-opacity: 1; white-space: pre; opacity: 1;\" transform=\"translate(0,295.18)\">2M</text></g><g class=\"ytick\"><text text-anchor=\"end\" x=\"79\" y=\"4.199999999999999\" style=\"font-family: 'Open Sans', verdana, arial, sans-serif; font-size: 12px; fill: rgb(42, 63, 95); fill-opacity: 1; white-space: pre; opacity: 1;\" transform=\"translate(0,242.6)\">3M</text></g><g class=\"ytick\"><text text-anchor=\"end\" x=\"79\" y=\"4.199999999999999\" style=\"font-family: 'Open Sans', verdana, arial, sans-serif; font-size: 12px; fill: rgb(42, 63, 95); fill-opacity: 1; white-space: pre; opacity: 1;\" transform=\"translate(0,190.01)\">4M</text></g><g class=\"ytick\"><text text-anchor=\"end\" x=\"79\" y=\"4.199999999999999\" style=\"font-family: 'Open Sans', verdana, arial, sans-serif; font-size: 12px; fill: rgb(42, 63, 95); fill-opacity: 1; white-space: pre; opacity: 1;\" transform=\"translate(0,137.42000000000002)\">5M</text></g></g><g class=\"overaxes-above\"><g class=\"xy2-x\"/><g class=\"xy2-y\"><g class=\"y2tick\"><text text-anchor=\"start\" x=\"560.4\" y=\"4.199999999999999\" transform=\"translate(0,400.79)\" style=\"font-family: 'Open Sans', verdana, arial, sans-serif; font-size: 12px; fill: rgb(42, 63, 95); fill-opacity: 1; white-space: pre; opacity: 1;\">0</text></g><g class=\"y2tick\"><text text-anchor=\"start\" x=\"560.4\" y=\"4.199999999999999\" style=\"font-family: 'Open Sans', verdana, arial, sans-serif; font-size: 12px; fill: rgb(42, 63, 95); fill-opacity: 1; white-space: pre; opacity: 1;\" transform=\"translate(0,329.89)\">20k</text></g><g class=\"y2tick\"><text text-anchor=\"start\" x=\"560.4\" y=\"4.199999999999999\" style=\"font-family: 'Open Sans', verdana, arial, sans-serif; font-size: 12px; fill: rgb(42, 63, 95); fill-opacity: 1; white-space: pre; opacity: 1;\" transform=\"translate(0,259)\">40k</text></g><g class=\"y2tick\"><text text-anchor=\"start\" x=\"560.4\" y=\"4.199999999999999\" style=\"font-family: 'Open Sans', verdana, arial, sans-serif; font-size: 12px; fill: rgb(42, 63, 95); fill-opacity: 1; white-space: pre; opacity: 1;\" transform=\"translate(0,188.1)\">60k</text></g><g class=\"y2tick\"><text text-anchor=\"start\" x=\"560.4\" y=\"4.199999999999999\" style=\"font-family: 'Open Sans', verdana, arial, sans-serif; font-size: 12px; fill: rgb(42, 63, 95); fill-opacity: 1; white-space: pre; opacity: 1;\" transform=\"translate(0,117.2)\">80k</text></g></g></g></g><g class=\"subplot xy2\"/></g><g class=\"polarlayer\"/><g class=\"smithlayer\"/><g class=\"ternarylayer\"/><g class=\"geolayer\"/><g class=\"funnelarealayer\"/><g class=\"pielayer\"/><g class=\"iciclelayer\"/><g class=\"treemaplayer\"/><g class=\"sunburstlayer\"/><g class=\"glimages\"/><defs id=\"topdefs-517fd4\"><g class=\"clips\"/><clipPath id=\"legend517fd4\"><rect width=\"88\" height=\"48\" x=\"0\" y=\"0\"/></clipPath></defs><g class=\"layer-above\"><g class=\"imagelayer\"/><g class=\"shapelayer\"/></g><g class=\"infolayer\"><g class=\"legend\" pointer-events=\"all\" transform=\"translate(600.2,100)\"><rect class=\"bg\" shape-rendering=\"crispEdges\" style=\"stroke: rgb(68, 68, 68); stroke-opacity: 1; fill: rgb(255, 255, 255); fill-opacity: 1; stroke-width: 0px;\" width=\"88\" height=\"48\" x=\"0\" y=\"0\"/><g class=\"scrollbox\" transform=\"\" clip-path=\"url(#legend517fd4)\"><g class=\"groups\"><g class=\"traces\" transform=\"translate(0,14.5)\" style=\"opacity: 1;\"><text class=\"legendtext\" text-anchor=\"start\" x=\"40\" y=\"4.680000000000001\" style=\"font-family: 'Open Sans', verdana, arial, sans-serif; font-size: 12px; fill: rgb(42, 63, 95); fill-opacity: 1; white-space: pre;\">trace 0</text><g class=\"layers\" style=\"opacity: 1;\"><g class=\"legendfill\"/><g class=\"legendlines\"/><g class=\"legendsymbols\"><g class=\"legendpoints\"><path class=\"scatterpts\" transform=\"translate(20,0)\" d=\"M3,0A3,3 0 1,1 0,-3A3,3 0 0,1 3,0Z\" style=\"opacity: 1; stroke-width: 0px; fill: rgb(0, 0, 255); fill-opacity: 1;\"/></g></g></g><rect class=\"legendtoggle\" x=\"0\" y=\"-9.5\" width=\"82.3125\" height=\"19\" style=\"fill: rgb(0, 0, 0); fill-opacity: 0;\"/></g><g class=\"traces\" transform=\"translate(0,33.5)\" style=\"opacity: 1;\"><text class=\"legendtext\" text-anchor=\"start\" x=\"40\" y=\"4.680000000000001\" style=\"font-family: 'Open Sans', verdana, arial, sans-serif; font-size: 12px; fill: rgb(42, 63, 95); fill-opacity: 1; white-space: pre;\">trace 1</text><g class=\"layers\" style=\"opacity: 1;\"><g class=\"legendfill\"/><g class=\"legendlines\"/><g class=\"legendsymbols\"><g class=\"legendpoints\"><path class=\"scatterpts\" transform=\"translate(20,0)\" d=\"M3,0A3,3 0 1,1 0,-3A3,3 0 0,1 3,0Z\" style=\"opacity: 1; stroke-width: 0px; fill: rgb(255, 0, 0); fill-opacity: 1;\"/></g></g></g><rect class=\"legendtoggle\" x=\"0\" y=\"-9.5\" width=\"82.3125\" height=\"19\" style=\"fill: rgb(0, 0, 0); fill-opacity: 0;\"/></g></g></g><rect class=\"scrollbar\" rx=\"20\" ry=\"3\" width=\"0\" height=\"0\" style=\"fill: rgb(128, 139, 164); fill-opacity: 1;\" x=\"0\" y=\"0\"/></g><g class=\"g-gtitle\"/><g class=\"g-xtitle\"/><g class=\"g-ytitle\"/><g class=\"g-y2title\"/></g></svg>"
     },
     "metadata": {},
     "output_type": "display_data"
    }
   ],
   "source": [
    "fig = make_subplots(specs=[[{'secondary_y': True}]])\n",
    "\n",
    "fig.add_trace(\n",
    "        go.Scatter(\n",
    "        x=video_comp_sentiments['avg_comp_sentiment'],\n",
    "        y=video_comp_sentiments['vid_viewcount'],\n",
    "        mode='markers',\n",
    "        marker_color='Blue',\n",
    "        text=video_comp_sentiments['vid_title'],\n",
    "        hovertemplate='<b>%{text}</b> <br>Sentiment Value: %{x} <br>View Count: %{y}'),\n",
    "        secondary_y=False\n",
    ")\n",
    "\n",
    "fig.add_trace(go.Scatter(\n",
    "    x=video_comp_sentiments['avg_comp_sentiment'],\n",
    "    y=video_comp_sentiments['vid_likecount'],\n",
    "    mode='markers',\n",
    "    marker_color='Red',\n",
    "    text=video_comp_sentiments['vid_title'],\n",
    "    hovertemplate='<b>%{text}</b> <br>Sentiment Value: %{x} <br>Like Count: %{y}'),\n",
    "    secondary_y=True\n",
    ")\n",
    "\n",
    "fig.show(renderer='svg')"
   ]
  },
  {
   "cell_type": "code",
   "execution_count": null,
   "metadata": {},
   "outputs": [],
   "source": []
  },
  {
   "cell_type": "code",
   "execution_count": 25,
   "metadata": {},
   "outputs": [
    {
     "data": {
      "application/vnd.plotly.v1+json": {
       "config": {
        "plotlyServerURL": "https://plot.ly"
       },
       "data": [
        {
         "name": "yaxis values",
         "type": "scatter",
         "x": [
          10,
          20,
          30
         ],
         "xaxis": "x",
         "y": [
          400,
          500,
          600
         ],
         "yaxis": "y"
        },
        {
         "name": "yaxis2 values",
         "type": "scatter",
         "x": [
          20,
          30,
          40
         ],
         "xaxis": "x",
         "y": [
          40,
          50,
          60
         ],
         "yaxis": "y2"
        }
       ],
       "layout": {
        "template": {
         "data": {
          "bar": [
           {
            "error_x": {
             "color": "#2a3f5f"
            },
            "error_y": {
             "color": "#2a3f5f"
            },
            "marker": {
             "line": {
              "color": "#E5ECF6",
              "width": 0.5
             },
             "pattern": {
              "fillmode": "overlay",
              "size": 10,
              "solidity": 0.2
             }
            },
            "type": "bar"
           }
          ],
          "barpolar": [
           {
            "marker": {
             "line": {
              "color": "#E5ECF6",
              "width": 0.5
             },
             "pattern": {
              "fillmode": "overlay",
              "size": 10,
              "solidity": 0.2
             }
            },
            "type": "barpolar"
           }
          ],
          "carpet": [
           {
            "aaxis": {
             "endlinecolor": "#2a3f5f",
             "gridcolor": "white",
             "linecolor": "white",
             "minorgridcolor": "white",
             "startlinecolor": "#2a3f5f"
            },
            "baxis": {
             "endlinecolor": "#2a3f5f",
             "gridcolor": "white",
             "linecolor": "white",
             "minorgridcolor": "white",
             "startlinecolor": "#2a3f5f"
            },
            "type": "carpet"
           }
          ],
          "choropleth": [
           {
            "colorbar": {
             "outlinewidth": 0,
             "ticks": ""
            },
            "type": "choropleth"
           }
          ],
          "contour": [
           {
            "colorbar": {
             "outlinewidth": 0,
             "ticks": ""
            },
            "colorscale": [
             [
              0,
              "#0d0887"
             ],
             [
              0.1111111111111111,
              "#46039f"
             ],
             [
              0.2222222222222222,
              "#7201a8"
             ],
             [
              0.3333333333333333,
              "#9c179e"
             ],
             [
              0.4444444444444444,
              "#bd3786"
             ],
             [
              0.5555555555555556,
              "#d8576b"
             ],
             [
              0.6666666666666666,
              "#ed7953"
             ],
             [
              0.7777777777777778,
              "#fb9f3a"
             ],
             [
              0.8888888888888888,
              "#fdca26"
             ],
             [
              1,
              "#f0f921"
             ]
            ],
            "type": "contour"
           }
          ],
          "contourcarpet": [
           {
            "colorbar": {
             "outlinewidth": 0,
             "ticks": ""
            },
            "type": "contourcarpet"
           }
          ],
          "heatmap": [
           {
            "colorbar": {
             "outlinewidth": 0,
             "ticks": ""
            },
            "colorscale": [
             [
              0,
              "#0d0887"
             ],
             [
              0.1111111111111111,
              "#46039f"
             ],
             [
              0.2222222222222222,
              "#7201a8"
             ],
             [
              0.3333333333333333,
              "#9c179e"
             ],
             [
              0.4444444444444444,
              "#bd3786"
             ],
             [
              0.5555555555555556,
              "#d8576b"
             ],
             [
              0.6666666666666666,
              "#ed7953"
             ],
             [
              0.7777777777777778,
              "#fb9f3a"
             ],
             [
              0.8888888888888888,
              "#fdca26"
             ],
             [
              1,
              "#f0f921"
             ]
            ],
            "type": "heatmap"
           }
          ],
          "heatmapgl": [
           {
            "colorbar": {
             "outlinewidth": 0,
             "ticks": ""
            },
            "colorscale": [
             [
              0,
              "#0d0887"
             ],
             [
              0.1111111111111111,
              "#46039f"
             ],
             [
              0.2222222222222222,
              "#7201a8"
             ],
             [
              0.3333333333333333,
              "#9c179e"
             ],
             [
              0.4444444444444444,
              "#bd3786"
             ],
             [
              0.5555555555555556,
              "#d8576b"
             ],
             [
              0.6666666666666666,
              "#ed7953"
             ],
             [
              0.7777777777777778,
              "#fb9f3a"
             ],
             [
              0.8888888888888888,
              "#fdca26"
             ],
             [
              1,
              "#f0f921"
             ]
            ],
            "type": "heatmapgl"
           }
          ],
          "histogram": [
           {
            "marker": {
             "pattern": {
              "fillmode": "overlay",
              "size": 10,
              "solidity": 0.2
             }
            },
            "type": "histogram"
           }
          ],
          "histogram2d": [
           {
            "colorbar": {
             "outlinewidth": 0,
             "ticks": ""
            },
            "colorscale": [
             [
              0,
              "#0d0887"
             ],
             [
              0.1111111111111111,
              "#46039f"
             ],
             [
              0.2222222222222222,
              "#7201a8"
             ],
             [
              0.3333333333333333,
              "#9c179e"
             ],
             [
              0.4444444444444444,
              "#bd3786"
             ],
             [
              0.5555555555555556,
              "#d8576b"
             ],
             [
              0.6666666666666666,
              "#ed7953"
             ],
             [
              0.7777777777777778,
              "#fb9f3a"
             ],
             [
              0.8888888888888888,
              "#fdca26"
             ],
             [
              1,
              "#f0f921"
             ]
            ],
            "type": "histogram2d"
           }
          ],
          "histogram2dcontour": [
           {
            "colorbar": {
             "outlinewidth": 0,
             "ticks": ""
            },
            "colorscale": [
             [
              0,
              "#0d0887"
             ],
             [
              0.1111111111111111,
              "#46039f"
             ],
             [
              0.2222222222222222,
              "#7201a8"
             ],
             [
              0.3333333333333333,
              "#9c179e"
             ],
             [
              0.4444444444444444,
              "#bd3786"
             ],
             [
              0.5555555555555556,
              "#d8576b"
             ],
             [
              0.6666666666666666,
              "#ed7953"
             ],
             [
              0.7777777777777778,
              "#fb9f3a"
             ],
             [
              0.8888888888888888,
              "#fdca26"
             ],
             [
              1,
              "#f0f921"
             ]
            ],
            "type": "histogram2dcontour"
           }
          ],
          "mesh3d": [
           {
            "colorbar": {
             "outlinewidth": 0,
             "ticks": ""
            },
            "type": "mesh3d"
           }
          ],
          "parcoords": [
           {
            "line": {
             "colorbar": {
              "outlinewidth": 0,
              "ticks": ""
             }
            },
            "type": "parcoords"
           }
          ],
          "pie": [
           {
            "automargin": true,
            "type": "pie"
           }
          ],
          "scatter": [
           {
            "marker": {
             "colorbar": {
              "outlinewidth": 0,
              "ticks": ""
             }
            },
            "type": "scatter"
           }
          ],
          "scatter3d": [
           {
            "line": {
             "colorbar": {
              "outlinewidth": 0,
              "ticks": ""
             }
            },
            "marker": {
             "colorbar": {
              "outlinewidth": 0,
              "ticks": ""
             }
            },
            "type": "scatter3d"
           }
          ],
          "scattercarpet": [
           {
            "marker": {
             "colorbar": {
              "outlinewidth": 0,
              "ticks": ""
             }
            },
            "type": "scattercarpet"
           }
          ],
          "scattergeo": [
           {
            "marker": {
             "colorbar": {
              "outlinewidth": 0,
              "ticks": ""
             }
            },
            "type": "scattergeo"
           }
          ],
          "scattergl": [
           {
            "marker": {
             "colorbar": {
              "outlinewidth": 0,
              "ticks": ""
             }
            },
            "type": "scattergl"
           }
          ],
          "scattermapbox": [
           {
            "marker": {
             "colorbar": {
              "outlinewidth": 0,
              "ticks": ""
             }
            },
            "type": "scattermapbox"
           }
          ],
          "scatterpolar": [
           {
            "marker": {
             "colorbar": {
              "outlinewidth": 0,
              "ticks": ""
             }
            },
            "type": "scatterpolar"
           }
          ],
          "scatterpolargl": [
           {
            "marker": {
             "colorbar": {
              "outlinewidth": 0,
              "ticks": ""
             }
            },
            "type": "scatterpolargl"
           }
          ],
          "scatterternary": [
           {
            "marker": {
             "colorbar": {
              "outlinewidth": 0,
              "ticks": ""
             }
            },
            "type": "scatterternary"
           }
          ],
          "surface": [
           {
            "colorbar": {
             "outlinewidth": 0,
             "ticks": ""
            },
            "colorscale": [
             [
              0,
              "#0d0887"
             ],
             [
              0.1111111111111111,
              "#46039f"
             ],
             [
              0.2222222222222222,
              "#7201a8"
             ],
             [
              0.3333333333333333,
              "#9c179e"
             ],
             [
              0.4444444444444444,
              "#bd3786"
             ],
             [
              0.5555555555555556,
              "#d8576b"
             ],
             [
              0.6666666666666666,
              "#ed7953"
             ],
             [
              0.7777777777777778,
              "#fb9f3a"
             ],
             [
              0.8888888888888888,
              "#fdca26"
             ],
             [
              1,
              "#f0f921"
             ]
            ],
            "type": "surface"
           }
          ],
          "table": [
           {
            "cells": {
             "fill": {
              "color": "#EBF0F8"
             },
             "line": {
              "color": "white"
             }
            },
            "header": {
             "fill": {
              "color": "#C8D4E3"
             },
             "line": {
              "color": "white"
             }
            },
            "type": "table"
           }
          ]
         },
         "layout": {
          "annotationdefaults": {
           "arrowcolor": "#2a3f5f",
           "arrowhead": 0,
           "arrowwidth": 1
          },
          "autotypenumbers": "strict",
          "coloraxis": {
           "colorbar": {
            "outlinewidth": 0,
            "ticks": ""
           }
          },
          "colorscale": {
           "diverging": [
            [
             0,
             "#8e0152"
            ],
            [
             0.1,
             "#c51b7d"
            ],
            [
             0.2,
             "#de77ae"
            ],
            [
             0.3,
             "#f1b6da"
            ],
            [
             0.4,
             "#fde0ef"
            ],
            [
             0.5,
             "#f7f7f7"
            ],
            [
             0.6,
             "#e6f5d0"
            ],
            [
             0.7,
             "#b8e186"
            ],
            [
             0.8,
             "#7fbc41"
            ],
            [
             0.9,
             "#4d9221"
            ],
            [
             1,
             "#276419"
            ]
           ],
           "sequential": [
            [
             0,
             "#0d0887"
            ],
            [
             0.1111111111111111,
             "#46039f"
            ],
            [
             0.2222222222222222,
             "#7201a8"
            ],
            [
             0.3333333333333333,
             "#9c179e"
            ],
            [
             0.4444444444444444,
             "#bd3786"
            ],
            [
             0.5555555555555556,
             "#d8576b"
            ],
            [
             0.6666666666666666,
             "#ed7953"
            ],
            [
             0.7777777777777778,
             "#fb9f3a"
            ],
            [
             0.8888888888888888,
             "#fdca26"
            ],
            [
             1,
             "#f0f921"
            ]
           ],
           "sequentialminus": [
            [
             0,
             "#0d0887"
            ],
            [
             0.1111111111111111,
             "#46039f"
            ],
            [
             0.2222222222222222,
             "#7201a8"
            ],
            [
             0.3333333333333333,
             "#9c179e"
            ],
            [
             0.4444444444444444,
             "#bd3786"
            ],
            [
             0.5555555555555556,
             "#d8576b"
            ],
            [
             0.6666666666666666,
             "#ed7953"
            ],
            [
             0.7777777777777778,
             "#fb9f3a"
            ],
            [
             0.8888888888888888,
             "#fdca26"
            ],
            [
             1,
             "#f0f921"
            ]
           ]
          },
          "colorway": [
           "#636efa",
           "#EF553B",
           "#00cc96",
           "#ab63fa",
           "#FFA15A",
           "#19d3f3",
           "#FF6692",
           "#B6E880",
           "#FF97FF",
           "#FECB52"
          ],
          "font": {
           "color": "#2a3f5f"
          },
          "geo": {
           "bgcolor": "white",
           "lakecolor": "white",
           "landcolor": "#E5ECF6",
           "showlakes": true,
           "showland": true,
           "subunitcolor": "white"
          },
          "hoverlabel": {
           "align": "left"
          },
          "hovermode": "closest",
          "mapbox": {
           "style": "light"
          },
          "paper_bgcolor": "white",
          "plot_bgcolor": "#E5ECF6",
          "polar": {
           "angularaxis": {
            "gridcolor": "white",
            "linecolor": "white",
            "ticks": ""
           },
           "bgcolor": "#E5ECF6",
           "radialaxis": {
            "gridcolor": "white",
            "linecolor": "white",
            "ticks": ""
           }
          },
          "scene": {
           "xaxis": {
            "backgroundcolor": "#E5ECF6",
            "gridcolor": "white",
            "gridwidth": 2,
            "linecolor": "white",
            "showbackground": true,
            "ticks": "",
            "zerolinecolor": "white"
           },
           "yaxis": {
            "backgroundcolor": "#E5ECF6",
            "gridcolor": "white",
            "gridwidth": 2,
            "linecolor": "white",
            "showbackground": true,
            "ticks": "",
            "zerolinecolor": "white"
           },
           "zaxis": {
            "backgroundcolor": "#E5ECF6",
            "gridcolor": "white",
            "gridwidth": 2,
            "linecolor": "white",
            "showbackground": true,
            "ticks": "",
            "zerolinecolor": "white"
           }
          },
          "shapedefaults": {
           "line": {
            "color": "#2a3f5f"
           }
          },
          "ternary": {
           "aaxis": {
            "gridcolor": "white",
            "linecolor": "white",
            "ticks": ""
           },
           "baxis": {
            "gridcolor": "white",
            "linecolor": "white",
            "ticks": ""
           },
           "bgcolor": "#E5ECF6",
           "caxis": {
            "gridcolor": "white",
            "linecolor": "white",
            "ticks": ""
           }
          },
          "title": {
           "x": 0.05
          },
          "xaxis": {
           "automargin": true,
           "gridcolor": "white",
           "linecolor": "white",
           "ticks": "",
           "title": {
            "standoff": 15
           },
           "zerolinecolor": "white",
           "zerolinewidth": 2
          },
          "yaxis": {
           "automargin": true,
           "gridcolor": "white",
           "linecolor": "white",
           "ticks": "",
           "title": {
            "standoff": 15
           },
           "zerolinecolor": "white",
           "zerolinewidth": 2
          }
         }
        },
        "title": {
         "text": "Multiple Y Axis in Plotly"
        },
        "xaxis": {
         "anchor": "y",
         "domain": [
          0,
          0.94
         ],
         "title": {
          "text": "X - axis"
         }
        },
        "yaxis": {
         "anchor": "x",
         "domain": [
          0,
          1
         ],
         "title": {
          "text": "<b>Main</b> Y - axis "
         }
        },
        "yaxis2": {
         "anchor": "x",
         "overlaying": "y",
         "side": "right",
         "title": {
          "text": "<b>secondary</b> Y - axis "
         }
        }
       }
      }
     },
     "metadata": {},
     "output_type": "display_data"
    }
   ],
   "source": [
    "fig = make_subplots(specs=[[{\"secondary_y\": True}]])\n",
    " \n",
    "# plot a scatter chart by specifying the x and y values\n",
    "# Use add_trace function to specify secondary_y axes.\n",
    "fig.add_trace(\n",
    "    go.Scatter(x=[10, 20, 30], y=[400, 500, 600], name=\"yaxis values\"),\n",
    "    secondary_y=False)\n",
    " \n",
    "# Use add_trace function and specify secondary_y axes = True.\n",
    "fig.add_trace(\n",
    "    go.Scatter(x=[20, 30, 40], y=[40, 50, 60], name=\"yaxis2 values\"),\n",
    "    secondary_y=True,)\n",
    " \n",
    "# Adding title text to the figure\n",
    "fig.update_layout(\n",
    "    title_text=\"Multiple Y Axis in Plotly\"\n",
    ")\n",
    " \n",
    "# Naming x-axis\n",
    "fig.update_xaxes(title_text=\"X - axis\")\n",
    " \n",
    "# Naming y-axes\n",
    "fig.update_yaxes(title_text=\"<b>Main</b> Y - axis \", secondary_y=False)\n",
    "fig.update_yaxes(title_text=\"<b>secondary</b> Y - axis \", secondary_y=True)"
   ]
  },
  {
   "cell_type": "code",
   "execution_count": null,
   "metadata": {},
   "outputs": [],
   "source": []
  }
 ],
 "metadata": {
  "kernelspec": {
   "display_name": "Python 3.9.7 ('base')",
   "language": "python",
   "name": "python3"
  },
  "language_info": {
   "codemirror_mode": {
    "name": "ipython",
    "version": 3
   },
   "file_extension": ".py",
   "mimetype": "text/x-python",
   "name": "python",
   "nbconvert_exporter": "python",
   "pygments_lexer": "ipython3",
   "version": "3.9.7"
  },
  "orig_nbformat": 4,
  "vscode": {
   "interpreter": {
    "hash": "78adb8089f1b1ad0b7743184fb6585d3ffc1b6fb4a355aad49fe7003845e53d4"
   }
  }
 },
 "nbformat": 4,
 "nbformat_minor": 2
}
