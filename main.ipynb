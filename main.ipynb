{
 "cells": [
  {
   "cell_type": "markdown",
   "metadata": {},
   "source": [
    "## Data Collection"
   ]
  },
  {
   "cell_type": "markdown",
   "metadata": {},
   "source": [
    "Main data collection is processed by running ['update.py'](https://github.com/cjunwon/Youtube-Data-Analysis/blob/main/update.py) on a Flask ['server.py'](https://github.com/cjunwon/Youtube-Data-Analysis/blob/main/server.py) scheduled through ngrok and Invictify.\n",
    "\n",
    "This collection pipeline automatically updates the AWS MySQL RDS database with up-to-date channel statistics depending on the configured Invictify schedule."
   ]
  },
  {
   "cell_type": "code",
   "execution_count": 4,
   "metadata": {},
   "outputs": [],
   "source": [
    "from MySQL_DB_connect_functions import *\n",
    "from MySQL_DB_update_functions import *\n",
    "from youtube_api_functions import *"
   ]
  },
  {
   "cell_type": "code",
   "execution_count": 5,
   "metadata": {},
   "outputs": [],
   "source": [
    "channel_id_list = ['UCIRYBXDze5krPDzAEOxFGVA'] #TheGuardian,NYTimes(UCqnbDFdCpuN8CMEg0VuEBqA)"
   ]
  },
  {
   "cell_type": "code",
   "execution_count": 6,
   "metadata": {},
   "outputs": [],
   "source": [
    "# using youtube_api_functions.py:\n",
    "youtube_obj = build_yt_API_object() # builds Youtube API object"
   ]
  },
  {
   "cell_type": "code",
   "execution_count": 7,
   "metadata": {},
   "outputs": [],
   "source": [
    "video_df = create_video_df(youtube_obj, channel_id_list) # store API data into pandas df\n",
    "processed_video_df = clean_video_df(video_df) # run df through cleaning function"
   ]
  },
  {
   "cell_type": "code",
   "execution_count": 8,
   "metadata": {},
   "outputs": [
    {
     "data": {
      "text/html": [
       "<div>\n",
       "<style scoped>\n",
       "    .dataframe tbody tr th:only-of-type {\n",
       "        vertical-align: middle;\n",
       "    }\n",
       "\n",
       "    .dataframe tbody tr th {\n",
       "        vertical-align: top;\n",
       "    }\n",
       "\n",
       "    .dataframe thead th {\n",
       "        text-align: right;\n",
       "    }\n",
       "</style>\n",
       "<table border=\"1\" class=\"dataframe\">\n",
       "  <thead>\n",
       "    <tr style=\"text-align: right;\">\n",
       "      <th></th>\n",
       "      <th>video_id</th>\n",
       "      <th>channelTitle</th>\n",
       "      <th>title</th>\n",
       "      <th>description</th>\n",
       "      <th>publishedAt</th>\n",
       "      <th>viewCount</th>\n",
       "      <th>likeCount</th>\n",
       "      <th>favoriteCount</th>\n",
       "      <th>commentCount</th>\n",
       "      <th>caption</th>\n",
       "      <th>publishDayName</th>\n",
       "      <th>durationSecs</th>\n",
       "      <th>tagCount</th>\n",
       "    </tr>\n",
       "  </thead>\n",
       "  <tbody>\n",
       "    <tr>\n",
       "      <th>0</th>\n",
       "      <td>_ovc5K41F2g</td>\n",
       "      <td>Guardian News</td>\n",
       "      <td>Canada police: we may never know what motivate...</td>\n",
       "      <td>The suspect sought by Canadian police over Sun...</td>\n",
       "      <td>2022-09-08</td>\n",
       "      <td>4246</td>\n",
       "      <td>35</td>\n",
       "      <td>0</td>\n",
       "      <td>25</td>\n",
       "      <td>0</td>\n",
       "      <td>Thursday</td>\n",
       "      <td>92.0</td>\n",
       "      <td>23</td>\n",
       "    </tr>\n",
       "    <tr>\n",
       "      <th>1</th>\n",
       "      <td>xas6x3xfGdo</td>\n",
       "      <td>Guardian News</td>\n",
       "      <td>Pakistan: hospitals struggle with influx of pa...</td>\n",
       "      <td>Hundreds of patients overwhelmed a hospital in...</td>\n",
       "      <td>2022-09-07</td>\n",
       "      <td>2897</td>\n",
       "      <td>51</td>\n",
       "      <td>0</td>\n",
       "      <td>17</td>\n",
       "      <td>0</td>\n",
       "      <td>Wednesday</td>\n",
       "      <td>136.0</td>\n",
       "      <td>38</td>\n",
       "    </tr>\n",
       "    <tr>\n",
       "      <th>2</th>\n",
       "      <td>6-kll84mjm8</td>\n",
       "      <td>Guardian News</td>\n",
       "      <td>Bridge collapses during ribbon-cutting ceremon...</td>\n",
       "      <td>Video verified by Reuters shows a bridge colla...</td>\n",
       "      <td>2022-09-07</td>\n",
       "      <td>65671</td>\n",
       "      <td>348</td>\n",
       "      <td>0</td>\n",
       "      <td>203</td>\n",
       "      <td>0</td>\n",
       "      <td>Wednesday</td>\n",
       "      <td>42.0</td>\n",
       "      <td>24</td>\n",
       "    </tr>\n",
       "    <tr>\n",
       "      <th>3</th>\n",
       "      <td>QmCeSZgRnck</td>\n",
       "      <td>Guardian News</td>\n",
       "      <td>Liz Truss and Keir Starmer face off for first ...</td>\n",
       "      <td>Prime minister Liz Truss went head-to-head wit...</td>\n",
       "      <td>2022-09-07</td>\n",
       "      <td>154636</td>\n",
       "      <td>1222</td>\n",
       "      <td>0</td>\n",
       "      <td>552</td>\n",
       "      <td>0</td>\n",
       "      <td>Wednesday</td>\n",
       "      <td>285.0</td>\n",
       "      <td>29</td>\n",
       "    </tr>\n",
       "    <tr>\n",
       "      <th>4</th>\n",
       "      <td>ZUdFzjIE8f0</td>\n",
       "      <td>Guardian News</td>\n",
       "      <td>Typhoon Hinnamnor: two rescued from undergroun...</td>\n",
       "      <td>Two people in South Korea were rescued in a dr...</td>\n",
       "      <td>2022-09-07</td>\n",
       "      <td>7819</td>\n",
       "      <td>92</td>\n",
       "      <td>0</td>\n",
       "      <td>8</td>\n",
       "      <td>0</td>\n",
       "      <td>Wednesday</td>\n",
       "      <td>86.0</td>\n",
       "      <td>34</td>\n",
       "    </tr>\n",
       "  </tbody>\n",
       "</table>\n",
       "</div>"
      ],
      "text/plain": [
       "      video_id   channelTitle  \\\n",
       "0  _ovc5K41F2g  Guardian News   \n",
       "1  xas6x3xfGdo  Guardian News   \n",
       "2  6-kll84mjm8  Guardian News   \n",
       "3  QmCeSZgRnck  Guardian News   \n",
       "4  ZUdFzjIE8f0  Guardian News   \n",
       "\n",
       "                                               title  \\\n",
       "0  Canada police: we may never know what motivate...   \n",
       "1  Pakistan: hospitals struggle with influx of pa...   \n",
       "2  Bridge collapses during ribbon-cutting ceremon...   \n",
       "3  Liz Truss and Keir Starmer face off for first ...   \n",
       "4  Typhoon Hinnamnor: two rescued from undergroun...   \n",
       "\n",
       "                                         description publishedAt  viewCount  \\\n",
       "0  The suspect sought by Canadian police over Sun...  2022-09-08       4246   \n",
       "1  Hundreds of patients overwhelmed a hospital in...  2022-09-07       2897   \n",
       "2  Video verified by Reuters shows a bridge colla...  2022-09-07      65671   \n",
       "3  Prime minister Liz Truss went head-to-head wit...  2022-09-07     154636   \n",
       "4  Two people in South Korea were rescued in a dr...  2022-09-07       7819   \n",
       "\n",
       "   likeCount  favoriteCount  commentCount  caption publishDayName  \\\n",
       "0         35              0            25        0       Thursday   \n",
       "1         51              0            17        0      Wednesday   \n",
       "2        348              0           203        0      Wednesday   \n",
       "3       1222              0           552        0      Wednesday   \n",
       "4         92              0             8        0      Wednesday   \n",
       "\n",
       "   durationSecs  tagCount  \n",
       "0          92.0        23  \n",
       "1         136.0        38  \n",
       "2          42.0        24  \n",
       "3         285.0        29  \n",
       "4          86.0        34  "
      ]
     },
     "execution_count": 8,
     "metadata": {},
     "output_type": "execute_result"
    }
   ],
   "source": [
    "processed_video_df.head()"
   ]
  },
  {
   "cell_type": "code",
   "execution_count": 9,
   "metadata": {},
   "outputs": [],
   "source": [
    "video_ids = list(processed_video_df['video_id'])"
   ]
  },
  {
   "cell_type": "code",
   "execution_count": 10,
   "metadata": {},
   "outputs": [],
   "source": [
    "all_comments_df = pd.DataFrame()\n",
    "for video in video_ids:\n",
    "    comment_data = get_video_comments(youtube_obj, video)\n",
    "    all_comments_df = all_comments_df.append(comment_data, ignore_index=True)"
   ]
  },
  {
   "cell_type": "code",
   "execution_count": 11,
   "metadata": {},
   "outputs": [
    {
     "data": {
      "text/html": [
       "<div>\n",
       "<style scoped>\n",
       "    .dataframe tbody tr th:only-of-type {\n",
       "        vertical-align: middle;\n",
       "    }\n",
       "\n",
       "    .dataframe tbody tr th {\n",
       "        vertical-align: top;\n",
       "    }\n",
       "\n",
       "    .dataframe thead th {\n",
       "        text-align: right;\n",
       "    }\n",
       "</style>\n",
       "<table border=\"1\" class=\"dataframe\">\n",
       "  <thead>\n",
       "    <tr style=\"text-align: right;\">\n",
       "      <th></th>\n",
       "      <th>video_id</th>\n",
       "      <th>comment_id</th>\n",
       "      <th>comment</th>\n",
       "      <th>date</th>\n",
       "    </tr>\n",
       "  </thead>\n",
       "  <tbody>\n",
       "    <tr>\n",
       "      <th>0</th>\n",
       "      <td>_ovc5K41F2g</td>\n",
       "      <td>Ugxlby8b9YYnrbGmdA54AaABAg</td>\n",
       "      <td>Anyone know why the Guardian isn’t identifying...</td>\n",
       "      <td>2022-09-08T09:17:00Z</td>\n",
       "    </tr>\n",
       "    <tr>\n",
       "      <th>1</th>\n",
       "      <td>_ovc5K41F2g</td>\n",
       "      <td>UgyDXkjFgqi7H-HUR354AaABAg</td>\n",
       "      <td>Classic! The Guardian ignoring what everyone k...</td>\n",
       "      <td>2022-09-08T09:14:20Z</td>\n",
       "    </tr>\n",
       "    <tr>\n",
       "      <th>2</th>\n",
       "      <td>_ovc5K41F2g</td>\n",
       "      <td>UgxoYNd_lRHbPE_nnEN4AaABAg</td>\n",
       "      <td>the Sanderson Brothers 🧙</td>\n",
       "      <td>2022-09-08T08:58:02Z</td>\n",
       "    </tr>\n",
       "    <tr>\n",
       "      <th>3</th>\n",
       "      <td>_ovc5K41F2g</td>\n",
       "      <td>UgwrkWG3qrLzq7GI1Zh4AaABAg</td>\n",
       "      <td>Could of took a cynaide pill..</td>\n",
       "      <td>2022-09-08T07:58:46Z</td>\n",
       "    </tr>\n",
       "    <tr>\n",
       "      <th>4</th>\n",
       "      <td>_ovc5K41F2g</td>\n",
       "      <td>UgzO7EHrKbIh8dpL9it4AaABAg</td>\n",
       "      <td>Rehabilitative justice led to this debacle...</td>\n",
       "      <td>2022-09-08T07:35:27Z</td>\n",
       "    </tr>\n",
       "    <tr>\n",
       "      <th>...</th>\n",
       "      <td>...</td>\n",
       "      <td>...</td>\n",
       "      <td>...</td>\n",
       "      <td>...</td>\n",
       "    </tr>\n",
       "    <tr>\n",
       "      <th>3551</th>\n",
       "      <td>5tjtbvOxdxA</td>\n",
       "      <td>UgxBl5UOHoD6Wz0efoF4AaABAg</td>\n",
       "      <td>Nice footage.</td>\n",
       "      <td>2022-09-01T18:31:09Z</td>\n",
       "    </tr>\n",
       "    <tr>\n",
       "      <th>3552</th>\n",
       "      <td>5tjtbvOxdxA</td>\n",
       "      <td>UgwFZOG8oxIDqBW4AON4AaABAg</td>\n",
       "      <td>Ya ya ya ya yay 🤣🤣🤣</td>\n",
       "      <td>2022-09-01T18:19:43Z</td>\n",
       "    </tr>\n",
       "    <tr>\n",
       "      <th>3553</th>\n",
       "      <td>5tjtbvOxdxA</td>\n",
       "      <td>UgzrMpnoou-kdrhymER4AaABAg</td>\n",
       "      <td>Ukraine needs negotiations ASP.\\nLift energy s...</td>\n",
       "      <td>2022-09-01T18:13:47Z</td>\n",
       "    </tr>\n",
       "    <tr>\n",
       "      <th>3554</th>\n",
       "      <td>5tjtbvOxdxA</td>\n",
       "      <td>Ugx_p6bbDlC2VD1GzSt4AaABAg</td>\n",
       "      <td>М777 ?</td>\n",
       "      <td>2022-09-01T18:13:12Z</td>\n",
       "    </tr>\n",
       "    <tr>\n",
       "      <th>3555</th>\n",
       "      <td>5tjtbvOxdxA</td>\n",
       "      <td>UgzNIPTAFi79FGH93T54AaABAg</td>\n",
       "      <td>Zelensky is on heavy drugs🤣🤣🤣🤣🤣🤡</td>\n",
       "      <td>2022-09-01T18:12:13Z</td>\n",
       "    </tr>\n",
       "  </tbody>\n",
       "</table>\n",
       "<p>3556 rows × 4 columns</p>\n",
       "</div>"
      ],
      "text/plain": [
       "         video_id                  comment_id  \\\n",
       "0     _ovc5K41F2g  Ugxlby8b9YYnrbGmdA54AaABAg   \n",
       "1     _ovc5K41F2g  UgyDXkjFgqi7H-HUR354AaABAg   \n",
       "2     _ovc5K41F2g  UgxoYNd_lRHbPE_nnEN4AaABAg   \n",
       "3     _ovc5K41F2g  UgwrkWG3qrLzq7GI1Zh4AaABAg   \n",
       "4     _ovc5K41F2g  UgzO7EHrKbIh8dpL9it4AaABAg   \n",
       "...           ...                         ...   \n",
       "3551  5tjtbvOxdxA  UgxBl5UOHoD6Wz0efoF4AaABAg   \n",
       "3552  5tjtbvOxdxA  UgwFZOG8oxIDqBW4AON4AaABAg   \n",
       "3553  5tjtbvOxdxA  UgzrMpnoou-kdrhymER4AaABAg   \n",
       "3554  5tjtbvOxdxA  Ugx_p6bbDlC2VD1GzSt4AaABAg   \n",
       "3555  5tjtbvOxdxA  UgzNIPTAFi79FGH93T54AaABAg   \n",
       "\n",
       "                                                comment                  date  \n",
       "0     Anyone know why the Guardian isn’t identifying...  2022-09-08T09:17:00Z  \n",
       "1     Classic! The Guardian ignoring what everyone k...  2022-09-08T09:14:20Z  \n",
       "2                              the Sanderson Brothers 🧙  2022-09-08T08:58:02Z  \n",
       "3                        Could of took a cynaide pill..  2022-09-08T07:58:46Z  \n",
       "4         Rehabilitative justice led to this debacle...  2022-09-08T07:35:27Z  \n",
       "...                                                 ...                   ...  \n",
       "3551                                      Nice footage.  2022-09-01T18:31:09Z  \n",
       "3552                                Ya ya ya ya yay 🤣🤣🤣  2022-09-01T18:19:43Z  \n",
       "3553  Ukraine needs negotiations ASP.\\nLift energy s...  2022-09-01T18:13:47Z  \n",
       "3554                                             М777 ?  2022-09-01T18:13:12Z  \n",
       "3555                   Zelensky is on heavy drugs🤣🤣🤣🤣🤣🤡  2022-09-01T18:12:13Z  \n",
       "\n",
       "[3556 rows x 4 columns]"
      ]
     },
     "execution_count": 11,
     "metadata": {},
     "output_type": "execute_result"
    }
   ],
   "source": [
    "all_comments_df"
   ]
  },
  {
   "cell_type": "code",
   "execution_count": 12,
   "metadata": {},
   "outputs": [],
   "source": [
    "import nltk\n",
    "from nltk.sentiment import SentimentIntensityAnalyzer\n",
    "sia = SentimentIntensityAnalyzer()"
   ]
  },
  {
   "cell_type": "code",
   "execution_count": 13,
   "metadata": {},
   "outputs": [],
   "source": [
    "all_comments_df['vader_sentiment'] = all_comments_df.comment.apply(lambda x: sia.polarity_scores(x))\n",
    "all_comments_df['vader_comp_sentiment'] = all_comments_df.vader_sentiment.apply(lambda x: x['compound'])"
   ]
  },
  {
   "cell_type": "code",
   "execution_count": 14,
   "metadata": {},
   "outputs": [
    {
     "data": {
      "text/plain": [
       "0.0031040494938132292"
      ]
     },
     "execution_count": 14,
     "metadata": {},
     "output_type": "execute_result"
    }
   ],
   "source": [
    "all_comments_df['vader_comp_sentiment'].mean()"
   ]
  },
  {
   "cell_type": "code",
   "execution_count": 44,
   "metadata": {},
   "outputs": [],
   "source": [
    "video_comp_sentiments = pd.DataFrame(columns=['video_id', 'vid_title', 'avg_comp_sentiment', 'vid_viewcount'])\n",
    "for video in video_ids:\n",
    "    comment_data = get_video_comments(youtube_obj, video)\n",
    "    comment_data['vader_sentiment'] = comment_data.comment.apply(lambda x: sia.polarity_scores(x))\n",
    "    comment_data['vader_comp_sentiment'] = comment_data.vader_sentiment.apply(lambda x: x['compound'])\n",
    "    comp_mean = comment_data['vader_comp_sentiment'].mean()\n",
    "\n",
    "    vid_title = processed_video_df.loc[processed_video_df['video_id'] == video, 'title'].item()\n",
    "    vid_viewcount = processed_video_df.loc[processed_video_df['video_id'] == video, 'viewCount'].item()\n",
    "    vid_likecount = processed_video_df.loc[processed_video_df['video_id'] == video, 'likeCount'].item()\n",
    "\n",
    "    dict = {'video_id': video,\n",
    "            'vid_title': vid_title,\n",
    "            'avg_comp_sentiment': comp_mean,\n",
    "            'vid_viewcount': vid_viewcount,\n",
    "            'vid_likecount': vid_likecount\n",
    "            }\n",
    "\n",
    "    video_comp_sentiments = video_comp_sentiments.append(dict, ignore_index=True)\n",
    "    "
   ]
  },
  {
   "cell_type": "code",
   "execution_count": 46,
   "metadata": {},
   "outputs": [
    {
     "data": {
      "text/html": [
       "<div>\n",
       "<style scoped>\n",
       "    .dataframe tbody tr th:only-of-type {\n",
       "        vertical-align: middle;\n",
       "    }\n",
       "\n",
       "    .dataframe tbody tr th {\n",
       "        vertical-align: top;\n",
       "    }\n",
       "\n",
       "    .dataframe thead th {\n",
       "        text-align: right;\n",
       "    }\n",
       "</style>\n",
       "<table border=\"1\" class=\"dataframe\">\n",
       "  <thead>\n",
       "    <tr style=\"text-align: right;\">\n",
       "      <th></th>\n",
       "      <th>video_id</th>\n",
       "      <th>vid_title</th>\n",
       "      <th>avg_comp_sentiment</th>\n",
       "      <th>vid_viewcount</th>\n",
       "      <th>vid_likecount</th>\n",
       "    </tr>\n",
       "  </thead>\n",
       "  <tbody>\n",
       "    <tr>\n",
       "      <th>0</th>\n",
       "      <td>_ovc5K41F2g</td>\n",
       "      <td>Canada police: we may never know what motivate...</td>\n",
       "      <td>-0.026394</td>\n",
       "      <td>4246</td>\n",
       "      <td>35.0</td>\n",
       "    </tr>\n",
       "    <tr>\n",
       "      <th>1</th>\n",
       "      <td>xas6x3xfGdo</td>\n",
       "      <td>Pakistan: hospitals struggle with influx of pa...</td>\n",
       "      <td>0.194444</td>\n",
       "      <td>2897</td>\n",
       "      <td>51.0</td>\n",
       "    </tr>\n",
       "    <tr>\n",
       "      <th>2</th>\n",
       "      <td>6-kll84mjm8</td>\n",
       "      <td>Bridge collapses during ribbon-cutting ceremon...</td>\n",
       "      <td>0.032378</td>\n",
       "      <td>65671</td>\n",
       "      <td>348.0</td>\n",
       "    </tr>\n",
       "    <tr>\n",
       "      <th>3</th>\n",
       "      <td>QmCeSZgRnck</td>\n",
       "      <td>Liz Truss and Keir Starmer face off for first ...</td>\n",
       "      <td>-0.013319</td>\n",
       "      <td>154636</td>\n",
       "      <td>1222.0</td>\n",
       "    </tr>\n",
       "    <tr>\n",
       "      <th>4</th>\n",
       "      <td>ZUdFzjIE8f0</td>\n",
       "      <td>Typhoon Hinnamnor: two rescued from undergroun...</td>\n",
       "      <td>-0.116643</td>\n",
       "      <td>7819</td>\n",
       "      <td>92.0</td>\n",
       "    </tr>\n",
       "    <tr>\n",
       "      <th>5</th>\n",
       "      <td>1ZCTQwljRqs</td>\n",
       "      <td>Liz Truss faces her first prime minister's que...</td>\n",
       "      <td>-0.003156</td>\n",
       "      <td>117232</td>\n",
       "      <td>931.0</td>\n",
       "    </tr>\n",
       "    <tr>\n",
       "      <th>6</th>\n",
       "      <td>rJngREUNLR8</td>\n",
       "      <td>Putin threatens to ‘freeze’ west by cutting ga...</td>\n",
       "      <td>-0.048481</td>\n",
       "      <td>56155</td>\n",
       "      <td>656.0</td>\n",
       "    </tr>\n",
       "    <tr>\n",
       "      <th>7</th>\n",
       "      <td>fkj2ZNJxN_8</td>\n",
       "      <td>Putin says election of Truss as UK leader ‘far...</td>\n",
       "      <td>0.008158</td>\n",
       "      <td>33025</td>\n",
       "      <td>514.0</td>\n",
       "    </tr>\n",
       "    <tr>\n",
       "      <th>8</th>\n",
       "      <td>DMaVscjesfE</td>\n",
       "      <td>Thérèse Coffey's alarm goes off during LBC int...</td>\n",
       "      <td>0.071538</td>\n",
       "      <td>19919</td>\n",
       "      <td>138.0</td>\n",
       "    </tr>\n",
       "    <tr>\n",
       "      <th>9</th>\n",
       "      <td>zoBGZnueeBo</td>\n",
       "      <td>Ukraine: United Nations 'gravely concerned' ab...</td>\n",
       "      <td>-0.155679</td>\n",
       "      <td>6565</td>\n",
       "      <td>94.0</td>\n",
       "    </tr>\n",
       "    <tr>\n",
       "      <th>10</th>\n",
       "      <td>jnBApgP_O9I</td>\n",
       "      <td>30 hours to power: Liz Truss's journey to beco...</td>\n",
       "      <td>0.022344</td>\n",
       "      <td>162377</td>\n",
       "      <td>976.0</td>\n",
       "    </tr>\n",
       "    <tr>\n",
       "      <th>11</th>\n",
       "      <td>lB3J2eIgQhc</td>\n",
       "      <td>Liz Truss makes first speech as PM after meeti...</td>\n",
       "      <td>0.084189</td>\n",
       "      <td>39712</td>\n",
       "      <td>389.0</td>\n",
       "    </tr>\n",
       "    <tr>\n",
       "      <th>12</th>\n",
       "      <td>ZPmiF23Tbfo</td>\n",
       "      <td>Emily Maitlis 'completely wrong' about BBC Tor...</td>\n",
       "      <td>0.033895</td>\n",
       "      <td>2238</td>\n",
       "      <td>27.0</td>\n",
       "    </tr>\n",
       "    <tr>\n",
       "      <th>13</th>\n",
       "      <td>ElYmLYkig5c</td>\n",
       "      <td>Liz Truss makes first speech as prime minister...</td>\n",
       "      <td>0.103065</td>\n",
       "      <td>196827</td>\n",
       "      <td>1310.0</td>\n",
       "    </tr>\n",
       "    <tr>\n",
       "      <th>14</th>\n",
       "      <td>O1I2Ty_XjTc</td>\n",
       "      <td>Bolsonaro's war on the Amazon: examining evide...</td>\n",
       "      <td>-0.076144</td>\n",
       "      <td>4278</td>\n",
       "      <td>108.0</td>\n",
       "    </tr>\n",
       "    <tr>\n",
       "      <th>15</th>\n",
       "      <td>nI2buq6hL2w</td>\n",
       "      <td>Meghan in first UK speech since she left royal...</td>\n",
       "      <td>0.133996</td>\n",
       "      <td>14786</td>\n",
       "      <td>159.0</td>\n",
       "    </tr>\n",
       "    <tr>\n",
       "      <th>16</th>\n",
       "      <td>68joCGK_GYs</td>\n",
       "      <td>The Florida activist poised to become the firs...</td>\n",
       "      <td>0.119100</td>\n",
       "      <td>2516</td>\n",
       "      <td>65.0</td>\n",
       "    </tr>\n",
       "    <tr>\n",
       "      <th>17</th>\n",
       "      <td>cFE4ejuc0a8</td>\n",
       "      <td>Johnson compares himself to Roman dictator in ...</td>\n",
       "      <td>0.033920</td>\n",
       "      <td>47205</td>\n",
       "      <td>285.0</td>\n",
       "    </tr>\n",
       "    <tr>\n",
       "      <th>18</th>\n",
       "      <td>3kPeQUTa75c</td>\n",
       "      <td>Boris Johnson's final speech as PM in full: 'W...</td>\n",
       "      <td>-0.034405</td>\n",
       "      <td>34372</td>\n",
       "      <td>239.0</td>\n",
       "    </tr>\n",
       "    <tr>\n",
       "      <th>19</th>\n",
       "      <td>-DKIVJZjMcI</td>\n",
       "      <td>Boris Johnson delivers final speech as prime m...</td>\n",
       "      <td>0.057269</td>\n",
       "      <td>19849</td>\n",
       "      <td>256.0</td>\n",
       "    </tr>\n",
       "    <tr>\n",
       "      <th>20</th>\n",
       "      <td>eRwS7XjrDS0</td>\n",
       "      <td>Deadly earthquake hits south-west China</td>\n",
       "      <td>-0.024428</td>\n",
       "      <td>80712</td>\n",
       "      <td>670.0</td>\n",
       "    </tr>\n",
       "    <tr>\n",
       "      <th>21</th>\n",
       "      <td>9R6BffIFiE8</td>\n",
       "      <td>Canada stabbing: body of one suspect found, sa...</td>\n",
       "      <td>-0.044517</td>\n",
       "      <td>11771</td>\n",
       "      <td>169.0</td>\n",
       "    </tr>\n",
       "    <tr>\n",
       "      <th>22</th>\n",
       "      <td>blc4Ot1Q9Fw</td>\n",
       "      <td>Meghan Markle delivers speech at Manchester yo...</td>\n",
       "      <td>0.044846</td>\n",
       "      <td>32405</td>\n",
       "      <td>415.0</td>\n",
       "    </tr>\n",
       "    <tr>\n",
       "      <th>23</th>\n",
       "      <td>sX96ON13Hs8</td>\n",
       "      <td>Pakistan PM visits flood-devastated Sindh prov...</td>\n",
       "      <td>0.031019</td>\n",
       "      <td>24004</td>\n",
       "      <td>138.0</td>\n",
       "    </tr>\n",
       "    <tr>\n",
       "      <th>24</th>\n",
       "      <td>ekL81ngo7ro</td>\n",
       "      <td>Priti Patel tells MPs to 'shut up' after tribu...</td>\n",
       "      <td>-0.061126</td>\n",
       "      <td>92108</td>\n",
       "      <td>653.0</td>\n",
       "    </tr>\n",
       "    <tr>\n",
       "      <th>25</th>\n",
       "      <td>djEFou2txlQ</td>\n",
       "      <td>'Boris Johnson round two':  Liz Truss booed as...</td>\n",
       "      <td>0.052192</td>\n",
       "      <td>108668</td>\n",
       "      <td>1057.0</td>\n",
       "    </tr>\n",
       "    <tr>\n",
       "      <th>26</th>\n",
       "      <td>mirPQUwaUh4</td>\n",
       "      <td>Ukraine PM Denys Shmyhal and EU foreign policy...</td>\n",
       "      <td>-0.102314</td>\n",
       "      <td>4790</td>\n",
       "      <td>44.0</td>\n",
       "    </tr>\n",
       "    <tr>\n",
       "      <th>27</th>\n",
       "      <td>-YcFDvbqr1k</td>\n",
       "      <td>Keir Starmer says incoming prime minister Liz ...</td>\n",
       "      <td>0.088155</td>\n",
       "      <td>28093</td>\n",
       "      <td>387.0</td>\n",
       "    </tr>\n",
       "    <tr>\n",
       "      <th>28</th>\n",
       "      <td>30y4aDFQapw</td>\n",
       "      <td>'Deliver, deliver, deliver': Truss vows change...</td>\n",
       "      <td>0.092442</td>\n",
       "      <td>48560</td>\n",
       "      <td>282.0</td>\n",
       "    </tr>\n",
       "    <tr>\n",
       "      <th>29</th>\n",
       "      <td>ErKtZBFAEd8</td>\n",
       "      <td>Three things Liz Truss might prefer you to for...</td>\n",
       "      <td>-0.000461</td>\n",
       "      <td>57477</td>\n",
       "      <td>1078.0</td>\n",
       "    </tr>\n",
       "    <tr>\n",
       "      <th>30</th>\n",
       "      <td>sr_pAjYMw18</td>\n",
       "      <td>Liz Truss declared Tory party leader and the U...</td>\n",
       "      <td>0.114667</td>\n",
       "      <td>60299</td>\n",
       "      <td>403.0</td>\n",
       "    </tr>\n",
       "    <tr>\n",
       "      <th>31</th>\n",
       "      <td>SF-tcBHHKPY</td>\n",
       "      <td>What is Liz Truss's vision for Britain?</td>\n",
       "      <td>0.086803</td>\n",
       "      <td>86627</td>\n",
       "      <td>844.0</td>\n",
       "    </tr>\n",
       "    <tr>\n",
       "      <th>32</th>\n",
       "      <td>xavhFLLk53g</td>\n",
       "      <td>Britain's next prime minister is announced aft...</td>\n",
       "      <td>0.093295</td>\n",
       "      <td>57998</td>\n",
       "      <td>399.0</td>\n",
       "    </tr>\n",
       "    <tr>\n",
       "      <th>33</th>\n",
       "      <td>CuyQRnO9bR8</td>\n",
       "      <td>Should we be eating insects? #shorts</td>\n",
       "      <td>0.054715</td>\n",
       "      <td>3517</td>\n",
       "      <td>94.0</td>\n",
       "    </tr>\n",
       "    <tr>\n",
       "      <th>34</th>\n",
       "      <td>phQYsPSSOjY</td>\n",
       "      <td>Sadness and celebrations as Chile overwhelming...</td>\n",
       "      <td>0.068992</td>\n",
       "      <td>22019</td>\n",
       "      <td>158.0</td>\n",
       "    </tr>\n",
       "    <tr>\n",
       "      <th>35</th>\n",
       "      <td>1L4yr3KtDGo</td>\n",
       "      <td>Canada stabbings: some victims targeted while ...</td>\n",
       "      <td>-0.314624</td>\n",
       "      <td>89547</td>\n",
       "      <td>669.0</td>\n",
       "    </tr>\n",
       "    <tr>\n",
       "      <th>36</th>\n",
       "      <td>rp2_taAXVeM</td>\n",
       "      <td>Donald Trump calls Joe Biden 'enemy of the sta...</td>\n",
       "      <td>-0.059408</td>\n",
       "      <td>70418</td>\n",
       "      <td>1320.0</td>\n",
       "    </tr>\n",
       "    <tr>\n",
       "      <th>37</th>\n",
       "      <td>ckw_Io_IniE</td>\n",
       "      <td>Hijacked plane flies low over Mississippi</td>\n",
       "      <td>0.027299</td>\n",
       "      <td>89155</td>\n",
       "      <td>417.0</td>\n",
       "    </tr>\n",
       "    <tr>\n",
       "      <th>38</th>\n",
       "      <td>wG25ZcZCWn4</td>\n",
       "      <td>Gorbachev 'was so amazing' says former adviser...</td>\n",
       "      <td>0.047886</td>\n",
       "      <td>23027</td>\n",
       "      <td>228.0</td>\n",
       "    </tr>\n",
       "    <tr>\n",
       "      <th>39</th>\n",
       "      <td>ewjLeySd_w4</td>\n",
       "      <td>IAEA delivers its assessment of Zaporizhzhia N...</td>\n",
       "      <td>-0.157383</td>\n",
       "      <td>44372</td>\n",
       "      <td>219.0</td>\n",
       "    </tr>\n",
       "    <tr>\n",
       "      <th>40</th>\n",
       "      <td>pxcV5AcFk3M</td>\n",
       "      <td>IAEA chief delivers press conference in Vienna...</td>\n",
       "      <td>-0.027337</td>\n",
       "      <td>23500</td>\n",
       "      <td>213.0</td>\n",
       "    </tr>\n",
       "    <tr>\n",
       "      <th>41</th>\n",
       "      <td>ZoPYLzM-N4Q</td>\n",
       "      <td>Zelenskiy accuses Russia of 'radiation blackma...</td>\n",
       "      <td>-0.120015</td>\n",
       "      <td>7333</td>\n",
       "      <td>208.0</td>\n",
       "    </tr>\n",
       "    <tr>\n",
       "      <th>42</th>\n",
       "      <td>W823f8IYheM</td>\n",
       "      <td>Chicago mayor chides Texas governor for expell...</td>\n",
       "      <td>0.088028</td>\n",
       "      <td>6647</td>\n",
       "      <td>162.0</td>\n",
       "    </tr>\n",
       "    <tr>\n",
       "      <th>43</th>\n",
       "      <td>i5znLva2bhM</td>\n",
       "      <td>Extinction Rebellion activists glue themselves...</td>\n",
       "      <td>0.016006</td>\n",
       "      <td>10854</td>\n",
       "      <td>181.0</td>\n",
       "    </tr>\n",
       "    <tr>\n",
       "      <th>44</th>\n",
       "      <td>9SKHlGSkesU</td>\n",
       "      <td>Attack on Argentina vice-president 'most serio...</td>\n",
       "      <td>-0.038395</td>\n",
       "      <td>8988</td>\n",
       "      <td>102.0</td>\n",
       "    </tr>\n",
       "    <tr>\n",
       "      <th>45</th>\n",
       "      <td>8Lgaz5idtMU</td>\n",
       "      <td>Man points gun at Argentinian vice-president C...</td>\n",
       "      <td>0.057194</td>\n",
       "      <td>143562</td>\n",
       "      <td>364.0</td>\n",
       "    </tr>\n",
       "    <tr>\n",
       "      <th>46</th>\n",
       "      <td>ireBQ3S8VE8</td>\n",
       "      <td>Biden warns in primetime speech, ‘Democracy is...</td>\n",
       "      <td>-0.131607</td>\n",
       "      <td>51551</td>\n",
       "      <td>471.0</td>\n",
       "    </tr>\n",
       "    <tr>\n",
       "      <th>47</th>\n",
       "      <td>prgv1dXXzmo</td>\n",
       "      <td>Biden delivers primetime speech from Philadelp...</td>\n",
       "      <td>-0.049786</td>\n",
       "      <td>34874</td>\n",
       "      <td>403.0</td>\n",
       "    </tr>\n",
       "    <tr>\n",
       "      <th>48</th>\n",
       "      <td>6GLZf8WOLiA</td>\n",
       "      <td>Integrity of Zaporizhzhia nuclear plant 'viola...</td>\n",
       "      <td>-0.126064</td>\n",
       "      <td>39143</td>\n",
       "      <td>276.0</td>\n",
       "    </tr>\n",
       "    <tr>\n",
       "      <th>49</th>\n",
       "      <td>5tjtbvOxdxA</td>\n",
       "      <td>Footage shows moment of explosion at town near...</td>\n",
       "      <td>-0.245633</td>\n",
       "      <td>9529</td>\n",
       "      <td>80.0</td>\n",
       "    </tr>\n",
       "  </tbody>\n",
       "</table>\n",
       "</div>"
      ],
      "text/plain": [
       "       video_id                                          vid_title  \\\n",
       "0   _ovc5K41F2g  Canada police: we may never know what motivate...   \n",
       "1   xas6x3xfGdo  Pakistan: hospitals struggle with influx of pa...   \n",
       "2   6-kll84mjm8  Bridge collapses during ribbon-cutting ceremon...   \n",
       "3   QmCeSZgRnck  Liz Truss and Keir Starmer face off for first ...   \n",
       "4   ZUdFzjIE8f0  Typhoon Hinnamnor: two rescued from undergroun...   \n",
       "5   1ZCTQwljRqs  Liz Truss faces her first prime minister's que...   \n",
       "6   rJngREUNLR8  Putin threatens to ‘freeze’ west by cutting ga...   \n",
       "7   fkj2ZNJxN_8  Putin says election of Truss as UK leader ‘far...   \n",
       "8   DMaVscjesfE  Thérèse Coffey's alarm goes off during LBC int...   \n",
       "9   zoBGZnueeBo  Ukraine: United Nations 'gravely concerned' ab...   \n",
       "10  jnBApgP_O9I  30 hours to power: Liz Truss's journey to beco...   \n",
       "11  lB3J2eIgQhc  Liz Truss makes first speech as PM after meeti...   \n",
       "12  ZPmiF23Tbfo  Emily Maitlis 'completely wrong' about BBC Tor...   \n",
       "13  ElYmLYkig5c  Liz Truss makes first speech as prime minister...   \n",
       "14  O1I2Ty_XjTc  Bolsonaro's war on the Amazon: examining evide...   \n",
       "15  nI2buq6hL2w  Meghan in first UK speech since she left royal...   \n",
       "16  68joCGK_GYs  The Florida activist poised to become the firs...   \n",
       "17  cFE4ejuc0a8  Johnson compares himself to Roman dictator in ...   \n",
       "18  3kPeQUTa75c  Boris Johnson's final speech as PM in full: 'W...   \n",
       "19  -DKIVJZjMcI  Boris Johnson delivers final speech as prime m...   \n",
       "20  eRwS7XjrDS0            Deadly earthquake hits south-west China   \n",
       "21  9R6BffIFiE8  Canada stabbing: body of one suspect found, sa...   \n",
       "22  blc4Ot1Q9Fw  Meghan Markle delivers speech at Manchester yo...   \n",
       "23  sX96ON13Hs8  Pakistan PM visits flood-devastated Sindh prov...   \n",
       "24  ekL81ngo7ro  Priti Patel tells MPs to 'shut up' after tribu...   \n",
       "25  djEFou2txlQ  'Boris Johnson round two':  Liz Truss booed as...   \n",
       "26  mirPQUwaUh4  Ukraine PM Denys Shmyhal and EU foreign policy...   \n",
       "27  -YcFDvbqr1k  Keir Starmer says incoming prime minister Liz ...   \n",
       "28  30y4aDFQapw  'Deliver, deliver, deliver': Truss vows change...   \n",
       "29  ErKtZBFAEd8  Three things Liz Truss might prefer you to for...   \n",
       "30  sr_pAjYMw18  Liz Truss declared Tory party leader and the U...   \n",
       "31  SF-tcBHHKPY            What is Liz Truss's vision for Britain?   \n",
       "32  xavhFLLk53g  Britain's next prime minister is announced aft...   \n",
       "33  CuyQRnO9bR8               Should we be eating insects? #shorts   \n",
       "34  phQYsPSSOjY  Sadness and celebrations as Chile overwhelming...   \n",
       "35  1L4yr3KtDGo  Canada stabbings: some victims targeted while ...   \n",
       "36  rp2_taAXVeM  Donald Trump calls Joe Biden 'enemy of the sta...   \n",
       "37  ckw_Io_IniE          Hijacked plane flies low over Mississippi   \n",
       "38  wG25ZcZCWn4  Gorbachev 'was so amazing' says former adviser...   \n",
       "39  ewjLeySd_w4  IAEA delivers its assessment of Zaporizhzhia N...   \n",
       "40  pxcV5AcFk3M  IAEA chief delivers press conference in Vienna...   \n",
       "41  ZoPYLzM-N4Q  Zelenskiy accuses Russia of 'radiation blackma...   \n",
       "42  W823f8IYheM  Chicago mayor chides Texas governor for expell...   \n",
       "43  i5znLva2bhM  Extinction Rebellion activists glue themselves...   \n",
       "44  9SKHlGSkesU  Attack on Argentina vice-president 'most serio...   \n",
       "45  8Lgaz5idtMU  Man points gun at Argentinian vice-president C...   \n",
       "46  ireBQ3S8VE8  Biden warns in primetime speech, ‘Democracy is...   \n",
       "47  prgv1dXXzmo  Biden delivers primetime speech from Philadelp...   \n",
       "48  6GLZf8WOLiA  Integrity of Zaporizhzhia nuclear plant 'viola...   \n",
       "49  5tjtbvOxdxA  Footage shows moment of explosion at town near...   \n",
       "\n",
       "    avg_comp_sentiment vid_viewcount  vid_likecount  \n",
       "0            -0.026394          4246           35.0  \n",
       "1             0.194444          2897           51.0  \n",
       "2             0.032378         65671          348.0  \n",
       "3            -0.013319        154636         1222.0  \n",
       "4            -0.116643          7819           92.0  \n",
       "5            -0.003156        117232          931.0  \n",
       "6            -0.048481         56155          656.0  \n",
       "7             0.008158         33025          514.0  \n",
       "8             0.071538         19919          138.0  \n",
       "9            -0.155679          6565           94.0  \n",
       "10            0.022344        162377          976.0  \n",
       "11            0.084189         39712          389.0  \n",
       "12            0.033895          2238           27.0  \n",
       "13            0.103065        196827         1310.0  \n",
       "14           -0.076144          4278          108.0  \n",
       "15            0.133996         14786          159.0  \n",
       "16            0.119100          2516           65.0  \n",
       "17            0.033920         47205          285.0  \n",
       "18           -0.034405         34372          239.0  \n",
       "19            0.057269         19849          256.0  \n",
       "20           -0.024428         80712          670.0  \n",
       "21           -0.044517         11771          169.0  \n",
       "22            0.044846         32405          415.0  \n",
       "23            0.031019         24004          138.0  \n",
       "24           -0.061126         92108          653.0  \n",
       "25            0.052192        108668         1057.0  \n",
       "26           -0.102314          4790           44.0  \n",
       "27            0.088155         28093          387.0  \n",
       "28            0.092442         48560          282.0  \n",
       "29           -0.000461         57477         1078.0  \n",
       "30            0.114667         60299          403.0  \n",
       "31            0.086803         86627          844.0  \n",
       "32            0.093295         57998          399.0  \n",
       "33            0.054715          3517           94.0  \n",
       "34            0.068992         22019          158.0  \n",
       "35           -0.314624         89547          669.0  \n",
       "36           -0.059408         70418         1320.0  \n",
       "37            0.027299         89155          417.0  \n",
       "38            0.047886         23027          228.0  \n",
       "39           -0.157383         44372          219.0  \n",
       "40           -0.027337         23500          213.0  \n",
       "41           -0.120015          7333          208.0  \n",
       "42            0.088028          6647          162.0  \n",
       "43            0.016006         10854          181.0  \n",
       "44           -0.038395          8988          102.0  \n",
       "45            0.057194        143562          364.0  \n",
       "46           -0.131607         51551          471.0  \n",
       "47           -0.049786         34874          403.0  \n",
       "48           -0.126064         39143          276.0  \n",
       "49           -0.245633          9529           80.0  "
      ]
     },
     "execution_count": 46,
     "metadata": {},
     "output_type": "execute_result"
    }
   ],
   "source": [
    "video_comp_sentiments"
   ]
  },
  {
   "cell_type": "code",
   "execution_count": 47,
   "metadata": {},
   "outputs": [],
   "source": [
    "import seaborn as sns"
   ]
  },
  {
   "cell_type": "code",
   "execution_count": 48,
   "metadata": {},
   "outputs": [
    {
     "data": {
      "text/plain": [
       "<AxesSubplot:xlabel='avg_comp_sentiment', ylabel='vid_viewcount'>"
      ]
     },
     "execution_count": 48,
     "metadata": {},
     "output_type": "execute_result"
    },
    {
     "data": {
      "image/png": "[encoded data removed]",
      "text/plain": [
       "<Figure size 432x288 with 1 Axes>"
      ]
     },
     "metadata": {
      "needs_background": "light"
     },
     "output_type": "display_data"
    }
   ],
   "source": [
    "sns.scatterplot(data=video_comp_sentiments, x='avg_comp_sentiment', y='vid_viewcount')"
   ]
  },
  {
   "cell_type": "code",
   "execution_count": 49,
   "metadata": {},
   "outputs": [],
   "source": [
    "import plotly.express as px\n",
    "import plotly.graph_objects as go"
   ]
  },
  {
   "cell_type": "code",
   "execution_count": 62,
   "metadata": {},
   "outputs": [
    {
     "data": {
      "application/vnd.plotly.v1+json": {
       "config": {
        "plotlyServerURL": "https://plot.ly"
       },
       "data": [
        {
         "hovertemplate": "<b>%{text}</b> <br>Sentiment Value: %{x} <br>View Count: %{y}",
         "marker": {
          "color": "Blue"
         },
         "mode": "markers",
         "text": [
          "Canada police: we may never know what motivated suspect Myles Sanderson",
          "Pakistan: hospitals struggle with influx of patients as third of country under water",
          "Bridge collapses during ribbon-cutting ceremony in Democratic Republic of Congo",
          "Liz Truss and Keir Starmer face off for first time at PMQs",
          "Typhoon Hinnamnor: two rescued from underground car park in South Korea",
          "Liz Truss faces her first prime minister's questions – watch live",
          "Putin threatens to ‘freeze’ west by cutting gas and oil supplies if price caps imposed",
          "Putin says election of Truss as UK leader ‘far from democratic’",
          "Thérèse Coffey's alarm goes off during LBC interview: ‘You’re gonna get a bit of Dr Dre’",
          "Ukraine: United Nations 'gravely concerned' about Zaporizhzhia plant",
          "30 hours to power: Liz Truss's journey to becoming PM",
          "Liz Truss makes first speech as PM after meeting the Queen – watch in full",
          "Emily Maitlis 'completely wrong' about BBC Tory agent claims, says chairman",
          "Liz Truss makes first speech as prime minister – watch live",
          "Bolsonaro's war on the Amazon: examining evidence of crimes against Indigenous people",
          "Meghan in first UK speech since she left royal duties: 'Very nice to be back'",
          "The Florida activist poised to become the first Gen Z member of Congress",
          "Johnson compares himself to Roman dictator in speech hinting at comeback",
          "Boris Johnson's final speech as PM in full: 'We will come out stronger'",
          "Boris Johnson delivers final speech as prime minister – watch live",
          "Deadly earthquake hits south-west China",
          "Canada stabbing: body of one suspect found, say police",
          "Meghan Markle delivers speech at Manchester young leaders' summit – watch live",
          "Pakistan PM visits flood-devastated Sindh province",
          "Priti Patel tells MPs to 'shut up' after tribute to Boris Johnson heckled",
          "'Boris Johnson round two':  Liz Truss booed as she enters party headquarters",
          "Ukraine PM Denys Shmyhal and EU foreign policy chief Josep Borrell speak in Brussels – watch live",
          "Keir Starmer says incoming prime minister Liz Truss 'out of touch'  –  video",
          "'Deliver, deliver, deliver': Truss vows change and thanks Johnson in acceptance speech",
          "Three things Liz Truss might prefer you to forget  #shorts",
          "Liz Truss declared Tory party leader and the UK's new prime minister",
          "What is Liz Truss's vision for Britain?",
          "Britain's next prime minister is announced after Conservative ballot – watch live",
          "Should we be eating insects? #shorts",
          "Sadness and celebrations as Chile overwhelmingly rejects progressive constitution",
          "Canada stabbings: some victims targeted while others were attacked at random, say police",
          "Donald Trump calls Joe Biden 'enemy of the state' after Mar-a-Lago raid",
          "Hijacked plane flies low over Mississippi",
          "Gorbachev 'was so amazing' says former adviser to Ronald Reagan at Moscow funeral",
          "IAEA delivers its assessment of Zaporizhzhia NPP after returning from facility",
          "IAEA chief delivers press conference in Vienna after returning from Zaporizhzhia NPP – watch in full",
          "Zelenskiy accuses Russia of 'radiation blackmail' after shelling near Zaporizhzhia plant",
          "Chicago mayor chides Texas governor for expelling migrants: 'A man without morals'",
          "Extinction Rebellion activists glue themselves around Speaker's chair in parliament",
          "Attack on Argentina vice-president 'most serious event since return of democracy'",
          "Man points gun at Argentinian vice-president Cristina Fernández de Kirchner",
          "Biden warns in primetime speech, ‘Democracy is under assault’,",
          "Biden delivers primetime speech from Philadelphia – as it happened",
          "Integrity of Zaporizhzhia nuclear plant 'violated several times', says IAEA head",
          "Footage shows moment of explosion at town near Zaporizhzhia nuclear plant"
         ],
         "type": "scatter",
         "x": [
          -0.026394444444444453,
          0.19444444444444448,
          0.032377777777777776,
          -0.013319191919191906,
          -0.11664285714285712,
          -0.0031559999999999965,
          -0.048481,
          0.008158,
          0.07153773584905661,
          -0.1556793103448276,
          0.022343877551020404,
          0.08418888888888888,
          0.03389473684210527,
          0.103065,
          -0.076144,
          0.13399569892473115,
          0.1191,
          0.03392000000000001,
          -0.03440459770114941,
          0.05726923076923078,
          -0.02442835820895523,
          -0.044517241379310325,
          0.044846000000000025,
          0.031018518518518518,
          -0.061126262626262605,
          0.05219200000000001,
          -0.1023142857142857,
          0.088155,
          0.09244200000000001,
          -0.0004606060606060637,
          0.11466700000000003,
          0.086803,
          0.09329500000000002,
          0.05471470588235295,
          0.06899186046511625,
          -0.314624,
          -0.059408,
          0.027298823529411768,
          0.04788571428571429,
          -0.1573828571428571,
          -0.027336734693877554,
          -0.12001538461538462,
          0.0880277777777778,
          0.016006060606060593,
          -0.03839523809523811,
          0.057193999999999995,
          -0.13160699999999997,
          -0.049786000000000004,
          -0.12606406250000002,
          -0.24563333333333334
         ],
         "y": [
          4246,
          2897,
          65671,
          154636,
          7819,
          117232,
          56155,
          33025,
          19919,
          6565,
          162377,
          39712,
          2238,
          196827,
          4278,
          14786,
          2516,
          47205,
          34372,
          19849,
          80712,
          11771,
          32405,
          24004,
          92108,
          108668,
          4790,
          28093,
          48560,
          57477,
          60299,
          86627,
          57998,
          3517,
          22019,
          89547,
          70418,
          89155,
          23027,
          44372,
          23500,
          7333,
          6647,
          10854,
          8988,
          143562,
          51551,
          34874,
          39143,
          9529
         ]
        },
        {
         "marker": {
          "color": "Red"
         },
         "mode": "markers",
         "type": "scatter",
         "x": [
          -0.026394444444444453,
          0.19444444444444448,
          0.032377777777777776,
          -0.013319191919191906,
          -0.11664285714285712,
          -0.0031559999999999965,
          -0.048481,
          0.008158,
          0.07153773584905661,
          -0.1556793103448276,
          0.022343877551020404,
          0.08418888888888888,
          0.03389473684210527,
          0.103065,
          -0.076144,
          0.13399569892473115,
          0.1191,
          0.03392000000000001,
          -0.03440459770114941,
          0.05726923076923078,
          -0.02442835820895523,
          -0.044517241379310325,
          0.044846000000000025,
          0.031018518518518518,
          -0.061126262626262605,
          0.05219200000000001,
          -0.1023142857142857,
          0.088155,
          0.09244200000000001,
          -0.0004606060606060637,
          0.11466700000000003,
          0.086803,
          0.09329500000000002,
          0.05471470588235295,
          0.06899186046511625,
          -0.314624,
          -0.059408,
          0.027298823529411768,
          0.04788571428571429,
          -0.1573828571428571,
          -0.027336734693877554,
          -0.12001538461538462,
          0.0880277777777778,
          0.016006060606060593,
          -0.03839523809523811,
          0.057193999999999995,
          -0.13160699999999997,
          -0.049786000000000004,
          -0.12606406250000002,
          -0.24563333333333334
         ],
         "y": [
          35,
          51,
          348,
          1222,
          92,
          931,
          656,
          514,
          138,
          94,
          976,
          389,
          27,
          1310,
          108,
          159,
          65,
          285,
          239,
          256,
          670,
          169,
          415,
          138,
          653,
          1057,
          44,
          387,
          282,
          1078,
          403,
          844,
          399,
          94,
          158,
          669,
          1320,
          417,
          228,
          219,
          213,
          208,
          162,
          181,
          102,
          364,
          471,
          403,
          276,
          80
         ]
        }
       ],
       "layout": {
        "template": {
         "data": {
          "bar": [
           {
            "error_x": {
             "color": "#2a3f5f"
            },
            "error_y": {
             "color": "#2a3f5f"
            },
            "marker": {
             "line": {
              "color": "#E5ECF6",
              "width": 0.5
             },
             "pattern": {
              "fillmode": "overlay",
              "size": 10,
              "solidity": 0.2
             }
            },
            "type": "bar"
           }
          ],
          "barpolar": [
           {
            "marker": {
             "line": {
              "color": "#E5ECF6",
              "width": 0.5
             },
             "pattern": {
              "fillmode": "overlay",
              "size": 10,
              "solidity": 0.2
             }
            },
            "type": "barpolar"
           }
          ],
          "carpet": [
           {
            "aaxis": {
             "endlinecolor": "#2a3f5f",
             "gridcolor": "white",
             "linecolor": "white",
             "minorgridcolor": "white",
             "startlinecolor": "#2a3f5f"
            },
            "baxis": {
             "endlinecolor": "#2a3f5f",
             "gridcolor": "white",
             "linecolor": "white",
             "minorgridcolor": "white",
             "startlinecolor": "#2a3f5f"
            },
            "type": "carpet"
           }
          ],
          "choropleth": [
           {
            "colorbar": {
             "outlinewidth": 0,
             "ticks": ""
            },
            "type": "choropleth"
           }
          ],
          "contour": [
           {
            "colorbar": {
             "outlinewidth": 0,
             "ticks": ""
            },
            "colorscale": [
             [
              0,
              "#0d0887"
             ],
             [
              0.1111111111111111,
              "#46039f"
             ],
             [
              0.2222222222222222,
              "#7201a8"
             ],
             [
              0.3333333333333333,
              "#9c179e"
             ],
             [
              0.4444444444444444,
              "#bd3786"
             ],
             [
              0.5555555555555556,
              "#d8576b"
             ],
             [
              0.6666666666666666,
              "#ed7953"
             ],
             [
              0.7777777777777778,
              "#fb9f3a"
             ],
             [
              0.8888888888888888,
              "#fdca26"
             ],
             [
              1,
              "#f0f921"
             ]
            ],
            "type": "contour"
           }
          ],
          "contourcarpet": [
           {
            "colorbar": {
             "outlinewidth": 0,
             "ticks": ""
            },
            "type": "contourcarpet"
           }
          ],
          "heatmap": [
           {
            "colorbar": {
             "outlinewidth": 0,
             "ticks": ""
            },
            "colorscale": [
             [
              0,
              "#0d0887"
             ],
             [
              0.1111111111111111,
              "#46039f"
             ],
             [
              0.2222222222222222,
              "#7201a8"
             ],
             [
              0.3333333333333333,
              "#9c179e"
             ],
             [
              0.4444444444444444,
              "#bd3786"
             ],
             [
              0.5555555555555556,
              "#d8576b"
             ],
             [
              0.6666666666666666,
              "#ed7953"
             ],
             [
              0.7777777777777778,
              "#fb9f3a"
             ],
             [
              0.8888888888888888,
              "#fdca26"
             ],
             [
              1,
              "#f0f921"
             ]
            ],
            "type": "heatmap"
           }
          ],
          "heatmapgl": [
           {
            "colorbar": {
             "outlinewidth": 0,
             "ticks": ""
            },
            "colorscale": [
             [
              0,
              "#0d0887"
             ],
             [
              0.1111111111111111,
              "#46039f"
             ],
             [
              0.2222222222222222,
              "#7201a8"
             ],
             [
              0.3333333333333333,
              "#9c179e"
             ],
             [
              0.4444444444444444,
              "#bd3786"
             ],
             [
              0.5555555555555556,
              "#d8576b"
             ],
             [
              0.6666666666666666,
              "#ed7953"
             ],
             [
              0.7777777777777778,
              "#fb9f3a"
             ],
             [
              0.8888888888888888,
              "#fdca26"
             ],
             [
              1,
              "#f0f921"
             ]
            ],
            "type": "heatmapgl"
           }
          ],
          "histogram": [
           {
            "marker": {
             "pattern": {
              "fillmode": "overlay",
              "size": 10,
              "solidity": 0.2
             }
            },
            "type": "histogram"
           }
          ],
          "histogram2d": [
           {
            "colorbar": {
             "outlinewidth": 0,
             "ticks": ""
            },
            "colorscale": [
             [
              0,
              "#0d0887"
             ],
             [
              0.1111111111111111,
              "#46039f"
             ],
             [
              0.2222222222222222,
              "#7201a8"
             ],
             [
              0.3333333333333333,
              "#9c179e"
             ],
             [
              0.4444444444444444,
              "#bd3786"
             ],
             [
              0.5555555555555556,
              "#d8576b"
             ],
             [
              0.6666666666666666,
              "#ed7953"
             ],
             [
              0.7777777777777778,
              "#fb9f3a"
             ],
             [
              0.8888888888888888,
              "#fdca26"
             ],
             [
              1,
              "#f0f921"
             ]
            ],
            "type": "histogram2d"
           }
          ],
          "histogram2dcontour": [
           {
            "colorbar": {
             "outlinewidth": 0,
             "ticks": ""
            },
            "colorscale": [
             [
              0,
              "#0d0887"
             ],
             [
              0.1111111111111111,
              "#46039f"
             ],
             [
              0.2222222222222222,
              "#7201a8"
             ],
             [
              0.3333333333333333,
              "#9c179e"
             ],
             [
              0.4444444444444444,
              "#bd3786"
             ],
             [
              0.5555555555555556,
              "#d8576b"
             ],
             [
              0.6666666666666666,
              "#ed7953"
             ],
             [
              0.7777777777777778,
              "#fb9f3a"
             ],
             [
              0.8888888888888888,
              "#fdca26"
             ],
             [
              1,
              "#f0f921"
             ]
            ],
            "type": "histogram2dcontour"
           }
          ],
          "mesh3d": [
           {
            "colorbar": {
             "outlinewidth": 0,
             "ticks": ""
            },
            "type": "mesh3d"
           }
          ],
          "parcoords": [
           {
            "line": {
             "colorbar": {
              "outlinewidth": 0,
              "ticks": ""
             }
            },
            "type": "parcoords"
           }
          ],
          "pie": [
           {
            "automargin": true,
            "type": "pie"
           }
          ],
          "scatter": [
           {
            "marker": {
             "colorbar": {
              "outlinewidth": 0,
              "ticks": ""
             }
            },
            "type": "scatter"
           }
          ],
          "scatter3d": [
           {
            "line": {
             "colorbar": {
              "outlinewidth": 0,
              "ticks": ""
             }
            },
            "marker": {
             "colorbar": {
              "outlinewidth": 0,
              "ticks": ""
             }
            },
            "type": "scatter3d"
           }
          ],
          "scattercarpet": [
           {
            "marker": {
             "colorbar": {
              "outlinewidth": 0,
              "ticks": ""
             }
            },
            "type": "scattercarpet"
           }
          ],
          "scattergeo": [
           {
            "marker": {
             "colorbar": {
              "outlinewidth": 0,
              "ticks": ""
             }
            },
            "type": "scattergeo"
           }
          ],
          "scattergl": [
           {
            "marker": {
             "colorbar": {
              "outlinewidth": 0,
              "ticks": ""
             }
            },
            "type": "scattergl"
           }
          ],
          "scattermapbox": [
           {
            "marker": {
             "colorbar": {
              "outlinewidth": 0,
              "ticks": ""
             }
            },
            "type": "scattermapbox"
           }
          ],
          "scatterpolar": [
           {
            "marker": {
             "colorbar": {
              "outlinewidth": 0,
              "ticks": ""
             }
            },
            "type": "scatterpolar"
           }
          ],
          "scatterpolargl": [
           {
            "marker": {
             "colorbar": {
              "outlinewidth": 0,
              "ticks": ""
             }
            },
            "type": "scatterpolargl"
           }
          ],
          "scatterternary": [
           {
            "marker": {
             "colorbar": {
              "outlinewidth": 0,
              "ticks": ""
             }
            },
            "type": "scatterternary"
           }
          ],
          "surface": [
           {
            "colorbar": {
             "outlinewidth": 0,
             "ticks": ""
            },
            "colorscale": [
             [
              0,
              "#0d0887"
             ],
             [
              0.1111111111111111,
              "#46039f"
             ],
             [
              0.2222222222222222,
              "#7201a8"
             ],
             [
              0.3333333333333333,
              "#9c179e"
             ],
             [
              0.4444444444444444,
              "#bd3786"
             ],
             [
              0.5555555555555556,
              "#d8576b"
             ],
             [
              0.6666666666666666,
              "#ed7953"
             ],
             [
              0.7777777777777778,
              "#fb9f3a"
             ],
             [
              0.8888888888888888,
              "#fdca26"
             ],
             [
              1,
              "#f0f921"
             ]
            ],
            "type": "surface"
           }
          ],
          "table": [
           {
            "cells": {
             "fill": {
              "color": "#EBF0F8"
             },
             "line": {
              "color": "white"
             }
            },
            "header": {
             "fill": {
              "color": "#C8D4E3"
             },
             "line": {
              "color": "white"
             }
            },
            "type": "table"
           }
          ]
         },
         "layout": {
          "annotationdefaults": {
           "arrowcolor": "#2a3f5f",
           "arrowhead": 0,
           "arrowwidth": 1
          },
          "autotypenumbers": "strict",
          "coloraxis": {
           "colorbar": {
            "outlinewidth": 0,
            "ticks": ""
           }
          },
          "colorscale": {
           "diverging": [
            [
             0,
             "#8e0152"
            ],
            [
             0.1,
             "#c51b7d"
            ],
            [
             0.2,
             "#de77ae"
            ],
            [
             0.3,
             "#f1b6da"
            ],
            [
             0.4,
             "#fde0ef"
            ],
            [
             0.5,
             "#f7f7f7"
            ],
            [
             0.6,
             "#e6f5d0"
            ],
            [
             0.7,
             "#b8e186"
            ],
            [
             0.8,
             "#7fbc41"
            ],
            [
             0.9,
             "#4d9221"
            ],
            [
             1,
             "#276419"
            ]
           ],
           "sequential": [
            [
             0,
             "#0d0887"
            ],
            [
             0.1111111111111111,
             "#46039f"
            ],
            [
             0.2222222222222222,
             "#7201a8"
            ],
            [
             0.3333333333333333,
             "#9c179e"
            ],
            [
             0.4444444444444444,
             "#bd3786"
            ],
            [
             0.5555555555555556,
             "#d8576b"
            ],
            [
             0.6666666666666666,
             "#ed7953"
            ],
            [
             0.7777777777777778,
             "#fb9f3a"
            ],
            [
             0.8888888888888888,
             "#fdca26"
            ],
            [
             1,
             "#f0f921"
            ]
           ],
           "sequentialminus": [
            [
             0,
             "#0d0887"
            ],
            [
             0.1111111111111111,
             "#46039f"
            ],
            [
             0.2222222222222222,
             "#7201a8"
            ],
            [
             0.3333333333333333,
             "#9c179e"
            ],
            [
             0.4444444444444444,
             "#bd3786"
            ],
            [
             0.5555555555555556,
             "#d8576b"
            ],
            [
             0.6666666666666666,
             "#ed7953"
            ],
            [
             0.7777777777777778,
             "#fb9f3a"
            ],
            [
             0.8888888888888888,
             "#fdca26"
            ],
            [
             1,
             "#f0f921"
            ]
           ]
          },
          "colorway": [
           "#636efa",
           "#EF553B",
           "#00cc96",
           "#ab63fa",
           "#FFA15A",
           "#19d3f3",
           "#FF6692",
           "#B6E880",
           "#FF97FF",
           "#FECB52"
          ],
          "font": {
           "color": "#2a3f5f"
          },
          "geo": {
           "bgcolor": "white",
           "lakecolor": "white",
           "landcolor": "#E5ECF6",
           "showlakes": true,
           "showland": true,
           "subunitcolor": "white"
          },
          "hoverlabel": {
           "align": "left"
          },
          "hovermode": "closest",
          "mapbox": {
           "style": "light"
          },
          "paper_bgcolor": "white",
          "plot_bgcolor": "#E5ECF6",
          "polar": {
           "angularaxis": {
            "gridcolor": "white",
            "linecolor": "white",
            "ticks": ""
           },
           "bgcolor": "#E5ECF6",
           "radialaxis": {
            "gridcolor": "white",
            "linecolor": "white",
            "ticks": ""
           }
          },
          "scene": {
           "xaxis": {
            "backgroundcolor": "#E5ECF6",
            "gridcolor": "white",
            "gridwidth": 2,
            "linecolor": "white",
            "showbackground": true,
            "ticks": "",
            "zerolinecolor": "white"
           },
           "yaxis": {
            "backgroundcolor": "#E5ECF6",
            "gridcolor": "white",
            "gridwidth": 2,
            "linecolor": "white",
            "showbackground": true,
            "ticks": "",
            "zerolinecolor": "white"
           },
           "zaxis": {
            "backgroundcolor": "#E5ECF6",
            "gridcolor": "white",
            "gridwidth": 2,
            "linecolor": "white",
            "showbackground": true,
            "ticks": "",
            "zerolinecolor": "white"
           }
          },
          "shapedefaults": {
           "line": {
            "color": "#2a3f5f"
           }
          },
          "ternary": {
           "aaxis": {
            "gridcolor": "white",
            "linecolor": "white",
            "ticks": ""
           },
           "baxis": {
            "gridcolor": "white",
            "linecolor": "white",
            "ticks": ""
           },
           "bgcolor": "#E5ECF6",
           "caxis": {
            "gridcolor": "white",
            "linecolor": "white",
            "ticks": ""
           }
          },
          "title": {
           "x": 0.05
          },
          "xaxis": {
           "automargin": true,
           "gridcolor": "white",
           "linecolor": "white",
           "ticks": "",
           "title": {
            "standoff": 15
           },
           "zerolinecolor": "white",
           "zerolinewidth": 2
          },
          "yaxis": {
           "automargin": true,
           "gridcolor": "white",
           "linecolor": "white",
           "ticks": "",
           "title": {
            "standoff": 15
           },
           "zerolinecolor": "white",
           "zerolinewidth": 2
          }
         }
        }
       }
      }
     },
     "metadata": {},
     "output_type": "display_data"
    }
   ],
   "source": [
    "# fig = px.scatter(video_comp_sentiments, x='avg_comp_sentiment', y='vid_viewcount'\n",
    "#                 )\n",
    "# fig.update_traces(hovertemplate='%{} <br>Sentiment: %{x} <br>View Count: %{y}')\n",
    "\n",
    "fig = go.Figure(data=go.Scatter(\n",
    "    x=video_comp_sentiments['avg_comp_sentiment'],\n",
    "    y=video_comp_sentiments['vid_viewcount'],\n",
    "    mode='markers',\n",
    "    # marker=dict(\n",
    "    #     size=14,\n",
    "    #     color=video_comp_sentiments['avg_comp_sentiment'],\n",
    "    #     colorscale=\"Viridis\"\n",
    "    # )\n",
    "    # marker_color=video_comp_sentiments['avg_comp_sentiment'],\n",
    "    marker_color='Blue',\n",
    "    # colorscale=\"Viridis\",\n",
    "    text=video_comp_sentiments['vid_title'],\n",
    "    hovertemplate='<b>%{text}</b> <br>Sentiment Value: %{x} <br>View Count: %{y}'))\n",
    "\n",
    "fig.add_trace(go.Scatter(\n",
    "    x=video_comp_sentiments['avg_comp_sentiment'],\n",
    "    y=video_comp_sentiments['vid_likecount'],\n",
    "    mode='markers',\n",
    "    marker_color='Red'\n",
    "))\n",
    "\n",
    "fig.show()"
   ]
  },
  {
   "cell_type": "code",
   "execution_count": 66,
   "metadata": {},
   "outputs": [
    {
     "data": {
      "application/vnd.plotly.v1+json": {
       "config": {
        "plotlyServerURL": "https://plot.ly"
       },
       "data": [
        {
         "mode": "markers",
         "type": "scatter3d",
         "x": [
          -0.026394444444444453,
          0.19444444444444448,
          0.032377777777777776,
          -0.013319191919191906,
          -0.11664285714285712,
          -0.0031559999999999965,
          -0.048481,
          0.008158,
          0.07153773584905661,
          -0.1556793103448276,
          0.022343877551020404,
          0.08418888888888888,
          0.03389473684210527,
          0.103065,
          -0.076144,
          0.13399569892473115,
          0.1191,
          0.03392000000000001,
          -0.03440459770114941,
          0.05726923076923078,
          -0.02442835820895523,
          -0.044517241379310325,
          0.044846000000000025,
          0.031018518518518518,
          -0.061126262626262605,
          0.05219200000000001,
          -0.1023142857142857,
          0.088155,
          0.09244200000000001,
          -0.0004606060606060637,
          0.11466700000000003,
          0.086803,
          0.09329500000000002,
          0.05471470588235295,
          0.06899186046511625,
          -0.314624,
          -0.059408,
          0.027298823529411768,
          0.04788571428571429,
          -0.1573828571428571,
          -0.027336734693877554,
          -0.12001538461538462,
          0.0880277777777778,
          0.016006060606060593,
          -0.03839523809523811,
          0.057193999999999995,
          -0.13160699999999997,
          -0.049786000000000004,
          -0.12606406250000002,
          -0.24563333333333334
         ],
         "y": [
          4246,
          2897,
          65671,
          154636,
          7819,
          117232,
          56155,
          33025,
          19919,
          6565,
          162377,
          39712,
          2238,
          196827,
          4278,
          14786,
          2516,
          47205,
          34372,
          19849,
          80712,
          11771,
          32405,
          24004,
          92108,
          108668,
          4790,
          28093,
          48560,
          57477,
          60299,
          86627,
          57998,
          3517,
          22019,
          89547,
          70418,
          89155,
          23027,
          44372,
          23500,
          7333,
          6647,
          10854,
          8988,
          143562,
          51551,
          34874,
          39143,
          9529
         ],
         "z": [
          35,
          51,
          348,
          1222,
          92,
          931,
          656,
          514,
          138,
          94,
          976,
          389,
          27,
          1310,
          108,
          159,
          65,
          285,
          239,
          256,
          670,
          169,
          415,
          138,
          653,
          1057,
          44,
          387,
          282,
          1078,
          403,
          844,
          399,
          94,
          158,
          669,
          1320,
          417,
          228,
          219,
          213,
          208,
          162,
          181,
          102,
          364,
          471,
          403,
          276,
          80
         ]
        }
       ],
       "layout": {
        "template": {
         "data": {
          "bar": [
           {
            "error_x": {
             "color": "#2a3f5f"
            },
            "error_y": {
             "color": "#2a3f5f"
            },
            "marker": {
             "line": {
              "color": "#E5ECF6",
              "width": 0.5
             },
             "pattern": {
              "fillmode": "overlay",
              "size": 10,
              "solidity": 0.2
             }
            },
            "type": "bar"
           }
          ],
          "barpolar": [
           {
            "marker": {
             "line": {
              "color": "#E5ECF6",
              "width": 0.5
             },
             "pattern": {
              "fillmode": "overlay",
              "size": 10,
              "solidity": 0.2
             }
            },
            "type": "barpolar"
           }
          ],
          "carpet": [
           {
            "aaxis": {
             "endlinecolor": "#2a3f5f",
             "gridcolor": "white",
             "linecolor": "white",
             "minorgridcolor": "white",
             "startlinecolor": "#2a3f5f"
            },
            "baxis": {
             "endlinecolor": "#2a3f5f",
             "gridcolor": "white",
             "linecolor": "white",
             "minorgridcolor": "white",
             "startlinecolor": "#2a3f5f"
            },
            "type": "carpet"
           }
          ],
          "choropleth": [
           {
            "colorbar": {
             "outlinewidth": 0,
             "ticks": ""
            },
            "type": "choropleth"
           }
          ],
          "contour": [
           {
            "colorbar": {
             "outlinewidth": 0,
             "ticks": ""
            },
            "colorscale": [
             [
              0,
              "#0d0887"
             ],
             [
              0.1111111111111111,
              "#46039f"
             ],
             [
              0.2222222222222222,
              "#7201a8"
             ],
             [
              0.3333333333333333,
              "#9c179e"
             ],
             [
              0.4444444444444444,
              "#bd3786"
             ],
             [
              0.5555555555555556,
              "#d8576b"
             ],
             [
              0.6666666666666666,
              "#ed7953"
             ],
             [
              0.7777777777777778,
              "#fb9f3a"
             ],
             [
              0.8888888888888888,
              "#fdca26"
             ],
             [
              1,
              "#f0f921"
             ]
            ],
            "type": "contour"
           }
          ],
          "contourcarpet": [
           {
            "colorbar": {
             "outlinewidth": 0,
             "ticks": ""
            },
            "type": "contourcarpet"
           }
          ],
          "heatmap": [
           {
            "colorbar": {
             "outlinewidth": 0,
             "ticks": ""
            },
            "colorscale": [
             [
              0,
              "#0d0887"
             ],
             [
              0.1111111111111111,
              "#46039f"
             ],
             [
              0.2222222222222222,
              "#7201a8"
             ],
             [
              0.3333333333333333,
              "#9c179e"
             ],
             [
              0.4444444444444444,
              "#bd3786"
             ],
             [
              0.5555555555555556,
              "#d8576b"
             ],
             [
              0.6666666666666666,
              "#ed7953"
             ],
             [
              0.7777777777777778,
              "#fb9f3a"
             ],
             [
              0.8888888888888888,
              "#fdca26"
             ],
             [
              1,
              "#f0f921"
             ]
            ],
            "type": "heatmap"
           }
          ],
          "heatmapgl": [
           {
            "colorbar": {
             "outlinewidth": 0,
             "ticks": ""
            },
            "colorscale": [
             [
              0,
              "#0d0887"
             ],
             [
              0.1111111111111111,
              "#46039f"
             ],
             [
              0.2222222222222222,
              "#7201a8"
             ],
             [
              0.3333333333333333,
              "#9c179e"
             ],
             [
              0.4444444444444444,
              "#bd3786"
             ],
             [
              0.5555555555555556,
              "#d8576b"
             ],
             [
              0.6666666666666666,
              "#ed7953"
             ],
             [
              0.7777777777777778,
              "#fb9f3a"
             ],
             [
              0.8888888888888888,
              "#fdca26"
             ],
             [
              1,
              "#f0f921"
             ]
            ],
            "type": "heatmapgl"
           }
          ],
          "histogram": [
           {
            "marker": {
             "pattern": {
              "fillmode": "overlay",
              "size": 10,
              "solidity": 0.2
             }
            },
            "type": "histogram"
           }
          ],
          "histogram2d": [
           {
            "colorbar": {
             "outlinewidth": 0,
             "ticks": ""
            },
            "colorscale": [
             [
              0,
              "#0d0887"
             ],
             [
              0.1111111111111111,
              "#46039f"
             ],
             [
              0.2222222222222222,
              "#7201a8"
             ],
             [
              0.3333333333333333,
              "#9c179e"
             ],
             [
              0.4444444444444444,
              "#bd3786"
             ],
             [
              0.5555555555555556,
              "#d8576b"
             ],
             [
              0.6666666666666666,
              "#ed7953"
             ],
             [
              0.7777777777777778,
              "#fb9f3a"
             ],
             [
              0.8888888888888888,
              "#fdca26"
             ],
             [
              1,
              "#f0f921"
             ]
            ],
            "type": "histogram2d"
           }
          ],
          "histogram2dcontour": [
           {
            "colorbar": {
             "outlinewidth": 0,
             "ticks": ""
            },
            "colorscale": [
             [
              0,
              "#0d0887"
             ],
             [
              0.1111111111111111,
              "#46039f"
             ],
             [
              0.2222222222222222,
              "#7201a8"
             ],
             [
              0.3333333333333333,
              "#9c179e"
             ],
             [
              0.4444444444444444,
              "#bd3786"
             ],
             [
              0.5555555555555556,
              "#d8576b"
             ],
             [
              0.6666666666666666,
              "#ed7953"
             ],
             [
              0.7777777777777778,
              "#fb9f3a"
             ],
             [
              0.8888888888888888,
              "#fdca26"
             ],
             [
              1,
              "#f0f921"
             ]
            ],
            "type": "histogram2dcontour"
           }
          ],
          "mesh3d": [
           {
            "colorbar": {
             "outlinewidth": 0,
             "ticks": ""
            },
            "type": "mesh3d"
           }
          ],
          "parcoords": [
           {
            "line": {
             "colorbar": {
              "outlinewidth": 0,
              "ticks": ""
             }
            },
            "type": "parcoords"
           }
          ],
          "pie": [
           {
            "automargin": true,
            "type": "pie"
           }
          ],
          "scatter": [
           {
            "marker": {
             "colorbar": {
              "outlinewidth": 0,
              "ticks": ""
             }
            },
            "type": "scatter"
           }
          ],
          "scatter3d": [
           {
            "line": {
             "colorbar": {
              "outlinewidth": 0,
              "ticks": ""
             }
            },
            "marker": {
             "colorbar": {
              "outlinewidth": 0,
              "ticks": ""
             }
            },
            "type": "scatter3d"
           }
          ],
          "scattercarpet": [
           {
            "marker": {
             "colorbar": {
              "outlinewidth": 0,
              "ticks": ""
             }
            },
            "type": "scattercarpet"
           }
          ],
          "scattergeo": [
           {
            "marker": {
             "colorbar": {
              "outlinewidth": 0,
              "ticks": ""
             }
            },
            "type": "scattergeo"
           }
          ],
          "scattergl": [
           {
            "marker": {
             "colorbar": {
              "outlinewidth": 0,
              "ticks": ""
             }
            },
            "type": "scattergl"
           }
          ],
          "scattermapbox": [
           {
            "marker": {
             "colorbar": {
              "outlinewidth": 0,
              "ticks": ""
             }
            },
            "type": "scattermapbox"
           }
          ],
          "scatterpolar": [
           {
            "marker": {
             "colorbar": {
              "outlinewidth": 0,
              "ticks": ""
             }
            },
            "type": "scatterpolar"
           }
          ],
          "scatterpolargl": [
           {
            "marker": {
             "colorbar": {
              "outlinewidth": 0,
              "ticks": ""
             }
            },
            "type": "scatterpolargl"
           }
          ],
          "scatterternary": [
           {
            "marker": {
             "colorbar": {
              "outlinewidth": 0,
              "ticks": ""
             }
            },
            "type": "scatterternary"
           }
          ],
          "surface": [
           {
            "colorbar": {
             "outlinewidth": 0,
             "ticks": ""
            },
            "colorscale": [
             [
              0,
              "#0d0887"
             ],
             [
              0.1111111111111111,
              "#46039f"
             ],
             [
              0.2222222222222222,
              "#7201a8"
             ],
             [
              0.3333333333333333,
              "#9c179e"
             ],
             [
              0.4444444444444444,
              "#bd3786"
             ],
             [
              0.5555555555555556,
              "#d8576b"
             ],
             [
              0.6666666666666666,
              "#ed7953"
             ],
             [
              0.7777777777777778,
              "#fb9f3a"
             ],
             [
              0.8888888888888888,
              "#fdca26"
             ],
             [
              1,
              "#f0f921"
             ]
            ],
            "type": "surface"
           }
          ],
          "table": [
           {
            "cells": {
             "fill": {
              "color": "#EBF0F8"
             },
             "line": {
              "color": "white"
             }
            },
            "header": {
             "fill": {
              "color": "#C8D4E3"
             },
             "line": {
              "color": "white"
             }
            },
            "type": "table"
           }
          ]
         },
         "layout": {
          "annotationdefaults": {
           "arrowcolor": "#2a3f5f",
           "arrowhead": 0,
           "arrowwidth": 1
          },
          "autotypenumbers": "strict",
          "coloraxis": {
           "colorbar": {
            "outlinewidth": 0,
            "ticks": ""
           }
          },
          "colorscale": {
           "diverging": [
            [
             0,
             "#8e0152"
            ],
            [
             0.1,
             "#c51b7d"
            ],
            [
             0.2,
             "#de77ae"
            ],
            [
             0.3,
             "#f1b6da"
            ],
            [
             0.4,
             "#fde0ef"
            ],
            [
             0.5,
             "#f7f7f7"
            ],
            [
             0.6,
             "#e6f5d0"
            ],
            [
             0.7,
             "#b8e186"
            ],
            [
             0.8,
             "#7fbc41"
            ],
            [
             0.9,
             "#4d9221"
            ],
            [
             1,
             "#276419"
            ]
           ],
           "sequential": [
            [
             0,
             "#0d0887"
            ],
            [
             0.1111111111111111,
             "#46039f"
            ],
            [
             0.2222222222222222,
             "#7201a8"
            ],
            [
             0.3333333333333333,
             "#9c179e"
            ],
            [
             0.4444444444444444,
             "#bd3786"
            ],
            [
             0.5555555555555556,
             "#d8576b"
            ],
            [
             0.6666666666666666,
             "#ed7953"
            ],
            [
             0.7777777777777778,
             "#fb9f3a"
            ],
            [
             0.8888888888888888,
             "#fdca26"
            ],
            [
             1,
             "#f0f921"
            ]
           ],
           "sequentialminus": [
            [
             0,
             "#0d0887"
            ],
            [
             0.1111111111111111,
             "#46039f"
            ],
            [
             0.2222222222222222,
             "#7201a8"
            ],
            [
             0.3333333333333333,
             "#9c179e"
            ],
            [
             0.4444444444444444,
             "#bd3786"
            ],
            [
             0.5555555555555556,
             "#d8576b"
            ],
            [
             0.6666666666666666,
             "#ed7953"
            ],
            [
             0.7777777777777778,
             "#fb9f3a"
            ],
            [
             0.8888888888888888,
             "#fdca26"
            ],
            [
             1,
             "#f0f921"
            ]
           ]
          },
          "colorway": [
           "#636efa",
           "#EF553B",
           "#00cc96",
           "#ab63fa",
           "#FFA15A",
           "#19d3f3",
           "#FF6692",
           "#B6E880",
           "#FF97FF",
           "#FECB52"
          ],
          "font": {
           "color": "#2a3f5f"
          },
          "geo": {
           "bgcolor": "white",
           "lakecolor": "white",
           "landcolor": "#E5ECF6",
           "showlakes": true,
           "showland": true,
           "subunitcolor": "white"
          },
          "hoverlabel": {
           "align": "left"
          },
          "hovermode": "closest",
          "mapbox": {
           "style": "light"
          },
          "paper_bgcolor": "white",
          "plot_bgcolor": "#E5ECF6",
          "polar": {
           "angularaxis": {
            "gridcolor": "white",
            "linecolor": "white",
            "ticks": ""
           },
           "bgcolor": "#E5ECF6",
           "radialaxis": {
            "gridcolor": "white",
            "linecolor": "white",
            "ticks": ""
           }
          },
          "scene": {
           "xaxis": {
            "backgroundcolor": "#E5ECF6",
            "gridcolor": "white",
            "gridwidth": 2,
            "linecolor": "white",
            "showbackground": true,
            "ticks": "",
            "zerolinecolor": "white"
           },
           "yaxis": {
            "backgroundcolor": "#E5ECF6",
            "gridcolor": "white",
            "gridwidth": 2,
            "linecolor": "white",
            "showbackground": true,
            "ticks": "",
            "zerolinecolor": "white"
           },
           "zaxis": {
            "backgroundcolor": "#E5ECF6",
            "gridcolor": "white",
            "gridwidth": 2,
            "linecolor": "white",
            "showbackground": true,
            "ticks": "",
            "zerolinecolor": "white"
           }
          },
          "shapedefaults": {
           "line": {
            "color": "#2a3f5f"
           }
          },
          "ternary": {
           "aaxis": {
            "gridcolor": "white",
            "linecolor": "white",
            "ticks": ""
           },
           "baxis": {
            "gridcolor": "white",
            "linecolor": "white",
            "ticks": ""
           },
           "bgcolor": "#E5ECF6",
           "caxis": {
            "gridcolor": "white",
            "linecolor": "white",
            "ticks": ""
           }
          },
          "title": {
           "x": 0.05
          },
          "xaxis": {
           "automargin": true,
           "gridcolor": "white",
           "linecolor": "white",
           "ticks": "",
           "title": {
            "standoff": 15
           },
           "zerolinecolor": "white",
           "zerolinewidth": 2
          },
          "yaxis": {
           "automargin": true,
           "gridcolor": "white",
           "linecolor": "white",
           "ticks": "",
           "title": {
            "standoff": 15
           },
           "zerolinecolor": "white",
           "zerolinewidth": 2
          }
         }
        }
       }
      }
     },
     "metadata": {},
     "output_type": "display_data"
    }
   ],
   "source": [
    "fig = go.Figure(data=[go.Scatter3d(\n",
    "        x=video_comp_sentiments['avg_comp_sentiment'],\n",
    "        y=video_comp_sentiments['vid_viewcount'],\n",
    "        z=video_comp_sentiments['vid_likecount'],\n",
    "        mode='markers')])\n",
    "\n",
    "fig.show()"
   ]
  },
  {
   "cell_type": "code",
   "execution_count": null,
   "metadata": {},
   "outputs": [],
   "source": []
  }
 ],
 "metadata": {
  "kernelspec": {
   "display_name": "Python 3.9.7 ('base')",
   "language": "python",
   "name": "python3"
  },
  "language_info": {
   "codemirror_mode": {
    "name": "ipython",
    "version": 3
   },
   "file_extension": ".py",
   "mimetype": "text/x-python",
   "name": "python",
   "nbconvert_exporter": "python",
   "pygments_lexer": "ipython3",
   "version": "3.9.7"
  },
  "orig_nbformat": 4,
  "vscode": {
   "interpreter": {
    "hash": "78adb8089f1b1ad0b7743184fb6585d3ffc1b6fb4a355aad49fe7003845e53d4"
   }
  }
 },
 "nbformat": 4,
 "nbformat_minor": 2
}
