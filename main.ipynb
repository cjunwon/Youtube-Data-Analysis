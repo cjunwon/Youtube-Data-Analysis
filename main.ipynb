{
 "cells": [
  {
   "cell_type": "markdown",
   "metadata": {},
   "source": [
    "## Data Collection"
   ]
  },
  {
   "cell_type": "markdown",
   "metadata": {},
   "source": [
    "Main data collection is processed by running ['update.py'](https://github.com/cjunwon/Youtube-Data-Analysis/blob/main/update.py) on a Flask ['server.py'](https://github.com/cjunwon/Youtube-Data-Analysis/blob/main/server.py) scheduled through ngrok and Invictify.\n",
    "\n",
    "This collection pipeline automatically updates the AWS MySQL RDS database with up-to-date channel statistics depending on the configured Invictify schedule."
   ]
  },
  {
   "cell_type": "code",
   "execution_count": 13,
   "metadata": {},
   "outputs": [],
   "source": [
    "from MySQL_DB_connect_functions import *\n",
    "from MySQL_DB_update_functions import *\n",
    "from youtube_api_functions import *"
   ]
  },
  {
   "cell_type": "code",
   "execution_count": 14,
   "metadata": {},
   "outputs": [],
   "source": [
    "channel_id_list = ['UCIRYBXDze5krPDzAEOxFGVA'] #TheGuardian\n",
    "channel_id_list = ['UCqnbDFdCpuN8CMEg0VuEBqA'] #NYTimes"
   ]
  },
  {
   "cell_type": "code",
   "execution_count": 15,
   "metadata": {},
   "outputs": [],
   "source": [
    "# using youtube_api_functions.py:\n",
    "youtube_obj = build_yt_API_object() # builds Youtube API object"
   ]
  },
  {
   "cell_type": "code",
   "execution_count": 16,
   "metadata": {},
   "outputs": [],
   "source": [
    "video_df = create_video_df(youtube_obj, channel_id_list) # store API data into pandas df\n",
    "processed_video_df = clean_video_df(video_df) # run df through cleaning function"
   ]
  },
  {
   "cell_type": "code",
   "execution_count": 17,
   "metadata": {},
   "outputs": [
    {
     "data": {
      "text/html": [
       "<div>\n",
       "<style scoped>\n",
       "    .dataframe tbody tr th:only-of-type {\n",
       "        vertical-align: middle;\n",
       "    }\n",
       "\n",
       "    .dataframe tbody tr th {\n",
       "        vertical-align: top;\n",
       "    }\n",
       "\n",
       "    .dataframe thead th {\n",
       "        text-align: right;\n",
       "    }\n",
       "</style>\n",
       "<table border=\"1\" class=\"dataframe\">\n",
       "  <thead>\n",
       "    <tr style=\"text-align: right;\">\n",
       "      <th></th>\n",
       "      <th>video_id</th>\n",
       "      <th>channelTitle</th>\n",
       "      <th>title</th>\n",
       "      <th>description</th>\n",
       "      <th>publishedAt</th>\n",
       "      <th>viewCount</th>\n",
       "      <th>likeCount</th>\n",
       "      <th>favoriteCount</th>\n",
       "      <th>commentCount</th>\n",
       "      <th>caption</th>\n",
       "      <th>publishDayName</th>\n",
       "      <th>durationSecs</th>\n",
       "      <th>tagCount</th>\n",
       "    </tr>\n",
       "  </thead>\n",
       "  <tbody>\n",
       "    <tr>\n",
       "      <th>0</th>\n",
       "      <td>0bw7rJ2eZaA</td>\n",
       "      <td>The New York Times</td>\n",
       "      <td>The Legacy of Elizabeth II: The Media Queen</td>\n",
       "      <td>Queen Elizabeth II, the world’s longest-servin...</td>\n",
       "      <td>2022-09-08</td>\n",
       "      <td>43251</td>\n",
       "      <td>1861</td>\n",
       "      <td>0</td>\n",
       "      <td>309</td>\n",
       "      <td>1</td>\n",
       "      <td>Thursday</td>\n",
       "      <td>486.0</td>\n",
       "      <td>19</td>\n",
       "    </tr>\n",
       "    <tr>\n",
       "      <th>1</th>\n",
       "      <td>m5aWtcx02ZI</td>\n",
       "      <td>The New York Times</td>\n",
       "      <td>Jonathan Pie: Welcome to Britain. Everything i...</td>\n",
       "      <td>So Liz Truss will be Britain’s next prime mini...</td>\n",
       "      <td>2022-09-06</td>\n",
       "      <td>600770</td>\n",
       "      <td>33395</td>\n",
       "      <td>0</td>\n",
       "      <td>3785</td>\n",
       "      <td>1</td>\n",
       "      <td>Tuesday</td>\n",
       "      <td>401.0</td>\n",
       "      <td>15</td>\n",
       "    </tr>\n",
       "    <tr>\n",
       "      <th>2</th>\n",
       "      <td>3-MzNPcEh6M</td>\n",
       "      <td>The New York Times</td>\n",
       "      <td>I Have Face Blindness. This Is How I Recognize...</td>\n",
       "      <td>Descriptive audio is available for this video....</td>\n",
       "      <td>2022-08-30</td>\n",
       "      <td>18175</td>\n",
       "      <td>699</td>\n",
       "      <td>0</td>\n",
       "      <td>74</td>\n",
       "      <td>1</td>\n",
       "      <td>Tuesday</td>\n",
       "      <td>488.0</td>\n",
       "      <td>6</td>\n",
       "    </tr>\n",
       "    <tr>\n",
       "      <th>3</th>\n",
       "      <td>m0E_wMIwfSI</td>\n",
       "      <td>The New York Times</td>\n",
       "      <td>I Stutter. But I Need You to Listen. | NYT Opi...</td>\n",
       "      <td>Descriptive audio is available for this video....</td>\n",
       "      <td>2022-08-23</td>\n",
       "      <td>34587</td>\n",
       "      <td>2077</td>\n",
       "      <td>0</td>\n",
       "      <td>286</td>\n",
       "      <td>1</td>\n",
       "      <td>Tuesday</td>\n",
       "      <td>494.0</td>\n",
       "      <td>0</td>\n",
       "    </tr>\n",
       "    <tr>\n",
       "      <th>4</th>\n",
       "      <td>4oyL1aESwSk</td>\n",
       "      <td>The New York Times</td>\n",
       "      <td>Watch a Tense Pool Scene From ‘Bodies Bodies B...</td>\n",
       "      <td>This early scene from the satire-thriller “Bod...</td>\n",
       "      <td>2022-08-19</td>\n",
       "      <td>30758</td>\n",
       "      <td>395</td>\n",
       "      <td>0</td>\n",
       "      <td>65</td>\n",
       "      <td>1</td>\n",
       "      <td>Friday</td>\n",
       "      <td>168.0</td>\n",
       "      <td>11</td>\n",
       "    </tr>\n",
       "  </tbody>\n",
       "</table>\n",
       "</div>"
      ],
      "text/plain": [
       "      video_id        channelTitle  \\\n",
       "0  0bw7rJ2eZaA  The New York Times   \n",
       "1  m5aWtcx02ZI  The New York Times   \n",
       "2  3-MzNPcEh6M  The New York Times   \n",
       "3  m0E_wMIwfSI  The New York Times   \n",
       "4  4oyL1aESwSk  The New York Times   \n",
       "\n",
       "                                               title  \\\n",
       "0        The Legacy of Elizabeth II: The Media Queen   \n",
       "1  Jonathan Pie: Welcome to Britain. Everything i...   \n",
       "2  I Have Face Blindness. This Is How I Recognize...   \n",
       "3  I Stutter. But I Need You to Listen. | NYT Opi...   \n",
       "4  Watch a Tense Pool Scene From ‘Bodies Bodies B...   \n",
       "\n",
       "                                         description publishedAt  viewCount  \\\n",
       "0  Queen Elizabeth II, the world’s longest-servin...  2022-09-08      43251   \n",
       "1  So Liz Truss will be Britain’s next prime mini...  2022-09-06     600770   \n",
       "2  Descriptive audio is available for this video....  2022-08-30      18175   \n",
       "3  Descriptive audio is available for this video....  2022-08-23      34587   \n",
       "4  This early scene from the satire-thriller “Bod...  2022-08-19      30758   \n",
       "\n",
       "   likeCount  favoriteCount  commentCount  caption publishDayName  \\\n",
       "0       1861              0           309        1       Thursday   \n",
       "1      33395              0          3785        1        Tuesday   \n",
       "2        699              0            74        1        Tuesday   \n",
       "3       2077              0           286        1        Tuesday   \n",
       "4        395              0            65        1         Friday   \n",
       "\n",
       "   durationSecs  tagCount  \n",
       "0         486.0        19  \n",
       "1         401.0        15  \n",
       "2         488.0         6  \n",
       "3         494.0         0  \n",
       "4         168.0        11  "
      ]
     },
     "execution_count": 17,
     "metadata": {},
     "output_type": "execute_result"
    }
   ],
   "source": [
    "processed_video_df.head()"
   ]
  },
  {
   "cell_type": "code",
   "execution_count": 18,
   "metadata": {},
   "outputs": [],
   "source": [
    "video_ids = list(processed_video_df['video_id'])"
   ]
  },
  {
   "cell_type": "code",
   "execution_count": 19,
   "metadata": {},
   "outputs": [
    {
     "data": {
      "text/plain": [
       "['0bw7rJ2eZaA',\n",
       " 'm5aWtcx02ZI',\n",
       " '3-MzNPcEh6M',\n",
       " 'm0E_wMIwfSI',\n",
       " '4oyL1aESwSk',\n",
       " 'X04HKyW-3hc',\n",
       " 'eMGqvUZjkH8',\n",
       " 'UlAOP8GIuIY',\n",
       " 'pjn_MJx-mJ8',\n",
       " 'yOy5BMItCuU',\n",
       " '-p0x_woeZD8',\n",
       " 'RilwnjDwTOc',\n",
       " 'IAWtx-rsXpo',\n",
       " 'DHJtdX481is',\n",
       " 'tjIgYs81mB8',\n",
       " 'faL6ERtj5oM',\n",
       " 'mX80JIl6vFs',\n",
       " 'Oo_FM3mjBCY',\n",
       " '2D_Ogifqm2c',\n",
       " '-DfLbrUa5Ng',\n",
       " '9RnjVFZoHuc',\n",
       " '43nX7uzD-Lc',\n",
       " 'iZhjGQlq9io',\n",
       " 'y3LPHMl5cqw',\n",
       " 'jji9hiaAMvc',\n",
       " 'v1_ilS5zku8',\n",
       " 'j4qwMGd2wmQ',\n",
       " 'QJaCliumTcA',\n",
       " 'pCCTf17ZiIs',\n",
       " 'AhJiSZHHHHs',\n",
       " 'UjmhDyJhgvs',\n",
       " 'lzmyO0E5ClU',\n",
       " 'CawT_sqiBxo',\n",
       " 'tuGdOAY33MI',\n",
       " 'Wr7BrKOX6bE',\n",
       " 'Q8DrPYj-REc',\n",
       " 'ODU_QasrkcQ',\n",
       " 'N04aLpZ0SJ8',\n",
       " 'pCnlxfBgq4o',\n",
       " 'SJn1ZFEi3Mo',\n",
       " 'ww8PjviNPfw',\n",
       " 'gCldVMfFim8',\n",
       " 'NkMsSXzRBEs',\n",
       " 'Ws0mMP7uM34',\n",
       " 'j-88-Fttz7w',\n",
       " 'DGxE64cGbZQ',\n",
       " 'gOmYi96cU1M',\n",
       " 'WGw3ip3ZzD4',\n",
       " 'n54Jyt_P0FY',\n",
       " 'AoFdE0ssDSA']"
      ]
     },
     "execution_count": 19,
     "metadata": {},
     "output_type": "execute_result"
    }
   ],
   "source": [
    "video_ids"
   ]
  },
  {
   "cell_type": "code",
   "execution_count": 20,
   "metadata": {},
   "outputs": [],
   "source": [
    "all_comments_df = pd.DataFrame()\n",
    "for video in video_ids:\n",
    "    comment_data = get_video_comments(youtube_obj, video)\n",
    "    all_comments_df = all_comments_df.append(comment_data, ignore_index=True)"
   ]
  },
  {
   "cell_type": "code",
   "execution_count": 21,
   "metadata": {},
   "outputs": [
    {
     "data": {
      "text/html": [
       "<div>\n",
       "<style scoped>\n",
       "    .dataframe tbody tr th:only-of-type {\n",
       "        vertical-align: middle;\n",
       "    }\n",
       "\n",
       "    .dataframe tbody tr th {\n",
       "        vertical-align: top;\n",
       "    }\n",
       "\n",
       "    .dataframe thead th {\n",
       "        text-align: right;\n",
       "    }\n",
       "</style>\n",
       "<table border=\"1\" class=\"dataframe\">\n",
       "  <thead>\n",
       "    <tr style=\"text-align: right;\">\n",
       "      <th></th>\n",
       "      <th>video_id</th>\n",
       "      <th>comment_id</th>\n",
       "      <th>comment</th>\n",
       "      <th>date</th>\n",
       "    </tr>\n",
       "  </thead>\n",
       "  <tbody>\n",
       "    <tr>\n",
       "      <th>0</th>\n",
       "      <td>0bw7rJ2eZaA</td>\n",
       "      <td>UgymiysklTgmUgs4vSx4AaABAg</td>\n",
       "      <td>Well done NYT, you're turning NY into the rest...</td>\n",
       "      <td>2022-09-11T01:59:45Z</td>\n",
       "    </tr>\n",
       "    <tr>\n",
       "      <th>1</th>\n",
       "      <td>0bw7rJ2eZaA</td>\n",
       "      <td>UgyA43QyNRza5BJvOnx4AaABAg</td>\n",
       "      <td>So basically she did nothing but show up on tv</td>\n",
       "      <td>2022-09-11T01:25:49Z</td>\n",
       "    </tr>\n",
       "    <tr>\n",
       "      <th>2</th>\n",
       "      <td>0bw7rJ2eZaA</td>\n",
       "      <td>Ugz3mzdM1nf4i7kyDuN4AaABAg</td>\n",
       "      <td>rip bozo 💀</td>\n",
       "      <td>2022-09-10T23:36:43Z</td>\n",
       "    </tr>\n",
       "    <tr>\n",
       "      <th>3</th>\n",
       "      <td>0bw7rJ2eZaA</td>\n",
       "      <td>UgwtUO5KQG1tb9A47_x4AaABAg</td>\n",
       "      <td>i love her, shes the best</td>\n",
       "      <td>2022-09-10T21:06:27Z</td>\n",
       "    </tr>\n",
       "    <tr>\n",
       "      <th>4</th>\n",
       "      <td>0bw7rJ2eZaA</td>\n",
       "      <td>UgwvoqNk8oDhbOvQoQF4AaABAg</td>\n",
       "      <td>Yes!</td>\n",
       "      <td>2022-09-10T20:52:28Z</td>\n",
       "    </tr>\n",
       "    <tr>\n",
       "      <th>...</th>\n",
       "      <td>...</td>\n",
       "      <td>...</td>\n",
       "      <td>...</td>\n",
       "      <td>...</td>\n",
       "    </tr>\n",
       "    <tr>\n",
       "      <th>4253</th>\n",
       "      <td>AoFdE0ssDSA</td>\n",
       "      <td>UgxgLeNiA4_qlLRP45p4AaABAg</td>\n",
       "      <td>Member down rest in piece</td>\n",
       "      <td>2022-05-05T23:19:37Z</td>\n",
       "    </tr>\n",
       "    <tr>\n",
       "      <th>4254</th>\n",
       "      <td>AoFdE0ssDSA</td>\n",
       "      <td>UgyxDxrvrYjV387qBGV4AaABAg</td>\n",
       "      <td>Слава Украине 👏👏👏Слава ВСУ</td>\n",
       "      <td>2022-05-05T17:42:47Z</td>\n",
       "    </tr>\n",
       "    <tr>\n",
       "      <th>4255</th>\n",
       "      <td>AoFdE0ssDSA</td>\n",
       "      <td>UgxXHEVJ_PSFGn_8VaB4AaABAg</td>\n",
       "      <td>Moja lubov from gruzii</td>\n",
       "      <td>2022-05-05T16:33:40Z</td>\n",
       "    </tr>\n",
       "    <tr>\n",
       "      <th>4256</th>\n",
       "      <td>AoFdE0ssDSA</td>\n",
       "      <td>Ugxbs3fEIQsLdJSrWWl4AaABAg</td>\n",
       "      <td>Russia will pay dearly for the evil acts their...</td>\n",
       "      <td>2022-05-05T03:43:56Z</td>\n",
       "    </tr>\n",
       "    <tr>\n",
       "      <th>4257</th>\n",
       "      <td>AoFdE0ssDSA</td>\n",
       "      <td>UgwXbyn9sdguW59GU6t4AaABAg</td>\n",
       "      <td>May God protect their hometown and bless the d...</td>\n",
       "      <td>2022-05-04T23:43:46Z</td>\n",
       "    </tr>\n",
       "  </tbody>\n",
       "</table>\n",
       "<p>4258 rows × 4 columns</p>\n",
       "</div>"
      ],
      "text/plain": [
       "         video_id                  comment_id  \\\n",
       "0     0bw7rJ2eZaA  UgymiysklTgmUgs4vSx4AaABAg   \n",
       "1     0bw7rJ2eZaA  UgyA43QyNRza5BJvOnx4AaABAg   \n",
       "2     0bw7rJ2eZaA  Ugz3mzdM1nf4i7kyDuN4AaABAg   \n",
       "3     0bw7rJ2eZaA  UgwtUO5KQG1tb9A47_x4AaABAg   \n",
       "4     0bw7rJ2eZaA  UgwvoqNk8oDhbOvQoQF4AaABAg   \n",
       "...           ...                         ...   \n",
       "4253  AoFdE0ssDSA  UgxgLeNiA4_qlLRP45p4AaABAg   \n",
       "4254  AoFdE0ssDSA  UgyxDxrvrYjV387qBGV4AaABAg   \n",
       "4255  AoFdE0ssDSA  UgxXHEVJ_PSFGn_8VaB4AaABAg   \n",
       "4256  AoFdE0ssDSA  Ugxbs3fEIQsLdJSrWWl4AaABAg   \n",
       "4257  AoFdE0ssDSA  UgwXbyn9sdguW59GU6t4AaABAg   \n",
       "\n",
       "                                                comment                  date  \n",
       "0     Well done NYT, you're turning NY into the rest...  2022-09-11T01:59:45Z  \n",
       "1        So basically she did nothing but show up on tv  2022-09-11T01:25:49Z  \n",
       "2                                            rip bozo 💀  2022-09-10T23:36:43Z  \n",
       "3                             i love her, shes the best  2022-09-10T21:06:27Z  \n",
       "4                                                  Yes!  2022-09-10T20:52:28Z  \n",
       "...                                                 ...                   ...  \n",
       "4253                          Member down rest in piece  2022-05-05T23:19:37Z  \n",
       "4254                         Слава Украине 👏👏👏Слава ВСУ  2022-05-05T17:42:47Z  \n",
       "4255                             Moja lubov from gruzii  2022-05-05T16:33:40Z  \n",
       "4256  Russia will pay dearly for the evil acts their...  2022-05-05T03:43:56Z  \n",
       "4257  May God protect their hometown and bless the d...  2022-05-04T23:43:46Z  \n",
       "\n",
       "[4258 rows x 4 columns]"
      ]
     },
     "execution_count": 21,
     "metadata": {},
     "output_type": "execute_result"
    }
   ],
   "source": [
    "all_comments_df"
   ]
  },
  {
   "cell_type": "code",
   "execution_count": 22,
   "metadata": {},
   "outputs": [],
   "source": [
    "import nltk\n",
    "from nltk.sentiment import SentimentIntensityAnalyzer\n",
    "sia = SentimentIntensityAnalyzer()"
   ]
  },
  {
   "cell_type": "code",
   "execution_count": 23,
   "metadata": {},
   "outputs": [],
   "source": [
    "all_comments_df['vader_sentiment'] = all_comments_df.comment.apply(lambda x: sia.polarity_scores(x))\n",
    "all_comments_df['vader_comp_sentiment'] = all_comments_df.vader_sentiment.apply(lambda x: x['compound'])"
   ]
  },
  {
   "cell_type": "code",
   "execution_count": 24,
   "metadata": {},
   "outputs": [
    {
     "data": {
      "text/plain": [
       "0.032229708783466676"
      ]
     },
     "execution_count": 24,
     "metadata": {},
     "output_type": "execute_result"
    }
   ],
   "source": [
    "all_comments_df['vader_comp_sentiment'].mean()"
   ]
  },
  {
   "cell_type": "code",
   "execution_count": 25,
   "metadata": {},
   "outputs": [],
   "source": [
    "video_comp_sentiments = pd.DataFrame(columns=['video_id', 'vid_title', 'avg_comp_sentiment', 'vid_viewcount'])\n",
    "for video in video_ids:\n",
    "    comment_data = get_video_comments(youtube_obj, video)\n",
    "    comment_data['vader_sentiment'] = comment_data.comment.apply(lambda x: sia.polarity_scores(x))\n",
    "    comment_data['vader_comp_sentiment'] = comment_data.vader_sentiment.apply(lambda x: x['compound'])\n",
    "    comp_mean = comment_data['vader_comp_sentiment'].mean()\n",
    "\n",
    "    vid_title = processed_video_df.loc[processed_video_df['video_id'] == video, 'title'].item()\n",
    "    vid_viewcount = processed_video_df.loc[processed_video_df['video_id'] == video, 'viewCount'].item()\n",
    "    vid_likecount = processed_video_df.loc[processed_video_df['video_id'] == video, 'likeCount'].item()\n",
    "\n",
    "    dict = {'video_id': video,\n",
    "            'vid_title': vid_title,\n",
    "            'avg_comp_sentiment': comp_mean,\n",
    "            'vid_viewcount': vid_viewcount,\n",
    "            'vid_likecount': vid_likecount\n",
    "            }\n",
    "\n",
    "    video_comp_sentiments = video_comp_sentiments.append(dict, ignore_index=True)\n",
    "    "
   ]
  },
  {
   "cell_type": "code",
   "execution_count": 26,
   "metadata": {},
   "outputs": [
    {
     "data": {
      "text/html": [
       "<div>\n",
       "<style scoped>\n",
       "    .dataframe tbody tr th:only-of-type {\n",
       "        vertical-align: middle;\n",
       "    }\n",
       "\n",
       "    .dataframe tbody tr th {\n",
       "        vertical-align: top;\n",
       "    }\n",
       "\n",
       "    .dataframe thead th {\n",
       "        text-align: right;\n",
       "    }\n",
       "</style>\n",
       "<table border=\"1\" class=\"dataframe\">\n",
       "  <thead>\n",
       "    <tr style=\"text-align: right;\">\n",
       "      <th></th>\n",
       "      <th>video_id</th>\n",
       "      <th>vid_title</th>\n",
       "      <th>avg_comp_sentiment</th>\n",
       "      <th>vid_viewcount</th>\n",
       "      <th>vid_likecount</th>\n",
       "    </tr>\n",
       "  </thead>\n",
       "  <tbody>\n",
       "    <tr>\n",
       "      <th>0</th>\n",
       "      <td>0bw7rJ2eZaA</td>\n",
       "      <td>The Legacy of Elizabeth II: The Media Queen</td>\n",
       "      <td>0.073717</td>\n",
       "      <td>43251</td>\n",
       "      <td>1861.0</td>\n",
       "    </tr>\n",
       "    <tr>\n",
       "      <th>1</th>\n",
       "      <td>m5aWtcx02ZI</td>\n",
       "      <td>Jonathan Pie: Welcome to Britain. Everything i...</td>\n",
       "      <td>-0.008176</td>\n",
       "      <td>600770</td>\n",
       "      <td>33395.0</td>\n",
       "    </tr>\n",
       "    <tr>\n",
       "      <th>2</th>\n",
       "      <td>3-MzNPcEh6M</td>\n",
       "      <td>I Have Face Blindness. This Is How I Recognize...</td>\n",
       "      <td>0.347375</td>\n",
       "      <td>18175</td>\n",
       "      <td>699.0</td>\n",
       "    </tr>\n",
       "    <tr>\n",
       "      <th>3</th>\n",
       "      <td>m0E_wMIwfSI</td>\n",
       "      <td>I Stutter. But I Need You to Listen. | NYT Opi...</td>\n",
       "      <td>0.254972</td>\n",
       "      <td>34587</td>\n",
       "      <td>2077.0</td>\n",
       "    </tr>\n",
       "    <tr>\n",
       "      <th>4</th>\n",
       "      <td>4oyL1aESwSk</td>\n",
       "      <td>Watch a Tense Pool Scene From ‘Bodies Bodies B...</td>\n",
       "      <td>0.214835</td>\n",
       "      <td>30758</td>\n",
       "      <td>395.0</td>\n",
       "    </tr>\n",
       "    <tr>\n",
       "      <th>5</th>\n",
       "      <td>X04HKyW-3hc</td>\n",
       "      <td>What a Legally Blind Person Can See | NYT Opinion</td>\n",
       "      <td>0.351140</td>\n",
       "      <td>22532</td>\n",
       "      <td>1128.0</td>\n",
       "    </tr>\n",
       "    <tr>\n",
       "      <th>6</th>\n",
       "      <td>eMGqvUZjkH8</td>\n",
       "      <td>Kill Your Lawn | NYT Opinion</td>\n",
       "      <td>0.139467</td>\n",
       "      <td>76504</td>\n",
       "      <td>3355.0</td>\n",
       "    </tr>\n",
       "    <tr>\n",
       "      <th>7</th>\n",
       "      <td>UlAOP8GIuIY</td>\n",
       "      <td>Watch Daniel Kaluuya Face a U.F.O. in ‘Nope’ |...</td>\n",
       "      <td>0.079533</td>\n",
       "      <td>58421</td>\n",
       "      <td>994.0</td>\n",
       "    </tr>\n",
       "    <tr>\n",
       "      <th>8</th>\n",
       "      <td>pjn_MJx-mJ8</td>\n",
       "      <td>How Much Does Your M.R.I. Cost? Buy It First t...</td>\n",
       "      <td>0.122914</td>\n",
       "      <td>23890</td>\n",
       "      <td>1158.0</td>\n",
       "    </tr>\n",
       "    <tr>\n",
       "      <th>9</th>\n",
       "      <td>yOy5BMItCuU</td>\n",
       "      <td>Watch Chris Hemsworth and Natalie Portman Reun...</td>\n",
       "      <td>0.109195</td>\n",
       "      <td>28490</td>\n",
       "      <td>377.0</td>\n",
       "    </tr>\n",
       "    <tr>\n",
       "      <th>10</th>\n",
       "      <td>-p0x_woeZD8</td>\n",
       "      <td>Underground Abortion Pills, From Mexico to the...</td>\n",
       "      <td>-0.008379</td>\n",
       "      <td>17066</td>\n",
       "      <td>750.0</td>\n",
       "    </tr>\n",
       "    <tr>\n",
       "      <th>11</th>\n",
       "      <td>RilwnjDwTOc</td>\n",
       "      <td>We Debunk the Latest Corporate Climate Lie | N...</td>\n",
       "      <td>0.001690</td>\n",
       "      <td>281261</td>\n",
       "      <td>13221.0</td>\n",
       "    </tr>\n",
       "    <tr>\n",
       "      <th>12</th>\n",
       "      <td>IAWtx-rsXpo</td>\n",
       "      <td>America Is Failing Refugees, And Itself. Here'...</td>\n",
       "      <td>-0.043848</td>\n",
       "      <td>30683</td>\n",
       "      <td>1222.0</td>\n",
       "    </tr>\n",
       "    <tr>\n",
       "      <th>13</th>\n",
       "      <td>DHJtdX481is</td>\n",
       "      <td>Watch Austin Butler Cause Hysteria in ‘Elvis’ ...</td>\n",
       "      <td>0.169278</td>\n",
       "      <td>301541</td>\n",
       "      <td>2980.0</td>\n",
       "    </tr>\n",
       "    <tr>\n",
       "      <th>14</th>\n",
       "      <td>tjIgYs81mB8</td>\n",
       "      <td>How I Had an Abortion at Home in Texas | NYT O...</td>\n",
       "      <td>-0.150850</td>\n",
       "      <td>272721</td>\n",
       "      <td>8691.0</td>\n",
       "    </tr>\n",
       "    <tr>\n",
       "      <th>15</th>\n",
       "      <td>faL6ERtj5oM</td>\n",
       "      <td>MINK! — My Mom Fought For Title IX, but It Alm...</td>\n",
       "      <td>0.314552</td>\n",
       "      <td>23048</td>\n",
       "      <td>1084.0</td>\n",
       "    </tr>\n",
       "    <tr>\n",
       "      <th>16</th>\n",
       "      <td>mX80JIl6vFs</td>\n",
       "      <td>He Was the N.R.A.’s ‘Pointman.’ An Unlikely Fr...</td>\n",
       "      <td>0.057082</td>\n",
       "      <td>18185</td>\n",
       "      <td>913.0</td>\n",
       "    </tr>\n",
       "    <tr>\n",
       "      <th>17</th>\n",
       "      <td>Oo_FM3mjBCY</td>\n",
       "      <td>How China’s Surveillance Is Growing More Invas...</td>\n",
       "      <td>0.033958</td>\n",
       "      <td>254971</td>\n",
       "      <td>9717.0</td>\n",
       "    </tr>\n",
       "    <tr>\n",
       "      <th>18</th>\n",
       "      <td>2D_Ogifqm2c</td>\n",
       "      <td>The Ukrainians Sent to Russia’s ‘Filtration Ca...</td>\n",
       "      <td>-0.081914</td>\n",
       "      <td>124210</td>\n",
       "      <td>2390.0</td>\n",
       "    </tr>\n",
       "    <tr>\n",
       "      <th>19</th>\n",
       "      <td>-DfLbrUa5Ng</td>\n",
       "      <td>How the Proud Boys Breached the Capitol | Visu...</td>\n",
       "      <td>0.027475</td>\n",
       "      <td>114621</td>\n",
       "      <td>4664.0</td>\n",
       "    </tr>\n",
       "    <tr>\n",
       "      <th>20</th>\n",
       "      <td>9RnjVFZoHuc</td>\n",
       "      <td>Watch Bryce Dallas Howard’s Slow Escape in ‘Ju...</td>\n",
       "      <td>0.042840</td>\n",
       "      <td>2695131</td>\n",
       "      <td>8482.0</td>\n",
       "    </tr>\n",
       "    <tr>\n",
       "      <th>21</th>\n",
       "      <td>43nX7uzD-Lc</td>\n",
       "      <td>What Does It Mean to Be Alive in Profound Isol...</td>\n",
       "      <td>0.271413</td>\n",
       "      <td>23586</td>\n",
       "      <td>763.0</td>\n",
       "    </tr>\n",
       "    <tr>\n",
       "      <th>22</th>\n",
       "      <td>iZhjGQlq9io</td>\n",
       "      <td>How Does It Feel to Be Russian Right Now? | NY...</td>\n",
       "      <td>-0.137426</td>\n",
       "      <td>30514</td>\n",
       "      <td>1081.0</td>\n",
       "    </tr>\n",
       "    <tr>\n",
       "      <th>23</th>\n",
       "      <td>y3LPHMl5cqw</td>\n",
       "      <td>Independent Journalism | The New York Times | ...</td>\n",
       "      <td>0.062877</td>\n",
       "      <td>1167534</td>\n",
       "      <td>271.0</td>\n",
       "    </tr>\n",
       "    <tr>\n",
       "      <th>24</th>\n",
       "      <td>jji9hiaAMvc</td>\n",
       "      <td>Independent Journalism | The New York Times | ...</td>\n",
       "      <td>0.022606</td>\n",
       "      <td>9561</td>\n",
       "      <td>222.0</td>\n",
       "    </tr>\n",
       "    <tr>\n",
       "      <th>25</th>\n",
       "      <td>v1_ilS5zku8</td>\n",
       "      <td>48 Hours in A Kansas Abortion Clinic | NYT News</td>\n",
       "      <td>-0.053823</td>\n",
       "      <td>115698</td>\n",
       "      <td>4543.0</td>\n",
       "    </tr>\n",
       "    <tr>\n",
       "      <th>26</th>\n",
       "      <td>j4qwMGd2wmQ</td>\n",
       "      <td>Watch Tom Cruise Go Hypersonic in ‘Top Gun: Ma...</td>\n",
       "      <td>0.223678</td>\n",
       "      <td>1063550</td>\n",
       "      <td>10617.0</td>\n",
       "    </tr>\n",
       "    <tr>\n",
       "      <th>27</th>\n",
       "      <td>QJaCliumTcA</td>\n",
       "      <td>What the Pandemic Can Teach Us About Endings |...</td>\n",
       "      <td>0.023059</td>\n",
       "      <td>23291</td>\n",
       "      <td>862.0</td>\n",
       "    </tr>\n",
       "    <tr>\n",
       "      <th>28</th>\n",
       "      <td>pCCTf17ZiIs</td>\n",
       "      <td>Twenty Years of Putin Playing the West in 3 Mi...</td>\n",
       "      <td>0.006557</td>\n",
       "      <td>713293</td>\n",
       "      <td>17627.0</td>\n",
       "    </tr>\n",
       "    <tr>\n",
       "      <th>29</th>\n",
       "      <td>AhJiSZHHHHs</td>\n",
       "      <td>Watch Jessie Buckley Take a Haunting Tunnel Wa...</td>\n",
       "      <td>0.154862</td>\n",
       "      <td>29029</td>\n",
       "      <td>608.0</td>\n",
       "    </tr>\n",
       "    <tr>\n",
       "      <th>30</th>\n",
       "      <td>UjmhDyJhgvs</td>\n",
       "      <td>I'm a College Student with a Disability. Stop ...</td>\n",
       "      <td>0.356389</td>\n",
       "      <td>32683</td>\n",
       "      <td>905.0</td>\n",
       "    </tr>\n",
       "    <tr>\n",
       "      <th>31</th>\n",
       "      <td>lzmyO0E5ClU</td>\n",
       "      <td>Russia’s Attacks on Ukrainian Hospitals Show a...</td>\n",
       "      <td>-0.170264</td>\n",
       "      <td>24389</td>\n",
       "      <td>943.0</td>\n",
       "    </tr>\n",
       "    <tr>\n",
       "      <th>32</th>\n",
       "      <td>CawT_sqiBxo</td>\n",
       "      <td>Have You Considered the Benefits of Crying? | ...</td>\n",
       "      <td>-0.012251</td>\n",
       "      <td>21850</td>\n",
       "      <td>677.0</td>\n",
       "    </tr>\n",
       "    <tr>\n",
       "      <th>33</th>\n",
       "      <td>tuGdOAY33MI</td>\n",
       "      <td>Watch Alexander Skarsgard Battle the Undead in...</td>\n",
       "      <td>0.020674</td>\n",
       "      <td>30203</td>\n",
       "      <td>551.0</td>\n",
       "    </tr>\n",
       "    <tr>\n",
       "      <th>34</th>\n",
       "      <td>Wr7BrKOX6bE</td>\n",
       "      <td>Teens Are In Crisis. Here’s Why. | The New Yor...</td>\n",
       "      <td>0.008291</td>\n",
       "      <td>272738</td>\n",
       "      <td>11236.0</td>\n",
       "    </tr>\n",
       "    <tr>\n",
       "      <th>35</th>\n",
       "      <td>Q8DrPYj-REc</td>\n",
       "      <td>How Nicolas Cage Parodies Himself in ‘Massive ...</td>\n",
       "      <td>0.009053</td>\n",
       "      <td>33808</td>\n",
       "      <td>482.0</td>\n",
       "    </tr>\n",
       "    <tr>\n",
       "      <th>36</th>\n",
       "      <td>ODU_QasrkcQ</td>\n",
       "      <td>Under Attack in Ukraine’s Southeast | Russia-U...</td>\n",
       "      <td>-0.058130</td>\n",
       "      <td>2415465</td>\n",
       "      <td>25675.0</td>\n",
       "    </tr>\n",
       "    <tr>\n",
       "      <th>37</th>\n",
       "      <td>N04aLpZ0SJ8</td>\n",
       "      <td>How Russia’s Disinformation Spreads Beyond Its...</td>\n",
       "      <td>-0.141160</td>\n",
       "      <td>597838</td>\n",
       "      <td>10924.0</td>\n",
       "    </tr>\n",
       "    <tr>\n",
       "      <th>38</th>\n",
       "      <td>pCnlxfBgq4o</td>\n",
       "      <td>Ukrainians Identify Bodies in Bucha | Russia-U...</td>\n",
       "      <td>-0.209963</td>\n",
       "      <td>145068</td>\n",
       "      <td>1829.0</td>\n",
       "    </tr>\n",
       "    <tr>\n",
       "      <th>39</th>\n",
       "      <td>SJn1ZFEi3Mo</td>\n",
       "      <td>How a Fanny Pack Attacks in ‘Everything Everyw...</td>\n",
       "      <td>0.166120</td>\n",
       "      <td>107163</td>\n",
       "      <td>2328.0</td>\n",
       "    </tr>\n",
       "    <tr>\n",
       "      <th>40</th>\n",
       "      <td>ww8PjviNPfw</td>\n",
       "      <td>The Horrors Russia Left Behind | Russia-Ukrain...</td>\n",
       "      <td>-0.078005</td>\n",
       "      <td>510321</td>\n",
       "      <td>6376.0</td>\n",
       "    </tr>\n",
       "    <tr>\n",
       "      <th>41</th>\n",
       "      <td>gCldVMfFim8</td>\n",
       "      <td>The Ukrainian Fighters Defending Kyiv | Russia...</td>\n",
       "      <td>-0.023836</td>\n",
       "      <td>3126560</td>\n",
       "      <td>33788.0</td>\n",
       "    </tr>\n",
       "    <tr>\n",
       "      <th>42</th>\n",
       "      <td>NkMsSXzRBEs</td>\n",
       "      <td>Will Doja Cat, Olivia Rodrigo, or Billie Eilis...</td>\n",
       "      <td>0.182212</td>\n",
       "      <td>32099</td>\n",
       "      <td>698.0</td>\n",
       "    </tr>\n",
       "    <tr>\n",
       "      <th>43</th>\n",
       "      <td>Ws0mMP7uM34</td>\n",
       "      <td>Escape from Mariupol | Russia-Ukraine War</td>\n",
       "      <td>-0.090733</td>\n",
       "      <td>550784</td>\n",
       "      <td>8729.0</td>\n",
       "    </tr>\n",
       "    <tr>\n",
       "      <th>44</th>\n",
       "      <td>j-88-Fttz7w</td>\n",
       "      <td>Watch Ryan Reynolds Meet His Past Self in ‘The...</td>\n",
       "      <td>0.182544</td>\n",
       "      <td>17300</td>\n",
       "      <td>317.0</td>\n",
       "    </tr>\n",
       "    <tr>\n",
       "      <th>45</th>\n",
       "      <td>DGxE64cGbZQ</td>\n",
       "      <td>Ukrainian Families Flee to Moldova | Russia-Uk...</td>\n",
       "      <td>0.113996</td>\n",
       "      <td>88603</td>\n",
       "      <td>1720.0</td>\n",
       "    </tr>\n",
       "    <tr>\n",
       "      <th>46</th>\n",
       "      <td>gOmYi96cU1M</td>\n",
       "      <td>Russia Struggled to Capture a Ukrainian Town. ...</td>\n",
       "      <td>-0.168468</td>\n",
       "      <td>5322440</td>\n",
       "      <td>79164.0</td>\n",
       "    </tr>\n",
       "    <tr>\n",
       "      <th>47</th>\n",
       "      <td>WGw3ip3ZzD4</td>\n",
       "      <td>Inside a Perilous Journey to Rescue Ukrainian ...</td>\n",
       "      <td>-0.048644</td>\n",
       "      <td>135418</td>\n",
       "      <td>1995.0</td>\n",
       "    </tr>\n",
       "    <tr>\n",
       "      <th>48</th>\n",
       "      <td>n54Jyt_P0FY</td>\n",
       "      <td>The Foreign Fighters in Ukraine to Battle Russ...</td>\n",
       "      <td>-0.135808</td>\n",
       "      <td>957747</td>\n",
       "      <td>11533.0</td>\n",
       "    </tr>\n",
       "    <tr>\n",
       "      <th>49</th>\n",
       "      <td>AoFdE0ssDSA</td>\n",
       "      <td>A Ukrainian Soldier Is Laid to Rest | Russia-U...</td>\n",
       "      <td>-0.070203</td>\n",
       "      <td>1020582</td>\n",
       "      <td>11692.0</td>\n",
       "    </tr>\n",
       "  </tbody>\n",
       "</table>\n",
       "</div>"
      ],
      "text/plain": [
       "       video_id                                          vid_title  \\\n",
       "0   0bw7rJ2eZaA        The Legacy of Elizabeth II: The Media Queen   \n",
       "1   m5aWtcx02ZI  Jonathan Pie: Welcome to Britain. Everything i...   \n",
       "2   3-MzNPcEh6M  I Have Face Blindness. This Is How I Recognize...   \n",
       "3   m0E_wMIwfSI  I Stutter. But I Need You to Listen. | NYT Opi...   \n",
       "4   4oyL1aESwSk  Watch a Tense Pool Scene From ‘Bodies Bodies B...   \n",
       "5   X04HKyW-3hc  What a Legally Blind Person Can See | NYT Opinion   \n",
       "6   eMGqvUZjkH8                       Kill Your Lawn | NYT Opinion   \n",
       "7   UlAOP8GIuIY  Watch Daniel Kaluuya Face a U.F.O. in ‘Nope’ |...   \n",
       "8   pjn_MJx-mJ8  How Much Does Your M.R.I. Cost? Buy It First t...   \n",
       "9   yOy5BMItCuU  Watch Chris Hemsworth and Natalie Portman Reun...   \n",
       "10  -p0x_woeZD8  Underground Abortion Pills, From Mexico to the...   \n",
       "11  RilwnjDwTOc  We Debunk the Latest Corporate Climate Lie | N...   \n",
       "12  IAWtx-rsXpo  America Is Failing Refugees, And Itself. Here'...   \n",
       "13  DHJtdX481is  Watch Austin Butler Cause Hysteria in ‘Elvis’ ...   \n",
       "14  tjIgYs81mB8  How I Had an Abortion at Home in Texas | NYT O...   \n",
       "15  faL6ERtj5oM  MINK! — My Mom Fought For Title IX, but It Alm...   \n",
       "16  mX80JIl6vFs  He Was the N.R.A.’s ‘Pointman.’ An Unlikely Fr...   \n",
       "17  Oo_FM3mjBCY  How China’s Surveillance Is Growing More Invas...   \n",
       "18  2D_Ogifqm2c  The Ukrainians Sent to Russia’s ‘Filtration Ca...   \n",
       "19  -DfLbrUa5Ng  How the Proud Boys Breached the Capitol | Visu...   \n",
       "20  9RnjVFZoHuc  Watch Bryce Dallas Howard’s Slow Escape in ‘Ju...   \n",
       "21  43nX7uzD-Lc  What Does It Mean to Be Alive in Profound Isol...   \n",
       "22  iZhjGQlq9io  How Does It Feel to Be Russian Right Now? | NY...   \n",
       "23  y3LPHMl5cqw  Independent Journalism | The New York Times | ...   \n",
       "24  jji9hiaAMvc  Independent Journalism | The New York Times | ...   \n",
       "25  v1_ilS5zku8    48 Hours in A Kansas Abortion Clinic | NYT News   \n",
       "26  j4qwMGd2wmQ  Watch Tom Cruise Go Hypersonic in ‘Top Gun: Ma...   \n",
       "27  QJaCliumTcA  What the Pandemic Can Teach Us About Endings |...   \n",
       "28  pCCTf17ZiIs  Twenty Years of Putin Playing the West in 3 Mi...   \n",
       "29  AhJiSZHHHHs  Watch Jessie Buckley Take a Haunting Tunnel Wa...   \n",
       "30  UjmhDyJhgvs  I'm a College Student with a Disability. Stop ...   \n",
       "31  lzmyO0E5ClU  Russia’s Attacks on Ukrainian Hospitals Show a...   \n",
       "32  CawT_sqiBxo  Have You Considered the Benefits of Crying? | ...   \n",
       "33  tuGdOAY33MI  Watch Alexander Skarsgard Battle the Undead in...   \n",
       "34  Wr7BrKOX6bE  Teens Are In Crisis. Here’s Why. | The New Yor...   \n",
       "35  Q8DrPYj-REc  How Nicolas Cage Parodies Himself in ‘Massive ...   \n",
       "36  ODU_QasrkcQ  Under Attack in Ukraine’s Southeast | Russia-U...   \n",
       "37  N04aLpZ0SJ8  How Russia’s Disinformation Spreads Beyond Its...   \n",
       "38  pCnlxfBgq4o  Ukrainians Identify Bodies in Bucha | Russia-U...   \n",
       "39  SJn1ZFEi3Mo  How a Fanny Pack Attacks in ‘Everything Everyw...   \n",
       "40  ww8PjviNPfw  The Horrors Russia Left Behind | Russia-Ukrain...   \n",
       "41  gCldVMfFim8  The Ukrainian Fighters Defending Kyiv | Russia...   \n",
       "42  NkMsSXzRBEs  Will Doja Cat, Olivia Rodrigo, or Billie Eilis...   \n",
       "43  Ws0mMP7uM34          Escape from Mariupol | Russia-Ukraine War   \n",
       "44  j-88-Fttz7w  Watch Ryan Reynolds Meet His Past Self in ‘The...   \n",
       "45  DGxE64cGbZQ  Ukrainian Families Flee to Moldova | Russia-Uk...   \n",
       "46  gOmYi96cU1M  Russia Struggled to Capture a Ukrainian Town. ...   \n",
       "47  WGw3ip3ZzD4  Inside a Perilous Journey to Rescue Ukrainian ...   \n",
       "48  n54Jyt_P0FY  The Foreign Fighters in Ukraine to Battle Russ...   \n",
       "49  AoFdE0ssDSA  A Ukrainian Soldier Is Laid to Rest | Russia-U...   \n",
       "\n",
       "    avg_comp_sentiment vid_viewcount  vid_likecount  \n",
       "0             0.073717         43251         1861.0  \n",
       "1            -0.008176        600770        33395.0  \n",
       "2             0.347375         18175          699.0  \n",
       "3             0.254972         34587         2077.0  \n",
       "4             0.214835         30758          395.0  \n",
       "5             0.351140         22532         1128.0  \n",
       "6             0.139467         76504         3355.0  \n",
       "7             0.079533         58421          994.0  \n",
       "8             0.122914         23890         1158.0  \n",
       "9             0.109195         28490          377.0  \n",
       "10           -0.008379         17066          750.0  \n",
       "11            0.001690        281261        13221.0  \n",
       "12           -0.043848         30683         1222.0  \n",
       "13            0.169278        301541         2980.0  \n",
       "14           -0.150850        272721         8691.0  \n",
       "15            0.314552         23048         1084.0  \n",
       "16            0.057082         18185          913.0  \n",
       "17            0.033958        254971         9717.0  \n",
       "18           -0.081914        124210         2390.0  \n",
       "19            0.027475        114621         4664.0  \n",
       "20            0.042840       2695131         8482.0  \n",
       "21            0.271413         23586          763.0  \n",
       "22           -0.137426         30514         1081.0  \n",
       "23            0.062877       1167534          271.0  \n",
       "24            0.022606          9561          222.0  \n",
       "25           -0.053823        115698         4543.0  \n",
       "26            0.223678       1063550        10617.0  \n",
       "27            0.023059         23291          862.0  \n",
       "28            0.006557        713293        17627.0  \n",
       "29            0.154862         29029          608.0  \n",
       "30            0.356389         32683          905.0  \n",
       "31           -0.170264         24389          943.0  \n",
       "32           -0.012251         21850          677.0  \n",
       "33            0.020674         30203          551.0  \n",
       "34            0.008291        272738        11236.0  \n",
       "35            0.009053         33808          482.0  \n",
       "36           -0.058130       2415465        25675.0  \n",
       "37           -0.141160        597838        10924.0  \n",
       "38           -0.209963        145068         1829.0  \n",
       "39            0.166120        107163         2328.0  \n",
       "40           -0.078005        510321         6376.0  \n",
       "41           -0.023836       3126560        33788.0  \n",
       "42            0.182212         32099          698.0  \n",
       "43           -0.090733        550784         8729.0  \n",
       "44            0.182544         17300          317.0  \n",
       "45            0.113996         88603         1720.0  \n",
       "46           -0.168468       5322440        79164.0  \n",
       "47           -0.048644        135418         1995.0  \n",
       "48           -0.135808        957747        11533.0  \n",
       "49           -0.070203       1020582        11692.0  "
      ]
     },
     "execution_count": 26,
     "metadata": {},
     "output_type": "execute_result"
    }
   ],
   "source": [
    "video_comp_sentiments"
   ]
  },
  {
   "cell_type": "code",
   "execution_count": 29,
   "metadata": {},
   "outputs": [],
   "source": [
    "import plotly.express as px\n",
    "import plotly.graph_objects as go\n",
    "from plotly.subplots import make_subplots"
   ]
  },
  {
   "cell_type": "code",
   "execution_count": 38,
   "metadata": {},
   "outputs": [
    {
     "data": {
      "application/vnd.plotly.v1+json": {
       "config": {
        "plotlyServerURL": "https://plot.ly"
       },
       "data": [
        {
         "hovertemplate": "<b>%{text}</b> <br>Sentiment Value: %{x} <br>View Count: %{y}",
         "marker": {
          "color": "Blue"
         },
         "mode": "markers",
         "text": [
          "The Legacy of Elizabeth II: The Media Queen",
          "Jonathan Pie: Welcome to Britain. Everything is Terrible. | NYT Opinion",
          "I Have Face Blindness. This Is How I Recognize You. | NYT Opinion",
          "I Stutter. But I Need You to Listen. | NYT Opinion",
          "Watch a Tense Pool Scene From ‘Bodies Bodies Bodies’ | Anatomy of a Scene",
          "What a Legally Blind Person Can See | NYT Opinion",
          "Kill Your Lawn | NYT Opinion",
          "Watch Daniel Kaluuya Face a U.F.O. in ‘Nope’ | Anatomy of a Scene",
          "How Much Does Your M.R.I. Cost? Buy It First to Find Out. | NYT Opinion",
          "Watch Chris Hemsworth and Natalie Portman Reunite in ‘Thor: Love and Thunder’ | Anatomy of a Scene",
          "Underground Abortion Pills, From Mexico to the U.S. | NYT News",
          "We Debunk the Latest Corporate Climate Lie | NYT Opinion",
          "America Is Failing Refugees, And Itself. Here's Why. | NYT Opinion",
          "Watch Austin Butler Cause Hysteria in ‘Elvis’ | Anatomy of a Scene",
          "How I Had an Abortion at Home in Texas | NYT Opinion",
          "MINK! — My Mom Fought For Title IX, but It Almost Didn’t Happen | Op-Docs",
          "He Was the N.R.A.’s ‘Pointman.’ An Unlikely Friendship Made Him Think Twice. | NYT Opinion",
          "How China’s Surveillance Is Growing More Invasive | Visual Investigations",
          "The Ukrainians Sent to Russia’s ‘Filtration Camps’ | Russia-Ukraine War",
          "How the Proud Boys Breached the Capitol | Visual Investigations",
          "Watch Bryce Dallas Howard’s Slow Escape in ‘Jurassic World Dominion’ | Anatomy of a Scene",
          "What Does It Mean to Be Alive in Profound Isolation? | Op-Docs",
          "How Does It Feel to Be Russian Right Now? | NYT Opinion",
          "Independent Journalism | The New York Times | Questlove",
          "Independent Journalism | The New York Times | Questlove",
          "48 Hours in A Kansas Abortion Clinic | NYT News",
          "Watch Tom Cruise Go Hypersonic in ‘Top Gun: Maverick’ | Anatomy of a Scene",
          "What the Pandemic Can Teach Us About Endings | NYT Opinion",
          "Twenty Years of Putin Playing the West in 3 Minutes | NYT Opinion",
          "Watch Jessie Buckley Take a Haunting Tunnel Walk in ‘Men’ | Anatomy of a Scene",
          "I'm a College Student with a Disability. Stop Treating Me Like a Child. | Op-Docs",
          "Russia’s Attacks on Ukrainian Hospitals Show a ‘Murderous Pattern’  | NYT Opinion",
          "Have You Considered the Benefits of Crying? | Op-Docs",
          "Watch Alexander Skarsgard Battle the Undead in ‘The Northman’ | Anatomy of a Scene",
          "Teens Are In Crisis. Here’s Why. | The New York Times",
          "How Nicolas Cage Parodies Himself in ‘Massive Talent’ | Anatomy of a Scene",
          "Under Attack in Ukraine’s Southeast | Russia-Ukraine War",
          "How Russia’s Disinformation Spreads Beyond Its Borders | Russia-Ukraine War",
          "Ukrainians Identify Bodies in Bucha | Russia-Ukraine War",
          "How a Fanny Pack Attacks in ‘Everything Everywhere All at Once’ | Anatomy of a Scene",
          "The Horrors Russia Left Behind | Russia-Ukraine War",
          "The Ukrainian Fighters Defending Kyiv | Russia–Ukraine War",
          "Will Doja Cat, Olivia Rodrigo, or Billie Eilish Win Big at the Grammys? | Diary of a Song",
          "Escape from Mariupol | Russia-Ukraine War",
          "Watch Ryan Reynolds Meet His Past Self in ‘The Adam Project’ | Anatomy of a Scene",
          "Ukrainian Families Flee to Moldova | Russia-Ukraine War",
          "Russia Struggled to Capture a Ukrainian Town. Intercepted Radio Messages Show Why.",
          "Inside a Perilous Journey to Rescue Ukrainian Civilians | Russia-Ukraine War",
          "The Foreign Fighters in Ukraine to Battle Russia | Russia-Ukraine War",
          "A Ukrainian Soldier Is Laid to Rest | Russia-Ukraine War"
         ],
         "type": "scatter",
         "x": [
          0.07371666666666665,
          -0.008175510204081625,
          0.34737543859649134,
          0.2549719999999998,
          0.21483488372093024,
          0.35114,
          0.13946699999999998,
          0.07953300000000003,
          0.12291399999999995,
          0.10919464285714287,
          -0.008379310344827568,
          0.001690000000000007,
          -0.043848000000000005,
          0.169278,
          -0.15084999999999996,
          0.31455211267605626,
          0.057081818181818275,
          0.033957999999999995,
          -0.08191400000000006,
          0.027474999999999996,
          0.04284000000000002,
          0.27141320754716985,
          -0.13742600000000002,
          0.06287666666666666,
          0.02260625,
          -0.05382300000000001,
          0.22367800000000002,
          0.023059375000000003,
          0.006557000000000015,
          0.15486200000000003,
          0.3563893333333333,
          -0.170264,
          -0.012251086956521735,
          0.02067368421052633,
          0.008291000000000014,
          0.009052631578947368,
          -0.058129999999999994,
          -0.14116000000000004,
          -0.20996299999999998,
          0.16612022471910112,
          -0.07800499999999999,
          -0.02383600000000001,
          0.18221219512195125,
          -0.09073299999999998,
          0.18254358974358975,
          0.11399600000000008,
          -0.16846799999999998,
          -0.048644000000000014,
          -0.13580799999999996,
          -0.070203
         ],
         "xaxis": "x",
         "y": [
          43251,
          600770,
          18175,
          34587,
          30758,
          22532,
          76504,
          58421,
          23890,
          28490,
          17066,
          281261,
          30683,
          301541,
          272721,
          23048,
          18185,
          254971,
          124210,
          114621,
          2695131,
          23586,
          30514,
          1167534,
          9561,
          115698,
          1063550,
          23291,
          713293,
          29029,
          32683,
          24389,
          21850,
          30203,
          272738,
          33808,
          2415465,
          597838,
          145068,
          107163,
          510321,
          3126560,
          32099,
          550784,
          17300,
          88603,
          5322440,
          135418,
          957747,
          1020582
         ],
         "yaxis": "y"
        },
        {
         "hovertemplate": "<b>%{text}</b> <br>Sentiment Value: %{x} <br>Like Count: %{y}",
         "marker": {
          "color": "Red"
         },
         "mode": "markers",
         "text": [
          "The Legacy of Elizabeth II: The Media Queen",
          "Jonathan Pie: Welcome to Britain. Everything is Terrible. | NYT Opinion",
          "I Have Face Blindness. This Is How I Recognize You. | NYT Opinion",
          "I Stutter. But I Need You to Listen. | NYT Opinion",
          "Watch a Tense Pool Scene From ‘Bodies Bodies Bodies’ | Anatomy of a Scene",
          "What a Legally Blind Person Can See | NYT Opinion",
          "Kill Your Lawn | NYT Opinion",
          "Watch Daniel Kaluuya Face a U.F.O. in ‘Nope’ | Anatomy of a Scene",
          "How Much Does Your M.R.I. Cost? Buy It First to Find Out. | NYT Opinion",
          "Watch Chris Hemsworth and Natalie Portman Reunite in ‘Thor: Love and Thunder’ | Anatomy of a Scene",
          "Underground Abortion Pills, From Mexico to the U.S. | NYT News",
          "We Debunk the Latest Corporate Climate Lie | NYT Opinion",
          "America Is Failing Refugees, And Itself. Here's Why. | NYT Opinion",
          "Watch Austin Butler Cause Hysteria in ‘Elvis’ | Anatomy of a Scene",
          "How I Had an Abortion at Home in Texas | NYT Opinion",
          "MINK! — My Mom Fought For Title IX, but It Almost Didn’t Happen | Op-Docs",
          "He Was the N.R.A.’s ‘Pointman.’ An Unlikely Friendship Made Him Think Twice. | NYT Opinion",
          "How China’s Surveillance Is Growing More Invasive | Visual Investigations",
          "The Ukrainians Sent to Russia’s ‘Filtration Camps’ | Russia-Ukraine War",
          "How the Proud Boys Breached the Capitol | Visual Investigations",
          "Watch Bryce Dallas Howard’s Slow Escape in ‘Jurassic World Dominion’ | Anatomy of a Scene",
          "What Does It Mean to Be Alive in Profound Isolation? | Op-Docs",
          "How Does It Feel to Be Russian Right Now? | NYT Opinion",
          "Independent Journalism | The New York Times | Questlove",
          "Independent Journalism | The New York Times | Questlove",
          "48 Hours in A Kansas Abortion Clinic | NYT News",
          "Watch Tom Cruise Go Hypersonic in ‘Top Gun: Maverick’ | Anatomy of a Scene",
          "What the Pandemic Can Teach Us About Endings | NYT Opinion",
          "Twenty Years of Putin Playing the West in 3 Minutes | NYT Opinion",
          "Watch Jessie Buckley Take a Haunting Tunnel Walk in ‘Men’ | Anatomy of a Scene",
          "I'm a College Student with a Disability. Stop Treating Me Like a Child. | Op-Docs",
          "Russia’s Attacks on Ukrainian Hospitals Show a ‘Murderous Pattern’  | NYT Opinion",
          "Have You Considered the Benefits of Crying? | Op-Docs",
          "Watch Alexander Skarsgard Battle the Undead in ‘The Northman’ | Anatomy of a Scene",
          "Teens Are In Crisis. Here’s Why. | The New York Times",
          "How Nicolas Cage Parodies Himself in ‘Massive Talent’ | Anatomy of a Scene",
          "Under Attack in Ukraine’s Southeast | Russia-Ukraine War",
          "How Russia’s Disinformation Spreads Beyond Its Borders | Russia-Ukraine War",
          "Ukrainians Identify Bodies in Bucha | Russia-Ukraine War",
          "How a Fanny Pack Attacks in ‘Everything Everywhere All at Once’ | Anatomy of a Scene",
          "The Horrors Russia Left Behind | Russia-Ukraine War",
          "The Ukrainian Fighters Defending Kyiv | Russia–Ukraine War",
          "Will Doja Cat, Olivia Rodrigo, or Billie Eilish Win Big at the Grammys? | Diary of a Song",
          "Escape from Mariupol | Russia-Ukraine War",
          "Watch Ryan Reynolds Meet His Past Self in ‘The Adam Project’ | Anatomy of a Scene",
          "Ukrainian Families Flee to Moldova | Russia-Ukraine War",
          "Russia Struggled to Capture a Ukrainian Town. Intercepted Radio Messages Show Why.",
          "Inside a Perilous Journey to Rescue Ukrainian Civilians | Russia-Ukraine War",
          "The Foreign Fighters in Ukraine to Battle Russia | Russia-Ukraine War",
          "A Ukrainian Soldier Is Laid to Rest | Russia-Ukraine War"
         ],
         "type": "scatter",
         "x": [
          0.07371666666666665,
          -0.008175510204081625,
          0.34737543859649134,
          0.2549719999999998,
          0.21483488372093024,
          0.35114,
          0.13946699999999998,
          0.07953300000000003,
          0.12291399999999995,
          0.10919464285714287,
          -0.008379310344827568,
          0.001690000000000007,
          -0.043848000000000005,
          0.169278,
          -0.15084999999999996,
          0.31455211267605626,
          0.057081818181818275,
          0.033957999999999995,
          -0.08191400000000006,
          0.027474999999999996,
          0.04284000000000002,
          0.27141320754716985,
          -0.13742600000000002,
          0.06287666666666666,
          0.02260625,
          -0.05382300000000001,
          0.22367800000000002,
          0.023059375000000003,
          0.006557000000000015,
          0.15486200000000003,
          0.3563893333333333,
          -0.170264,
          -0.012251086956521735,
          0.02067368421052633,
          0.008291000000000014,
          0.009052631578947368,
          -0.058129999999999994,
          -0.14116000000000004,
          -0.20996299999999998,
          0.16612022471910112,
          -0.07800499999999999,
          -0.02383600000000001,
          0.18221219512195125,
          -0.09073299999999998,
          0.18254358974358975,
          0.11399600000000008,
          -0.16846799999999998,
          -0.048644000000000014,
          -0.13580799999999996,
          -0.070203
         ],
         "xaxis": "x",
         "y": [
          1861,
          33395,
          699,
          2077,
          395,
          1128,
          3355,
          994,
          1158,
          377,
          750,
          13221,
          1222,
          2980,
          8691,
          1084,
          913,
          9717,
          2390,
          4664,
          8482,
          763,
          1081,
          271,
          222,
          4543,
          10617,
          862,
          17627,
          608,
          905,
          943,
          677,
          551,
          11236,
          482,
          25675,
          10924,
          1829,
          2328,
          6376,
          33788,
          698,
          8729,
          317,
          1720,
          79164,
          1995,
          11533,
          11692
         ],
         "yaxis": "y2"
        }
       ],
       "layout": {
        "template": {
         "data": {
          "bar": [
           {
            "error_x": {
             "color": "#2a3f5f"
            },
            "error_y": {
             "color": "#2a3f5f"
            },
            "marker": {
             "line": {
              "color": "#E5ECF6",
              "width": 0.5
             },
             "pattern": {
              "fillmode": "overlay",
              "size": 10,
              "solidity": 0.2
             }
            },
            "type": "bar"
           }
          ],
          "barpolar": [
           {
            "marker": {
             "line": {
              "color": "#E5ECF6",
              "width": 0.5
             },
             "pattern": {
              "fillmode": "overlay",
              "size": 10,
              "solidity": 0.2
             }
            },
            "type": "barpolar"
           }
          ],
          "carpet": [
           {
            "aaxis": {
             "endlinecolor": "#2a3f5f",
             "gridcolor": "white",
             "linecolor": "white",
             "minorgridcolor": "white",
             "startlinecolor": "#2a3f5f"
            },
            "baxis": {
             "endlinecolor": "#2a3f5f",
             "gridcolor": "white",
             "linecolor": "white",
             "minorgridcolor": "white",
             "startlinecolor": "#2a3f5f"
            },
            "type": "carpet"
           }
          ],
          "choropleth": [
           {
            "colorbar": {
             "outlinewidth": 0,
             "ticks": ""
            },
            "type": "choropleth"
           }
          ],
          "contour": [
           {
            "colorbar": {
             "outlinewidth": 0,
             "ticks": ""
            },
            "colorscale": [
             [
              0,
              "#0d0887"
             ],
             [
              0.1111111111111111,
              "#46039f"
             ],
             [
              0.2222222222222222,
              "#7201a8"
             ],
             [
              0.3333333333333333,
              "#9c179e"
             ],
             [
              0.4444444444444444,
              "#bd3786"
             ],
             [
              0.5555555555555556,
              "#d8576b"
             ],
             [
              0.6666666666666666,
              "#ed7953"
             ],
             [
              0.7777777777777778,
              "#fb9f3a"
             ],
             [
              0.8888888888888888,
              "#fdca26"
             ],
             [
              1,
              "#f0f921"
             ]
            ],
            "type": "contour"
           }
          ],
          "contourcarpet": [
           {
            "colorbar": {
             "outlinewidth": 0,
             "ticks": ""
            },
            "type": "contourcarpet"
           }
          ],
          "heatmap": [
           {
            "colorbar": {
             "outlinewidth": 0,
             "ticks": ""
            },
            "colorscale": [
             [
              0,
              "#0d0887"
             ],
             [
              0.1111111111111111,
              "#46039f"
             ],
             [
              0.2222222222222222,
              "#7201a8"
             ],
             [
              0.3333333333333333,
              "#9c179e"
             ],
             [
              0.4444444444444444,
              "#bd3786"
             ],
             [
              0.5555555555555556,
              "#d8576b"
             ],
             [
              0.6666666666666666,
              "#ed7953"
             ],
             [
              0.7777777777777778,
              "#fb9f3a"
             ],
             [
              0.8888888888888888,
              "#fdca26"
             ],
             [
              1,
              "#f0f921"
             ]
            ],
            "type": "heatmap"
           }
          ],
          "heatmapgl": [
           {
            "colorbar": {
             "outlinewidth": 0,
             "ticks": ""
            },
            "colorscale": [
             [
              0,
              "#0d0887"
             ],
             [
              0.1111111111111111,
              "#46039f"
             ],
             [
              0.2222222222222222,
              "#7201a8"
             ],
             [
              0.3333333333333333,
              "#9c179e"
             ],
             [
              0.4444444444444444,
              "#bd3786"
             ],
             [
              0.5555555555555556,
              "#d8576b"
             ],
             [
              0.6666666666666666,
              "#ed7953"
             ],
             [
              0.7777777777777778,
              "#fb9f3a"
             ],
             [
              0.8888888888888888,
              "#fdca26"
             ],
             [
              1,
              "#f0f921"
             ]
            ],
            "type": "heatmapgl"
           }
          ],
          "histogram": [
           {
            "marker": {
             "pattern": {
              "fillmode": "overlay",
              "size": 10,
              "solidity": 0.2
             }
            },
            "type": "histogram"
           }
          ],
          "histogram2d": [
           {
            "colorbar": {
             "outlinewidth": 0,
             "ticks": ""
            },
            "colorscale": [
             [
              0,
              "#0d0887"
             ],
             [
              0.1111111111111111,
              "#46039f"
             ],
             [
              0.2222222222222222,
              "#7201a8"
             ],
             [
              0.3333333333333333,
              "#9c179e"
             ],
             [
              0.4444444444444444,
              "#bd3786"
             ],
             [
              0.5555555555555556,
              "#d8576b"
             ],
             [
              0.6666666666666666,
              "#ed7953"
             ],
             [
              0.7777777777777778,
              "#fb9f3a"
             ],
             [
              0.8888888888888888,
              "#fdca26"
             ],
             [
              1,
              "#f0f921"
             ]
            ],
            "type": "histogram2d"
           }
          ],
          "histogram2dcontour": [
           {
            "colorbar": {
             "outlinewidth": 0,
             "ticks": ""
            },
            "colorscale": [
             [
              0,
              "#0d0887"
             ],
             [
              0.1111111111111111,
              "#46039f"
             ],
             [
              0.2222222222222222,
              "#7201a8"
             ],
             [
              0.3333333333333333,
              "#9c179e"
             ],
             [
              0.4444444444444444,
              "#bd3786"
             ],
             [
              0.5555555555555556,
              "#d8576b"
             ],
             [
              0.6666666666666666,
              "#ed7953"
             ],
             [
              0.7777777777777778,
              "#fb9f3a"
             ],
             [
              0.8888888888888888,
              "#fdca26"
             ],
             [
              1,
              "#f0f921"
             ]
            ],
            "type": "histogram2dcontour"
           }
          ],
          "mesh3d": [
           {
            "colorbar": {
             "outlinewidth": 0,
             "ticks": ""
            },
            "type": "mesh3d"
           }
          ],
          "parcoords": [
           {
            "line": {
             "colorbar": {
              "outlinewidth": 0,
              "ticks": ""
             }
            },
            "type": "parcoords"
           }
          ],
          "pie": [
           {
            "automargin": true,
            "type": "pie"
           }
          ],
          "scatter": [
           {
            "marker": {
             "colorbar": {
              "outlinewidth": 0,
              "ticks": ""
             }
            },
            "type": "scatter"
           }
          ],
          "scatter3d": [
           {
            "line": {
             "colorbar": {
              "outlinewidth": 0,
              "ticks": ""
             }
            },
            "marker": {
             "colorbar": {
              "outlinewidth": 0,
              "ticks": ""
             }
            },
            "type": "scatter3d"
           }
          ],
          "scattercarpet": [
           {
            "marker": {
             "colorbar": {
              "outlinewidth": 0,
              "ticks": ""
             }
            },
            "type": "scattercarpet"
           }
          ],
          "scattergeo": [
           {
            "marker": {
             "colorbar": {
              "outlinewidth": 0,
              "ticks": ""
             }
            },
            "type": "scattergeo"
           }
          ],
          "scattergl": [
           {
            "marker": {
             "colorbar": {
              "outlinewidth": 0,
              "ticks": ""
             }
            },
            "type": "scattergl"
           }
          ],
          "scattermapbox": [
           {
            "marker": {
             "colorbar": {
              "outlinewidth": 0,
              "ticks": ""
             }
            },
            "type": "scattermapbox"
           }
          ],
          "scatterpolar": [
           {
            "marker": {
             "colorbar": {
              "outlinewidth": 0,
              "ticks": ""
             }
            },
            "type": "scatterpolar"
           }
          ],
          "scatterpolargl": [
           {
            "marker": {
             "colorbar": {
              "outlinewidth": 0,
              "ticks": ""
             }
            },
            "type": "scatterpolargl"
           }
          ],
          "scatterternary": [
           {
            "marker": {
             "colorbar": {
              "outlinewidth": 0,
              "ticks": ""
             }
            },
            "type": "scatterternary"
           }
          ],
          "surface": [
           {
            "colorbar": {
             "outlinewidth": 0,
             "ticks": ""
            },
            "colorscale": [
             [
              0,
              "#0d0887"
             ],
             [
              0.1111111111111111,
              "#46039f"
             ],
             [
              0.2222222222222222,
              "#7201a8"
             ],
             [
              0.3333333333333333,
              "#9c179e"
             ],
             [
              0.4444444444444444,
              "#bd3786"
             ],
             [
              0.5555555555555556,
              "#d8576b"
             ],
             [
              0.6666666666666666,
              "#ed7953"
             ],
             [
              0.7777777777777778,
              "#fb9f3a"
             ],
             [
              0.8888888888888888,
              "#fdca26"
             ],
             [
              1,
              "#f0f921"
             ]
            ],
            "type": "surface"
           }
          ],
          "table": [
           {
            "cells": {
             "fill": {
              "color": "#EBF0F8"
             },
             "line": {
              "color": "white"
             }
            },
            "header": {
             "fill": {
              "color": "#C8D4E3"
             },
             "line": {
              "color": "white"
             }
            },
            "type": "table"
           }
          ]
         },
         "layout": {
          "annotationdefaults": {
           "arrowcolor": "#2a3f5f",
           "arrowhead": 0,
           "arrowwidth": 1
          },
          "autotypenumbers": "strict",
          "coloraxis": {
           "colorbar": {
            "outlinewidth": 0,
            "ticks": ""
           }
          },
          "colorscale": {
           "diverging": [
            [
             0,
             "#8e0152"
            ],
            [
             0.1,
             "#c51b7d"
            ],
            [
             0.2,
             "#de77ae"
            ],
            [
             0.3,
             "#f1b6da"
            ],
            [
             0.4,
             "#fde0ef"
            ],
            [
             0.5,
             "#f7f7f7"
            ],
            [
             0.6,
             "#e6f5d0"
            ],
            [
             0.7,
             "#b8e186"
            ],
            [
             0.8,
             "#7fbc41"
            ],
            [
             0.9,
             "#4d9221"
            ],
            [
             1,
             "#276419"
            ]
           ],
           "sequential": [
            [
             0,
             "#0d0887"
            ],
            [
             0.1111111111111111,
             "#46039f"
            ],
            [
             0.2222222222222222,
             "#7201a8"
            ],
            [
             0.3333333333333333,
             "#9c179e"
            ],
            [
             0.4444444444444444,
             "#bd3786"
            ],
            [
             0.5555555555555556,
             "#d8576b"
            ],
            [
             0.6666666666666666,
             "#ed7953"
            ],
            [
             0.7777777777777778,
             "#fb9f3a"
            ],
            [
             0.8888888888888888,
             "#fdca26"
            ],
            [
             1,
             "#f0f921"
            ]
           ],
           "sequentialminus": [
            [
             0,
             "#0d0887"
            ],
            [
             0.1111111111111111,
             "#46039f"
            ],
            [
             0.2222222222222222,
             "#7201a8"
            ],
            [
             0.3333333333333333,
             "#9c179e"
            ],
            [
             0.4444444444444444,
             "#bd3786"
            ],
            [
             0.5555555555555556,
             "#d8576b"
            ],
            [
             0.6666666666666666,
             "#ed7953"
            ],
            [
             0.7777777777777778,
             "#fb9f3a"
            ],
            [
             0.8888888888888888,
             "#fdca26"
            ],
            [
             1,
             "#f0f921"
            ]
           ]
          },
          "colorway": [
           "#636efa",
           "#EF553B",
           "#00cc96",
           "#ab63fa",
           "#FFA15A",
           "#19d3f3",
           "#FF6692",
           "#B6E880",
           "#FF97FF",
           "#FECB52"
          ],
          "font": {
           "color": "#2a3f5f"
          },
          "geo": {
           "bgcolor": "white",
           "lakecolor": "white",
           "landcolor": "#E5ECF6",
           "showlakes": true,
           "showland": true,
           "subunitcolor": "white"
          },
          "hoverlabel": {
           "align": "left"
          },
          "hovermode": "closest",
          "mapbox": {
           "style": "light"
          },
          "paper_bgcolor": "white",
          "plot_bgcolor": "#E5ECF6",
          "polar": {
           "angularaxis": {
            "gridcolor": "white",
            "linecolor": "white",
            "ticks": ""
           },
           "bgcolor": "#E5ECF6",
           "radialaxis": {
            "gridcolor": "white",
            "linecolor": "white",
            "ticks": ""
           }
          },
          "scene": {
           "xaxis": {
            "backgroundcolor": "#E5ECF6",
            "gridcolor": "white",
            "gridwidth": 2,
            "linecolor": "white",
            "showbackground": true,
            "ticks": "",
            "zerolinecolor": "white"
           },
           "yaxis": {
            "backgroundcolor": "#E5ECF6",
            "gridcolor": "white",
            "gridwidth": 2,
            "linecolor": "white",
            "showbackground": true,
            "ticks": "",
            "zerolinecolor": "white"
           },
           "zaxis": {
            "backgroundcolor": "#E5ECF6",
            "gridcolor": "white",
            "gridwidth": 2,
            "linecolor": "white",
            "showbackground": true,
            "ticks": "",
            "zerolinecolor": "white"
           }
          },
          "shapedefaults": {
           "line": {
            "color": "#2a3f5f"
           }
          },
          "ternary": {
           "aaxis": {
            "gridcolor": "white",
            "linecolor": "white",
            "ticks": ""
           },
           "baxis": {
            "gridcolor": "white",
            "linecolor": "white",
            "ticks": ""
           },
           "bgcolor": "#E5ECF6",
           "caxis": {
            "gridcolor": "white",
            "linecolor": "white",
            "ticks": ""
           }
          },
          "title": {
           "x": 0.05
          },
          "xaxis": {
           "automargin": true,
           "gridcolor": "white",
           "linecolor": "white",
           "ticks": "",
           "title": {
            "standoff": 15
           },
           "zerolinecolor": "white",
           "zerolinewidth": 2
          },
          "yaxis": {
           "automargin": true,
           "gridcolor": "white",
           "linecolor": "white",
           "ticks": "",
           "title": {
            "standoff": 15
           },
           "zerolinecolor": "white",
           "zerolinewidth": 2
          }
         }
        },
        "xaxis": {
         "anchor": "y",
         "domain": [
          0,
          0.94
         ]
        },
        "yaxis": {
         "anchor": "x",
         "domain": [
          0,
          1
         ]
        },
        "yaxis2": {
         "anchor": "x",
         "overlaying": "y",
         "side": "right"
        }
       }
      }
     },
     "metadata": {},
     "output_type": "display_data"
    }
   ],
   "source": [
    "fig = make_subplots(specs=[[{'secondary_y': True}]])\n",
    "\n",
    "fig.add_trace(\n",
    "        go.Scatter(\n",
    "        x=video_comp_sentiments['avg_comp_sentiment'],\n",
    "        y=video_comp_sentiments['vid_viewcount'],\n",
    "        mode='markers',\n",
    "        marker_color='Blue',\n",
    "        text=video_comp_sentiments['vid_title'],\n",
    "        hovertemplate='<b>%{text}</b> <br>Sentiment Value: %{x} <br>View Count: %{y}'),\n",
    "        secondary_y=False\n",
    ")\n",
    "\n",
    "fig.add_trace(go.Scatter(\n",
    "    x=video_comp_sentiments['avg_comp_sentiment'],\n",
    "    y=video_comp_sentiments['vid_likecount'],\n",
    "    mode='markers',\n",
    "    marker_color='Red',\n",
    "    text=video_comp_sentiments['vid_title'],\n",
    "    hovertemplate='<b>%{text}</b> <br>Sentiment Value: %{x} <br>Like Count: %{y}'),\n",
    "    secondary_y=True\n",
    ")\n",
    "\n",
    "fig.show()"
   ]
  },
  {
   "cell_type": "code",
   "execution_count": 35,
   "metadata": {},
   "outputs": [
    {
     "data": {
      "application/vnd.plotly.v1+json": {
       "config": {
        "plotlyServerURL": "https://plot.ly"
       },
       "data": [
        {
         "name": "yaxis values",
         "type": "scatter",
         "x": [
          10,
          20,
          30
         ],
         "xaxis": "x",
         "y": [
          400,
          500,
          600
         ],
         "yaxis": "y"
        },
        {
         "name": "yaxis2 values",
         "type": "scatter",
         "x": [
          20,
          30,
          40
         ],
         "xaxis": "x",
         "y": [
          40,
          50,
          60
         ],
         "yaxis": "y2"
        }
       ],
       "layout": {
        "template": {
         "data": {
          "bar": [
           {
            "error_x": {
             "color": "#2a3f5f"
            },
            "error_y": {
             "color": "#2a3f5f"
            },
            "marker": {
             "line": {
              "color": "#E5ECF6",
              "width": 0.5
             },
             "pattern": {
              "fillmode": "overlay",
              "size": 10,
              "solidity": 0.2
             }
            },
            "type": "bar"
           }
          ],
          "barpolar": [
           {
            "marker": {
             "line": {
              "color": "#E5ECF6",
              "width": 0.5
             },
             "pattern": {
              "fillmode": "overlay",
              "size": 10,
              "solidity": 0.2
             }
            },
            "type": "barpolar"
           }
          ],
          "carpet": [
           {
            "aaxis": {
             "endlinecolor": "#2a3f5f",
             "gridcolor": "white",
             "linecolor": "white",
             "minorgridcolor": "white",
             "startlinecolor": "#2a3f5f"
            },
            "baxis": {
             "endlinecolor": "#2a3f5f",
             "gridcolor": "white",
             "linecolor": "white",
             "minorgridcolor": "white",
             "startlinecolor": "#2a3f5f"
            },
            "type": "carpet"
           }
          ],
          "choropleth": [
           {
            "colorbar": {
             "outlinewidth": 0,
             "ticks": ""
            },
            "type": "choropleth"
           }
          ],
          "contour": [
           {
            "colorbar": {
             "outlinewidth": 0,
             "ticks": ""
            },
            "colorscale": [
             [
              0,
              "#0d0887"
             ],
             [
              0.1111111111111111,
              "#46039f"
             ],
             [
              0.2222222222222222,
              "#7201a8"
             ],
             [
              0.3333333333333333,
              "#9c179e"
             ],
             [
              0.4444444444444444,
              "#bd3786"
             ],
             [
              0.5555555555555556,
              "#d8576b"
             ],
             [
              0.6666666666666666,
              "#ed7953"
             ],
             [
              0.7777777777777778,
              "#fb9f3a"
             ],
             [
              0.8888888888888888,
              "#fdca26"
             ],
             [
              1,
              "#f0f921"
             ]
            ],
            "type": "contour"
           }
          ],
          "contourcarpet": [
           {
            "colorbar": {
             "outlinewidth": 0,
             "ticks": ""
            },
            "type": "contourcarpet"
           }
          ],
          "heatmap": [
           {
            "colorbar": {
             "outlinewidth": 0,
             "ticks": ""
            },
            "colorscale": [
             [
              0,
              "#0d0887"
             ],
             [
              0.1111111111111111,
              "#46039f"
             ],
             [
              0.2222222222222222,
              "#7201a8"
             ],
             [
              0.3333333333333333,
              "#9c179e"
             ],
             [
              0.4444444444444444,
              "#bd3786"
             ],
             [
              0.5555555555555556,
              "#d8576b"
             ],
             [
              0.6666666666666666,
              "#ed7953"
             ],
             [
              0.7777777777777778,
              "#fb9f3a"
             ],
             [
              0.8888888888888888,
              "#fdca26"
             ],
             [
              1,
              "#f0f921"
             ]
            ],
            "type": "heatmap"
           }
          ],
          "heatmapgl": [
           {
            "colorbar": {
             "outlinewidth": 0,
             "ticks": ""
            },
            "colorscale": [
             [
              0,
              "#0d0887"
             ],
             [
              0.1111111111111111,
              "#46039f"
             ],
             [
              0.2222222222222222,
              "#7201a8"
             ],
             [
              0.3333333333333333,
              "#9c179e"
             ],
             [
              0.4444444444444444,
              "#bd3786"
             ],
             [
              0.5555555555555556,
              "#d8576b"
             ],
             [
              0.6666666666666666,
              "#ed7953"
             ],
             [
              0.7777777777777778,
              "#fb9f3a"
             ],
             [
              0.8888888888888888,
              "#fdca26"
             ],
             [
              1,
              "#f0f921"
             ]
            ],
            "type": "heatmapgl"
           }
          ],
          "histogram": [
           {
            "marker": {
             "pattern": {
              "fillmode": "overlay",
              "size": 10,
              "solidity": 0.2
             }
            },
            "type": "histogram"
           }
          ],
          "histogram2d": [
           {
            "colorbar": {
             "outlinewidth": 0,
             "ticks": ""
            },
            "colorscale": [
             [
              0,
              "#0d0887"
             ],
             [
              0.1111111111111111,
              "#46039f"
             ],
             [
              0.2222222222222222,
              "#7201a8"
             ],
             [
              0.3333333333333333,
              "#9c179e"
             ],
             [
              0.4444444444444444,
              "#bd3786"
             ],
             [
              0.5555555555555556,
              "#d8576b"
             ],
             [
              0.6666666666666666,
              "#ed7953"
             ],
             [
              0.7777777777777778,
              "#fb9f3a"
             ],
             [
              0.8888888888888888,
              "#fdca26"
             ],
             [
              1,
              "#f0f921"
             ]
            ],
            "type": "histogram2d"
           }
          ],
          "histogram2dcontour": [
           {
            "colorbar": {
             "outlinewidth": 0,
             "ticks": ""
            },
            "colorscale": [
             [
              0,
              "#0d0887"
             ],
             [
              0.1111111111111111,
              "#46039f"
             ],
             [
              0.2222222222222222,
              "#7201a8"
             ],
             [
              0.3333333333333333,
              "#9c179e"
             ],
             [
              0.4444444444444444,
              "#bd3786"
             ],
             [
              0.5555555555555556,
              "#d8576b"
             ],
             [
              0.6666666666666666,
              "#ed7953"
             ],
             [
              0.7777777777777778,
              "#fb9f3a"
             ],
             [
              0.8888888888888888,
              "#fdca26"
             ],
             [
              1,
              "#f0f921"
             ]
            ],
            "type": "histogram2dcontour"
           }
          ],
          "mesh3d": [
           {
            "colorbar": {
             "outlinewidth": 0,
             "ticks": ""
            },
            "type": "mesh3d"
           }
          ],
          "parcoords": [
           {
            "line": {
             "colorbar": {
              "outlinewidth": 0,
              "ticks": ""
             }
            },
            "type": "parcoords"
           }
          ],
          "pie": [
           {
            "automargin": true,
            "type": "pie"
           }
          ],
          "scatter": [
           {
            "marker": {
             "colorbar": {
              "outlinewidth": 0,
              "ticks": ""
             }
            },
            "type": "scatter"
           }
          ],
          "scatter3d": [
           {
            "line": {
             "colorbar": {
              "outlinewidth": 0,
              "ticks": ""
             }
            },
            "marker": {
             "colorbar": {
              "outlinewidth": 0,
              "ticks": ""
             }
            },
            "type": "scatter3d"
           }
          ],
          "scattercarpet": [
           {
            "marker": {
             "colorbar": {
              "outlinewidth": 0,
              "ticks": ""
             }
            },
            "type": "scattercarpet"
           }
          ],
          "scattergeo": [
           {
            "marker": {
             "colorbar": {
              "outlinewidth": 0,
              "ticks": ""
             }
            },
            "type": "scattergeo"
           }
          ],
          "scattergl": [
           {
            "marker": {
             "colorbar": {
              "outlinewidth": 0,
              "ticks": ""
             }
            },
            "type": "scattergl"
           }
          ],
          "scattermapbox": [
           {
            "marker": {
             "colorbar": {
              "outlinewidth": 0,
              "ticks": ""
             }
            },
            "type": "scattermapbox"
           }
          ],
          "scatterpolar": [
           {
            "marker": {
             "colorbar": {
              "outlinewidth": 0,
              "ticks": ""
             }
            },
            "type": "scatterpolar"
           }
          ],
          "scatterpolargl": [
           {
            "marker": {
             "colorbar": {
              "outlinewidth": 0,
              "ticks": ""
             }
            },
            "type": "scatterpolargl"
           }
          ],
          "scatterternary": [
           {
            "marker": {
             "colorbar": {
              "outlinewidth": 0,
              "ticks": ""
             }
            },
            "type": "scatterternary"
           }
          ],
          "surface": [
           {
            "colorbar": {
             "outlinewidth": 0,
             "ticks": ""
            },
            "colorscale": [
             [
              0,
              "#0d0887"
             ],
             [
              0.1111111111111111,
              "#46039f"
             ],
             [
              0.2222222222222222,
              "#7201a8"
             ],
             [
              0.3333333333333333,
              "#9c179e"
             ],
             [
              0.4444444444444444,
              "#bd3786"
             ],
             [
              0.5555555555555556,
              "#d8576b"
             ],
             [
              0.6666666666666666,
              "#ed7953"
             ],
             [
              0.7777777777777778,
              "#fb9f3a"
             ],
             [
              0.8888888888888888,
              "#fdca26"
             ],
             [
              1,
              "#f0f921"
             ]
            ],
            "type": "surface"
           }
          ],
          "table": [
           {
            "cells": {
             "fill": {
              "color": "#EBF0F8"
             },
             "line": {
              "color": "white"
             }
            },
            "header": {
             "fill": {
              "color": "#C8D4E3"
             },
             "line": {
              "color": "white"
             }
            },
            "type": "table"
           }
          ]
         },
         "layout": {
          "annotationdefaults": {
           "arrowcolor": "#2a3f5f",
           "arrowhead": 0,
           "arrowwidth": 1
          },
          "autotypenumbers": "strict",
          "coloraxis": {
           "colorbar": {
            "outlinewidth": 0,
            "ticks": ""
           }
          },
          "colorscale": {
           "diverging": [
            [
             0,
             "#8e0152"
            ],
            [
             0.1,
             "#c51b7d"
            ],
            [
             0.2,
             "#de77ae"
            ],
            [
             0.3,
             "#f1b6da"
            ],
            [
             0.4,
             "#fde0ef"
            ],
            [
             0.5,
             "#f7f7f7"
            ],
            [
             0.6,
             "#e6f5d0"
            ],
            [
             0.7,
             "#b8e186"
            ],
            [
             0.8,
             "#7fbc41"
            ],
            [
             0.9,
             "#4d9221"
            ],
            [
             1,
             "#276419"
            ]
           ],
           "sequential": [
            [
             0,
             "#0d0887"
            ],
            [
             0.1111111111111111,
             "#46039f"
            ],
            [
             0.2222222222222222,
             "#7201a8"
            ],
            [
             0.3333333333333333,
             "#9c179e"
            ],
            [
             0.4444444444444444,
             "#bd3786"
            ],
            [
             0.5555555555555556,
             "#d8576b"
            ],
            [
             0.6666666666666666,
             "#ed7953"
            ],
            [
             0.7777777777777778,
             "#fb9f3a"
            ],
            [
             0.8888888888888888,
             "#fdca26"
            ],
            [
             1,
             "#f0f921"
            ]
           ],
           "sequentialminus": [
            [
             0,
             "#0d0887"
            ],
            [
             0.1111111111111111,
             "#46039f"
            ],
            [
             0.2222222222222222,
             "#7201a8"
            ],
            [
             0.3333333333333333,
             "#9c179e"
            ],
            [
             0.4444444444444444,
             "#bd3786"
            ],
            [
             0.5555555555555556,
             "#d8576b"
            ],
            [
             0.6666666666666666,
             "#ed7953"
            ],
            [
             0.7777777777777778,
             "#fb9f3a"
            ],
            [
             0.8888888888888888,
             "#fdca26"
            ],
            [
             1,
             "#f0f921"
            ]
           ]
          },
          "colorway": [
           "#636efa",
           "#EF553B",
           "#00cc96",
           "#ab63fa",
           "#FFA15A",
           "#19d3f3",
           "#FF6692",
           "#B6E880",
           "#FF97FF",
           "#FECB52"
          ],
          "font": {
           "color": "#2a3f5f"
          },
          "geo": {
           "bgcolor": "white",
           "lakecolor": "white",
           "landcolor": "#E5ECF6",
           "showlakes": true,
           "showland": true,
           "subunitcolor": "white"
          },
          "hoverlabel": {
           "align": "left"
          },
          "hovermode": "closest",
          "mapbox": {
           "style": "light"
          },
          "paper_bgcolor": "white",
          "plot_bgcolor": "#E5ECF6",
          "polar": {
           "angularaxis": {
            "gridcolor": "white",
            "linecolor": "white",
            "ticks": ""
           },
           "bgcolor": "#E5ECF6",
           "radialaxis": {
            "gridcolor": "white",
            "linecolor": "white",
            "ticks": ""
           }
          },
          "scene": {
           "xaxis": {
            "backgroundcolor": "#E5ECF6",
            "gridcolor": "white",
            "gridwidth": 2,
            "linecolor": "white",
            "showbackground": true,
            "ticks": "",
            "zerolinecolor": "white"
           },
           "yaxis": {
            "backgroundcolor": "#E5ECF6",
            "gridcolor": "white",
            "gridwidth": 2,
            "linecolor": "white",
            "showbackground": true,
            "ticks": "",
            "zerolinecolor": "white"
           },
           "zaxis": {
            "backgroundcolor": "#E5ECF6",
            "gridcolor": "white",
            "gridwidth": 2,
            "linecolor": "white",
            "showbackground": true,
            "ticks": "",
            "zerolinecolor": "white"
           }
          },
          "shapedefaults": {
           "line": {
            "color": "#2a3f5f"
           }
          },
          "ternary": {
           "aaxis": {
            "gridcolor": "white",
            "linecolor": "white",
            "ticks": ""
           },
           "baxis": {
            "gridcolor": "white",
            "linecolor": "white",
            "ticks": ""
           },
           "bgcolor": "#E5ECF6",
           "caxis": {
            "gridcolor": "white",
            "linecolor": "white",
            "ticks": ""
           }
          },
          "title": {
           "x": 0.05
          },
          "xaxis": {
           "automargin": true,
           "gridcolor": "white",
           "linecolor": "white",
           "ticks": "",
           "title": {
            "standoff": 15
           },
           "zerolinecolor": "white",
           "zerolinewidth": 2
          },
          "yaxis": {
           "automargin": true,
           "gridcolor": "white",
           "linecolor": "white",
           "ticks": "",
           "title": {
            "standoff": 15
           },
           "zerolinecolor": "white",
           "zerolinewidth": 2
          }
         }
        },
        "title": {
         "text": "Multiple Y Axis in Plotly"
        },
        "xaxis": {
         "anchor": "y",
         "domain": [
          0,
          0.94
         ],
         "title": {
          "text": "X - axis"
         }
        },
        "yaxis": {
         "anchor": "x",
         "domain": [
          0,
          1
         ],
         "title": {
          "text": "<b>Main</b> Y - axis "
         }
        },
        "yaxis2": {
         "anchor": "x",
         "overlaying": "y",
         "side": "right",
         "title": {
          "text": "<b>secondary</b> Y - axis "
         }
        }
       }
      }
     },
     "metadata": {},
     "output_type": "display_data"
    }
   ],
   "source": [
    "fig = make_subplots(specs=[[{\"secondary_y\": True}]])\n",
    " \n",
    "# plot a scatter chart by specifying the x and y values\n",
    "# Use add_trace function to specify secondary_y axes.\n",
    "fig.add_trace(\n",
    "    go.Scatter(x=[10, 20, 30], y=[400, 500, 600], name=\"yaxis values\"),\n",
    "    secondary_y=False)\n",
    " \n",
    "# Use add_trace function and specify secondary_y axes = True.\n",
    "fig.add_trace(\n",
    "    go.Scatter(x=[20, 30, 40], y=[40, 50, 60], name=\"yaxis2 values\"),\n",
    "    secondary_y=True,)\n",
    " \n",
    "# Adding title text to the figure\n",
    "fig.update_layout(\n",
    "    title_text=\"Multiple Y Axis in Plotly\"\n",
    ")\n",
    " \n",
    "# Naming x-axis\n",
    "fig.update_xaxes(title_text=\"X - axis\")\n",
    " \n",
    "# Naming y-axes\n",
    "fig.update_yaxes(title_text=\"<b>Main</b> Y - axis \", secondary_y=False)\n",
    "fig.update_yaxes(title_text=\"<b>secondary</b> Y - axis \", secondary_y=True)"
   ]
  },
  {
   "cell_type": "code",
   "execution_count": null,
   "metadata": {},
   "outputs": [],
   "source": []
  }
 ],
 "metadata": {
  "kernelspec": {
   "display_name": "Python 3.9.7 ('base')",
   "language": "python",
   "name": "python3"
  },
  "language_info": {
   "codemirror_mode": {
    "name": "ipython",
    "version": 3
   },
   "file_extension": ".py",
   "mimetype": "text/x-python",
   "name": "python",
   "nbconvert_exporter": "python",
   "pygments_lexer": "ipython3",
   "version": "3.9.7"
  },
  "orig_nbformat": 4,
  "vscode": {
   "interpreter": {
    "hash": "78adb8089f1b1ad0b7743184fb6585d3ffc1b6fb4a355aad49fe7003845e53d4"
   }
  }
 },
 "nbformat": 4,
 "nbformat_minor": 2
}
