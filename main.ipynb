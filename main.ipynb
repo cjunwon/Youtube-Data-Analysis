{
 "cells": [
  {
   "cell_type": "markdown",
   "metadata": {},
   "source": [
    "## Data Collection"
   ]
  },
  {
   "cell_type": "markdown",
   "metadata": {},
   "source": [
    "Main data collection is processed by running ['update.py'](https://github.com/cjunwon/Youtube-Data-Analysis/blob/main/update.py) on a Flask ['server.py'](https://github.com/cjunwon/Youtube-Data-Analysis/blob/main/server.py) scheduled through ngrok and Invictify.\n",
    "\n",
    "This collection pipeline automatically updates the AWS MySQL RDS database with up-to-date channel statistics depending on the configured Invictify schedule."
   ]
  },
  {
   "cell_type": "code",
   "execution_count": 77,
   "metadata": {},
   "outputs": [],
   "source": [
    "from MySQL_DB_connect_functions import *\n",
    "from MySQL_DB_update_functions import *\n",
    "from youtube_api_functions import *"
   ]
  },
  {
   "cell_type": "code",
   "execution_count": 78,
   "metadata": {},
   "outputs": [],
   "source": [
    "channel_id_list = ['UCIRYBXDze5krPDzAEOxFGVA'] #TheGuardian\n",
    "channel_id_list = ['UCqnbDFdCpuN8CMEg0VuEBqA'] #NYTimes"
   ]
  },
  {
   "cell_type": "code",
   "execution_count": 79,
   "metadata": {},
   "outputs": [],
   "source": [
    "# using youtube_api_functions.py:\n",
    "youtube_obj = build_yt_API_object() # builds Youtube API object"
   ]
  },
  {
   "cell_type": "code",
   "execution_count": 80,
   "metadata": {},
   "outputs": [],
   "source": [
    "video_df = create_video_df(youtube_obj, channel_id_list, 500) # store API data into pandas df\n",
    "processed_video_df = clean_video_df(video_df) # run df through cleaning function"
   ]
  },
  {
   "cell_type": "code",
   "execution_count": 81,
   "metadata": {},
   "outputs": [
    {
     "data": {
      "text/html": [
       "<div>\n",
       "<style scoped>\n",
       "    .dataframe tbody tr th:only-of-type {\n",
       "        vertical-align: middle;\n",
       "    }\n",
       "\n",
       "    .dataframe tbody tr th {\n",
       "        vertical-align: top;\n",
       "    }\n",
       "\n",
       "    .dataframe thead th {\n",
       "        text-align: right;\n",
       "    }\n",
       "</style>\n",
       "<table border=\"1\" class=\"dataframe\">\n",
       "  <thead>\n",
       "    <tr style=\"text-align: right;\">\n",
       "      <th></th>\n",
       "      <th>video_id</th>\n",
       "      <th>channelTitle</th>\n",
       "      <th>title</th>\n",
       "      <th>description</th>\n",
       "      <th>publishedAt</th>\n",
       "      <th>viewCount</th>\n",
       "      <th>likeCount</th>\n",
       "      <th>favoriteCount</th>\n",
       "      <th>commentCount</th>\n",
       "      <th>caption</th>\n",
       "      <th>publishDayName</th>\n",
       "      <th>durationSecs</th>\n",
       "      <th>tagCount</th>\n",
       "    </tr>\n",
       "  </thead>\n",
       "  <tbody>\n",
       "    <tr>\n",
       "      <th>0</th>\n",
       "      <td>FJvnn0qRWb4</td>\n",
       "      <td>The New York Times</td>\n",
       "      <td>Watch Warriors in Training in ‘The Woman King’...</td>\n",
       "      <td>The intensity of the action epic “The Woman Ki...</td>\n",
       "      <td>2022-09-16</td>\n",
       "      <td>9607.0</td>\n",
       "      <td>303.0</td>\n",
       "      <td>0.0</td>\n",
       "      <td>0.0</td>\n",
       "      <td>1</td>\n",
       "      <td>Friday</td>\n",
       "      <td>119.0</td>\n",
       "      <td>11</td>\n",
       "    </tr>\n",
       "    <tr>\n",
       "      <th>1</th>\n",
       "      <td>O5d1Cclk5QA</td>\n",
       "      <td>The New York Times</td>\n",
       "      <td>I Sold the French Laundry. Then It Became \"The...</td>\n",
       "      <td>When my father died, he held disappointment in...</td>\n",
       "      <td>2022-09-13</td>\n",
       "      <td>72091.0</td>\n",
       "      <td>3102.0</td>\n",
       "      <td>0.0</td>\n",
       "      <td>218.0</td>\n",
       "      <td>1</td>\n",
       "      <td>Tuesday</td>\n",
       "      <td>1233.0</td>\n",
       "      <td>21</td>\n",
       "    </tr>\n",
       "    <tr>\n",
       "      <th>2</th>\n",
       "      <td>ccVH_1g-kCY</td>\n",
       "      <td>The New York Times</td>\n",
       "      <td>OB-GYNs Confront Legal Impact of Abortion Bans...</td>\n",
       "      <td>As anti-abortion laws take effect across the U...</td>\n",
       "      <td>2022-09-12</td>\n",
       "      <td>11967.0</td>\n",
       "      <td>617.0</td>\n",
       "      <td>0.0</td>\n",
       "      <td>318.0</td>\n",
       "      <td>1</td>\n",
       "      <td>Monday</td>\n",
       "      <td>379.0</td>\n",
       "      <td>33</td>\n",
       "    </tr>\n",
       "    <tr>\n",
       "      <th>3</th>\n",
       "      <td>0bw7rJ2eZaA</td>\n",
       "      <td>The New York Times</td>\n",
       "      <td>The Legacy of Elizabeth II: The Media Queen</td>\n",
       "      <td>Queen Elizabeth II, the world’s longest-servin...</td>\n",
       "      <td>2022-09-08</td>\n",
       "      <td>56998.0</td>\n",
       "      <td>2061.0</td>\n",
       "      <td>0.0</td>\n",
       "      <td>377.0</td>\n",
       "      <td>1</td>\n",
       "      <td>Thursday</td>\n",
       "      <td>486.0</td>\n",
       "      <td>19</td>\n",
       "    </tr>\n",
       "    <tr>\n",
       "      <th>4</th>\n",
       "      <td>m5aWtcx02ZI</td>\n",
       "      <td>The New York Times</td>\n",
       "      <td>Jonathan Pie: Welcome to Britain. Everything i...</td>\n",
       "      <td>So Liz Truss will be Britain’s next prime mini...</td>\n",
       "      <td>2022-09-06</td>\n",
       "      <td>903494.0</td>\n",
       "      <td>45406.0</td>\n",
       "      <td>0.0</td>\n",
       "      <td>4980.0</td>\n",
       "      <td>1</td>\n",
       "      <td>Tuesday</td>\n",
       "      <td>401.0</td>\n",
       "      <td>15</td>\n",
       "    </tr>\n",
       "  </tbody>\n",
       "</table>\n",
       "</div>"
      ],
      "text/plain": [
       "      video_id        channelTitle  \\\n",
       "0  FJvnn0qRWb4  The New York Times   \n",
       "1  O5d1Cclk5QA  The New York Times   \n",
       "2  ccVH_1g-kCY  The New York Times   \n",
       "3  0bw7rJ2eZaA  The New York Times   \n",
       "4  m5aWtcx02ZI  The New York Times   \n",
       "\n",
       "                                               title  \\\n",
       "0  Watch Warriors in Training in ‘The Woman King’...   \n",
       "1  I Sold the French Laundry. Then It Became \"The...   \n",
       "2  OB-GYNs Confront Legal Impact of Abortion Bans...   \n",
       "3        The Legacy of Elizabeth II: The Media Queen   \n",
       "4  Jonathan Pie: Welcome to Britain. Everything i...   \n",
       "\n",
       "                                         description publishedAt  viewCount  \\\n",
       "0  The intensity of the action epic “The Woman Ki...  2022-09-16     9607.0   \n",
       "1  When my father died, he held disappointment in...  2022-09-13    72091.0   \n",
       "2  As anti-abortion laws take effect across the U...  2022-09-12    11967.0   \n",
       "3  Queen Elizabeth II, the world’s longest-servin...  2022-09-08    56998.0   \n",
       "4  So Liz Truss will be Britain’s next prime mini...  2022-09-06   903494.0   \n",
       "\n",
       "   likeCount  favoriteCount  commentCount  caption publishDayName  \\\n",
       "0      303.0            0.0           0.0        1         Friday   \n",
       "1     3102.0            0.0         218.0        1        Tuesday   \n",
       "2      617.0            0.0         318.0        1         Monday   \n",
       "3     2061.0            0.0         377.0        1       Thursday   \n",
       "4    45406.0            0.0        4980.0        1        Tuesday   \n",
       "\n",
       "   durationSecs  tagCount  \n",
       "0         119.0        11  \n",
       "1        1233.0        21  \n",
       "2         379.0        33  \n",
       "3         486.0        19  \n",
       "4         401.0        15  "
      ]
     },
     "execution_count": 81,
     "metadata": {},
     "output_type": "execute_result"
    }
   ],
   "source": [
    "processed_video_df.head()"
   ]
  },
  {
   "cell_type": "code",
   "execution_count": 82,
   "metadata": {},
   "outputs": [],
   "source": [
    "selected_df = processed_video_df.query('viewCount > 5000 & commentCount > 500')"
   ]
  },
  {
   "cell_type": "code",
   "execution_count": 83,
   "metadata": {},
   "outputs": [
    {
     "data": {
      "text/plain": [
       "245"
      ]
     },
     "execution_count": 83,
     "metadata": {},
     "output_type": "execute_result"
    }
   ],
   "source": [
    "len(selected_df)"
   ]
  },
  {
   "cell_type": "code",
   "execution_count": 84,
   "metadata": {},
   "outputs": [
    {
     "data": {
      "text/html": [
       "<div>\n",
       "<style scoped>\n",
       "    .dataframe tbody tr th:only-of-type {\n",
       "        vertical-align: middle;\n",
       "    }\n",
       "\n",
       "    .dataframe tbody tr th {\n",
       "        vertical-align: top;\n",
       "    }\n",
       "\n",
       "    .dataframe thead th {\n",
       "        text-align: right;\n",
       "    }\n",
       "</style>\n",
       "<table border=\"1\" class=\"dataframe\">\n",
       "  <thead>\n",
       "    <tr style=\"text-align: right;\">\n",
       "      <th></th>\n",
       "      <th>video_id</th>\n",
       "      <th>channelTitle</th>\n",
       "      <th>title</th>\n",
       "      <th>description</th>\n",
       "      <th>publishedAt</th>\n",
       "      <th>viewCount</th>\n",
       "      <th>likeCount</th>\n",
       "      <th>favoriteCount</th>\n",
       "      <th>commentCount</th>\n",
       "      <th>caption</th>\n",
       "      <th>publishDayName</th>\n",
       "      <th>durationSecs</th>\n",
       "      <th>tagCount</th>\n",
       "    </tr>\n",
       "  </thead>\n",
       "  <tbody>\n",
       "    <tr>\n",
       "      <th>4</th>\n",
       "      <td>m5aWtcx02ZI</td>\n",
       "      <td>The New York Times</td>\n",
       "      <td>Jonathan Pie: Welcome to Britain. Everything i...</td>\n",
       "      <td>So Liz Truss will be Britain’s next prime mini...</td>\n",
       "      <td>2022-09-06</td>\n",
       "      <td>903494.0</td>\n",
       "      <td>45406.0</td>\n",
       "      <td>0.0</td>\n",
       "      <td>4980.0</td>\n",
       "      <td>1</td>\n",
       "      <td>Tuesday</td>\n",
       "      <td>401.0</td>\n",
       "      <td>15</td>\n",
       "    </tr>\n",
       "    <tr>\n",
       "      <th>9</th>\n",
       "      <td>eMGqvUZjkH8</td>\n",
       "      <td>The New York Times</td>\n",
       "      <td>Kill Your Lawn | NYT Opinion</td>\n",
       "      <td>Seen from above, it’s not the undulating rows ...</td>\n",
       "      <td>2022-08-09</td>\n",
       "      <td>87002.0</td>\n",
       "      <td>3644.0</td>\n",
       "      <td>0.0</td>\n",
       "      <td>581.0</td>\n",
       "      <td>1</td>\n",
       "      <td>Tuesday</td>\n",
       "      <td>321.0</td>\n",
       "      <td>20</td>\n",
       "    </tr>\n",
       "    <tr>\n",
       "      <th>14</th>\n",
       "      <td>RilwnjDwTOc</td>\n",
       "      <td>The New York Times</td>\n",
       "      <td>We Debunk the Latest Corporate Climate Lie | N...</td>\n",
       "      <td>Finally, corporations are jumping into action ...</td>\n",
       "      <td>2022-07-14</td>\n",
       "      <td>283005.0</td>\n",
       "      <td>13279.0</td>\n",
       "      <td>0.0</td>\n",
       "      <td>1587.0</td>\n",
       "      <td>1</td>\n",
       "      <td>Thursday</td>\n",
       "      <td>288.0</td>\n",
       "      <td>17</td>\n",
       "    </tr>\n",
       "    <tr>\n",
       "      <th>17</th>\n",
       "      <td>tjIgYs81mB8</td>\n",
       "      <td>The New York Times</td>\n",
       "      <td>How I Had an Abortion at Home in Texas | NYT O...</td>\n",
       "      <td>This is the true story of a 27-year-old Texas ...</td>\n",
       "      <td>2022-06-29</td>\n",
       "      <td>286001.0</td>\n",
       "      <td>8838.0</td>\n",
       "      <td>0.0</td>\n",
       "      <td>7759.0</td>\n",
       "      <td>1</td>\n",
       "      <td>Wednesday</td>\n",
       "      <td>475.0</td>\n",
       "      <td>16</td>\n",
       "    </tr>\n",
       "    <tr>\n",
       "      <th>20</th>\n",
       "      <td>Oo_FM3mjBCY</td>\n",
       "      <td>The New York Times</td>\n",
       "      <td>How China’s Surveillance Is Growing More Invas...</td>\n",
       "      <td>A New York Times analysis of over 100,000 gove...</td>\n",
       "      <td>2022-06-22</td>\n",
       "      <td>258469.0</td>\n",
       "      <td>9804.0</td>\n",
       "      <td>0.0</td>\n",
       "      <td>1542.0</td>\n",
       "      <td>1</td>\n",
       "      <td>Wednesday</td>\n",
       "      <td>867.0</td>\n",
       "      <td>44</td>\n",
       "    </tr>\n",
       "  </tbody>\n",
       "</table>\n",
       "</div>"
      ],
      "text/plain": [
       "       video_id        channelTitle  \\\n",
       "4   m5aWtcx02ZI  The New York Times   \n",
       "9   eMGqvUZjkH8  The New York Times   \n",
       "14  RilwnjDwTOc  The New York Times   \n",
       "17  tjIgYs81mB8  The New York Times   \n",
       "20  Oo_FM3mjBCY  The New York Times   \n",
       "\n",
       "                                                title  \\\n",
       "4   Jonathan Pie: Welcome to Britain. Everything i...   \n",
       "9                        Kill Your Lawn | NYT Opinion   \n",
       "14  We Debunk the Latest Corporate Climate Lie | N...   \n",
       "17  How I Had an Abortion at Home in Texas | NYT O...   \n",
       "20  How China’s Surveillance Is Growing More Invas...   \n",
       "\n",
       "                                          description publishedAt  viewCount  \\\n",
       "4   So Liz Truss will be Britain’s next prime mini...  2022-09-06   903494.0   \n",
       "9   Seen from above, it’s not the undulating rows ...  2022-08-09    87002.0   \n",
       "14  Finally, corporations are jumping into action ...  2022-07-14   283005.0   \n",
       "17  This is the true story of a 27-year-old Texas ...  2022-06-29   286001.0   \n",
       "20  A New York Times analysis of over 100,000 gove...  2022-06-22   258469.0   \n",
       "\n",
       "    likeCount  favoriteCount  commentCount  caption publishDayName  \\\n",
       "4     45406.0            0.0        4980.0        1        Tuesday   \n",
       "9      3644.0            0.0         581.0        1        Tuesday   \n",
       "14    13279.0            0.0        1587.0        1       Thursday   \n",
       "17     8838.0            0.0        7759.0        1      Wednesday   \n",
       "20     9804.0            0.0        1542.0        1      Wednesday   \n",
       "\n",
       "    durationSecs  tagCount  \n",
       "4          401.0        15  \n",
       "9          321.0        20  \n",
       "14         288.0        17  \n",
       "17         475.0        16  \n",
       "20         867.0        44  "
      ]
     },
     "execution_count": 84,
     "metadata": {},
     "output_type": "execute_result"
    }
   ],
   "source": [
    "selected_df.head()"
   ]
  },
  {
   "cell_type": "code",
   "execution_count": 85,
   "metadata": {},
   "outputs": [],
   "source": [
    "video_ids = list(selected_df['video_id'])"
   ]
  },
  {
   "cell_type": "code",
   "execution_count": 86,
   "metadata": {},
   "outputs": [],
   "source": [
    "all_comments_df = pd.DataFrame()\n",
    "for video in video_ids:\n",
    "    comment_data = get_video_comments(youtube_obj, video)\n",
    "    all_comments_df = all_comments_df.append(comment_data, ignore_index=True)"
   ]
  },
  {
   "cell_type": "code",
   "execution_count": 87,
   "metadata": {},
   "outputs": [
    {
     "data": {
      "text/html": [
       "<div>\n",
       "<style scoped>\n",
       "    .dataframe tbody tr th:only-of-type {\n",
       "        vertical-align: middle;\n",
       "    }\n",
       "\n",
       "    .dataframe tbody tr th {\n",
       "        vertical-align: top;\n",
       "    }\n",
       "\n",
       "    .dataframe thead th {\n",
       "        text-align: right;\n",
       "    }\n",
       "</style>\n",
       "<table border=\"1\" class=\"dataframe\">\n",
       "  <thead>\n",
       "    <tr style=\"text-align: right;\">\n",
       "      <th></th>\n",
       "      <th>video_id</th>\n",
       "      <th>comment_id</th>\n",
       "      <th>comment</th>\n",
       "      <th>date</th>\n",
       "    </tr>\n",
       "  </thead>\n",
       "  <tbody>\n",
       "    <tr>\n",
       "      <th>0</th>\n",
       "      <td>m5aWtcx02ZI</td>\n",
       "      <td>UgxufqRCtXh89VL-mfp4AaABAg</td>\n",
       "      <td>Though we walk through the valley of death, so...</td>\n",
       "      <td>2022-09-15T23:18:04Z</td>\n",
       "    </tr>\n",
       "    <tr>\n",
       "      <th>1</th>\n",
       "      <td>m5aWtcx02ZI</td>\n",
       "      <td>UgwUecmtXM7o_sFXgo14AaABAg</td>\n",
       "      <td>As a citizen of burgerland, I can confirm Brit...</td>\n",
       "      <td>2022-09-15T22:42:25Z</td>\n",
       "    </tr>\n",
       "    <tr>\n",
       "      <th>2</th>\n",
       "      <td>m5aWtcx02ZI</td>\n",
       "      <td>Ugydc96B5N4nXidOG0h4AaABAg</td>\n",
       "      <td>Really boring. Yet another 'I hate the British...</td>\n",
       "      <td>2022-09-15T22:17:28Z</td>\n",
       "    </tr>\n",
       "    <tr>\n",
       "      <th>3</th>\n",
       "      <td>m5aWtcx02ZI</td>\n",
       "      <td>UgzxQz_m_QuKjo82Jy94AaABAg</td>\n",
       "      <td>very surprised yall had him on.\\nvery progress...</td>\n",
       "      <td>2022-09-15T21:45:34Z</td>\n",
       "    </tr>\n",
       "    <tr>\n",
       "      <th>4</th>\n",
       "      <td>m5aWtcx02ZI</td>\n",
       "      <td>UgykCYZTg5fHmL0FcGZ4AaABAg</td>\n",
       "      <td>The New York Times taking the opportunity to p...</td>\n",
       "      <td>2022-09-15T21:26:09Z</td>\n",
       "    </tr>\n",
       "  </tbody>\n",
       "</table>\n",
       "</div>"
      ],
      "text/plain": [
       "      video_id                  comment_id  \\\n",
       "0  m5aWtcx02ZI  UgxufqRCtXh89VL-mfp4AaABAg   \n",
       "1  m5aWtcx02ZI  UgwUecmtXM7o_sFXgo14AaABAg   \n",
       "2  m5aWtcx02ZI  Ugydc96B5N4nXidOG0h4AaABAg   \n",
       "3  m5aWtcx02ZI  UgzxQz_m_QuKjo82Jy94AaABAg   \n",
       "4  m5aWtcx02ZI  UgykCYZTg5fHmL0FcGZ4AaABAg   \n",
       "\n",
       "                                             comment                  date  \n",
       "0  Though we walk through the valley of death, so...  2022-09-15T23:18:04Z  \n",
       "1  As a citizen of burgerland, I can confirm Brit...  2022-09-15T22:42:25Z  \n",
       "2  Really boring. Yet another 'I hate the British...  2022-09-15T22:17:28Z  \n",
       "3  very surprised yall had him on.\\nvery progress...  2022-09-15T21:45:34Z  \n",
       "4  The New York Times taking the opportunity to p...  2022-09-15T21:26:09Z  "
      ]
     },
     "execution_count": 87,
     "metadata": {},
     "output_type": "execute_result"
    }
   ],
   "source": [
    "all_comments_df.head()"
   ]
  },
  {
   "cell_type": "code",
   "execution_count": 88,
   "metadata": {},
   "outputs": [
    {
     "data": {
      "text/plain": [
       "'very surprised yall had him on.\\nvery progressive.'"
      ]
     },
     "execution_count": 88,
     "metadata": {},
     "output_type": "execute_result"
    }
   ],
   "source": [
    "all_comments_df['comment'][3]"
   ]
  },
  {
   "cell_type": "markdown",
   "metadata": {},
   "source": [
    "## Comment Data Cleaning"
   ]
  },
  {
   "cell_type": "code",
   "execution_count": 89,
   "metadata": {},
   "outputs": [],
   "source": [
    "import nltk\n",
    "from nltk.sentiment import SentimentIntensityAnalyzer\n",
    "sia = SentimentIntensityAnalyzer()"
   ]
  },
  {
   "cell_type": "code",
   "execution_count": 90,
   "metadata": {},
   "outputs": [],
   "source": [
    "def preprocess(comment):\n",
    "    comment = comment.str.replace(\"\\n\", \" \") # remove new lines \n",
    "    return comment\n",
    "\n",
    "all_comments_df['comment'] = preprocess(all_comments_df['comment'])"
   ]
  },
  {
   "cell_type": "code",
   "execution_count": 91,
   "metadata": {},
   "outputs": [
    {
     "data": {
      "text/html": [
       "<div>\n",
       "<style scoped>\n",
       "    .dataframe tbody tr th:only-of-type {\n",
       "        vertical-align: middle;\n",
       "    }\n",
       "\n",
       "    .dataframe tbody tr th {\n",
       "        vertical-align: top;\n",
       "    }\n",
       "\n",
       "    .dataframe thead th {\n",
       "        text-align: right;\n",
       "    }\n",
       "</style>\n",
       "<table border=\"1\" class=\"dataframe\">\n",
       "  <thead>\n",
       "    <tr style=\"text-align: right;\">\n",
       "      <th></th>\n",
       "      <th>video_id</th>\n",
       "      <th>comment_id</th>\n",
       "      <th>comment</th>\n",
       "      <th>date</th>\n",
       "    </tr>\n",
       "  </thead>\n",
       "  <tbody>\n",
       "    <tr>\n",
       "      <th>0</th>\n",
       "      <td>m5aWtcx02ZI</td>\n",
       "      <td>UgxufqRCtXh89VL-mfp4AaABAg</td>\n",
       "      <td>Though we walk through the valley of death, so...</td>\n",
       "      <td>2022-09-15T23:18:04Z</td>\n",
       "    </tr>\n",
       "    <tr>\n",
       "      <th>1</th>\n",
       "      <td>m5aWtcx02ZI</td>\n",
       "      <td>UgwUecmtXM7o_sFXgo14AaABAg</td>\n",
       "      <td>As a citizen of burgerland, I can confirm Brit...</td>\n",
       "      <td>2022-09-15T22:42:25Z</td>\n",
       "    </tr>\n",
       "    <tr>\n",
       "      <th>2</th>\n",
       "      <td>m5aWtcx02ZI</td>\n",
       "      <td>Ugydc96B5N4nXidOG0h4AaABAg</td>\n",
       "      <td>Really boring. Yet another 'I hate the British...</td>\n",
       "      <td>2022-09-15T22:17:28Z</td>\n",
       "    </tr>\n",
       "    <tr>\n",
       "      <th>3</th>\n",
       "      <td>m5aWtcx02ZI</td>\n",
       "      <td>UgzxQz_m_QuKjo82Jy94AaABAg</td>\n",
       "      <td>very surprised yall had him on. very progressive.</td>\n",
       "      <td>2022-09-15T21:45:34Z</td>\n",
       "    </tr>\n",
       "    <tr>\n",
       "      <th>4</th>\n",
       "      <td>m5aWtcx02ZI</td>\n",
       "      <td>UgykCYZTg5fHmL0FcGZ4AaABAg</td>\n",
       "      <td>The New York Times taking the opportunity to p...</td>\n",
       "      <td>2022-09-15T21:26:09Z</td>\n",
       "    </tr>\n",
       "    <tr>\n",
       "      <th>...</th>\n",
       "      <td>...</td>\n",
       "      <td>...</td>\n",
       "      <td>...</td>\n",
       "      <td>...</td>\n",
       "    </tr>\n",
       "    <tr>\n",
       "      <th>24495</th>\n",
       "      <td>aLk5znZljTI</td>\n",
       "      <td>UgzaLfcXUI-MKhaZnvd4AaABAg</td>\n",
       "      <td>Nike supports a COMMUNIST Chinese party.</td>\n",
       "      <td>2021-06-29T03:59:00Z</td>\n",
       "    </tr>\n",
       "    <tr>\n",
       "      <th>24496</th>\n",
       "      <td>aLk5znZljTI</td>\n",
       "      <td>UgxcLr95KEBOpfCikwZ4AaABAg</td>\n",
       "      <td>Lmfao</td>\n",
       "      <td>2021-06-29T03:58:05Z</td>\n",
       "    </tr>\n",
       "    <tr>\n",
       "      <th>24497</th>\n",
       "      <td>aLk5znZljTI</td>\n",
       "      <td>UgxJtnKZGDFF3Mr4neJ4AaABAg</td>\n",
       "      <td>Are these females really complaining about cho...</td>\n",
       "      <td>2021-06-28T17:35:49Z</td>\n",
       "    </tr>\n",
       "    <tr>\n",
       "      <th>24498</th>\n",
       "      <td>aLk5znZljTI</td>\n",
       "      <td>UgxBrrJZLE2juVsxW5Z4AaABAg</td>\n",
       "      <td>Go somewhere else than... im sure there are di...</td>\n",
       "      <td>2021-06-28T13:22:54Z</td>\n",
       "    </tr>\n",
       "    <tr>\n",
       "      <th>24499</th>\n",
       "      <td>aLk5znZljTI</td>\n",
       "      <td>UgwVpTk6yKnieF5lCgl4AaABAg</td>\n",
       "      <td>Allyson Felix inspires others. She is a legend...</td>\n",
       "      <td>2021-06-26T21:41:03Z</td>\n",
       "    </tr>\n",
       "  </tbody>\n",
       "</table>\n",
       "<p>24500 rows × 4 columns</p>\n",
       "</div>"
      ],
      "text/plain": [
       "          video_id                  comment_id  \\\n",
       "0      m5aWtcx02ZI  UgxufqRCtXh89VL-mfp4AaABAg   \n",
       "1      m5aWtcx02ZI  UgwUecmtXM7o_sFXgo14AaABAg   \n",
       "2      m5aWtcx02ZI  Ugydc96B5N4nXidOG0h4AaABAg   \n",
       "3      m5aWtcx02ZI  UgzxQz_m_QuKjo82Jy94AaABAg   \n",
       "4      m5aWtcx02ZI  UgykCYZTg5fHmL0FcGZ4AaABAg   \n",
       "...            ...                         ...   \n",
       "24495  aLk5znZljTI  UgzaLfcXUI-MKhaZnvd4AaABAg   \n",
       "24496  aLk5znZljTI  UgxcLr95KEBOpfCikwZ4AaABAg   \n",
       "24497  aLk5znZljTI  UgxJtnKZGDFF3Mr4neJ4AaABAg   \n",
       "24498  aLk5znZljTI  UgxBrrJZLE2juVsxW5Z4AaABAg   \n",
       "24499  aLk5znZljTI  UgwVpTk6yKnieF5lCgl4AaABAg   \n",
       "\n",
       "                                                 comment                  date  \n",
       "0      Though we walk through the valley of death, so...  2022-09-15T23:18:04Z  \n",
       "1      As a citizen of burgerland, I can confirm Brit...  2022-09-15T22:42:25Z  \n",
       "2      Really boring. Yet another 'I hate the British...  2022-09-15T22:17:28Z  \n",
       "3      very surprised yall had him on. very progressive.  2022-09-15T21:45:34Z  \n",
       "4      The New York Times taking the opportunity to p...  2022-09-15T21:26:09Z  \n",
       "...                                                  ...                   ...  \n",
       "24495           Nike supports a COMMUNIST Chinese party.  2021-06-29T03:59:00Z  \n",
       "24496                                              Lmfao  2021-06-29T03:58:05Z  \n",
       "24497  Are these females really complaining about cho...  2021-06-28T17:35:49Z  \n",
       "24498  Go somewhere else than... im sure there are di...  2021-06-28T13:22:54Z  \n",
       "24499  Allyson Felix inspires others. She is a legend...  2021-06-26T21:41:03Z  \n",
       "\n",
       "[24500 rows x 4 columns]"
      ]
     },
     "execution_count": 91,
     "metadata": {},
     "output_type": "execute_result"
    }
   ],
   "source": [
    "all_comments_df"
   ]
  },
  {
   "cell_type": "code",
   "execution_count": 92,
   "metadata": {},
   "outputs": [
    {
     "data": {
      "text/plain": [
       "'very surprised yall had him on. very progressive.'"
      ]
     },
     "execution_count": 92,
     "metadata": {},
     "output_type": "execute_result"
    }
   ],
   "source": [
    "all_comments_df['comment'][3]"
   ]
  },
  {
   "cell_type": "code",
   "execution_count": 93,
   "metadata": {},
   "outputs": [],
   "source": [
    "all_comments_df['vader_sentiment'] = all_comments_df.comment.apply(lambda x: sia.polarity_scores(x))\n",
    "all_comments_df['vader_comp_sentiment'] = all_comments_df.vader_sentiment.apply(lambda x: x['compound'])"
   ]
  },
  {
   "cell_type": "code",
   "execution_count": 94,
   "metadata": {},
   "outputs": [
    {
     "data": {
      "text/plain": [
       "0.00024345306122447468"
      ]
     },
     "execution_count": 94,
     "metadata": {},
     "output_type": "execute_result"
    }
   ],
   "source": [
    "all_comments_df['vader_comp_sentiment'].mean()"
   ]
  },
  {
   "cell_type": "code",
   "execution_count": 95,
   "metadata": {},
   "outputs": [],
   "source": [
    "video_comp_sentiments = pd.DataFrame(columns=['video_id', 'vid_title', 'avg_comp_sentiment', 'vid_viewcount'])\n",
    "for video in video_ids:\n",
    "    comment_data = get_video_comments(youtube_obj, video)\n",
    "    comment_data['vader_sentiment'] = comment_data.comment.apply(lambda x: sia.polarity_scores(x))\n",
    "    comment_data['vader_comp_sentiment'] = comment_data.vader_sentiment.apply(lambda x: x['compound'])\n",
    "    comp_mean = comment_data['vader_comp_sentiment'].mean()\n",
    "\n",
    "    vid_title = processed_video_df.loc[processed_video_df['video_id'] == video, 'title'].item()\n",
    "    vid_viewcount = processed_video_df.loc[processed_video_df['video_id'] == video, 'viewCount'].item()\n",
    "    vid_likecount = processed_video_df.loc[processed_video_df['video_id'] == video, 'likeCount'].item()\n",
    "\n",
    "    dict = {'video_id': video,\n",
    "            'vid_title': vid_title,\n",
    "            'avg_comp_sentiment': comp_mean,\n",
    "            'vid_viewcount': vid_viewcount,\n",
    "            'vid_likecount': vid_likecount\n",
    "            }\n",
    "\n",
    "    video_comp_sentiments = video_comp_sentiments.append(dict, ignore_index=True)\n",
    "    "
   ]
  },
  {
   "cell_type": "code",
   "execution_count": 96,
   "metadata": {},
   "outputs": [
    {
     "data": {
      "text/html": [
       "<div>\n",
       "<style scoped>\n",
       "    .dataframe tbody tr th:only-of-type {\n",
       "        vertical-align: middle;\n",
       "    }\n",
       "\n",
       "    .dataframe tbody tr th {\n",
       "        vertical-align: top;\n",
       "    }\n",
       "\n",
       "    .dataframe thead th {\n",
       "        text-align: right;\n",
       "    }\n",
       "</style>\n",
       "<table border=\"1\" class=\"dataframe\">\n",
       "  <thead>\n",
       "    <tr style=\"text-align: right;\">\n",
       "      <th></th>\n",
       "      <th>video_id</th>\n",
       "      <th>vid_title</th>\n",
       "      <th>avg_comp_sentiment</th>\n",
       "      <th>vid_viewcount</th>\n",
       "      <th>vid_likecount</th>\n",
       "    </tr>\n",
       "  </thead>\n",
       "  <tbody>\n",
       "    <tr>\n",
       "      <th>0</th>\n",
       "      <td>m5aWtcx02ZI</td>\n",
       "      <td>Jonathan Pie: Welcome to Britain. Everything i...</td>\n",
       "      <td>0.030583</td>\n",
       "      <td>903494.0</td>\n",
       "      <td>45406.0</td>\n",
       "    </tr>\n",
       "    <tr>\n",
       "      <th>1</th>\n",
       "      <td>eMGqvUZjkH8</td>\n",
       "      <td>Kill Your Lawn | NYT Opinion</td>\n",
       "      <td>0.118600</td>\n",
       "      <td>87002.0</td>\n",
       "      <td>3644.0</td>\n",
       "    </tr>\n",
       "    <tr>\n",
       "      <th>2</th>\n",
       "      <td>RilwnjDwTOc</td>\n",
       "      <td>We Debunk the Latest Corporate Climate Lie | N...</td>\n",
       "      <td>-0.014841</td>\n",
       "      <td>283005.0</td>\n",
       "      <td>13279.0</td>\n",
       "    </tr>\n",
       "    <tr>\n",
       "      <th>3</th>\n",
       "      <td>tjIgYs81mB8</td>\n",
       "      <td>How I Had an Abortion at Home in Texas | NYT O...</td>\n",
       "      <td>-0.189609</td>\n",
       "      <td>286001.0</td>\n",
       "      <td>8838.0</td>\n",
       "    </tr>\n",
       "    <tr>\n",
       "      <th>4</th>\n",
       "      <td>Oo_FM3mjBCY</td>\n",
       "      <td>How China’s Surveillance Is Growing More Invas...</td>\n",
       "      <td>0.028863</td>\n",
       "      <td>258469.0</td>\n",
       "      <td>9804.0</td>\n",
       "    </tr>\n",
       "    <tr>\n",
       "      <th>...</th>\n",
       "      <td>...</td>\n",
       "      <td>...</td>\n",
       "      <td>...</td>\n",
       "      <td>...</td>\n",
       "      <td>...</td>\n",
       "    </tr>\n",
       "    <tr>\n",
       "      <th>240</th>\n",
       "      <td>zkwbIlrFhgM</td>\n",
       "      <td>Did Iran Attack Ships in the Gulf? What the Ev...</td>\n",
       "      <td>-0.126641</td>\n",
       "      <td>175639.0</td>\n",
       "      <td>2361.0</td>\n",
       "    </tr>\n",
       "    <tr>\n",
       "      <th>241</th>\n",
       "      <td>VLwDvK0j4DQ</td>\n",
       "      <td>Why American Diabetics Go to Mexico and Craigl...</td>\n",
       "      <td>0.311231</td>\n",
       "      <td>470137.0</td>\n",
       "      <td>16256.0</td>\n",
       "    </tr>\n",
       "    <tr>\n",
       "      <th>242</th>\n",
       "      <td>LYs5HMky1qY</td>\n",
       "      <td>Why Biden’s First Run for President Failed | N...</td>\n",
       "      <td>-0.313644</td>\n",
       "      <td>1594422.0</td>\n",
       "      <td>22272.0</td>\n",
       "    </tr>\n",
       "    <tr>\n",
       "      <th>243</th>\n",
       "      <td>S7jnzOMxb14</td>\n",
       "      <td>The Stonewall You Know Is a Myth. And That’s O...</td>\n",
       "      <td>0.138696</td>\n",
       "      <td>974239.0</td>\n",
       "      <td>50722.0</td>\n",
       "    </tr>\n",
       "    <tr>\n",
       "      <th>244</th>\n",
       "      <td>aLk5znZljTI</td>\n",
       "      <td>I'm in Nike's Ads, But They Won't Give Me Mate...</td>\n",
       "      <td>0.209852</td>\n",
       "      <td>987334.0</td>\n",
       "      <td>33075.0</td>\n",
       "    </tr>\n",
       "  </tbody>\n",
       "</table>\n",
       "<p>245 rows × 5 columns</p>\n",
       "</div>"
      ],
      "text/plain": [
       "        video_id                                          vid_title  \\\n",
       "0    m5aWtcx02ZI  Jonathan Pie: Welcome to Britain. Everything i...   \n",
       "1    eMGqvUZjkH8                       Kill Your Lawn | NYT Opinion   \n",
       "2    RilwnjDwTOc  We Debunk the Latest Corporate Climate Lie | N...   \n",
       "3    tjIgYs81mB8  How I Had an Abortion at Home in Texas | NYT O...   \n",
       "4    Oo_FM3mjBCY  How China’s Surveillance Is Growing More Invas...   \n",
       "..           ...                                                ...   \n",
       "240  zkwbIlrFhgM  Did Iran Attack Ships in the Gulf? What the Ev...   \n",
       "241  VLwDvK0j4DQ  Why American Diabetics Go to Mexico and Craigl...   \n",
       "242  LYs5HMky1qY  Why Biden’s First Run for President Failed | N...   \n",
       "243  S7jnzOMxb14  The Stonewall You Know Is a Myth. And That’s O...   \n",
       "244  aLk5znZljTI  I'm in Nike's Ads, But They Won't Give Me Mate...   \n",
       "\n",
       "     avg_comp_sentiment  vid_viewcount  vid_likecount  \n",
       "0              0.030583       903494.0        45406.0  \n",
       "1              0.118600        87002.0         3644.0  \n",
       "2             -0.014841       283005.0        13279.0  \n",
       "3             -0.189609       286001.0         8838.0  \n",
       "4              0.028863       258469.0         9804.0  \n",
       "..                  ...            ...            ...  \n",
       "240           -0.126641       175639.0         2361.0  \n",
       "241            0.311231       470137.0        16256.0  \n",
       "242           -0.313644      1594422.0        22272.0  \n",
       "243            0.138696       974239.0        50722.0  \n",
       "244            0.209852       987334.0        33075.0  \n",
       "\n",
       "[245 rows x 5 columns]"
      ]
     },
     "execution_count": 96,
     "metadata": {},
     "output_type": "execute_result"
    }
   ],
   "source": [
    "video_comp_sentiments"
   ]
  },
  {
   "cell_type": "code",
   "execution_count": 97,
   "metadata": {},
   "outputs": [
    {
     "data": {
      "text/plain": [
       "Renderers configuration\n",
       "-----------------------\n",
       "    Default renderer: 'vscode'\n",
       "    Available renderers:\n",
       "        ['plotly_mimetype', 'jupyterlab', 'nteract', 'vscode',\n",
       "         'notebook', 'notebook_connected', 'kaggle', 'azure', 'colab',\n",
       "         'cocalc', 'databricks', 'json', 'png', 'jpeg', 'jpg', 'svg',\n",
       "         'pdf', 'browser', 'firefox', 'chrome', 'chromium', 'iframe',\n",
       "         'iframe_connected', 'sphinx_gallery', 'sphinx_gallery_png']"
      ]
     },
     "execution_count": 97,
     "metadata": {},
     "output_type": "execute_result"
    }
   ],
   "source": [
    "import plotly.io as pio\n",
    "pio.renderers"
   ]
  },
  {
   "cell_type": "code",
   "execution_count": 98,
   "metadata": {},
   "outputs": [],
   "source": [
    "import plotly.express as px\n",
    "import plotly.graph_objects as go\n",
    "from plotly.subplots import make_subplots"
   ]
  },
  {
   "cell_type": "code",
   "execution_count": 116,
   "metadata": {},
   "outputs": [
    {
     "data": {
      "application/vnd.plotly.v1+json": {
       "config": {
        "plotlyServerURL": "https://plot.ly"
       },
       "data": [
        {
         "hovertemplate": "<b>%{text}</b> <br>Sentiment Value: %{x} <br>View Count: %{y}",
         "marker": {
          "color": "Blue"
         },
         "mode": "markers",
         "name": "View Count",
         "text": [
          "Jonathan Pie: Welcome to Britain. Everything is Terrible. | NYT Opinion",
          "Kill Your Lawn | NYT Opinion",
          "We Debunk the Latest Corporate Climate Lie | NYT Opinion",
          "How I Had an Abortion at Home in Texas | NYT Opinion",
          "How China’s Surveillance Is Growing More Invasive | Visual Investigations",
          "The Ukrainians Sent to Russia’s ‘Filtration Camps’ | Russia-Ukraine War",
          "How the Proud Boys Breached the Capitol | Visual Investigations",
          "Watch Bryce Dallas Howard’s Slow Escape in ‘Jurassic World Dominion’ | Anatomy of a Scene",
          "48 Hours in A Kansas Abortion Clinic | NYT News",
          "Watch Tom Cruise Go Hypersonic in ‘Top Gun: Maverick’ | Anatomy of a Scene",
          "Twenty Years of Putin Playing the West in 3 Minutes | NYT Opinion",
          "Teens Are In Crisis. Here’s Why. | The New York Times",
          "Under Attack in Ukraine’s Southeast | Russia-Ukraine War",
          "How Russia’s Disinformation Spreads Beyond Its Borders | Russia-Ukraine War",
          "Ukrainians Identify Bodies in Bucha | Russia-Ukraine War",
          "The Horrors Russia Left Behind | Russia-Ukraine War",
          "The Ukrainian Fighters Defending Kyiv | Russia–Ukraine War",
          "Escape from Mariupol | Russia-Ukraine War",
          "Russia Struggled to Capture a Ukrainian Town. Intercepted Radio Messages Show Why.",
          "The Foreign Fighters in Ukraine to Battle Russia | Russia-Ukraine War",
          "A Ukrainian Soldier Is Laid to Rest | Russia-Ukraine War",
          "Watch Robert Pattinson Take Flight in ‘The Batman’ | Anatomy of a Scene",
          "Jonathan Pie: How Putin Weaponized London’s Greed | NYT Opinion",
          "‘No City in Ukraine Is Safe’: Family Escapes Missile Strike",
          "Ukraine’s Civilians Take Up Arms Against Russia’s Invasion",
          "President Obama: Trayvon Martin Made America Confront Its Original Sin | NYT Opinion",
          "Ukraine’s Energy Gamble: Can it Unplug From Russia? | NYT News",
          "The Ukrainian Paramilitaries Ready to Fight Russia | NYT News",
          "See the True Cost of Your Cheap Chicken | NYT Opinion",
          "How Ukraine Is Training Civilians for Conflict With Russia | NYT News",
          "Jonathan Pie: 'Boris Johnson Is a Liar' | NYT Opinion",
          "Meet the People Getting Paid to Kill Our Planet | NYT Opinion",
          "Ukraine City Braces for Possible Russian Invasion | NYT News",
          "Hospital Greed Is Destroying Our Nurses. Here’s Why. | NYT Opinion",
          "How the Landlord’s Worst Nightmare Could Protect Millions of New Yorkers | NYT Opinion",
          "We’ve Lost Two Years to Covid. It’s Time to Grieve. | NYT Opinion",
          "Liberal Hypocrisy is Fueling American Inequality. Here’s How. | NYT Opinion",
          "A Fatal Night in Kenosha: How the Rittenhouse Shootings Unfolded | Visual Investigations",
          "Greta Thunberg Has Given Up on Politicians. But Not You. | NYT Opinion",
          "Searching for the Lost Graves of Indigenous Children in Canada | NYT News",
          "‘It’s Just a Matter of Time for the Taliban to Find Me’: On the Run in Afghanistan | NYT Opinion",
          "In a Galaxy Far, Far Away, I Was Almost Anakin Skywalker | 'Almost Famous' by Op-Docs",
          "The U.S. Military Said It Was an ISIS Safe House. We Found a Family Home. | Visual Investigations",
          "How a U.S. Drone Strike Killed the Wrong Person in Afghanistan | Visual Investigations",
          "Inside an Abandoned Mansion That 150 Taliban Now Call Home | Afghanistan News",
          "‘I Won’t Go 20 Years Back in Time’: Young Afghan Women Speak Out | NYT",
          "I Uncovered Abuse in the Catholic Church. Why Was it Ignored? | ‘Almost Famous’ by Op-Docs",
          "20 Years, 4 Presidents: The Words That Shaped the War in Afghanistan | NYT",
          "Dying in the Name of Vaccine Freedom | NYT Opinion",
          "Can a Trans Runner Like Me Compete Fairly? | NYT Opinion",
          "‘We Are Here Alone’: An Afghan Translator’s Plea for Help | NYT",
          "I Changed Astronomy Forever. He Won the Nobel Prize for It. | 'Almost Famous' by Op-Docs",
          "Palestinians Film War in Gaza: ‘So They Know We Existed’ | NYT",
          "I Have a Visual Disability, And I Want You To Look Me In the Eye | NYT Opinion",
          "Stay or Leave? Southern Israel, After the Rockets | NYT",
          "The Queen of Basketball | An Oscar-Winning Op-Doc",
          "'Normal' Was Not Working For Everyone — And We're Dreading Its Return | NYT Opinion",
          "Day of Rage: How Trump Supporters Took the U.S. Capitol | Visual Investigations",
          "Gaza’s Deadly Night: How Israeli Airstrikes Killed 44 People | Visual Investigations",
          "Kunal Kamra: Modi Caused a 'Covid Massacre' | NYT Opinion",
          "Cops From Around the World React to U.S. Policing | NYT Opinion",
          "How Mozambique Failed a Town Attacked by Militants  | Visual Investigations",
          "How Does America's Response to Climate Change Look From Abroad? | NYT Opinion",
          "A Letter From Death Row: Gov. Abbott, Will You Save My Life? | NYT Opinion",
          "Inside the Daily Life of a Live Streaming Star in China | Op-Docs",
          "What Does U.S. Health Care Look Like Abroad? | NYT Opinion",
          "How ICE’s Mishandling of Covid-19 Fueled Outbreaks Around the Country | Coronavirus News",
          "Living With the Daunte Wright Protests at the Front Door | NYT News",
          "My Son's Yeshiva Is Breaking the Law | NYT Opinion",
          "Inside the Battle Over George Floyd Square | NYT News",
          "How a Mysterious Ship Helps North Korea Evade Oil Sanctions | Visual Investigations",
          "How Police Tried — and Failed — To Stop Capitol Attackers | Visual Investigations",
          "How Olivia Rodrigo Wrote ‘Drivers License,’ the Biggest Song of the Year So Far | Diary of a Song",
          "Inside a Covid I.C.U., Through a Nurse's Eyes | NYT Opinion",
          "What Menopause Feels Like | Op-Docs",
          "Evictions Are On Hold, But What Happens When Rent Is Eventually Due? | NYT Opinion",
          "How Joe Biden Defeated Donald Trump | NYT Opinion",
          "Why We Shouldn't Call the Capital Rioters 'Terrorists.' | NYT Opinion",
          "4 Years of the Trump Presidency in 6 Minutes | NYT Politics",
          "How the Police Killed Breonna Taylor | Visual Investigations",
          "Inside a N.Y.C. School That Reopened During the Pandemic | Coronavirus News",
          "Our Neighbors Committed Mass Murder, Here's What We Did | Op-Docs",
          "How Do U.S. Voters Feel After the Election? Still Divided. | 2020 Elections",
          "The Votes Are In. Now Comes the Wait. | 2020 Elections",
          "What Do U.S. Elections Look Like Abroad? | NYT Opinion",
          "How U.S. Police Took a Hands-Off Approach to Armed Groups in 2020 | NYT - Visual Investigations",
          "Trump’s Campaign Is Building an Army of Poll Watchers. What Can They Actually Do? | 2020 Elections",
          "How America Helped Stop Covid-19. Just Not in the U.S. | NYT Opinion",
          "What Can You Do About QAnon? | NYT Opinion",
          "How Homegrown Disinformation Could Disrupt This U.S. Election | 2020 Elections",
          "This U.S. Election Could Be the Most Secure Yet. Here’s Why. | 2020 Elections",
          "How a U.S. Task Force Killed a Wanted Antifa Activist",
          "What's the Problem With Vote-by-Mail? | 2020 Elections",
          "How America Bungled the Plague | NYT Opinion",
          "Why Voting in This U.S. Election Will Not Be Equal | 2020 Elections",
          "I'm Not Alone. I Have My Cats. | Op-Docs",
          "I’m Trying to Topple Europe’s Last Dictator | NYT Opinion",
          "How an Oregon Wildfire Became One of the Most Destructive | Visual Investigations",
          "Remembering Ruth Bader Ginsburg | NYT News",
          "When Talking to Aliens Is Your Religion | Op-Docs",
          "Why You Should Care About TikTok | NYT Opinion",
          "This Doctor Wants to Humanize Death | Op-Docs",
          "Why The Olympics Punished Me For Protesting | NYT Opinion",
          "Key Takeaways From Trump’s R.N.C. Speech | 2020 Elections",
          "Key Moments From Biden's DNC Speech | 2020 Elections",
          "What You Need to Know About Kamala Harris | 2020 Elections",
          "Goalies Have the Loneliest Job in Soccer, Here's Why | Op-Docs",
          "He Predicted a Trump Win in 2016. What's His Forecast For 2020? | NYT Opinion",
          "What Does America’s Coronavirus Response Look Like Abroad? | NYT Opinion",
          "How Coronavirus Ravaged One Family in Houston | Coronavirus News",
          "How Federal Officers Escalated Violence in Portland | Visual Investigations",
          "Portland Protests: How Trump’s Crackdown Strengthened Demonstrations | NYT News",
          "Who Made Your Mask? We Traced PPE to Uighur Workers in China's Harsh Labor Program| Coronavirus News",
          "Donald Trump Isn't the Worst Covid President. Just Ask Brazilians. | NYT Opinion",
          "How ICE Helped Spread the Coronavirus | Coronavirus News",
          "‘I Can Barely Keep Track’: Inside a Texas Hospital Battling Coronavirus | Coronavirus News",
          "Why Some Black Americans Need Guns to Feel Safe in Their Country | NYT Opinion",
          "How Pop Smoke and Fivio Foreign Took Brooklyn Drill Global  |  Diary of a Song",
          "Philadelphia Police Violated Their Own Guidelines, Here's How | Visual Investigations",
          "How a Police Encounter Turned Fatal: The Killing of Rayshard Brooks | Visual Investigations",
          "Why Trump’s Tulsa Rally Put the City’s Black Residents on Edge | NYT News",
          "A Racist Attack Still Haunts 45 Years Later, Here's Why. | George Floyd Protests",
          "How Coronavirus Has Devastated N.Y.C.'s Black Community | Coronavirus News",
          "How Questionable Police Tactics Led to a Fatal Shooting In Louisville | Visual Investigations",
          "Thousands March to the White House | George Floyd Protests",
          "Amazon Warehouses Are Still Seeing Coronavirus Outbreaks. Why Did They End Hazard Pay? | NYT Opinion",
          "Funeral Homes in Mexico Show Coronavirus’ Hidden Death Toll | Coronavirus News",
          "How India’s Police Used a Pandemic to Boost Its Image | Coronavirus News",
          "How George Floyd Was Killed in Police Custody | Visual Investigations",
          "‘We’re Sick and Tired’: Voices From Minneapolis Protests | NYT News",
          "How a Night of Chaos in Minneapolis Unfolded | Minneapolis Protests",
          "Inside One of New York’s Deadliest Zip Codes | Coronavirus News",
          "Elmhurst Hospital After the Coronavirus Surge: From Chaos to ‘Scary Silence’ | Coronavirus News",
          "Why Do Some Health Care Workers Live in Poverty? | NYT Opinion",
          "Inside Two N.Y.C. Morgues Overwhelmed With Coronavirus | Coronavirus News",
          "Retracing Ahmaud Arbery’s Final Minutes: What Videos And 911 Calls Show | NYT Visual Investigations",
          "Are Ice Cream Trucks Essential? In N.Y.C., They Are. | Coronavirus News",
          "The Truth Is Essential | The New York Times",
          "Dying of Coronavirus: A Family's Painful Goodbye | NYT News",
          "Where Is Kim Jong-un? How Experts Track North Korea’s Leader | NYT News",
          "'This Is Crazy': Inside a N.Y.C. Apartment During Coronavirus | Quarantine Diaries",
          "How Coronavirus Ravaged Ecuador: From First Confirmed Case to Thousands Dead | NYT News",
          "How Coronavirus is Upending Ultra-Orthodox Jewish Traditions | NYT News",
          "Who Won The Best New York Accent Contest? | NYT News",
          "\"I could see the fear in his eyes.\" What Battling Coronavirus Looks Like | NYT Opinion",
          "Doctors Face Troubling Question: Are They Treating Coronavirus Correctly? | NYT News",
          "What Happens When Coronavirus Invades a War Zone | NYT News",
          "Pregnant With Coronavirus: How a Hospital Maternity Ward Is Coping | NYT News",
          "Hospital Workers Are Dying From Coronavirus. Here's Why. | NYT Opinion",
          "Modi Denies India Is Targeting Muslims. We Found a Different Reality. | The Dispatch",
          "How Coronavirus Attacks the Body | NYT News",
          "Inside a New York City I.C.U. Battling Coronavirus | NYT News",
          "Coronavirus Pandemic: Will N.Y.C.'s Homeless Students Be Left Behind? | NYT News",
          "‘People Are Dying’: Battling Coronavirus Inside a N.Y.C. Hospital | NYT News",
          "Coronavirus is Straining Hospitals. Here's How Innovators Are Helping. | NYT News",
          "As the Coronavirus Approaches, Mexico Looks the Other Way | The Dispatch",
          "‘Brace Yourself’: Doctors in Italy Share Coronavirus Advice | NYT News",
          "How New Yorkers Are Coping With Coronavirus | NYT News",
          "Virus With Your Quarter Pounder? Why McDonald's Needs to Guarantee Paid Sick Leave | NYT Opinion",
          "How Grimes Used Music to Confront Tragedy | Diary of a Song",
          "How China Is Reshaping the Coronavirus Narrative | NYT News",
          "Iran Played Down the Coronavirus. Then Its Officials Got Sick | NYT News",
          "Super Tuesday Is Over. What Just Happened? | NYT Politics",
          "China Is Censoring Coronavirus Stories. These Citizens Are Fighting Back. | NYT News",
          "My Daughter Died. How Do I Tell My Son? | NYT Opinion",
          "What Is ‘Dance Monkey’ and How Did It Take Over the World? | Diary of a Song",
          "China Doesn't Like That I'm a Single Woman, Here's Why | Op-Docs",
          "We May Be the First People to Receive Reparations for Slavery | NYT Opinion",
          "How Residents in Wuhan Are Coping With Coronavirus | NYT News",
          "We Tracked Iran's Covert Military Unit on Social Media, Here's What We Found | Visual Investigations",
          "Kobe Bryant's Last Flight: What We Know About His Helicopter's Route | Visual Investigations",
          "Trump Told Mexico to Stop Migrants From Reaching the U.S. So Far, His Plan Is Working | The Dispatch",
          "Iran Shot Down a Ukrainian Passenger Plane. Here's How it Happened. | Visual Investigations",
          "A Secret Look Inside a Chinese Labor Program for Uighurs | Visual Investigations",
          "Taylor Swift Tells Us How She Wrote 'Lover' | Diary of a Song",
          "You’re Being Watched Right Now | NYT Opinion",
          "Key Moments From the Sixth 2019 Democratic Debate | NYT News",
          "I Was Poised to be the First Black Astronaut. I Never Made it to Space. | 'Almost Famous' by Op-Docs",
          "Trump's Snake Poem Is Really About Him | NYT Opinion",
          "We're Britain's First Female Rock Band. This is Why You Don't Know Us. | 'Almost Famous' by Op-Docs",
          "I Was in The Black Eyed Peas. Then I Quit. | 'Almost Famous' by Op-Docs",
          "What Does the Rise of Homemade Guns Mean for Gun Laws? We Made One To Find Out. | NYT",
          "A.I. Is Making it Easier to Kill (You). Here’s How. | NYT",
          "Inside the Secret Network Helping Protesters Flee Hong Kong | The Dispatch",
          "'Sent Candy': How Russian Pilots Bombed Syrian Civilians | Visual Investigations",
          "Trump Says ISIS Was Defeated in Syria. So Why Is the U.S. Still Fighting? | The Dispatch",
          "The Fifth 2019 Democratic Debate: Key Moments | NYT News",
          "Key Moments From the Trump Impeachment Hearing, Day 2 | NYT News",
          "Watch Christian Bale Burn Rubber in ‘Ford v Ferrari’ | Anatomy of a Scene",
          "We Proved Russian Pilots Bombed a Hospital. Then They Did It Again. | NYT Visual Investigations",
          "Key Moments From the Trump Impeachment Hearing, Day 1 | NYT News",
          "Why These Veterans Are Demanding an End to War in Afghanistan | NYT Opinion",
          "Chilean Police Are Blinding Protesters: We Spoke to the Injured | The Dispatch",
          "I Was the Fastest Girl in America, Until I Joined Nike | NYT Opinion",
          "Chile’s Security Forces Have Injured Hundreds, Here's How | Visual Investigations",
          "Watch a Metal-Crushing Action Scene From ‘Terminator: Dark Fate’ | Anatomy of a Scene",
          "How a 46-Year-Old Marathon Runner Keeps Getting Faster | NYT Opinion",
          "Inside Northeast Syria: What U.S. Troop Withdrawal Cost the Kurds | The Dispatch",
          "What Do Europeans Think About American Life? | NYT Opinion",
          "ISIS Wives Speak Out: Inside Syria's Notorious Al Hol Camp | The Dispatch",
          "U.S. Troops Are Leaving Syria, Here's What It Looks Like | NYT News",
          "Hear Hong Kong Protesters Read Their Final Goodbyes | The Dispatch",
          "The Fourth 2019 Democratic Debate: Key Moments | NYT News",
          "How Warren’s Rivals Attacked at The Debate | NYTimes",
          "The Democratic Debate: Watch the Highlights From the First Half",
          "Russia Bombed Four Syrian Hospitals. We Have Proof. | Visual Investigations",
          "Why Can't I Make Money Off My N.C.A.A. Career? | NYT Opinion",
          "Is New York City an Empire in Decline? | NYT Opinion",
          "Meet the Ranchers Who Claim the Brazilian Amazon is Theirs to Burn | The Dispatch",
          "Watch Joaquin Phoenix Do a Creepy Dance in ‘Joker’ | Anatomy of a Scene",
          "What Lil Tecca Needed to Make ‘Ransom’ a Hit — Nick Mira, Taz Taylor, Cole Bennett | Diary of a Song",
          "Hong Kong Police Shot a Protester at Point-Blank Range, Here's What Happened | Visual Investigations",
          "Jaron Lanier Fixes the Internet | NYT Opinion",
          "How Undercover Officers in Hong Kong Launched a Bloody Crackdown | Visual Investigations",
          "The Third 2019 Democratic Debate: Key Moments | NYT News",
          "Meet the Hong Kong Families Caught Between the Police and the Protests | The Dispatch",
          "Inside the Kashmir That India Doesn’t Want the World to See | The Dispatch",
          "Meet Hong Kong's Teenage Protesters | The Dispatch",
          "How China Is Framing the Hong Kong Protests | NYT News",
          "Deepfakes: Is This Video Even Real? | NYT Opinion",
          "Inside India's Crackdown on Kashmir | The Dispatch",
          "How Hong Kong’s Protesters Evade Police and Keep the Demonstrations Alive | Visual Investigations",
          "Why Kids Are Confronting Their Parents About 'Sharenting' | NYT Opinion",
          "Who is Carrie Lam, the Leader of Hong Kong? | NYT News",
          "The Second  2019 Democratic Debate: Key Moments, Day 1 | NYT News",
          "When a Mob Attacked Protesters in Hong Kong, the Police Walked Away | Visual Investigations",
          "I Was Adopted From Korea — Here’s What It Was Like | Op-Docs",
          "How Walls Ended Up Along the U.S.-Mexico Border | NYT News",
          "Why Did I Serve 16 Years for Murder When I Didn't Kill Anyone? | NYT Opinion",
          "Hear the Words of Detained Migrant Children | NYT Opinion",
          "How Kim Jong-un Gets His $500,000 Mercedes  | Visual Investigations",
          "Did Hong Kong Police Abuse Protesters? What the Videos Show. | Visual Investigations",
          "Where Are All the Bob Ross Paintings? We Found Them.",
          "Who Is Jeffrey Epstein?",
          "How ‘Midsommar’ Takes a Bad Trip | Anatomy of a Scene",
          "Hong Kong Protests: What Happened on July 1? | The Dispatch",
          "Why America Is Just Okay | NYT Opinion",
          "The First 2019 Democratic Debate: Key Moments, Day 2 | NYT News",
          "Daria Navalnaya: What It's Like To Be a Teenager in Putin's Russia | NYT Opinion",
          "The First 2019 Democratic Debate: Key Moments, Day 1 | NYT News",
          "Did Iran Attack Ships in the Gulf? What the Evidence Shows | Visual Investigations",
          "Why American Diabetics Go to Mexico and Craiglist for Insulin | NYT Opinion",
          "Why Biden’s First Run for President Failed | NYT News",
          "The Stonewall You Know Is a Myth. And That’s O.K. | NYT Celebrating Pride",
          "I'm in Nike's Ads, But They Won't Give Me Maternity Protections | NYT Opinion"
         ],
         "type": "scatter",
         "x": [
          0.03058300000000001,
          0.11860000000000001,
          -0.014840999999999995,
          -0.18960899999999992,
          0.028863,
          -0.07531000000000003,
          -0.012082000000000002,
          0.04916700000000002,
          -0.05382300000000001,
          0.211171,
          -0.00032099999999998796,
          0.013058000000000014,
          -0.058129999999999994,
          -0.14511700000000002,
          -0.21104399999999998,
          -0.07800499999999999,
          -0.016504,
          -0.08908899999999997,
          -0.131845,
          -0.12304099999999997,
          -0.06893199999999998,
          0.087934,
          0.06392799999999997,
          -0.034270999999999996,
          -0.05615200000000001,
          -0.17658599999999994,
          -0.114338,
          -0.0008100000000000085,
          -0.046963999999999985,
          -0.0033130000000000004,
          0.16971299999999992,
          -0.035748000000000016,
          -0.10527200000000006,
          -0.010869999999999993,
          0.09516600000000003,
          -0.012074999999999994,
          0.07530399999999998,
          -0.13386200000000006,
          0.025680999999999995,
          -0.126451,
          0.14578000000000008,
          0.23671099999999992,
          -0.136958,
          -0.263035,
          0.08363399999999999,
          0.0666,
          0.006783999999999992,
          -0.162575,
          -0.026656999999999993,
          0.098487,
          0.075772,
          0.353789,
          -0.145589,
          0.33287300000000003,
          -0.097695,
          0.542105,
          0.018525,
          -0.09871300000000004,
          -0.18755299999999991,
          -0.022354000000000002,
          -0.1839119999999999,
          -0.06713799999999998,
          0.026203000000000004,
          -0.213699,
          0.05406699999999999,
          0.040319,
          -0.036028000000000004,
          -0.16164700000000004,
          0.07877400000000001,
          -0.06181499999999999,
          0.096791,
          -0.11928999999999998,
          0.371569,
          0.07160600000000004,
          0.268484,
          0.004976999999999995,
          -0.02717199999999999,
          -0.21744300000000003,
          -0.02333400000000001,
          -0.23301399999999992,
          0.020458000000000007,
          -0.07206200000000001,
          0.11457800000000003,
          -0.00931799999999999,
          0.028724000000000006,
          -0.14992399999999995,
          -0.08520699999999999,
          0.016236999999999994,
          -0.0004610000000000036,
          0.04016300000000001,
          0.024753000000000008,
          0.013125999999999995,
          -0.142738,
          -0.16388099999999997,
          0.03057200000000001,
          0.253565,
          0.11200800000000001,
          -0.19953999999999997,
          0.13243299999999997,
          0.020760000000000004,
          0.009336000000000016,
          0.19404000000000005,
          -0.08313500000000001,
          0.011082000000000005,
          0.027559,
          -0.009963000000000014,
          0.19229699999999994,
          0.13702499999999998,
          -0.09752999999999996,
          -0.011286999999999998,
          -0.12392000000000002,
          -0.23252700000000004,
          -0.11388,
          0.020602000000000013,
          -0.14179200000000003,
          -0.08235100000000001,
          -0.17044700000000007,
          0.007146000000000002,
          -0.09991400000000002,
          -0.18817699999999993,
          -0.11495799999999995,
          -0.179298,
          -0.072166,
          -0.22806299999999993,
          -0.172488,
          0.11769600000000001,
          -0.096508,
          -0.098607,
          -0.143876,
          -0.17919499999999997,
          -0.144254,
          0.065751,
          -0.171719,
          0.26315799999999995,
          -0.031775000000000005,
          -0.30959799999999993,
          0.26569299999999996,
          0.004138999999999997,
          -0.18346500000000007,
          0.10158400000000002,
          0.4317159999999998,
          -0.123056,
          -0.00048700000000000967,
          0.17796700000000001,
          -0.031669000000000024,
          0.02099700000000001,
          -0.09570500000000003,
          0.2628520000000001,
          0.0194,
          -0.126254,
          -0.012604999999999991,
          0.03746300000000001,
          0.17770399999999995,
          0.028938000000000005,
          0.09989000000000002,
          -0.019865000000000008,
          0.05542599999999998,
          0.07630200000000001,
          -0.025103999999999998,
          0.27849599999999997,
          -0.07637100000000001,
          -0.09566300000000004,
          0.035164,
          0.06238100000000005,
          -0.006776999999999989,
          0.22259699999999996,
          0.186475,
          -0.030671,
          -0.026365999999999997,
          -0.016623000000000002,
          -0.06235099999999999,
          -0.055952,
          -0.20692000000000005,
          -0.16633499999999998,
          0.338341,
          0.22398900000000002,
          0.10499700000000001,
          0.12310799999999997,
          0.020218000000000007,
          0.5161179999999997,
          0.4212509999999999,
          -0.11731499999999997,
          -0.018485999999999992,
          -0.014142999999999994,
          -0.23170399999999997,
          -0.07565400000000001,
          0.019665,
          -0.09633299999999999,
          0.307006,
          -0.18932500000000002,
          -0.09274800000000001,
          -0.06184799999999997,
          -0.048746,
          0.11940100000000001,
          -0.07559400000000001,
          -0.0004550000000000065,
          0.323752,
          -0.13242800000000002,
          0.069538,
          -0.149629,
          -0.0649,
          0.08001100000000001,
          -0.010621000000000002,
          -0.0023159999999999947,
          0.0037839999999999953,
          -0.076509,
          0.10196000000000001,
          0.03736,
          -0.009086000000000006,
          0.21950200000000006,
          0.11930500000000004,
          -0.07022699999999998,
          0.21740299999999999,
          -0.17647499999999994,
          0.04156600000000001,
          -0.087177,
          -0.07239200000000003,
          -0.018753000000000002,
          -0.08221000000000002,
          -0.07652399999999994,
          -0.045142999999999996,
          0.035531,
          0.018144999999999994,
          -0.075053,
          -0.0065839999999999935,
          -0.06484399999999998,
          0.09186299999999999,
          -0.074071,
          -0.287769,
          -0.008999999999999996,
          0.037704,
          -0.06417500000000001,
          0.09578299999999997,
          0.025257000000000005,
          0.06318900000000008,
          -0.04556699999999998,
          0.3296849999999999,
          0.06103799999999998,
          0.0048949999999999974,
          0.144144,
          -0.12664099999999998,
          0.3112309999999999,
          -0.313644,
          0.13869600000000004,
          0.20985199999999998
         ],
         "xaxis": "x",
         "y": [
          903494,
          87002,
          283005,
          286001,
          258469,
          125432,
          117124,
          2702153,
          116382,
          1071864,
          721456,
          273977,
          2417797,
          598178,
          145443,
          510736,
          3128106,
          551268,
          5338285,
          958714,
          1022426,
          707187,
          1117684,
          125368,
          5198634,
          105350,
          158598,
          1809402,
          222469,
          353022,
          1257910,
          130817,
          646528,
          1830553,
          112676,
          72209,
          8119163,
          6478954,
          90025,
          118009,
          69174,
          324782,
          100501,
          1271858,
          2714303,
          82722,
          239764,
          550968,
          6645851,
          195713,
          206536,
          1576141,
          120283,
          559050,
          60682,
          955740,
          137467,
          8096062,
          298742,
          731876,
          102310,
          523307,
          107080,
          70105,
          2061924,
          978576,
          52550,
          42117,
          89508,
          83078,
          1305695,
          2192819,
          805160,
          2511710,
          173158,
          98878,
          980521,
          113853,
          1255451,
          1795541,
          163001,
          179275,
          75638,
          92937,
          705174,
          2113866,
          113977,
          267465,
          510601,
          173990,
          215184,
          575824,
          242526,
          1531409,
          299509,
          114240,
          97582,
          199741,
          1014747,
          72999,
          111708,
          3100561,
          58834,
          97037,
          191386,
          235340,
          285647,
          3320382,
          715649,
          317544,
          373369,
          65998,
          130822,
          1481489,
          220219,
          356578,
          32197,
          395509,
          974656,
          1461706,
          76791,
          196195,
          264317,
          150818,
          252023,
          143153,
          1229467,
          1012170,
          13795242,
          355802,
          1801955,
          1615592,
          396669,
          96346,
          938473,
          1337888,
          185837,
          4049637,
          3342901,
          10008250,
          179170,
          1501574,
          2087660,
          694311,
          1070025,
          687753,
          597821,
          1006388,
          244985,
          359343,
          1516611,
          756036,
          419992,
          8124466,
          1002548,
          1469185,
          2058502,
          2360015,
          322503,
          430513,
          936761,
          1409808,
          179956,
          4702184,
          557979,
          1827990,
          1529508,
          86331,
          394923,
          956016,
          1181051,
          346323,
          702933,
          484891,
          1461645,
          806157,
          164595,
          409828,
          133777,
          885209,
          6595230,
          167083,
          1049191,
          159501,
          183859,
          221544,
          202241,
          319272,
          1133845,
          98195,
          362276,
          294007,
          168108,
          18865802,
          180376,
          973295,
          338481,
          168729,
          4274380,
          3107754,
          3475221,
          272023,
          246962,
          196487,
          661134,
          500693,
          1297307,
          290795,
          235773,
          4100636,
          725898,
          418963,
          222795,
          215289,
          405827,
          273214,
          2985135,
          803802,
          256033,
          921035,
          528059,
          625332,
          1685323,
          249896,
          329327,
          666361,
          398206,
          197641,
          930850,
          119304,
          7002862,
          490451,
          15515326,
          320436,
          906536,
          195594,
          180263,
          171788,
          402302,
          196954,
          175639,
          470137,
          1594422,
          974239,
          987334
         ],
         "yaxis": "y"
        },
        {
         "hovertemplate": "<b>%{text}</b> <br>Sentiment Value: %{x} <br>Like Count: %{y}",
         "marker": {
          "color": "Red"
         },
         "mode": "markers",
         "name": "Like Count",
         "text": [
          "Jonathan Pie: Welcome to Britain. Everything is Terrible. | NYT Opinion",
          "Kill Your Lawn | NYT Opinion",
          "We Debunk the Latest Corporate Climate Lie | NYT Opinion",
          "How I Had an Abortion at Home in Texas | NYT Opinion",
          "How China’s Surveillance Is Growing More Invasive | Visual Investigations",
          "The Ukrainians Sent to Russia’s ‘Filtration Camps’ | Russia-Ukraine War",
          "How the Proud Boys Breached the Capitol | Visual Investigations",
          "Watch Bryce Dallas Howard’s Slow Escape in ‘Jurassic World Dominion’ | Anatomy of a Scene",
          "48 Hours in A Kansas Abortion Clinic | NYT News",
          "Watch Tom Cruise Go Hypersonic in ‘Top Gun: Maverick’ | Anatomy of a Scene",
          "Twenty Years of Putin Playing the West in 3 Minutes | NYT Opinion",
          "Teens Are In Crisis. Here’s Why. | The New York Times",
          "Under Attack in Ukraine’s Southeast | Russia-Ukraine War",
          "How Russia’s Disinformation Spreads Beyond Its Borders | Russia-Ukraine War",
          "Ukrainians Identify Bodies in Bucha | Russia-Ukraine War",
          "The Horrors Russia Left Behind | Russia-Ukraine War",
          "The Ukrainian Fighters Defending Kyiv | Russia–Ukraine War",
          "Escape from Mariupol | Russia-Ukraine War",
          "Russia Struggled to Capture a Ukrainian Town. Intercepted Radio Messages Show Why.",
          "The Foreign Fighters in Ukraine to Battle Russia | Russia-Ukraine War",
          "A Ukrainian Soldier Is Laid to Rest | Russia-Ukraine War",
          "Watch Robert Pattinson Take Flight in ‘The Batman’ | Anatomy of a Scene",
          "Jonathan Pie: How Putin Weaponized London’s Greed | NYT Opinion",
          "‘No City in Ukraine Is Safe’: Family Escapes Missile Strike",
          "Ukraine’s Civilians Take Up Arms Against Russia’s Invasion",
          "President Obama: Trayvon Martin Made America Confront Its Original Sin | NYT Opinion",
          "Ukraine’s Energy Gamble: Can it Unplug From Russia? | NYT News",
          "The Ukrainian Paramilitaries Ready to Fight Russia | NYT News",
          "See the True Cost of Your Cheap Chicken | NYT Opinion",
          "How Ukraine Is Training Civilians for Conflict With Russia | NYT News",
          "Jonathan Pie: 'Boris Johnson Is a Liar' | NYT Opinion",
          "Meet the People Getting Paid to Kill Our Planet | NYT Opinion",
          "Ukraine City Braces for Possible Russian Invasion | NYT News",
          "Hospital Greed Is Destroying Our Nurses. Here’s Why. | NYT Opinion",
          "How the Landlord’s Worst Nightmare Could Protect Millions of New Yorkers | NYT Opinion",
          "We’ve Lost Two Years to Covid. It’s Time to Grieve. | NYT Opinion",
          "Liberal Hypocrisy is Fueling American Inequality. Here’s How. | NYT Opinion",
          "A Fatal Night in Kenosha: How the Rittenhouse Shootings Unfolded | Visual Investigations",
          "Greta Thunberg Has Given Up on Politicians. But Not You. | NYT Opinion",
          "Searching for the Lost Graves of Indigenous Children in Canada | NYT News",
          "‘It’s Just a Matter of Time for the Taliban to Find Me’: On the Run in Afghanistan | NYT Opinion",
          "In a Galaxy Far, Far Away, I Was Almost Anakin Skywalker | 'Almost Famous' by Op-Docs",
          "The U.S. Military Said It Was an ISIS Safe House. We Found a Family Home. | Visual Investigations",
          "How a U.S. Drone Strike Killed the Wrong Person in Afghanistan | Visual Investigations",
          "Inside an Abandoned Mansion That 150 Taliban Now Call Home | Afghanistan News",
          "‘I Won’t Go 20 Years Back in Time’: Young Afghan Women Speak Out | NYT",
          "I Uncovered Abuse in the Catholic Church. Why Was it Ignored? | ‘Almost Famous’ by Op-Docs",
          "20 Years, 4 Presidents: The Words That Shaped the War in Afghanistan | NYT",
          "Dying in the Name of Vaccine Freedom | NYT Opinion",
          "Can a Trans Runner Like Me Compete Fairly? | NYT Opinion",
          "‘We Are Here Alone’: An Afghan Translator’s Plea for Help | NYT",
          "I Changed Astronomy Forever. He Won the Nobel Prize for It. | 'Almost Famous' by Op-Docs",
          "Palestinians Film War in Gaza: ‘So They Know We Existed’ | NYT",
          "I Have a Visual Disability, And I Want You To Look Me In the Eye | NYT Opinion",
          "Stay or Leave? Southern Israel, After the Rockets | NYT",
          "The Queen of Basketball | An Oscar-Winning Op-Doc",
          "'Normal' Was Not Working For Everyone — And We're Dreading Its Return | NYT Opinion",
          "Day of Rage: How Trump Supporters Took the U.S. Capitol | Visual Investigations",
          "Gaza’s Deadly Night: How Israeli Airstrikes Killed 44 People | Visual Investigations",
          "Kunal Kamra: Modi Caused a 'Covid Massacre' | NYT Opinion",
          "Cops From Around the World React to U.S. Policing | NYT Opinion",
          "How Mozambique Failed a Town Attacked by Militants  | Visual Investigations",
          "How Does America's Response to Climate Change Look From Abroad? | NYT Opinion",
          "A Letter From Death Row: Gov. Abbott, Will You Save My Life? | NYT Opinion",
          "Inside the Daily Life of a Live Streaming Star in China | Op-Docs",
          "What Does U.S. Health Care Look Like Abroad? | NYT Opinion",
          "How ICE’s Mishandling of Covid-19 Fueled Outbreaks Around the Country | Coronavirus News",
          "Living With the Daunte Wright Protests at the Front Door | NYT News",
          "My Son's Yeshiva Is Breaking the Law | NYT Opinion",
          "Inside the Battle Over George Floyd Square | NYT News",
          "How a Mysterious Ship Helps North Korea Evade Oil Sanctions | Visual Investigations",
          "How Police Tried — and Failed — To Stop Capitol Attackers | Visual Investigations",
          "How Olivia Rodrigo Wrote ‘Drivers License,’ the Biggest Song of the Year So Far | Diary of a Song",
          "Inside a Covid I.C.U., Through a Nurse's Eyes | NYT Opinion",
          "What Menopause Feels Like | Op-Docs",
          "Evictions Are On Hold, But What Happens When Rent Is Eventually Due? | NYT Opinion",
          "How Joe Biden Defeated Donald Trump | NYT Opinion",
          "Why We Shouldn't Call the Capital Rioters 'Terrorists.' | NYT Opinion",
          "4 Years of the Trump Presidency in 6 Minutes | NYT Politics",
          "How the Police Killed Breonna Taylor | Visual Investigations",
          "Inside a N.Y.C. School That Reopened During the Pandemic | Coronavirus News",
          "Our Neighbors Committed Mass Murder, Here's What We Did | Op-Docs",
          "How Do U.S. Voters Feel After the Election? Still Divided. | 2020 Elections",
          "The Votes Are In. Now Comes the Wait. | 2020 Elections",
          "What Do U.S. Elections Look Like Abroad? | NYT Opinion",
          "How U.S. Police Took a Hands-Off Approach to Armed Groups in 2020 | NYT - Visual Investigations",
          "Trump’s Campaign Is Building an Army of Poll Watchers. What Can They Actually Do? | 2020 Elections",
          "How America Helped Stop Covid-19. Just Not in the U.S. | NYT Opinion",
          "What Can You Do About QAnon? | NYT Opinion",
          "How Homegrown Disinformation Could Disrupt This U.S. Election | 2020 Elections",
          "This U.S. Election Could Be the Most Secure Yet. Here’s Why. | 2020 Elections",
          "How a U.S. Task Force Killed a Wanted Antifa Activist",
          "What's the Problem With Vote-by-Mail? | 2020 Elections",
          "How America Bungled the Plague | NYT Opinion",
          "Why Voting in This U.S. Election Will Not Be Equal | 2020 Elections",
          "I'm Not Alone. I Have My Cats. | Op-Docs",
          "I’m Trying to Topple Europe’s Last Dictator | NYT Opinion",
          "How an Oregon Wildfire Became One of the Most Destructive | Visual Investigations",
          "Remembering Ruth Bader Ginsburg | NYT News",
          "When Talking to Aliens Is Your Religion | Op-Docs",
          "Why You Should Care About TikTok | NYT Opinion",
          "This Doctor Wants to Humanize Death | Op-Docs",
          "Why The Olympics Punished Me For Protesting | NYT Opinion",
          "Key Takeaways From Trump’s R.N.C. Speech | 2020 Elections",
          "Key Moments From Biden's DNC Speech | 2020 Elections",
          "What You Need to Know About Kamala Harris | 2020 Elections",
          "Goalies Have the Loneliest Job in Soccer, Here's Why | Op-Docs",
          "He Predicted a Trump Win in 2016. What's His Forecast For 2020? | NYT Opinion",
          "What Does America’s Coronavirus Response Look Like Abroad? | NYT Opinion",
          "How Coronavirus Ravaged One Family in Houston | Coronavirus News",
          "How Federal Officers Escalated Violence in Portland | Visual Investigations",
          "Portland Protests: How Trump’s Crackdown Strengthened Demonstrations | NYT News",
          "Who Made Your Mask? We Traced PPE to Uighur Workers in China's Harsh Labor Program| Coronavirus News",
          "Donald Trump Isn't the Worst Covid President. Just Ask Brazilians. | NYT Opinion",
          "How ICE Helped Spread the Coronavirus | Coronavirus News",
          "‘I Can Barely Keep Track’: Inside a Texas Hospital Battling Coronavirus | Coronavirus News",
          "Why Some Black Americans Need Guns to Feel Safe in Their Country | NYT Opinion",
          "How Pop Smoke and Fivio Foreign Took Brooklyn Drill Global  |  Diary of a Song",
          "Philadelphia Police Violated Their Own Guidelines, Here's How | Visual Investigations",
          "How a Police Encounter Turned Fatal: The Killing of Rayshard Brooks | Visual Investigations",
          "Why Trump’s Tulsa Rally Put the City’s Black Residents on Edge | NYT News",
          "A Racist Attack Still Haunts 45 Years Later, Here's Why. | George Floyd Protests",
          "How Coronavirus Has Devastated N.Y.C.'s Black Community | Coronavirus News",
          "How Questionable Police Tactics Led to a Fatal Shooting In Louisville | Visual Investigations",
          "Thousands March to the White House | George Floyd Protests",
          "Amazon Warehouses Are Still Seeing Coronavirus Outbreaks. Why Did They End Hazard Pay? | NYT Opinion",
          "Funeral Homes in Mexico Show Coronavirus’ Hidden Death Toll | Coronavirus News",
          "How India’s Police Used a Pandemic to Boost Its Image | Coronavirus News",
          "How George Floyd Was Killed in Police Custody | Visual Investigations",
          "‘We’re Sick and Tired’: Voices From Minneapolis Protests | NYT News",
          "How a Night of Chaos in Minneapolis Unfolded | Minneapolis Protests",
          "Inside One of New York’s Deadliest Zip Codes | Coronavirus News",
          "Elmhurst Hospital After the Coronavirus Surge: From Chaos to ‘Scary Silence’ | Coronavirus News",
          "Why Do Some Health Care Workers Live in Poverty? | NYT Opinion",
          "Inside Two N.Y.C. Morgues Overwhelmed With Coronavirus | Coronavirus News",
          "Retracing Ahmaud Arbery’s Final Minutes: What Videos And 911 Calls Show | NYT Visual Investigations",
          "Are Ice Cream Trucks Essential? In N.Y.C., They Are. | Coronavirus News",
          "The Truth Is Essential | The New York Times",
          "Dying of Coronavirus: A Family's Painful Goodbye | NYT News",
          "Where Is Kim Jong-un? How Experts Track North Korea’s Leader | NYT News",
          "'This Is Crazy': Inside a N.Y.C. Apartment During Coronavirus | Quarantine Diaries",
          "How Coronavirus Ravaged Ecuador: From First Confirmed Case to Thousands Dead | NYT News",
          "How Coronavirus is Upending Ultra-Orthodox Jewish Traditions | NYT News",
          "Who Won The Best New York Accent Contest? | NYT News",
          "\"I could see the fear in his eyes.\" What Battling Coronavirus Looks Like | NYT Opinion",
          "Doctors Face Troubling Question: Are They Treating Coronavirus Correctly? | NYT News",
          "What Happens When Coronavirus Invades a War Zone | NYT News",
          "Pregnant With Coronavirus: How a Hospital Maternity Ward Is Coping | NYT News",
          "Hospital Workers Are Dying From Coronavirus. Here's Why. | NYT Opinion",
          "Modi Denies India Is Targeting Muslims. We Found a Different Reality. | The Dispatch",
          "How Coronavirus Attacks the Body | NYT News",
          "Inside a New York City I.C.U. Battling Coronavirus | NYT News",
          "Coronavirus Pandemic: Will N.Y.C.'s Homeless Students Be Left Behind? | NYT News",
          "‘People Are Dying’: Battling Coronavirus Inside a N.Y.C. Hospital | NYT News",
          "Coronavirus is Straining Hospitals. Here's How Innovators Are Helping. | NYT News",
          "As the Coronavirus Approaches, Mexico Looks the Other Way | The Dispatch",
          "‘Brace Yourself’: Doctors in Italy Share Coronavirus Advice | NYT News",
          "How New Yorkers Are Coping With Coronavirus | NYT News",
          "Virus With Your Quarter Pounder? Why McDonald's Needs to Guarantee Paid Sick Leave | NYT Opinion",
          "How Grimes Used Music to Confront Tragedy | Diary of a Song",
          "How China Is Reshaping the Coronavirus Narrative | NYT News",
          "Iran Played Down the Coronavirus. Then Its Officials Got Sick | NYT News",
          "Super Tuesday Is Over. What Just Happened? | NYT Politics",
          "China Is Censoring Coronavirus Stories. These Citizens Are Fighting Back. | NYT News",
          "My Daughter Died. How Do I Tell My Son? | NYT Opinion",
          "What Is ‘Dance Monkey’ and How Did It Take Over the World? | Diary of a Song",
          "China Doesn't Like That I'm a Single Woman, Here's Why | Op-Docs",
          "We May Be the First People to Receive Reparations for Slavery | NYT Opinion",
          "How Residents in Wuhan Are Coping With Coronavirus | NYT News",
          "We Tracked Iran's Covert Military Unit on Social Media, Here's What We Found | Visual Investigations",
          "Kobe Bryant's Last Flight: What We Know About His Helicopter's Route | Visual Investigations",
          "Trump Told Mexico to Stop Migrants From Reaching the U.S. So Far, His Plan Is Working | The Dispatch",
          "Iran Shot Down a Ukrainian Passenger Plane. Here's How it Happened. | Visual Investigations",
          "A Secret Look Inside a Chinese Labor Program for Uighurs | Visual Investigations",
          "Taylor Swift Tells Us How She Wrote 'Lover' | Diary of a Song",
          "You’re Being Watched Right Now | NYT Opinion",
          "Key Moments From the Sixth 2019 Democratic Debate | NYT News",
          "I Was Poised to be the First Black Astronaut. I Never Made it to Space. | 'Almost Famous' by Op-Docs",
          "Trump's Snake Poem Is Really About Him | NYT Opinion",
          "We're Britain's First Female Rock Band. This is Why You Don't Know Us. | 'Almost Famous' by Op-Docs",
          "I Was in The Black Eyed Peas. Then I Quit. | 'Almost Famous' by Op-Docs",
          "What Does the Rise of Homemade Guns Mean for Gun Laws? We Made One To Find Out. | NYT",
          "A.I. Is Making it Easier to Kill (You). Here’s How. | NYT",
          "Inside the Secret Network Helping Protesters Flee Hong Kong | The Dispatch",
          "'Sent Candy': How Russian Pilots Bombed Syrian Civilians | Visual Investigations",
          "Trump Says ISIS Was Defeated in Syria. So Why Is the U.S. Still Fighting? | The Dispatch",
          "The Fifth 2019 Democratic Debate: Key Moments | NYT News",
          "Key Moments From the Trump Impeachment Hearing, Day 2 | NYT News",
          "Watch Christian Bale Burn Rubber in ‘Ford v Ferrari’ | Anatomy of a Scene",
          "We Proved Russian Pilots Bombed a Hospital. Then They Did It Again. | NYT Visual Investigations",
          "Key Moments From the Trump Impeachment Hearing, Day 1 | NYT News",
          "Why These Veterans Are Demanding an End to War in Afghanistan | NYT Opinion",
          "Chilean Police Are Blinding Protesters: We Spoke to the Injured | The Dispatch",
          "I Was the Fastest Girl in America, Until I Joined Nike | NYT Opinion",
          "Chile’s Security Forces Have Injured Hundreds, Here's How | Visual Investigations",
          "Watch a Metal-Crushing Action Scene From ‘Terminator: Dark Fate’ | Anatomy of a Scene",
          "How a 46-Year-Old Marathon Runner Keeps Getting Faster | NYT Opinion",
          "Inside Northeast Syria: What U.S. Troop Withdrawal Cost the Kurds | The Dispatch",
          "What Do Europeans Think About American Life? | NYT Opinion",
          "ISIS Wives Speak Out: Inside Syria's Notorious Al Hol Camp | The Dispatch",
          "U.S. Troops Are Leaving Syria, Here's What It Looks Like | NYT News",
          "Hear Hong Kong Protesters Read Their Final Goodbyes | The Dispatch",
          "The Fourth 2019 Democratic Debate: Key Moments | NYT News",
          "How Warren’s Rivals Attacked at The Debate | NYTimes",
          "The Democratic Debate: Watch the Highlights From the First Half",
          "Russia Bombed Four Syrian Hospitals. We Have Proof. | Visual Investigations",
          "Why Can't I Make Money Off My N.C.A.A. Career? | NYT Opinion",
          "Is New York City an Empire in Decline? | NYT Opinion",
          "Meet the Ranchers Who Claim the Brazilian Amazon is Theirs to Burn | The Dispatch",
          "Watch Joaquin Phoenix Do a Creepy Dance in ‘Joker’ | Anatomy of a Scene",
          "What Lil Tecca Needed to Make ‘Ransom’ a Hit — Nick Mira, Taz Taylor, Cole Bennett | Diary of a Song",
          "Hong Kong Police Shot a Protester at Point-Blank Range, Here's What Happened | Visual Investigations",
          "Jaron Lanier Fixes the Internet | NYT Opinion",
          "How Undercover Officers in Hong Kong Launched a Bloody Crackdown | Visual Investigations",
          "The Third 2019 Democratic Debate: Key Moments | NYT News",
          "Meet the Hong Kong Families Caught Between the Police and the Protests | The Dispatch",
          "Inside the Kashmir That India Doesn’t Want the World to See | The Dispatch",
          "Meet Hong Kong's Teenage Protesters | The Dispatch",
          "How China Is Framing the Hong Kong Protests | NYT News",
          "Deepfakes: Is This Video Even Real? | NYT Opinion",
          "Inside India's Crackdown on Kashmir | The Dispatch",
          "How Hong Kong’s Protesters Evade Police and Keep the Demonstrations Alive | Visual Investigations",
          "Why Kids Are Confronting Their Parents About 'Sharenting' | NYT Opinion",
          "Who is Carrie Lam, the Leader of Hong Kong? | NYT News",
          "The Second  2019 Democratic Debate: Key Moments, Day 1 | NYT News",
          "When a Mob Attacked Protesters in Hong Kong, the Police Walked Away | Visual Investigations",
          "I Was Adopted From Korea — Here’s What It Was Like | Op-Docs",
          "How Walls Ended Up Along the U.S.-Mexico Border | NYT News",
          "Why Did I Serve 16 Years for Murder When I Didn't Kill Anyone? | NYT Opinion",
          "Hear the Words of Detained Migrant Children | NYT Opinion",
          "How Kim Jong-un Gets His $500,000 Mercedes  | Visual Investigations",
          "Did Hong Kong Police Abuse Protesters? What the Videos Show. | Visual Investigations",
          "Where Are All the Bob Ross Paintings? We Found Them.",
          "Who Is Jeffrey Epstein?",
          "How ‘Midsommar’ Takes a Bad Trip | Anatomy of a Scene",
          "Hong Kong Protests: What Happened on July 1? | The Dispatch",
          "Why America Is Just Okay | NYT Opinion",
          "The First 2019 Democratic Debate: Key Moments, Day 2 | NYT News",
          "Daria Navalnaya: What It's Like To Be a Teenager in Putin's Russia | NYT Opinion",
          "The First 2019 Democratic Debate: Key Moments, Day 1 | NYT News",
          "Did Iran Attack Ships in the Gulf? What the Evidence Shows | Visual Investigations",
          "Why American Diabetics Go to Mexico and Craiglist for Insulin | NYT Opinion",
          "Why Biden’s First Run for President Failed | NYT News",
          "The Stonewall You Know Is a Myth. And That’s O.K. | NYT Celebrating Pride",
          "I'm in Nike's Ads, But They Won't Give Me Maternity Protections | NYT Opinion"
         ],
         "type": "scatter",
         "x": [
          0.03058300000000001,
          0.11860000000000001,
          -0.014840999999999995,
          -0.18960899999999992,
          0.028863,
          -0.07531000000000003,
          -0.012082000000000002,
          0.04916700000000002,
          -0.05382300000000001,
          0.211171,
          -0.00032099999999998796,
          0.013058000000000014,
          -0.058129999999999994,
          -0.14511700000000002,
          -0.21104399999999998,
          -0.07800499999999999,
          -0.016504,
          -0.08908899999999997,
          -0.131845,
          -0.12304099999999997,
          -0.06893199999999998,
          0.087934,
          0.06392799999999997,
          -0.034270999999999996,
          -0.05615200000000001,
          -0.17658599999999994,
          -0.114338,
          -0.0008100000000000085,
          -0.046963999999999985,
          -0.0033130000000000004,
          0.16971299999999992,
          -0.035748000000000016,
          -0.10527200000000006,
          -0.010869999999999993,
          0.09516600000000003,
          -0.012074999999999994,
          0.07530399999999998,
          -0.13386200000000006,
          0.025680999999999995,
          -0.126451,
          0.14578000000000008,
          0.23671099999999992,
          -0.136958,
          -0.263035,
          0.08363399999999999,
          0.0666,
          0.006783999999999992,
          -0.162575,
          -0.026656999999999993,
          0.098487,
          0.075772,
          0.353789,
          -0.145589,
          0.33287300000000003,
          -0.097695,
          0.542105,
          0.018525,
          -0.09871300000000004,
          -0.18755299999999991,
          -0.022354000000000002,
          -0.1839119999999999,
          -0.06713799999999998,
          0.026203000000000004,
          -0.213699,
          0.05406699999999999,
          0.040319,
          -0.036028000000000004,
          -0.16164700000000004,
          0.07877400000000001,
          -0.06181499999999999,
          0.096791,
          -0.11928999999999998,
          0.371569,
          0.07160600000000004,
          0.268484,
          0.004976999999999995,
          -0.02717199999999999,
          -0.21744300000000003,
          -0.02333400000000001,
          -0.23301399999999992,
          0.020458000000000007,
          -0.07206200000000001,
          0.11457800000000003,
          -0.00931799999999999,
          0.028724000000000006,
          -0.14992399999999995,
          -0.08520699999999999,
          0.016236999999999994,
          -0.0004610000000000036,
          0.04016300000000001,
          0.024753000000000008,
          0.013125999999999995,
          -0.142738,
          -0.16388099999999997,
          0.03057200000000001,
          0.253565,
          0.11200800000000001,
          -0.19953999999999997,
          0.13243299999999997,
          0.020760000000000004,
          0.009336000000000016,
          0.19404000000000005,
          -0.08313500000000001,
          0.011082000000000005,
          0.027559,
          -0.009963000000000014,
          0.19229699999999994,
          0.13702499999999998,
          -0.09752999999999996,
          -0.011286999999999998,
          -0.12392000000000002,
          -0.23252700000000004,
          -0.11388,
          0.020602000000000013,
          -0.14179200000000003,
          -0.08235100000000001,
          -0.17044700000000007,
          0.007146000000000002,
          -0.09991400000000002,
          -0.18817699999999993,
          -0.11495799999999995,
          -0.179298,
          -0.072166,
          -0.22806299999999993,
          -0.172488,
          0.11769600000000001,
          -0.096508,
          -0.098607,
          -0.143876,
          -0.17919499999999997,
          -0.144254,
          0.065751,
          -0.171719,
          0.26315799999999995,
          -0.031775000000000005,
          -0.30959799999999993,
          0.26569299999999996,
          0.004138999999999997,
          -0.18346500000000007,
          0.10158400000000002,
          0.4317159999999998,
          -0.123056,
          -0.00048700000000000967,
          0.17796700000000001,
          -0.031669000000000024,
          0.02099700000000001,
          -0.09570500000000003,
          0.2628520000000001,
          0.0194,
          -0.126254,
          -0.012604999999999991,
          0.03746300000000001,
          0.17770399999999995,
          0.028938000000000005,
          0.09989000000000002,
          -0.019865000000000008,
          0.05542599999999998,
          0.07630200000000001,
          -0.025103999999999998,
          0.27849599999999997,
          -0.07637100000000001,
          -0.09566300000000004,
          0.035164,
          0.06238100000000005,
          -0.006776999999999989,
          0.22259699999999996,
          0.186475,
          -0.030671,
          -0.026365999999999997,
          -0.016623000000000002,
          -0.06235099999999999,
          -0.055952,
          -0.20692000000000005,
          -0.16633499999999998,
          0.338341,
          0.22398900000000002,
          0.10499700000000001,
          0.12310799999999997,
          0.020218000000000007,
          0.5161179999999997,
          0.4212509999999999,
          -0.11731499999999997,
          -0.018485999999999992,
          -0.014142999999999994,
          -0.23170399999999997,
          -0.07565400000000001,
          0.019665,
          -0.09633299999999999,
          0.307006,
          -0.18932500000000002,
          -0.09274800000000001,
          -0.06184799999999997,
          -0.048746,
          0.11940100000000001,
          -0.07559400000000001,
          -0.0004550000000000065,
          0.323752,
          -0.13242800000000002,
          0.069538,
          -0.149629,
          -0.0649,
          0.08001100000000001,
          -0.010621000000000002,
          -0.0023159999999999947,
          0.0037839999999999953,
          -0.076509,
          0.10196000000000001,
          0.03736,
          -0.009086000000000006,
          0.21950200000000006,
          0.11930500000000004,
          -0.07022699999999998,
          0.21740299999999999,
          -0.17647499999999994,
          0.04156600000000001,
          -0.087177,
          -0.07239200000000003,
          -0.018753000000000002,
          -0.08221000000000002,
          -0.07652399999999994,
          -0.045142999999999996,
          0.035531,
          0.018144999999999994,
          -0.075053,
          -0.0065839999999999935,
          -0.06484399999999998,
          0.09186299999999999,
          -0.074071,
          -0.287769,
          -0.008999999999999996,
          0.037704,
          -0.06417500000000001,
          0.09578299999999997,
          0.025257000000000005,
          0.06318900000000008,
          -0.04556699999999998,
          0.3296849999999999,
          0.06103799999999998,
          0.0048949999999999974,
          0.144144,
          -0.12664099999999998,
          0.3112309999999999,
          -0.313644,
          0.13869600000000004,
          0.20985199999999998
         ],
         "xaxis": "x",
         "y": [
          45406,
          3644,
          13279,
          8838,
          9804,
          2406,
          4714,
          8532,
          4552,
          10678,
          17809,
          11258,
          25688,
          10924,
          1832,
          6380,
          33795,
          8737,
          79293,
          11546,
          11710,
          18460,
          48855,
          2857,
          85416,
          3321,
          2987,
          23056,
          5699,
          9263,
          56598,
          5472,
          15764,
          72351,
          4574,
          3308,
          385946,
          82837,
          5556,
          5435,
          2482,
          15786,
          2468,
          36264,
          30000,
          2017,
          9427,
          12525,
          120556,
          6942,
          5903,
          81650,
          4803,
          33761,
          1292,
          33276,
          6186,
          199176,
          10726,
          70385,
          4135,
          9019,
          3514,
          1960,
          47994,
          30914,
          701,
          1068,
          2684,
          1854,
          43160,
          51969,
          33279,
          63200,
          7292,
          1691,
          29672,
          4981,
          33305,
          50951,
          4406,
          5314,
          1584,
          2332,
          25070,
          33856,
          2776,
          6585,
          15517,
          5583,
          6329,
          9142,
          6319,
          77120,
          10661,
          4186,
          8051,
          3436,
          30729,
          1199,
          2892,
          96544,
          2056,
          1696,
          2830,
          3621,
          23548,
          69147,
          19968,
          2822,
          9639,
          1847,
          4061,
          147442,
          2691,
          3900,
          1067,
          13509,
          29062,
          20136,
          1960,
          8214,
          2121,
          4207,
          4886,
          1795,
          9231,
          8313,
          205290,
          7947,
          29854,
          20230,
          2646,
          3922,
          6156,
          22090,
          3424,
          1910,
          21068,
          80766,
          5404,
          8764,
          16455,
          19694,
          17537,
          11402,
          5207,
          7467,
          5388,
          13723,
          13704,
          5614,
          8250,
          110643,
          11304,
          13570,
          19536,
          30155,
          11145,
          16512,
          19794,
          12534,
          3852,
          60459,
          35260,
          34017,
          44667,
          1962,
          3703,
          12313,
          10157,
          6438,
          13648,
          10507,
          66135,
          28883,
          2713,
          22462,
          4036,
          50814,
          341974,
          3197,
          25825,
          3074,
          5283,
          2738,
          1815,
          3499,
          8965,
          3308,
          2812,
          10303,
          6024,
          580435,
          6616,
          6684,
          13721,
          3089,
          148088,
          32930,
          44640,
          8463,
          1567,
          1337,
          3274,
          22246,
          25235,
          10451,
          5278,
          68819,
          24678,
          7444,
          13649,
          6397,
          1833,
          3341,
          34821,
          14977,
          5687,
          23582,
          7818,
          16600,
          42025,
          3119,
          1583,
          20267,
          12993,
          5064,
          49978,
          3595,
          109331,
          11089,
          471577,
          3459,
          14316,
          3649,
          9375,
          963,
          9312,
          1267,
          2361,
          16256,
          22272,
          50722,
          33075
         ],
         "yaxis": "y2"
        }
       ],
       "layout": {
        "template": {
         "data": {
          "bar": [
           {
            "error_x": {
             "color": "#2a3f5f"
            },
            "error_y": {
             "color": "#2a3f5f"
            },
            "marker": {
             "line": {
              "color": "#E5ECF6",
              "width": 0.5
             },
             "pattern": {
              "fillmode": "overlay",
              "size": 10,
              "solidity": 0.2
             }
            },
            "type": "bar"
           }
          ],
          "barpolar": [
           {
            "marker": {
             "line": {
              "color": "#E5ECF6",
              "width": 0.5
             },
             "pattern": {
              "fillmode": "overlay",
              "size": 10,
              "solidity": 0.2
             }
            },
            "type": "barpolar"
           }
          ],
          "carpet": [
           {
            "aaxis": {
             "endlinecolor": "#2a3f5f",
             "gridcolor": "white",
             "linecolor": "white",
             "minorgridcolor": "white",
             "startlinecolor": "#2a3f5f"
            },
            "baxis": {
             "endlinecolor": "#2a3f5f",
             "gridcolor": "white",
             "linecolor": "white",
             "minorgridcolor": "white",
             "startlinecolor": "#2a3f5f"
            },
            "type": "carpet"
           }
          ],
          "choropleth": [
           {
            "colorbar": {
             "outlinewidth": 0,
             "ticks": ""
            },
            "type": "choropleth"
           }
          ],
          "contour": [
           {
            "colorbar": {
             "outlinewidth": 0,
             "ticks": ""
            },
            "colorscale": [
             [
              0,
              "#0d0887"
             ],
             [
              0.1111111111111111,
              "#46039f"
             ],
             [
              0.2222222222222222,
              "#7201a8"
             ],
             [
              0.3333333333333333,
              "#9c179e"
             ],
             [
              0.4444444444444444,
              "#bd3786"
             ],
             [
              0.5555555555555556,
              "#d8576b"
             ],
             [
              0.6666666666666666,
              "#ed7953"
             ],
             [
              0.7777777777777778,
              "#fb9f3a"
             ],
             [
              0.8888888888888888,
              "#fdca26"
             ],
             [
              1,
              "#f0f921"
             ]
            ],
            "type": "contour"
           }
          ],
          "contourcarpet": [
           {
            "colorbar": {
             "outlinewidth": 0,
             "ticks": ""
            },
            "type": "contourcarpet"
           }
          ],
          "heatmap": [
           {
            "colorbar": {
             "outlinewidth": 0,
             "ticks": ""
            },
            "colorscale": [
             [
              0,
              "#0d0887"
             ],
             [
              0.1111111111111111,
              "#46039f"
             ],
             [
              0.2222222222222222,
              "#7201a8"
             ],
             [
              0.3333333333333333,
              "#9c179e"
             ],
             [
              0.4444444444444444,
              "#bd3786"
             ],
             [
              0.5555555555555556,
              "#d8576b"
             ],
             [
              0.6666666666666666,
              "#ed7953"
             ],
             [
              0.7777777777777778,
              "#fb9f3a"
             ],
             [
              0.8888888888888888,
              "#fdca26"
             ],
             [
              1,
              "#f0f921"
             ]
            ],
            "type": "heatmap"
           }
          ],
          "heatmapgl": [
           {
            "colorbar": {
             "outlinewidth": 0,
             "ticks": ""
            },
            "colorscale": [
             [
              0,
              "#0d0887"
             ],
             [
              0.1111111111111111,
              "#46039f"
             ],
             [
              0.2222222222222222,
              "#7201a8"
             ],
             [
              0.3333333333333333,
              "#9c179e"
             ],
             [
              0.4444444444444444,
              "#bd3786"
             ],
             [
              0.5555555555555556,
              "#d8576b"
             ],
             [
              0.6666666666666666,
              "#ed7953"
             ],
             [
              0.7777777777777778,
              "#fb9f3a"
             ],
             [
              0.8888888888888888,
              "#fdca26"
             ],
             [
              1,
              "#f0f921"
             ]
            ],
            "type": "heatmapgl"
           }
          ],
          "histogram": [
           {
            "marker": {
             "pattern": {
              "fillmode": "overlay",
              "size": 10,
              "solidity": 0.2
             }
            },
            "type": "histogram"
           }
          ],
          "histogram2d": [
           {
            "colorbar": {
             "outlinewidth": 0,
             "ticks": ""
            },
            "colorscale": [
             [
              0,
              "#0d0887"
             ],
             [
              0.1111111111111111,
              "#46039f"
             ],
             [
              0.2222222222222222,
              "#7201a8"
             ],
             [
              0.3333333333333333,
              "#9c179e"
             ],
             [
              0.4444444444444444,
              "#bd3786"
             ],
             [
              0.5555555555555556,
              "#d8576b"
             ],
             [
              0.6666666666666666,
              "#ed7953"
             ],
             [
              0.7777777777777778,
              "#fb9f3a"
             ],
             [
              0.8888888888888888,
              "#fdca26"
             ],
             [
              1,
              "#f0f921"
             ]
            ],
            "type": "histogram2d"
           }
          ],
          "histogram2dcontour": [
           {
            "colorbar": {
             "outlinewidth": 0,
             "ticks": ""
            },
            "colorscale": [
             [
              0,
              "#0d0887"
             ],
             [
              0.1111111111111111,
              "#46039f"
             ],
             [
              0.2222222222222222,
              "#7201a8"
             ],
             [
              0.3333333333333333,
              "#9c179e"
             ],
             [
              0.4444444444444444,
              "#bd3786"
             ],
             [
              0.5555555555555556,
              "#d8576b"
             ],
             [
              0.6666666666666666,
              "#ed7953"
             ],
             [
              0.7777777777777778,
              "#fb9f3a"
             ],
             [
              0.8888888888888888,
              "#fdca26"
             ],
             [
              1,
              "#f0f921"
             ]
            ],
            "type": "histogram2dcontour"
           }
          ],
          "mesh3d": [
           {
            "colorbar": {
             "outlinewidth": 0,
             "ticks": ""
            },
            "type": "mesh3d"
           }
          ],
          "parcoords": [
           {
            "line": {
             "colorbar": {
              "outlinewidth": 0,
              "ticks": ""
             }
            },
            "type": "parcoords"
           }
          ],
          "pie": [
           {
            "automargin": true,
            "type": "pie"
           }
          ],
          "scatter": [
           {
            "marker": {
             "colorbar": {
              "outlinewidth": 0,
              "ticks": ""
             }
            },
            "type": "scatter"
           }
          ],
          "scatter3d": [
           {
            "line": {
             "colorbar": {
              "outlinewidth": 0,
              "ticks": ""
             }
            },
            "marker": {
             "colorbar": {
              "outlinewidth": 0,
              "ticks": ""
             }
            },
            "type": "scatter3d"
           }
          ],
          "scattercarpet": [
           {
            "marker": {
             "colorbar": {
              "outlinewidth": 0,
              "ticks": ""
             }
            },
            "type": "scattercarpet"
           }
          ],
          "scattergeo": [
           {
            "marker": {
             "colorbar": {
              "outlinewidth": 0,
              "ticks": ""
             }
            },
            "type": "scattergeo"
           }
          ],
          "scattergl": [
           {
            "marker": {
             "colorbar": {
              "outlinewidth": 0,
              "ticks": ""
             }
            },
            "type": "scattergl"
           }
          ],
          "scattermapbox": [
           {
            "marker": {
             "colorbar": {
              "outlinewidth": 0,
              "ticks": ""
             }
            },
            "type": "scattermapbox"
           }
          ],
          "scatterpolar": [
           {
            "marker": {
             "colorbar": {
              "outlinewidth": 0,
              "ticks": ""
             }
            },
            "type": "scatterpolar"
           }
          ],
          "scatterpolargl": [
           {
            "marker": {
             "colorbar": {
              "outlinewidth": 0,
              "ticks": ""
             }
            },
            "type": "scatterpolargl"
           }
          ],
          "scatterternary": [
           {
            "marker": {
             "colorbar": {
              "outlinewidth": 0,
              "ticks": ""
             }
            },
            "type": "scatterternary"
           }
          ],
          "surface": [
           {
            "colorbar": {
             "outlinewidth": 0,
             "ticks": ""
            },
            "colorscale": [
             [
              0,
              "#0d0887"
             ],
             [
              0.1111111111111111,
              "#46039f"
             ],
             [
              0.2222222222222222,
              "#7201a8"
             ],
             [
              0.3333333333333333,
              "#9c179e"
             ],
             [
              0.4444444444444444,
              "#bd3786"
             ],
             [
              0.5555555555555556,
              "#d8576b"
             ],
             [
              0.6666666666666666,
              "#ed7953"
             ],
             [
              0.7777777777777778,
              "#fb9f3a"
             ],
             [
              0.8888888888888888,
              "#fdca26"
             ],
             [
              1,
              "#f0f921"
             ]
            ],
            "type": "surface"
           }
          ],
          "table": [
           {
            "cells": {
             "fill": {
              "color": "#EBF0F8"
             },
             "line": {
              "color": "white"
             }
            },
            "header": {
             "fill": {
              "color": "#C8D4E3"
             },
             "line": {
              "color": "white"
             }
            },
            "type": "table"
           }
          ]
         },
         "layout": {
          "annotationdefaults": {
           "arrowcolor": "#2a3f5f",
           "arrowhead": 0,
           "arrowwidth": 1
          },
          "autotypenumbers": "strict",
          "coloraxis": {
           "colorbar": {
            "outlinewidth": 0,
            "ticks": ""
           }
          },
          "colorscale": {
           "diverging": [
            [
             0,
             "#8e0152"
            ],
            [
             0.1,
             "#c51b7d"
            ],
            [
             0.2,
             "#de77ae"
            ],
            [
             0.3,
             "#f1b6da"
            ],
            [
             0.4,
             "#fde0ef"
            ],
            [
             0.5,
             "#f7f7f7"
            ],
            [
             0.6,
             "#e6f5d0"
            ],
            [
             0.7,
             "#b8e186"
            ],
            [
             0.8,
             "#7fbc41"
            ],
            [
             0.9,
             "#4d9221"
            ],
            [
             1,
             "#276419"
            ]
           ],
           "sequential": [
            [
             0,
             "#0d0887"
            ],
            [
             0.1111111111111111,
             "#46039f"
            ],
            [
             0.2222222222222222,
             "#7201a8"
            ],
            [
             0.3333333333333333,
             "#9c179e"
            ],
            [
             0.4444444444444444,
             "#bd3786"
            ],
            [
             0.5555555555555556,
             "#d8576b"
            ],
            [
             0.6666666666666666,
             "#ed7953"
            ],
            [
             0.7777777777777778,
             "#fb9f3a"
            ],
            [
             0.8888888888888888,
             "#fdca26"
            ],
            [
             1,
             "#f0f921"
            ]
           ],
           "sequentialminus": [
            [
             0,
             "#0d0887"
            ],
            [
             0.1111111111111111,
             "#46039f"
            ],
            [
             0.2222222222222222,
             "#7201a8"
            ],
            [
             0.3333333333333333,
             "#9c179e"
            ],
            [
             0.4444444444444444,
             "#bd3786"
            ],
            [
             0.5555555555555556,
             "#d8576b"
            ],
            [
             0.6666666666666666,
             "#ed7953"
            ],
            [
             0.7777777777777778,
             "#fb9f3a"
            ],
            [
             0.8888888888888888,
             "#fdca26"
            ],
            [
             1,
             "#f0f921"
            ]
           ]
          },
          "colorway": [
           "#636efa",
           "#EF553B",
           "#00cc96",
           "#ab63fa",
           "#FFA15A",
           "#19d3f3",
           "#FF6692",
           "#B6E880",
           "#FF97FF",
           "#FECB52"
          ],
          "font": {
           "color": "#2a3f5f"
          },
          "geo": {
           "bgcolor": "white",
           "lakecolor": "white",
           "landcolor": "#E5ECF6",
           "showlakes": true,
           "showland": true,
           "subunitcolor": "white"
          },
          "hoverlabel": {
           "align": "left"
          },
          "hovermode": "closest",
          "mapbox": {
           "style": "light"
          },
          "paper_bgcolor": "white",
          "plot_bgcolor": "#E5ECF6",
          "polar": {
           "angularaxis": {
            "gridcolor": "white",
            "linecolor": "white",
            "ticks": ""
           },
           "bgcolor": "#E5ECF6",
           "radialaxis": {
            "gridcolor": "white",
            "linecolor": "white",
            "ticks": ""
           }
          },
          "scene": {
           "xaxis": {
            "backgroundcolor": "#E5ECF6",
            "gridcolor": "white",
            "gridwidth": 2,
            "linecolor": "white",
            "showbackground": true,
            "ticks": "",
            "zerolinecolor": "white"
           },
           "yaxis": {
            "backgroundcolor": "#E5ECF6",
            "gridcolor": "white",
            "gridwidth": 2,
            "linecolor": "white",
            "showbackground": true,
            "ticks": "",
            "zerolinecolor": "white"
           },
           "zaxis": {
            "backgroundcolor": "#E5ECF6",
            "gridcolor": "white",
            "gridwidth": 2,
            "linecolor": "white",
            "showbackground": true,
            "ticks": "",
            "zerolinecolor": "white"
           }
          },
          "shapedefaults": {
           "line": {
            "color": "#2a3f5f"
           }
          },
          "ternary": {
           "aaxis": {
            "gridcolor": "white",
            "linecolor": "white",
            "ticks": ""
           },
           "baxis": {
            "gridcolor": "white",
            "linecolor": "white",
            "ticks": ""
           },
           "bgcolor": "#E5ECF6",
           "caxis": {
            "gridcolor": "white",
            "linecolor": "white",
            "ticks": ""
           }
          },
          "title": {
           "x": 0.05
          },
          "xaxis": {
           "automargin": true,
           "gridcolor": "white",
           "linecolor": "white",
           "ticks": "",
           "title": {
            "standoff": 15
           },
           "zerolinecolor": "white",
           "zerolinewidth": 2
          },
          "yaxis": {
           "automargin": true,
           "gridcolor": "white",
           "linecolor": "white",
           "ticks": "",
           "title": {
            "standoff": 15
           },
           "zerolinecolor": "white",
           "zerolinewidth": 2
          }
         }
        },
        "title": {
         "text": "<b>Youtube View & Like Counts VS Sentiment Scores<b>"
        },
        "xaxis": {
         "anchor": "y",
         "domain": [
          0,
          0.94
         ],
         "title": {
          "text": "Sentiment Score"
         }
        },
        "yaxis": {
         "anchor": "x",
         "domain": [
          0,
          1
         ],
         "title": {
          "text": "View Counts"
         }
        },
        "yaxis2": {
         "anchor": "x",
         "overlaying": "y",
         "side": "right",
         "title": {
          "text": "Like Counts"
         }
        }
       }
      }
     },
     "metadata": {},
     "output_type": "display_data"
    }
   ],
   "source": [
    "fig = make_subplots(specs=[[{'secondary_y': True}]])\n",
    "\n",
    "fig.add_trace(\n",
    "        go.Scatter(\n",
    "        x=video_comp_sentiments['avg_comp_sentiment'],\n",
    "        y=video_comp_sentiments['vid_viewcount'],\n",
    "        name='View Count',\n",
    "        mode='markers',\n",
    "        marker_color='Blue',\n",
    "        text=video_comp_sentiments['vid_title'],\n",
    "        hovertemplate='<b>%{text}</b> <br>Sentiment Value: %{x} <br>View Count: %{y}'),\n",
    "        secondary_y=False\n",
    ")\n",
    "\n",
    "fig.add_trace(go.Scatter(\n",
    "    x=video_comp_sentiments['avg_comp_sentiment'],\n",
    "    y=video_comp_sentiments['vid_likecount'],\n",
    "    name='Like Count',\n",
    "    mode='markers',\n",
    "    marker_color='Red',\n",
    "    text=video_comp_sentiments['vid_title'],\n",
    "    hovertemplate='<b>%{text}</b> <br>Sentiment Value: %{x} <br>Like Count: %{y}'),\n",
    "    secondary_y=True\n",
    ")\n",
    "\n",
    "fig.update_layout(\n",
    "    title=\"<b>Youtube View & Like Counts VS Sentiment Scores<b>\",\n",
    "    xaxis_title=\"Sentiment Score\"\n",
    "    # legend_title=\"Legend Title\"\n",
    ")\n",
    "\n",
    "fig.update_yaxes(title_text=\"View Counts\", secondary_y=False)\n",
    "fig.update_yaxes(title_text=\"Like Counts\", secondary_y=True)\n",
    "\n",
    "fig.show(renderer='vscode')"
   ]
  }
 ],
 "metadata": {
  "kernelspec": {
   "display_name": "Python 3.9.7 ('base')",
   "language": "python",
   "name": "python3"
  },
  "language_info": {
   "codemirror_mode": {
    "name": "ipython",
    "version": 3
   },
   "file_extension": ".py",
   "mimetype": "text/x-python",
   "name": "python",
   "nbconvert_exporter": "python",
   "pygments_lexer": "ipython3",
   "version": "3.9.7"
  },
  "orig_nbformat": 4,
  "vscode": {
   "interpreter": {
    "hash": "78adb8089f1b1ad0b7743184fb6585d3ffc1b6fb4a355aad49fe7003845e53d4"
   }
  }
 },
 "nbformat": 4,
 "nbformat_minor": 2
}
