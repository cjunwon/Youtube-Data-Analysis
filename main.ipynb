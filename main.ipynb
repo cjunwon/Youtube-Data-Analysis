{
 "cells": [
  {
   "cell_type": "markdown",
   "metadata": {},
   "source": [
    "## Data Collection"
   ]
  },
  {
   "cell_type": "markdown",
   "metadata": {},
   "source": [
    "Main data collection is processed by running ['update.py'](https://github.com/cjunwon/Youtube-Data-Analysis/blob/main/update.py) on a Flask ['server.py'](https://github.com/cjunwon/Youtube-Data-Analysis/blob/main/server.py) scheduled through ngrok and Invictify.\n",
    "\n",
    "This collection pipeline automatically updates the AWS MySQL RDS database with up-to-date channel statistics depending on the configured Invictify schedule."
   ]
  },
  {
   "cell_type": "code",
   "execution_count": 95,
   "metadata": {},
   "outputs": [],
   "source": [
    "from MySQL_DB_connect_functions import *\n",
    "from MySQL_DB_update_functions import *\n",
    "from youtube_api_functions import *"
   ]
  },
  {
   "cell_type": "code",
   "execution_count": 96,
   "metadata": {},
   "outputs": [],
   "source": [
    "# Place \n",
    "channel_id_list = ['UCIRYBXDze5krPDzAEOxFGVA'] #TheGuardian\n",
    "channel_id_list = ['UCqnbDFdCpuN8CMEg0VuEBqA'] #NYTimes\n",
    "channel_id_list = ['UCBi2mrWuNuyYy4gbM6fU18Q'] #ABCNews\n",
    "channel_id_list = ['UCeY0bbntWzzVIaj2z3QigXg'] #NBCNews\n",
    "channel_id_list = ['UCaXkIU1QidjPwiAYu6GcHjg'] #MSNBC"
   ]
  },
  {
   "cell_type": "code",
   "execution_count": 97,
   "metadata": {},
   "outputs": [],
   "source": [
    "# Create Youtube Data API object & cleaned dataframe containing video data from selected channel using function from youtube_api_functions.py:\n",
    "youtube_obj = build_yt_API_object() # builds Youtube API object\n",
    "video_df = create_video_df(youtube_obj, channel_id_list, 500) # store API data into pandas df\n",
    "processed_video_df = clean_video_df(video_df) # run df through cleaning function"
   ]
  },
  {
   "cell_type": "code",
   "execution_count": 98,
   "metadata": {},
   "outputs": [],
   "source": [
    "selected_df = processed_video_df.query('viewCount > 5000 & commentCount > 500')"
   ]
  },
  {
   "cell_type": "code",
   "execution_count": 99,
   "metadata": {},
   "outputs": [],
   "source": [
    "video_ids = list(selected_df['video_id'])"
   ]
  },
  {
   "cell_type": "code",
   "execution_count": 100,
   "metadata": {},
   "outputs": [],
   "source": [
    "all_comments_df = pd.DataFrame()\n",
    "for video in video_ids:\n",
    "    comment_data = get_video_comments(youtube_obj, video)\n",
    "    all_comments_df = all_comments_df.append(comment_data, ignore_index=True)"
   ]
  },
  {
   "cell_type": "code",
   "execution_count": 101,
   "metadata": {},
   "outputs": [
    {
     "data": {
      "text/html": [
       "<div>\n",
       "<style scoped>\n",
       "    .dataframe tbody tr th:only-of-type {\n",
       "        vertical-align: middle;\n",
       "    }\n",
       "\n",
       "    .dataframe tbody tr th {\n",
       "        vertical-align: top;\n",
       "    }\n",
       "\n",
       "    .dataframe thead th {\n",
       "        text-align: right;\n",
       "    }\n",
       "</style>\n",
       "<table border=\"1\" class=\"dataframe\">\n",
       "  <thead>\n",
       "    <tr style=\"text-align: right;\">\n",
       "      <th></th>\n",
       "      <th>video_id</th>\n",
       "      <th>comment_id</th>\n",
       "      <th>comment</th>\n",
       "      <th>date</th>\n",
       "    </tr>\n",
       "  </thead>\n",
       "  <tbody>\n",
       "    <tr>\n",
       "      <th>0</th>\n",
       "      <td>MMc5lfQc8Q0</td>\n",
       "      <td>Ugwndct_fe7VlT9su-t4AaABAg</td>\n",
       "      <td>Be nice to him and he will come on the show.</td>\n",
       "      <td>2022-09-23T03:39:32Z</td>\n",
       "    </tr>\n",
       "    <tr>\n",
       "      <th>1</th>\n",
       "      <td>MMc5lfQc8Q0</td>\n",
       "      <td>UgyUAV9mO9c47RxCffN4AaABAg</td>\n",
       "      <td>Couldn't happen to a nicer guy, LOL!! The whol...</td>\n",
       "      <td>2022-09-23T03:39:29Z</td>\n",
       "    </tr>\n",
       "    <tr>\n",
       "      <th>2</th>\n",
       "      <td>MMc5lfQc8Q0</td>\n",
       "      <td>UgxnEDDaE73hpV_vGoR4AaABAg</td>\n",
       "      <td>Trump is a complete and total baboon. 😅😅😂😅😂😂😅😂</td>\n",
       "      <td>2022-09-23T03:39:13Z</td>\n",
       "    </tr>\n",
       "    <tr>\n",
       "      <th>3</th>\n",
       "      <td>MMc5lfQc8Q0</td>\n",
       "      <td>UgwWfQhhEFlUlBZS-CZ4AaABAg</td>\n",
       "      <td>Heh stupid trump, just shut up your big dirty ...</td>\n",
       "      <td>2022-09-23T03:39:08Z</td>\n",
       "    </tr>\n",
       "    <tr>\n",
       "      <th>4</th>\n",
       "      <td>MMc5lfQc8Q0</td>\n",
       "      <td>Ugy-61c7EwcRKev-b4B4AaABAg</td>\n",
       "      <td>45 U Lousy Losing Liar!!!</td>\n",
       "      <td>2022-09-23T03:38:28Z</td>\n",
       "    </tr>\n",
       "  </tbody>\n",
       "</table>\n",
       "</div>"
      ],
      "text/plain": [
       "      video_id                  comment_id  \\\n",
       "0  MMc5lfQc8Q0  Ugwndct_fe7VlT9su-t4AaABAg   \n",
       "1  MMc5lfQc8Q0  UgyUAV9mO9c47RxCffN4AaABAg   \n",
       "2  MMc5lfQc8Q0  UgxnEDDaE73hpV_vGoR4AaABAg   \n",
       "3  MMc5lfQc8Q0  UgwWfQhhEFlUlBZS-CZ4AaABAg   \n",
       "4  MMc5lfQc8Q0  Ugy-61c7EwcRKev-b4B4AaABAg   \n",
       "\n",
       "                                             comment                  date  \n",
       "0       Be nice to him and he will come on the show.  2022-09-23T03:39:32Z  \n",
       "1  Couldn't happen to a nicer guy, LOL!! The whol...  2022-09-23T03:39:29Z  \n",
       "2     Trump is a complete and total baboon. 😅😅😂😅😂😂😅😂  2022-09-23T03:39:13Z  \n",
       "3  Heh stupid trump, just shut up your big dirty ...  2022-09-23T03:39:08Z  \n",
       "4                          45 U Lousy Losing Liar!!!  2022-09-23T03:38:28Z  "
      ]
     },
     "execution_count": 101,
     "metadata": {},
     "output_type": "execute_result"
    }
   ],
   "source": [
    "all_comments_df.head()"
   ]
  },
  {
   "cell_type": "code",
   "execution_count": 102,
   "metadata": {},
   "outputs": [
    {
     "data": {
      "text/plain": [
       "'Heh stupid trump, just shut up your big dirty mouth for god sake.'"
      ]
     },
     "execution_count": 102,
     "metadata": {},
     "output_type": "execute_result"
    }
   ],
   "source": [
    "all_comments_df['comment'][3]"
   ]
  },
  {
   "cell_type": "markdown",
   "metadata": {},
   "source": [
    "## Comment Data Cleaning"
   ]
  },
  {
   "cell_type": "code",
   "execution_count": 103,
   "metadata": {},
   "outputs": [],
   "source": [
    "import nltk\n",
    "from nltk.sentiment import SentimentIntensityAnalyzer\n",
    "sia = SentimentIntensityAnalyzer()"
   ]
  },
  {
   "cell_type": "code",
   "execution_count": 104,
   "metadata": {},
   "outputs": [],
   "source": [
    "def preprocess(comment):\n",
    "    comment = comment.str.replace(\"\\n\", \" \") # remove new lines \n",
    "    return comment\n",
    "\n",
    "all_comments_df['comment'] = preprocess(all_comments_df['comment'])"
   ]
  },
  {
   "cell_type": "code",
   "execution_count": 105,
   "metadata": {},
   "outputs": [
    {
     "data": {
      "text/html": [
       "<div>\n",
       "<style scoped>\n",
       "    .dataframe tbody tr th:only-of-type {\n",
       "        vertical-align: middle;\n",
       "    }\n",
       "\n",
       "    .dataframe tbody tr th {\n",
       "        vertical-align: top;\n",
       "    }\n",
       "\n",
       "    .dataframe thead th {\n",
       "        text-align: right;\n",
       "    }\n",
       "</style>\n",
       "<table border=\"1\" class=\"dataframe\">\n",
       "  <thead>\n",
       "    <tr style=\"text-align: right;\">\n",
       "      <th></th>\n",
       "      <th>video_id</th>\n",
       "      <th>comment_id</th>\n",
       "      <th>comment</th>\n",
       "      <th>date</th>\n",
       "    </tr>\n",
       "  </thead>\n",
       "  <tbody>\n",
       "    <tr>\n",
       "      <th>0</th>\n",
       "      <td>MMc5lfQc8Q0</td>\n",
       "      <td>Ugwndct_fe7VlT9su-t4AaABAg</td>\n",
       "      <td>Be nice to him and he will come on the show.</td>\n",
       "      <td>2022-09-23T03:39:32Z</td>\n",
       "    </tr>\n",
       "    <tr>\n",
       "      <th>1</th>\n",
       "      <td>MMc5lfQc8Q0</td>\n",
       "      <td>UgyUAV9mO9c47RxCffN4AaABAg</td>\n",
       "      <td>Couldn't happen to a nicer guy, LOL!! The whol...</td>\n",
       "      <td>2022-09-23T03:39:29Z</td>\n",
       "    </tr>\n",
       "    <tr>\n",
       "      <th>2</th>\n",
       "      <td>MMc5lfQc8Q0</td>\n",
       "      <td>UgxnEDDaE73hpV_vGoR4AaABAg</td>\n",
       "      <td>Trump is a complete and total baboon. 😅😅😂😅😂😂😅😂</td>\n",
       "      <td>2022-09-23T03:39:13Z</td>\n",
       "    </tr>\n",
       "    <tr>\n",
       "      <th>3</th>\n",
       "      <td>MMc5lfQc8Q0</td>\n",
       "      <td>UgwWfQhhEFlUlBZS-CZ4AaABAg</td>\n",
       "      <td>Heh stupid trump, just shut up your big dirty ...</td>\n",
       "      <td>2022-09-23T03:39:08Z</td>\n",
       "    </tr>\n",
       "    <tr>\n",
       "      <th>4</th>\n",
       "      <td>MMc5lfQc8Q0</td>\n",
       "      <td>Ugy-61c7EwcRKev-b4B4AaABAg</td>\n",
       "      <td>45 U Lousy Losing Liar!!!</td>\n",
       "      <td>2022-09-23T03:38:28Z</td>\n",
       "    </tr>\n",
       "    <tr>\n",
       "      <th>...</th>\n",
       "      <td>...</td>\n",
       "      <td>...</td>\n",
       "      <td>...</td>\n",
       "      <td>...</td>\n",
       "    </tr>\n",
       "    <tr>\n",
       "      <th>28904</th>\n",
       "      <td>HXo70MJ5G9U</td>\n",
       "      <td>Ugz5N3hPVVNUGE2b0Nd4AaABAg</td>\n",
       "      <td>As an Independent voter their are no sane Repu...</td>\n",
       "      <td>2022-09-11T17:40:23Z</td>\n",
       "    </tr>\n",
       "    <tr>\n",
       "      <th>28905</th>\n",
       "      <td>HXo70MJ5G9U</td>\n",
       "      <td>UgzP2TSTb7FIqXkWj5h4AaABAg</td>\n",
       "      <td>The amount of greed that it takes to do what t...</td>\n",
       "      <td>2022-09-11T17:33:57Z</td>\n",
       "    </tr>\n",
       "    <tr>\n",
       "      <th>28906</th>\n",
       "      <td>HXo70MJ5G9U</td>\n",
       "      <td>UgzMg5rQf2lEFNBy9Bx4AaABAg</td>\n",
       "      <td>Most republicans are *fully* aware, they just ...</td>\n",
       "      <td>2022-09-11T17:32:17Z</td>\n",
       "    </tr>\n",
       "    <tr>\n",
       "      <th>28907</th>\n",
       "      <td>HXo70MJ5G9U</td>\n",
       "      <td>UgyP2peGEO9_mTIV14N4AaABAg</td>\n",
       "      <td>Point blank republicans only give a crap about...</td>\n",
       "      <td>2022-09-11T17:06:30Z</td>\n",
       "    </tr>\n",
       "    <tr>\n",
       "      <th>28908</th>\n",
       "      <td>HXo70MJ5G9U</td>\n",
       "      <td>UgxvWsI_iN6rpsZNrUV4AaABAg</td>\n",
       "      <td>Republicans know their days are numbered w Gen...</td>\n",
       "      <td>2022-09-11T16:48:23Z</td>\n",
       "    </tr>\n",
       "  </tbody>\n",
       "</table>\n",
       "<p>28909 rows × 4 columns</p>\n",
       "</div>"
      ],
      "text/plain": [
       "          video_id                  comment_id  \\\n",
       "0      MMc5lfQc8Q0  Ugwndct_fe7VlT9su-t4AaABAg   \n",
       "1      MMc5lfQc8Q0  UgyUAV9mO9c47RxCffN4AaABAg   \n",
       "2      MMc5lfQc8Q0  UgxnEDDaE73hpV_vGoR4AaABAg   \n",
       "3      MMc5lfQc8Q0  UgwWfQhhEFlUlBZS-CZ4AaABAg   \n",
       "4      MMc5lfQc8Q0  Ugy-61c7EwcRKev-b4B4AaABAg   \n",
       "...            ...                         ...   \n",
       "28904  HXo70MJ5G9U  Ugz5N3hPVVNUGE2b0Nd4AaABAg   \n",
       "28905  HXo70MJ5G9U  UgzP2TSTb7FIqXkWj5h4AaABAg   \n",
       "28906  HXo70MJ5G9U  UgzMg5rQf2lEFNBy9Bx4AaABAg   \n",
       "28907  HXo70MJ5G9U  UgyP2peGEO9_mTIV14N4AaABAg   \n",
       "28908  HXo70MJ5G9U  UgxvWsI_iN6rpsZNrUV4AaABAg   \n",
       "\n",
       "                                                 comment                  date  \n",
       "0           Be nice to him and he will come on the show.  2022-09-23T03:39:32Z  \n",
       "1      Couldn't happen to a nicer guy, LOL!! The whol...  2022-09-23T03:39:29Z  \n",
       "2         Trump is a complete and total baboon. 😅😅😂😅😂😂😅😂  2022-09-23T03:39:13Z  \n",
       "3      Heh stupid trump, just shut up your big dirty ...  2022-09-23T03:39:08Z  \n",
       "4                              45 U Lousy Losing Liar!!!  2022-09-23T03:38:28Z  \n",
       "...                                                  ...                   ...  \n",
       "28904  As an Independent voter their are no sane Repu...  2022-09-11T17:40:23Z  \n",
       "28905  The amount of greed that it takes to do what t...  2022-09-11T17:33:57Z  \n",
       "28906  Most republicans are *fully* aware, they just ...  2022-09-11T17:32:17Z  \n",
       "28907  Point blank republicans only give a crap about...  2022-09-11T17:06:30Z  \n",
       "28908  Republicans know their days are numbered w Gen...  2022-09-11T16:48:23Z  \n",
       "\n",
       "[28909 rows x 4 columns]"
      ]
     },
     "execution_count": 105,
     "metadata": {},
     "output_type": "execute_result"
    }
   ],
   "source": [
    "all_comments_df"
   ]
  },
  {
   "cell_type": "code",
   "execution_count": 106,
   "metadata": {},
   "outputs": [
    {
     "data": {
      "text/plain": [
       "'Heh stupid trump, just shut up your big dirty mouth for god sake.'"
      ]
     },
     "execution_count": 106,
     "metadata": {},
     "output_type": "execute_result"
    }
   ],
   "source": [
    "all_comments_df['comment'][3]"
   ]
  },
  {
   "cell_type": "markdown",
   "metadata": {},
   "source": [
    "## VADER NLP"
   ]
  },
  {
   "cell_type": "code",
   "execution_count": 107,
   "metadata": {},
   "outputs": [],
   "source": [
    "all_comments_df['vader_sentiment'] = all_comments_df.comment.apply(lambda x: sia.polarity_scores(x))\n",
    "all_comments_df['vader_comp_sentiment'] = all_comments_df.vader_sentiment.apply(lambda x: x['compound'])"
   ]
  },
  {
   "cell_type": "code",
   "execution_count": 108,
   "metadata": {},
   "outputs": [],
   "source": [
    "video_comp_sentiments = pd.DataFrame(columns=['video_id', 'vid_title', 'avg_comp_sentiment', 'vid_viewcount'])\n",
    "for video in video_ids:\n",
    "    comment_data = get_video_comments(youtube_obj, video)\n",
    "    comment_data['vader_sentiment'] = comment_data.comment.apply(lambda x: sia.polarity_scores(x))\n",
    "    comment_data['vader_comp_sentiment'] = comment_data.vader_sentiment.apply(lambda x: x['compound'])\n",
    "    comp_mean = comment_data['vader_comp_sentiment'].mean()\n",
    "\n",
    "    vid_title = processed_video_df.loc[processed_video_df['video_id'] == video, 'title'].item()\n",
    "    vid_viewcount = processed_video_df.loc[processed_video_df['video_id'] == video, 'viewCount'].item()\n",
    "    vid_likecount = processed_video_df.loc[processed_video_df['video_id'] == video, 'likeCount'].item()\n",
    "\n",
    "    dict = {'video_id': video,\n",
    "            'vid_title': vid_title,\n",
    "            'avg_comp_sentiment': comp_mean,\n",
    "            'vid_viewcount': vid_viewcount,\n",
    "            'vid_likecount': vid_likecount\n",
    "            }\n",
    "\n",
    "    video_comp_sentiments = video_comp_sentiments.append(dict, ignore_index=True)\n",
    "    "
   ]
  },
  {
   "cell_type": "code",
   "execution_count": 109,
   "metadata": {},
   "outputs": [
    {
     "data": {
      "text/html": [
       "<div>\n",
       "<style scoped>\n",
       "    .dataframe tbody tr th:only-of-type {\n",
       "        vertical-align: middle;\n",
       "    }\n",
       "\n",
       "    .dataframe tbody tr th {\n",
       "        vertical-align: top;\n",
       "    }\n",
       "\n",
       "    .dataframe thead th {\n",
       "        text-align: right;\n",
       "    }\n",
       "</style>\n",
       "<table border=\"1\" class=\"dataframe\">\n",
       "  <thead>\n",
       "    <tr style=\"text-align: right;\">\n",
       "      <th></th>\n",
       "      <th>video_id</th>\n",
       "      <th>vid_title</th>\n",
       "      <th>avg_comp_sentiment</th>\n",
       "      <th>vid_viewcount</th>\n",
       "      <th>vid_likecount</th>\n",
       "    </tr>\n",
       "  </thead>\n",
       "  <tbody>\n",
       "    <tr>\n",
       "      <th>0</th>\n",
       "      <td>MMc5lfQc8Q0</td>\n",
       "      <td>Trump Admits To Willful Retention Of Documents...</td>\n",
       "      <td>-0.113013</td>\n",
       "      <td>73937</td>\n",
       "      <td>2440.0</td>\n",
       "    </tr>\n",
       "    <tr>\n",
       "      <th>1</th>\n",
       "      <td>NVXg70eLwDk</td>\n",
       "      <td>Joy Reid: Trump May Have Indicated He Intentio...</td>\n",
       "      <td>-0.041557</td>\n",
       "      <td>110528</td>\n",
       "      <td>3315.0</td>\n",
       "    </tr>\n",
       "    <tr>\n",
       "      <th>2</th>\n",
       "      <td>Mjq8-UGLVTY</td>\n",
       "      <td>DeSantis Investigated And Sued Over Migrant Fl...</td>\n",
       "      <td>-0.086627</td>\n",
       "      <td>34766</td>\n",
       "      <td>1788.0</td>\n",
       "    </tr>\n",
       "    <tr>\n",
       "      <th>3</th>\n",
       "      <td>uds82Ay37CE</td>\n",
       "      <td>Burn: See MAGA-Era Science Lies Roasted And De...</td>\n",
       "      <td>0.215299</td>\n",
       "      <td>98616</td>\n",
       "      <td>6427.0</td>\n",
       "    </tr>\n",
       "    <tr>\n",
       "      <th>4</th>\n",
       "      <td>mNHZ9KSU598</td>\n",
       "      <td>'Lunatic': Michael Cohen Demolishes Trump On D...</td>\n",
       "      <td>-0.001130</td>\n",
       "      <td>336040</td>\n",
       "      <td>12281.0</td>\n",
       "    </tr>\n",
       "    <tr>\n",
       "      <th>...</th>\n",
       "      <td>...</td>\n",
       "      <td>...</td>\n",
       "      <td>...</td>\n",
       "      <td>...</td>\n",
       "      <td>...</td>\n",
       "    </tr>\n",
       "    <tr>\n",
       "      <th>287</th>\n",
       "      <td>j-zKfQa-0u8</td>\n",
       "      <td>Hot Button Cultural Issues Become Winning Topi...</td>\n",
       "      <td>0.021833</td>\n",
       "      <td>39267</td>\n",
       "      <td>1168.0</td>\n",
       "    </tr>\n",
       "    <tr>\n",
       "      <th>288</th>\n",
       "      <td>CdJsDUyZSuw</td>\n",
       "      <td>Trump Faces Monday Deadline To Respond To DOJ ...</td>\n",
       "      <td>-0.081662</td>\n",
       "      <td>670782</td>\n",
       "      <td>11644.0</td>\n",
       "    </tr>\n",
       "    <tr>\n",
       "      <th>289</th>\n",
       "      <td>0EFKKOR4cZM</td>\n",
       "      <td>Full Speech: King Charles III Promises ‘Lifelo...</td>\n",
       "      <td>0.199905</td>\n",
       "      <td>276762</td>\n",
       "      <td>6477.0</td>\n",
       "    </tr>\n",
       "    <tr>\n",
       "      <th>290</th>\n",
       "      <td>--bPPcHXiD8</td>\n",
       "      <td>Watch Morning Joe Highlights: September 9 | MSNBC</td>\n",
       "      <td>-0.014135</td>\n",
       "      <td>104769</td>\n",
       "      <td>1854.0</td>\n",
       "    </tr>\n",
       "    <tr>\n",
       "      <th>291</th>\n",
       "      <td>HXo70MJ5G9U</td>\n",
       "      <td>Republicans Out Of Touch With Where Most Ameri...</td>\n",
       "      <td>-0.062208</td>\n",
       "      <td>406407</td>\n",
       "      <td>7925.0</td>\n",
       "    </tr>\n",
       "  </tbody>\n",
       "</table>\n",
       "<p>292 rows × 5 columns</p>\n",
       "</div>"
      ],
      "text/plain": [
       "        video_id                                          vid_title  \\\n",
       "0    MMc5lfQc8Q0  Trump Admits To Willful Retention Of Documents...   \n",
       "1    NVXg70eLwDk  Joy Reid: Trump May Have Indicated He Intentio...   \n",
       "2    Mjq8-UGLVTY  DeSantis Investigated And Sued Over Migrant Fl...   \n",
       "3    uds82Ay37CE  Burn: See MAGA-Era Science Lies Roasted And De...   \n",
       "4    mNHZ9KSU598  'Lunatic': Michael Cohen Demolishes Trump On D...   \n",
       "..           ...                                                ...   \n",
       "287  j-zKfQa-0u8  Hot Button Cultural Issues Become Winning Topi...   \n",
       "288  CdJsDUyZSuw  Trump Faces Monday Deadline To Respond To DOJ ...   \n",
       "289  0EFKKOR4cZM  Full Speech: King Charles III Promises ‘Lifelo...   \n",
       "290  --bPPcHXiD8  Watch Morning Joe Highlights: September 9 | MSNBC   \n",
       "291  HXo70MJ5G9U  Republicans Out Of Touch With Where Most Ameri...   \n",
       "\n",
       "     avg_comp_sentiment vid_viewcount  vid_likecount  \n",
       "0             -0.113013         73937         2440.0  \n",
       "1             -0.041557        110528         3315.0  \n",
       "2             -0.086627         34766         1788.0  \n",
       "3              0.215299         98616         6427.0  \n",
       "4             -0.001130        336040        12281.0  \n",
       "..                  ...           ...            ...  \n",
       "287            0.021833         39267         1168.0  \n",
       "288           -0.081662        670782        11644.0  \n",
       "289            0.199905        276762         6477.0  \n",
       "290           -0.014135        104769         1854.0  \n",
       "291           -0.062208        406407         7925.0  \n",
       "\n",
       "[292 rows x 5 columns]"
      ]
     },
     "execution_count": 109,
     "metadata": {},
     "output_type": "execute_result"
    }
   ],
   "source": [
    "video_comp_sentiments"
   ]
  },
  {
   "cell_type": "markdown",
   "metadata": {},
   "source": [
    "## Data Visualization"
   ]
  },
  {
   "cell_type": "code",
   "execution_count": 110,
   "metadata": {},
   "outputs": [
    {
     "data": {
      "application/vnd.plotly.v1+json": {
       "config": {
        "plotlyServerURL": "https://plot.ly"
       },
       "data": [
        {
         "marker": {
          "color": "rgb(55, 83, 109)"
         },
         "name": "Rest of world",
         "type": "bar",
         "x": [
          "Friday",
          "Friday",
          "Friday",
          "Friday",
          "Friday",
          "Thursday",
          "Thursday",
          "Thursday",
          "Thursday",
          "Thursday",
          "Thursday",
          "Thursday",
          "Thursday",
          "Thursday",
          "Thursday",
          "Thursday",
          "Thursday",
          "Thursday",
          "Thursday",
          "Thursday",
          "Thursday",
          "Thursday",
          "Thursday",
          "Thursday",
          "Thursday",
          "Thursday",
          "Thursday",
          "Thursday",
          "Thursday",
          "Wednesday",
          "Wednesday",
          "Wednesday",
          "Wednesday",
          "Wednesday",
          "Wednesday",
          "Wednesday",
          "Wednesday",
          "Wednesday",
          "Wednesday",
          "Wednesday",
          "Wednesday",
          "Wednesday",
          "Wednesday",
          "Wednesday",
          "Wednesday",
          "Wednesday",
          "Wednesday",
          "Wednesday",
          "Wednesday",
          "Wednesday",
          "Wednesday",
          "Wednesday",
          "Wednesday",
          "Wednesday",
          "Tuesday",
          "Tuesday",
          "Tuesday",
          "Tuesday",
          "Tuesday",
          "Tuesday",
          "Tuesday",
          "Tuesday",
          "Tuesday",
          "Tuesday",
          "Tuesday",
          "Tuesday",
          "Tuesday",
          "Tuesday",
          "Tuesday",
          "Tuesday",
          "Tuesday",
          "Tuesday",
          "Tuesday",
          "Tuesday",
          "Tuesday",
          "Tuesday",
          "Tuesday",
          "Tuesday",
          "Tuesday",
          "Tuesday",
          "Tuesday",
          "Tuesday",
          "Tuesday",
          "Tuesday",
          "Monday",
          "Monday",
          "Monday",
          "Monday",
          "Monday",
          "Monday",
          "Monday",
          "Monday",
          "Monday",
          "Monday",
          "Monday",
          "Monday",
          "Monday",
          "Sunday",
          "Sunday",
          "Sunday",
          "Sunday",
          "Sunday",
          "Sunday",
          "Sunday",
          "Sunday",
          "Sunday",
          "Sunday",
          "Saturday",
          "Saturday",
          "Saturday",
          "Saturday",
          "Saturday",
          "Saturday",
          "Saturday",
          "Saturday",
          "Saturday",
          "Saturday",
          "Saturday",
          "Saturday",
          "Saturday",
          "Saturday",
          "Saturday",
          "Saturday",
          "Saturday",
          "Saturday",
          "Saturday",
          "Saturday",
          "Saturday",
          "Saturday",
          "Saturday",
          "Saturday",
          "Saturday",
          "Friday",
          "Friday",
          "Friday",
          "Friday",
          "Friday",
          "Friday",
          "Friday",
          "Friday",
          "Friday",
          "Friday",
          "Friday",
          "Friday",
          "Friday",
          "Friday",
          "Friday",
          "Friday",
          "Friday",
          "Friday",
          "Friday",
          "Friday",
          "Friday",
          "Friday",
          "Friday",
          "Friday",
          "Friday",
          "Friday",
          "Friday",
          "Friday",
          "Friday",
          "Friday",
          "Thursday",
          "Thursday",
          "Thursday",
          "Thursday",
          "Thursday",
          "Thursday",
          "Thursday",
          "Thursday",
          "Thursday",
          "Thursday",
          "Thursday",
          "Thursday",
          "Thursday",
          "Thursday",
          "Thursday",
          "Thursday",
          "Thursday",
          "Thursday",
          "Thursday",
          "Thursday",
          "Thursday",
          "Thursday",
          "Thursday",
          "Thursday",
          "Thursday",
          "Wednesday",
          "Wednesday",
          "Wednesday",
          "Wednesday",
          "Wednesday",
          "Wednesday",
          "Wednesday",
          "Wednesday",
          "Wednesday",
          "Wednesday",
          "Wednesday",
          "Wednesday",
          "Wednesday",
          "Wednesday",
          "Wednesday",
          "Wednesday",
          "Wednesday",
          "Wednesday",
          "Wednesday",
          "Wednesday",
          "Wednesday",
          "Wednesday",
          "Wednesday",
          "Wednesday",
          "Wednesday",
          "Tuesday",
          "Tuesday",
          "Tuesday",
          "Tuesday",
          "Tuesday",
          "Tuesday",
          "Tuesday",
          "Tuesday",
          "Tuesday",
          "Tuesday",
          "Tuesday",
          "Tuesday",
          "Tuesday",
          "Tuesday",
          "Tuesday",
          "Tuesday",
          "Tuesday",
          "Tuesday",
          "Tuesday",
          "Tuesday",
          "Tuesday",
          "Tuesday",
          "Tuesday",
          "Tuesday",
          "Tuesday",
          "Tuesday",
          "Tuesday",
          "Monday",
          "Monday",
          "Monday",
          "Monday",
          "Monday",
          "Monday",
          "Monday",
          "Monday",
          "Monday",
          "Monday",
          "Monday",
          "Monday",
          "Monday",
          "Monday",
          "Monday",
          "Monday",
          "Sunday",
          "Sunday",
          "Sunday",
          "Sunday",
          "Sunday",
          "Sunday",
          "Sunday",
          "Sunday",
          "Sunday",
          "Sunday",
          "Sunday",
          "Saturday",
          "Saturday",
          "Saturday",
          "Saturday",
          "Saturday",
          "Saturday",
          "Saturday",
          "Saturday",
          "Saturday",
          "Saturday",
          "Saturday",
          "Saturday",
          "Saturday",
          "Saturday",
          "Saturday",
          "Saturday",
          "Saturday",
          "Saturday",
          "Saturday",
          "Saturday",
          "Saturday",
          "Friday",
          "Friday",
          "Friday",
          "Friday",
          "Friday"
         ],
         "y": [
          73937,
          110528,
          34766,
          98616,
          336040,
          155564,
          422040,
          148665,
          135447,
          766426,
          352885,
          42728,
          305203,
          63744,
          536617,
          221557,
          210382,
          265370,
          283858,
          108326,
          273086,
          172639,
          1499384,
          181056,
          201713,
          307121,
          1014013,
          538323,
          487964,
          527477,
          419913,
          554470,
          130676,
          104468,
          191199,
          122289,
          80538,
          271920,
          40481,
          390450,
          22947,
          94463,
          353031,
          340414,
          97196,
          415385,
          158056,
          425526,
          950275,
          291427,
          264518,
          435260,
          63742,
          526687,
          891234,
          37168,
          160083,
          184682,
          130026,
          69485,
          21163,
          369071,
          55008,
          1872285,
          284315,
          83980,
          334134,
          182253,
          270965,
          245935,
          102070,
          82980,
          203499,
          45745,
          401356,
          1249333,
          142577,
          198872,
          135088,
          222074,
          179776,
          21426,
          95137,
          335260,
          140430,
          625227,
          30993,
          145666,
          22002,
          68818,
          15418,
          17489,
          39309,
          39153,
          50950,
          655553,
          132834,
          42742,
          101733,
          31087,
          145951,
          40076,
          63024,
          169984,
          9824,
          43343,
          40728,
          44305,
          72934,
          95957,
          81303,
          29064,
          253272,
          59252,
          55057,
          89855,
          225980,
          395992,
          18514,
          83757,
          196966,
          192464,
          196187,
          57460,
          333346,
          174560,
          104851,
          639945,
          130639,
          1276578,
          144067,
          52563,
          143910,
          206279,
          41974,
          205438,
          31711,
          69348,
          385320,
          164692,
          200977,
          179452,
          19614,
          553165,
          318406,
          50581,
          15394,
          406641,
          77388,
          123220,
          16205,
          60851,
          20467,
          44459,
          440712,
          600175,
          114244,
          94588,
          411270,
          248325,
          186047,
          156861,
          83743,
          812756,
          207406,
          36419,
          12000,
          298802,
          154051,
          255686,
          319201,
          104911,
          40049,
          63890,
          18173,
          486869,
          138739,
          304007,
          134408,
          215351,
          122855,
          490249,
          759479,
          536317,
          87964,
          616044,
          189417,
          71973,
          193393,
          9879,
          153714,
          78239,
          94393,
          547126,
          15946,
          16349,
          58651,
          249602,
          217134,
          40186,
          142085,
          92530,
          47754,
          75802,
          80710,
          149462,
          217434,
          201453,
          235386,
          103761,
          65483,
          470247,
          578726,
          342990,
          61872,
          237167,
          554890,
          17742,
          51222,
          216586,
          388559,
          92006,
          121454,
          236318,
          518235,
          319515,
          206834,
          182395,
          128338,
          333143,
          424444,
          1114967,
          479450,
          185955,
          104886,
          1250729,
          308786,
          257419,
          1255363,
          223500,
          228632,
          754495,
          254555,
          123779,
          338880,
          158782,
          22827,
          97495,
          357538,
          28748,
          78245,
          874106,
          172050,
          50634,
          445178,
          31118,
          470797,
          56163,
          57025,
          108618,
          143642,
          50106,
          25523,
          39123,
          54787,
          276559,
          368923,
          376201,
          205246,
          120987,
          635780,
          63970,
          46976,
          126809,
          373119,
          25211,
          56457,
          163727,
          910404,
          301034,
          72037,
          15141,
          840463,
          1007859,
          103351,
          914743,
          519080,
          39267,
          670782,
          276762,
          104769,
          406407
         ]
        }
       ],
       "layout": {
        "bargap": 0.15,
        "bargroupgap": 0.1,
        "template": {
         "data": {
          "bar": [
           {
            "error_x": {
             "color": "#2a3f5f"
            },
            "error_y": {
             "color": "#2a3f5f"
            },
            "marker": {
             "line": {
              "color": "#E5ECF6",
              "width": 0.5
             },
             "pattern": {
              "fillmode": "overlay",
              "size": 10,
              "solidity": 0.2
             }
            },
            "type": "bar"
           }
          ],
          "barpolar": [
           {
            "marker": {
             "line": {
              "color": "#E5ECF6",
              "width": 0.5
             },
             "pattern": {
              "fillmode": "overlay",
              "size": 10,
              "solidity": 0.2
             }
            },
            "type": "barpolar"
           }
          ],
          "carpet": [
           {
            "aaxis": {
             "endlinecolor": "#2a3f5f",
             "gridcolor": "white",
             "linecolor": "white",
             "minorgridcolor": "white",
             "startlinecolor": "#2a3f5f"
            },
            "baxis": {
             "endlinecolor": "#2a3f5f",
             "gridcolor": "white",
             "linecolor": "white",
             "minorgridcolor": "white",
             "startlinecolor": "#2a3f5f"
            },
            "type": "carpet"
           }
          ],
          "choropleth": [
           {
            "colorbar": {
             "outlinewidth": 0,
             "ticks": ""
            },
            "type": "choropleth"
           }
          ],
          "contour": [
           {
            "colorbar": {
             "outlinewidth": 0,
             "ticks": ""
            },
            "colorscale": [
             [
              0,
              "#0d0887"
             ],
             [
              0.1111111111111111,
              "#46039f"
             ],
             [
              0.2222222222222222,
              "#7201a8"
             ],
             [
              0.3333333333333333,
              "#9c179e"
             ],
             [
              0.4444444444444444,
              "#bd3786"
             ],
             [
              0.5555555555555556,
              "#d8576b"
             ],
             [
              0.6666666666666666,
              "#ed7953"
             ],
             [
              0.7777777777777778,
              "#fb9f3a"
             ],
             [
              0.8888888888888888,
              "#fdca26"
             ],
             [
              1,
              "#f0f921"
             ]
            ],
            "type": "contour"
           }
          ],
          "contourcarpet": [
           {
            "colorbar": {
             "outlinewidth": 0,
             "ticks": ""
            },
            "type": "contourcarpet"
           }
          ],
          "heatmap": [
           {
            "colorbar": {
             "outlinewidth": 0,
             "ticks": ""
            },
            "colorscale": [
             [
              0,
              "#0d0887"
             ],
             [
              0.1111111111111111,
              "#46039f"
             ],
             [
              0.2222222222222222,
              "#7201a8"
             ],
             [
              0.3333333333333333,
              "#9c179e"
             ],
             [
              0.4444444444444444,
              "#bd3786"
             ],
             [
              0.5555555555555556,
              "#d8576b"
             ],
             [
              0.6666666666666666,
              "#ed7953"
             ],
             [
              0.7777777777777778,
              "#fb9f3a"
             ],
             [
              0.8888888888888888,
              "#fdca26"
             ],
             [
              1,
              "#f0f921"
             ]
            ],
            "type": "heatmap"
           }
          ],
          "heatmapgl": [
           {
            "colorbar": {
             "outlinewidth": 0,
             "ticks": ""
            },
            "colorscale": [
             [
              0,
              "#0d0887"
             ],
             [
              0.1111111111111111,
              "#46039f"
             ],
             [
              0.2222222222222222,
              "#7201a8"
             ],
             [
              0.3333333333333333,
              "#9c179e"
             ],
             [
              0.4444444444444444,
              "#bd3786"
             ],
             [
              0.5555555555555556,
              "#d8576b"
             ],
             [
              0.6666666666666666,
              "#ed7953"
             ],
             [
              0.7777777777777778,
              "#fb9f3a"
             ],
             [
              0.8888888888888888,
              "#fdca26"
             ],
             [
              1,
              "#f0f921"
             ]
            ],
            "type": "heatmapgl"
           }
          ],
          "histogram": [
           {
            "marker": {
             "pattern": {
              "fillmode": "overlay",
              "size": 10,
              "solidity": 0.2
             }
            },
            "type": "histogram"
           }
          ],
          "histogram2d": [
           {
            "colorbar": {
             "outlinewidth": 0,
             "ticks": ""
            },
            "colorscale": [
             [
              0,
              "#0d0887"
             ],
             [
              0.1111111111111111,
              "#46039f"
             ],
             [
              0.2222222222222222,
              "#7201a8"
             ],
             [
              0.3333333333333333,
              "#9c179e"
             ],
             [
              0.4444444444444444,
              "#bd3786"
             ],
             [
              0.5555555555555556,
              "#d8576b"
             ],
             [
              0.6666666666666666,
              "#ed7953"
             ],
             [
              0.7777777777777778,
              "#fb9f3a"
             ],
             [
              0.8888888888888888,
              "#fdca26"
             ],
             [
              1,
              "#f0f921"
             ]
            ],
            "type": "histogram2d"
           }
          ],
          "histogram2dcontour": [
           {
            "colorbar": {
             "outlinewidth": 0,
             "ticks": ""
            },
            "colorscale": [
             [
              0,
              "#0d0887"
             ],
             [
              0.1111111111111111,
              "#46039f"
             ],
             [
              0.2222222222222222,
              "#7201a8"
             ],
             [
              0.3333333333333333,
              "#9c179e"
             ],
             [
              0.4444444444444444,
              "#bd3786"
             ],
             [
              0.5555555555555556,
              "#d8576b"
             ],
             [
              0.6666666666666666,
              "#ed7953"
             ],
             [
              0.7777777777777778,
              "#fb9f3a"
             ],
             [
              0.8888888888888888,
              "#fdca26"
             ],
             [
              1,
              "#f0f921"
             ]
            ],
            "type": "histogram2dcontour"
           }
          ],
          "mesh3d": [
           {
            "colorbar": {
             "outlinewidth": 0,
             "ticks": ""
            },
            "type": "mesh3d"
           }
          ],
          "parcoords": [
           {
            "line": {
             "colorbar": {
              "outlinewidth": 0,
              "ticks": ""
             }
            },
            "type": "parcoords"
           }
          ],
          "pie": [
           {
            "automargin": true,
            "type": "pie"
           }
          ],
          "scatter": [
           {
            "marker": {
             "colorbar": {
              "outlinewidth": 0,
              "ticks": ""
             }
            },
            "type": "scatter"
           }
          ],
          "scatter3d": [
           {
            "line": {
             "colorbar": {
              "outlinewidth": 0,
              "ticks": ""
             }
            },
            "marker": {
             "colorbar": {
              "outlinewidth": 0,
              "ticks": ""
             }
            },
            "type": "scatter3d"
           }
          ],
          "scattercarpet": [
           {
            "marker": {
             "colorbar": {
              "outlinewidth": 0,
              "ticks": ""
             }
            },
            "type": "scattercarpet"
           }
          ],
          "scattergeo": [
           {
            "marker": {
             "colorbar": {
              "outlinewidth": 0,
              "ticks": ""
             }
            },
            "type": "scattergeo"
           }
          ],
          "scattergl": [
           {
            "marker": {
             "colorbar": {
              "outlinewidth": 0,
              "ticks": ""
             }
            },
            "type": "scattergl"
           }
          ],
          "scattermapbox": [
           {
            "marker": {
             "colorbar": {
              "outlinewidth": 0,
              "ticks": ""
             }
            },
            "type": "scattermapbox"
           }
          ],
          "scatterpolar": [
           {
            "marker": {
             "colorbar": {
              "outlinewidth": 0,
              "ticks": ""
             }
            },
            "type": "scatterpolar"
           }
          ],
          "scatterpolargl": [
           {
            "marker": {
             "colorbar": {
              "outlinewidth": 0,
              "ticks": ""
             }
            },
            "type": "scatterpolargl"
           }
          ],
          "scatterternary": [
           {
            "marker": {
             "colorbar": {
              "outlinewidth": 0,
              "ticks": ""
             }
            },
            "type": "scatterternary"
           }
          ],
          "surface": [
           {
            "colorbar": {
             "outlinewidth": 0,
             "ticks": ""
            },
            "colorscale": [
             [
              0,
              "#0d0887"
             ],
             [
              0.1111111111111111,
              "#46039f"
             ],
             [
              0.2222222222222222,
              "#7201a8"
             ],
             [
              0.3333333333333333,
              "#9c179e"
             ],
             [
              0.4444444444444444,
              "#bd3786"
             ],
             [
              0.5555555555555556,
              "#d8576b"
             ],
             [
              0.6666666666666666,
              "#ed7953"
             ],
             [
              0.7777777777777778,
              "#fb9f3a"
             ],
             [
              0.8888888888888888,
              "#fdca26"
             ],
             [
              1,
              "#f0f921"
             ]
            ],
            "type": "surface"
           }
          ],
          "table": [
           {
            "cells": {
             "fill": {
              "color": "#EBF0F8"
             },
             "line": {
              "color": "white"
             }
            },
            "header": {
             "fill": {
              "color": "#C8D4E3"
             },
             "line": {
              "color": "white"
             }
            },
            "type": "table"
           }
          ]
         },
         "layout": {
          "annotationdefaults": {
           "arrowcolor": "#2a3f5f",
           "arrowhead": 0,
           "arrowwidth": 1
          },
          "autotypenumbers": "strict",
          "coloraxis": {
           "colorbar": {
            "outlinewidth": 0,
            "ticks": ""
           }
          },
          "colorscale": {
           "diverging": [
            [
             0,
             "#8e0152"
            ],
            [
             0.1,
             "#c51b7d"
            ],
            [
             0.2,
             "#de77ae"
            ],
            [
             0.3,
             "#f1b6da"
            ],
            [
             0.4,
             "#fde0ef"
            ],
            [
             0.5,
             "#f7f7f7"
            ],
            [
             0.6,
             "#e6f5d0"
            ],
            [
             0.7,
             "#b8e186"
            ],
            [
             0.8,
             "#7fbc41"
            ],
            [
             0.9,
             "#4d9221"
            ],
            [
             1,
             "#276419"
            ]
           ],
           "sequential": [
            [
             0,
             "#0d0887"
            ],
            [
             0.1111111111111111,
             "#46039f"
            ],
            [
             0.2222222222222222,
             "#7201a8"
            ],
            [
             0.3333333333333333,
             "#9c179e"
            ],
            [
             0.4444444444444444,
             "#bd3786"
            ],
            [
             0.5555555555555556,
             "#d8576b"
            ],
            [
             0.6666666666666666,
             "#ed7953"
            ],
            [
             0.7777777777777778,
             "#fb9f3a"
            ],
            [
             0.8888888888888888,
             "#fdca26"
            ],
            [
             1,
             "#f0f921"
            ]
           ],
           "sequentialminus": [
            [
             0,
             "#0d0887"
            ],
            [
             0.1111111111111111,
             "#46039f"
            ],
            [
             0.2222222222222222,
             "#7201a8"
            ],
            [
             0.3333333333333333,
             "#9c179e"
            ],
            [
             0.4444444444444444,
             "#bd3786"
            ],
            [
             0.5555555555555556,
             "#d8576b"
            ],
            [
             0.6666666666666666,
             "#ed7953"
            ],
            [
             0.7777777777777778,
             "#fb9f3a"
            ],
            [
             0.8888888888888888,
             "#fdca26"
            ],
            [
             1,
             "#f0f921"
            ]
           ]
          },
          "colorway": [
           "#636efa",
           "#EF553B",
           "#00cc96",
           "#ab63fa",
           "#FFA15A",
           "#19d3f3",
           "#FF6692",
           "#B6E880",
           "#FF97FF",
           "#FECB52"
          ],
          "font": {
           "color": "#2a3f5f"
          },
          "geo": {
           "bgcolor": "white",
           "lakecolor": "white",
           "landcolor": "#E5ECF6",
           "showlakes": true,
           "showland": true,
           "subunitcolor": "white"
          },
          "hoverlabel": {
           "align": "left"
          },
          "hovermode": "closest",
          "mapbox": {
           "style": "light"
          },
          "paper_bgcolor": "white",
          "plot_bgcolor": "#E5ECF6",
          "polar": {
           "angularaxis": {
            "gridcolor": "white",
            "linecolor": "white",
            "ticks": ""
           },
           "bgcolor": "#E5ECF6",
           "radialaxis": {
            "gridcolor": "white",
            "linecolor": "white",
            "ticks": ""
           }
          },
          "scene": {
           "xaxis": {
            "backgroundcolor": "#E5ECF6",
            "gridcolor": "white",
            "gridwidth": 2,
            "linecolor": "white",
            "showbackground": true,
            "ticks": "",
            "zerolinecolor": "white"
           },
           "yaxis": {
            "backgroundcolor": "#E5ECF6",
            "gridcolor": "white",
            "gridwidth": 2,
            "linecolor": "white",
            "showbackground": true,
            "ticks": "",
            "zerolinecolor": "white"
           },
           "zaxis": {
            "backgroundcolor": "#E5ECF6",
            "gridcolor": "white",
            "gridwidth": 2,
            "linecolor": "white",
            "showbackground": true,
            "ticks": "",
            "zerolinecolor": "white"
           }
          },
          "shapedefaults": {
           "line": {
            "color": "#2a3f5f"
           }
          },
          "ternary": {
           "aaxis": {
            "gridcolor": "white",
            "linecolor": "white",
            "ticks": ""
           },
           "baxis": {
            "gridcolor": "white",
            "linecolor": "white",
            "ticks": ""
           },
           "bgcolor": "#E5ECF6",
           "caxis": {
            "gridcolor": "white",
            "linecolor": "white",
            "ticks": ""
           }
          },
          "title": {
           "x": 0.05
          },
          "xaxis": {
           "automargin": true,
           "gridcolor": "white",
           "linecolor": "white",
           "ticks": "",
           "title": {
            "standoff": 15
           },
           "zerolinecolor": "white",
           "zerolinewidth": 2
          },
          "yaxis": {
           "automargin": true,
           "gridcolor": "white",
           "linecolor": "white",
           "ticks": "",
           "title": {
            "standoff": 15
           },
           "zerolinecolor": "white",
           "zerolinewidth": 2
          }
         }
        },
        "title": {
         "text": "View Count Based on Published Day of the Week"
        },
        "xaxis": {
         "tickfont": {
          "size": 14
         }
        }
       }
      }
     },
     "metadata": {},
     "output_type": "display_data"
    }
   ],
   "source": [
    "fig = go.Figure()\n",
    "fig.add_trace(go.Bar(x=selected_df['publishDayName'],\n",
    "                y=selected_df['viewCount'],\n",
    "                name='Rest of world',\n",
    "                marker_color='rgb(55, 83, 109)'\n",
    "                ))\n",
    "\n",
    "fig.update_layout(\n",
    "    title='View Count Based on Published Day of the Week',\n",
    "    xaxis_tickfont_size=14,\n",
    "    bargap=0.15, # gap between bars of adjacent location coordinates.\n",
    "    bargroupgap=0.1 # gap between bars of the same location coordinate.\n",
    ")\n",
    "fig.show()"
   ]
  },
  {
   "cell_type": "code",
   "execution_count": 111,
   "metadata": {},
   "outputs": [],
   "source": [
    "import matplotlib.pyplot as plt\n",
    "import seaborn as sns\n",
    "sns.set(style=\"darkgrid\", color_codes=True)"
   ]
  },
  {
   "cell_type": "code",
   "execution_count": 112,
   "metadata": {},
   "outputs": [
    {
     "data": {
      "text/plain": [
       "<AxesSubplot:xlabel='likeCount', ylabel='viewCount'>"
      ]
     },
     "execution_count": 112,
     "metadata": {},
     "output_type": "execute_result"
    },
    {
     "data": {
      "image/png": "[encoded data removed]",
      "text/plain": [
       "<Figure size 432x288 with 2 Axes>"
      ]
     },
     "metadata": {},
     "output_type": "display_data"
    }
   ],
   "source": [
    "fig, ax =plt.subplots(1,2)\n",
    "sns.scatterplot(data = selected_df, x = \"commentCount\", y = \"viewCount\", ax=ax[0])\n",
    "sns.scatterplot(data = selected_df, x = \"likeCount\", y = \"viewCount\", ax=ax[1])"
   ]
  },
  {
   "cell_type": "code",
   "execution_count": 113,
   "metadata": {},
   "outputs": [
    {
     "data": {
      "text/plain": [
       "<AxesSubplot:xlabel='durationSecs', ylabel='Count'>"
      ]
     },
     "execution_count": 113,
     "metadata": {},
     "output_type": "execute_result"
    },
    {
     "data": {
      "image/png": "[encoded data removed]",
      "text/plain": [
       "<Figure size 432x288 with 1 Axes>"
      ]
     },
     "metadata": {},
     "output_type": "display_data"
    }
   ],
   "source": [
    "sns.histplot(data=selected_df[selected_df['durationSecs'] < 10000], x=\"durationSecs\", bins=30)"
   ]
  },
  {
   "cell_type": "markdown",
   "metadata": {},
   "source": [
    "Plotting the duration against comment count and like count. It can be seen that shorter videos tend to get more likes and comments than very long videos."
   ]
  },
  {
   "cell_type": "code",
   "execution_count": 114,
   "metadata": {},
   "outputs": [
    {
     "data": {
      "text/plain": [
       "<AxesSubplot:xlabel='durationSecs', ylabel='likeCount'>"
      ]
     },
     "execution_count": 114,
     "metadata": {},
     "output_type": "execute_result"
    },
    {
     "data": {
      "image/png": "[encoded data removed]",
      "text/plain": [
       "<Figure size 432x288 with 2 Axes>"
      ]
     },
     "metadata": {},
     "output_type": "display_data"
    }
   ],
   "source": [
    "fig, ax =plt.subplots(1,2)\n",
    "sns.scatterplot(data = selected_df, x = \"durationSecs\", y = \"commentCount\", ax=ax[0])\n",
    "sns.scatterplot(data = selected_df, x = \"durationSecs\", y = \"likeCount\", ax=ax[1])"
   ]
  },
  {
   "cell_type": "code",
   "execution_count": 115,
   "metadata": {},
   "outputs": [
    {
     "data": {
      "image/png": "[encoded data removed]",
      "text/plain": [
       "<Figure size 432x288 with 1 Axes>"
      ]
     },
     "metadata": {},
     "output_type": "display_data"
    }
   ],
   "source": [
    "day_df = pd.DataFrame(selected_df['publishDayName'].value_counts())\n",
    "weekdays = ['Monday', 'Tuesday', 'Wednesday', 'Thursday', 'Friday', 'Saturday', 'Sunday']\n",
    "day_df = day_df.reindex(weekdays)\n",
    "ax = day_df.reset_index().plot.bar(x='index', y='publishDayName', rot=0)"
   ]
  },
  {
   "cell_type": "code",
   "execution_count": 116,
   "metadata": {},
   "outputs": [],
   "source": [
    "import plotly.graph_objects as go\n",
    "from plotly.subplots import make_subplots\n",
    "import plotly.io as pio"
   ]
  },
  {
   "cell_type": "markdown",
   "metadata": {},
   "source": [
    "Find the interactive graph [here](https://cjunwon.github.io/Youtube-Data-Analysis/)."
   ]
  },
  {
   "cell_type": "code",
   "execution_count": 117,
   "metadata": {},
   "outputs": [
    {
     "data": {
      "application/vnd.plotly.v1+json": {
       "config": {
        "plotlyServerURL": "https://plot.ly"
       },
       "data": [
        {
         "hovertemplate": "<b>%{text}</b> <br>Sentiment Value: %{x} <br>View Count: %{y}",
         "marker": {
          "color": "Blue"
         },
         "mode": "markers",
         "name": "View Count",
         "text": [
          "Trump Admits To Willful Retention Of Documents In Hannity Interview",
          "Joy Reid: Trump May Have Indicated He Intentionally Sent Docs To Mar-a-Lago",
          "DeSantis Investigated And Sued Over Migrant Flights | The Katie Phang Show",
          "Burn: See MAGA-Era Science Lies Roasted And Debunked By Neil DeGrasse Tyson",
          "'Lunatic': Michael Cohen Demolishes Trump On Declassifying Docs 'By Thinking'",
          "Trump Tries A Familiar Defense With NY AG Lawsuit: Throwing Other People Under The Bus",
          "Miles Taylor: Trump Seems To Think His Presidential Powers Continue",
          "Trump Attorney Sidney Powell Expected To Testify In Georgia Grand Jury Investigation",
          "Classified Docs Often Contain 'Life Or Death' Intel. Trump Can't Just 'Wish It Away': Rep. Crow:",
          "'This Reversal Will Be A Permanent Part Of Judge Cannon's Legacy': Dave Aronberg",
          "'Documents Don't Lie; Square Footage Doesn't Lie': Caroline Polisi",
          "Trump Charges?: Anticipated Jan. 6 Report Hits #1 On US Book Chart Before It Is Released",
          "Sen. Durbin: It Troubles Me Greatly Some Of My Colleagues Won't Speak Out Against The Big Lie",
          "Ginni Thomas Agrees To Meet With The Jan. 6 Committee",
          "Trump Claims He Could Declassify Documents Just By Thinking About It",
          "Watch The ReidOut Highlights: Sept. 21",
          "Appeals Court Goes 'Chapter And Verse' Against Judge Cannon",
          "Watch All In With Chris Hayes Highlights: Sept. 21",
          "Watch The Beat With Ari Melber Highlights: Sept. 21",
          "Trump Progeny, Eric, Ivanka, Jr., Inextricably Tied To Trump Org And Its Legal Woes",
          "Deep Dive Into Trump’s Finances",
          "Trump Took Advantage Of Fact That We're Not Tough On White Collar Crimes Expert Alleges",
          "Lawrence: Trump Could Now Lose Everything Including His Freedom",
          "‘Trump Family Was Running Fraud Business With A Real Estate Sideline’ Expert Alleges",
          "Appeals Court Rejects Part Of Trump Judge's Ruling, Allows DOJ To Resume Doc Review",
          "Tracking The Brazen Pattern Of Trump Fraud",
          "Michael Cohen: Trump Fraud Lawsuit Will ‘Put An End To The Entire Con’",
          "Why Is NY State Trying To End Trump Org. Over Fraud? Report On The 'Lies' And Receipts",
          "Double Charges?: Trump Facing Two 'Criminal Referrals' In Explosion Of 2022 NY Probe",
          "Complaint From NY AG James Has ‘Devastating Range’: Neal Katyal",
          "Judge Dearie Simply Applied The Facts And The Law: Joyce Vance",
          "Master vs. MAGA: Team Trump Rebuked In Court Over Stolen Docs",
          "Trump Has 'Never Been Held Accountable' To The Extent NY AG Is Now Seeking: Peter Baker",
          "How Will NY AG Lawsuit Impact Trump And GOP Campaign Plans?",
          "Documents Filed By Trump, Family Members Show Inflation Of Property Values: Court Docket",
          "Melber: NY AG’s Lawsuit Against Trump Is ‘Most Severe’ Outcome Of Investigation",
          "Trump Lawyers Accuse NY AG Of Advancing 'Political Agenda' With Lawsuit",
          "BREAKING: New York AG Announces Lawsuit Against Trump Over Business Fraud",
          "Biden Calls On U.N. To 'Hold Russia Accountable' For War In Ukraine",
          "Watch The Last Word With Lawrence O’Donnell Highlights: Sept. 20",
          "Gov. DeSantis Is Not Solving A Problem, It Is Not A Solution: WH Press Secretary",
          "Elise Jordan: DeSantis' Migrant Flights Are Just 'So Damn Wasteful'",
          "'Presidents have declassification authority, but not in this way'",
          "Watch All In With Chris Hayes Highlights: Sept. 20",
          "Putin Mobilizes More Troops For Ukraine War, Threatens Nuclear Retaliation",
          "Special Master To Trump: Put Up Or Shut Up",
          "Trump Delay Tactics Stumble Over Straight-Shooting Special Master",
          "Laurence Tribe Predicts Whether AG Merrick Garland Will Indict Trump",
          "Lawrence: Donald Trump Is Facing A Judge Who's Not Playing Games",
          "New Report: Trump's W.H. Lawyer Warned Him Against Taking Documents To Mar-a-Lago",
          "Just How Close Is The U.S. To A Civil War? | The Mehdi Hasan Show",
          "The Non-Lawyer Who Is Giving Trump Legal Advice On The Mar-a-Lago Case",
          "U.S. Ambassador To U.N. Slams GOP Governors For ‘Using Immigrants As Political Pawns’",
          "Trump Indictment Next?: Why The Blockbuster Jan. 6 Report May Change Everything",
          "Weissmann: Dearie’s Message To Trump Lawyers Is ‘If You Don’t Put Up’ You Won’t Get Relief",
          "House To Vote This Week On Electoral Count Act Update",
          "NBC Poll Shows How Donald Trump Is ‘Uniquely Capable Of Dividing The Republican Party’",
          "Special Master Questions Trump Lawyers Over Which Seized Documents Were Declassified",
          "Feds Charge 47 People Who Defrauded $250M From Federal Pandemic Child Nutrition Program",
          "Trump Ally Mike Lindell Must Face Defamation Suit Over Election-Rigging Claims",
          "'Despicable': DeSantis Is Using Migrants As 'Pawns In A Political Stunt' - Sen. Chris Coons",
          "Watch Morning Joe Highlights: September 20 | MSNBC",
          "Protests Break Out In Iran After Woman Dies While In ‘Morality Police’ Custody",
          "Jared And Ivanka Walk Out During 'Biggest Crisis Of The Trump Presidency'",
          "GOP Colleague Mocked 'Orange Jesus' Trump On Jan. 6, Says Rep. Cheney",
          "Democratic Candidate Has 22-Point Lead Over GOP Challenger",
          "Trump Drew 'Great Hand' From Judge Cannon, But It May Not Fly With Special Master",
          "Watch The Last Word With Lawrence O’Donnell Highlights: Sept. 19",
          "Watch All In With Chris Hayes Highlights: Sept. 19",
          "Barbara McQuade: Why Trump's Lawyers Want To Delay Answer On Declassification",
          "Watch The ReidOut Highlights: Sept. 19",
          "Book Outlines Trump's Desire To Sow Divisions Throughout American Life",
          "Trump Refuses To Share Declassification Defense",
          "‘Our Institutions Can’t Save Us’ From Threats To Democracy",
          "Weissmann: This Is The 'World's Worst Set Of Facts' For Trump",
          "Lawrence: Trump’s Chances Of Indictment May Have ‘Skyrocketed’",
          "GOP Leaders Slammed For Allegedly Transporting Migrants Under False Pretenses",
          "Trump 'Is Merging MAGA With QAnon' Journalist David Corn Says",
          "'Stunt Governor': Why DeSantis May Not Be The Star The GOP Is Looking For",
          "Trump Panders To QAnon Movement At Rally In Most Explicit Embrace Yet",
          "Can Ukraine Secure Victory Without More Russian Escalation? | The Mehdi Hasan Show",
          "Mehdi: No, President Biden, The Pandemic Is Not Over | The Mehdi Hasan Show",
          "The Proud Boys' National Security Threat Began Long Before 1/6 | The Mehdi Hasan Show",
          "MAGA’S 'Weaponized Lies': Trump Touts QAnon, Posing Danger For GOP Ahead Of Midterms",
          "More Republicans Refuse To Vow To Accept Election Results",
          "Frank Figliuzzi Calls Trump’s QAnon Embrace ‘The Last Act Of A Desperate Man’",
          "Calls For Criminal Investigation After 'Manipulated' Migrants Flown To Martha's Vineyard",
          "House To Vote On Bipartisan Elections Bill To Prevent Another Jan. 6",
          "President Biden Seeks To Restore Trust In American Democracy",
          "Political Theater, “Candidate Quality” Signal Trouble For Republicans Come November",
          "Martha’s Vineyard Community Welcomes Venezuelan Migrants With Open Arms",
          "Rep. Deborah Ross: 'People Are Just Outraged' Over Abortion Restrictions",
          "How Fox News Inspired GOP Governors’ Migrant Busing Stunt",
          "'The Republicans Don’t Stand For Anything': Tom Perez Weighs In On Approaching Midterms Elections",
          "President Biden Arrives At Westminster Abbey For State Funeral Of Queen Elizabeth II",
          "Trump’s Indictment Is ‘Unavoidable’ In Mar-a-Lago Case, Says Former Prosecutor",
          "Sen. Graham Flip-Flops On State’s Rights, Proposes National Abortion Ban",
          "DeSantis Builds Upon the Long History of Bigots Busing Unwanted Minorities North",
          "Justice Kagan Warns Legitimacy Of Supreme Court Is On The Line",
          "Democrats And Republicans In Dead Heat In New NBC News Poll",
          "Rep. Ted Lieu: “In America, The Law Is Applied Equally. No One Is Above The Law.”",
          "Republicans Push For A Constitutional Convention",
          "Sen. Leahy: If The Senate Doesn’t Repair Itself, ‘We Are In Deep Trouble In This Country’",
          "Puerto Rico's Power Knocked Out As Hurricane Fiona Approaches",
          "Abortion To Be Key Issue Ahead Of The Midterms",
          "NYC Mayor Adams: Bussing Migrants Is \"Inhumane And Anti-American\"",
          "Hobbs: Election Deniers Are ‘Dangerous' And 'Don't Understand How Elections Even Work’",
          "Newly Arriving Migrants Deceived By Misinformation From Abbott And DeSantis",
          "Family Of Transgender Child In Texas Speaks Out On Gov. Abbott’s Attacks",
          "President Biden, First Lady Arrive In London To Attend Funeral For The Queen",
          "Are Black Men The Key To Stacey Abrams Becoming Georgia's Next Governor?",
          "The Real World Consequences Of A Nationwide Abortion Ban",
          "DOJ Appeals Judge's Decision To Delay Criminal Investigation",
          "Massachusetts State Rep. On Migrants Sent To Martha's Vineyard",
          "Velshi: The British Empire Was Brutal. The Commonwealth Was A Consolation Prize.",
          "Watch The ReidOut Highlights: Sept. 16",
          "Watch All In With Chris Hayes Highlights: Sept. 16",
          "Watch The Beat With Ari Melber Highlights: Sept. 16",
          "DeSantis Takes Page From Autocrats' Playbook With Migrant Plane Stunt",
          "Trump Goal Of Discrediting Courts Plays Out In Mar-a-Lago Special Master Case",
          "Victims Of DeSantis' Cruel Migrant Plane Prank Appear To Have Law On Their Side",
          "DOJ Files Appeal In Trump Docs Case",
          "Mark Meadows Now Has 'Hot Potato' Of Culpability For Mar-a-Lago Docs Legal Expert Says",
          "DeSantis Migrant Stunt Reminiscent Of Deceptive ‘Reverse Freedom Rides’ From 60's",
          "DOJ Asks Appeals Court For Stay To Allow Investigation, Assessment Of Mar-a-Lago Docs",
          "New Reporting On The Trump Lies Leading Up To The Mar-a-Lago Search",
          "GOP Candidates Distance Themselves From Trump After Primary Wins",
          "Boston Children's Hospital Becomes Latest Target Of MAGA-Right Threats",
          "'Outrageous' 'Untethered': DOJ Vets Slam Judge's Ruling On Trump's Stolen Docs",
          "DOJ Corners Trump As 'Newspaper Clippings' Defense Shredded By Stolen Doc Photos",
          "'Barr Did The Bidding Of The President And Politicized The DOJ' Says Fmr. U.S. Attorney",
          "DeSantis, Abbott Using Migrants As Political Pawns | The Katie Phang Show",
          "China’s Xi Not On Board With Putin’s War In Ukraine | The Katie Phang Show",
          "Paul Butler: Judge Cannon ‘Partially Joining Donald Trump’s Defense Team’ | The Katie Phang Show",
          "Charlie Sykes: Desantis And Abbott Are Using ‘Theater Of Cruelty’",
          "‘DOJ Has No Option But To Appeal’: Brandon Van Grack",
          "Biden Moves To Reshape Courts With Diverse Judicial Nominations",
          "We Are Reaching A Breaking Point As A Country, Says Strategist",
          "Watch Morning Joe Highlights: September 16 | MSNBC",
          "Trump's Nightmare?: Feds Seize Another MAGA Insider's Phone As Jan. 6 Probe Escalates",
          "MTG Appears To Kick Activist In Video",
          "'The Trumpiest Thing That A Trump Judge Has Ever Written'",
          "Hillary Clinton: We Should All Be Treated Equally Before The Law",
          "In Warning Over Indictment, Trump Seems To See Himself As Bigger Than The Law",
          "Watch All In With Chris Hayes Highlights: Sept. 15",
          "Hillary Clinton: Abortion Bans 'Could Not Be More Serious And More Deadly'",
          "Joe: There Is A Border Crisis, But Political Human Trafficking Is Grotesque",
          "Watch The Last Word With Lawrence O’Donnell Highlights: Sept. 15",
          "Fetterman Moves On From Stroke With New Empathy And Renewed Disdain For GOP Cruelty",
          "Special Master Appointed In Trump Docs Case",
          "Reverse Freedom Rides: DeSantis GOP Stunt Has Been Attempted Before",
          "Trump Court Stacking Project Bears Fruit In Case Against DOJ Search",
          "GOP Governors Follow Shameful History With Cruel Stunt Abusing Migrants",
          "Massachusetts AG Candidate Blasts Gov. DeSantis’s ‘Political Stunt’",
          "Lawrence: Trump Has Poisoned The Federal Judiciary",
          "'Outrageous And Stupid': Legal Experts Excoriate Trump Judge's New Ruling",
          "Glenn Kirschner On Trump Investigations | Zerlina.",
          "DeSantis Takes Credit For Sending Migrants To Martha’s Vineyard In ‘Inhumane Political Stunt’",
          "Joyce Vance: Mar-a-Lago Investigation ‘Just Keeps Getting Worse’ For Trump",
          "‘Atrocity’: Former Federal Prosecutor On Trump Judge’s Ruling In Mar-a-Lago Case",
          "BREAKING: Judge Denies DOJ Request To Carve Out Access To Mar-a-Lago Docs, Appoints Special Master",
          "Watch #AOC Go After Rep. Higgins For How He Treated A #witness",
          "The Divide In The Republican Party Grows Deeper As Midterms Approach | ScreenShare",
          "Neal Katyal: Obstruction Case Against Trump Is ‘Very Strong’",
          "Herschel Walker Hits Warnock On Race In New Attack Ad | ScreenShare",
          "Trump Wanted To 'Bus And Dump' Migrants Into Democratic Cities Says Fmr. DHS Official",
          "Biden Administration Will Counter Hate-Fueled Violence With 'Every Tool Available'",
          "Jan. 6 Rioter Who Wore 'Camp Auschwitz' Sweatshirt Sentenced To Prison",
          "Russia’s Putin And China’s Xi Meet For First Time Since Ukraine Invasion",
          "DOJ Awaits Judge Cannon’s Ruling On Mar-a-Lago Documents",
          "Watch Morning Joe Highlights: September 15 | MSNBC",
          "New Texts Shed More Light On Welfare Scandal Involving Brett Favre",
          "DeSantis Flies Two Planes Full Of Migrants To Martha's Vineyard",
          "Elise Jordan: Graham Proceeding With Abortion Bill The Way He Did With Failed Presidential Run",
          "Biden's Job Approval Gets Boost In New Polling",
          "Trump Advisers Fear DOJ Probes More Expansive Than Publicly Known: Report",
          "Watch All In With Chris Hayes Highlights: Sept. 14",
          "Watch The Last Word With Lawrence O’Donnell Highlights: Sept. 14",
          "David Enrich On Why Trump Can't Find Top-Notch Lawyers | One-on-One With Stephanie Ruhle",
          "Brett Favre And The Fleecing Of America",
          "Jan. 6 Committee Gets Trove Of New Evidence",
          "'They Know What They're Fighting For': Ukraine Dominates Putin's Army",
          "Lawrence: Another One Of Trump's Lawyers Is In Very Serious Trouble",
          "What The FBI Seizing MyPillow CEO's Phone Tells Us About MAGA Extremism",
          "Trump Continues To Make Martyr Out Of Capitol Rioter",
          "Brett Favre And The Collapse Of Conservative Government In Mississippi",
          "Fascism Is On The Rise In Europe, Not Just In The U.S. | The Mehdi Hasan Show",
          "‘Outrageous’ That Trump Would Pardon Insurrectionists Says Rep. Lofgren",
          "FBI Serves MyPillow CEO Mike Lindell With Search Warrant",
          "Biden Announces Investment In Electric Vehicle Charging Stations",
          "Jeh Johnson: Trump Holding Onto Classified Docs Signals To Allies That ‘America Cannot Be Trusted.’",
          "Sen. Elizabeth Warren: Trump ‘Is Putting The Security Of The U.S. At Risk And He Must Be Stopped.’",
          "The Michigan GOP's Lies About Abortion",
          "Watch Morning Joe Highlights: September 14 | MSNBC",
          "John Fetterman Needs To Debate More Than Once, Says WaPo Editorial Board",
          "DC Police Officer Left With Scars After Jan. 6 Rioter Tased Him",
          "Joe: Sen. Graham Seemed To Put More Fuel On The Fire With Abortion Proposal",
          "Claire McCaskill: Mike Lindell Got A Little Piece Of Law Yesterday",
          "New Unsealed Parts Of Trump Affidavit Show Timeline On Surveillance Video Subpoena",
          "Russia In Secret Spent $300M To Influence Foreign Elections, Says U.S. Official",
          "Watch The Last Word With Lawrence O’Donnell Highlights: Sept. 13",
          "Republican Power Grab In The Judiciary Warps Midterm Election Dynamic",
          "Report: DOJ Takes Steps Not To Rush Trump Investigations",
          "Lindsey Graham Hands Democrats A Gift With Federal Abortion Ban Proposal",
          "Where Are The Lawyers Rushing To Represent Trump?",
          "Joy Reid: Lindsey Graham Has Now Said Midterms Are About Whether Women Are Going To Be Full Citizens",
          "‘Trump Has Attacked The Institutions Of Civil Society’: Expert On New Barr DOJ Allegations",
          "Klobuchar On The GOP Federal Abortion Ban: 'It’s Much Worse Than It Sounds'",
          "Montana Still Reeling GOP-Led Covid Policies | The Mehdi Hasan Show",
          "Former U.S. Attorney Berman Reveals How Trump Weaponized The DOJ",
          "DOJ Issues 40 Subpoenas In Just One Week | Zerlina.",
          "Could This Section Of The Constitution Keep Trump From A 2024 Bid? | The Mehdi Hasan Show",
          "Judge Unseals More Portions Of Mar-a-Lago Search Warrant Affidavit",
          "BREAKING: Judge Hands Down Guilty Verdicts To Two Jan. 6 Defendants",
          "Bill Gates On Why Artificial Intel Will Change Everything And What We Owe Africa | Melber Intv",
          "Joyce Vance: ‘If Berman's Tales Are Borne Out, They Are Very Serious.’",
          "Watch Morning Joe Highlights: September 13 | MSNBC",
          "National Debate Over Abortion At The Heart Of Michigan Midterms",
          "War Correspondent Returns Home To Document 'The Storm Is Here'",
          "How The Republican Party Came To Embrace Conspiracy",
          "Rep. Kinzinger: Trump Brought Heaps Of Fear Into The Republican Party",
          "Former U.S. Attorney: DOJ Pushed Us And Pushed Us On John Kerry",
          "Rep. Ryan Criticizes Challenger's Campaign: 'Dude Took The Whole Summer Off'",
          "Circles Close In On Highest Levels Of Government As DOJ Issues Dozens Of Subpoenas",
          "Watch Rachel Maddow Highlights: Sept. 12",
          "Watch The Last Word With Lawrence O’Donnell Highlights: Sept. 12",
          "Zelenskyy Has Choice Words For Putin As Ukraine Makes Remarkable Progress Repelling Russia",
          "How Trump Loyalists In The DOJ Pushed Prosecutors To Protect 'Individual-1'",
          "DOJ Issues 40 Subpoenas In One Week In Jan. 6 Probe",
          "Support For Putin's War Wavers On Russian State TV",
          "Former U.S. Attorney Details Trump, Barr Efforts To Corrupt DOJ With Political Agenda",
          "Lawrence: Trump Lawyers Respond To DOJ With Stunningly Childish Argument",
          "Chief Justice Confused By Questioning SCOTUS's Legitimacy After Roe Decision",
          "‘They Belong To The Country And People’: Legal Expert On Docs Trump’s Lawyers Say He Has Rights To",
          "Alaska Rep-Elect After Beating Sarah Palin: ‘No American Is My Enemy’",
          "Russian State TV Pundits Openly Question Ukraine War",
          "A Network Of Local Sheriffs Is Helping To Spread The 'Big Lie' | The Mehdi Hasan Show",
          "DOJ Subpoenas 40 Trump Associates Over Jan. 6 Investigation",
          "'Substantial Escalation' In Jan. 6 Probe As DOJ Seizes Phones From 'Top' Trump Aides",
          "Weissmann: We Either Have A System Where We’re All Accountable To Law Or We Don’t",
          "Jan 6th Committee Members Prepare To Work Until The Bitter End",
          "Putin Has Put Himself In A Terrible Box In Ukraine, Says Retired General",
          "Watch Morning Joe Highlights: September 12 | MSNBC",
          "How To Fight Back Against What Author Calls 'Broken News'",
          "Chances 'Very High' Trump Will Be Indicted, Says Former Lawyer",
          "George Will: I Think The Republican Party Will Regain Its Voice",
          "Reproductive Rights A Key Issue Ahead Of The Midterms",
          "Majority See MAGA GOP Threatening The Foundations Of Democracy, Polling Shows",
          "'Desperation For Power, Money': Author Charts Giuliani's Rise And 'Tragic Fall'",
          "President Biden Honors 9/11 Victims 21 Years After Attacks",
          "Russian Forces Retreat As Ukrainian Forces Advance",
          "Trump Asks Judge To Pass Cost Of “Special Master” To The American Taxpayer",
          "Rising Number Of Women Voters Raises More Questions For The Midterms",
          "Vice President Harris: 'I Wouldn’t Dare Tell The Department Of Justice What To Do'",
          "Federal Judge Rules Anti-HIV Medicine Is Unconstitutional",
          "Florida’s Election Police Unit Targets Formerly Imprisoned People",
          "Trump Faces A Deluge Of Legal Woes",
          "Tennessee Abortion Ban Creates Chaos And Confusion",
          "ADL Finds Hundreds Of Law Enforcement Officers In Far-Right Extremist Group",
          "The Future Of Abortion Rights In Michigan Will Be Decided By Voters In November",
          "President Biden Accepts Invitation To Attend Queen Elizabeth's Funeral",
          "The U.S. Faces A New Type Of Threat 21 Years After The 9/11 Attacks",
          "DHS Sec. Mayorkas On Threats At Home And Abroad As U.S. Marks 21 Years Since 9/11",
          "Biden Commemorates 21st Anniversary Of 9/11 Attacks",
          "Millions Could Again Face The Troubles If Northern Ireland Protocol Is Scrapped",
          "Investigations Into Trump’s Actions To Overturn The 2020 Election Widen",
          "Republicans Prepare For Voter Backlash Following Overturn Of Roe",
          "DOJ And National Security Experts Raise Concern Over Delaying Trump Mar-a-Lago Probe",
          "373 Members Of Law Enforcement Found On Oath Keepers Membership Rolls",
          "Velshi: Mixed Feelings About the Monarchy? Why You’re Not Alone. ",
          "Russia Pulls Out Troops From Areas Of Ukraine's Kharkiv Region",
          "Rep. Pramila Jayapal Links Rising Threats Against Lawmakers To GOP Rhetoric",
          "Kehinde Andrews: The Monarchy Represented The Racism That My Generation Felt",
          "Watch Alex Wagner Tonight Highlights: Sep. 9",
          "Watch All In With Chris Hayes Highlights: Sept. 9",
          "Queen's Passing, Monarchy's Legacy Could Push Tenuous Commonwealth Into Collapse",
          "LGBTQ Advocates Unwilling To Cede Ground On Rights To Extremist GOP Candidates",
          "Trump’s Legal Team Submit Their Proposed Picks For Special Master",
          "Expert To DOJ On Trump: Return An Indictment Against Someone Who's Been Criming In Light Of Day",
          "Trump, DOJ Each Propose Two Potential Special Master Candidates For Mar-a-Lago Documents",
          "Royal Expert: King Charles III Extended Olive Branch To Harry And Meghan. Will Rift Be Healed?",
          "The Monarchy And Colonialism | Zerlina.",
          "Texas Podcaster Ted Cruz's Failed Attempt To Troll California",
          "Why Trump Should Be Worried About DOJ's Probe Of His Post-Election Fundraising",
          "Stefanik 'Maintains A Separate Set Of Rules' For The Rich Says Challenger | The Katie Phang Show",
          "Michael Cohen: Bill Barr ‘Is A Coward’ | The Katie Phang Show",
          "GOP Plans Impeachment Of Biden Officials If They Win Back House | The Katie Phang Show",
          "Hot Button Cultural Issues Become Winning Topics For Democrats",
          "Trump Faces Monday Deadline To Respond To DOJ Filing",
          "Full Speech: King Charles III Promises ‘Lifelong Service’ After Death Of Queen Elizabeth II",
          "Watch Morning Joe Highlights: September 9 | MSNBC",
          "Republicans Out Of Touch With Where Most Americans Are, Says Senator"
         ],
         "type": "scatter",
         "x": [
          -0.11301326530612243,
          -0.04155656565656565,
          -0.0866265306122449,
          0.21529898989898985,
          -0.0011295918367346957,
          -0.059487,
          0.039290909090909085,
          -0.12389285714285714,
          -0.0632561224489796,
          -0.019534693877551024,
          -0.04794300000000001,
          0.0009545454545454646,
          -0.12753838383838378,
          0.03318144329896905,
          -0.038519999999999985,
          -0.013578571428571435,
          -0.033970408163265325,
          -0.0005363636363636381,
          0.1978393939393938,
          -0.12015656565656567,
          -0.086971,
          -0.027471000000000002,
          0.0000262626262626301,
          -0.006951515151515152,
          0.035687878787878796,
          -0.27089489795918364,
          0.07121458333333335,
          -0.053521649484536096,
          -0.03869278350515464,
          -0.028151515151515146,
          0.0017979591836734651,
          0.05034123711340207,
          -0.10015714285714285,
          -0.160769387755102,
          -0.0344222222222222,
          -0.08673199999999999,
          -0.15065100000000003,
          -0.06724000000000002,
          -0.17112099999999997,
          0.042659183673469374,
          -0.11730000000000007,
          -0.026275000000000003,
          0.01654141414141414,
          -0.008426804123711345,
          -0.21082842105263158,
          0.13350102040816325,
          -0.03008673469387756,
          0.0755112244897959,
          -0.013664646464646463,
          0.04981326530612243,
          -0.25359090909090914,
          -0.046177777777777776,
          -0.04817070707070707,
          0.04169599999999999,
          0.023314285714285742,
          -0.19444123711340192,
          -0.01942929292929292,
          -0.0027059999999999905,
          -0.06372499999999998,
          -0.13469081632653057,
          -0.07742395833333333,
          -0.09200322580645164,
          -0.08939381443298967,
          -0.04285858585858583,
          -0.10113020833333335,
          0.23747700000000008,
          0.152273,
          0.008917171717171716,
          -0.07503473684210525,
          -0.095394,
          -0.07751874999999998,
          -0.07216836734693872,
          -0.078183,
          -0.057776767676767656,
          -0.050104123711340216,
          -0.11107373737373741,
          -0.09474183673469389,
          -0.016656989247311828,
          -0.08901546391752578,
          -0.018723232323232315,
          -0.12966868686868685,
          -0.05534942528735631,
          -0.1799244897959183,
          -0.0830897959183673,
          -0.14388202247191012,
          -0.10802040816326533,
          -0.07156836734693879,
          0.00036530612244896766,
          0.05237551020408162,
          -0.09943400000000004,
          0.0639875,
          -0.10249700000000005,
          -0.07466363636363638,
          -0.012446000000000023,
          -0.03736868686868687,
          -0.06546868686868688,
          -0.0006520000000000142,
          -0.028149494949494973,
          -0.026965999999999997,
          -0.10410505050505056,
          -0.17534499999999995,
          -0.051474,
          0.07947979797979804,
          0.17207699999999998,
          0.012077999999999998,
          -0.04497171717171717,
          -0.034634343434343434,
          -0.166809,
          -0.1131969072164948,
          0.019621,
          0.033794791666666664,
          -0.058321,
          -0.19683737373737384,
          0.047505000000000006,
          -0.029101,
          -0.02048200000000001,
          -0.06333600000000003,
          -0.04898400000000001,
          0.03261100000000001,
          -0.12125300000000001,
          -0.1203215053763441,
          -0.069006,
          -0.024592000000000006,
          -0.11158200000000004,
          -0.03199285714285715,
          -0.10945099999999996,
          -0.024911999999999986,
          -0.33896499999999996,
          -0.11255050505050505,
          -0.14627199999999999,
          -0.149671,
          -0.042198,
          -0.046198989898989906,
          -0.023143000000000007,
          -0.10640199999999997,
          0.03685599999999998,
          0.04584599999999999,
          0.06816199999999997,
          -0.020471000000000003,
          -0.16734499999999997,
          -0.13192777777777773,
          -0.06583699999999998,
          -0.07198181818181819,
          -0.07632371134020619,
          -0.06878299999999998,
          -0.019726000000000004,
          -0.166367,
          0.045764285714285736,
          0.09410303030303035,
          -0.044501999999999986,
          0.010228000000000008,
          -0.10253200000000001,
          -0.04980900000000001,
          0.013434,
          -0.07810199999999998,
          -0.081516,
          -0.10036300000000001,
          0.002158585858585865,
          -0.12107979797979798,
          -0.08188799999999999,
          0.060876,
          -0.008955789473684205,
          0.02916699999999999,
          -0.06788199999999998,
          0.050805050505050485,
          0.026256999999999975,
          -0.14324,
          -0.08691958762886595,
          -0.02303299999999999,
          -0.02219199999999999,
          0.024178999999999996,
          -0.10342999999999998,
          0.10678799999999995,
          -0.11682700000000003,
          0.03899899999999999,
          -0.07949393939393942,
          -0.17108000000000004,
          0.021839000000000018,
          -0.03942499999999996,
          -0.0830298969072165,
          0.02956299999999999,
          0.026056250000000003,
          -0.035038383838383855,
          -0.11105612244897958,
          -0.3319666666666666,
          -0.24849797979797972,
          -0.043772289156626495,
          -0.21059799999999995,
          -0.009250999999999999,
          0.027245000000000016,
          -0.08512400000000003,
          0.008554545454545445,
          -0.191887,
          0.051647,
          -0.017941000000000006,
          -0.1574939999999999,
          -0.02492399999999999,
          -0.07179799999999997,
          0.04721800000000001,
          0.023306999999999998,
          -0.036969,
          0.29047999999999996,
          -0.02919,
          -0.098942,
          0.0009410000000000063,
          -0.07693232323232324,
          -0.14761499999999994,
          -0.111479,
          -0.135405,
          -0.09338899999999999,
          -0.178814,
          0.03044444444444443,
          -0.053329999999999995,
          -0.09751799999999995,
          0.10417938144329898,
          -0.011625000000000003,
          0.009745999999999982,
          -0.11214199999999995,
          -0.19526499999999994,
          -0.046789000000000004,
          -0.025349,
          -0.060730000000000034,
          -0.041164000000000006,
          -0.05865099999999998,
          0.06017899999999999,
          -0.034022,
          0.18501326530612247,
          -0.030777000000000006,
          -0.18317499999999998,
          -0.17662061855670105,
          -0.08330600000000002,
          -0.12031299999999998,
          0.04411500000000001,
          -0.15148800000000004,
          0.30140699999999987,
          -0.07356020408163264,
          -0.05950927835051546,
          -0.10627199999999998,
          -0.098415,
          -0.12615,
          -0.022455000000000013,
          -0.09318199999999999,
          0.003265,
          -0.08841999999999998,
          -0.06847500000000001,
          -0.06651499999999996,
          -0.004779000000000008,
          -0.16448099999999996,
          -0.09053399999999995,
          -0.095046,
          0.026157999999999983,
          0.009091000000000009,
          0.10145499999999996,
          -0.06646799999999999,
          -0.08286875,
          -0.20013499999999998,
          -0.11485899999999999,
          -0.15710099999999996,
          -0.042841,
          0.0067730000000000125,
          -0.000911000000000004,
          -0.30820599999999987,
          -0.23249799999999998,
          -0.10142800000000002,
          0.019349999999999982,
          -0.181537,
          -0.026400999999999997,
          -0.16111099999999998,
          -0.19345299999999996,
          -0.16379100000000002,
          -0.030544,
          -0.20303199999999993,
          -0.20113571428571422,
          0.040604999999999995,
          -0.024244000000000022,
          0.0024149999999999905,
          0.044869000000000006,
          0.026595999999999998,
          -0.08351900000000001,
          -0.04041399999999998,
          0.069573,
          -0.18118199999999995,
          0.017717,
          -0.06506800000000004,
          -0.03465,
          -0.06609494949494951,
          -0.040753535353535375,
          0.021832999999999995,
          -0.081662,
          0.19990499999999997,
          -0.014135,
          -0.062208000000000006
         ],
         "xaxis": "x",
         "y": [
          73937,
          110528,
          34766,
          98616,
          336040,
          155564,
          422040,
          148665,
          135447,
          766426,
          352885,
          42728,
          305203,
          63744,
          536617,
          221557,
          210382,
          265370,
          283858,
          108326,
          273086,
          172639,
          1499384,
          181056,
          201713,
          307121,
          1014013,
          538323,
          487964,
          527477,
          419913,
          554470,
          130676,
          104468,
          191199,
          122289,
          80538,
          271920,
          40481,
          390450,
          22947,
          94463,
          353031,
          340414,
          97196,
          415385,
          158056,
          425526,
          950275,
          291427,
          264518,
          435260,
          63742,
          526687,
          891234,
          37168,
          160083,
          184682,
          130026,
          69485,
          21163,
          369071,
          55008,
          1872285,
          284315,
          83980,
          334134,
          182253,
          270965,
          245935,
          102070,
          82980,
          203499,
          45745,
          401356,
          1249333,
          142577,
          198872,
          135088,
          222074,
          179776,
          21426,
          95137,
          335260,
          140430,
          625227,
          30993,
          145666,
          22002,
          68818,
          15418,
          17489,
          39309,
          39153,
          50950,
          655553,
          132834,
          42742,
          101733,
          31087,
          145951,
          40076,
          63024,
          169984,
          9824,
          43343,
          40728,
          44305,
          72934,
          95957,
          81303,
          29064,
          253272,
          59252,
          55057,
          89855,
          225980,
          395992,
          18514,
          83757,
          196966,
          192464,
          196187,
          57460,
          333346,
          174560,
          104851,
          639945,
          130639,
          1276578,
          144067,
          52563,
          143910,
          206279,
          41974,
          205438,
          31711,
          69348,
          385320,
          164692,
          200977,
          179452,
          19614,
          553165,
          318406,
          50581,
          15394,
          406641,
          77388,
          123220,
          16205,
          60851,
          20467,
          44459,
          440712,
          600175,
          114244,
          94588,
          411270,
          248325,
          186047,
          156861,
          83743,
          812756,
          207406,
          36419,
          12000,
          298802,
          154051,
          255686,
          319201,
          104911,
          40049,
          63890,
          18173,
          486869,
          138739,
          304007,
          134408,
          215351,
          122855,
          490249,
          759479,
          536317,
          87964,
          616044,
          189417,
          71973,
          193393,
          9879,
          153714,
          78239,
          94393,
          547126,
          15946,
          16349,
          58651,
          249602,
          217134,
          40186,
          142085,
          92530,
          47754,
          75802,
          80710,
          149462,
          217434,
          201453,
          235386,
          103761,
          65483,
          470247,
          578726,
          342990,
          61872,
          237167,
          554890,
          17742,
          51222,
          216586,
          388559,
          92006,
          121454,
          236318,
          518235,
          319515,
          206834,
          182395,
          128338,
          333143,
          424444,
          1114967,
          479450,
          185955,
          104886,
          1250729,
          308786,
          257419,
          1255363,
          223500,
          228632,
          754495,
          254555,
          123779,
          338880,
          158782,
          22827,
          97495,
          357538,
          28748,
          78245,
          874106,
          172050,
          50634,
          445178,
          31118,
          470797,
          56163,
          57025,
          108618,
          143642,
          50106,
          25523,
          39123,
          54787,
          276559,
          368923,
          376201,
          205246,
          120987,
          635780,
          63970,
          46976,
          126809,
          373119,
          25211,
          56457,
          163727,
          910404,
          301034,
          72037,
          15141,
          840463,
          1007859,
          103351,
          914743,
          519080,
          39267,
          670782,
          276762,
          104769,
          406407
         ],
         "yaxis": "y"
        },
        {
         "hovertemplate": "<b>%{text}</b> <br>Sentiment Value: %{x} <br>Like Count: %{y}",
         "marker": {
          "color": "Red"
         },
         "mode": "markers",
         "name": "Like Count",
         "text": [
          "Trump Admits To Willful Retention Of Documents In Hannity Interview",
          "Joy Reid: Trump May Have Indicated He Intentionally Sent Docs To Mar-a-Lago",
          "DeSantis Investigated And Sued Over Migrant Flights | The Katie Phang Show",
          "Burn: See MAGA-Era Science Lies Roasted And Debunked By Neil DeGrasse Tyson",
          "'Lunatic': Michael Cohen Demolishes Trump On Declassifying Docs 'By Thinking'",
          "Trump Tries A Familiar Defense With NY AG Lawsuit: Throwing Other People Under The Bus",
          "Miles Taylor: Trump Seems To Think His Presidential Powers Continue",
          "Trump Attorney Sidney Powell Expected To Testify In Georgia Grand Jury Investigation",
          "Classified Docs Often Contain 'Life Or Death' Intel. Trump Can't Just 'Wish It Away': Rep. Crow:",
          "'This Reversal Will Be A Permanent Part Of Judge Cannon's Legacy': Dave Aronberg",
          "'Documents Don't Lie; Square Footage Doesn't Lie': Caroline Polisi",
          "Trump Charges?: Anticipated Jan. 6 Report Hits #1 On US Book Chart Before It Is Released",
          "Sen. Durbin: It Troubles Me Greatly Some Of My Colleagues Won't Speak Out Against The Big Lie",
          "Ginni Thomas Agrees To Meet With The Jan. 6 Committee",
          "Trump Claims He Could Declassify Documents Just By Thinking About It",
          "Watch The ReidOut Highlights: Sept. 21",
          "Appeals Court Goes 'Chapter And Verse' Against Judge Cannon",
          "Watch All In With Chris Hayes Highlights: Sept. 21",
          "Watch The Beat With Ari Melber Highlights: Sept. 21",
          "Trump Progeny, Eric, Ivanka, Jr., Inextricably Tied To Trump Org And Its Legal Woes",
          "Deep Dive Into Trump’s Finances",
          "Trump Took Advantage Of Fact That We're Not Tough On White Collar Crimes Expert Alleges",
          "Lawrence: Trump Could Now Lose Everything Including His Freedom",
          "‘Trump Family Was Running Fraud Business With A Real Estate Sideline’ Expert Alleges",
          "Appeals Court Rejects Part Of Trump Judge's Ruling, Allows DOJ To Resume Doc Review",
          "Tracking The Brazen Pattern Of Trump Fraud",
          "Michael Cohen: Trump Fraud Lawsuit Will ‘Put An End To The Entire Con’",
          "Why Is NY State Trying To End Trump Org. Over Fraud? Report On The 'Lies' And Receipts",
          "Double Charges?: Trump Facing Two 'Criminal Referrals' In Explosion Of 2022 NY Probe",
          "Complaint From NY AG James Has ‘Devastating Range’: Neal Katyal",
          "Judge Dearie Simply Applied The Facts And The Law: Joyce Vance",
          "Master vs. MAGA: Team Trump Rebuked In Court Over Stolen Docs",
          "Trump Has 'Never Been Held Accountable' To The Extent NY AG Is Now Seeking: Peter Baker",
          "How Will NY AG Lawsuit Impact Trump And GOP Campaign Plans?",
          "Documents Filed By Trump, Family Members Show Inflation Of Property Values: Court Docket",
          "Melber: NY AG’s Lawsuit Against Trump Is ‘Most Severe’ Outcome Of Investigation",
          "Trump Lawyers Accuse NY AG Of Advancing 'Political Agenda' With Lawsuit",
          "BREAKING: New York AG Announces Lawsuit Against Trump Over Business Fraud",
          "Biden Calls On U.N. To 'Hold Russia Accountable' For War In Ukraine",
          "Watch The Last Word With Lawrence O’Donnell Highlights: Sept. 20",
          "Gov. DeSantis Is Not Solving A Problem, It Is Not A Solution: WH Press Secretary",
          "Elise Jordan: DeSantis' Migrant Flights Are Just 'So Damn Wasteful'",
          "'Presidents have declassification authority, but not in this way'",
          "Watch All In With Chris Hayes Highlights: Sept. 20",
          "Putin Mobilizes More Troops For Ukraine War, Threatens Nuclear Retaliation",
          "Special Master To Trump: Put Up Or Shut Up",
          "Trump Delay Tactics Stumble Over Straight-Shooting Special Master",
          "Laurence Tribe Predicts Whether AG Merrick Garland Will Indict Trump",
          "Lawrence: Donald Trump Is Facing A Judge Who's Not Playing Games",
          "New Report: Trump's W.H. Lawyer Warned Him Against Taking Documents To Mar-a-Lago",
          "Just How Close Is The U.S. To A Civil War? | The Mehdi Hasan Show",
          "The Non-Lawyer Who Is Giving Trump Legal Advice On The Mar-a-Lago Case",
          "U.S. Ambassador To U.N. Slams GOP Governors For ‘Using Immigrants As Political Pawns’",
          "Trump Indictment Next?: Why The Blockbuster Jan. 6 Report May Change Everything",
          "Weissmann: Dearie’s Message To Trump Lawyers Is ‘If You Don’t Put Up’ You Won’t Get Relief",
          "House To Vote This Week On Electoral Count Act Update",
          "NBC Poll Shows How Donald Trump Is ‘Uniquely Capable Of Dividing The Republican Party’",
          "Special Master Questions Trump Lawyers Over Which Seized Documents Were Declassified",
          "Feds Charge 47 People Who Defrauded $250M From Federal Pandemic Child Nutrition Program",
          "Trump Ally Mike Lindell Must Face Defamation Suit Over Election-Rigging Claims",
          "'Despicable': DeSantis Is Using Migrants As 'Pawns In A Political Stunt' - Sen. Chris Coons",
          "Watch Morning Joe Highlights: September 20 | MSNBC",
          "Protests Break Out In Iran After Woman Dies While In ‘Morality Police’ Custody",
          "Jared And Ivanka Walk Out During 'Biggest Crisis Of The Trump Presidency'",
          "GOP Colleague Mocked 'Orange Jesus' Trump On Jan. 6, Says Rep. Cheney",
          "Democratic Candidate Has 22-Point Lead Over GOP Challenger",
          "Trump Drew 'Great Hand' From Judge Cannon, But It May Not Fly With Special Master",
          "Watch The Last Word With Lawrence O’Donnell Highlights: Sept. 19",
          "Watch All In With Chris Hayes Highlights: Sept. 19",
          "Barbara McQuade: Why Trump's Lawyers Want To Delay Answer On Declassification",
          "Watch The ReidOut Highlights: Sept. 19",
          "Book Outlines Trump's Desire To Sow Divisions Throughout American Life",
          "Trump Refuses To Share Declassification Defense",
          "‘Our Institutions Can’t Save Us’ From Threats To Democracy",
          "Weissmann: This Is The 'World's Worst Set Of Facts' For Trump",
          "Lawrence: Trump’s Chances Of Indictment May Have ‘Skyrocketed’",
          "GOP Leaders Slammed For Allegedly Transporting Migrants Under False Pretenses",
          "Trump 'Is Merging MAGA With QAnon' Journalist David Corn Says",
          "'Stunt Governor': Why DeSantis May Not Be The Star The GOP Is Looking For",
          "Trump Panders To QAnon Movement At Rally In Most Explicit Embrace Yet",
          "Can Ukraine Secure Victory Without More Russian Escalation? | The Mehdi Hasan Show",
          "Mehdi: No, President Biden, The Pandemic Is Not Over | The Mehdi Hasan Show",
          "The Proud Boys' National Security Threat Began Long Before 1/6 | The Mehdi Hasan Show",
          "MAGA’S 'Weaponized Lies': Trump Touts QAnon, Posing Danger For GOP Ahead Of Midterms",
          "More Republicans Refuse To Vow To Accept Election Results",
          "Frank Figliuzzi Calls Trump’s QAnon Embrace ‘The Last Act Of A Desperate Man’",
          "Calls For Criminal Investigation After 'Manipulated' Migrants Flown To Martha's Vineyard",
          "House To Vote On Bipartisan Elections Bill To Prevent Another Jan. 6",
          "President Biden Seeks To Restore Trust In American Democracy",
          "Political Theater, “Candidate Quality” Signal Trouble For Republicans Come November",
          "Martha’s Vineyard Community Welcomes Venezuelan Migrants With Open Arms",
          "Rep. Deborah Ross: 'People Are Just Outraged' Over Abortion Restrictions",
          "How Fox News Inspired GOP Governors’ Migrant Busing Stunt",
          "'The Republicans Don’t Stand For Anything': Tom Perez Weighs In On Approaching Midterms Elections",
          "President Biden Arrives At Westminster Abbey For State Funeral Of Queen Elizabeth II",
          "Trump’s Indictment Is ‘Unavoidable’ In Mar-a-Lago Case, Says Former Prosecutor",
          "Sen. Graham Flip-Flops On State’s Rights, Proposes National Abortion Ban",
          "DeSantis Builds Upon the Long History of Bigots Busing Unwanted Minorities North",
          "Justice Kagan Warns Legitimacy Of Supreme Court Is On The Line",
          "Democrats And Republicans In Dead Heat In New NBC News Poll",
          "Rep. Ted Lieu: “In America, The Law Is Applied Equally. No One Is Above The Law.”",
          "Republicans Push For A Constitutional Convention",
          "Sen. Leahy: If The Senate Doesn’t Repair Itself, ‘We Are In Deep Trouble In This Country’",
          "Puerto Rico's Power Knocked Out As Hurricane Fiona Approaches",
          "Abortion To Be Key Issue Ahead Of The Midterms",
          "NYC Mayor Adams: Bussing Migrants Is \"Inhumane And Anti-American\"",
          "Hobbs: Election Deniers Are ‘Dangerous' And 'Don't Understand How Elections Even Work’",
          "Newly Arriving Migrants Deceived By Misinformation From Abbott And DeSantis",
          "Family Of Transgender Child In Texas Speaks Out On Gov. Abbott’s Attacks",
          "President Biden, First Lady Arrive In London To Attend Funeral For The Queen",
          "Are Black Men The Key To Stacey Abrams Becoming Georgia's Next Governor?",
          "The Real World Consequences Of A Nationwide Abortion Ban",
          "DOJ Appeals Judge's Decision To Delay Criminal Investigation",
          "Massachusetts State Rep. On Migrants Sent To Martha's Vineyard",
          "Velshi: The British Empire Was Brutal. The Commonwealth Was A Consolation Prize.",
          "Watch The ReidOut Highlights: Sept. 16",
          "Watch All In With Chris Hayes Highlights: Sept. 16",
          "Watch The Beat With Ari Melber Highlights: Sept. 16",
          "DeSantis Takes Page From Autocrats' Playbook With Migrant Plane Stunt",
          "Trump Goal Of Discrediting Courts Plays Out In Mar-a-Lago Special Master Case",
          "Victims Of DeSantis' Cruel Migrant Plane Prank Appear To Have Law On Their Side",
          "DOJ Files Appeal In Trump Docs Case",
          "Mark Meadows Now Has 'Hot Potato' Of Culpability For Mar-a-Lago Docs Legal Expert Says",
          "DeSantis Migrant Stunt Reminiscent Of Deceptive ‘Reverse Freedom Rides’ From 60's",
          "DOJ Asks Appeals Court For Stay To Allow Investigation, Assessment Of Mar-a-Lago Docs",
          "New Reporting On The Trump Lies Leading Up To The Mar-a-Lago Search",
          "GOP Candidates Distance Themselves From Trump After Primary Wins",
          "Boston Children's Hospital Becomes Latest Target Of MAGA-Right Threats",
          "'Outrageous' 'Untethered': DOJ Vets Slam Judge's Ruling On Trump's Stolen Docs",
          "DOJ Corners Trump As 'Newspaper Clippings' Defense Shredded By Stolen Doc Photos",
          "'Barr Did The Bidding Of The President And Politicized The DOJ' Says Fmr. U.S. Attorney",
          "DeSantis, Abbott Using Migrants As Political Pawns | The Katie Phang Show",
          "China’s Xi Not On Board With Putin’s War In Ukraine | The Katie Phang Show",
          "Paul Butler: Judge Cannon ‘Partially Joining Donald Trump’s Defense Team’ | The Katie Phang Show",
          "Charlie Sykes: Desantis And Abbott Are Using ‘Theater Of Cruelty’",
          "‘DOJ Has No Option But To Appeal’: Brandon Van Grack",
          "Biden Moves To Reshape Courts With Diverse Judicial Nominations",
          "We Are Reaching A Breaking Point As A Country, Says Strategist",
          "Watch Morning Joe Highlights: September 16 | MSNBC",
          "Trump's Nightmare?: Feds Seize Another MAGA Insider's Phone As Jan. 6 Probe Escalates",
          "MTG Appears To Kick Activist In Video",
          "'The Trumpiest Thing That A Trump Judge Has Ever Written'",
          "Hillary Clinton: We Should All Be Treated Equally Before The Law",
          "In Warning Over Indictment, Trump Seems To See Himself As Bigger Than The Law",
          "Watch All In With Chris Hayes Highlights: Sept. 15",
          "Hillary Clinton: Abortion Bans 'Could Not Be More Serious And More Deadly'",
          "Joe: There Is A Border Crisis, But Political Human Trafficking Is Grotesque",
          "Watch The Last Word With Lawrence O’Donnell Highlights: Sept. 15",
          "Fetterman Moves On From Stroke With New Empathy And Renewed Disdain For GOP Cruelty",
          "Special Master Appointed In Trump Docs Case",
          "Reverse Freedom Rides: DeSantis GOP Stunt Has Been Attempted Before",
          "Trump Court Stacking Project Bears Fruit In Case Against DOJ Search",
          "GOP Governors Follow Shameful History With Cruel Stunt Abusing Migrants",
          "Massachusetts AG Candidate Blasts Gov. DeSantis’s ‘Political Stunt’",
          "Lawrence: Trump Has Poisoned The Federal Judiciary",
          "'Outrageous And Stupid': Legal Experts Excoriate Trump Judge's New Ruling",
          "Glenn Kirschner On Trump Investigations | Zerlina.",
          "DeSantis Takes Credit For Sending Migrants To Martha’s Vineyard In ‘Inhumane Political Stunt’",
          "Joyce Vance: Mar-a-Lago Investigation ‘Just Keeps Getting Worse’ For Trump",
          "‘Atrocity’: Former Federal Prosecutor On Trump Judge’s Ruling In Mar-a-Lago Case",
          "BREAKING: Judge Denies DOJ Request To Carve Out Access To Mar-a-Lago Docs, Appoints Special Master",
          "Watch #AOC Go After Rep. Higgins For How He Treated A #witness",
          "The Divide In The Republican Party Grows Deeper As Midterms Approach | ScreenShare",
          "Neal Katyal: Obstruction Case Against Trump Is ‘Very Strong’",
          "Herschel Walker Hits Warnock On Race In New Attack Ad | ScreenShare",
          "Trump Wanted To 'Bus And Dump' Migrants Into Democratic Cities Says Fmr. DHS Official",
          "Biden Administration Will Counter Hate-Fueled Violence With 'Every Tool Available'",
          "Jan. 6 Rioter Who Wore 'Camp Auschwitz' Sweatshirt Sentenced To Prison",
          "Russia’s Putin And China’s Xi Meet For First Time Since Ukraine Invasion",
          "DOJ Awaits Judge Cannon’s Ruling On Mar-a-Lago Documents",
          "Watch Morning Joe Highlights: September 15 | MSNBC",
          "New Texts Shed More Light On Welfare Scandal Involving Brett Favre",
          "DeSantis Flies Two Planes Full Of Migrants To Martha's Vineyard",
          "Elise Jordan: Graham Proceeding With Abortion Bill The Way He Did With Failed Presidential Run",
          "Biden's Job Approval Gets Boost In New Polling",
          "Trump Advisers Fear DOJ Probes More Expansive Than Publicly Known: Report",
          "Watch All In With Chris Hayes Highlights: Sept. 14",
          "Watch The Last Word With Lawrence O’Donnell Highlights: Sept. 14",
          "David Enrich On Why Trump Can't Find Top-Notch Lawyers | One-on-One With Stephanie Ruhle",
          "Brett Favre And The Fleecing Of America",
          "Jan. 6 Committee Gets Trove Of New Evidence",
          "'They Know What They're Fighting For': Ukraine Dominates Putin's Army",
          "Lawrence: Another One Of Trump's Lawyers Is In Very Serious Trouble",
          "What The FBI Seizing MyPillow CEO's Phone Tells Us About MAGA Extremism",
          "Trump Continues To Make Martyr Out Of Capitol Rioter",
          "Brett Favre And The Collapse Of Conservative Government In Mississippi",
          "Fascism Is On The Rise In Europe, Not Just In The U.S. | The Mehdi Hasan Show",
          "‘Outrageous’ That Trump Would Pardon Insurrectionists Says Rep. Lofgren",
          "FBI Serves MyPillow CEO Mike Lindell With Search Warrant",
          "Biden Announces Investment In Electric Vehicle Charging Stations",
          "Jeh Johnson: Trump Holding Onto Classified Docs Signals To Allies That ‘America Cannot Be Trusted.’",
          "Sen. Elizabeth Warren: Trump ‘Is Putting The Security Of The U.S. At Risk And He Must Be Stopped.’",
          "The Michigan GOP's Lies About Abortion",
          "Watch Morning Joe Highlights: September 14 | MSNBC",
          "John Fetterman Needs To Debate More Than Once, Says WaPo Editorial Board",
          "DC Police Officer Left With Scars After Jan. 6 Rioter Tased Him",
          "Joe: Sen. Graham Seemed To Put More Fuel On The Fire With Abortion Proposal",
          "Claire McCaskill: Mike Lindell Got A Little Piece Of Law Yesterday",
          "New Unsealed Parts Of Trump Affidavit Show Timeline On Surveillance Video Subpoena",
          "Russia In Secret Spent $300M To Influence Foreign Elections, Says U.S. Official",
          "Watch The Last Word With Lawrence O’Donnell Highlights: Sept. 13",
          "Republican Power Grab In The Judiciary Warps Midterm Election Dynamic",
          "Report: DOJ Takes Steps Not To Rush Trump Investigations",
          "Lindsey Graham Hands Democrats A Gift With Federal Abortion Ban Proposal",
          "Where Are The Lawyers Rushing To Represent Trump?",
          "Joy Reid: Lindsey Graham Has Now Said Midterms Are About Whether Women Are Going To Be Full Citizens",
          "‘Trump Has Attacked The Institutions Of Civil Society’: Expert On New Barr DOJ Allegations",
          "Klobuchar On The GOP Federal Abortion Ban: 'It’s Much Worse Than It Sounds'",
          "Montana Still Reeling GOP-Led Covid Policies | The Mehdi Hasan Show",
          "Former U.S. Attorney Berman Reveals How Trump Weaponized The DOJ",
          "DOJ Issues 40 Subpoenas In Just One Week | Zerlina.",
          "Could This Section Of The Constitution Keep Trump From A 2024 Bid? | The Mehdi Hasan Show",
          "Judge Unseals More Portions Of Mar-a-Lago Search Warrant Affidavit",
          "BREAKING: Judge Hands Down Guilty Verdicts To Two Jan. 6 Defendants",
          "Bill Gates On Why Artificial Intel Will Change Everything And What We Owe Africa | Melber Intv",
          "Joyce Vance: ‘If Berman's Tales Are Borne Out, They Are Very Serious.’",
          "Watch Morning Joe Highlights: September 13 | MSNBC",
          "National Debate Over Abortion At The Heart Of Michigan Midterms",
          "War Correspondent Returns Home To Document 'The Storm Is Here'",
          "How The Republican Party Came To Embrace Conspiracy",
          "Rep. Kinzinger: Trump Brought Heaps Of Fear Into The Republican Party",
          "Former U.S. Attorney: DOJ Pushed Us And Pushed Us On John Kerry",
          "Rep. Ryan Criticizes Challenger's Campaign: 'Dude Took The Whole Summer Off'",
          "Circles Close In On Highest Levels Of Government As DOJ Issues Dozens Of Subpoenas",
          "Watch Rachel Maddow Highlights: Sept. 12",
          "Watch The Last Word With Lawrence O’Donnell Highlights: Sept. 12",
          "Zelenskyy Has Choice Words For Putin As Ukraine Makes Remarkable Progress Repelling Russia",
          "How Trump Loyalists In The DOJ Pushed Prosecutors To Protect 'Individual-1'",
          "DOJ Issues 40 Subpoenas In One Week In Jan. 6 Probe",
          "Support For Putin's War Wavers On Russian State TV",
          "Former U.S. Attorney Details Trump, Barr Efforts To Corrupt DOJ With Political Agenda",
          "Lawrence: Trump Lawyers Respond To DOJ With Stunningly Childish Argument",
          "Chief Justice Confused By Questioning SCOTUS's Legitimacy After Roe Decision",
          "‘They Belong To The Country And People’: Legal Expert On Docs Trump’s Lawyers Say He Has Rights To",
          "Alaska Rep-Elect After Beating Sarah Palin: ‘No American Is My Enemy’",
          "Russian State TV Pundits Openly Question Ukraine War",
          "A Network Of Local Sheriffs Is Helping To Spread The 'Big Lie' | The Mehdi Hasan Show",
          "DOJ Subpoenas 40 Trump Associates Over Jan. 6 Investigation",
          "'Substantial Escalation' In Jan. 6 Probe As DOJ Seizes Phones From 'Top' Trump Aides",
          "Weissmann: We Either Have A System Where We’re All Accountable To Law Or We Don’t",
          "Jan 6th Committee Members Prepare To Work Until The Bitter End",
          "Putin Has Put Himself In A Terrible Box In Ukraine, Says Retired General",
          "Watch Morning Joe Highlights: September 12 | MSNBC",
          "How To Fight Back Against What Author Calls 'Broken News'",
          "Chances 'Very High' Trump Will Be Indicted, Says Former Lawyer",
          "George Will: I Think The Republican Party Will Regain Its Voice",
          "Reproductive Rights A Key Issue Ahead Of The Midterms",
          "Majority See MAGA GOP Threatening The Foundations Of Democracy, Polling Shows",
          "'Desperation For Power, Money': Author Charts Giuliani's Rise And 'Tragic Fall'",
          "President Biden Honors 9/11 Victims 21 Years After Attacks",
          "Russian Forces Retreat As Ukrainian Forces Advance",
          "Trump Asks Judge To Pass Cost Of “Special Master” To The American Taxpayer",
          "Rising Number Of Women Voters Raises More Questions For The Midterms",
          "Vice President Harris: 'I Wouldn’t Dare Tell The Department Of Justice What To Do'",
          "Federal Judge Rules Anti-HIV Medicine Is Unconstitutional",
          "Florida’s Election Police Unit Targets Formerly Imprisoned People",
          "Trump Faces A Deluge Of Legal Woes",
          "Tennessee Abortion Ban Creates Chaos And Confusion",
          "ADL Finds Hundreds Of Law Enforcement Officers In Far-Right Extremist Group",
          "The Future Of Abortion Rights In Michigan Will Be Decided By Voters In November",
          "President Biden Accepts Invitation To Attend Queen Elizabeth's Funeral",
          "The U.S. Faces A New Type Of Threat 21 Years After The 9/11 Attacks",
          "DHS Sec. Mayorkas On Threats At Home And Abroad As U.S. Marks 21 Years Since 9/11",
          "Biden Commemorates 21st Anniversary Of 9/11 Attacks",
          "Millions Could Again Face The Troubles If Northern Ireland Protocol Is Scrapped",
          "Investigations Into Trump’s Actions To Overturn The 2020 Election Widen",
          "Republicans Prepare For Voter Backlash Following Overturn Of Roe",
          "DOJ And National Security Experts Raise Concern Over Delaying Trump Mar-a-Lago Probe",
          "373 Members Of Law Enforcement Found On Oath Keepers Membership Rolls",
          "Velshi: Mixed Feelings About the Monarchy? Why You’re Not Alone. ",
          "Russia Pulls Out Troops From Areas Of Ukraine's Kharkiv Region",
          "Rep. Pramila Jayapal Links Rising Threats Against Lawmakers To GOP Rhetoric",
          "Kehinde Andrews: The Monarchy Represented The Racism That My Generation Felt",
          "Watch Alex Wagner Tonight Highlights: Sep. 9",
          "Watch All In With Chris Hayes Highlights: Sept. 9",
          "Queen's Passing, Monarchy's Legacy Could Push Tenuous Commonwealth Into Collapse",
          "LGBTQ Advocates Unwilling To Cede Ground On Rights To Extremist GOP Candidates",
          "Trump’s Legal Team Submit Their Proposed Picks For Special Master",
          "Expert To DOJ On Trump: Return An Indictment Against Someone Who's Been Criming In Light Of Day",
          "Trump, DOJ Each Propose Two Potential Special Master Candidates For Mar-a-Lago Documents",
          "Royal Expert: King Charles III Extended Olive Branch To Harry And Meghan. Will Rift Be Healed?",
          "The Monarchy And Colonialism | Zerlina.",
          "Texas Podcaster Ted Cruz's Failed Attempt To Troll California",
          "Why Trump Should Be Worried About DOJ's Probe Of His Post-Election Fundraising",
          "Stefanik 'Maintains A Separate Set Of Rules' For The Rich Says Challenger | The Katie Phang Show",
          "Michael Cohen: Bill Barr ‘Is A Coward’ | The Katie Phang Show",
          "GOP Plans Impeachment Of Biden Officials If They Win Back House | The Katie Phang Show",
          "Hot Button Cultural Issues Become Winning Topics For Democrats",
          "Trump Faces Monday Deadline To Respond To DOJ Filing",
          "Full Speech: King Charles III Promises ‘Lifelong Service’ After Death Of Queen Elizabeth II",
          "Watch Morning Joe Highlights: September 9 | MSNBC",
          "Republicans Out Of Touch With Where Most Americans Are, Says Senator"
         ],
         "type": "scatter",
         "x": [
          -0.11301326530612243,
          -0.04155656565656565,
          -0.0866265306122449,
          0.21529898989898985,
          -0.0011295918367346957,
          -0.059487,
          0.039290909090909085,
          -0.12389285714285714,
          -0.0632561224489796,
          -0.019534693877551024,
          -0.04794300000000001,
          0.0009545454545454646,
          -0.12753838383838378,
          0.03318144329896905,
          -0.038519999999999985,
          -0.013578571428571435,
          -0.033970408163265325,
          -0.0005363636363636381,
          0.1978393939393938,
          -0.12015656565656567,
          -0.086971,
          -0.027471000000000002,
          0.0000262626262626301,
          -0.006951515151515152,
          0.035687878787878796,
          -0.27089489795918364,
          0.07121458333333335,
          -0.053521649484536096,
          -0.03869278350515464,
          -0.028151515151515146,
          0.0017979591836734651,
          0.05034123711340207,
          -0.10015714285714285,
          -0.160769387755102,
          -0.0344222222222222,
          -0.08673199999999999,
          -0.15065100000000003,
          -0.06724000000000002,
          -0.17112099999999997,
          0.042659183673469374,
          -0.11730000000000007,
          -0.026275000000000003,
          0.01654141414141414,
          -0.008426804123711345,
          -0.21082842105263158,
          0.13350102040816325,
          -0.03008673469387756,
          0.0755112244897959,
          -0.013664646464646463,
          0.04981326530612243,
          -0.25359090909090914,
          -0.046177777777777776,
          -0.04817070707070707,
          0.04169599999999999,
          0.023314285714285742,
          -0.19444123711340192,
          -0.01942929292929292,
          -0.0027059999999999905,
          -0.06372499999999998,
          -0.13469081632653057,
          -0.07742395833333333,
          -0.09200322580645164,
          -0.08939381443298967,
          -0.04285858585858583,
          -0.10113020833333335,
          0.23747700000000008,
          0.152273,
          0.008917171717171716,
          -0.07503473684210525,
          -0.095394,
          -0.07751874999999998,
          -0.07216836734693872,
          -0.078183,
          -0.057776767676767656,
          -0.050104123711340216,
          -0.11107373737373741,
          -0.09474183673469389,
          -0.016656989247311828,
          -0.08901546391752578,
          -0.018723232323232315,
          -0.12966868686868685,
          -0.05534942528735631,
          -0.1799244897959183,
          -0.0830897959183673,
          -0.14388202247191012,
          -0.10802040816326533,
          -0.07156836734693879,
          0.00036530612244896766,
          0.05237551020408162,
          -0.09943400000000004,
          0.0639875,
          -0.10249700000000005,
          -0.07466363636363638,
          -0.012446000000000023,
          -0.03736868686868687,
          -0.06546868686868688,
          -0.0006520000000000142,
          -0.028149494949494973,
          -0.026965999999999997,
          -0.10410505050505056,
          -0.17534499999999995,
          -0.051474,
          0.07947979797979804,
          0.17207699999999998,
          0.012077999999999998,
          -0.04497171717171717,
          -0.034634343434343434,
          -0.166809,
          -0.1131969072164948,
          0.019621,
          0.033794791666666664,
          -0.058321,
          -0.19683737373737384,
          0.047505000000000006,
          -0.029101,
          -0.02048200000000001,
          -0.06333600000000003,
          -0.04898400000000001,
          0.03261100000000001,
          -0.12125300000000001,
          -0.1203215053763441,
          -0.069006,
          -0.024592000000000006,
          -0.11158200000000004,
          -0.03199285714285715,
          -0.10945099999999996,
          -0.024911999999999986,
          -0.33896499999999996,
          -0.11255050505050505,
          -0.14627199999999999,
          -0.149671,
          -0.042198,
          -0.046198989898989906,
          -0.023143000000000007,
          -0.10640199999999997,
          0.03685599999999998,
          0.04584599999999999,
          0.06816199999999997,
          -0.020471000000000003,
          -0.16734499999999997,
          -0.13192777777777773,
          -0.06583699999999998,
          -0.07198181818181819,
          -0.07632371134020619,
          -0.06878299999999998,
          -0.019726000000000004,
          -0.166367,
          0.045764285714285736,
          0.09410303030303035,
          -0.044501999999999986,
          0.010228000000000008,
          -0.10253200000000001,
          -0.04980900000000001,
          0.013434,
          -0.07810199999999998,
          -0.081516,
          -0.10036300000000001,
          0.002158585858585865,
          -0.12107979797979798,
          -0.08188799999999999,
          0.060876,
          -0.008955789473684205,
          0.02916699999999999,
          -0.06788199999999998,
          0.050805050505050485,
          0.026256999999999975,
          -0.14324,
          -0.08691958762886595,
          -0.02303299999999999,
          -0.02219199999999999,
          0.024178999999999996,
          -0.10342999999999998,
          0.10678799999999995,
          -0.11682700000000003,
          0.03899899999999999,
          -0.07949393939393942,
          -0.17108000000000004,
          0.021839000000000018,
          -0.03942499999999996,
          -0.0830298969072165,
          0.02956299999999999,
          0.026056250000000003,
          -0.035038383838383855,
          -0.11105612244897958,
          -0.3319666666666666,
          -0.24849797979797972,
          -0.043772289156626495,
          -0.21059799999999995,
          -0.009250999999999999,
          0.027245000000000016,
          -0.08512400000000003,
          0.008554545454545445,
          -0.191887,
          0.051647,
          -0.017941000000000006,
          -0.1574939999999999,
          -0.02492399999999999,
          -0.07179799999999997,
          0.04721800000000001,
          0.023306999999999998,
          -0.036969,
          0.29047999999999996,
          -0.02919,
          -0.098942,
          0.0009410000000000063,
          -0.07693232323232324,
          -0.14761499999999994,
          -0.111479,
          -0.135405,
          -0.09338899999999999,
          -0.178814,
          0.03044444444444443,
          -0.053329999999999995,
          -0.09751799999999995,
          0.10417938144329898,
          -0.011625000000000003,
          0.009745999999999982,
          -0.11214199999999995,
          -0.19526499999999994,
          -0.046789000000000004,
          -0.025349,
          -0.060730000000000034,
          -0.041164000000000006,
          -0.05865099999999998,
          0.06017899999999999,
          -0.034022,
          0.18501326530612247,
          -0.030777000000000006,
          -0.18317499999999998,
          -0.17662061855670105,
          -0.08330600000000002,
          -0.12031299999999998,
          0.04411500000000001,
          -0.15148800000000004,
          0.30140699999999987,
          -0.07356020408163264,
          -0.05950927835051546,
          -0.10627199999999998,
          -0.098415,
          -0.12615,
          -0.022455000000000013,
          -0.09318199999999999,
          0.003265,
          -0.08841999999999998,
          -0.06847500000000001,
          -0.06651499999999996,
          -0.004779000000000008,
          -0.16448099999999996,
          -0.09053399999999995,
          -0.095046,
          0.026157999999999983,
          0.009091000000000009,
          0.10145499999999996,
          -0.06646799999999999,
          -0.08286875,
          -0.20013499999999998,
          -0.11485899999999999,
          -0.15710099999999996,
          -0.042841,
          0.0067730000000000125,
          -0.000911000000000004,
          -0.30820599999999987,
          -0.23249799999999998,
          -0.10142800000000002,
          0.019349999999999982,
          -0.181537,
          -0.026400999999999997,
          -0.16111099999999998,
          -0.19345299999999996,
          -0.16379100000000002,
          -0.030544,
          -0.20303199999999993,
          -0.20113571428571422,
          0.040604999999999995,
          -0.024244000000000022,
          0.0024149999999999905,
          0.044869000000000006,
          0.026595999999999998,
          -0.08351900000000001,
          -0.04041399999999998,
          0.069573,
          -0.18118199999999995,
          0.017717,
          -0.06506800000000004,
          -0.03465,
          -0.06609494949494951,
          -0.040753535353535375,
          0.021832999999999995,
          -0.081662,
          0.19990499999999997,
          -0.014135,
          -0.062208000000000006
         ],
         "xaxis": "x",
         "y": [
          2440,
          3315,
          1788,
          6427,
          12281,
          3992,
          8546,
          2864,
          2080,
          12561,
          6993,
          1110,
          5981,
          1512,
          10000,
          2800,
          4549,
          4023,
          4450,
          2261,
          5505,
          3783,
          47663,
          3910,
          4455,
          5440,
          22445,
          12680,
          11519,
          10238,
          6992,
          9553,
          2436,
          1985,
          3183,
          2639,
          1539,
          9407,
          1294,
          5527,
          526,
          1880,
          6240,
          3951,
          1389,
          9605,
          2723,
          10921,
          25172,
          5553,
          4906,
          8567,
          2028,
          13522,
          16437,
          546,
          1711,
          3674,
          2131,
          1422,
          608,
          2857,
          767,
          25134,
          5763,
          2614,
          5351,
          3702,
          4246,
          4687,
          1935,
          1694,
          3632,
          1372,
          7608,
          28272,
          2339,
          3745,
          3068,
          4080,
          3162,
          647,
          2720,
          8297,
          2676,
          11971,
          955,
          2853,
          618,
          1413,
          306,
          523,
          876,
          936,
          370,
          10196,
          2350,
          1361,
          2376,
          493,
          2691,
          975,
          1782,
          1554,
          291,
          1340,
          1257,
          1103,
          2991,
          1935,
          2170,
          1017,
          5514,
          786,
          1367,
          1890,
          3663,
          6516,
          529,
          1353,
          5779,
          1001,
          4751,
          1876,
          6658,
          3565,
          2019,
          16086,
          2615,
          20787,
          2779,
          1556,
          2692,
          4041,
          1427,
          4094,
          862,
          1477,
          3116,
          3421,
          2859,
          3580,
          696,
          10322,
          4460,
          2200,
          420,
          6057,
          3494,
          1157,
          618,
          1540,
          934,
          937,
          13172,
          12115,
          4567,
          2851,
          9142,
          4695,
          3596,
          7849,
          1700,
          13900,
          4302,
          949,
          487,
          7831,
          1035,
          4109,
          3051,
          2351,
          869,
          1183,
          529,
          7795,
          3365,
          5263,
          2675,
          4004,
          2546,
          7013,
          19136,
          10574,
          2830,
          17029,
          4917,
          1768,
          4097,
          365,
          3693,
          1989,
          3494,
          4235,
          284,
          544,
          1028,
          5493,
          4295,
          1054,
          3450,
          2443,
          586,
          871,
          2685,
          3381,
          4215,
          2546,
          6065,
          2200,
          1033,
          10679,
          10694,
          5926,
          1222,
          4154,
          3659,
          384,
          1196,
          5016,
          9227,
          1742,
          1989,
          4474,
          13814,
          5211,
          5632,
          4240,
          1616,
          4151,
          8401,
          23153,
          10572,
          3643,
          2841,
          16710,
          9105,
          4329,
          24944,
          4409,
          5061,
          13354,
          2532,
          2401,
          5830,
          1777,
          624,
          2390,
          4928,
          470,
          1864,
          11457,
          2955,
          576,
          8456,
          681,
          7903,
          1427,
          1415,
          2411,
          1256,
          1173,
          493,
          611,
          1677,
          5143,
          7915,
          6015,
          4060,
          2547,
          8688,
          1785,
          1104,
          1686,
          7136,
          422,
          1687,
          2934,
          16472,
          4162,
          1136,
          439,
          18209,
          19025,
          2532,
          16856,
          6976,
          1168,
          11644,
          6477,
          1854,
          7925
         ],
         "yaxis": "y2"
        }
       ],
       "layout": {
        "template": {
         "data": {
          "bar": [
           {
            "error_x": {
             "color": "#f2f5fa"
            },
            "error_y": {
             "color": "#f2f5fa"
            },
            "marker": {
             "line": {
              "color": "rgb(17,17,17)",
              "width": 0.5
             },
             "pattern": {
              "fillmode": "overlay",
              "size": 10,
              "solidity": 0.2
             }
            },
            "type": "bar"
           }
          ],
          "barpolar": [
           {
            "marker": {
             "line": {
              "color": "rgb(17,17,17)",
              "width": 0.5
             },
             "pattern": {
              "fillmode": "overlay",
              "size": 10,
              "solidity": 0.2
             }
            },
            "type": "barpolar"
           }
          ],
          "carpet": [
           {
            "aaxis": {
             "endlinecolor": "#A2B1C6",
             "gridcolor": "#506784",
             "linecolor": "#506784",
             "minorgridcolor": "#506784",
             "startlinecolor": "#A2B1C6"
            },
            "baxis": {
             "endlinecolor": "#A2B1C6",
             "gridcolor": "#506784",
             "linecolor": "#506784",
             "minorgridcolor": "#506784",
             "startlinecolor": "#A2B1C6"
            },
            "type": "carpet"
           }
          ],
          "choropleth": [
           {
            "colorbar": {
             "outlinewidth": 0,
             "ticks": ""
            },
            "type": "choropleth"
           }
          ],
          "contour": [
           {
            "colorbar": {
             "outlinewidth": 0,
             "ticks": ""
            },
            "colorscale": [
             [
              0,
              "#0d0887"
             ],
             [
              0.1111111111111111,
              "#46039f"
             ],
             [
              0.2222222222222222,
              "#7201a8"
             ],
             [
              0.3333333333333333,
              "#9c179e"
             ],
             [
              0.4444444444444444,
              "#bd3786"
             ],
             [
              0.5555555555555556,
              "#d8576b"
             ],
             [
              0.6666666666666666,
              "#ed7953"
             ],
             [
              0.7777777777777778,
              "#fb9f3a"
             ],
             [
              0.8888888888888888,
              "#fdca26"
             ],
             [
              1,
              "#f0f921"
             ]
            ],
            "type": "contour"
           }
          ],
          "contourcarpet": [
           {
            "colorbar": {
             "outlinewidth": 0,
             "ticks": ""
            },
            "type": "contourcarpet"
           }
          ],
          "heatmap": [
           {
            "colorbar": {
             "outlinewidth": 0,
             "ticks": ""
            },
            "colorscale": [
             [
              0,
              "#0d0887"
             ],
             [
              0.1111111111111111,
              "#46039f"
             ],
             [
              0.2222222222222222,
              "#7201a8"
             ],
             [
              0.3333333333333333,
              "#9c179e"
             ],
             [
              0.4444444444444444,
              "#bd3786"
             ],
             [
              0.5555555555555556,
              "#d8576b"
             ],
             [
              0.6666666666666666,
              "#ed7953"
             ],
             [
              0.7777777777777778,
              "#fb9f3a"
             ],
             [
              0.8888888888888888,
              "#fdca26"
             ],
             [
              1,
              "#f0f921"
             ]
            ],
            "type": "heatmap"
           }
          ],
          "heatmapgl": [
           {
            "colorbar": {
             "outlinewidth": 0,
             "ticks": ""
            },
            "colorscale": [
             [
              0,
              "#0d0887"
             ],
             [
              0.1111111111111111,
              "#46039f"
             ],
             [
              0.2222222222222222,
              "#7201a8"
             ],
             [
              0.3333333333333333,
              "#9c179e"
             ],
             [
              0.4444444444444444,
              "#bd3786"
             ],
             [
              0.5555555555555556,
              "#d8576b"
             ],
             [
              0.6666666666666666,
              "#ed7953"
             ],
             [
              0.7777777777777778,
              "#fb9f3a"
             ],
             [
              0.8888888888888888,
              "#fdca26"
             ],
             [
              1,
              "#f0f921"
             ]
            ],
            "type": "heatmapgl"
           }
          ],
          "histogram": [
           {
            "marker": {
             "pattern": {
              "fillmode": "overlay",
              "size": 10,
              "solidity": 0.2
             }
            },
            "type": "histogram"
           }
          ],
          "histogram2d": [
           {
            "colorbar": {
             "outlinewidth": 0,
             "ticks": ""
            },
            "colorscale": [
             [
              0,
              "#0d0887"
             ],
             [
              0.1111111111111111,
              "#46039f"
             ],
             [
              0.2222222222222222,
              "#7201a8"
             ],
             [
              0.3333333333333333,
              "#9c179e"
             ],
             [
              0.4444444444444444,
              "#bd3786"
             ],
             [
              0.5555555555555556,
              "#d8576b"
             ],
             [
              0.6666666666666666,
              "#ed7953"
             ],
             [
              0.7777777777777778,
              "#fb9f3a"
             ],
             [
              0.8888888888888888,
              "#fdca26"
             ],
             [
              1,
              "#f0f921"
             ]
            ],
            "type": "histogram2d"
           }
          ],
          "histogram2dcontour": [
           {
            "colorbar": {
             "outlinewidth": 0,
             "ticks": ""
            },
            "colorscale": [
             [
              0,
              "#0d0887"
             ],
             [
              0.1111111111111111,
              "#46039f"
             ],
             [
              0.2222222222222222,
              "#7201a8"
             ],
             [
              0.3333333333333333,
              "#9c179e"
             ],
             [
              0.4444444444444444,
              "#bd3786"
             ],
             [
              0.5555555555555556,
              "#d8576b"
             ],
             [
              0.6666666666666666,
              "#ed7953"
             ],
             [
              0.7777777777777778,
              "#fb9f3a"
             ],
             [
              0.8888888888888888,
              "#fdca26"
             ],
             [
              1,
              "#f0f921"
             ]
            ],
            "type": "histogram2dcontour"
           }
          ],
          "mesh3d": [
           {
            "colorbar": {
             "outlinewidth": 0,
             "ticks": ""
            },
            "type": "mesh3d"
           }
          ],
          "parcoords": [
           {
            "line": {
             "colorbar": {
              "outlinewidth": 0,
              "ticks": ""
             }
            },
            "type": "parcoords"
           }
          ],
          "pie": [
           {
            "automargin": true,
            "type": "pie"
           }
          ],
          "scatter": [
           {
            "marker": {
             "line": {
              "color": "#283442"
             }
            },
            "type": "scatter"
           }
          ],
          "scatter3d": [
           {
            "line": {
             "colorbar": {
              "outlinewidth": 0,
              "ticks": ""
             }
            },
            "marker": {
             "colorbar": {
              "outlinewidth": 0,
              "ticks": ""
             }
            },
            "type": "scatter3d"
           }
          ],
          "scattercarpet": [
           {
            "marker": {
             "colorbar": {
              "outlinewidth": 0,
              "ticks": ""
             }
            },
            "type": "scattercarpet"
           }
          ],
          "scattergeo": [
           {
            "marker": {
             "colorbar": {
              "outlinewidth": 0,
              "ticks": ""
             }
            },
            "type": "scattergeo"
           }
          ],
          "scattergl": [
           {
            "marker": {
             "line": {
              "color": "#283442"
             }
            },
            "type": "scattergl"
           }
          ],
          "scattermapbox": [
           {
            "marker": {
             "colorbar": {
              "outlinewidth": 0,
              "ticks": ""
             }
            },
            "type": "scattermapbox"
           }
          ],
          "scatterpolar": [
           {
            "marker": {
             "colorbar": {
              "outlinewidth": 0,
              "ticks": ""
             }
            },
            "type": "scatterpolar"
           }
          ],
          "scatterpolargl": [
           {
            "marker": {
             "colorbar": {
              "outlinewidth": 0,
              "ticks": ""
             }
            },
            "type": "scatterpolargl"
           }
          ],
          "scatterternary": [
           {
            "marker": {
             "colorbar": {
              "outlinewidth": 0,
              "ticks": ""
             }
            },
            "type": "scatterternary"
           }
          ],
          "surface": [
           {
            "colorbar": {
             "outlinewidth": 0,
             "ticks": ""
            },
            "colorscale": [
             [
              0,
              "#0d0887"
             ],
             [
              0.1111111111111111,
              "#46039f"
             ],
             [
              0.2222222222222222,
              "#7201a8"
             ],
             [
              0.3333333333333333,
              "#9c179e"
             ],
             [
              0.4444444444444444,
              "#bd3786"
             ],
             [
              0.5555555555555556,
              "#d8576b"
             ],
             [
              0.6666666666666666,
              "#ed7953"
             ],
             [
              0.7777777777777778,
              "#fb9f3a"
             ],
             [
              0.8888888888888888,
              "#fdca26"
             ],
             [
              1,
              "#f0f921"
             ]
            ],
            "type": "surface"
           }
          ],
          "table": [
           {
            "cells": {
             "fill": {
              "color": "#506784"
             },
             "line": {
              "color": "rgb(17,17,17)"
             }
            },
            "header": {
             "fill": {
              "color": "#2a3f5f"
             },
             "line": {
              "color": "rgb(17,17,17)"
             }
            },
            "type": "table"
           }
          ]
         },
         "layout": {
          "annotationdefaults": {
           "arrowcolor": "#f2f5fa",
           "arrowhead": 0,
           "arrowwidth": 1
          },
          "autotypenumbers": "strict",
          "coloraxis": {
           "colorbar": {
            "outlinewidth": 0,
            "ticks": ""
           }
          },
          "colorscale": {
           "diverging": [
            [
             0,
             "#8e0152"
            ],
            [
             0.1,
             "#c51b7d"
            ],
            [
             0.2,
             "#de77ae"
            ],
            [
             0.3,
             "#f1b6da"
            ],
            [
             0.4,
             "#fde0ef"
            ],
            [
             0.5,
             "#f7f7f7"
            ],
            [
             0.6,
             "#e6f5d0"
            ],
            [
             0.7,
             "#b8e186"
            ],
            [
             0.8,
             "#7fbc41"
            ],
            [
             0.9,
             "#4d9221"
            ],
            [
             1,
             "#276419"
            ]
           ],
           "sequential": [
            [
             0,
             "#0d0887"
            ],
            [
             0.1111111111111111,
             "#46039f"
            ],
            [
             0.2222222222222222,
             "#7201a8"
            ],
            [
             0.3333333333333333,
             "#9c179e"
            ],
            [
             0.4444444444444444,
             "#bd3786"
            ],
            [
             0.5555555555555556,
             "#d8576b"
            ],
            [
             0.6666666666666666,
             "#ed7953"
            ],
            [
             0.7777777777777778,
             "#fb9f3a"
            ],
            [
             0.8888888888888888,
             "#fdca26"
            ],
            [
             1,
             "#f0f921"
            ]
           ],
           "sequentialminus": [
            [
             0,
             "#0d0887"
            ],
            [
             0.1111111111111111,
             "#46039f"
            ],
            [
             0.2222222222222222,
             "#7201a8"
            ],
            [
             0.3333333333333333,
             "#9c179e"
            ],
            [
             0.4444444444444444,
             "#bd3786"
            ],
            [
             0.5555555555555556,
             "#d8576b"
            ],
            [
             0.6666666666666666,
             "#ed7953"
            ],
            [
             0.7777777777777778,
             "#fb9f3a"
            ],
            [
             0.8888888888888888,
             "#fdca26"
            ],
            [
             1,
             "#f0f921"
            ]
           ]
          },
          "colorway": [
           "#636efa",
           "#EF553B",
           "#00cc96",
           "#ab63fa",
           "#FFA15A",
           "#19d3f3",
           "#FF6692",
           "#B6E880",
           "#FF97FF",
           "#FECB52"
          ],
          "font": {
           "color": "#f2f5fa"
          },
          "geo": {
           "bgcolor": "rgb(17,17,17)",
           "lakecolor": "rgb(17,17,17)",
           "landcolor": "rgb(17,17,17)",
           "showlakes": true,
           "showland": true,
           "subunitcolor": "#506784"
          },
          "hoverlabel": {
           "align": "left"
          },
          "hovermode": "closest",
          "mapbox": {
           "style": "dark"
          },
          "paper_bgcolor": "rgb(17,17,17)",
          "plot_bgcolor": "rgb(17,17,17)",
          "polar": {
           "angularaxis": {
            "gridcolor": "#506784",
            "linecolor": "#506784",
            "ticks": ""
           },
           "bgcolor": "rgb(17,17,17)",
           "radialaxis": {
            "gridcolor": "#506784",
            "linecolor": "#506784",
            "ticks": ""
           }
          },
          "scene": {
           "xaxis": {
            "backgroundcolor": "rgb(17,17,17)",
            "gridcolor": "#506784",
            "gridwidth": 2,
            "linecolor": "#506784",
            "showbackground": true,
            "ticks": "",
            "zerolinecolor": "#C8D4E3"
           },
           "yaxis": {
            "backgroundcolor": "rgb(17,17,17)",
            "gridcolor": "#506784",
            "gridwidth": 2,
            "linecolor": "#506784",
            "showbackground": true,
            "ticks": "",
            "zerolinecolor": "#C8D4E3"
           },
           "zaxis": {
            "backgroundcolor": "rgb(17,17,17)",
            "gridcolor": "#506784",
            "gridwidth": 2,
            "linecolor": "#506784",
            "showbackground": true,
            "ticks": "",
            "zerolinecolor": "#C8D4E3"
           }
          },
          "shapedefaults": {
           "line": {
            "color": "#f2f5fa"
           }
          },
          "sliderdefaults": {
           "bgcolor": "#C8D4E3",
           "bordercolor": "rgb(17,17,17)",
           "borderwidth": 1,
           "tickwidth": 0
          },
          "ternary": {
           "aaxis": {
            "gridcolor": "#506784",
            "linecolor": "#506784",
            "ticks": ""
           },
           "baxis": {
            "gridcolor": "#506784",
            "linecolor": "#506784",
            "ticks": ""
           },
           "bgcolor": "rgb(17,17,17)",
           "caxis": {
            "gridcolor": "#506784",
            "linecolor": "#506784",
            "ticks": ""
           }
          },
          "title": {
           "x": 0.05
          },
          "updatemenudefaults": {
           "bgcolor": "#506784",
           "borderwidth": 0
          },
          "xaxis": {
           "automargin": true,
           "gridcolor": "#283442",
           "linecolor": "#506784",
           "ticks": "",
           "title": {
            "standoff": 15
           },
           "zerolinecolor": "#283442",
           "zerolinewidth": 2
          },
          "yaxis": {
           "automargin": true,
           "gridcolor": "#283442",
           "linecolor": "#506784",
           "ticks": "",
           "title": {
            "standoff": 15
           },
           "zerolinecolor": "#283442",
           "zerolinewidth": 2
          }
         }
        },
        "title": {
         "text": "<b>Youtube View & Like Counts VS Sentiment Scores<b>"
        },
        "xaxis": {
         "anchor": "y",
         "domain": [
          0,
          0.94
         ],
         "title": {
          "text": "Sentiment Score"
         }
        },
        "yaxis": {
         "anchor": "x",
         "domain": [
          0,
          1
         ],
         "title": {
          "text": "View Counts"
         }
        },
        "yaxis2": {
         "anchor": "x",
         "overlaying": "y",
         "side": "right",
         "title": {
          "text": "Like Counts"
         }
        }
       }
      }
     },
     "metadata": {},
     "output_type": "display_data"
    }
   ],
   "source": [
    "from re import template\n",
    "\n",
    "\n",
    "fig = make_subplots(specs=[[{'secondary_y': True}]])\n",
    "\n",
    "fig.add_trace(\n",
    "        go.Scatter(\n",
    "        x=video_comp_sentiments['avg_comp_sentiment'],\n",
    "        y=video_comp_sentiments['vid_viewcount'],\n",
    "        name='View Count',\n",
    "        mode='markers',\n",
    "        marker_color='Blue',\n",
    "        text=video_comp_sentiments['vid_title'],\n",
    "        hovertemplate='<b>%{text}</b> <br>Sentiment Value: %{x} <br>View Count: %{y}'),\n",
    "        secondary_y=False\n",
    ")\n",
    "\n",
    "fig.add_trace(go.Scatter(\n",
    "    x=video_comp_sentiments['avg_comp_sentiment'],\n",
    "    y=video_comp_sentiments['vid_likecount'],\n",
    "    name='Like Count',\n",
    "    mode='markers',\n",
    "    marker_color='Red',\n",
    "    text=video_comp_sentiments['vid_title'],\n",
    "    hovertemplate='<b>%{text}</b> <br>Sentiment Value: %{x} <br>Like Count: %{y}'),\n",
    "    secondary_y=True\n",
    ")\n",
    "\n",
    "fig.update_layout(\n",
    "    title=\"<b>Youtube View & Like Counts VS Sentiment Scores<b>\",\n",
    "    xaxis_title=\"Sentiment Score\",\n",
    "    template='plotly_dark'\n",
    ")\n",
    "\n",
    "fig.update_yaxes(title_text=\"View Counts\", secondary_y=False)\n",
    "fig.update_yaxes(title_text=\"Like Counts\", secondary_y=True)\n",
    "\n",
    "fig.show(renderer='vscode')\n",
    "\n",
    "pio.write_html(fig, file='index.html', auto_open=True)"
   ]
  },
  {
   "cell_type": "code",
   "execution_count": 118,
   "metadata": {},
   "outputs": [
    {
     "data": {
      "image/svg+xml": "<svg class=\"main-svg\" xmlns=\"http://www.w3.org/2000/svg\" xmlns:xlink=\"http://www.w3.org/1999/xlink\" width=\"700\" height=\"500\" style=\"\" viewBox=\"0 0 700 500\"><rect x=\"0\" y=\"0\" width=\"700\" height=\"500\" style=\"fill: rgb(17, 17, 17); fill-opacity: 1;\"/><defs id=\"defs-cdf607\"><g class=\"clips\"><clipPath id=\"clipcdf607xyplot\" class=\"plotclip\"><rect width=\"454.96\" height=\"320\"/></clipPath><clipPath id=\"clipcdf607xy2plot\" class=\"plotclip\"><rect width=\"454.96\" height=\"320\"/></clipPath><clipPath class=\"axesclip\" id=\"clipcdf607x\"><rect x=\"80\" y=\"0\" width=\"454.96\" height=\"500\"/></clipPath><clipPath class=\"axesclip\" id=\"clipcdf607y\"><rect x=\"0\" y=\"100\" width=\"700\" height=\"320\"/></clipPath><clipPath class=\"axesclip\" id=\"clipcdf607xy\"><rect x=\"80\" y=\"100\" width=\"454.96\" height=\"320\"/></clipPath><clipPath class=\"axesclip\" id=\"clipcdf607y2\"><rect x=\"0\" y=\"100\" width=\"700\" height=\"320\"/></clipPath><clipPath class=\"axesclip\" id=\"clipcdf607xy2\"><rect x=\"80\" y=\"100\" width=\"454.96\" height=\"320\"/></clipPath></g><g class=\"gradients\"/><g class=\"patterns\"/></defs><g class=\"bglayer\"/><g class=\"layer-below\"><g class=\"imagelayer\"/><g class=\"shapelayer\"/></g><g class=\"cartesianlayer\"><g class=\"subplot xy\"><g class=\"layer-subplot\"><g class=\"shapelayer\"/><g class=\"imagelayer\"/></g><g class=\"gridlayer\"><g class=\"x\"><path class=\"xgrid crisp\" transform=\"translate(193.73000000000002,0)\" d=\"M0,100v320\" style=\"stroke: rgb(40, 52, 66); stroke-opacity: 1; stroke-width: 1px;\"/><path class=\"xgrid crisp\" transform=\"translate(444.81,0)\" d=\"M0,100v320\" style=\"stroke: rgb(40, 52, 66); stroke-opacity: 1; stroke-width: 1px;\"/></g><g class=\"y\"><path class=\"ygrid crisp\" transform=\"translate(0,326.43)\" d=\"M80,0h454.96\" style=\"stroke: rgb(40, 52, 66); stroke-opacity: 1; stroke-width: 1px;\"/><path class=\"ygrid crisp\" transform=\"translate(0,251.12)\" d=\"M80,0h454.96\" style=\"stroke: rgb(40, 52, 66); stroke-opacity: 1; stroke-width: 1px;\"/><path class=\"ygrid crisp\" transform=\"translate(0,175.82)\" d=\"M80,0h454.96\" style=\"stroke: rgb(40, 52, 66); stroke-opacity: 1; stroke-width: 1px;\"/></g><g class=\"y2\"><path class=\"y2grid crisp\" transform=\"translate(0,342.73)\" d=\"M80,0h454.96\" style=\"stroke: rgb(40, 52, 66); stroke-opacity: 1; stroke-width: 1px;\"/><path class=\"y2grid crisp\" transform=\"translate(0,283.52)\" d=\"M80,0h454.96\" style=\"stroke: rgb(40, 52, 66); stroke-opacity: 1; stroke-width: 1px;\"/><path class=\"y2grid crisp\" transform=\"translate(0,224.32)\" d=\"M80,0h454.96\" style=\"stroke: rgb(40, 52, 66); stroke-opacity: 1; stroke-width: 1px;\"/><path class=\"y2grid crisp\" transform=\"translate(0,165.12)\" d=\"M80,0h454.96\" style=\"stroke: rgb(40, 52, 66); stroke-opacity: 1; stroke-width: 1px;\"/><path class=\"y2grid crisp\" transform=\"translate(0,105.91)\" d=\"M80,0h454.96\" style=\"stroke: rgb(40, 52, 66); stroke-opacity: 1; stroke-width: 1px;\"/></g></g><g class=\"zerolinelayer\"><path class=\"xzl zl crisp\" transform=\"translate(319.27,0)\" d=\"M0,100v320\" style=\"stroke: rgb(40, 52, 66); stroke-opacity: 1; stroke-width: 2px;\"/><path class=\"yzl zl crisp\" transform=\"translate(0,401.73)\" d=\"M80,0h454.96\" style=\"stroke: rgb(40, 52, 66); stroke-opacity: 1; stroke-width: 2px;\"/><path class=\"y2zl zl crisp\" transform=\"translate(0,401.93)\" d=\"M80,0h454.96\" style=\"stroke: rgb(40, 52, 66); stroke-opacity: 1; stroke-width: 2px;\"/></g><path class=\"xlines-below\"/><path class=\"ylines-below\"/><g class=\"overlines-below\"><path class=\"xy2-x\"/><path class=\"xy2-y\"/></g><g class=\"xaxislayer-below\"/><g class=\"yaxislayer-below\"/><g class=\"overaxes-below\"><g class=\"xy2-x\"/><g class=\"xy2-y\"/></g><g class=\"plot\" transform=\"translate(80,100)\" clip-path=\"url(#clipcdf607xyplot)\"><g class=\"scatterlayer mlayer\"><g class=\"trace scatter trace7d51a7\" style=\"stroke-miterlimit: 2; opacity: 1;\"><g class=\"fills\"/><g class=\"errorbars\"/><g class=\"lines\"/><g class=\"points\"><path class=\"point\" transform=\"translate(168.33,290.59)\" d=\"M3,0A3,3 0 1,1 0,-3A3,3 0 0,1 3,0Z\" style=\"opacity: 1; stroke-width: 0px; fill: rgb(0, 0, 255); fill-opacity: 1;\"/><path class=\"point\" transform=\"translate(213.18,285.08)\" d=\"M3,0A3,3 0 1,1 0,-3A3,3 0 0,1 3,0Z\" style=\"opacity: 1; stroke-width: 0px; fill: rgb(0, 0, 255); fill-opacity: 1;\"/><path class=\"point\" transform=\"translate(184.89,296.49)\" d=\"M3,0A3,3 0 1,1 0,-3A3,3 0 0,1 3,0Z\" style=\"opacity: 1; stroke-width: 0px; fill: rgb(0, 0, 255); fill-opacity: 1;\"/><path class=\"point\" transform=\"translate(374.41,286.88)\" d=\"M3,0A3,3 0 1,1 0,-3A3,3 0 0,1 3,0Z\" style=\"opacity: 1; stroke-width: 0px; fill: rgb(0, 0, 255); fill-opacity: 1;\"/><path class=\"point\" transform=\"translate(238.56,251.12)\" d=\"M3,0A3,3 0 1,1 0,-3A3,3 0 0,1 3,0Z\" style=\"opacity: 1; stroke-width: 0px; fill: rgb(0, 0, 255); fill-opacity: 1;\"/><path class=\"point\" transform=\"translate(201.93,278.3)\" d=\"M3,0A3,3 0 1,1 0,-3A3,3 0 0,1 3,0Z\" style=\"opacity: 1; stroke-width: 0px; fill: rgb(0, 0, 255); fill-opacity: 1;\"/><path class=\"point\" transform=\"translate(263.93,238.17)\" d=\"M3,0A3,3 0 1,1 0,-3A3,3 0 0,1 3,0Z\" style=\"opacity: 1; stroke-width: 0px; fill: rgb(0, 0, 255); fill-opacity: 1;\"/><path class=\"point\" transform=\"translate(161.5,279.34)\" d=\"M3,0A3,3 0 1,1 0,-3A3,3 0 0,1 3,0Z\" style=\"opacity: 1; stroke-width: 0px; fill: rgb(0, 0, 255); fill-opacity: 1;\"/><path class=\"point\" transform=\"translate(199.56,281.33)\" d=\"M3,0A3,3 0 1,1 0,-3A3,3 0 0,1 3,0Z\" style=\"opacity: 1; stroke-width: 0px; fill: rgb(0, 0, 255); fill-opacity: 1;\"/><path class=\"point\" transform=\"translate(227.01,186.3)\" d=\"M3,0A3,3 0 1,1 0,-3A3,3 0 0,1 3,0Z\" style=\"opacity: 1; stroke-width: 0px; fill: rgb(0, 0, 255); fill-opacity: 1;\"/><path class=\"point\" transform=\"translate(209.17,248.58)\" d=\"M3,0A3,3 0 1,1 0,-3A3,3 0 0,1 3,0Z\" style=\"opacity: 1; stroke-width: 0px; fill: rgb(0, 0, 255); fill-opacity: 1;\"/><path class=\"point\" transform=\"translate(239.87,295.29)\" d=\"M3,0A3,3 0 1,1 0,-3A3,3 0 0,1 3,0Z\" style=\"opacity: 1; stroke-width: 0px; fill: rgb(0, 0, 255); fill-opacity: 1;\"/><path class=\"point\" transform=\"translate(159.21,255.76)\" d=\"M3,0A3,3 0 1,1 0,-3A3,3 0 0,1 3,0Z\" style=\"opacity: 1; stroke-width: 0px; fill: rgb(0, 0, 255); fill-opacity: 1;\"/><path class=\"point\" transform=\"translate(260.1,292.13)\" d=\"M3,0A3,3 0 1,1 0,-3A3,3 0 0,1 3,0Z\" style=\"opacity: 1; stroke-width: 0px; fill: rgb(0, 0, 255); fill-opacity: 1;\"/><path class=\"point\" transform=\"translate(215.09,220.91)\" d=\"M3,0A3,3 0 1,1 0,-3A3,3 0 0,1 3,0Z\" style=\"opacity: 1; stroke-width: 0px; fill: rgb(0, 0, 255); fill-opacity: 1;\"/><path class=\"point\" transform=\"translate(230.74,268.36)\" d=\"M3,0A3,3 0 1,1 0,-3A3,3 0 0,1 3,0Z\" style=\"opacity: 1; stroke-width: 0px; fill: rgb(0, 0, 255); fill-opacity: 1;\"/><path class=\"point\" transform=\"translate(217.94,270.04)\" d=\"M3,0A3,3 0 1,1 0,-3A3,3 0 0,1 3,0Z\" style=\"opacity: 1; stroke-width: 0px; fill: rgb(0, 0, 255); fill-opacity: 1;\"/><path class=\"point\" transform=\"translate(238.93,261.76)\" d=\"M3,0A3,3 0 1,1 0,-3A3,3 0 0,1 3,0Z\" style=\"opacity: 1; stroke-width: 0px; fill: rgb(0, 0, 255); fill-opacity: 1;\"/><path class=\"point\" transform=\"translate(363.45,258.98)\" d=\"M3,0A3,3 0 1,1 0,-3A3,3 0 0,1 3,0Z\" style=\"opacity: 1; stroke-width: 0px; fill: rgb(0, 0, 255); fill-opacity: 1;\"/><path class=\"point\" transform=\"translate(163.84,285.41)\" d=\"M3,0A3,3 0 1,1 0,-3A3,3 0 0,1 3,0Z\" style=\"opacity: 1; stroke-width: 0px; fill: rgb(0, 0, 255); fill-opacity: 1;\"/><path class=\"point\" transform=\"translate(184.68,260.6)\" d=\"M3,0A3,3 0 1,1 0,-3A3,3 0 0,1 3,0Z\" style=\"opacity: 1; stroke-width: 0px; fill: rgb(0, 0, 255); fill-opacity: 1;\"/><path class=\"point\" transform=\"translate(222.02,275.73)\" d=\"M3,0A3,3 0 1,1 0,-3A3,3 0 0,1 3,0Z\" style=\"opacity: 1; stroke-width: 0px; fill: rgb(0, 0, 255); fill-opacity: 1;\"/><path class=\"point\" transform=\"translate(239.28,75.91)\" d=\"M3,0A3,3 0 1,1 0,-3A3,3 0 0,1 3,0Z\" style=\"opacity: 1; stroke-width: 0px; fill: rgb(0, 0, 255); fill-opacity: 1;\"/><path class=\"point\" transform=\"translate(234.9,274.46)\" d=\"M3,0A3,3 0 1,1 0,-3A3,3 0 0,1 3,0Z\" style=\"opacity: 1; stroke-width: 0px; fill: rgb(0, 0, 255); fill-opacity: 1;\"/><path class=\"point\" transform=\"translate(261.67,271.35)\" d=\"M3,0A3,3 0 1,1 0,-3A3,3 0 0,1 3,0Z\" style=\"opacity: 1; stroke-width: 0px; fill: rgb(0, 0, 255); fill-opacity: 1;\"/><path class=\"point\" transform=\"translate(69.23,255.47)\" d=\"M3,0A3,3 0 1,1 0,-3A3,3 0 0,1 3,0Z\" style=\"opacity: 1; stroke-width: 0px; fill: rgb(0, 0, 255); fill-opacity: 1;\"/><path class=\"point\" transform=\"translate(283.97,149.01)\" d=\"M3,0A3,3 0 1,1 0,-3A3,3 0 0,1 3,0Z\" style=\"opacity: 1; stroke-width: 0px; fill: rgb(0, 0, 255); fill-opacity: 1;\"/><path class=\"point\" transform=\"translate(205.67,220.65)\" d=\"M3,0A3,3 0 1,1 0,-3A3,3 0 0,1 3,0Z\" style=\"opacity: 1; stroke-width: 0px; fill: rgb(0, 0, 255); fill-opacity: 1;\"/><path class=\"point\" transform=\"translate(214.98,228.24)\" d=\"M3,0A3,3 0 1,1 0,-3A3,3 0 0,1 3,0Z\" style=\"opacity: 1; stroke-width: 0px; fill: rgb(0, 0, 255); fill-opacity: 1;\"/><path class=\"point\" transform=\"translate(221.6,222.29)\" d=\"M3,0A3,3 0 1,1 0,-3A3,3 0 0,1 3,0Z\" style=\"opacity: 1; stroke-width: 0px; fill: rgb(0, 0, 255); fill-opacity: 1;\"/><path class=\"point\" transform=\"translate(240.4,238.49)\" d=\"M3,0A3,3 0 1,1 0,-3A3,3 0 0,1 3,0Z\" style=\"opacity: 1; stroke-width: 0px; fill: rgb(0, 0, 255); fill-opacity: 1;\"/><path class=\"point\" transform=\"translate(270.87,218.22)\" d=\"M3,0A3,3 0 1,1 0,-3A3,3 0 0,1 3,0Z\" style=\"opacity: 1; stroke-width: 0px; fill: rgb(0, 0, 255); fill-opacity: 1;\"/><path class=\"point\" transform=\"translate(176.4,282.05)\" d=\"M3,0A3,3 0 1,1 0,-3A3,3 0 0,1 3,0Z\" style=\"opacity: 1; stroke-width: 0px; fill: rgb(0, 0, 255); fill-opacity: 1;\"/><path class=\"point\" transform=\"translate(138.35,286)\" d=\"M3,0A3,3 0 1,1 0,-3A3,3 0 0,1 3,0Z\" style=\"opacity: 1; stroke-width: 0px; fill: rgb(0, 0, 255); fill-opacity: 1;\"/><path class=\"point\" transform=\"translate(217.66,272.93)\" d=\"M3,0A3,3 0 1,1 0,-3A3,3 0 0,1 3,0Z\" style=\"opacity: 1; stroke-width: 0px; fill: rgb(0, 0, 255); fill-opacity: 1;\"/><path class=\"point\" transform=\"translate(184.83,283.31)\" d=\"M3,0A3,3 0 1,1 0,-3A3,3 0 0,1 3,0Z\" style=\"opacity: 1; stroke-width: 0px; fill: rgb(0, 0, 255); fill-opacity: 1;\"/><path class=\"point\" transform=\"translate(144.7,289.6)\" d=\"M3,0A3,3 0 1,1 0,-3A3,3 0 0,1 3,0Z\" style=\"opacity: 1; stroke-width: 0px; fill: rgb(0, 0, 255); fill-opacity: 1;\"/><path class=\"point\" transform=\"translate(197.06,260.78)\" d=\"M3,0A3,3 0 1,1 0,-3A3,3 0 0,1 3,0Z\" style=\"opacity: 1; stroke-width: 0px; fill: rgb(0, 0, 255); fill-opacity: 1;\"/><path class=\"point\" transform=\"translate(131.85,295.63)\" d=\"M3,0A3,3 0 1,1 0,-3A3,3 0 0,1 3,0Z\" style=\"opacity: 1; stroke-width: 0px; fill: rgb(0, 0, 255); fill-opacity: 1;\"/><path class=\"point\" transform=\"translate(266.04,242.92)\" d=\"M3,0A3,3 0 1,1 0,-3A3,3 0 0,1 3,0Z\" style=\"opacity: 1; stroke-width: 0px; fill: rgb(0, 0, 255); fill-opacity: 1;\"/><path class=\"point\" transform=\"translate(165.64,298.27)\" d=\"M3,0A3,3 0 1,1 0,-3A3,3 0 0,1 3,0Z\" style=\"opacity: 1; stroke-width: 0px; fill: rgb(0, 0, 255); fill-opacity: 1;\"/><path class=\"point\" transform=\"translate(222.77,287.5)\" d=\"M3,0A3,3 0 1,1 0,-3A3,3 0 0,1 3,0Z\" style=\"opacity: 1; stroke-width: 0px; fill: rgb(0, 0, 255); fill-opacity: 1;\"/><path class=\"point\" transform=\"translate(249.65,248.56)\" d=\"M3,0A3,3 0 1,1 0,-3A3,3 0 0,1 3,0Z\" style=\"opacity: 1; stroke-width: 0px; fill: rgb(0, 0, 255); fill-opacity: 1;\"/><path class=\"point\" transform=\"translate(233.98,250.46)\" d=\"M3,0A3,3 0 1,1 0,-3A3,3 0 0,1 3,0Z\" style=\"opacity: 1; stroke-width: 0px; fill: rgb(0, 0, 255); fill-opacity: 1;\"/><path class=\"point\" transform=\"translate(106.93,287.09)\" d=\"M3,0A3,3 0 1,1 0,-3A3,3 0 0,1 3,0Z\" style=\"opacity: 1; stroke-width: 0px; fill: rgb(0, 0, 255); fill-opacity: 1;\"/><path class=\"point\" transform=\"translate(323.07,239.17)\" d=\"M3,0A3,3 0 1,1 0,-3A3,3 0 0,1 3,0Z\" style=\"opacity: 1; stroke-width: 0px; fill: rgb(0, 0, 255); fill-opacity: 1;\"/><path class=\"point\" transform=\"translate(220.38,277.93)\" d=\"M3,0A3,3 0 1,1 0,-3A3,3 0 0,1 3,0Z\" style=\"opacity: 1; stroke-width: 0px; fill: rgb(0, 0, 255); fill-opacity: 1;\"/><path class=\"point\" transform=\"translate(286.67,237.64)\" d=\"M3,0A3,3 0 1,1 0,-3A3,3 0 0,1 3,0Z\" style=\"opacity: 1; stroke-width: 0px; fill: rgb(0, 0, 255); fill-opacity: 1;\"/><path class=\"point\" transform=\"translate(230.69,158.61)\" d=\"M3,0A3,3 0 1,1 0,-3A3,3 0 0,1 3,0Z\" style=\"opacity: 1; stroke-width: 0px; fill: rgb(0, 0, 255); fill-opacity: 1;\"/><path class=\"point\" transform=\"translate(270.54,257.84)\" d=\"M3,0A3,3 0 1,1 0,-3A3,3 0 0,1 3,0Z\" style=\"opacity: 1; stroke-width: 0px; fill: rgb(0, 0, 255); fill-opacity: 1;\"/><path class=\"point\" transform=\"translate(80.09,261.89)\" d=\"M3,0A3,3 0 1,1 0,-3A3,3 0 0,1 3,0Z\" style=\"opacity: 1; stroke-width: 0px; fill: rgb(0, 0, 255); fill-opacity: 1;\"/><path class=\"point\" transform=\"translate(210.28,236.18)\" d=\"M3,0A3,3 0 1,1 0,-3A3,3 0 0,1 3,0Z\" style=\"opacity: 1; stroke-width: 0px; fill: rgb(0, 0, 255); fill-opacity: 1;\"/><path class=\"point\" transform=\"translate(209.03,292.13)\" d=\"M3,0A3,3 0 1,1 0,-3A3,3 0 0,1 3,0Z\" style=\"opacity: 1; stroke-width: 0px; fill: rgb(0, 0, 255); fill-opacity: 1;\"/><path class=\"point\" transform=\"translate(265.44,222.41)\" d=\"M3,0A3,3 0 1,1 0,-3A3,3 0 0,1 3,0Z\" style=\"opacity: 1; stroke-width: 0px; fill: rgb(0, 0, 255); fill-opacity: 1;\"/><path class=\"point\" transform=\"translate(253.9,167.5)\" d=\"M3,0A3,3 0 1,1 0,-3A3,3 0 0,1 3,0Z\" style=\"opacity: 1; stroke-width: 0px; fill: rgb(0, 0, 255); fill-opacity: 1;\"/><path class=\"point\" transform=\"translate(117.22,296.13)\" d=\"M3,0A3,3 0 1,1 0,-3A3,3 0 0,1 3,0Z\" style=\"opacity: 1; stroke-width: 0px; fill: rgb(0, 0, 255); fill-opacity: 1;\"/><path class=\"point\" transform=\"translate(227.07,277.62)\" d=\"M3,0A3,3 0 1,1 0,-3A3,3 0 0,1 3,0Z\" style=\"opacity: 1; stroke-width: 0px; fill: rgb(0, 0, 255); fill-opacity: 1;\"/><path class=\"point\" transform=\"translate(237.57,273.92)\" d=\"M3,0A3,3 0 1,1 0,-3A3,3 0 0,1 3,0Z\" style=\"opacity: 1; stroke-width: 0px; fill: rgb(0, 0, 255); fill-opacity: 1;\"/><path class=\"point\" transform=\"translate(199.27,282.15)\" d=\"M3,0A3,3 0 1,1 0,-3A3,3 0 0,1 3,0Z\" style=\"opacity: 1; stroke-width: 0px; fill: rgb(0, 0, 255); fill-opacity: 1;\"/><path class=\"point\" transform=\"translate(154.72,291.26)\" d=\"M3,0A3,3 0 1,1 0,-3A3,3 0 0,1 3,0Z\" style=\"opacity: 1; stroke-width: 0px; fill: rgb(0, 0, 255); fill-opacity: 1;\"/><path class=\"point\" transform=\"translate(190.67,298.54)\" d=\"M3,0A3,3 0 1,1 0,-3A3,3 0 0,1 3,0Z\" style=\"opacity: 1; stroke-width: 0px; fill: rgb(0, 0, 255); fill-opacity: 1;\"/><path class=\"point\" transform=\"translate(181.52,246.14)\" d=\"M3,0A3,3 0 1,1 0,-3A3,3 0 0,1 3,0Z\" style=\"opacity: 1; stroke-width: 0px; fill: rgb(0, 0, 255); fill-opacity: 1;\"/><path class=\"point\" transform=\"translate(183.15,293.44)\" d=\"M3,0A3,3 0 1,1 0,-3A3,3 0 0,1 3,0Z\" style=\"opacity: 1; stroke-width: 0px; fill: rgb(0, 0, 255); fill-opacity: 1;\"/><path class=\"point\" transform=\"translate(212.37,19.75)\" d=\"M3,0A3,3 0 1,1 0,-3A3,3 0 0,1 3,0Z\" style=\"opacity: 1; stroke-width: 0px; fill: rgb(0, 0, 255); fill-opacity: 1;\"/><path class=\"point\" transform=\"translate(175.79,258.91)\" d=\"M3,0A3,3 0 1,1 0,-3A3,3 0 0,1 3,0Z\" style=\"opacity: 1; stroke-width: 0px; fill: rgb(0, 0, 255); fill-opacity: 1;\"/><path class=\"point\" transform=\"translate(388.33,289.08)\" d=\"M3,0A3,3 0 1,1 0,-3A3,3 0 0,1 3,0Z\" style=\"opacity: 1; stroke-width: 0px; fill: rgb(0, 0, 255); fill-opacity: 1;\"/><path class=\"point\" transform=\"translate(334.85,251.41)\" d=\"M3,0A3,3 0 1,1 0,-3A3,3 0 0,1 3,0Z\" style=\"opacity: 1; stroke-width: 0px; fill: rgb(0, 0, 255); fill-opacity: 1;\"/><path class=\"point\" transform=\"translate(244.86,274.28)\" d=\"M3,0A3,3 0 1,1 0,-3A3,3 0 0,1 3,0Z\" style=\"opacity: 1; stroke-width: 0px; fill: rgb(0, 0, 255); fill-opacity: 1;\"/><path class=\"point\" transform=\"translate(192.17,260.92)\" d=\"M3,0A3,3 0 1,1 0,-3A3,3 0 0,1 3,0Z\" style=\"opacity: 1; stroke-width: 0px; fill: rgb(0, 0, 255); fill-opacity: 1;\"/><path class=\"point\" transform=\"translate(179.39,264.69)\" d=\"M3,0A3,3 0 1,1 0,-3A3,3 0 0,1 3,0Z\" style=\"opacity: 1; stroke-width: 0px; fill: rgb(0, 0, 255); fill-opacity: 1;\"/><path class=\"point\" transform=\"translate(190.61,286.36)\" d=\"M3,0A3,3 0 1,1 0,-3A3,3 0 0,1 3,0Z\" style=\"opacity: 1; stroke-width: 0px; fill: rgb(0, 0, 255); fill-opacity: 1;\"/><path class=\"point\" transform=\"translate(193.97,289.23)\" d=\"M3,0A3,3 0 1,1 0,-3A3,3 0 0,1 3,0Z\" style=\"opacity: 1; stroke-width: 0px; fill: rgb(0, 0, 255); fill-opacity: 1;\"/><path class=\"point\" transform=\"translate(190.19,271.08)\" d=\"M3,0A3,3 0 1,1 0,-3A3,3 0 0,1 3,0Z\" style=\"opacity: 1; stroke-width: 0px; fill: rgb(0, 0, 255); fill-opacity: 1;\"/><path class=\"point\" transform=\"translate(203,294.84)\" d=\"M3,0A3,3 0 1,1 0,-3A3,3 0 0,1 3,0Z\" style=\"opacity: 1; stroke-width: 0px; fill: rgb(0, 0, 255); fill-opacity: 1;\"/><path class=\"point\" transform=\"translate(207.82,241.28)\" d=\"M3,0A3,3 0 1,1 0,-3A3,3 0 0,1 3,0Z\" style=\"opacity: 1; stroke-width: 0px; fill: rgb(0, 0, 255); fill-opacity: 1;\"/><path class=\"point\" transform=\"translate(169.55,113.57)\" d=\"M3,0A3,3 0 1,1 0,-3A3,3 0 0,1 3,0Z\" style=\"opacity: 1; stroke-width: 0px; fill: rgb(0, 0, 255); fill-opacity: 1;\"/><path class=\"point\" transform=\"translate(179.8,280.26)\" d=\"M3,0A3,3 0 1,1 0,-3A3,3 0 0,1 3,0Z\" style=\"opacity: 1; stroke-width: 0px; fill: rgb(0, 0, 255); fill-opacity: 1;\"/><path class=\"point\" transform=\"translate(228.81,271.78)\" d=\"M3,0A3,3 0 1,1 0,-3A3,3 0 0,1 3,0Z\" style=\"opacity: 1; stroke-width: 0px; fill: rgb(0, 0, 255); fill-opacity: 1;\"/><path class=\"point\" transform=\"translate(183.39,281.38)\" d=\"M3,0A3,3 0 1,1 0,-3A3,3 0 0,1 3,0Z\" style=\"opacity: 1; stroke-width: 0px; fill: rgb(0, 0, 255); fill-opacity: 1;\"/><path class=\"point\" transform=\"translate(227.52,268.28)\" d=\"M3,0A3,3 0 1,1 0,-3A3,3 0 0,1 3,0Z\" style=\"opacity: 1; stroke-width: 0px; fill: rgb(0, 0, 255); fill-opacity: 1;\"/><path class=\"point\" transform=\"translate(157.87,274.65)\" d=\"M3,0A3,3 0 1,1 0,-3A3,3 0 0,1 3,0Z\" style=\"opacity: 1; stroke-width: 0px; fill: rgb(0, 0, 255); fill-opacity: 1;\"/><path class=\"point\" transform=\"translate(204.52,298.5)\" d=\"M3,0A3,3 0 1,1 0,-3A3,3 0 0,1 3,0Z\" style=\"opacity: 1; stroke-width: 0px; fill: rgb(0, 0, 255); fill-opacity: 1;\"/><path class=\"point\" transform=\"translate(126.33,287.4)\" d=\"M3,0A3,3 0 1,1 0,-3A3,3 0 0,1 3,0Z\" style=\"opacity: 1; stroke-width: 0px; fill: rgb(0, 0, 255); fill-opacity: 1;\"/><path class=\"point\" transform=\"translate(187.11,251.24)\" d=\"M3,0A3,3 0 1,1 0,-3A3,3 0 0,1 3,0Z\" style=\"opacity: 1; stroke-width: 0px; fill: rgb(0, 0, 255); fill-opacity: 1;\"/><path class=\"point\" transform=\"translate(148.95,280.58)\" d=\"M3,0A3,3 0 1,1 0,-3A3,3 0 0,1 3,0Z\" style=\"opacity: 1; stroke-width: 0px; fill: rgb(0, 0, 255); fill-opacity: 1;\"/><path class=\"point\" transform=\"translate(171.46,207.57)\" d=\"M3,0A3,3 0 1,1 0,-3A3,3 0 0,1 3,0Z\" style=\"opacity: 1; stroke-width: 0px; fill: rgb(0, 0, 255); fill-opacity: 1;\"/><path class=\"point\" transform=\"translate(194.34,297.06)\" d=\"M3,0A3,3 0 1,1 0,-3A3,3 0 0,1 3,0Z\" style=\"opacity: 1; stroke-width: 0px; fill: rgb(0, 0, 255); fill-opacity: 1;\"/><path class=\"point\" transform=\"translate(239.5,279.79)\" d=\"M3,0A3,3 0 1,1 0,-3A3,3 0 0,1 3,0Z\" style=\"opacity: 1; stroke-width: 0px; fill: rgb(0, 0, 255); fill-opacity: 1;\"/><path class=\"point\" transform=\"translate(272.14,298.42)\" d=\"M3,0A3,3 0 1,1 0,-3A3,3 0 0,1 3,0Z\" style=\"opacity: 1; stroke-width: 0px; fill: rgb(0, 0, 255); fill-opacity: 1;\"/><path class=\"point\" transform=\"translate(176.85,291.37)\" d=\"M3,0A3,3 0 1,1 0,-3A3,3 0 0,1 3,0Z\" style=\"opacity: 1; stroke-width: 0px; fill: rgb(0, 0, 255); fill-opacity: 1;\"/><path class=\"point\" transform=\"translate(279.43,299.41)\" d=\"M3,0A3,3 0 1,1 0,-3A3,3 0 0,1 3,0Z\" style=\"opacity: 1; stroke-width: 0px; fill: rgb(0, 0, 255); fill-opacity: 1;\"/><path class=\"point\" transform=\"translate(174.93,299.1)\" d=\"M3,0A3,3 0 1,1 0,-3A3,3 0 0,1 3,0Z\" style=\"opacity: 1; stroke-width: 0px; fill: rgb(0, 0, 255); fill-opacity: 1;\"/><path class=\"point\" transform=\"translate(192.4,295.81)\" d=\"M3,0A3,3 0 1,1 0,-3A3,3 0 0,1 3,0Z\" style=\"opacity: 1; stroke-width: 0px; fill: rgb(0, 0, 255); fill-opacity: 1;\"/><path class=\"point\" transform=\"translate(231.46,295.83)\" d=\"M3,0A3,3 0 1,1 0,-3A3,3 0 0,1 3,0Z\" style=\"opacity: 1; stroke-width: 0px; fill: rgb(0, 0, 255); fill-opacity: 1;\"/><path class=\"point\" transform=\"translate(215.81,294.06)\" d=\"M3,0A3,3 0 1,1 0,-3A3,3 0 0,1 3,0Z\" style=\"opacity: 1; stroke-width: 0px; fill: rgb(0, 0, 255); fill-opacity: 1;\"/><path class=\"point\" transform=\"translate(198.17,203)\" d=\"M3,0A3,3 0 1,1 0,-3A3,3 0 0,1 3,0Z\" style=\"opacity: 1; stroke-width: 0px; fill: rgb(0, 0, 255); fill-opacity: 1;\"/><path class=\"point\" transform=\"translate(238.86,281.72)\" d=\"M3,0A3,3 0 1,1 0,-3A3,3 0 0,1 3,0Z\" style=\"opacity: 1; stroke-width: 0px; fill: rgb(0, 0, 255); fill-opacity: 1;\"/><path class=\"point\" transform=\"translate(221.6,295.29)\" d=\"M3,0A3,3 0 1,1 0,-3A3,3 0 0,1 3,0Z\" style=\"opacity: 1; stroke-width: 0px; fill: rgb(0, 0, 255); fill-opacity: 1;\"/><path class=\"point\" transform=\"translate(222.34,286.41)\" d=\"M3,0A3,3 0 1,1 0,-3A3,3 0 0,1 3,0Z\" style=\"opacity: 1; stroke-width: 0px; fill: rgb(0, 0, 255); fill-opacity: 1;\"/><path class=\"point\" transform=\"translate(173.92,297.05)\" d=\"M3,0A3,3 0 1,1 0,-3A3,3 0 0,1 3,0Z\" style=\"opacity: 1; stroke-width: 0px; fill: rgb(0, 0, 255); fill-opacity: 1;\"/><path class=\"point\" transform=\"translate(129.2,279.75)\" d=\"M3,0A3,3 0 1,1 0,-3A3,3 0 0,1 3,0Z\" style=\"opacity: 1; stroke-width: 0px; fill: rgb(0, 0, 255); fill-opacity: 1;\"/><path class=\"point\" transform=\"translate(206.96,295.69)\" d=\"M3,0A3,3 0 1,1 0,-3A3,3 0 0,1 3,0Z\" style=\"opacity: 1; stroke-width: 0px; fill: rgb(0, 0, 255); fill-opacity: 1;\"/><path class=\"point\" transform=\"translate(289.16,292.24)\" d=\"M3,0A3,3 0 1,1 0,-3A3,3 0 0,1 3,0Z\" style=\"opacity: 1; stroke-width: 0px; fill: rgb(0, 0, 255); fill-opacity: 1;\"/><path class=\"point\" transform=\"translate(347.28,276.13)\" d=\"M3,0A3,3 0 1,1 0,-3A3,3 0 0,1 3,0Z\" style=\"opacity: 1; stroke-width: 0px; fill: rgb(0, 0, 255); fill-opacity: 1;\"/><path class=\"point\" transform=\"translate(246.85,300.25)\" d=\"M3,0A3,3 0 1,1 0,-3A3,3 0 0,1 3,0Z\" style=\"opacity: 1; stroke-width: 0px; fill: rgb(0, 0, 255); fill-opacity: 1;\"/><path class=\"point\" transform=\"translate(211.04,295.2)\" d=\"M3,0A3,3 0 1,1 0,-3A3,3 0 0,1 3,0Z\" style=\"opacity: 1; stroke-width: 0px; fill: rgb(0, 0, 255); fill-opacity: 1;\"/><path class=\"point\" transform=\"translate(217.53,295.6)\" d=\"M3,0A3,3 0 1,1 0,-3A3,3 0 0,1 3,0Z\" style=\"opacity: 1; stroke-width: 0px; fill: rgb(0, 0, 255); fill-opacity: 1;\"/><path class=\"point\" transform=\"translate(134.56,295.06)\" d=\"M3,0A3,3 0 1,1 0,-3A3,3 0 0,1 3,0Z\" style=\"opacity: 1; stroke-width: 0px; fill: rgb(0, 0, 255); fill-opacity: 1;\"/><path class=\"point\" transform=\"translate(168.21,290.75)\" d=\"M3,0A3,3 0 1,1 0,-3A3,3 0 0,1 3,0Z\" style=\"opacity: 1; stroke-width: 0px; fill: rgb(0, 0, 255); fill-opacity: 1;\"/><path class=\"point\" transform=\"translate(251.58,287.28)\" d=\"M3,0A3,3 0 1,1 0,-3A3,3 0 0,1 3,0Z\" style=\"opacity: 1; stroke-width: 0px; fill: rgb(0, 0, 255); fill-opacity: 1;\"/><path class=\"point\" transform=\"translate(260.48,289.48)\" d=\"M3,0A3,3 0 1,1 0,-3A3,3 0 0,1 3,0Z\" style=\"opacity: 1; stroke-width: 0px; fill: rgb(0, 0, 255); fill-opacity: 1;\"/><path class=\"point\" transform=\"translate(202.66,297.35)\" d=\"M3,0A3,3 0 1,1 0,-3A3,3 0 0,1 3,0Z\" style=\"opacity: 1; stroke-width: 0px; fill: rgb(0, 0, 255); fill-opacity: 1;\"/><path class=\"point\" transform=\"translate(115.71,263.58)\" d=\"M3,0A3,3 0 1,1 0,-3A3,3 0 0,1 3,0Z\" style=\"opacity: 1; stroke-width: 0px; fill: rgb(0, 0, 255); fill-opacity: 1;\"/><path class=\"point\" transform=\"translate(269.09,292.81)\" d=\"M3,0A3,3 0 1,1 0,-3A3,3 0 0,1 3,0Z\" style=\"opacity: 1; stroke-width: 0px; fill: rgb(0, 0, 255); fill-opacity: 1;\"/><path class=\"point\" transform=\"translate(221,293.44)\" d=\"M3,0A3,3 0 1,1 0,-3A3,3 0 0,1 3,0Z\" style=\"opacity: 1; stroke-width: 0px; fill: rgb(0, 0, 255); fill-opacity: 1;\"/><path class=\"point\" transform=\"translate(226.41,288.2)\" d=\"M3,0A3,3 0 1,1 0,-3A3,3 0 0,1 3,0Z\" style=\"opacity: 1; stroke-width: 0px; fill: rgb(0, 0, 255); fill-opacity: 1;\"/><path class=\"point\" transform=\"translate(199.51,267.7)\" d=\"M3,0A3,3 0 1,1 0,-3A3,3 0 0,1 3,0Z\" style=\"opacity: 1; stroke-width: 0px; fill: rgb(0, 0, 255); fill-opacity: 1;\"/><path class=\"point\" transform=\"translate(208.52,242.09)\" d=\"M3,0A3,3 0 1,1 0,-3A3,3 0 0,1 3,0Z\" style=\"opacity: 1; stroke-width: 0px; fill: rgb(0, 0, 255); fill-opacity: 1;\"/><path class=\"point\" transform=\"translate(259.74,298.94)\" d=\"M3,0A3,3 0 1,1 0,-3A3,3 0 0,1 3,0Z\" style=\"opacity: 1; stroke-width: 0px; fill: rgb(0, 0, 255); fill-opacity: 1;\"/><path class=\"point\" transform=\"translate(163.16,289.12)\" d=\"M3,0A3,3 0 1,1 0,-3A3,3 0 0,1 3,0Z\" style=\"opacity: 1; stroke-width: 0px; fill: rgb(0, 0, 255); fill-opacity: 1;\"/><path class=\"point\" transform=\"translate(163.74,272.07)\" d=\"M3,0A3,3 0 1,1 0,-3A3,3 0 0,1 3,0Z\" style=\"opacity: 1; stroke-width: 0px; fill: rgb(0, 0, 255); fill-opacity: 1;\"/><path class=\"point\" transform=\"translate(195.95,272.74)\" d=\"M3,0A3,3 0 1,1 0,-3A3,3 0 0,1 3,0Z\" style=\"opacity: 1; stroke-width: 0px; fill: rgb(0, 0, 255); fill-opacity: 1;\"/><path class=\"point\" transform=\"translate(223.83,272.18)\" d=\"M3,0A3,3 0 1,1 0,-3A3,3 0 0,1 3,0Z\" style=\"opacity: 1; stroke-width: 0px; fill: rgb(0, 0, 255); fill-opacity: 1;\"/><path class=\"point\" transform=\"translate(169.23,293.08)\" d=\"M3,0A3,3 0 1,1 0,-3A3,3 0 0,1 3,0Z\" style=\"opacity: 1; stroke-width: 0px; fill: rgb(0, 0, 255); fill-opacity: 1;\"/><path class=\"point\" transform=\"translate(219.19,251.53)\" d=\"M3,0A3,3 0 1,1 0,-3A3,3 0 0,1 3,0Z\" style=\"opacity: 1; stroke-width: 0px; fill: rgb(0, 0, 255); fill-opacity: 1;\"/><path class=\"point\" transform=\"translate(170.56,275.44)\" d=\"M3,0A3,3 0 1,1 0,-3A3,3 0 0,1 3,0Z\" style=\"opacity: 1; stroke-width: 0px; fill: rgb(0, 0, 255); fill-opacity: 1;\"/><path class=\"point\" transform=\"translate(223.63,285.94)\" d=\"M3,0A3,3 0 1,1 0,-3A3,3 0 0,1 3,0Z\" style=\"opacity: 1; stroke-width: 0px; fill: rgb(0, 0, 255); fill-opacity: 1;\"/><path class=\"point\" transform=\"translate(26.5,205.35)\" d=\"M3,0A3,3 0 1,1 0,-3A3,3 0 0,1 3,0Z\" style=\"opacity: 1; stroke-width: 0px; fill: rgb(0, 0, 255); fill-opacity: 1;\"/><path class=\"point\" transform=\"translate(168.62,282.05)\" d=\"M3,0A3,3 0 1,1 0,-3A3,3 0 0,1 3,0Z\" style=\"opacity: 1; stroke-width: 0px; fill: rgb(0, 0, 255); fill-opacity: 1;\"/><path class=\"point\" transform=\"translate(147.45,109.47)\" d=\"M3,0A3,3 0 1,1 0,-3A3,3 0 0,1 3,0Z\" style=\"opacity: 1; stroke-width: 0px; fill: rgb(0, 0, 255); fill-opacity: 1;\"/><path class=\"point\" transform=\"translate(145.32,280.03)\" d=\"M3,0A3,3 0 1,1 0,-3A3,3 0 0,1 3,0Z\" style=\"opacity: 1; stroke-width: 0px; fill: rgb(0, 0, 255); fill-opacity: 1;\"/><path class=\"point\" transform=\"translate(212.78,293.81)\" d=\"M3,0A3,3 0 1,1 0,-3A3,3 0 0,1 3,0Z\" style=\"opacity: 1; stroke-width: 0px; fill: rgb(0, 0, 255); fill-opacity: 1;\"/><path class=\"point\" transform=\"translate(210.27,280.06)\" d=\"M3,0A3,3 0 1,1 0,-3A3,3 0 0,1 3,0Z\" style=\"opacity: 1; stroke-width: 0px; fill: rgb(0, 0, 255); fill-opacity: 1;\"/><path class=\"point\" transform=\"translate(224.74,270.66)\" d=\"M3,0A3,3 0 1,1 0,-3A3,3 0 0,1 3,0Z\" style=\"opacity: 1; stroke-width: 0px; fill: rgb(0, 0, 255); fill-opacity: 1;\"/><path class=\"point\" transform=\"translate(172.48,295.41)\" d=\"M3,0A3,3 0 1,1 0,-3A3,3 0 0,1 3,0Z\" style=\"opacity: 1; stroke-width: 0px; fill: rgb(0, 0, 255); fill-opacity: 1;\"/><path class=\"point\" transform=\"translate(262.4,270.79)\" d=\"M3,0A3,3 0 1,1 0,-3A3,3 0 0,1 3,0Z\" style=\"opacity: 1; stroke-width: 0px; fill: rgb(0, 0, 255); fill-opacity: 1;\"/><path class=\"point\" transform=\"translate(268.05,296.95)\" d=\"M3,0A3,3 0 1,1 0,-3A3,3 0 0,1 3,0Z\" style=\"opacity: 1; stroke-width: 0px; fill: rgb(0, 0, 255); fill-opacity: 1;\"/><path class=\"point\" transform=\"translate(282.05,291.29)\" d=\"M3,0A3,3 0 1,1 0,-3A3,3 0 0,1 3,0Z\" style=\"opacity: 1; stroke-width: 0px; fill: rgb(0, 0, 255); fill-opacity: 1;\"/><path class=\"point\" transform=\"translate(226.42,243.7)\" d=\"M3,0A3,3 0 1,1 0,-3A3,3 0 0,1 3,0Z\" style=\"opacity: 1; stroke-width: 0px; fill: rgb(0, 0, 255); fill-opacity: 1;\"/><path class=\"point\" transform=\"translate(134.22,276.93)\" d=\"M3,0A3,3 0 1,1 0,-3A3,3 0 0,1 3,0Z\" style=\"opacity: 1; stroke-width: 0px; fill: rgb(0, 0, 255); fill-opacity: 1;\"/><path class=\"point\" transform=\"translate(156.46,271.46)\" d=\"M3,0A3,3 0 1,1 0,-3A3,3 0 0,1 3,0Z\" style=\"opacity: 1; stroke-width: 0px; fill: rgb(0, 0, 255); fill-opacity: 1;\"/><path class=\"point\" transform=\"translate(197.94,274.7)\" d=\"M3,0A3,3 0 1,1 0,-3A3,3 0 0,1 3,0Z\" style=\"opacity: 1; stroke-width: 0px; fill: rgb(0, 0, 255); fill-opacity: 1;\"/><path class=\"point\" transform=\"translate(194.08,298.78)\" d=\"M3,0A3,3 0 1,1 0,-3A3,3 0 0,1 3,0Z\" style=\"opacity: 1; stroke-width: 0px; fill: rgb(0, 0, 255); fill-opacity: 1;\"/><path class=\"point\" transform=\"translate(191.36,218.42)\" d=\"M3,0A3,3 0 1,1 0,-3A3,3 0 0,1 3,0Z\" style=\"opacity: 1; stroke-width: 0px; fill: rgb(0, 0, 255); fill-opacity: 1;\"/><path class=\"point\" transform=\"translate(196.09,253.78)\" d=\"M3,0A3,3 0 1,1 0,-3A3,3 0 0,1 3,0Z\" style=\"opacity: 1; stroke-width: 0px; fill: rgb(0, 0, 255); fill-opacity: 1;\"/><path class=\"point\" transform=\"translate(226.89,294.11)\" d=\"M3,0A3,3 0 1,1 0,-3A3,3 0 0,1 3,0Z\" style=\"opacity: 1; stroke-width: 0px; fill: rgb(0, 0, 255); fill-opacity: 1;\"/><path class=\"point\" transform=\"translate(134.84,299.41)\" d=\"M3,0A3,3 0 1,1 0,-3A3,3 0 0,1 3,0Z\" style=\"opacity: 1; stroke-width: 0px; fill: rgb(0, 0, 255); fill-opacity: 1;\"/><path class=\"point\" transform=\"translate(267.99,240.49)\" d=\"M3,0A3,3 0 1,1 0,-3A3,3 0 0,1 3,0Z\" style=\"opacity: 1; stroke-width: 0px; fill: rgb(0, 0, 255); fill-opacity: 1;\"/><path class=\"point\" transform=\"translate(298.34,290.07)\" d=\"M3,0A3,3 0 1,1 0,-3A3,3 0 0,1 3,0Z\" style=\"opacity: 1; stroke-width: 0px; fill: rgb(0, 0, 255); fill-opacity: 1;\"/><path class=\"point\" transform=\"translate(211.33,283.17)\" d=\"M3,0A3,3 0 1,1 0,-3A3,3 0 0,1 3,0Z\" style=\"opacity: 1; stroke-width: 0px; fill: rgb(0, 0, 255); fill-opacity: 1;\"/><path class=\"point\" transform=\"translate(245.69,299.29)\" d=\"M3,0A3,3 0 1,1 0,-3A3,3 0 0,1 3,0Z\" style=\"opacity: 1; stroke-width: 0px; fill: rgb(0, 0, 255); fill-opacity: 1;\"/><path class=\"point\" transform=\"translate(174.91,292.56)\" d=\"M3,0A3,3 0 1,1 0,-3A3,3 0 0,1 3,0Z\" style=\"opacity: 1; stroke-width: 0px; fill: rgb(0, 0, 255); fill-opacity: 1;\"/><path class=\"point\" transform=\"translate(208,298.65)\" d=\"M3,0A3,3 0 1,1 0,-3A3,3 0 0,1 3,0Z\" style=\"opacity: 1; stroke-width: 0px; fill: rgb(0, 0, 255); fill-opacity: 1;\"/><path class=\"point\" transform=\"translate(247.7,295.03)\" d=\"M3,0A3,3 0 1,1 0,-3A3,3 0 0,1 3,0Z\" style=\"opacity: 1; stroke-width: 0px; fill: rgb(0, 0, 255); fill-opacity: 1;\"/><path class=\"point\" transform=\"translate(190.24,235.36)\" d=\"M3,0A3,3 0 1,1 0,-3A3,3 0 0,1 3,0Z\" style=\"opacity: 1; stroke-width: 0px; fill: rgb(0, 0, 255); fill-opacity: 1;\"/><path class=\"point\" transform=\"translate(188.1,211.34)\" d=\"M3,0A3,3 0 1,1 0,-3A3,3 0 0,1 3,0Z\" style=\"opacity: 1; stroke-width: 0px; fill: rgb(0, 0, 255); fill-opacity: 1;\"/><path class=\"point\" transform=\"translate(176.27,284.52)\" d=\"M3,0A3,3 0 1,1 0,-3A3,3 0 0,1 3,0Z\" style=\"opacity: 1; stroke-width: 0px; fill: rgb(0, 0, 255); fill-opacity: 1;\"/><path class=\"point\" transform=\"translate(240.62,287.48)\" d=\"M3,0A3,3 0 1,1 0,-3A3,3 0 0,1 3,0Z\" style=\"opacity: 1; stroke-width: 0px; fill: rgb(0, 0, 255); fill-opacity: 1;\"/><path class=\"point\" transform=\"translate(163.27,239.79)\" d=\"M3,0A3,3 0 1,1 0,-3A3,3 0 0,1 3,0Z\" style=\"opacity: 1; stroke-width: 0px; fill: rgb(0, 0, 255); fill-opacity: 1;\"/><path class=\"point\" transform=\"translate(187.87,264.33)\" d=\"M3,0A3,3 0 1,1 0,-3A3,3 0 0,1 3,0Z\" style=\"opacity: 1; stroke-width: 0px; fill: rgb(0, 0, 255); fill-opacity: 1;\"/><path class=\"point\" transform=\"translate(277.48,273.71)\" d=\"M3,0A3,3 0 1,1 0,-3A3,3 0 0,1 3,0Z\" style=\"opacity: 1; stroke-width: 0px; fill: rgb(0, 0, 255); fill-opacity: 1;\"/><path class=\"point\" transform=\"translate(233.65,278.11)\" d=\"M3,0A3,3 0 1,1 0,-3A3,3 0 0,1 3,0Z\" style=\"opacity: 1; stroke-width: 0px; fill: rgb(0, 0, 255); fill-opacity: 1;\"/><path class=\"point\" transform=\"translate(257.58,289.12)\" d=\"M3,0A3,3 0 1,1 0,-3A3,3 0 0,1 3,0Z\" style=\"opacity: 1; stroke-width: 0px; fill: rgb(0, 0, 255); fill-opacity: 1;\"/><path class=\"point\" transform=\"translate(196.66,179.32)\" d=\"M3,0A3,3 0 1,1 0,-3A3,3 0 0,1 3,0Z\" style=\"opacity: 1; stroke-width: 0px; fill: rgb(0, 0, 255); fill-opacity: 1;\"/><path class=\"point\" transform=\"translate(271.16,270.49)\" d=\"M3,0A3,3 0 1,1 0,-3A3,3 0 0,1 3,0Z\" style=\"opacity: 1; stroke-width: 0px; fill: rgb(0, 0, 255); fill-opacity: 1;\"/><path class=\"point\" transform=\"translate(255.75,296.24)\" d=\"M3,0A3,3 0 1,1 0,-3A3,3 0 0,1 3,0Z\" style=\"opacity: 1; stroke-width: 0px; fill: rgb(0, 0, 255); fill-opacity: 1;\"/><path class=\"point\" transform=\"translate(149.36,299.92)\" d=\"M3,0A3,3 0 1,1 0,-3A3,3 0 0,1 3,0Z\" style=\"opacity: 1; stroke-width: 0px; fill: rgb(0, 0, 255); fill-opacity: 1;\"/><path class=\"point\" transform=\"translate(184.71,256.73)\" d=\"M3,0A3,3 0 1,1 0,-3A3,3 0 0,1 3,0Z\" style=\"opacity: 1; stroke-width: 0px; fill: rgb(0, 0, 255); fill-opacity: 1;\"/><path class=\"point\" transform=\"translate(224.81,278.53)\" d=\"M3,0A3,3 0 1,1 0,-3A3,3 0 0,1 3,0Z\" style=\"opacity: 1; stroke-width: 0px; fill: rgb(0, 0, 255); fill-opacity: 1;\"/><path class=\"point\" transform=\"translate(225.34,263.22)\" d=\"M3,0A3,3 0 1,1 0,-3A3,3 0 0,1 3,0Z\" style=\"opacity: 1; stroke-width: 0px; fill: rgb(0, 0, 255); fill-opacity: 1;\"/><path class=\"point\" transform=\"translate(254.44,253.66)\" d=\"M3,0A3,3 0 1,1 0,-3A3,3 0 0,1 3,0Z\" style=\"opacity: 1; stroke-width: 0px; fill: rgb(0, 0, 255); fill-opacity: 1;\"/><path class=\"point\" transform=\"translate(174.34,285.93)\" d=\"M3,0A3,3 0 1,1 0,-3A3,3 0 0,1 3,0Z\" style=\"opacity: 1; stroke-width: 0px; fill: rgb(0, 0, 255); fill-opacity: 1;\"/><path class=\"point\" transform=\"translate(306.3,295.7)\" d=\"M3,0A3,3 0 1,1 0,-3A3,3 0 0,1 3,0Z\" style=\"opacity: 1; stroke-width: 0px; fill: rgb(0, 0, 255); fill-opacity: 1;\"/><path class=\"point\" transform=\"translate(165.93,292.11)\" d=\"M3,0A3,3 0 1,1 0,-3A3,3 0 0,1 3,0Z\" style=\"opacity: 1; stroke-width: 0px; fill: rgb(0, 0, 255); fill-opacity: 1;\"/><path class=\"point\" transform=\"translate(263.75,298.99)\" d=\"M3,0A3,3 0 1,1 0,-3A3,3 0 0,1 3,0Z\" style=\"opacity: 1; stroke-width: 0px; fill: rgb(0, 0, 255); fill-opacity: 1;\"/><path class=\"point\" transform=\"translate(189.37,228.4)\" d=\"M3,0A3,3 0 1,1 0,-3A3,3 0 0,1 3,0Z\" style=\"opacity: 1; stroke-width: 0px; fill: rgb(0, 0, 255); fill-opacity: 1;\"/><path class=\"point\" transform=\"translate(131.88,280.83)\" d=\"M3,0A3,3 0 1,1 0,-3A3,3 0 0,1 3,0Z\" style=\"opacity: 1; stroke-width: 0px; fill: rgb(0, 0, 255); fill-opacity: 1;\"/><path class=\"point\" transform=\"translate(252.98,255.94)\" d=\"M3,0A3,3 0 1,1 0,-3A3,3 0 0,1 3,0Z\" style=\"opacity: 1; stroke-width: 0px; fill: rgb(0, 0, 255); fill-opacity: 1;\"/><path class=\"point\" transform=\"translate(214.52,281.49)\" d=\"M3,0A3,3 0 1,1 0,-3A3,3 0 0,1 3,0Z\" style=\"opacity: 1; stroke-width: 0px; fill: rgb(0, 0, 255); fill-opacity: 1;\"/><path class=\"point\" transform=\"translate(187.15,269.3)\" d=\"M3,0A3,3 0 1,1 0,-3A3,3 0 0,1 3,0Z\" style=\"opacity: 1; stroke-width: 0px; fill: rgb(0, 0, 255); fill-opacity: 1;\"/><path class=\"point\" transform=\"translate(257.82,283.23)\" d=\"M3,0A3,3 0 1,1 0,-3A3,3 0 0,1 3,0Z\" style=\"opacity: 1; stroke-width: 0px; fill: rgb(0, 0, 255); fill-opacity: 1;\"/><path class=\"point\" transform=\"translate(255.62,227.89)\" d=\"M3,0A3,3 0 1,1 0,-3A3,3 0 0,1 3,0Z\" style=\"opacity: 1; stroke-width: 0px; fill: rgb(0, 0, 255); fill-opacity: 1;\"/><path class=\"point\" transform=\"translate(217.27,187.35)\" d=\"M3,0A3,3 0 1,1 0,-3A3,3 0 0,1 3,0Z\" style=\"opacity: 1; stroke-width: 0px; fill: rgb(0, 0, 255); fill-opacity: 1;\"/><path class=\"point\" transform=\"translate(169.56,220.96)\" d=\"M3,0A3,3 0 1,1 0,-3A3,3 0 0,1 3,0Z\" style=\"opacity: 1; stroke-width: 0px; fill: rgb(0, 0, 255); fill-opacity: 1;\"/><path class=\"point\" transform=\"translate(30.89,288.48)\" d=\"M3,0A3,3 0 1,1 0,-3A3,3 0 0,1 3,0Z\" style=\"opacity: 1; stroke-width: 0px; fill: rgb(0, 0, 255); fill-opacity: 1;\"/><path class=\"point\" transform=\"translate(83.28,208.95)\" d=\"M3,0A3,3 0 1,1 0,-3A3,3 0 0,1 3,0Z\" style=\"opacity: 1; stroke-width: 0px; fill: rgb(0, 0, 255); fill-opacity: 1;\"/><path class=\"point\" transform=\"translate(211.79,273.2)\" d=\"M3,0A3,3 0 1,1 0,-3A3,3 0 0,1 3,0Z\" style=\"opacity: 1; stroke-width: 0px; fill: rgb(0, 0, 255); fill-opacity: 1;\"/><path class=\"point\" transform=\"translate(107.07,290.89)\" d=\"M3,0A3,3 0 1,1 0,-3A3,3 0 0,1 3,0Z\" style=\"opacity: 1; stroke-width: 0px; fill: rgb(0, 0, 255); fill-opacity: 1;\"/><path class=\"point\" transform=\"translate(233.46,272.6)\" d=\"M3,0A3,3 0 1,1 0,-3A3,3 0 0,1 3,0Z\" style=\"opacity: 1; stroke-width: 0px; fill: rgb(0, 0, 255); fill-opacity: 1;\"/><path class=\"point\" transform=\"translate(256.37,300.24)\" d=\"M3,0A3,3 0 1,1 0,-3A3,3 0 0,1 3,0Z\" style=\"opacity: 1; stroke-width: 0px; fill: rgb(0, 0, 255); fill-opacity: 1;\"/><path class=\"point\" transform=\"translate(185.83,278.58)\" d=\"M3,0A3,3 0 1,1 0,-3A3,3 0 0,1 3,0Z\" style=\"opacity: 1; stroke-width: 0px; fill: rgb(0, 0, 255); fill-opacity: 1;\"/><path class=\"point\" transform=\"translate(244.64,289.95)\" d=\"M3,0A3,3 0 1,1 0,-3A3,3 0 0,1 3,0Z\" style=\"opacity: 1; stroke-width: 0px; fill: rgb(0, 0, 255); fill-opacity: 1;\"/><path class=\"point\" transform=\"translate(118.82,287.51)\" d=\"M3,0A3,3 0 1,1 0,-3A3,3 0 0,1 3,0Z\" style=\"opacity: 1; stroke-width: 0px; fill: rgb(0, 0, 255); fill-opacity: 1;\"/><path class=\"point\" transform=\"translate(271.69,219.33)\" d=\"M3,0A3,3 0 1,1 0,-3A3,3 0 0,1 3,0Z\" style=\"opacity: 1; stroke-width: 0px; fill: rgb(0, 0, 255); fill-opacity: 1;\"/><path class=\"point\" transform=\"translate(228.01,299.33)\" d=\"M3,0A3,3 0 1,1 0,-3A3,3 0 0,1 3,0Z\" style=\"opacity: 1; stroke-width: 0px; fill: rgb(0, 0, 255); fill-opacity: 1;\"/><path class=\"point\" transform=\"translate(140.41,299.27)\" d=\"M3,0A3,3 0 1,1 0,-3A3,3 0 0,1 3,0Z\" style=\"opacity: 1; stroke-width: 0px; fill: rgb(0, 0, 255); fill-opacity: 1;\"/><path class=\"point\" transform=\"translate(223.62,292.9)\" d=\"M3,0A3,3 0 1,1 0,-3A3,3 0 0,1 3,0Z\" style=\"opacity: 1; stroke-width: 0px; fill: rgb(0, 0, 255); fill-opacity: 1;\"/><path class=\"point\" transform=\"translate(194.2,264.14)\" d=\"M3,0A3,3 0 1,1 0,-3A3,3 0 0,1 3,0Z\" style=\"opacity: 1; stroke-width: 0px; fill: rgb(0, 0, 255); fill-opacity: 1;\"/><path class=\"point\" transform=\"translate(268.91,269.03)\" d=\"M3,0A3,3 0 1,1 0,-3A3,3 0 0,1 3,0Z\" style=\"opacity: 1; stroke-width: 0px; fill: rgb(0, 0, 255); fill-opacity: 1;\"/><path class=\"point\" transform=\"translate(253.9,295.68)\" d=\"M3,0A3,3 0 1,1 0,-3A3,3 0 0,1 3,0Z\" style=\"opacity: 1; stroke-width: 0px; fill: rgb(0, 0, 255); fill-opacity: 1;\"/><path class=\"point\" transform=\"translate(216.06,280.33)\" d=\"M3,0A3,3 0 1,1 0,-3A3,3 0 0,1 3,0Z\" style=\"opacity: 1; stroke-width: 0px; fill: rgb(0, 0, 255); fill-opacity: 1;\"/><path class=\"point\" transform=\"translate(421.6,287.79)\" d=\"M3,0A3,3 0 1,1 0,-3A3,3 0 0,1 3,0Z\" style=\"opacity: 1; stroke-width: 0px; fill: rgb(0, 0, 255); fill-opacity: 1;\"/><path class=\"point\" transform=\"translate(220.94,294.54)\" d=\"M3,0A3,3 0 1,1 0,-3A3,3 0 0,1 3,0Z\" style=\"opacity: 1; stroke-width: 0px; fill: rgb(0, 0, 255); fill-opacity: 1;\"/><path class=\"point\" transform=\"translate(177.16,290.31)\" d=\"M3,0A3,3 0 1,1 0,-3A3,3 0 0,1 3,0Z\" style=\"opacity: 1; stroke-width: 0px; fill: rgb(0, 0, 255); fill-opacity: 1;\"/><path class=\"point\" transform=\"translate(239.86,289.57)\" d=\"M3,0A3,3 0 1,1 0,-3A3,3 0 0,1 3,0Z\" style=\"opacity: 1; stroke-width: 0px; fill: rgb(0, 0, 255); fill-opacity: 1;\"/><path class=\"point\" transform=\"translate(190.98,279.22)\" d=\"M3,0A3,3 0 1,1 0,-3A3,3 0 0,1 3,0Z\" style=\"opacity: 1; stroke-width: 0px; fill: rgb(0, 0, 255); fill-opacity: 1;\"/><path class=\"point\" transform=\"translate(146.61,268.98)\" d=\"M3,0A3,3 0 1,1 0,-3A3,3 0 0,1 3,0Z\" style=\"opacity: 1; stroke-width: 0px; fill: rgb(0, 0, 255); fill-opacity: 1;\"/><path class=\"point\" transform=\"translate(169.29,271.39)\" d=\"M3,0A3,3 0 1,1 0,-3A3,3 0 0,1 3,0Z\" style=\"opacity: 1; stroke-width: 0px; fill: rgb(0, 0, 255); fill-opacity: 1;\"/><path class=\"point\" transform=\"translate(154.27,266.28)\" d=\"M3,0A3,3 0 1,1 0,-3A3,3 0 0,1 3,0Z\" style=\"opacity: 1; stroke-width: 0px; fill: rgb(0, 0, 255); fill-opacity: 1;\"/><path class=\"point\" transform=\"translate(180.65,286.1)\" d=\"M3,0A3,3 0 1,1 0,-3A3,3 0 0,1 3,0Z\" style=\"opacity: 1; stroke-width: 0px; fill: rgb(0, 0, 255); fill-opacity: 1;\"/><path class=\"point\" transform=\"translate(127.03,291.87)\" d=\"M3,0A3,3 0 1,1 0,-3A3,3 0 0,1 3,0Z\" style=\"opacity: 1; stroke-width: 0px; fill: rgb(0, 0, 255); fill-opacity: 1;\"/><path class=\"point\" transform=\"translate(258.38,230.91)\" d=\"M3,0A3,3 0 1,1 0,-3A3,3 0 0,1 3,0Z\" style=\"opacity: 1; stroke-width: 0px; fill: rgb(0, 0, 255); fill-opacity: 1;\"/><path class=\"point\" transform=\"translate(205.79,214.57)\" d=\"M3,0A3,3 0 1,1 0,-3A3,3 0 0,1 3,0Z\" style=\"opacity: 1; stroke-width: 0px; fill: rgb(0, 0, 255); fill-opacity: 1;\"/><path class=\"point\" transform=\"translate(178.06,250.07)\" d=\"M3,0A3,3 0 1,1 0,-3A3,3 0 0,1 3,0Z\" style=\"opacity: 1; stroke-width: 0px; fill: rgb(0, 0, 255); fill-opacity: 1;\"/><path class=\"point\" transform=\"translate(304.66,292.41)\" d=\"M3,0A3,3 0 1,1 0,-3A3,3 0 0,1 3,0Z\" style=\"opacity: 1; stroke-width: 0px; fill: rgb(0, 0, 255); fill-opacity: 1;\"/><path class=\"point\" transform=\"translate(231.97,266.01)\" d=\"M3,0A3,3 0 1,1 0,-3A3,3 0 0,1 3,0Z\" style=\"opacity: 1; stroke-width: 0px; fill: rgb(0, 0, 255); fill-opacity: 1;\"/><path class=\"point\" transform=\"translate(245.39,218.16)\" d=\"M3,0A3,3 0 1,1 0,-3A3,3 0 0,1 3,0Z\" style=\"opacity: 1; stroke-width: 0px; fill: rgb(0, 0, 255); fill-opacity: 1;\"/><path class=\"point\" transform=\"translate(168.88,299.06)\" d=\"M3,0A3,3 0 1,1 0,-3A3,3 0 0,1 3,0Z\" style=\"opacity: 1; stroke-width: 0px; fill: rgb(0, 0, 255); fill-opacity: 1;\"/><path class=\"point\" transform=\"translate(116.7,294.02)\" d=\"M3,0A3,3 0 1,1 0,-3A3,3 0 0,1 3,0Z\" style=\"opacity: 1; stroke-width: 0px; fill: rgb(0, 0, 255); fill-opacity: 1;\"/><path class=\"point\" transform=\"translate(209.9,269.11)\" d=\"M3,0A3,3 0 1,1 0,-3A3,3 0 0,1 3,0Z\" style=\"opacity: 1; stroke-width: 0px; fill: rgb(0, 0, 255); fill-opacity: 1;\"/><path class=\"point\" transform=\"translate(223.36,243.21)\" d=\"M3,0A3,3 0 1,1 0,-3A3,3 0 0,1 3,0Z\" style=\"opacity: 1; stroke-width: 0px; fill: rgb(0, 0, 255); fill-opacity: 1;\"/><path class=\"point\" transform=\"translate(201.15,287.87)\" d=\"M3,0A3,3 0 1,1 0,-3A3,3 0 0,1 3,0Z\" style=\"opacity: 1; stroke-width: 0px; fill: rgb(0, 0, 255); fill-opacity: 1;\"/><path class=\"point\" transform=\"translate(213.43,283.44)\" d=\"M3,0A3,3 0 1,1 0,-3A3,3 0 0,1 3,0Z\" style=\"opacity: 1; stroke-width: 0px; fill: rgb(0, 0, 255); fill-opacity: 1;\"/><path class=\"point\" transform=\"translate(202.45,266.14)\" d=\"M3,0A3,3 0 1,1 0,-3A3,3 0 0,1 3,0Z\" style=\"opacity: 1; stroke-width: 0px; fill: rgb(0, 0, 255); fill-opacity: 1;\"/><path class=\"point\" transform=\"translate(277.04,223.68)\" d=\"M3,0A3,3 0 1,1 0,-3A3,3 0 0,1 3,0Z\" style=\"opacity: 1; stroke-width: 0px; fill: rgb(0, 0, 255); fill-opacity: 1;\"/><path class=\"point\" transform=\"translate(217.91,253.61)\" d=\"M3,0A3,3 0 1,1 0,-3A3,3 0 0,1 3,0Z\" style=\"opacity: 1; stroke-width: 0px; fill: rgb(0, 0, 255); fill-opacity: 1;\"/><path class=\"point\" transform=\"translate(355.4,270.58)\" d=\"M3,0A3,3 0 1,1 0,-3A3,3 0 0,1 3,0Z\" style=\"opacity: 1; stroke-width: 0px; fill: rgb(0, 0, 255); fill-opacity: 1;\"/><path class=\"point\" transform=\"translate(219.95,274.26)\" d=\"M3,0A3,3 0 1,1 0,-3A3,3 0 0,1 3,0Z\" style=\"opacity: 1; stroke-width: 0px; fill: rgb(0, 0, 255); fill-opacity: 1;\"/><path class=\"point\" transform=\"translate(124.29,282.4)\" d=\"M3,0A3,3 0 1,1 0,-3A3,3 0 0,1 3,0Z\" style=\"opacity: 1; stroke-width: 0px; fill: rgb(0, 0, 255); fill-opacity: 1;\"/><path class=\"point\" transform=\"translate(128.4,251.56)\" d=\"M3,0A3,3 0 1,1 0,-3A3,3 0 0,1 3,0Z\" style=\"opacity: 1; stroke-width: 0px; fill: rgb(0, 0, 255); fill-opacity: 1;\"/><path class=\"point\" transform=\"translate(186.98,237.81)\" d=\"M3,0A3,3 0 1,1 0,-3A3,3 0 0,1 3,0Z\" style=\"opacity: 1; stroke-width: 0px; fill: rgb(0, 0, 255); fill-opacity: 1;\"/><path class=\"point\" transform=\"translate(163.75,133.81)\" d=\"M3,0A3,3 0 1,1 0,-3A3,3 0 0,1 3,0Z\" style=\"opacity: 1; stroke-width: 0px; fill: rgb(0, 0, 255); fill-opacity: 1;\"/><path class=\"point\" transform=\"translate(266.96,229.52)\" d=\"M3,0A3,3 0 1,1 0,-3A3,3 0 0,1 3,0Z\" style=\"opacity: 1; stroke-width: 0px; fill: rgb(0, 0, 255); fill-opacity: 1;\"/><path class=\"point\" transform=\"translate(144.18,273.72)\" d=\"M3,0A3,3 0 1,1 0,-3A3,3 0 0,1 3,0Z\" style=\"opacity: 1; stroke-width: 0px; fill: rgb(0, 0, 255); fill-opacity: 1;\"/><path class=\"point\" transform=\"translate(428.46,285.93)\" d=\"M3,0A3,3 0 1,1 0,-3A3,3 0 0,1 3,0Z\" style=\"opacity: 1; stroke-width: 0px; fill: rgb(0, 0, 255); fill-opacity: 1;\"/><path class=\"point\" transform=\"translate(193.09,113.36)\" d=\"M3,0A3,3 0 1,1 0,-3A3,3 0 0,1 3,0Z\" style=\"opacity: 1; stroke-width: 0px; fill: rgb(0, 0, 255); fill-opacity: 1;\"/><path class=\"point\" transform=\"translate(201.91,255.22)\" d=\"M3,0A3,3 0 1,1 0,-3A3,3 0 0,1 3,0Z\" style=\"opacity: 1; stroke-width: 0px; fill: rgb(0, 0, 255); fill-opacity: 1;\"/><path class=\"point\" transform=\"translate(172.56,262.96)\" d=\"M3,0A3,3 0 1,1 0,-3A3,3 0 0,1 3,0Z\" style=\"opacity: 1; stroke-width: 0px; fill: rgb(0, 0, 255); fill-opacity: 1;\"/><path class=\"point\" transform=\"translate(177.49,112.66)\" d=\"M3,0A3,3 0 1,1 0,-3A3,3 0 0,1 3,0Z\" style=\"opacity: 1; stroke-width: 0px; fill: rgb(0, 0, 255); fill-opacity: 1;\"/><path class=\"point\" transform=\"translate(160.08,268.07)\" d=\"M3,0A3,3 0 1,1 0,-3A3,3 0 0,1 3,0Z\" style=\"opacity: 1; stroke-width: 0px; fill: rgb(0, 0, 255); fill-opacity: 1;\"/><path class=\"point\" transform=\"translate(225.17,267.3)\" d=\"M3,0A3,3 0 1,1 0,-3A3,3 0 0,1 3,0Z\" style=\"opacity: 1; stroke-width: 0px; fill: rgb(0, 0, 255); fill-opacity: 1;\"/><path class=\"point\" transform=\"translate(180.78,188.1)\" d=\"M3,0A3,3 0 1,1 0,-3A3,3 0 0,1 3,0Z\" style=\"opacity: 1; stroke-width: 0px; fill: rgb(0, 0, 255); fill-opacity: 1;\"/><path class=\"point\" transform=\"translate(241.32,263.39)\" d=\"M3,0A3,3 0 1,1 0,-3A3,3 0 0,1 3,0Z\" style=\"opacity: 1; stroke-width: 0px; fill: rgb(0, 0, 255); fill-opacity: 1;\"/><path class=\"point\" transform=\"translate(183.77,283.09)\" d=\"M3,0A3,3 0 1,1 0,-3A3,3 0 0,1 3,0Z\" style=\"opacity: 1; stroke-width: 0px; fill: rgb(0, 0, 255); fill-opacity: 1;\"/><path class=\"point\" transform=\"translate(196.29,250.69)\" d=\"M3,0A3,3 0 1,1 0,-3A3,3 0 0,1 3,0Z\" style=\"opacity: 1; stroke-width: 0px; fill: rgb(0, 0, 255); fill-opacity: 1;\"/><path class=\"point\" transform=\"translate(197.52,277.82)\" d=\"M3,0A3,3 0 1,1 0,-3A3,3 0 0,1 3,0Z\" style=\"opacity: 1; stroke-width: 0px; fill: rgb(0, 0, 255); fill-opacity: 1;\"/><path class=\"point\" transform=\"translate(236.27,298.29)\" d=\"M3,0A3,3 0 1,1 0,-3A3,3 0 0,1 3,0Z\" style=\"opacity: 1; stroke-width: 0px; fill: rgb(0, 0, 255); fill-opacity: 1;\"/><path class=\"point\" transform=\"translate(136.02,287.05)\" d=\"M3,0A3,3 0 1,1 0,-3A3,3 0 0,1 3,0Z\" style=\"opacity: 1; stroke-width: 0px; fill: rgb(0, 0, 255); fill-opacity: 1;\"/><path class=\"point\" transform=\"translate(182.44,247.88)\" d=\"M3,0A3,3 0 1,1 0,-3A3,3 0 0,1 3,0Z\" style=\"opacity: 1; stroke-width: 0px; fill: rgb(0, 0, 255); fill-opacity: 1;\"/><path class=\"point\" transform=\"translate(179.61,297.4)\" d=\"M3,0A3,3 0 1,1 0,-3A3,3 0 0,1 3,0Z\" style=\"opacity: 1; stroke-width: 0px; fill: rgb(0, 0, 255); fill-opacity: 1;\"/><path class=\"point\" transform=\"translate(255.69,289.95)\" d=\"M3,0A3,3 0 1,1 0,-3A3,3 0 0,1 3,0Z\" style=\"opacity: 1; stroke-width: 0px; fill: rgb(0, 0, 255); fill-opacity: 1;\"/><path class=\"point\" transform=\"translate(244.97,170.08)\" d=\"M3,0A3,3 0 1,1 0,-3A3,3 0 0,1 3,0Z\" style=\"opacity: 1; stroke-width: 0px; fill: rgb(0, 0, 255); fill-opacity: 1;\"/><path class=\"point\" transform=\"translate(302.95,275.82)\" d=\"M3,0A3,3 0 1,1 0,-3A3,3 0 0,1 3,0Z\" style=\"opacity: 1; stroke-width: 0px; fill: rgb(0, 0, 255); fill-opacity: 1;\"/><path class=\"point\" transform=\"translate(197.55,294.1)\" d=\"M3,0A3,3 0 1,1 0,-3A3,3 0 0,1 3,0Z\" style=\"opacity: 1; stroke-width: 0px; fill: rgb(0, 0, 255); fill-opacity: 1;\"/><path class=\"point\" transform=\"translate(187.25,234.68)\" d=\"M3,0A3,3 0 1,1 0,-3A3,3 0 0,1 3,0Z\" style=\"opacity: 1; stroke-width: 0px; fill: rgb(0, 0, 255); fill-opacity: 1;\"/><path class=\"point\" transform=\"translate(113.64,297.04)\" d=\"M3,0A3,3 0 1,1 0,-3A3,3 0 0,1 3,0Z\" style=\"opacity: 1; stroke-width: 0px; fill: rgb(0, 0, 255); fill-opacity: 1;\"/><path class=\"point\" transform=\"translate(167.17,230.82)\" d=\"M3,0A3,3 0 1,1 0,-3A3,3 0 0,1 3,0Z\" style=\"opacity: 1; stroke-width: 0px; fill: rgb(0, 0, 255); fill-opacity: 1;\"/><path class=\"point\" transform=\"translate(140.65,293.27)\" d=\"M3,0A3,3 0 1,1 0,-3A3,3 0 0,1 3,0Z\" style=\"opacity: 1; stroke-width: 0px; fill: rgb(0, 0, 255); fill-opacity: 1;\"/><path class=\"point\" transform=\"translate(212.38,293.14)\" d=\"M3,0A3,3 0 1,1 0,-3A3,3 0 0,1 3,0Z\" style=\"opacity: 1; stroke-width: 0px; fill: rgb(0, 0, 255); fill-opacity: 1;\"/><path class=\"point\" transform=\"translate(243.52,285.37)\" d=\"M3,0A3,3 0 1,1 0,-3A3,3 0 0,1 3,0Z\" style=\"opacity: 1; stroke-width: 0px; fill: rgb(0, 0, 255); fill-opacity: 1;\"/><path class=\"point\" transform=\"translate(238.7,280.1)\" d=\"M3,0A3,3 0 1,1 0,-3A3,3 0 0,1 3,0Z\" style=\"opacity: 1; stroke-width: 0px; fill: rgb(0, 0, 255); fill-opacity: 1;\"/><path class=\"point\" transform=\"translate(45.81,294.18)\" d=\"M3,0A3,3 0 1,1 0,-3A3,3 0 0,1 3,0Z\" style=\"opacity: 1; stroke-width: 0px; fill: rgb(0, 0, 255); fill-opacity: 1;\"/><path class=\"point\" transform=\"translate(93.33,297.89)\" d=\"M3,0A3,3 0 1,1 0,-3A3,3 0 0,1 3,0Z\" style=\"opacity: 1; stroke-width: 0px; fill: rgb(0, 0, 255); fill-opacity: 1;\"/><path class=\"point\" transform=\"translate(175.6,295.84)\" d=\"M3,0A3,3 0 1,1 0,-3A3,3 0 0,1 3,0Z\" style=\"opacity: 1; stroke-width: 0px; fill: rgb(0, 0, 255); fill-opacity: 1;\"/><path class=\"point\" transform=\"translate(251.41,293.48)\" d=\"M3,0A3,3 0 1,1 0,-3A3,3 0 0,1 3,0Z\" style=\"opacity: 1; stroke-width: 0px; fill: rgb(0, 0, 255); fill-opacity: 1;\"/><path class=\"point\" transform=\"translate(125.32,260.08)\" d=\"M3,0A3,3 0 1,1 0,-3A3,3 0 0,1 3,0Z\" style=\"opacity: 1; stroke-width: 0px; fill: rgb(0, 0, 255); fill-opacity: 1;\"/><path class=\"point\" transform=\"translate(222.7,246.17)\" d=\"M3,0A3,3 0 1,1 0,-3A3,3 0 0,1 3,0Z\" style=\"opacity: 1; stroke-width: 0px; fill: rgb(0, 0, 255); fill-opacity: 1;\"/><path class=\"point\" transform=\"translate(138.14,245.07)\" d=\"M3,0A3,3 0 1,1 0,-3A3,3 0 0,1 3,0Z\" style=\"opacity: 1; stroke-width: 0px; fill: rgb(0, 0, 255); fill-opacity: 1;\"/><path class=\"point\" transform=\"translate(117.84,270.82)\" d=\"M3,0A3,3 0 1,1 0,-3A3,3 0 0,1 3,0Z\" style=\"opacity: 1; stroke-width: 0px; fill: rgb(0, 0, 255); fill-opacity: 1;\"/><path class=\"point\" transform=\"translate(136.46,283.51)\" d=\"M3,0A3,3 0 1,1 0,-3A3,3 0 0,1 3,0Z\" style=\"opacity: 1; stroke-width: 0px; fill: rgb(0, 0, 255); fill-opacity: 1;\"/><path class=\"point\" transform=\"translate(220.1,205.98)\" d=\"M3,0A3,3 0 1,1 0,-3A3,3 0 0,1 3,0Z\" style=\"opacity: 1; stroke-width: 0px; fill: rgb(0, 0, 255); fill-opacity: 1;\"/><path class=\"point\" transform=\"translate(111.82,292.1)\" d=\"M3,0A3,3 0 1,1 0,-3A3,3 0 0,1 3,0Z\" style=\"opacity: 1; stroke-width: 0px; fill: rgb(0, 0, 255); fill-opacity: 1;\"/><path class=\"point\" transform=\"translate(113.01,294.65)\" d=\"M3,0A3,3 0 1,1 0,-3A3,3 0 0,1 3,0Z\" style=\"opacity: 1; stroke-width: 0px; fill: rgb(0, 0, 255); fill-opacity: 1;\"/><path class=\"point\" transform=\"translate(264.76,282.63)\" d=\"M3,0A3,3 0 1,1 0,-3A3,3 0 0,1 3,0Z\" style=\"opacity: 1; stroke-width: 0px; fill: rgb(0, 0, 255); fill-opacity: 1;\"/><path class=\"point\" transform=\"translate(224.05,245.54)\" d=\"M3,0A3,3 0 1,1 0,-3A3,3 0 0,1 3,0Z\" style=\"opacity: 1; stroke-width: 0px; fill: rgb(0, 0, 255); fill-opacity: 1;\"/><path class=\"point\" transform=\"translate(240.78,297.93)\" d=\"M3,0A3,3 0 1,1 0,-3A3,3 0 0,1 3,0Z\" style=\"opacity: 1; stroke-width: 0px; fill: rgb(0, 0, 255); fill-opacity: 1;\"/><path class=\"point\" transform=\"translate(267.43,293.23)\" d=\"M3,0A3,3 0 1,1 0,-3A3,3 0 0,1 3,0Z\" style=\"opacity: 1; stroke-width: 0px; fill: rgb(0, 0, 255); fill-opacity: 1;\"/><path class=\"point\" transform=\"translate(255.96,277.07)\" d=\"M3,0A3,3 0 1,1 0,-3A3,3 0 0,1 3,0Z\" style=\"opacity: 1; stroke-width: 0px; fill: rgb(0, 0, 255); fill-opacity: 1;\"/><path class=\"point\" transform=\"translate(186.84,164.62)\" d=\"M3,0A3,3 0 1,1 0,-3A3,3 0 0,1 3,0Z\" style=\"opacity: 1; stroke-width: 0px; fill: rgb(0, 0, 255); fill-opacity: 1;\"/><path class=\"point\" transform=\"translate(213.9,256.39)\" d=\"M3,0A3,3 0 1,1 0,-3A3,3 0 0,1 3,0Z\" style=\"opacity: 1; stroke-width: 0px; fill: rgb(0, 0, 255); fill-opacity: 1;\"/><path class=\"point\" transform=\"translate(282.94,290.88)\" d=\"M3,0A3,3 0 1,1 0,-3A3,3 0 0,1 3,0Z\" style=\"opacity: 1; stroke-width: 0px; fill: rgb(0, 0, 255); fill-opacity: 1;\"/><path class=\"point\" transform=\"translate(125.54,299.45)\" d=\"M3,0A3,3 0 1,1 0,-3A3,3 0 0,1 3,0Z\" style=\"opacity: 1; stroke-width: 0px; fill: rgb(0, 0, 255); fill-opacity: 1;\"/><path class=\"point\" transform=\"translate(250.39,175.15)\" d=\"M3,0A3,3 0 1,1 0,-3A3,3 0 0,1 3,0Z\" style=\"opacity: 1; stroke-width: 0px; fill: rgb(0, 0, 255); fill-opacity: 1;\"/><path class=\"point\" transform=\"translate(198.42,149.94)\" d=\"M3,0A3,3 0 1,1 0,-3A3,3 0 0,1 3,0Z\" style=\"opacity: 1; stroke-width: 0px; fill: rgb(0, 0, 255); fill-opacity: 1;\"/><path class=\"point\" transform=\"translate(217.52,286.16)\" d=\"M3,0A3,3 0 1,1 0,-3A3,3 0 0,1 3,0Z\" style=\"opacity: 1; stroke-width: 0px; fill: rgb(0, 0, 255); fill-opacity: 1;\"/><path class=\"point\" transform=\"translate(197.78,163.96)\" d=\"M3,0A3,3 0 1,1 0,-3A3,3 0 0,1 3,0Z\" style=\"opacity: 1; stroke-width: 0px; fill: rgb(0, 0, 255); fill-opacity: 1;\"/><path class=\"point\" transform=\"translate(213.69,223.55)\" d=\"M3,0A3,3 0 1,1 0,-3A3,3 0 0,1 3,0Z\" style=\"opacity: 1; stroke-width: 0px; fill: rgb(0, 0, 255); fill-opacity: 1;\"/><path class=\"point\" transform=\"translate(252.97,295.82)\" d=\"M3,0A3,3 0 1,1 0,-3A3,3 0 0,1 3,0Z\" style=\"opacity: 1; stroke-width: 0px; fill: rgb(0, 0, 255); fill-opacity: 1;\"/><path class=\"point\" transform=\"translate(188.01,200.7)\" d=\"M3,0A3,3 0 1,1 0,-3A3,3 0 0,1 3,0Z\" style=\"opacity: 1; stroke-width: 0px; fill: rgb(0, 0, 255); fill-opacity: 1;\"/><path class=\"point\" transform=\"translate(364.75,260.05)\" d=\"M3,0A3,3 0 1,1 0,-3A3,3 0 0,1 3,0Z\" style=\"opacity: 1; stroke-width: 0px; fill: rgb(0, 0, 255); fill-opacity: 1;\"/><path class=\"point\" transform=\"translate(230.4,285.95)\" d=\"M3,0A3,3 0 1,1 0,-3A3,3 0 0,1 3,0Z\" style=\"opacity: 1; stroke-width: 0px; fill: rgb(0, 0, 255); fill-opacity: 1;\"/><path class=\"point\" transform=\"translate(200.22,240.52)\" d=\"M3,0A3,3 0 1,1 0,-3A3,3 0 0,1 3,0Z\" style=\"opacity: 1; stroke-width: 0px; fill: rgb(0, 0, 255); fill-opacity: 1;\"/></g><g class=\"text\"/></g></g></g><g class=\"overplot\"><g class=\"xy2\" transform=\"translate(80,100)\" clip-path=\"url(#clipcdf607xy2plot)\"><g class=\"scatterlayer mlayer\"><g class=\"trace scatter trace359d5f\" style=\"stroke-miterlimit: 2; opacity: 1;\"><g class=\"fills\"/><g class=\"errorbars\"/><g class=\"lines\"/><g class=\"points\"><path class=\"point\" transform=\"translate(168.33,287.49)\" d=\"M3,0A3,3 0 1,1 0,-3A3,3 0 0,1 3,0Z\" style=\"opacity: 1; stroke-width: 0px; fill: rgb(255, 0, 0); fill-opacity: 1;\"/><path class=\"point\" transform=\"translate(213.18,282.31)\" d=\"M3,0A3,3 0 1,1 0,-3A3,3 0 0,1 3,0Z\" style=\"opacity: 1; stroke-width: 0px; fill: rgb(255, 0, 0); fill-opacity: 1;\"/><path class=\"point\" transform=\"translate(184.89,291.35)\" d=\"M3,0A3,3 0 1,1 0,-3A3,3 0 0,1 3,0Z\" style=\"opacity: 1; stroke-width: 0px; fill: rgb(255, 0, 0); fill-opacity: 1;\"/><path class=\"point\" transform=\"translate(374.41,263.88)\" d=\"M3,0A3,3 0 1,1 0,-3A3,3 0 0,1 3,0Z\" style=\"opacity: 1; stroke-width: 0px; fill: rgb(255, 0, 0); fill-opacity: 1;\"/><path class=\"point\" transform=\"translate(238.56,229.22)\" d=\"M3,0A3,3 0 1,1 0,-3A3,3 0 0,1 3,0Z\" style=\"opacity: 1; stroke-width: 0px; fill: rgb(255, 0, 0); fill-opacity: 1;\"/><path class=\"point\" transform=\"translate(201.93,278.3)\" d=\"M3,0A3,3 0 1,1 0,-3A3,3 0 0,1 3,0Z\" style=\"opacity: 1; stroke-width: 0px; fill: rgb(255, 0, 0); fill-opacity: 1;\"/><path class=\"point\" transform=\"translate(263.93,251.34)\" d=\"M3,0A3,3 0 1,1 0,-3A3,3 0 0,1 3,0Z\" style=\"opacity: 1; stroke-width: 0px; fill: rgb(255, 0, 0); fill-opacity: 1;\"/><path class=\"point\" transform=\"translate(161.5,284.98)\" d=\"M3,0A3,3 0 1,1 0,-3A3,3 0 0,1 3,0Z\" style=\"opacity: 1; stroke-width: 0px; fill: rgb(255, 0, 0); fill-opacity: 1;\"/><path class=\"point\" transform=\"translate(199.56,289.62)\" d=\"M3,0A3,3 0 1,1 0,-3A3,3 0 0,1 3,0Z\" style=\"opacity: 1; stroke-width: 0px; fill: rgb(255, 0, 0); fill-opacity: 1;\"/><path class=\"point\" transform=\"translate(227.01,227.57)\" d=\"M3,0A3,3 0 1,1 0,-3A3,3 0 0,1 3,0Z\" style=\"opacity: 1; stroke-width: 0px; fill: rgb(255, 0, 0); fill-opacity: 1;\"/><path class=\"point\" transform=\"translate(209.17,260.53)\" d=\"M3,0A3,3 0 1,1 0,-3A3,3 0 0,1 3,0Z\" style=\"opacity: 1; stroke-width: 0px; fill: rgb(255, 0, 0); fill-opacity: 1;\"/><path class=\"point\" transform=\"translate(239.87,295.36)\" d=\"M3,0A3,3 0 1,1 0,-3A3,3 0 0,1 3,0Z\" style=\"opacity: 1; stroke-width: 0px; fill: rgb(255, 0, 0); fill-opacity: 1;\"/><path class=\"point\" transform=\"translate(159.21,266.52)\" d=\"M3,0A3,3 0 1,1 0,-3A3,3 0 0,1 3,0Z\" style=\"opacity: 1; stroke-width: 0px; fill: rgb(255, 0, 0); fill-opacity: 1;\"/><path class=\"point\" transform=\"translate(260.1,292.98)\" d=\"M3,0A3,3 0 1,1 0,-3A3,3 0 0,1 3,0Z\" style=\"opacity: 1; stroke-width: 0px; fill: rgb(255, 0, 0); fill-opacity: 1;\"/><path class=\"point\" transform=\"translate(215.09,242.73)\" d=\"M3,0A3,3 0 1,1 0,-3A3,3 0 0,1 3,0Z\" style=\"opacity: 1; stroke-width: 0px; fill: rgb(255, 0, 0); fill-opacity: 1;\"/><path class=\"point\" transform=\"translate(230.74,285.35)\" d=\"M3,0A3,3 0 1,1 0,-3A3,3 0 0,1 3,0Z\" style=\"opacity: 1; stroke-width: 0px; fill: rgb(255, 0, 0); fill-opacity: 1;\"/><path class=\"point\" transform=\"translate(217.94,275)\" d=\"M3,0A3,3 0 1,1 0,-3A3,3 0 0,1 3,0Z\" style=\"opacity: 1; stroke-width: 0px; fill: rgb(255, 0, 0); fill-opacity: 1;\"/><path class=\"point\" transform=\"translate(238.93,278.11)\" d=\"M3,0A3,3 0 1,1 0,-3A3,3 0 0,1 3,0Z\" style=\"opacity: 1; stroke-width: 0px; fill: rgb(255, 0, 0); fill-opacity: 1;\"/><path class=\"point\" transform=\"translate(363.45,275.59)\" d=\"M3,0A3,3 0 1,1 0,-3A3,3 0 0,1 3,0Z\" style=\"opacity: 1; stroke-width: 0px; fill: rgb(255, 0, 0); fill-opacity: 1;\"/><path class=\"point\" transform=\"translate(163.84,288.55)\" d=\"M3,0A3,3 0 1,1 0,-3A3,3 0 0,1 3,0Z\" style=\"opacity: 1; stroke-width: 0px; fill: rgb(255, 0, 0); fill-opacity: 1;\"/><path class=\"point\" transform=\"translate(184.68,269.34)\" d=\"M3,0A3,3 0 1,1 0,-3A3,3 0 0,1 3,0Z\" style=\"opacity: 1; stroke-width: 0px; fill: rgb(255, 0, 0); fill-opacity: 1;\"/><path class=\"point\" transform=\"translate(222.02,279.53)\" d=\"M3,0A3,3 0 1,1 0,-3A3,3 0 0,1 3,0Z\" style=\"opacity: 1; stroke-width: 0px; fill: rgb(255, 0, 0); fill-opacity: 1;\"/><path class=\"point\" transform=\"translate(239.28,19.75)\" d=\"M3,0A3,3 0 1,1 0,-3A3,3 0 0,1 3,0Z\" style=\"opacity: 1; stroke-width: 0px; fill: rgb(255, 0, 0); fill-opacity: 1;\"/><path class=\"point\" transform=\"translate(234.9,278.78)\" d=\"M3,0A3,3 0 1,1 0,-3A3,3 0 0,1 3,0Z\" style=\"opacity: 1; stroke-width: 0px; fill: rgb(255, 0, 0); fill-opacity: 1;\"/><path class=\"point\" transform=\"translate(261.67,275.56)\" d=\"M3,0A3,3 0 1,1 0,-3A3,3 0 0,1 3,0Z\" style=\"opacity: 1; stroke-width: 0px; fill: rgb(255, 0, 0); fill-opacity: 1;\"/><path class=\"point\" transform=\"translate(69.23,269.72)\" d=\"M3,0A3,3 0 1,1 0,-3A3,3 0 0,1 3,0Z\" style=\"opacity: 1; stroke-width: 0px; fill: rgb(255, 0, 0); fill-opacity: 1;\"/><path class=\"point\" transform=\"translate(283.97,169.05)\" d=\"M3,0A3,3 0 1,1 0,-3A3,3 0 0,1 3,0Z\" style=\"opacity: 1; stroke-width: 0px; fill: rgb(255, 0, 0); fill-opacity: 1;\"/><path class=\"point\" transform=\"translate(205.67,226.86)\" d=\"M3,0A3,3 0 1,1 0,-3A3,3 0 0,1 3,0Z\" style=\"opacity: 1; stroke-width: 0px; fill: rgb(255, 0, 0); fill-opacity: 1;\"/><path class=\"point\" transform=\"translate(214.98,233.73)\" d=\"M3,0A3,3 0 1,1 0,-3A3,3 0 0,1 3,0Z\" style=\"opacity: 1; stroke-width: 0px; fill: rgb(255, 0, 0); fill-opacity: 1;\"/><path class=\"point\" transform=\"translate(221.6,241.32)\" d=\"M3,0A3,3 0 1,1 0,-3A3,3 0 0,1 3,0Z\" style=\"opacity: 1; stroke-width: 0px; fill: rgb(255, 0, 0); fill-opacity: 1;\"/><path class=\"point\" transform=\"translate(240.4,260.54)\" d=\"M3,0A3,3 0 1,1 0,-3A3,3 0 0,1 3,0Z\" style=\"opacity: 1; stroke-width: 0px; fill: rgb(255, 0, 0); fill-opacity: 1;\"/><path class=\"point\" transform=\"translate(270.87,245.37)\" d=\"M3,0A3,3 0 1,1 0,-3A3,3 0 0,1 3,0Z\" style=\"opacity: 1; stroke-width: 0px; fill: rgb(255, 0, 0); fill-opacity: 1;\"/><path class=\"point\" transform=\"translate(176.4,287.51)\" d=\"M3,0A3,3 0 1,1 0,-3A3,3 0 0,1 3,0Z\" style=\"opacity: 1; stroke-width: 0px; fill: rgb(255, 0, 0); fill-opacity: 1;\"/><path class=\"point\" transform=\"translate(138.35,290.18)\" d=\"M3,0A3,3 0 1,1 0,-3A3,3 0 0,1 3,0Z\" style=\"opacity: 1; stroke-width: 0px; fill: rgb(255, 0, 0); fill-opacity: 1;\"/><path class=\"point\" transform=\"translate(217.66,283.09)\" d=\"M3,0A3,3 0 1,1 0,-3A3,3 0 0,1 3,0Z\" style=\"opacity: 1; stroke-width: 0px; fill: rgb(255, 0, 0); fill-opacity: 1;\"/><path class=\"point\" transform=\"translate(184.83,286.31)\" d=\"M3,0A3,3 0 1,1 0,-3A3,3 0 0,1 3,0Z\" style=\"opacity: 1; stroke-width: 0px; fill: rgb(255, 0, 0); fill-opacity: 1;\"/><path class=\"point\" transform=\"translate(144.7,292.82)\" d=\"M3,0A3,3 0 1,1 0,-3A3,3 0 0,1 3,0Z\" style=\"opacity: 1; stroke-width: 0px; fill: rgb(255, 0, 0); fill-opacity: 1;\"/><path class=\"point\" transform=\"translate(197.06,246.24)\" d=\"M3,0A3,3 0 1,1 0,-3A3,3 0 0,1 3,0Z\" style=\"opacity: 1; stroke-width: 0px; fill: rgb(255, 0, 0); fill-opacity: 1;\"/><path class=\"point\" transform=\"translate(131.85,294.27)\" d=\"M3,0A3,3 0 1,1 0,-3A3,3 0 0,1 3,0Z\" style=\"opacity: 1; stroke-width: 0px; fill: rgb(255, 0, 0); fill-opacity: 1;\"/><path class=\"point\" transform=\"translate(266.04,269.21)\" d=\"M3,0A3,3 0 1,1 0,-3A3,3 0 0,1 3,0Z\" style=\"opacity: 1; stroke-width: 0px; fill: rgb(255, 0, 0); fill-opacity: 1;\"/><path class=\"point\" transform=\"translate(165.64,298.82)\" d=\"M3,0A3,3 0 1,1 0,-3A3,3 0 0,1 3,0Z\" style=\"opacity: 1; stroke-width: 0px; fill: rgb(255, 0, 0); fill-opacity: 1;\"/><path class=\"point\" transform=\"translate(222.77,290.8)\" d=\"M3,0A3,3 0 1,1 0,-3A3,3 0 0,1 3,0Z\" style=\"opacity: 1; stroke-width: 0px; fill: rgb(255, 0, 0); fill-opacity: 1;\"/><path class=\"point\" transform=\"translate(249.65,264.99)\" d=\"M3,0A3,3 0 1,1 0,-3A3,3 0 0,1 3,0Z\" style=\"opacity: 1; stroke-width: 0px; fill: rgb(255, 0, 0); fill-opacity: 1;\"/><path class=\"point\" transform=\"translate(233.98,278.54)\" d=\"M3,0A3,3 0 1,1 0,-3A3,3 0 0,1 3,0Z\" style=\"opacity: 1; stroke-width: 0px; fill: rgb(255, 0, 0); fill-opacity: 1;\"/><path class=\"point\" transform=\"translate(106.93,293.71)\" d=\"M3,0A3,3 0 1,1 0,-3A3,3 0 0,1 3,0Z\" style=\"opacity: 1; stroke-width: 0px; fill: rgb(255, 0, 0); fill-opacity: 1;\"/><path class=\"point\" transform=\"translate(323.07,245.07)\" d=\"M3,0A3,3 0 1,1 0,-3A3,3 0 0,1 3,0Z\" style=\"opacity: 1; stroke-width: 0px; fill: rgb(255, 0, 0); fill-opacity: 1;\"/><path class=\"point\" transform=\"translate(220.38,285.81)\" d=\"M3,0A3,3 0 1,1 0,-3A3,3 0 0,1 3,0Z\" style=\"opacity: 1; stroke-width: 0px; fill: rgb(255, 0, 0); fill-opacity: 1;\"/><path class=\"point\" transform=\"translate(286.67,237.28)\" d=\"M3,0A3,3 0 1,1 0,-3A3,3 0 0,1 3,0Z\" style=\"opacity: 1; stroke-width: 0px; fill: rgb(255, 0, 0); fill-opacity: 1;\"/><path class=\"point\" transform=\"translate(230.69,152.9)\" d=\"M3,0A3,3 0 1,1 0,-3A3,3 0 0,1 3,0Z\" style=\"opacity: 1; stroke-width: 0px; fill: rgb(255, 0, 0); fill-opacity: 1;\"/><path class=\"point\" transform=\"translate(270.54,269.06)\" d=\"M3,0A3,3 0 1,1 0,-3A3,3 0 0,1 3,0Z\" style=\"opacity: 1; stroke-width: 0px; fill: rgb(255, 0, 0); fill-opacity: 1;\"/><path class=\"point\" transform=\"translate(80.09,272.89)\" d=\"M3,0A3,3 0 1,1 0,-3A3,3 0 0,1 3,0Z\" style=\"opacity: 1; stroke-width: 0px; fill: rgb(255, 0, 0); fill-opacity: 1;\"/><path class=\"point\" transform=\"translate(210.28,251.21)\" d=\"M3,0A3,3 0 1,1 0,-3A3,3 0 0,1 3,0Z\" style=\"opacity: 1; stroke-width: 0px; fill: rgb(255, 0, 0); fill-opacity: 1;\"/><path class=\"point\" transform=\"translate(209.03,289.92)\" d=\"M3,0A3,3 0 1,1 0,-3A3,3 0 0,1 3,0Z\" style=\"opacity: 1; stroke-width: 0px; fill: rgb(255, 0, 0); fill-opacity: 1;\"/><path class=\"point\" transform=\"translate(265.44,221.88)\" d=\"M3,0A3,3 0 1,1 0,-3A3,3 0 0,1 3,0Z\" style=\"opacity: 1; stroke-width: 0px; fill: rgb(255, 0, 0); fill-opacity: 1;\"/><path class=\"point\" transform=\"translate(253.9,204.62)\" d=\"M3,0A3,3 0 1,1 0,-3A3,3 0 0,1 3,0Z\" style=\"opacity: 1; stroke-width: 0px; fill: rgb(255, 0, 0); fill-opacity: 1;\"/><path class=\"point\" transform=\"translate(117.22,298.7)\" d=\"M3,0A3,3 0 1,1 0,-3A3,3 0 0,1 3,0Z\" style=\"opacity: 1; stroke-width: 0px; fill: rgb(255, 0, 0); fill-opacity: 1;\"/><path class=\"point\" transform=\"translate(227.07,291.8)\" d=\"M3,0A3,3 0 1,1 0,-3A3,3 0 0,1 3,0Z\" style=\"opacity: 1; stroke-width: 0px; fill: rgb(255, 0, 0); fill-opacity: 1;\"/><path class=\"point\" transform=\"translate(237.57,280.18)\" d=\"M3,0A3,3 0 1,1 0,-3A3,3 0 0,1 3,0Z\" style=\"opacity: 1; stroke-width: 0px; fill: rgb(255, 0, 0); fill-opacity: 1;\"/><path class=\"point\" transform=\"translate(199.27,289.32)\" d=\"M3,0A3,3 0 1,1 0,-3A3,3 0 0,1 3,0Z\" style=\"opacity: 1; stroke-width: 0px; fill: rgb(255, 0, 0); fill-opacity: 1;\"/><path class=\"point\" transform=\"translate(154.72,293.51)\" d=\"M3,0A3,3 0 1,1 0,-3A3,3 0 0,1 3,0Z\" style=\"opacity: 1; stroke-width: 0px; fill: rgb(255, 0, 0); fill-opacity: 1;\"/><path class=\"point\" transform=\"translate(190.67,298.33)\" d=\"M3,0A3,3 0 1,1 0,-3A3,3 0 0,1 3,0Z\" style=\"opacity: 1; stroke-width: 0px; fill: rgb(255, 0, 0); fill-opacity: 1;\"/><path class=\"point\" transform=\"translate(181.52,285.02)\" d=\"M3,0A3,3 0 1,1 0,-3A3,3 0 0,1 3,0Z\" style=\"opacity: 1; stroke-width: 0px; fill: rgb(255, 0, 0); fill-opacity: 1;\"/><path class=\"point\" transform=\"translate(183.15,297.39)\" d=\"M3,0A3,3 0 1,1 0,-3A3,3 0 0,1 3,0Z\" style=\"opacity: 1; stroke-width: 0px; fill: rgb(255, 0, 0); fill-opacity: 1;\"/><path class=\"point\" transform=\"translate(212.37,153.13)\" d=\"M3,0A3,3 0 1,1 0,-3A3,3 0 0,1 3,0Z\" style=\"opacity: 1; stroke-width: 0px; fill: rgb(255, 0, 0); fill-opacity: 1;\"/><path class=\"point\" transform=\"translate(175.79,267.81)\" d=\"M3,0A3,3 0 1,1 0,-3A3,3 0 0,1 3,0Z\" style=\"opacity: 1; stroke-width: 0px; fill: rgb(255, 0, 0); fill-opacity: 1;\"/><path class=\"point\" transform=\"translate(388.33,286.46)\" d=\"M3,0A3,3 0 1,1 0,-3A3,3 0 0,1 3,0Z\" style=\"opacity: 1; stroke-width: 0px; fill: rgb(255, 0, 0); fill-opacity: 1;\"/><path class=\"point\" transform=\"translate(334.85,270.25)\" d=\"M3,0A3,3 0 1,1 0,-3A3,3 0 0,1 3,0Z\" style=\"opacity: 1; stroke-width: 0px; fill: rgb(255, 0, 0); fill-opacity: 1;\"/><path class=\"point\" transform=\"translate(244.86,280.01)\" d=\"M3,0A3,3 0 1,1 0,-3A3,3 0 0,1 3,0Z\" style=\"opacity: 1; stroke-width: 0px; fill: rgb(255, 0, 0); fill-opacity: 1;\"/><path class=\"point\" transform=\"translate(192.17,276.79)\" d=\"M3,0A3,3 0 1,1 0,-3A3,3 0 0,1 3,0Z\" style=\"opacity: 1; stroke-width: 0px; fill: rgb(255, 0, 0); fill-opacity: 1;\"/><path class=\"point\" transform=\"translate(179.39,274.18)\" d=\"M3,0A3,3 0 1,1 0,-3A3,3 0 0,1 3,0Z\" style=\"opacity: 1; stroke-width: 0px; fill: rgb(255, 0, 0); fill-opacity: 1;\"/><path class=\"point\" transform=\"translate(190.61,290.48)\" d=\"M3,0A3,3 0 1,1 0,-3A3,3 0 0,1 3,0Z\" style=\"opacity: 1; stroke-width: 0px; fill: rgb(255, 0, 0); fill-opacity: 1;\"/><path class=\"point\" transform=\"translate(193.97,291.9)\" d=\"M3,0A3,3 0 1,1 0,-3A3,3 0 0,1 3,0Z\" style=\"opacity: 1; stroke-width: 0px; fill: rgb(255, 0, 0); fill-opacity: 1;\"/><path class=\"point\" transform=\"translate(190.19,280.43)\" d=\"M3,0A3,3 0 1,1 0,-3A3,3 0 0,1 3,0Z\" style=\"opacity: 1; stroke-width: 0px; fill: rgb(255, 0, 0); fill-opacity: 1;\"/><path class=\"point\" transform=\"translate(203,293.81)\" d=\"M3,0A3,3 0 1,1 0,-3A3,3 0 0,1 3,0Z\" style=\"opacity: 1; stroke-width: 0px; fill: rgb(255, 0, 0); fill-opacity: 1;\"/><path class=\"point\" transform=\"translate(207.82,256.89)\" d=\"M3,0A3,3 0 1,1 0,-3A3,3 0 0,1 3,0Z\" style=\"opacity: 1; stroke-width: 0px; fill: rgb(255, 0, 0); fill-opacity: 1;\"/><path class=\"point\" transform=\"translate(169.55,134.55)\" d=\"M3,0A3,3 0 1,1 0,-3A3,3 0 0,1 3,0Z\" style=\"opacity: 1; stroke-width: 0px; fill: rgb(255, 0, 0); fill-opacity: 1;\"/><path class=\"point\" transform=\"translate(179.8,288.08)\" d=\"M3,0A3,3 0 1,1 0,-3A3,3 0 0,1 3,0Z\" style=\"opacity: 1; stroke-width: 0px; fill: rgb(255, 0, 0); fill-opacity: 1;\"/><path class=\"point\" transform=\"translate(228.81,279.76)\" d=\"M3,0A3,3 0 1,1 0,-3A3,3 0 0,1 3,0Z\" style=\"opacity: 1; stroke-width: 0px; fill: rgb(255, 0, 0); fill-opacity: 1;\"/><path class=\"point\" transform=\"translate(183.39,283.77)\" d=\"M3,0A3,3 0 1,1 0,-3A3,3 0 0,1 3,0Z\" style=\"opacity: 1; stroke-width: 0px; fill: rgb(255, 0, 0); fill-opacity: 1;\"/><path class=\"point\" transform=\"translate(227.52,277.78)\" d=\"M3,0A3,3 0 1,1 0,-3A3,3 0 0,1 3,0Z\" style=\"opacity: 1; stroke-width: 0px; fill: rgb(255, 0, 0); fill-opacity: 1;\"/><path class=\"point\" transform=\"translate(157.87,283.21)\" d=\"M3,0A3,3 0 1,1 0,-3A3,3 0 0,1 3,0Z\" style=\"opacity: 1; stroke-width: 0px; fill: rgb(255, 0, 0); fill-opacity: 1;\"/><path class=\"point\" transform=\"translate(204.52,298.1)\" d=\"M3,0A3,3 0 1,1 0,-3A3,3 0 0,1 3,0Z\" style=\"opacity: 1; stroke-width: 0px; fill: rgb(255, 0, 0); fill-opacity: 1;\"/><path class=\"point\" transform=\"translate(126.33,285.83)\" d=\"M3,0A3,3 0 1,1 0,-3A3,3 0 0,1 3,0Z\" style=\"opacity: 1; stroke-width: 0px; fill: rgb(255, 0, 0); fill-opacity: 1;\"/><path class=\"point\" transform=\"translate(187.11,252.81)\" d=\"M3,0A3,3 0 1,1 0,-3A3,3 0 0,1 3,0Z\" style=\"opacity: 1; stroke-width: 0px; fill: rgb(255, 0, 0); fill-opacity: 1;\"/><path class=\"point\" transform=\"translate(148.95,286.09)\" d=\"M3,0A3,3 0 1,1 0,-3A3,3 0 0,1 3,0Z\" style=\"opacity: 1; stroke-width: 0px; fill: rgb(255, 0, 0); fill-opacity: 1;\"/><path class=\"point\" transform=\"translate(171.46,231.06)\" d=\"M3,0A3,3 0 1,1 0,-3A3,3 0 0,1 3,0Z\" style=\"opacity: 1; stroke-width: 0px; fill: rgb(255, 0, 0); fill-opacity: 1;\"/><path class=\"point\" transform=\"translate(194.34,296.28)\" d=\"M3,0A3,3 0 1,1 0,-3A3,3 0 0,1 3,0Z\" style=\"opacity: 1; stroke-width: 0px; fill: rgb(255, 0, 0); fill-opacity: 1;\"/><path class=\"point\" transform=\"translate(239.5,285.04)\" d=\"M3,0A3,3 0 1,1 0,-3A3,3 0 0,1 3,0Z\" style=\"opacity: 1; stroke-width: 0px; fill: rgb(255, 0, 0); fill-opacity: 1;\"/><path class=\"point\" transform=\"translate(272.14,298.27)\" d=\"M3,0A3,3 0 1,1 0,-3A3,3 0 0,1 3,0Z\" style=\"opacity: 1; stroke-width: 0px; fill: rgb(255, 0, 0); fill-opacity: 1;\"/><path class=\"point\" transform=\"translate(176.85,293.57)\" d=\"M3,0A3,3 0 1,1 0,-3A3,3 0 0,1 3,0Z\" style=\"opacity: 1; stroke-width: 0px; fill: rgb(255, 0, 0); fill-opacity: 1;\"/><path class=\"point\" transform=\"translate(279.43,300.12)\" d=\"M3,0A3,3 0 1,1 0,-3A3,3 0 0,1 3,0Z\" style=\"opacity: 1; stroke-width: 0px; fill: rgb(255, 0, 0); fill-opacity: 1;\"/><path class=\"point\" transform=\"translate(174.93,298.84)\" d=\"M3,0A3,3 0 1,1 0,-3A3,3 0 0,1 3,0Z\" style=\"opacity: 1; stroke-width: 0px; fill: rgb(255, 0, 0); fill-opacity: 1;\"/><path class=\"point\" transform=\"translate(192.4,296.75)\" d=\"M3,0A3,3 0 1,1 0,-3A3,3 0 0,1 3,0Z\" style=\"opacity: 1; stroke-width: 0px; fill: rgb(255, 0, 0); fill-opacity: 1;\"/><path class=\"point\" transform=\"translate(231.46,296.39)\" d=\"M3,0A3,3 0 1,1 0,-3A3,3 0 0,1 3,0Z\" style=\"opacity: 1; stroke-width: 0px; fill: rgb(255, 0, 0); fill-opacity: 1;\"/><path class=\"point\" transform=\"translate(215.81,299.74)\" d=\"M3,0A3,3 0 1,1 0,-3A3,3 0 0,1 3,0Z\" style=\"opacity: 1; stroke-width: 0px; fill: rgb(255, 0, 0); fill-opacity: 1;\"/><path class=\"point\" transform=\"translate(198.17,241.57)\" d=\"M3,0A3,3 0 1,1 0,-3A3,3 0 0,1 3,0Z\" style=\"opacity: 1; stroke-width: 0px; fill: rgb(255, 0, 0); fill-opacity: 1;\"/><path class=\"point\" transform=\"translate(238.86,288.02)\" d=\"M3,0A3,3 0 1,1 0,-3A3,3 0 0,1 3,0Z\" style=\"opacity: 1; stroke-width: 0px; fill: rgb(255, 0, 0); fill-opacity: 1;\"/><path class=\"point\" transform=\"translate(221.6,293.87)\" d=\"M3,0A3,3 0 1,1 0,-3A3,3 0 0,1 3,0Z\" style=\"opacity: 1; stroke-width: 0px; fill: rgb(255, 0, 0); fill-opacity: 1;\"/><path class=\"point\" transform=\"translate(222.34,287.86)\" d=\"M3,0A3,3 0 1,1 0,-3A3,3 0 0,1 3,0Z\" style=\"opacity: 1; stroke-width: 0px; fill: rgb(255, 0, 0); fill-opacity: 1;\"/><path class=\"point\" transform=\"translate(173.92,299.01)\" d=\"M3,0A3,3 0 1,1 0,-3A3,3 0 0,1 3,0Z\" style=\"opacity: 1; stroke-width: 0px; fill: rgb(255, 0, 0); fill-opacity: 1;\"/><path class=\"point\" transform=\"translate(129.2,286)\" d=\"M3,0A3,3 0 1,1 0,-3A3,3 0 0,1 3,0Z\" style=\"opacity: 1; stroke-width: 0px; fill: rgb(255, 0, 0); fill-opacity: 1;\"/><path class=\"point\" transform=\"translate(206.96,296.16)\" d=\"M3,0A3,3 0 1,1 0,-3A3,3 0 0,1 3,0Z\" style=\"opacity: 1; stroke-width: 0px; fill: rgb(255, 0, 0); fill-opacity: 1;\"/><path class=\"point\" transform=\"translate(289.16,291.38)\" d=\"M3,0A3,3 0 1,1 0,-3A3,3 0 0,1 3,0Z\" style=\"opacity: 1; stroke-width: 0px; fill: rgb(255, 0, 0); fill-opacity: 1;\"/><path class=\"point\" transform=\"translate(347.28,292.73)\" d=\"M3,0A3,3 0 1,1 0,-3A3,3 0 0,1 3,0Z\" style=\"opacity: 1; stroke-width: 0px; fill: rgb(255, 0, 0); fill-opacity: 1;\"/><path class=\"point\" transform=\"translate(246.85,300.21)\" d=\"M3,0A3,3 0 1,1 0,-3A3,3 0 0,1 3,0Z\" style=\"opacity: 1; stroke-width: 0px; fill: rgb(255, 0, 0); fill-opacity: 1;\"/><path class=\"point\" transform=\"translate(211.04,294)\" d=\"M3,0A3,3 0 1,1 0,-3A3,3 0 0,1 3,0Z\" style=\"opacity: 1; stroke-width: 0px; fill: rgb(255, 0, 0); fill-opacity: 1;\"/><path class=\"point\" transform=\"translate(217.53,294.49)\" d=\"M3,0A3,3 0 1,1 0,-3A3,3 0 0,1 3,0Z\" style=\"opacity: 1; stroke-width: 0px; fill: rgb(255, 0, 0); fill-opacity: 1;\"/><path class=\"point\" transform=\"translate(134.56,295.4)\" d=\"M3,0A3,3 0 1,1 0,-3A3,3 0 0,1 3,0Z\" style=\"opacity: 1; stroke-width: 0px; fill: rgb(255, 0, 0); fill-opacity: 1;\"/><path class=\"point\" transform=\"translate(168.21,284.22)\" d=\"M3,0A3,3 0 1,1 0,-3A3,3 0 0,1 3,0Z\" style=\"opacity: 1; stroke-width: 0px; fill: rgb(255, 0, 0); fill-opacity: 1;\"/><path class=\"point\" transform=\"translate(251.58,290.48)\" d=\"M3,0A3,3 0 1,1 0,-3A3,3 0 0,1 3,0Z\" style=\"opacity: 1; stroke-width: 0px; fill: rgb(255, 0, 0); fill-opacity: 1;\"/><path class=\"point\" transform=\"translate(260.48,289.08)\" d=\"M3,0A3,3 0 1,1 0,-3A3,3 0 0,1 3,0Z\" style=\"opacity: 1; stroke-width: 0px; fill: rgb(255, 0, 0); fill-opacity: 1;\"/><path class=\"point\" transform=\"translate(202.66,295.91)\" d=\"M3,0A3,3 0 1,1 0,-3A3,3 0 0,1 3,0Z\" style=\"opacity: 1; stroke-width: 0px; fill: rgb(255, 0, 0); fill-opacity: 1;\"/><path class=\"point\" transform=\"translate(115.71,269.29)\" d=\"M3,0A3,3 0 1,1 0,-3A3,3 0 0,1 3,0Z\" style=\"opacity: 1; stroke-width: 0px; fill: rgb(255, 0, 0); fill-opacity: 1;\"/><path class=\"point\" transform=\"translate(269.09,297.28)\" d=\"M3,0A3,3 0 1,1 0,-3A3,3 0 0,1 3,0Z\" style=\"opacity: 1; stroke-width: 0px; fill: rgb(255, 0, 0); fill-opacity: 1;\"/><path class=\"point\" transform=\"translate(221,293.84)\" d=\"M3,0A3,3 0 1,1 0,-3A3,3 0 0,1 3,0Z\" style=\"opacity: 1; stroke-width: 0px; fill: rgb(255, 0, 0); fill-opacity: 1;\"/><path class=\"point\" transform=\"translate(226.41,290.74)\" d=\"M3,0A3,3 0 1,1 0,-3A3,3 0 0,1 3,0Z\" style=\"opacity: 1; stroke-width: 0px; fill: rgb(255, 0, 0); fill-opacity: 1;\"/><path class=\"point\" transform=\"translate(199.51,280.25)\" d=\"M3,0A3,3 0 1,1 0,-3A3,3 0 0,1 3,0Z\" style=\"opacity: 1; stroke-width: 0px; fill: rgb(255, 0, 0); fill-opacity: 1;\"/><path class=\"point\" transform=\"translate(208.52,263.35)\" d=\"M3,0A3,3 0 1,1 0,-3A3,3 0 0,1 3,0Z\" style=\"opacity: 1; stroke-width: 0px; fill: rgb(255, 0, 0); fill-opacity: 1;\"/><path class=\"point\" transform=\"translate(259.74,298.8)\" d=\"M3,0A3,3 0 1,1 0,-3A3,3 0 0,1 3,0Z\" style=\"opacity: 1; stroke-width: 0px; fill: rgb(255, 0, 0); fill-opacity: 1;\"/><path class=\"point\" transform=\"translate(163.16,293.92)\" d=\"M3,0A3,3 0 1,1 0,-3A3,3 0 0,1 3,0Z\" style=\"opacity: 1; stroke-width: 0px; fill: rgb(255, 0, 0); fill-opacity: 1;\"/><path class=\"point\" transform=\"translate(163.74,267.72)\" d=\"M3,0A3,3 0 1,1 0,-3A3,3 0 0,1 3,0Z\" style=\"opacity: 1; stroke-width: 0px; fill: rgb(255, 0, 0); fill-opacity: 1;\"/><path class=\"point\" transform=\"translate(195.95,296.01)\" d=\"M3,0A3,3 0 1,1 0,-3A3,3 0 0,1 3,0Z\" style=\"opacity: 1; stroke-width: 0px; fill: rgb(255, 0, 0); fill-opacity: 1;\"/><path class=\"point\" transform=\"translate(223.83,273.8)\" d=\"M3,0A3,3 0 1,1 0,-3A3,3 0 0,1 3,0Z\" style=\"opacity: 1; stroke-width: 0px; fill: rgb(255, 0, 0); fill-opacity: 1;\"/><path class=\"point\" transform=\"translate(169.23,290.82)\" d=\"M3,0A3,3 0 1,1 0,-3A3,3 0 0,1 3,0Z\" style=\"opacity: 1; stroke-width: 0px; fill: rgb(255, 0, 0); fill-opacity: 1;\"/><path class=\"point\" transform=\"translate(219.19,262.51)\" d=\"M3,0A3,3 0 1,1 0,-3A3,3 0 0,1 3,0Z\" style=\"opacity: 1; stroke-width: 0px; fill: rgb(255, 0, 0); fill-opacity: 1;\"/><path class=\"point\" transform=\"translate(170.56,280.83)\" d=\"M3,0A3,3 0 1,1 0,-3A3,3 0 0,1 3,0Z\" style=\"opacity: 1; stroke-width: 0px; fill: rgb(255, 0, 0); fill-opacity: 1;\"/><path class=\"point\" transform=\"translate(223.63,289.98)\" d=\"M3,0A3,3 0 1,1 0,-3A3,3 0 0,1 3,0Z\" style=\"opacity: 1; stroke-width: 0px; fill: rgb(255, 0, 0); fill-opacity: 1;\"/><path class=\"point\" transform=\"translate(26.5,206.7)\" d=\"M3,0A3,3 0 1,1 0,-3A3,3 0 0,1 3,0Z\" style=\"opacity: 1; stroke-width: 0px; fill: rgb(255, 0, 0); fill-opacity: 1;\"/><path class=\"point\" transform=\"translate(168.62,286.45)\" d=\"M3,0A3,3 0 1,1 0,-3A3,3 0 0,1 3,0Z\" style=\"opacity: 1; stroke-width: 0px; fill: rgb(255, 0, 0); fill-opacity: 1;\"/><path class=\"point\" transform=\"translate(147.45,178.87)\" d=\"M3,0A3,3 0 1,1 0,-3A3,3 0 0,1 3,0Z\" style=\"opacity: 1; stroke-width: 0px; fill: rgb(255, 0, 0); fill-opacity: 1;\"/><path class=\"point\" transform=\"translate(145.32,285.48)\" d=\"M3,0A3,3 0 1,1 0,-3A3,3 0 0,1 3,0Z\" style=\"opacity: 1; stroke-width: 0px; fill: rgb(255, 0, 0); fill-opacity: 1;\"/><path class=\"point\" transform=\"translate(212.78,292.72)\" d=\"M3,0A3,3 0 1,1 0,-3A3,3 0 0,1 3,0Z\" style=\"opacity: 1; stroke-width: 0px; fill: rgb(255, 0, 0); fill-opacity: 1;\"/><path class=\"point\" transform=\"translate(210.27,285.99)\" d=\"M3,0A3,3 0 1,1 0,-3A3,3 0 0,1 3,0Z\" style=\"opacity: 1; stroke-width: 0px; fill: rgb(255, 0, 0); fill-opacity: 1;\"/><path class=\"point\" transform=\"translate(224.74,278.01)\" d=\"M3,0A3,3 0 1,1 0,-3A3,3 0 0,1 3,0Z\" style=\"opacity: 1; stroke-width: 0px; fill: rgb(255, 0, 0); fill-opacity: 1;\"/><path class=\"point\" transform=\"translate(172.48,293.48)\" d=\"M3,0A3,3 0 1,1 0,-3A3,3 0 0,1 3,0Z\" style=\"opacity: 1; stroke-width: 0px; fill: rgb(255, 0, 0); fill-opacity: 1;\"/><path class=\"point\" transform=\"translate(262.4,277.69)\" d=\"M3,0A3,3 0 1,1 0,-3A3,3 0 0,1 3,0Z\" style=\"opacity: 1; stroke-width: 0px; fill: rgb(255, 0, 0); fill-opacity: 1;\"/><path class=\"point\" transform=\"translate(268.05,296.83)\" d=\"M3,0A3,3 0 1,1 0,-3A3,3 0 0,1 3,0Z\" style=\"opacity: 1; stroke-width: 0px; fill: rgb(255, 0, 0); fill-opacity: 1;\"/><path class=\"point\" transform=\"translate(282.05,293.19)\" d=\"M3,0A3,3 0 1,1 0,-3A3,3 0 0,1 3,0Z\" style=\"opacity: 1; stroke-width: 0px; fill: rgb(255, 0, 0); fill-opacity: 1;\"/><path class=\"point\" transform=\"translate(226.42,283.48)\" d=\"M3,0A3,3 0 1,1 0,-3A3,3 0 0,1 3,0Z\" style=\"opacity: 1; stroke-width: 0px; fill: rgb(255, 0, 0); fill-opacity: 1;\"/><path class=\"point\" transform=\"translate(134.22,281.68)\" d=\"M3,0A3,3 0 1,1 0,-3A3,3 0 0,1 3,0Z\" style=\"opacity: 1; stroke-width: 0px; fill: rgb(255, 0, 0); fill-opacity: 1;\"/><path class=\"point\" transform=\"translate(156.46,285.01)\" d=\"M3,0A3,3 0 1,1 0,-3A3,3 0 0,1 3,0Z\" style=\"opacity: 1; stroke-width: 0px; fill: rgb(255, 0, 0); fill-opacity: 1;\"/><path class=\"point\" transform=\"translate(197.94,280.74)\" d=\"M3,0A3,3 0 1,1 0,-3A3,3 0 0,1 3,0Z\" style=\"opacity: 1; stroke-width: 0px; fill: rgb(255, 0, 0); fill-opacity: 1;\"/><path class=\"point\" transform=\"translate(194.08,297.81)\" d=\"M3,0A3,3 0 1,1 0,-3A3,3 0 0,1 3,0Z\" style=\"opacity: 1; stroke-width: 0px; fill: rgb(255, 0, 0); fill-opacity: 1;\"/><path class=\"point\" transform=\"translate(191.36,240.82)\" d=\"M3,0A3,3 0 1,1 0,-3A3,3 0 0,1 3,0Z\" style=\"opacity: 1; stroke-width: 0px; fill: rgb(255, 0, 0); fill-opacity: 1;\"/><path class=\"point\" transform=\"translate(196.09,275.53)\" d=\"M3,0A3,3 0 1,1 0,-3A3,3 0 0,1 3,0Z\" style=\"opacity: 1; stroke-width: 0px; fill: rgb(255, 0, 0); fill-opacity: 1;\"/><path class=\"point\" transform=\"translate(226.89,288.91)\" d=\"M3,0A3,3 0 1,1 0,-3A3,3 0 0,1 3,0Z\" style=\"opacity: 1; stroke-width: 0px; fill: rgb(255, 0, 0); fill-opacity: 1;\"/><path class=\"point\" transform=\"translate(134.84,299.44)\" d=\"M3,0A3,3 0 1,1 0,-3A3,3 0 0,1 3,0Z\" style=\"opacity: 1; stroke-width: 0px; fill: rgb(255, 0, 0); fill-opacity: 1;\"/><path class=\"point\" transform=\"translate(267.99,266.07)\" d=\"M3,0A3,3 0 1,1 0,-3A3,3 0 0,1 3,0Z\" style=\"opacity: 1; stroke-width: 0px; fill: rgb(255, 0, 0); fill-opacity: 1;\"/><path class=\"point\" transform=\"translate(298.34,281.25)\" d=\"M3,0A3,3 0 1,1 0,-3A3,3 0 0,1 3,0Z\" style=\"opacity: 1; stroke-width: 0px; fill: rgb(255, 0, 0); fill-opacity: 1;\"/><path class=\"point\" transform=\"translate(211.33,295.08)\" d=\"M3,0A3,3 0 1,1 0,-3A3,3 0 0,1 3,0Z\" style=\"opacity: 1; stroke-width: 0px; fill: rgb(255, 0, 0); fill-opacity: 1;\"/><path class=\"point\" transform=\"translate(245.69,298.27)\" d=\"M3,0A3,3 0 1,1 0,-3A3,3 0 0,1 3,0Z\" style=\"opacity: 1; stroke-width: 0px; fill: rgb(255, 0, 0); fill-opacity: 1;\"/><path class=\"point\" transform=\"translate(174.91,292.81)\" d=\"M3,0A3,3 0 1,1 0,-3A3,3 0 0,1 3,0Z\" style=\"opacity: 1; stroke-width: 0px; fill: rgb(255, 0, 0); fill-opacity: 1;\"/><path class=\"point\" transform=\"translate(208,296.4)\" d=\"M3,0A3,3 0 1,1 0,-3A3,3 0 0,1 3,0Z\" style=\"opacity: 1; stroke-width: 0px; fill: rgb(255, 0, 0); fill-opacity: 1;\"/><path class=\"point\" transform=\"translate(247.7,296.38)\" d=\"M3,0A3,3 0 1,1 0,-3A3,3 0 0,1 3,0Z\" style=\"opacity: 1; stroke-width: 0px; fill: rgb(255, 0, 0); fill-opacity: 1;\"/><path class=\"point\" transform=\"translate(190.24,223.95)\" d=\"M3,0A3,3 0 1,1 0,-3A3,3 0 0,1 3,0Z\" style=\"opacity: 1; stroke-width: 0px; fill: rgb(255, 0, 0); fill-opacity: 1;\"/><path class=\"point\" transform=\"translate(188.1,230.21)\" d=\"M3,0A3,3 0 1,1 0,-3A3,3 0 0,1 3,0Z\" style=\"opacity: 1; stroke-width: 0px; fill: rgb(255, 0, 0); fill-opacity: 1;\"/><path class=\"point\" transform=\"translate(176.27,274.89)\" d=\"M3,0A3,3 0 1,1 0,-3A3,3 0 0,1 3,0Z\" style=\"opacity: 1; stroke-width: 0px; fill: rgb(255, 0, 0); fill-opacity: 1;\"/><path class=\"point\" transform=\"translate(240.62,285.05)\" d=\"M3,0A3,3 0 1,1 0,-3A3,3 0 0,1 3,0Z\" style=\"opacity: 1; stroke-width: 0px; fill: rgb(255, 0, 0); fill-opacity: 1;\"/><path class=\"point\" transform=\"translate(163.27,247.81)\" d=\"M3,0A3,3 0 1,1 0,-3A3,3 0 0,1 3,0Z\" style=\"opacity: 1; stroke-width: 0px; fill: rgb(255, 0, 0); fill-opacity: 1;\"/><path class=\"point\" transform=\"translate(187.87,274.14)\" d=\"M3,0A3,3 0 1,1 0,-3A3,3 0 0,1 3,0Z\" style=\"opacity: 1; stroke-width: 0px; fill: rgb(255, 0, 0); fill-opacity: 1;\"/><path class=\"point\" transform=\"translate(277.48,280.64)\" d=\"M3,0A3,3 0 1,1 0,-3A3,3 0 0,1 3,0Z\" style=\"opacity: 1; stroke-width: 0px; fill: rgb(255, 0, 0); fill-opacity: 1;\"/><path class=\"point\" transform=\"translate(233.65,255.46)\" d=\"M3,0A3,3 0 1,1 0,-3A3,3 0 0,1 3,0Z\" style=\"opacity: 1; stroke-width: 0px; fill: rgb(255, 0, 0); fill-opacity: 1;\"/><path class=\"point\" transform=\"translate(257.58,291.87)\" d=\"M3,0A3,3 0 1,1 0,-3A3,3 0 0,1 3,0Z\" style=\"opacity: 1; stroke-width: 0px; fill: rgb(255, 0, 0); fill-opacity: 1;\"/><path class=\"point\" transform=\"translate(196.66,219.64)\" d=\"M3,0A3,3 0 1,1 0,-3A3,3 0 0,1 3,0Z\" style=\"opacity: 1; stroke-width: 0px; fill: rgb(255, 0, 0); fill-opacity: 1;\"/><path class=\"point\" transform=\"translate(271.16,276.46)\" d=\"M3,0A3,3 0 1,1 0,-3A3,3 0 0,1 3,0Z\" style=\"opacity: 1; stroke-width: 0px; fill: rgb(255, 0, 0); fill-opacity: 1;\"/><path class=\"point\" transform=\"translate(255.75,296.31)\" d=\"M3,0A3,3 0 1,1 0,-3A3,3 0 0,1 3,0Z\" style=\"opacity: 1; stroke-width: 0px; fill: rgb(255, 0, 0); fill-opacity: 1;\"/><path class=\"point\" transform=\"translate(149.36,299.05)\" d=\"M3,0A3,3 0 1,1 0,-3A3,3 0 0,1 3,0Z\" style=\"opacity: 1; stroke-width: 0px; fill: rgb(255, 0, 0); fill-opacity: 1;\"/><path class=\"point\" transform=\"translate(184.71,255.57)\" d=\"M3,0A3,3 0 1,1 0,-3A3,3 0 0,1 3,0Z\" style=\"opacity: 1; stroke-width: 0px; fill: rgb(255, 0, 0); fill-opacity: 1;\"/><path class=\"point\" transform=\"translate(224.81,295.8)\" d=\"M3,0A3,3 0 1,1 0,-3A3,3 0 0,1 3,0Z\" style=\"opacity: 1; stroke-width: 0px; fill: rgb(255, 0, 0); fill-opacity: 1;\"/><path class=\"point\" transform=\"translate(225.34,277.6)\" d=\"M3,0A3,3 0 1,1 0,-3A3,3 0 0,1 3,0Z\" style=\"opacity: 1; stroke-width: 0px; fill: rgb(255, 0, 0); fill-opacity: 1;\"/><path class=\"point\" transform=\"translate(254.44,283.87)\" d=\"M3,0A3,3 0 1,1 0,-3A3,3 0 0,1 3,0Z\" style=\"opacity: 1; stroke-width: 0px; fill: rgb(255, 0, 0); fill-opacity: 1;\"/><path class=\"point\" transform=\"translate(174.34,288.01)\" d=\"M3,0A3,3 0 1,1 0,-3A3,3 0 0,1 3,0Z\" style=\"opacity: 1; stroke-width: 0px; fill: rgb(255, 0, 0); fill-opacity: 1;\"/><path class=\"point\" transform=\"translate(306.3,296.79)\" d=\"M3,0A3,3 0 1,1 0,-3A3,3 0 0,1 3,0Z\" style=\"opacity: 1; stroke-width: 0px; fill: rgb(255, 0, 0); fill-opacity: 1;\"/><path class=\"point\" transform=\"translate(165.93,294.93)\" d=\"M3,0A3,3 0 1,1 0,-3A3,3 0 0,1 3,0Z\" style=\"opacity: 1; stroke-width: 0px; fill: rgb(255, 0, 0); fill-opacity: 1;\"/><path class=\"point\" transform=\"translate(263.75,298.8)\" d=\"M3,0A3,3 0 1,1 0,-3A3,3 0 0,1 3,0Z\" style=\"opacity: 1; stroke-width: 0px; fill: rgb(255, 0, 0); fill-opacity: 1;\"/><path class=\"point\" transform=\"translate(189.37,255.78)\" d=\"M3,0A3,3 0 1,1 0,-3A3,3 0 0,1 3,0Z\" style=\"opacity: 1; stroke-width: 0px; fill: rgb(255, 0, 0); fill-opacity: 1;\"/><path class=\"point\" transform=\"translate(131.88,282.01)\" d=\"M3,0A3,3 0 1,1 0,-3A3,3 0 0,1 3,0Z\" style=\"opacity: 1; stroke-width: 0px; fill: rgb(255, 0, 0); fill-opacity: 1;\"/><path class=\"point\" transform=\"translate(252.98,270.77)\" d=\"M3,0A3,3 0 1,1 0,-3A3,3 0 0,1 3,0Z\" style=\"opacity: 1; stroke-width: 0px; fill: rgb(255, 0, 0); fill-opacity: 1;\"/><path class=\"point\" transform=\"translate(214.52,286.09)\" d=\"M3,0A3,3 0 1,1 0,-3A3,3 0 0,1 3,0Z\" style=\"opacity: 1; stroke-width: 0px; fill: rgb(255, 0, 0); fill-opacity: 1;\"/><path class=\"point\" transform=\"translate(187.15,278.23)\" d=\"M3,0A3,3 0 1,1 0,-3A3,3 0 0,1 3,0Z\" style=\"opacity: 1; stroke-width: 0px; fill: rgb(255, 0, 0); fill-opacity: 1;\"/><path class=\"point\" transform=\"translate(257.82,286.86)\" d=\"M3,0A3,3 0 1,1 0,-3A3,3 0 0,1 3,0Z\" style=\"opacity: 1; stroke-width: 0px; fill: rgb(255, 0, 0); fill-opacity: 1;\"/><path class=\"point\" transform=\"translate(255.62,260.41)\" d=\"M3,0A3,3 0 1,1 0,-3A3,3 0 0,1 3,0Z\" style=\"opacity: 1; stroke-width: 0px; fill: rgb(255, 0, 0); fill-opacity: 1;\"/><path class=\"point\" transform=\"translate(217.27,188.64)\" d=\"M3,0A3,3 0 1,1 0,-3A3,3 0 0,1 3,0Z\" style=\"opacity: 1; stroke-width: 0px; fill: rgb(255, 0, 0); fill-opacity: 1;\"/><path class=\"point\" transform=\"translate(169.56,239.33)\" d=\"M3,0A3,3 0 1,1 0,-3A3,3 0 0,1 3,0Z\" style=\"opacity: 1; stroke-width: 0px; fill: rgb(255, 0, 0); fill-opacity: 1;\"/><path class=\"point\" transform=\"translate(30.89,285.18)\" d=\"M3,0A3,3 0 1,1 0,-3A3,3 0 0,1 3,0Z\" style=\"opacity: 1; stroke-width: 0px; fill: rgb(255, 0, 0); fill-opacity: 1;\"/><path class=\"point\" transform=\"translate(83.28,201.11)\" d=\"M3,0A3,3 0 1,1 0,-3A3,3 0 0,1 3,0Z\" style=\"opacity: 1; stroke-width: 0px; fill: rgb(255, 0, 0); fill-opacity: 1;\"/><path class=\"point\" transform=\"translate(211.79,272.82)\" d=\"M3,0A3,3 0 1,1 0,-3A3,3 0 0,1 3,0Z\" style=\"opacity: 1; stroke-width: 0px; fill: rgb(255, 0, 0); fill-opacity: 1;\"/><path class=\"point\" transform=\"translate(107.07,291.46)\" d=\"M3,0A3,3 0 1,1 0,-3A3,3 0 0,1 3,0Z\" style=\"opacity: 1; stroke-width: 0px; fill: rgb(255, 0, 0); fill-opacity: 1;\"/><path class=\"point\" transform=\"translate(233.46,277.68)\" d=\"M3,0A3,3 0 1,1 0,-3A3,3 0 0,1 3,0Z\" style=\"opacity: 1; stroke-width: 0px; fill: rgb(255, 0, 0); fill-opacity: 1;\"/><path class=\"point\" transform=\"translate(256.37,299.77)\" d=\"M3,0A3,3 0 1,1 0,-3A3,3 0 0,1 3,0Z\" style=\"opacity: 1; stroke-width: 0px; fill: rgb(255, 0, 0); fill-opacity: 1;\"/><path class=\"point\" transform=\"translate(185.83,280.07)\" d=\"M3,0A3,3 0 1,1 0,-3A3,3 0 0,1 3,0Z\" style=\"opacity: 1; stroke-width: 0px; fill: rgb(255, 0, 0); fill-opacity: 1;\"/><path class=\"point\" transform=\"translate(244.64,290.16)\" d=\"M3,0A3,3 0 1,1 0,-3A3,3 0 0,1 3,0Z\" style=\"opacity: 1; stroke-width: 0px; fill: rgb(255, 0, 0); fill-opacity: 1;\"/><path class=\"point\" transform=\"translate(118.82,281.25)\" d=\"M3,0A3,3 0 1,1 0,-3A3,3 0 0,1 3,0Z\" style=\"opacity: 1; stroke-width: 0px; fill: rgb(255, 0, 0); fill-opacity: 1;\"/><path class=\"point\" transform=\"translate(271.69,276.86)\" d=\"M3,0A3,3 0 1,1 0,-3A3,3 0 0,1 3,0Z\" style=\"opacity: 1; stroke-width: 0px; fill: rgb(255, 0, 0); fill-opacity: 1;\"/><path class=\"point\" transform=\"translate(228.01,300.25)\" d=\"M3,0A3,3 0 1,1 0,-3A3,3 0 0,1 3,0Z\" style=\"opacity: 1; stroke-width: 0px; fill: rgb(255, 0, 0); fill-opacity: 1;\"/><path class=\"point\" transform=\"translate(140.41,298.71)\" d=\"M3,0A3,3 0 1,1 0,-3A3,3 0 0,1 3,0Z\" style=\"opacity: 1; stroke-width: 0px; fill: rgb(255, 0, 0); fill-opacity: 1;\"/><path class=\"point\" transform=\"translate(223.62,295.85)\" d=\"M3,0A3,3 0 1,1 0,-3A3,3 0 0,1 3,0Z\" style=\"opacity: 1; stroke-width: 0px; fill: rgb(255, 0, 0); fill-opacity: 1;\"/><path class=\"point\" transform=\"translate(194.2,269.41)\" d=\"M3,0A3,3 0 1,1 0,-3A3,3 0 0,1 3,0Z\" style=\"opacity: 1; stroke-width: 0px; fill: rgb(255, 0, 0); fill-opacity: 1;\"/><path class=\"point\" transform=\"translate(268.91,276.5)\" d=\"M3,0A3,3 0 1,1 0,-3A3,3 0 0,1 3,0Z\" style=\"opacity: 1; stroke-width: 0px; fill: rgb(255, 0, 0); fill-opacity: 1;\"/><path class=\"point\" transform=\"translate(253.9,295.69)\" d=\"M3,0A3,3 0 1,1 0,-3A3,3 0 0,1 3,0Z\" style=\"opacity: 1; stroke-width: 0px; fill: rgb(255, 0, 0); fill-opacity: 1;\"/><path class=\"point\" transform=\"translate(216.06,281.51)\" d=\"M3,0A3,3 0 1,1 0,-3A3,3 0 0,1 3,0Z\" style=\"opacity: 1; stroke-width: 0px; fill: rgb(255, 0, 0); fill-opacity: 1;\"/><path class=\"point\" transform=\"translate(421.6,287.47)\" d=\"M3,0A3,3 0 1,1 0,-3A3,3 0 0,1 3,0Z\" style=\"opacity: 1; stroke-width: 0px; fill: rgb(255, 0, 0); fill-opacity: 1;\"/><path class=\"point\" transform=\"translate(220.94,298.46)\" d=\"M3,0A3,3 0 1,1 0,-3A3,3 0 0,1 3,0Z\" style=\"opacity: 1; stroke-width: 0px; fill: rgb(255, 0, 0); fill-opacity: 1;\"/><path class=\"point\" transform=\"translate(177.16,296.77)\" d=\"M3,0A3,3 0 1,1 0,-3A3,3 0 0,1 3,0Z\" style=\"opacity: 1; stroke-width: 0px; fill: rgb(255, 0, 0); fill-opacity: 1;\"/><path class=\"point\" transform=\"translate(239.86,286.04)\" d=\"M3,0A3,3 0 1,1 0,-3A3,3 0 0,1 3,0Z\" style=\"opacity: 1; stroke-width: 0px; fill: rgb(255, 0, 0); fill-opacity: 1;\"/><path class=\"point\" transform=\"translate(190.98,281.91)\" d=\"M3,0A3,3 0 1,1 0,-3A3,3 0 0,1 3,0Z\" style=\"opacity: 1; stroke-width: 0px; fill: rgb(255, 0, 0); fill-opacity: 1;\"/><path class=\"point\" transform=\"translate(146.61,276.98)\" d=\"M3,0A3,3 0 1,1 0,-3A3,3 0 0,1 3,0Z\" style=\"opacity: 1; stroke-width: 0px; fill: rgb(255, 0, 0); fill-opacity: 1;\"/><path class=\"point\" transform=\"translate(169.29,286.86)\" d=\"M3,0A3,3 0 1,1 0,-3A3,3 0 0,1 3,0Z\" style=\"opacity: 1; stroke-width: 0px; fill: rgb(255, 0, 0); fill-opacity: 1;\"/><path class=\"point\" transform=\"translate(154.27,266.02)\" d=\"M3,0A3,3 0 1,1 0,-3A3,3 0 0,1 3,0Z\" style=\"opacity: 1; stroke-width: 0px; fill: rgb(255, 0, 0); fill-opacity: 1;\"/><path class=\"point\" transform=\"translate(180.65,288.91)\" d=\"M3,0A3,3 0 1,1 0,-3A3,3 0 0,1 3,0Z\" style=\"opacity: 1; stroke-width: 0px; fill: rgb(255, 0, 0); fill-opacity: 1;\"/><path class=\"point\" transform=\"translate(127.03,295.82)\" d=\"M3,0A3,3 0 1,1 0,-3A3,3 0 0,1 3,0Z\" style=\"opacity: 1; stroke-width: 0px; fill: rgb(255, 0, 0); fill-opacity: 1;\"/><path class=\"point\" transform=\"translate(258.38,238.71)\" d=\"M3,0A3,3 0 1,1 0,-3A3,3 0 0,1 3,0Z\" style=\"opacity: 1; stroke-width: 0px; fill: rgb(255, 0, 0); fill-opacity: 1;\"/><path class=\"point\" transform=\"translate(205.79,238.62)\" d=\"M3,0A3,3 0 1,1 0,-3A3,3 0 0,1 3,0Z\" style=\"opacity: 1; stroke-width: 0px; fill: rgb(255, 0, 0); fill-opacity: 1;\"/><path class=\"point\" transform=\"translate(178.06,266.85)\" d=\"M3,0A3,3 0 1,1 0,-3A3,3 0 0,1 3,0Z\" style=\"opacity: 1; stroke-width: 0px; fill: rgb(255, 0, 0); fill-opacity: 1;\"/><path class=\"point\" transform=\"translate(304.66,294.7)\" d=\"M3,0A3,3 0 1,1 0,-3A3,3 0 0,1 3,0Z\" style=\"opacity: 1; stroke-width: 0px; fill: rgb(255, 0, 0); fill-opacity: 1;\"/><path class=\"point\" transform=\"translate(231.97,277.34)\" d=\"M3,0A3,3 0 1,1 0,-3A3,3 0 0,1 3,0Z\" style=\"opacity: 1; stroke-width: 0px; fill: rgb(255, 0, 0); fill-opacity: 1;\"/><path class=\"point\" transform=\"translate(245.39,280.27)\" d=\"M3,0A3,3 0 1,1 0,-3A3,3 0 0,1 3,0Z\" style=\"opacity: 1; stroke-width: 0px; fill: rgb(255, 0, 0); fill-opacity: 1;\"/><path class=\"point\" transform=\"translate(168.88,299.66)\" d=\"M3,0A3,3 0 1,1 0,-3A3,3 0 0,1 3,0Z\" style=\"opacity: 1; stroke-width: 0px; fill: rgb(255, 0, 0); fill-opacity: 1;\"/><path class=\"point\" transform=\"translate(116.7,294.85)\" d=\"M3,0A3,3 0 1,1 0,-3A3,3 0 0,1 3,0Z\" style=\"opacity: 1; stroke-width: 0px; fill: rgb(255, 0, 0); fill-opacity: 1;\"/><path class=\"point\" transform=\"translate(209.9,272.23)\" d=\"M3,0A3,3 0 1,1 0,-3A3,3 0 0,1 3,0Z\" style=\"opacity: 1; stroke-width: 0px; fill: rgb(255, 0, 0); fill-opacity: 1;\"/><path class=\"point\" transform=\"translate(223.36,247.3)\" d=\"M3,0A3,3 0 1,1 0,-3A3,3 0 0,1 3,0Z\" style=\"opacity: 1; stroke-width: 0px; fill: rgb(255, 0, 0); fill-opacity: 1;\"/><path class=\"point\" transform=\"translate(201.15,291.62)\" d=\"M3,0A3,3 0 1,1 0,-3A3,3 0 0,1 3,0Z\" style=\"opacity: 1; stroke-width: 0px; fill: rgb(255, 0, 0); fill-opacity: 1;\"/><path class=\"point\" transform=\"translate(213.43,290.16)\" d=\"M3,0A3,3 0 1,1 0,-3A3,3 0 0,1 3,0Z\" style=\"opacity: 1; stroke-width: 0px; fill: rgb(255, 0, 0); fill-opacity: 1;\"/><path class=\"point\" transform=\"translate(202.45,275.44)\" d=\"M3,0A3,3 0 1,1 0,-3A3,3 0 0,1 3,0Z\" style=\"opacity: 1; stroke-width: 0px; fill: rgb(255, 0, 0); fill-opacity: 1;\"/><path class=\"point\" transform=\"translate(277.04,220.15)\" d=\"M3,0A3,3 0 1,1 0,-3A3,3 0 0,1 3,0Z\" style=\"opacity: 1; stroke-width: 0px; fill: rgb(255, 0, 0); fill-opacity: 1;\"/><path class=\"point\" transform=\"translate(217.91,271.08)\" d=\"M3,0A3,3 0 1,1 0,-3A3,3 0 0,1 3,0Z\" style=\"opacity: 1; stroke-width: 0px; fill: rgb(255, 0, 0); fill-opacity: 1;\"/><path class=\"point\" transform=\"translate(355.4,268.59)\" d=\"M3,0A3,3 0 1,1 0,-3A3,3 0 0,1 3,0Z\" style=\"opacity: 1; stroke-width: 0px; fill: rgb(255, 0, 0); fill-opacity: 1;\"/><path class=\"point\" transform=\"translate(219.95,276.83)\" d=\"M3,0A3,3 0 1,1 0,-3A3,3 0 0,1 3,0Z\" style=\"opacity: 1; stroke-width: 0px; fill: rgb(255, 0, 0); fill-opacity: 1;\"/><path class=\"point\" transform=\"translate(124.29,292.36)\" d=\"M3,0A3,3 0 1,1 0,-3A3,3 0 0,1 3,0Z\" style=\"opacity: 1; stroke-width: 0px; fill: rgb(255, 0, 0); fill-opacity: 1;\"/><path class=\"point\" transform=\"translate(128.4,277.36)\" d=\"M3,0A3,3 0 1,1 0,-3A3,3 0 0,1 3,0Z\" style=\"opacity: 1; stroke-width: 0px; fill: rgb(255, 0, 0); fill-opacity: 1;\"/><path class=\"point\" transform=\"translate(186.98,252.19)\" d=\"M3,0A3,3 0 1,1 0,-3A3,3 0 0,1 3,0Z\" style=\"opacity: 1; stroke-width: 0px; fill: rgb(255, 0, 0); fill-opacity: 1;\"/><path class=\"point\" transform=\"translate(163.75,164.86)\" d=\"M3,0A3,3 0 1,1 0,-3A3,3 0 0,1 3,0Z\" style=\"opacity: 1; stroke-width: 0px; fill: rgb(255, 0, 0); fill-opacity: 1;\"/><path class=\"point\" transform=\"translate(266.96,239.34)\" d=\"M3,0A3,3 0 1,1 0,-3A3,3 0 0,1 3,0Z\" style=\"opacity: 1; stroke-width: 0px; fill: rgb(255, 0, 0); fill-opacity: 1;\"/><path class=\"point\" transform=\"translate(144.18,280.36)\" d=\"M3,0A3,3 0 1,1 0,-3A3,3 0 0,1 3,0Z\" style=\"opacity: 1; stroke-width: 0px; fill: rgb(255, 0, 0); fill-opacity: 1;\"/><path class=\"point\" transform=\"translate(428.46,285.11)\" d=\"M3,0A3,3 0 1,1 0,-3A3,3 0 0,1 3,0Z\" style=\"opacity: 1; stroke-width: 0px; fill: rgb(255, 0, 0); fill-opacity: 1;\"/><path class=\"point\" transform=\"translate(193.09,203)\" d=\"M3,0A3,3 0 1,1 0,-3A3,3 0 0,1 3,0Z\" style=\"opacity: 1; stroke-width: 0px; fill: rgb(255, 0, 0); fill-opacity: 1;\"/><path class=\"point\" transform=\"translate(201.91,248.03)\" d=\"M3,0A3,3 0 1,1 0,-3A3,3 0 0,1 3,0Z\" style=\"opacity: 1; stroke-width: 0px; fill: rgb(255, 0, 0); fill-opacity: 1;\"/><path class=\"point\" transform=\"translate(172.56,276.3)\" d=\"M3,0A3,3 0 1,1 0,-3A3,3 0 0,1 3,0Z\" style=\"opacity: 1; stroke-width: 0px; fill: rgb(255, 0, 0); fill-opacity: 1;\"/><path class=\"point\" transform=\"translate(177.49,154.25)\" d=\"M3,0A3,3 0 1,1 0,-3A3,3 0 0,1 3,0Z\" style=\"opacity: 1; stroke-width: 0px; fill: rgb(255, 0, 0); fill-opacity: 1;\"/><path class=\"point\" transform=\"translate(160.08,275.83)\" d=\"M3,0A3,3 0 1,1 0,-3A3,3 0 0,1 3,0Z\" style=\"opacity: 1; stroke-width: 0px; fill: rgb(255, 0, 0); fill-opacity: 1;\"/><path class=\"point\" transform=\"translate(225.17,271.97)\" d=\"M3,0A3,3 0 1,1 0,-3A3,3 0 0,1 3,0Z\" style=\"opacity: 1; stroke-width: 0px; fill: rgb(255, 0, 0); fill-opacity: 1;\"/><path class=\"point\" transform=\"translate(180.78,222.87)\" d=\"M3,0A3,3 0 1,1 0,-3A3,3 0 0,1 3,0Z\" style=\"opacity: 1; stroke-width: 0px; fill: rgb(255, 0, 0); fill-opacity: 1;\"/><path class=\"point\" transform=\"translate(241.32,286.94)\" d=\"M3,0A3,3 0 1,1 0,-3A3,3 0 0,1 3,0Z\" style=\"opacity: 1; stroke-width: 0px; fill: rgb(255, 0, 0); fill-opacity: 1;\"/><path class=\"point\" transform=\"translate(183.77,287.72)\" d=\"M3,0A3,3 0 1,1 0,-3A3,3 0 0,1 3,0Z\" style=\"opacity: 1; stroke-width: 0px; fill: rgb(255, 0, 0); fill-opacity: 1;\"/><path class=\"point\" transform=\"translate(196.29,267.42)\" d=\"M3,0A3,3 0 1,1 0,-3A3,3 0 0,1 3,0Z\" style=\"opacity: 1; stroke-width: 0px; fill: rgb(255, 0, 0); fill-opacity: 1;\"/><path class=\"point\" transform=\"translate(197.52,291.41)\" d=\"M3,0A3,3 0 1,1 0,-3A3,3 0 0,1 3,0Z\" style=\"opacity: 1; stroke-width: 0px; fill: rgb(255, 0, 0); fill-opacity: 1;\"/><path class=\"point\" transform=\"translate(236.27,298.24)\" d=\"M3,0A3,3 0 1,1 0,-3A3,3 0 0,1 3,0Z\" style=\"opacity: 1; stroke-width: 0px; fill: rgb(255, 0, 0); fill-opacity: 1;\"/><path class=\"point\" transform=\"translate(136.02,287.78)\" d=\"M3,0A3,3 0 1,1 0,-3A3,3 0 0,1 3,0Z\" style=\"opacity: 1; stroke-width: 0px; fill: rgb(255, 0, 0); fill-opacity: 1;\"/><path class=\"point\" transform=\"translate(182.44,272.76)\" d=\"M3,0A3,3 0 1,1 0,-3A3,3 0 0,1 3,0Z\" style=\"opacity: 1; stroke-width: 0px; fill: rgb(255, 0, 0); fill-opacity: 1;\"/><path class=\"point\" transform=\"translate(179.61,299.15)\" d=\"M3,0A3,3 0 1,1 0,-3A3,3 0 0,1 3,0Z\" style=\"opacity: 1; stroke-width: 0px; fill: rgb(255, 0, 0); fill-opacity: 1;\"/><path class=\"point\" transform=\"translate(255.69,290.9)\" d=\"M3,0A3,3 0 1,1 0,-3A3,3 0 0,1 3,0Z\" style=\"opacity: 1; stroke-width: 0px; fill: rgb(255, 0, 0); fill-opacity: 1;\"/><path class=\"point\" transform=\"translate(244.97,234.1)\" d=\"M3,0A3,3 0 1,1 0,-3A3,3 0 0,1 3,0Z\" style=\"opacity: 1; stroke-width: 0px; fill: rgb(255, 0, 0); fill-opacity: 1;\"/><path class=\"point\" transform=\"translate(302.95,284.44)\" d=\"M3,0A3,3 0 1,1 0,-3A3,3 0 0,1 3,0Z\" style=\"opacity: 1; stroke-width: 0px; fill: rgb(255, 0, 0); fill-opacity: 1;\"/><path class=\"point\" transform=\"translate(197.55,298.52)\" d=\"M3,0A3,3 0 1,1 0,-3A3,3 0 0,1 3,0Z\" style=\"opacity: 1; stroke-width: 0px; fill: rgb(255, 0, 0); fill-opacity: 1;\"/><path class=\"point\" transform=\"translate(187.25,251.87)\" d=\"M3,0A3,3 0 1,1 0,-3A3,3 0 0,1 3,0Z\" style=\"opacity: 1; stroke-width: 0px; fill: rgb(255, 0, 0); fill-opacity: 1;\"/><path class=\"point\" transform=\"translate(113.64,297.9)\" d=\"M3,0A3,3 0 1,1 0,-3A3,3 0 0,1 3,0Z\" style=\"opacity: 1; stroke-width: 0px; fill: rgb(255, 0, 0); fill-opacity: 1;\"/><path class=\"point\" transform=\"translate(167.17,255.14)\" d=\"M3,0A3,3 0 1,1 0,-3A3,3 0 0,1 3,0Z\" style=\"opacity: 1; stroke-width: 0px; fill: rgb(255, 0, 0); fill-opacity: 1;\"/><path class=\"point\" transform=\"translate(140.65,293.48)\" d=\"M3,0A3,3 0 1,1 0,-3A3,3 0 0,1 3,0Z\" style=\"opacity: 1; stroke-width: 0px; fill: rgb(255, 0, 0); fill-opacity: 1;\"/><path class=\"point\" transform=\"translate(212.38,293.55)\" d=\"M3,0A3,3 0 1,1 0,-3A3,3 0 0,1 3,0Z\" style=\"opacity: 1; stroke-width: 0px; fill: rgb(255, 0, 0); fill-opacity: 1;\"/><path class=\"point\" transform=\"translate(243.52,287.66)\" d=\"M3,0A3,3 0 1,1 0,-3A3,3 0 0,1 3,0Z\" style=\"opacity: 1; stroke-width: 0px; fill: rgb(255, 0, 0); fill-opacity: 1;\"/><path class=\"point\" transform=\"translate(238.7,294.5)\" d=\"M3,0A3,3 0 1,1 0,-3A3,3 0 0,1 3,0Z\" style=\"opacity: 1; stroke-width: 0px; fill: rgb(255, 0, 0); fill-opacity: 1;\"/><path class=\"point\" transform=\"translate(45.81,294.99)\" d=\"M3,0A3,3 0 1,1 0,-3A3,3 0 0,1 3,0Z\" style=\"opacity: 1; stroke-width: 0px; fill: rgb(255, 0, 0); fill-opacity: 1;\"/><path class=\"point\" transform=\"translate(93.33,299.01)\" d=\"M3,0A3,3 0 1,1 0,-3A3,3 0 0,1 3,0Z\" style=\"opacity: 1; stroke-width: 0px; fill: rgb(255, 0, 0); fill-opacity: 1;\"/><path class=\"point\" transform=\"translate(175.6,298.31)\" d=\"M3,0A3,3 0 1,1 0,-3A3,3 0 0,1 3,0Z\" style=\"opacity: 1; stroke-width: 0px; fill: rgb(255, 0, 0); fill-opacity: 1;\"/><path class=\"point\" transform=\"translate(251.41,292)\" d=\"M3,0A3,3 0 1,1 0,-3A3,3 0 0,1 3,0Z\" style=\"opacity: 1; stroke-width: 0px; fill: rgb(255, 0, 0); fill-opacity: 1;\"/><path class=\"point\" transform=\"translate(125.32,271.48)\" d=\"M3,0A3,3 0 1,1 0,-3A3,3 0 0,1 3,0Z\" style=\"opacity: 1; stroke-width: 0px; fill: rgb(255, 0, 0); fill-opacity: 1;\"/><path class=\"point\" transform=\"translate(222.7,255.07)\" d=\"M3,0A3,3 0 1,1 0,-3A3,3 0 0,1 3,0Z\" style=\"opacity: 1; stroke-width: 0px; fill: rgb(255, 0, 0); fill-opacity: 1;\"/><path class=\"point\" transform=\"translate(138.14,266.32)\" d=\"M3,0A3,3 0 1,1 0,-3A3,3 0 0,1 3,0Z\" style=\"opacity: 1; stroke-width: 0px; fill: rgb(255, 0, 0); fill-opacity: 1;\"/><path class=\"point\" transform=\"translate(117.84,277.89)\" d=\"M3,0A3,3 0 1,1 0,-3A3,3 0 0,1 3,0Z\" style=\"opacity: 1; stroke-width: 0px; fill: rgb(255, 0, 0); fill-opacity: 1;\"/><path class=\"point\" transform=\"translate(136.46,286.85)\" d=\"M3,0A3,3 0 1,1 0,-3A3,3 0 0,1 3,0Z\" style=\"opacity: 1; stroke-width: 0px; fill: rgb(255, 0, 0); fill-opacity: 1;\"/><path class=\"point\" transform=\"translate(220.1,250.5)\" d=\"M3,0A3,3 0 1,1 0,-3A3,3 0 0,1 3,0Z\" style=\"opacity: 1; stroke-width: 0px; fill: rgb(255, 0, 0); fill-opacity: 1;\"/><path class=\"point\" transform=\"translate(111.82,291.36)\" d=\"M3,0A3,3 0 1,1 0,-3A3,3 0 0,1 3,0Z\" style=\"opacity: 1; stroke-width: 0px; fill: rgb(255, 0, 0); fill-opacity: 1;\"/><path class=\"point\" transform=\"translate(113.01,295.4)\" d=\"M3,0A3,3 0 1,1 0,-3A3,3 0 0,1 3,0Z\" style=\"opacity: 1; stroke-width: 0px; fill: rgb(255, 0, 0); fill-opacity: 1;\"/><path class=\"point\" transform=\"translate(264.76,291.95)\" d=\"M3,0A3,3 0 1,1 0,-3A3,3 0 0,1 3,0Z\" style=\"opacity: 1; stroke-width: 0px; fill: rgb(255, 0, 0); fill-opacity: 1;\"/><path class=\"point\" transform=\"translate(224.05,259.68)\" d=\"M3,0A3,3 0 1,1 0,-3A3,3 0 0,1 3,0Z\" style=\"opacity: 1; stroke-width: 0px; fill: rgb(255, 0, 0); fill-opacity: 1;\"/><path class=\"point\" transform=\"translate(240.78,299.43)\" d=\"M3,0A3,3 0 1,1 0,-3A3,3 0 0,1 3,0Z\" style=\"opacity: 1; stroke-width: 0px; fill: rgb(255, 0, 0); fill-opacity: 1;\"/><path class=\"point\" transform=\"translate(267.43,291.94)\" d=\"M3,0A3,3 0 1,1 0,-3A3,3 0 0,1 3,0Z\" style=\"opacity: 1; stroke-width: 0px; fill: rgb(255, 0, 0); fill-opacity: 1;\"/><path class=\"point\" transform=\"translate(255.96,284.56)\" d=\"M3,0A3,3 0 1,1 0,-3A3,3 0 0,1 3,0Z\" style=\"opacity: 1; stroke-width: 0px; fill: rgb(255, 0, 0); fill-opacity: 1;\"/><path class=\"point\" transform=\"translate(186.84,204.41)\" d=\"M3,0A3,3 0 1,1 0,-3A3,3 0 0,1 3,0Z\" style=\"opacity: 1; stroke-width: 0px; fill: rgb(255, 0, 0); fill-opacity: 1;\"/><path class=\"point\" transform=\"translate(213.9,277.29)\" d=\"M3,0A3,3 0 1,1 0,-3A3,3 0 0,1 3,0Z\" style=\"opacity: 1; stroke-width: 0px; fill: rgb(255, 0, 0); fill-opacity: 1;\"/><path class=\"point\" transform=\"translate(282.94,295.21)\" d=\"M3,0A3,3 0 1,1 0,-3A3,3 0 0,1 3,0Z\" style=\"opacity: 1; stroke-width: 0px; fill: rgb(255, 0, 0); fill-opacity: 1;\"/><path class=\"point\" transform=\"translate(125.54,299.33)\" d=\"M3,0A3,3 0 1,1 0,-3A3,3 0 0,1 3,0Z\" style=\"opacity: 1; stroke-width: 0px; fill: rgb(255, 0, 0); fill-opacity: 1;\"/><path class=\"point\" transform=\"translate(250.39,194.13)\" d=\"M3,0A3,3 0 1,1 0,-3A3,3 0 0,1 3,0Z\" style=\"opacity: 1; stroke-width: 0px; fill: rgb(255, 0, 0); fill-opacity: 1;\"/><path class=\"point\" transform=\"translate(198.42,189.3)\" d=\"M3,0A3,3 0 1,1 0,-3A3,3 0 0,1 3,0Z\" style=\"opacity: 1; stroke-width: 0px; fill: rgb(255, 0, 0); fill-opacity: 1;\"/><path class=\"point\" transform=\"translate(217.52,286.94)\" d=\"M3,0A3,3 0 1,1 0,-3A3,3 0 0,1 3,0Z\" style=\"opacity: 1; stroke-width: 0px; fill: rgb(255, 0, 0); fill-opacity: 1;\"/><path class=\"point\" transform=\"translate(197.78,202.14)\" d=\"M3,0A3,3 0 1,1 0,-3A3,3 0 0,1 3,0Z\" style=\"opacity: 1; stroke-width: 0px; fill: rgb(255, 0, 0); fill-opacity: 1;\"/><path class=\"point\" transform=\"translate(213.69,260.63)\" d=\"M3,0A3,3 0 1,1 0,-3A3,3 0 0,1 3,0Z\" style=\"opacity: 1; stroke-width: 0px; fill: rgb(255, 0, 0); fill-opacity: 1;\"/><path class=\"point\" transform=\"translate(252.97,295.02)\" d=\"M3,0A3,3 0 1,1 0,-3A3,3 0 0,1 3,0Z\" style=\"opacity: 1; stroke-width: 0px; fill: rgb(255, 0, 0); fill-opacity: 1;\"/><path class=\"point\" transform=\"translate(188.01,232.99)\" d=\"M3,0A3,3 0 1,1 0,-3A3,3 0 0,1 3,0Z\" style=\"opacity: 1; stroke-width: 0px; fill: rgb(255, 0, 0); fill-opacity: 1;\"/><path class=\"point\" transform=\"translate(364.75,263.59)\" d=\"M3,0A3,3 0 1,1 0,-3A3,3 0 0,1 3,0Z\" style=\"opacity: 1; stroke-width: 0px; fill: rgb(255, 0, 0); fill-opacity: 1;\"/><path class=\"point\" transform=\"translate(230.4,290.96)\" d=\"M3,0A3,3 0 1,1 0,-3A3,3 0 0,1 3,0Z\" style=\"opacity: 1; stroke-width: 0px; fill: rgb(255, 0, 0); fill-opacity: 1;\"/><path class=\"point\" transform=\"translate(200.22,255.01)\" d=\"M3,0A3,3 0 1,1 0,-3A3,3 0 0,1 3,0Z\" style=\"opacity: 1; stroke-width: 0px; fill: rgb(255, 0, 0); fill-opacity: 1;\"/></g><g class=\"text\"/></g></g></g></g><path class=\"xlines-above crisp\" d=\"M0,0\" style=\"fill: none;\"/><path class=\"ylines-above crisp\" d=\"M0,0\" style=\"fill: none;\"/><g class=\"overlines-above\"><path class=\"xy2-x crisp\" d=\"M0,0\" style=\"fill: none;\"/><path class=\"xy2-y crisp\" d=\"M0,0\" style=\"fill: none;\"/></g><g class=\"xaxislayer-above\"><g class=\"xtick\"><text text-anchor=\"middle\" x=\"0\" y=\"433\" transform=\"translate(193.73000000000002,0)\" style=\"font-family: 'Open Sans', verdana, arial, sans-serif; font-size: 12px; fill: rgb(242, 245, 250); fill-opacity: 1; white-space: pre; opacity: 1;\">−0.2</text></g><g class=\"xtick\"><text text-anchor=\"middle\" x=\"0\" y=\"433\" style=\"font-family: 'Open Sans', verdana, arial, sans-serif; font-size: 12px; fill: rgb(242, 245, 250); fill-opacity: 1; white-space: pre; opacity: 1;\" transform=\"translate(319.27,0)\">0</text></g><g class=\"xtick\"><text text-anchor=\"middle\" x=\"0\" y=\"433\" style=\"font-family: 'Open Sans', verdana, arial, sans-serif; font-size: 12px; fill: rgb(242, 245, 250); fill-opacity: 1; white-space: pre; opacity: 1;\" transform=\"translate(444.81,0)\">0.2</text></g></g><g class=\"yaxislayer-above\"><g class=\"ytick\"><text text-anchor=\"end\" x=\"79\" y=\"4.199999999999999\" transform=\"translate(0,401.73)\" style=\"font-family: 'Open Sans', verdana, arial, sans-serif; font-size: 12px; fill: rgb(242, 245, 250); fill-opacity: 1; white-space: pre; opacity: 1;\">0</text></g><g class=\"ytick\"><text text-anchor=\"end\" x=\"79\" y=\"4.199999999999999\" style=\"font-family: 'Open Sans', verdana, arial, sans-serif; font-size: 12px; fill: rgb(242, 245, 250); fill-opacity: 1; white-space: pre; opacity: 1;\" transform=\"translate(0,326.43)\">0.5M</text></g><g class=\"ytick\"><text text-anchor=\"end\" x=\"79\" y=\"4.199999999999999\" style=\"font-family: 'Open Sans', verdana, arial, sans-serif; font-size: 12px; fill: rgb(242, 245, 250); fill-opacity: 1; white-space: pre; opacity: 1;\" transform=\"translate(0,251.12)\">1M</text></g><g class=\"ytick\"><text text-anchor=\"end\" x=\"79\" y=\"4.199999999999999\" style=\"font-family: 'Open Sans', verdana, arial, sans-serif; font-size: 12px; fill: rgb(242, 245, 250); fill-opacity: 1; white-space: pre; opacity: 1;\" transform=\"translate(0,175.82)\">1.5M</text></g><g class=\"ytick\"><text text-anchor=\"end\" x=\"79\" y=\"4.199999999999999\" style=\"font-family: 'Open Sans', verdana, arial, sans-serif; font-size: 12px; fill: rgb(242, 245, 250); fill-opacity: 1; white-space: pre; opacity: 1;\" transform=\"translate(0,100.52)\">2M</text></g></g><g class=\"overaxes-above\"><g class=\"xy2-x\"/><g class=\"xy2-y\"><g class=\"y2tick\"><text text-anchor=\"start\" x=\"535.96\" y=\"4.199999999999999\" transform=\"translate(0,401.93)\" style=\"font-family: 'Open Sans', verdana, arial, sans-serif; font-size: 12px; fill: rgb(242, 245, 250); fill-opacity: 1; white-space: pre; opacity: 1;\">0</text></g><g class=\"y2tick\"><text text-anchor=\"start\" x=\"535.96\" y=\"4.199999999999999\" style=\"font-family: 'Open Sans', verdana, arial, sans-serif; font-size: 12px; fill: rgb(242, 245, 250); fill-opacity: 1; white-space: pre; opacity: 1;\" transform=\"translate(0,342.73)\">10k</text></g><g class=\"y2tick\"><text text-anchor=\"start\" x=\"535.96\" y=\"4.199999999999999\" style=\"font-family: 'Open Sans', verdana, arial, sans-serif; font-size: 12px; fill: rgb(242, 245, 250); fill-opacity: 1; white-space: pre; opacity: 1;\" transform=\"translate(0,283.52)\">20k</text></g><g class=\"y2tick\"><text text-anchor=\"start\" x=\"535.96\" y=\"4.199999999999999\" style=\"font-family: 'Open Sans', verdana, arial, sans-serif; font-size: 12px; fill: rgb(242, 245, 250); fill-opacity: 1; white-space: pre; opacity: 1;\" transform=\"translate(0,224.32)\">30k</text></g><g class=\"y2tick\"><text text-anchor=\"start\" x=\"535.96\" y=\"4.199999999999999\" style=\"font-family: 'Open Sans', verdana, arial, sans-serif; font-size: 12px; fill: rgb(242, 245, 250); fill-opacity: 1; white-space: pre; opacity: 1;\" transform=\"translate(0,165.12)\">40k</text></g><g class=\"y2tick\"><text text-anchor=\"start\" x=\"535.96\" y=\"4.199999999999999\" style=\"font-family: 'Open Sans', verdana, arial, sans-serif; font-size: 12px; fill: rgb(242, 245, 250); fill-opacity: 1; white-space: pre; opacity: 1;\" transform=\"translate(0,105.91)\">50k</text></g></g></g></g><g class=\"subplot xy2\"/></g><g class=\"polarlayer\"/><g class=\"smithlayer\"/><g class=\"ternarylayer\"/><g class=\"geolayer\"/><g class=\"funnelarealayer\"/><g class=\"pielayer\"/><g class=\"iciclelayer\"/><g class=\"treemaplayer\"/><g class=\"sunburstlayer\"/><g class=\"glimages\"/><defs id=\"topdefs-cdf607\"><g class=\"clips\"/><clipPath id=\"legendcdf607\"><rect width=\"114\" height=\"48\" x=\"0\" y=\"0\"/></clipPath></defs><g class=\"layer-above\"><g class=\"imagelayer\"/><g class=\"shapelayer\"/></g><g class=\"infolayer\"><g class=\"legend\" pointer-events=\"all\" transform=\"translate(573.6800000000001,100)\"><rect class=\"bg\" shape-rendering=\"crispEdges\" width=\"114\" height=\"48\" x=\"0\" y=\"0\" style=\"stroke: rgb(68, 68, 68); stroke-opacity: 1; fill: rgb(17, 17, 17); fill-opacity: 1; stroke-width: 0px;\"/><g class=\"scrollbox\" transform=\"\" clip-path=\"url(#legendcdf607)\"><g class=\"groups\"><g class=\"traces\" transform=\"translate(0,14.5)\" style=\"opacity: 1;\"><text class=\"legendtext\" text-anchor=\"start\" x=\"40\" y=\"4.680000000000001\" style=\"font-family: 'Open Sans', verdana, arial, sans-serif; font-size: 12px; fill: rgb(242, 245, 250); fill-opacity: 1; white-space: pre;\">View Count</text><g class=\"layers\" style=\"opacity: 1;\"><g class=\"legendfill\"/><g class=\"legendlines\"/><g class=\"legendsymbols\"><g class=\"legendpoints\"><path class=\"scatterpts\" transform=\"translate(20,0)\" d=\"M3,0A3,3 0 1,1 0,-3A3,3 0 0,1 3,0Z\" style=\"opacity: 1; stroke-width: 0px; fill: rgb(0, 0, 255); fill-opacity: 1;\"/></g></g></g><rect class=\"legendtoggle\" x=\"0\" y=\"-9.5\" width=\"108.265625\" height=\"19\" style=\"fill: rgb(0, 0, 0); fill-opacity: 0;\"/></g><g class=\"traces\" transform=\"translate(0,33.5)\" style=\"opacity: 1;\"><text class=\"legendtext\" text-anchor=\"start\" x=\"40\" y=\"4.680000000000001\" style=\"font-family: 'Open Sans', verdana, arial, sans-serif; font-size: 12px; fill: rgb(242, 245, 250); fill-opacity: 1; white-space: pre;\">Like Count</text><g class=\"layers\" style=\"opacity: 1;\"><g class=\"legendfill\"/><g class=\"legendlines\"/><g class=\"legendsymbols\"><g class=\"legendpoints\"><path class=\"scatterpts\" transform=\"translate(20,0)\" d=\"M3,0A3,3 0 1,1 0,-3A3,3 0 0,1 3,0Z\" style=\"opacity: 1; stroke-width: 0px; fill: rgb(255, 0, 0); fill-opacity: 1;\"/></g></g></g><rect class=\"legendtoggle\" x=\"0\" y=\"-9.5\" width=\"108.265625\" height=\"19\" style=\"fill: rgb(0, 0, 0); fill-opacity: 0;\"/></g></g></g><rect class=\"scrollbar\" rx=\"20\" ry=\"3\" width=\"0\" height=\"0\" x=\"0\" y=\"0\" style=\"fill: rgb(128, 139, 164); fill-opacity: 1;\"/></g><g class=\"g-gtitle\"><text class=\"gtitle\" x=\"35\" y=\"50\" text-anchor=\"start\" dy=\"0em\" style=\"font-family: 'Open Sans', verdana, arial, sans-serif; font-size: 17px; fill: rgb(242, 245, 250); opacity: 1; font-weight: normal; white-space: pre;\"><tspan style=\"font-weight:bold\">Youtube View &amp; Like Counts VS Sentiment Scores<tspan style=\"font-weight:bold\"></tspan></tspan></text></g><g class=\"g-xtitle\"><text class=\"xtitle\" x=\"307.48\" y=\"460.3\" text-anchor=\"middle\" style=\"font-family: 'Open Sans', verdana, arial, sans-serif; font-size: 14px; fill: rgb(242, 245, 250); opacity: 1; font-weight: normal; white-space: pre;\">Sentiment Score</text></g><g class=\"g-ytitle\"><text class=\"ytitle\" transform=\"rotate(-90,24.450000000000003,260)\" x=\"24.450000000000003\" y=\"260\" text-anchor=\"middle\" style=\"font-family: 'Open Sans', verdana, arial, sans-serif; font-size: 14px; fill: rgb(242, 245, 250); opacity: 1; font-weight: normal; white-space: pre;\">View Counts</text></g><g class=\"g-y2title\"><text class=\"y2title\" transform=\"rotate(-90,583.128125,260)\" x=\"583.128125\" y=\"260\" text-anchor=\"middle\" style=\"font-family: 'Open Sans', verdana, arial, sans-serif; font-size: 14px; fill: rgb(242, 245, 250); opacity: 1; font-weight: normal; white-space: pre;\">Like Counts</text></g></g></svg>"
     },
     "metadata": {},
     "output_type": "display_data"
    }
   ],
   "source": [
    "from re import template\n",
    "\n",
    "\n",
    "fig = make_subplots(specs=[[{'secondary_y': True}]])\n",
    "\n",
    "fig.add_trace(\n",
    "        go.Scatter(\n",
    "        x=video_comp_sentiments['avg_comp_sentiment'],\n",
    "        y=video_comp_sentiments['vid_viewcount'],\n",
    "        name='View Count',\n",
    "        mode='markers',\n",
    "        marker_color='Blue',\n",
    "        text=video_comp_sentiments['vid_title'],\n",
    "        hovertemplate='<b>%{text}</b> <br>Sentiment Value: %{x} <br>View Count: %{y}'),\n",
    "        secondary_y=False\n",
    ")\n",
    "\n",
    "fig.add_trace(go.Scatter(\n",
    "    x=video_comp_sentiments['avg_comp_sentiment'],\n",
    "    y=video_comp_sentiments['vid_likecount'],\n",
    "    name='Like Count',\n",
    "    mode='markers',\n",
    "    marker_color='Red',\n",
    "    text=video_comp_sentiments['vid_title'],\n",
    "    hovertemplate='<b>%{text}</b> <br>Sentiment Value: %{x} <br>Like Count: %{y}'),\n",
    "    secondary_y=True\n",
    ")\n",
    "\n",
    "fig.update_layout(\n",
    "    title=\"<b>Youtube View & Like Counts VS Sentiment Scores<b>\",\n",
    "    xaxis_title=\"Sentiment Score\",\n",
    "    template='plotly_dark'\n",
    ")\n",
    "\n",
    "fig.update_yaxes(title_text=\"View Counts\", secondary_y=False)\n",
    "fig.update_yaxes(title_text=\"Like Counts\", secondary_y=True)\n",
    "\n",
    "fig.show(renderer='svg')\n",
    "\n",
    "# pio.write_html(fig, file='index.html', auto_open=True)"
   ]
  },
  {
   "cell_type": "code",
   "execution_count": 119,
   "metadata": {},
   "outputs": [],
   "source": [
    "test_df = video_comp_sentiments"
   ]
  },
  {
   "cell_type": "code",
   "execution_count": 120,
   "metadata": {},
   "outputs": [
    {
     "data": {
      "text/html": [
       "<div>\n",
       "<style scoped>\n",
       "    .dataframe tbody tr th:only-of-type {\n",
       "        vertical-align: middle;\n",
       "    }\n",
       "\n",
       "    .dataframe tbody tr th {\n",
       "        vertical-align: top;\n",
       "    }\n",
       "\n",
       "    .dataframe thead th {\n",
       "        text-align: right;\n",
       "    }\n",
       "</style>\n",
       "<table border=\"1\" class=\"dataframe\">\n",
       "  <thead>\n",
       "    <tr style=\"text-align: right;\">\n",
       "      <th></th>\n",
       "      <th>video_id</th>\n",
       "      <th>vid_title</th>\n",
       "      <th>avg_comp_sentiment</th>\n",
       "      <th>vid_viewcount</th>\n",
       "      <th>vid_likecount</th>\n",
       "    </tr>\n",
       "  </thead>\n",
       "  <tbody>\n",
       "    <tr>\n",
       "      <th>0</th>\n",
       "      <td>MMc5lfQc8Q0</td>\n",
       "      <td>Trump Admits To Willful Retention Of Documents...</td>\n",
       "      <td>-0.113013</td>\n",
       "      <td>73937</td>\n",
       "      <td>2440.0</td>\n",
       "    </tr>\n",
       "    <tr>\n",
       "      <th>1</th>\n",
       "      <td>NVXg70eLwDk</td>\n",
       "      <td>Joy Reid: Trump May Have Indicated He Intentio...</td>\n",
       "      <td>-0.041557</td>\n",
       "      <td>110528</td>\n",
       "      <td>3315.0</td>\n",
       "    </tr>\n",
       "    <tr>\n",
       "      <th>2</th>\n",
       "      <td>Mjq8-UGLVTY</td>\n",
       "      <td>DeSantis Investigated And Sued Over Migrant Fl...</td>\n",
       "      <td>-0.086627</td>\n",
       "      <td>34766</td>\n",
       "      <td>1788.0</td>\n",
       "    </tr>\n",
       "    <tr>\n",
       "      <th>3</th>\n",
       "      <td>uds82Ay37CE</td>\n",
       "      <td>Burn: See MAGA-Era Science Lies Roasted And De...</td>\n",
       "      <td>0.215299</td>\n",
       "      <td>98616</td>\n",
       "      <td>6427.0</td>\n",
       "    </tr>\n",
       "    <tr>\n",
       "      <th>4</th>\n",
       "      <td>mNHZ9KSU598</td>\n",
       "      <td>'Lunatic': Michael Cohen Demolishes Trump On D...</td>\n",
       "      <td>-0.001130</td>\n",
       "      <td>336040</td>\n",
       "      <td>12281.0</td>\n",
       "    </tr>\n",
       "    <tr>\n",
       "      <th>...</th>\n",
       "      <td>...</td>\n",
       "      <td>...</td>\n",
       "      <td>...</td>\n",
       "      <td>...</td>\n",
       "      <td>...</td>\n",
       "    </tr>\n",
       "    <tr>\n",
       "      <th>287</th>\n",
       "      <td>j-zKfQa-0u8</td>\n",
       "      <td>Hot Button Cultural Issues Become Winning Topi...</td>\n",
       "      <td>0.021833</td>\n",
       "      <td>39267</td>\n",
       "      <td>1168.0</td>\n",
       "    </tr>\n",
       "    <tr>\n",
       "      <th>288</th>\n",
       "      <td>CdJsDUyZSuw</td>\n",
       "      <td>Trump Faces Monday Deadline To Respond To DOJ ...</td>\n",
       "      <td>-0.081662</td>\n",
       "      <td>670782</td>\n",
       "      <td>11644.0</td>\n",
       "    </tr>\n",
       "    <tr>\n",
       "      <th>289</th>\n",
       "      <td>0EFKKOR4cZM</td>\n",
       "      <td>Full Speech: King Charles III Promises ‘Lifelo...</td>\n",
       "      <td>0.199905</td>\n",
       "      <td>276762</td>\n",
       "      <td>6477.0</td>\n",
       "    </tr>\n",
       "    <tr>\n",
       "      <th>290</th>\n",
       "      <td>--bPPcHXiD8</td>\n",
       "      <td>Watch Morning Joe Highlights: September 9 | MSNBC</td>\n",
       "      <td>-0.014135</td>\n",
       "      <td>104769</td>\n",
       "      <td>1854.0</td>\n",
       "    </tr>\n",
       "    <tr>\n",
       "      <th>291</th>\n",
       "      <td>HXo70MJ5G9U</td>\n",
       "      <td>Republicans Out Of Touch With Where Most Ameri...</td>\n",
       "      <td>-0.062208</td>\n",
       "      <td>406407</td>\n",
       "      <td>7925.0</td>\n",
       "    </tr>\n",
       "  </tbody>\n",
       "</table>\n",
       "<p>292 rows × 5 columns</p>\n",
       "</div>"
      ],
      "text/plain": [
       "        video_id                                          vid_title  \\\n",
       "0    MMc5lfQc8Q0  Trump Admits To Willful Retention Of Documents...   \n",
       "1    NVXg70eLwDk  Joy Reid: Trump May Have Indicated He Intentio...   \n",
       "2    Mjq8-UGLVTY  DeSantis Investigated And Sued Over Migrant Fl...   \n",
       "3    uds82Ay37CE  Burn: See MAGA-Era Science Lies Roasted And De...   \n",
       "4    mNHZ9KSU598  'Lunatic': Michael Cohen Demolishes Trump On D...   \n",
       "..           ...                                                ...   \n",
       "287  j-zKfQa-0u8  Hot Button Cultural Issues Become Winning Topi...   \n",
       "288  CdJsDUyZSuw  Trump Faces Monday Deadline To Respond To DOJ ...   \n",
       "289  0EFKKOR4cZM  Full Speech: King Charles III Promises ‘Lifelo...   \n",
       "290  --bPPcHXiD8  Watch Morning Joe Highlights: September 9 | MSNBC   \n",
       "291  HXo70MJ5G9U  Republicans Out Of Touch With Where Most Ameri...   \n",
       "\n",
       "     avg_comp_sentiment vid_viewcount  vid_likecount  \n",
       "0             -0.113013         73937         2440.0  \n",
       "1             -0.041557        110528         3315.0  \n",
       "2             -0.086627         34766         1788.0  \n",
       "3              0.215299         98616         6427.0  \n",
       "4             -0.001130        336040        12281.0  \n",
       "..                  ...           ...            ...  \n",
       "287            0.021833         39267         1168.0  \n",
       "288           -0.081662        670782        11644.0  \n",
       "289            0.199905        276762         6477.0  \n",
       "290           -0.014135        104769         1854.0  \n",
       "291           -0.062208        406407         7925.0  \n",
       "\n",
       "[292 rows x 5 columns]"
      ]
     },
     "execution_count": 120,
     "metadata": {},
     "output_type": "execute_result"
    }
   ],
   "source": [
    "test_df"
   ]
  },
  {
   "cell_type": "code",
   "execution_count": 121,
   "metadata": {},
   "outputs": [],
   "source": [
    "test_df['avg_comp_sentiment'] = np.where(test_df['avg_comp_sentiment'] > 0, test_df['avg_comp_sentiment'] * 2, test_df['avg_comp_sentiment'])\n",
    "test_df['avg_comp_sentiment'] = np.where(test_df['avg_comp_sentiment'] < 0, test_df['avg_comp_sentiment'] * -1, test_df['avg_comp_sentiment'])"
   ]
  },
  {
   "cell_type": "code",
   "execution_count": 122,
   "metadata": {},
   "outputs": [
    {
     "data": {
      "text/html": [
       "<div>\n",
       "<style scoped>\n",
       "    .dataframe tbody tr th:only-of-type {\n",
       "        vertical-align: middle;\n",
       "    }\n",
       "\n",
       "    .dataframe tbody tr th {\n",
       "        vertical-align: top;\n",
       "    }\n",
       "\n",
       "    .dataframe thead th {\n",
       "        text-align: right;\n",
       "    }\n",
       "</style>\n",
       "<table border=\"1\" class=\"dataframe\">\n",
       "  <thead>\n",
       "    <tr style=\"text-align: right;\">\n",
       "      <th></th>\n",
       "      <th>video_id</th>\n",
       "      <th>vid_title</th>\n",
       "      <th>avg_comp_sentiment</th>\n",
       "      <th>vid_viewcount</th>\n",
       "      <th>vid_likecount</th>\n",
       "    </tr>\n",
       "  </thead>\n",
       "  <tbody>\n",
       "    <tr>\n",
       "      <th>0</th>\n",
       "      <td>MMc5lfQc8Q0</td>\n",
       "      <td>Trump Admits To Willful Retention Of Documents...</td>\n",
       "      <td>0.113013</td>\n",
       "      <td>73937</td>\n",
       "      <td>2440.0</td>\n",
       "    </tr>\n",
       "    <tr>\n",
       "      <th>1</th>\n",
       "      <td>NVXg70eLwDk</td>\n",
       "      <td>Joy Reid: Trump May Have Indicated He Intentio...</td>\n",
       "      <td>0.041557</td>\n",
       "      <td>110528</td>\n",
       "      <td>3315.0</td>\n",
       "    </tr>\n",
       "    <tr>\n",
       "      <th>2</th>\n",
       "      <td>Mjq8-UGLVTY</td>\n",
       "      <td>DeSantis Investigated And Sued Over Migrant Fl...</td>\n",
       "      <td>0.086627</td>\n",
       "      <td>34766</td>\n",
       "      <td>1788.0</td>\n",
       "    </tr>\n",
       "    <tr>\n",
       "      <th>3</th>\n",
       "      <td>uds82Ay37CE</td>\n",
       "      <td>Burn: See MAGA-Era Science Lies Roasted And De...</td>\n",
       "      <td>0.430598</td>\n",
       "      <td>98616</td>\n",
       "      <td>6427.0</td>\n",
       "    </tr>\n",
       "    <tr>\n",
       "      <th>4</th>\n",
       "      <td>mNHZ9KSU598</td>\n",
       "      <td>'Lunatic': Michael Cohen Demolishes Trump On D...</td>\n",
       "      <td>0.001130</td>\n",
       "      <td>336040</td>\n",
       "      <td>12281.0</td>\n",
       "    </tr>\n",
       "    <tr>\n",
       "      <th>...</th>\n",
       "      <td>...</td>\n",
       "      <td>...</td>\n",
       "      <td>...</td>\n",
       "      <td>...</td>\n",
       "      <td>...</td>\n",
       "    </tr>\n",
       "    <tr>\n",
       "      <th>287</th>\n",
       "      <td>j-zKfQa-0u8</td>\n",
       "      <td>Hot Button Cultural Issues Become Winning Topi...</td>\n",
       "      <td>0.043666</td>\n",
       "      <td>39267</td>\n",
       "      <td>1168.0</td>\n",
       "    </tr>\n",
       "    <tr>\n",
       "      <th>288</th>\n",
       "      <td>CdJsDUyZSuw</td>\n",
       "      <td>Trump Faces Monday Deadline To Respond To DOJ ...</td>\n",
       "      <td>0.081662</td>\n",
       "      <td>670782</td>\n",
       "      <td>11644.0</td>\n",
       "    </tr>\n",
       "    <tr>\n",
       "      <th>289</th>\n",
       "      <td>0EFKKOR4cZM</td>\n",
       "      <td>Full Speech: King Charles III Promises ‘Lifelo...</td>\n",
       "      <td>0.399810</td>\n",
       "      <td>276762</td>\n",
       "      <td>6477.0</td>\n",
       "    </tr>\n",
       "    <tr>\n",
       "      <th>290</th>\n",
       "      <td>--bPPcHXiD8</td>\n",
       "      <td>Watch Morning Joe Highlights: September 9 | MSNBC</td>\n",
       "      <td>0.014135</td>\n",
       "      <td>104769</td>\n",
       "      <td>1854.0</td>\n",
       "    </tr>\n",
       "    <tr>\n",
       "      <th>291</th>\n",
       "      <td>HXo70MJ5G9U</td>\n",
       "      <td>Republicans Out Of Touch With Where Most Ameri...</td>\n",
       "      <td>0.062208</td>\n",
       "      <td>406407</td>\n",
       "      <td>7925.0</td>\n",
       "    </tr>\n",
       "  </tbody>\n",
       "</table>\n",
       "<p>292 rows × 5 columns</p>\n",
       "</div>"
      ],
      "text/plain": [
       "        video_id                                          vid_title  \\\n",
       "0    MMc5lfQc8Q0  Trump Admits To Willful Retention Of Documents...   \n",
       "1    NVXg70eLwDk  Joy Reid: Trump May Have Indicated He Intentio...   \n",
       "2    Mjq8-UGLVTY  DeSantis Investigated And Sued Over Migrant Fl...   \n",
       "3    uds82Ay37CE  Burn: See MAGA-Era Science Lies Roasted And De...   \n",
       "4    mNHZ9KSU598  'Lunatic': Michael Cohen Demolishes Trump On D...   \n",
       "..           ...                                                ...   \n",
       "287  j-zKfQa-0u8  Hot Button Cultural Issues Become Winning Topi...   \n",
       "288  CdJsDUyZSuw  Trump Faces Monday Deadline To Respond To DOJ ...   \n",
       "289  0EFKKOR4cZM  Full Speech: King Charles III Promises ‘Lifelo...   \n",
       "290  --bPPcHXiD8  Watch Morning Joe Highlights: September 9 | MSNBC   \n",
       "291  HXo70MJ5G9U  Republicans Out Of Touch With Where Most Ameri...   \n",
       "\n",
       "     avg_comp_sentiment vid_viewcount  vid_likecount  \n",
       "0              0.113013         73937         2440.0  \n",
       "1              0.041557        110528         3315.0  \n",
       "2              0.086627         34766         1788.0  \n",
       "3              0.430598         98616         6427.0  \n",
       "4              0.001130        336040        12281.0  \n",
       "..                  ...           ...            ...  \n",
       "287            0.043666         39267         1168.0  \n",
       "288            0.081662        670782        11644.0  \n",
       "289            0.399810        276762         6477.0  \n",
       "290            0.014135        104769         1854.0  \n",
       "291            0.062208        406407         7925.0  \n",
       "\n",
       "[292 rows x 5 columns]"
      ]
     },
     "execution_count": 122,
     "metadata": {},
     "output_type": "execute_result"
    }
   ],
   "source": [
    "test_df"
   ]
  },
  {
   "cell_type": "code",
   "execution_count": 123,
   "metadata": {},
   "outputs": [
    {
     "data": {
      "image/svg+xml": "<svg class=\"main-svg\" xmlns=\"http://www.w3.org/2000/svg\" xmlns:xlink=\"http://www.w3.org/1999/xlink\" width=\"700\" height=\"500\" style=\"\" viewBox=\"0 0 700 500\"><rect x=\"0\" y=\"0\" width=\"700\" height=\"500\" style=\"fill: rgb(255, 255, 255); fill-opacity: 1;\"/><defs id=\"defs-f69b5d\"><g class=\"clips\"><clipPath id=\"clipf69b5dxyplot\" class=\"plotclip\"><rect width=\"428\" height=\"360\"/></clipPath><clipPath class=\"axesclip\" id=\"clipf69b5dx\"><rect x=\"80\" y=\"0\" width=\"428\" height=\"500\"/></clipPath><clipPath class=\"axesclip\" id=\"clipf69b5dy\"><rect x=\"0\" y=\"60\" width=\"700\" height=\"360\"/></clipPath><clipPath class=\"axesclip\" id=\"clipf69b5dxy\"><rect x=\"80\" y=\"60\" width=\"428\" height=\"360\"/></clipPath></g><g class=\"gradients\"><linearGradient x1=\"0\" x2=\"0\" y1=\"1\" y2=\"0\" id=\"gf69b5d-cbcoloraxis\"><stop offset=\"0%\" stop-color=\"rgb(13, 8, 135)\" stop-opacity=\"1\"/><stop offset=\"11.111111%\" stop-color=\"rgb(70, 3, 159)\" stop-opacity=\"1\"/><stop offset=\"22.222222%\" stop-color=\"rgb(114, 1, 168)\" stop-opacity=\"1\"/><stop offset=\"33.333333%\" stop-color=\"rgb(156, 23, 158)\" stop-opacity=\"1\"/><stop offset=\"44.444444%\" stop-color=\"rgb(189, 55, 134)\" stop-opacity=\"1\"/><stop offset=\"55.555556%\" stop-color=\"rgb(216, 87, 107)\" stop-opacity=\"1\"/><stop offset=\"66.666667%\" stop-color=\"rgb(237, 121, 83)\" stop-opacity=\"1\"/><stop offset=\"77.777778%\" stop-color=\"rgb(251, 159, 58)\" stop-opacity=\"1\"/><stop offset=\"88.888889%\" stop-color=\"rgb(253, 202, 38)\" stop-opacity=\"1\"/><stop offset=\"100%\" stop-color=\"rgb(240, 249, 33)\" stop-opacity=\"1\"/></linearGradient></g><g class=\"patterns\"/></defs><g class=\"bglayer\"><rect class=\"bg\" x=\"80\" y=\"60\" width=\"428\" height=\"360\" style=\"fill: rgb(229, 236, 246); fill-opacity: 1; stroke-width: 0;\"/></g><g class=\"layer-below\"><g class=\"imagelayer\"/><g class=\"shapelayer\"/></g><g class=\"cartesianlayer\"><g class=\"subplot xy\"><g class=\"layer-subplot\"><g class=\"shapelayer\"/><g class=\"imagelayer\"/></g><g class=\"gridlayer\"><g class=\"x\"><path class=\"xgrid crisp\" transform=\"translate(107.03,0)\" d=\"M0,60v360\" style=\"stroke: rgb(255, 255, 255); stroke-opacity: 1; stroke-width: 1px;\"/><path class=\"xgrid crisp\" transform=\"translate(156.75,0)\" d=\"M0,60v360\" style=\"stroke: rgb(255, 255, 255); stroke-opacity: 1; stroke-width: 1px;\"/><path class=\"xgrid crisp\" transform=\"translate(222.48,0)\" d=\"M0,60v360\" style=\"stroke: rgb(255, 255, 255); stroke-opacity: 1; stroke-width: 1px;\"/><path class=\"xgrid crisp\" transform=\"translate(272.21000000000004,0)\" d=\"M0,60v360\" style=\"stroke: rgb(255, 255, 255); stroke-opacity: 1; stroke-width: 1px;\"/><path class=\"xgrid crisp\" transform=\"translate(321.93,0)\" d=\"M0,60v360\" style=\"stroke: rgb(255, 255, 255); stroke-opacity: 1; stroke-width: 1px;\"/><path class=\"xgrid crisp\" transform=\"translate(387.67,0)\" d=\"M0,60v360\" style=\"stroke: rgb(255, 255, 255); stroke-opacity: 1; stroke-width: 1px;\"/><path class=\"xgrid crisp\" transform=\"translate(437.39,0)\" d=\"M0,60v360\" style=\"stroke: rgb(255, 255, 255); stroke-opacity: 1; stroke-width: 1px;\"/><path class=\"xgrid crisp\" transform=\"translate(487.12,0)\" d=\"M0,60v360\" style=\"stroke: rgb(255, 255, 255); stroke-opacity: 1; stroke-width: 1px;\"/></g><g class=\"y\"><path class=\"ygrid crisp\" transform=\"translate(0,329.46)\" d=\"M80,0h428\" style=\"stroke: rgb(255, 255, 255); stroke-opacity: 1; stroke-width: 1px;\"/><path class=\"ygrid crisp\" transform=\"translate(0,263.49)\" d=\"M80,0h428\" style=\"stroke: rgb(255, 255, 255); stroke-opacity: 1; stroke-width: 1px;\"/><path class=\"ygrid crisp\" transform=\"translate(0,197.52)\" d=\"M80,0h428\" style=\"stroke: rgb(255, 255, 255); stroke-opacity: 1; stroke-width: 1px;\"/><path class=\"ygrid crisp\" transform=\"translate(0,131.55)\" d=\"M80,0h428\" style=\"stroke: rgb(255, 255, 255); stroke-opacity: 1; stroke-width: 1px;\"/><path class=\"ygrid crisp\" transform=\"translate(0,65.58)\" d=\"M80,0h428\" style=\"stroke: rgb(255, 255, 255); stroke-opacity: 1; stroke-width: 1px;\"/></g></g><g class=\"zerolinelayer\"><path class=\"yzl zl crisp\" transform=\"translate(0,395.43)\" d=\"M80,0h428\" style=\"stroke: rgb(255, 255, 255); stroke-opacity: 1; stroke-width: 2px;\"/></g><path class=\"xlines-below\"/><path class=\"ylines-below\"/><g class=\"overlines-below\"/><g class=\"xaxislayer-below\"/><g class=\"yaxislayer-below\"/><g class=\"overaxes-below\"/><g class=\"plot\" transform=\"translate(80,60)\" clip-path=\"url(#clipf69b5dxyplot)\"><g class=\"scatterlayer mlayer\"><g class=\"trace scatter trace0232d1\" style=\"stroke-miterlimit: 2; opacity: 1;\"><g class=\"fills\"/><g class=\"errorbars\"/><g class=\"lines\"/><g class=\"points\"><path class=\"point\" transform=\"translate(170.55,319.34)\" d=\"M6.12,0A6.12,6.12 0 1,1 0,-6.12A6.12,6.12 0 0,1 6.12,0Z\" style=\"opacity: 0.7; stroke-width: 1px; fill: rgb(100, 2, 165); fill-opacity: 1; stroke: rgb(255, 255, 255); stroke-opacity: 1;\"/><path class=\"point\" transform=\"translate(199.39,313.56)\" d=\"M3.71,0A3.71,3.71 0 1,1 0,-3.71A3.71,3.71 0 0,1 3.71,0Z\" style=\"opacity: 0.7; stroke-width: 1px; fill: rgb(48, 5, 150); fill-opacity: 1; stroke: rgb(255, 255, 255); stroke-opacity: 1;\"/><path class=\"point\" transform=\"translate(116.42,323.64)\" d=\"M5.36,0A5.36,5.36 0 1,1 0,-5.36A5.36,5.36 0 0,1 5.36,0Z\" style=\"opacity: 0.7; stroke-width: 1px; fill: rgb(83, 2, 162); fill-opacity: 1; stroke: rgb(255, 255, 255); stroke-opacity: 1;\"/><path class=\"point\" transform=\"translate(191.21,293.03)\" d=\"M11.95,0A11.95,11.95 0 1,1 0,-11.95A11.95,11.95 0 0,1 11.95,0Z\" style=\"opacity: 0.7; stroke-width: 1px; fill: rgb(243, 137, 72); fill-opacity: 1; stroke: rgb(255, 255, 255); stroke-opacity: 1;\"/><path class=\"point\" transform=\"translate(279.16,254.42)\" d=\"M0.61,0A0.61,0.61 0 1,1 0,-0.61A0.61,0.61 0 0,1 0.61,0Z\" style=\"opacity: 0.7; stroke-width: 1px; fill: rgb(14, 8, 135); fill-opacity: 1; stroke: rgb(255, 255, 255); stroke-opacity: 1;\"/><path class=\"point\" transform=\"translate(223.91,309.1)\" d=\"M4.44,0A4.44,4.44 0 1,1 0,-4.44A4.44,4.44 0 0,1 4.44,0Z\" style=\"opacity: 0.7; stroke-width: 1px; fill: rgb(64, 4, 156); fill-opacity: 1; stroke: rgb(255, 255, 255); stroke-opacity: 1;\"/><path class=\"point\" transform=\"translate(295.51,279.05)\" d=\"M5.11,0A5.11,5.11 0 1,1 0,-5.11A5.11,5.11 0 0,1 5.11,0Z\" style=\"opacity: 0.7; stroke-width: 1px; fill: rgb(78, 3, 161); fill-opacity: 1; stroke: rgb(255, 255, 255); stroke-opacity: 1;\"/><path class=\"point\" transform=\"translate(220.66,316.54)\" d=\"M6.41,0A6.41,6.41 0 1,1 0,-6.41A6.41,6.41 0 0,1 6.41,0Z\" style=\"opacity: 0.7; stroke-width: 1px; fill: rgb(107, 1, 167); fill-opacity: 1; stroke: rgb(255, 255, 255); stroke-opacity: 1;\"/><path class=\"point\" transform=\"translate(213.98,321.71)\" d=\"M4.58,0A4.58,4.58 0 1,1 0,-4.58A4.58,4.58 0 0,1 4.58,0Z\" style=\"opacity: 0.7; stroke-width: 1px; fill: rgb(67, 3, 158); fill-opacity: 1; stroke: rgb(255, 255, 255); stroke-opacity: 1;\"/><path class=\"point\" transform=\"translate(338.31,252.57)\" d=\"M2.55,0A2.55,2.55 0 1,1 0,-2.55A2.55,2.55 0 0,1 2.55,0Z\" style=\"opacity: 0.7; stroke-width: 1px; fill: rgb(30, 7, 142); fill-opacity: 1; stroke: rgb(255, 255, 255); stroke-opacity: 1;\"/><path class=\"point\" transform=\"translate(282.67,289.3)\" d=\"M3.99,0A3.99,3.99 0 1,1 0,-3.99A3.99,3.99 0 0,1 3.99,0Z\" style=\"opacity: 0.7; stroke-width: 1px; fill: rgb(54, 4, 152); fill-opacity: 1; stroke: rgb(255, 255, 255); stroke-opacity: 1;\"/><path class=\"point\" transform=\"translate(131.21,328.11)\" d=\"M0.8,0A0.8,0.8 0 1,1 0,-0.8A0.8,0.8 0 0,1 0.8,0Z\" style=\"opacity: 0.7; stroke-width: 1px; fill: rgb(15, 8, 136); fill-opacity: 1; stroke: rgb(255, 255, 255); stroke-opacity: 1;\"/><path class=\"point\" transform=\"translate(272.26,295.98)\" d=\"M6.5,0A6.5,6.5 0 1,1 0,-6.5A6.5,6.5 0 0,1 6.5,0Z\" style=\"opacity: 0.7; stroke-width: 1px; fill: rgb(110, 1, 167); fill-opacity: 1; stroke: rgb(255, 255, 255); stroke-opacity: 1;\"/><path class=\"point\" transform=\"translate(159.91,325.46)\" d=\"M4.69,0A4.69,4.69 0 1,1 0,-4.69A4.69,4.69 0 0,1 4.69,0Z\" style=\"opacity: 0.7; stroke-width: 1px; fill: rgb(69, 3, 159); fill-opacity: 1; stroke: rgb(255, 255, 255); stroke-opacity: 1;\"/><path class=\"point\" transform=\"translate(312.74,269.46)\" d=\"M3.57,0A3.57,3.57 0 1,1 0,-3.57A3.57,3.57 0 0,1 3.57,0Z\" style=\"opacity: 0.7; stroke-width: 1px; fill: rgb(46, 5, 149); fill-opacity: 1; stroke: rgb(255, 255, 255); stroke-opacity: 1;\"/><path class=\"point\" transform=\"translate(249.28,316.96)\" d=\"M2.12,0A2.12,2.12 0 1,1 0,-2.12A2.12,2.12 0 0,1 2.12,0Z\" style=\"opacity: 0.7; stroke-width: 1px; fill: rgb(25, 7, 140); fill-opacity: 1; stroke: rgb(255, 255, 255); stroke-opacity: 1;\"/><path class=\"point\" transform=\"translate(245.57,305.42)\" d=\"M3.36,0A3.36,3.36 0 1,1 0,-3.36A3.36,3.36 0 0,1 3.36,0Z\" style=\"opacity: 0.7; stroke-width: 1px; fill: rgb(42, 5, 147); fill-opacity: 1; stroke: rgb(255, 255, 255); stroke-opacity: 1;\"/><path class=\"point\" transform=\"translate(262.22,308.89)\" d=\"M0.42,0A0.42,0.42 0 1,1 0,-0.42A0.42,0.42 0 0,1 0.42,0Z\" style=\"opacity: 0.7; stroke-width: 1px; fill: rgb(13, 8, 135); fill-opacity: 1; stroke: rgb(255, 255, 255); stroke-opacity: 1;\"/><path class=\"point\" transform=\"translate(267.05,306.08)\" d=\"M11.46,0A11.46,11.46 0 1,1 0,-11.46A11.46,11.46 0 0,1 11.46,0Z\" style=\"opacity: 0.7; stroke-width: 1px; fill: rgb(235, 118, 85); fill-opacity: 1; stroke: rgb(255, 255, 255); stroke-opacity: 1;\"/><path class=\"point\" transform=\"translate(197.95,320.52)\" d=\"M6.31,0A6.31,6.31 0 1,1 0,-6.31A6.31,6.31 0 0,1 6.31,0Z\" style=\"opacity: 0.7; stroke-width: 1px; fill: rgb(105, 1, 166); fill-opacity: 1; stroke: rgb(255, 255, 255); stroke-opacity: 1;\"/><path class=\"point\" transform=\"translate(264.28,299.12)\" d=\"M5.37,0A5.37,5.37 0 1,1 0,-5.37A5.37,5.37 0 0,1 5.37,0Z\" style=\"opacity: 0.7; stroke-width: 1px; fill: rgb(83, 2, 162); fill-opacity: 1; stroke: rgb(255, 255, 255); stroke-opacity: 1;\"/><path class=\"point\" transform=\"translate(231.38,310.48)\" d=\"M3.02,0A3.02,3.02 0 1,1 0,-3.02A3.02,3.02 0 0,1 3.02,0Z\" style=\"opacity: 0.7; stroke-width: 1px; fill: rgb(36, 6, 145); fill-opacity: 1; stroke: rgb(255, 255, 255); stroke-opacity: 1;\"/><path class=\"point\" transform=\"translate(386.45,21)\" d=\"M0.13,0A0.13,0.13 0 1,1 0,-0.13A0.13,0.13 0 0,1 0.13,0Z\" style=\"opacity: 0.7; stroke-width: 1px; fill: rgb(13, 8, 135); fill-opacity: 1; stroke: rgb(255, 255, 255); stroke-opacity: 1;\"/><path class=\"point\" transform=\"translate(234.8,309.64)\" d=\"M1.52,0A1.52,1.52 0 1,1 0,-1.52A1.52,1.52 0 0,1 1.52,0Z\" style=\"opacity: 0.7; stroke-width: 1px; fill: rgb(19, 7, 137); fill-opacity: 1; stroke: rgb(255, 255, 255); stroke-opacity: 1;\"/><path class=\"point\" transform=\"translate(242.55,306.04)\" d=\"M4.87,0A4.87,4.87 0 1,1 0,-4.87A4.87,4.87 0 0,1 4.87,0Z\" style=\"opacity: 0.7; stroke-width: 1px; fill: rgb(73, 3, 160); fill-opacity: 1; stroke: rgb(255, 255, 255); stroke-opacity: 1;\"/><path class=\"point\" transform=\"translate(272.71,299.55)\" d=\"M9.48,0A9.48,9.48 0 1,1 0,-9.48A9.48,9.48 0 0,1 9.48,0Z\" style=\"opacity: 0.7; stroke-width: 1px; fill: rgb(190, 56, 133); fill-opacity: 1; stroke: rgb(255, 255, 255); stroke-opacity: 1;\"/><path class=\"point\" transform=\"translate(358.39,187.36)\" d=\"M6.87,0A6.87,6.87 0 1,1 0,-6.87A6.87,6.87 0 0,1 6.87,0Z\" style=\"opacity: 0.7; stroke-width: 1px; fill: rgb(119, 4, 167); fill-opacity: 1; stroke: rgb(255, 255, 255); stroke-opacity: 1;\"/><path class=\"point\" transform=\"translate(312.97,251.78)\" d=\"M4.21,0A4.21,4.21 0 1,1 0,-4.21A4.21,4.21 0 0,1 4.21,0Z\" style=\"opacity: 0.7; stroke-width: 1px; fill: rgb(59, 4, 154); fill-opacity: 1; stroke: rgb(255, 255, 255); stroke-opacity: 1;\"/><path class=\"point\" transform=\"translate(305.92,259.44)\" d=\"M3.58,0A3.58,3.58 0 1,1 0,-3.58A3.58,3.58 0 0,1 3.58,0Z\" style=\"opacity: 0.7; stroke-width: 1px; fill: rgb(46, 5, 149); fill-opacity: 1; stroke: rgb(255, 255, 255); stroke-opacity: 1;\"/><path class=\"point\" transform=\"translate(311.51,267.89)\" d=\"M3.06,0A3.06,3.06 0 1,1 0,-3.06A3.06,3.06 0 0,1 3.06,0Z\" style=\"opacity: 0.7; stroke-width: 1px; fill: rgb(37, 6, 145); fill-opacity: 1; stroke: rgb(255, 255, 255); stroke-opacity: 1;\"/><path class=\"point\" transform=\"translate(295.15,289.31)\" d=\"M1.09,0A1.09,1.09 0 1,1 0,-1.09A1.09,1.09 0 0,1 1.09,0Z\" style=\"opacity: 0.7; stroke-width: 1px; fill: rgb(16, 8, 136); fill-opacity: 1; stroke: rgb(255, 255, 255); stroke-opacity: 1;\"/><path class=\"point\" transform=\"translate(315.09,272.41)\" d=\"M5.78,0A5.78,5.78 0 1,1 0,-5.78A5.78,5.78 0 0,1 5.78,0Z\" style=\"opacity: 0.7; stroke-width: 1px; fill: rgb(92, 2, 164); fill-opacity: 1; stroke: rgb(255, 255, 255); stroke-opacity: 1;\"/><path class=\"point\" transform=\"translate(211.4,319.36)\" d=\"M5.76,0A5.76,5.76 0 1,1 0,-5.76A5.76,5.76 0 0,1 5.76,0Z\" style=\"opacity: 0.7; stroke-width: 1px; fill: rgb(92, 2, 163); fill-opacity: 1; stroke: rgb(255, 255, 255); stroke-opacity: 1;\"/><path class=\"point\" transform=\"translate(195.35,322.34)\" d=\"M7.3,0A7.3,7.3 0 1,1 0,-7.3A7.3,7.3 0 0,1 7.3,0Z\" style=\"opacity: 0.7; stroke-width: 1px; fill: rgb(131, 10, 164); fill-opacity: 1; stroke: rgb(255, 255, 255); stroke-opacity: 1;\"/><path class=\"point\" transform=\"translate(238.71,314.43)\" d=\"M3.38,0A3.38,3.38 0 1,1 0,-3.38A3.38,3.38 0 0,1 3.38,0Z\" style=\"opacity: 0.7; stroke-width: 1px; fill: rgb(42, 5, 147); fill-opacity: 1; stroke: rgb(255, 255, 255); stroke-opacity: 1;\"/><path class=\"point\" transform=\"translate(206.64,318.02)\" d=\"M5.36,0A5.36,5.36 0 1,1 0,-5.36A5.36,5.36 0 0,1 5.36,0Z\" style=\"opacity: 0.7; stroke-width: 1px; fill: rgb(83, 2, 162); fill-opacity: 1; stroke: rgb(255, 255, 255); stroke-opacity: 1;\"/><path class=\"point\" transform=\"translate(176.68,325.28)\" d=\"M7.07,0A7.07,7.07 0 1,1 0,-7.07A7.07,7.07 0 0,1 7.07,0Z\" style=\"opacity: 0.7; stroke-width: 1px; fill: rgb(124, 6, 166); fill-opacity: 1; stroke: rgb(255, 255, 255); stroke-opacity: 1;\"/><path class=\"point\" transform=\"translate(263.97,273.37)\" d=\"M4.72,0A4.72,4.72 0 1,1 0,-4.72A4.72,4.72 0 0,1 4.72,0Z\" style=\"opacity: 0.7; stroke-width: 1px; fill: rgb(70, 3, 159); fill-opacity: 1; stroke: rgb(255, 255, 255); stroke-opacity: 1;\"/><path class=\"point\" transform=\"translate(127.33,326.9)\" d=\"M7.53,0A7.53,7.53 0 1,1 0,-7.53A7.53,7.53 0 0,1 7.53,0Z\" style=\"opacity: 0.7; stroke-width: 1px; fill: rgb(137, 13, 162); fill-opacity: 1; stroke: rgb(255, 255, 255); stroke-opacity: 1;\"/><path class=\"point\" transform=\"translate(289.93,298.97)\" d=\"M5.32,0A5.32,5.32 0 1,1 0,-5.32A5.32,5.32 0 0,1 5.32,0Z\" style=\"opacity: 0.7; stroke-width: 1px; fill: rgb(82, 2, 161); fill-opacity: 1; stroke: rgb(255, 255, 255); stroke-opacity: 1;\"/><path class=\"point\" transform=\"translate(86.61,331.96)\" d=\"M6.24,0A6.24,6.24 0 1,1 0,-6.24A6.24,6.24 0 0,1 6.24,0Z\" style=\"opacity: 0.7; stroke-width: 1px; fill: rgb(103, 1, 166); fill-opacity: 1; stroke: rgb(255, 255, 255); stroke-opacity: 1;\"/><path class=\"point\" transform=\"translate(188.12,323.03)\" d=\"M2.95,0A2.95,2.95 0 1,1 0,-2.95A2.95,2.95 0 0,1 2.95,0Z\" style=\"opacity: 0.7; stroke-width: 1px; fill: rgb(35, 6, 144); fill-opacity: 1; stroke: rgb(255, 255, 255); stroke-opacity: 1;\"/><path class=\"point\" transform=\"translate(282.7,294.27)\" d=\"M3.31,0A3.31,3.31 0 1,1 0,-3.31A3.31,3.31 0 0,1 3.31,0Z\" style=\"opacity: 0.7; stroke-width: 1px; fill: rgb(41, 6, 147); fill-opacity: 1; stroke: rgb(255, 255, 255); stroke-opacity: 1;\"/><path class=\"point\" transform=\"translate(280.09,309.37)\" d=\"M1.67,0A1.67,1.67 0 1,1 0,-1.67A1.67,1.67 0 0,1 1.67,0Z\" style=\"opacity: 0.7; stroke-width: 1px; fill: rgb(20, 7, 138); fill-opacity: 1; stroke: rgb(255, 255, 255); stroke-opacity: 1;\"/><path class=\"point\" transform=\"translate(190.17,326.27)\" d=\"M8.36,0A8.36,8.36 0 1,1 0,-8.36A8.36,8.36 0 0,1 8.36,0Z\" style=\"opacity: 0.7; stroke-width: 1px; fill: rgb(161, 28, 154); fill-opacity: 1; stroke: rgb(255, 255, 255); stroke-opacity: 1;\"/><path class=\"point\" transform=\"translate(294.37,272.07)\" d=\"M9.41,0A9.41,9.41 0 1,1 0,-9.41A9.41,9.41 0 0,1 9.41,0Z\" style=\"opacity: 0.7; stroke-width: 1px; fill: rgb(189, 55, 134); fill-opacity: 1; stroke: rgb(255, 255, 255); stroke-opacity: 1;\"/><path class=\"point\" transform=\"translate(225.05,317.47)\" d=\"M3.16,0A3.16,3.16 0 1,1 0,-3.16A3.16,3.16 0 0,1 3.16,0Z\" style=\"opacity: 0.7; stroke-width: 1px; fill: rgb(39, 6, 146); fill-opacity: 1; stroke: rgb(255, 255, 255); stroke-opacity: 1;\"/><path class=\"point\" transform=\"translate(296.1,263.39)\" d=\"M7.08,0A7.08,7.08 0 1,1 0,-7.08A7.08,7.08 0 0,1 7.08,0Z\" style=\"opacity: 0.7; stroke-width: 1px; fill: rgb(125, 7, 165); fill-opacity: 1; stroke: rgb(255, 255, 255); stroke-opacity: 1;\"/><path class=\"point\" transform=\"translate(353.73,169.37)\" d=\"M2.13,0A2.13,2.13 0 1,1 0,-2.13A2.13,2.13 0 0,1 2.13,0Z\" style=\"opacity: 0.7; stroke-width: 1px; fill: rgb(25, 7, 140); fill-opacity: 1; stroke: rgb(255, 255, 255); stroke-opacity: 1;\"/><path class=\"point\" transform=\"translate(268.94,298.8)\" d=\"M5.75,0A5.75,5.75 0 1,1 0,-5.75A5.75,5.75 0 0,1 5.75,0Z\" style=\"opacity: 0.7; stroke-width: 1px; fill: rgb(91, 2, 163); fill-opacity: 1; stroke: rgb(255, 255, 255); stroke-opacity: 1;\"/><path class=\"point\" transform=\"translate(261.99,303.07)\" d=\"M9.17,0A9.17,9.17 0 1,1 0,-9.17A9.17,9.17 0 0,1 9.17,0Z\" style=\"opacity: 0.7; stroke-width: 1px; fill: rgb(182, 48, 139); fill-opacity: 1; stroke: rgb(255, 255, 255); stroke-opacity: 1;\"/><path class=\"point\" transform=\"translate(297.72,278.92)\" d=\"M3.91,0A3.91,3.91 0 1,1 0,-3.91A3.91,3.91 0 0,1 3.91,0Z\" style=\"opacity: 0.7; stroke-width: 1px; fill: rgb(52, 5, 152); fill-opacity: 1; stroke: rgb(255, 255, 255); stroke-opacity: 1;\"/><path class=\"point\" transform=\"translate(159.9,322.05)\" d=\"M4,0A4,4 0 1,1 0,-4A4,4 0 0,1 4,0Z\" style=\"opacity: 0.7; stroke-width: 1px; fill: rgb(54, 4, 152); fill-opacity: 1; stroke: rgb(255, 255, 255); stroke-opacity: 1;\"/><path class=\"point\" transform=\"translate(311.4,246.23)\" d=\"M5.26,0A5.26,5.26 0 1,1 0,-5.26A5.26,5.26 0 0,1 5.26,0Z\" style=\"opacity: 0.7; stroke-width: 1px; fill: rgb(81, 3, 161); fill-opacity: 1; stroke: rgb(255, 255, 255); stroke-opacity: 1;\"/><path class=\"point\" transform=\"translate(349.13,227)\" d=\"M3.93,0A3.93,3.93 0 1,1 0,-3.93A3.93,3.93 0 0,1 3.93,0Z\" style=\"opacity: 0.7; stroke-width: 1px; fill: rgb(53, 5, 152); fill-opacity: 1; stroke: rgb(255, 255, 255); stroke-opacity: 1;\"/><path class=\"point\" transform=\"translate(121.21,331.83)\" d=\"M8.03,0A8.03,8.03 0 1,1 0,-8.03A8.03,8.03 0 0,1 8.03,0Z\" style=\"opacity: 0.7; stroke-width: 1px; fill: rgb(152, 21, 159); fill-opacity: 1; stroke: rgb(255, 255, 255); stroke-opacity: 1;\"/><path class=\"point\" transform=\"translate(225.96,324.15)\" d=\"M2.54,0A2.54,2.54 0 1,1 0,-2.54A2.54,2.54 0 0,1 2.54,0Z\" style=\"opacity: 0.7; stroke-width: 1px; fill: rgb(29, 7, 142); fill-opacity: 1; stroke: rgb(255, 255, 255); stroke-opacity: 1;\"/><path class=\"point\" transform=\"translate(236.22,311.2)\" d=\"M0.95,0A0.95,0.95 0 1,1 0,-0.95A0.95,0.95 0 0,1 0.95,0Z\" style=\"opacity: 0.7; stroke-width: 1px; fill: rgb(15, 8, 136); fill-opacity: 1; stroke: rgb(255, 255, 255); stroke-opacity: 1;\"/><path class=\"point\" transform=\"translate(211.05,321.37)\" d=\"M4.6,0A4.6,4.6 0 1,1 0,-4.6A4.6,4.6 0 0,1 4.6,0Z\" style=\"opacity: 0.7; stroke-width: 1px; fill: rgb(67, 3, 158); fill-opacity: 1; stroke: rgb(255, 255, 255); stroke-opacity: 1;\"/><path class=\"point\" transform=\"translate(166.09,326.05)\" d=\"M6.68,0A6.68,6.68 0 1,1 0,-6.68A6.68,6.68 0 0,1 6.68,0Z\" style=\"opacity: 0.7; stroke-width: 1px; fill: rgb(114, 1, 168); fill-opacity: 1; stroke: rgb(255, 255, 255); stroke-opacity: 1;\"/><path class=\"point\" transform=\"translate(80.81,331.42)\" d=\"M5.07,0A5.07,5.07 0 1,1 0,-5.07A5.07,5.07 0 0,1 5.07,0Z\" style=\"opacity: 0.7; stroke-width: 1px; fill: rgb(77, 3, 160); fill-opacity: 1; stroke: rgb(255, 255, 255); stroke-opacity: 1;\"/><path class=\"point\" transform=\"translate(285.89,316.59)\" d=\"M5.52,0A5.52,5.52 0 1,1 0,-5.52A5.52,5.52 0 0,1 5.52,0Z\" style=\"opacity: 0.7; stroke-width: 1px; fill: rgb(86, 2, 162); fill-opacity: 1; stroke: rgb(255, 255, 255); stroke-opacity: 1;\"/><path class=\"point\" transform=\"translate(149.33,330.37)\" d=\"M5.45,0A5.45,5.45 0 1,1 0,-5.45A5.45,5.45 0 0,1 5.45,0Z\" style=\"opacity: 0.7; stroke-width: 1px; fill: rgb(85, 2, 162); fill-opacity: 1; stroke: rgb(255, 255, 255); stroke-opacity: 1;\"/><path class=\"point\" transform=\"translate(402.38,169.62)\" d=\"M3.77,0A3.77,3.77 0 1,1 0,-3.77A3.77,3.77 0 0,1 3.77,0Z\" style=\"opacity: 0.7; stroke-width: 1px; fill: rgb(49, 5, 150); fill-opacity: 1; stroke: rgb(255, 255, 255); stroke-opacity: 1;\"/><path class=\"point\" transform=\"translate(267.17,297.41)\" d=\"M5.79,0A5.79,5.79 0 1,1 0,-5.79A5.79,5.79 0 0,1 5.79,0Z\" style=\"opacity: 0.7; stroke-width: 1px; fill: rgb(92, 2, 164); fill-opacity: 1; stroke: rgb(255, 255, 255); stroke-opacity: 1;\"/><path class=\"point\" transform=\"translate(179.69,318.19)\" d=\"M12.55,0A12.55,12.55 0 1,1 0,-12.55A12.55,12.55 0 0,1 12.55,0Z\" style=\"opacity: 0.7; stroke-width: 1px; fill: rgb(251, 163, 56); fill-opacity: 1; stroke: rgb(255, 255, 255); stroke-opacity: 1;\"/><path class=\"point\" transform=\"translate(278.75,300.13)\" d=\"M10.05,0A10.05,10.05 0 1,1 0,-10.05A10.05,10.05 0 0,1 10.05,0Z\" style=\"opacity: 0.7; stroke-width: 1px; fill: rgb(204, 72, 119); fill-opacity: 1; stroke: rgb(255, 255, 255); stroke-opacity: 1;\"/><path class=\"point\" transform=\"translate(235.27,311.01)\" d=\"M2.43,0A2.43,2.43 0 1,1 0,-2.43A2.43,2.43 0 0,1 2.43,0Z\" style=\"opacity: 0.7; stroke-width: 1px; fill: rgb(28, 7, 141); fill-opacity: 1; stroke: rgb(255, 255, 255); stroke-opacity: 1;\"/><path class=\"point\" transform=\"translate(263.72,307.42)\" d=\"M4.99,0A4.99,4.99 0 1,1 0,-4.99A4.99,4.99 0 0,1 4.99,0Z\" style=\"opacity: 0.7; stroke-width: 1px; fill: rgb(75, 3, 160); fill-opacity: 1; stroke: rgb(255, 255, 255); stroke-opacity: 1;\"/><path class=\"point\" transform=\"translate(256.77,304.51)\" d=\"M5.63,0A5.63,5.63 0 1,1 0,-5.63A5.63,5.63 0 0,1 5.63,0Z\" style=\"opacity: 0.7; stroke-width: 1px; fill: rgb(89, 2, 163); fill-opacity: 1; stroke: rgb(255, 255, 255); stroke-opacity: 1;\"/><path class=\"point\" transform=\"translate(193.68,322.67)\" d=\"M5.07,0A5.07,5.07 0 1,1 0,-5.07A5.07,5.07 0 0,1 5.07,0Z\" style=\"opacity: 0.7; stroke-width: 1px; fill: rgb(77, 3, 160); fill-opacity: 1; stroke: rgb(255, 255, 255); stroke-opacity: 1;\"/><path class=\"point\" transform=\"translate(178.83,324.26)\" d=\"M4.89,0A4.89,4.89 0 1,1 0,-4.89A4.89,4.89 0 0,1 4.89,0Z\" style=\"opacity: 0.7; stroke-width: 1px; fill: rgb(73, 3, 160); fill-opacity: 1; stroke: rgb(255, 255, 255); stroke-opacity: 1;\"/><path class=\"point\" transform=\"translate(243.18,311.47)\" d=\"M5.09,0A5.09,5.09 0 1,1 0,-5.09A5.09,5.09 0 0,1 5.09,0Z\" style=\"opacity: 0.7; stroke-width: 1px; fill: rgb(77, 3, 160); fill-opacity: 1; stroke: rgb(255, 255, 255); stroke-opacity: 1;\"/><path class=\"point\" transform=\"translate(136.1,326.38)\" d=\"M4.38,0A4.38,4.38 0 1,1 0,-4.38A4.38,4.38 0 0,1 4.38,0Z\" style=\"opacity: 0.7; stroke-width: 1px; fill: rgb(62, 4, 156); fill-opacity: 1; stroke: rgb(255, 255, 255); stroke-opacity: 1;\"/><path class=\"point\" transform=\"translate(291.9,285.24)\" d=\"M4.08,0A4.08,4.08 0 1,1 0,-4.08A4.08,4.08 0 0,1 4.08,0Z\" style=\"opacity: 0.7; stroke-width: 1px; fill: rgb(56, 4, 153); fill-opacity: 1; stroke: rgb(255, 255, 255); stroke-opacity: 1;\"/><path class=\"point\" transform=\"translate(373.36,148.92)\" d=\"M6.07,0A6.07,6.07 0 1,1 0,-6.07A6.07,6.07 0 0,1 6.07,0Z\" style=\"opacity: 0.7; stroke-width: 1px; fill: rgb(99, 2, 165); fill-opacity: 1; stroke: rgb(255, 255, 255); stroke-opacity: 1;\"/><path class=\"point\" transform=\"translate(217.66,320)\" d=\"M5.61,0A5.61,5.61 0 1,1 0,-5.61A5.61,5.61 0 0,1 5.61,0Z\" style=\"opacity: 0.7; stroke-width: 1px; fill: rgb(88, 2, 163); fill-opacity: 1; stroke: rgb(255, 255, 255); stroke-opacity: 1;\"/><path class=\"point\" transform=\"translate(241.53,310.73)\" d=\"M2.35,0A2.35,2.35 0 1,1 0,-2.35A2.35,2.35 0 0,1 2.35,0Z\" style=\"opacity: 0.7; stroke-width: 1px; fill: rgb(27, 7, 141); fill-opacity: 1; stroke: rgb(255, 255, 255); stroke-opacity: 1;\"/><path class=\"point\" transform=\"translate(213.79,315.19)\" d=\"M5.43,0A5.43,5.43 0 1,1 0,-5.43A5.43,5.43 0 0,1 5.43,0Z\" style=\"opacity: 0.7; stroke-width: 1px; fill: rgb(84, 2, 162); fill-opacity: 1; stroke: rgb(255, 255, 255); stroke-opacity: 1;\"/><path class=\"point\" transform=\"translate(249.45,308.52)\" d=\"M2.49,0A2.49,2.49 0 1,1 0,-2.49A2.49,2.49 0 0,1 2.49,0Z\" style=\"opacity: 0.7; stroke-width: 1px; fill: rgb(29, 7, 142); fill-opacity: 1; stroke: rgb(255, 255, 255); stroke-opacity: 1;\"/><path class=\"point\" transform=\"translate(234.29,314.57)\" d=\"M6.56,0A6.56,6.56 0 1,1 0,-6.56A6.56,6.56 0 0,1 6.56,0Z\" style=\"opacity: 0.7; stroke-width: 1px; fill: rgb(111, 1, 167); fill-opacity: 1; stroke: rgb(255, 255, 255); stroke-opacity: 1;\"/><path class=\"point\" transform=\"translate(81.69,331.16)\" d=\"M4.29,0A4.29,4.29 0 1,1 0,-4.29A4.29,4.29 0 0,1 4.29,0Z\" style=\"opacity: 0.7; stroke-width: 1px; fill: rgb(60, 4, 155); fill-opacity: 1; stroke: rgb(255, 255, 255); stroke-opacity: 1;\"/><path class=\"point\" transform=\"translate(188.63,317.49)\" d=\"M7.73,0A7.73,7.73 0 1,1 0,-7.73A7.73,7.73 0 0,1 7.73,0Z\" style=\"opacity: 0.7; stroke-width: 1px; fill: rgb(143, 16, 161); fill-opacity: 1; stroke: rgb(255, 255, 255); stroke-opacity: 1;\"/><path class=\"point\" transform=\"translate(278.99,280.7)\" d=\"M5.25,0A5.25,5.25 0 1,1 0,-5.25A5.25,5.25 0 0,1 5.25,0Z\" style=\"opacity: 0.7; stroke-width: 1px; fill: rgb(81, 3, 161); fill-opacity: 1; stroke: rgb(255, 255, 255); stroke-opacity: 1;\"/><path class=\"point\" transform=\"translate(216.57,317.78)\" d=\"M6.91,0A6.91,6.91 0 1,1 0,-6.91A6.91,6.91 0 0,1 6.91,0Z\" style=\"opacity: 0.7; stroke-width: 1px; fill: rgb(120, 4, 167); fill-opacity: 1; stroke: rgb(255, 255, 255); stroke-opacity: 1;\"/><path class=\"point\" transform=\"translate(323.7,256.46)\" d=\"M5.99,0A5.99,5.99 0 1,1 0,-5.99A5.99,5.99 0 0,1 5.99,0Z\" style=\"opacity: 0.7; stroke-width: 1px; fill: rgb(97, 2, 165); fill-opacity: 1; stroke: rgb(255, 255, 255); stroke-opacity: 1;\"/><path class=\"point\" transform=\"translate(108.18,329.13)\" d=\"M4.87,0A4.87,4.87 0 1,1 0,-4.87A4.87,4.87 0 0,1 4.87,0Z\" style=\"opacity: 0.7; stroke-width: 1px; fill: rgb(73, 3, 160); fill-opacity: 1; stroke: rgb(255, 255, 255); stroke-opacity: 1;\"/><path class=\"point\" transform=\"translate(219.19,316.61)\" d=\"M0.49,0A0.49,0.49 0 1,1 0,-0.49A0.49,0.49 0 0,1 0.49,0Z\" style=\"opacity: 0.7; stroke-width: 1px; fill: rgb(14, 8, 135); fill-opacity: 1; stroke: rgb(255, 255, 255); stroke-opacity: 1;\"/><path class=\"point\" transform=\"translate(83.6,331.36)\" d=\"M5.9,0A5.9,5.9 0 1,1 0,-5.9A5.9,5.9 0 0,1 5.9,0Z\" style=\"opacity: 0.7; stroke-width: 1px; fill: rgb(95, 2, 164); fill-opacity: 1; stroke: rgb(255, 255, 255); stroke-opacity: 1;\"/><path class=\"point\" transform=\"translate(165.4,326.11)\" d=\"M5.74,0A5.74,5.74 0 1,1 0,-5.74A5.74,5.74 0 0,1 5.74,0Z\" style=\"opacity: 0.7; stroke-width: 1px; fill: rgb(91, 2, 163); fill-opacity: 1; stroke: rgb(255, 255, 255); stroke-opacity: 1;\"/><path class=\"point\" transform=\"translate(58.09,333.41)\" d=\"M6.52,0A6.52,6.52 0 1,1 0,-6.52A6.52,6.52 0 0,1 6.52,0Z\" style=\"opacity: 0.7; stroke-width: 1px; fill: rgb(110, 1, 167); fill-opacity: 1; stroke: rgb(255, 255, 255); stroke-opacity: 1;\"/><path class=\"point\" transform=\"translate(67.13,331.98)\" d=\"M5.83,0A5.83,5.83 0 1,1 0,-5.83A5.83,5.83 0 0,1 5.83,0Z\" style=\"opacity: 0.7; stroke-width: 1px; fill: rgb(93, 2, 164); fill-opacity: 1; stroke: rgb(255, 255, 255); stroke-opacity: 1;\"/><path class=\"point\" transform=\"translate(125.23,329.65)\" d=\"M4.98,0A4.98,4.98 0 1,1 0,-4.98A4.98,4.98 0 0,1 4.98,0Z\" style=\"opacity: 0.7; stroke-width: 1px; fill: rgb(75, 3, 160); fill-opacity: 1; stroke: rgb(255, 255, 255); stroke-opacity: 1;\"/><path class=\"point\" transform=\"translate(124.94,329.26)\" d=\"M2.03,0A2.03,2.03 0 1,1 0,-2.03A2.03,2.03 0 0,1 2.03,0Z\" style=\"opacity: 0.7; stroke-width: 1px; fill: rgb(24, 7, 139); fill-opacity: 1; stroke: rgb(255, 255, 255); stroke-opacity: 1;\"/><path class=\"point\" transform=\"translate(143.84,332.99)\" d=\"M3.52,0A3.52,3.52 0 1,1 0,-3.52A3.52,3.52 0 0,1 3.52,0Z\" style=\"opacity: 0.7; stroke-width: 1px; fill: rgb(45, 5, 148); fill-opacity: 1; stroke: rgb(255, 255, 255); stroke-opacity: 1;\"/><path class=\"point\" transform=\"translate(327.1,268.17)\" d=\"M4.66,0A4.66,4.66 0 1,1 0,-4.66A4.66,4.66 0 0,1 4.66,0Z\" style=\"opacity: 0.7; stroke-width: 1px; fill: rgb(69, 3, 158); fill-opacity: 1; stroke: rgb(255, 255, 255); stroke-opacity: 1;\"/><path class=\"point\" transform=\"translate(212.58,319.93)\" d=\"M0.47,0A0.47,0.47 0 1,1 0,-0.47A0.47,0.47 0 0,1 0.47,0Z\" style=\"opacity: 0.7; stroke-width: 1px; fill: rgb(14, 8, 135); fill-opacity: 1; stroke: rgb(255, 255, 255); stroke-opacity: 1;\"/><path class=\"point\" transform=\"translate(131.23,326.45)\" d=\"M3.06,0A3.06,3.06 0 1,1 0,-3.06A3.06,3.06 0 0,1 3.06,0Z\" style=\"opacity: 0.7; stroke-width: 1px; fill: rgb(37, 6, 145); fill-opacity: 1; stroke: rgb(255, 255, 255); stroke-opacity: 1;\"/><path class=\"point\" transform=\"translate(193.44,319.76)\" d=\"M2.99,0A2.99,2.99 0 1,1 0,-2.99A2.99,2.99 0 0,1 2.99,0Z\" style=\"opacity: 0.7; stroke-width: 1px; fill: rgb(36, 6, 145); fill-opacity: 1; stroke: rgb(255, 255, 255); stroke-opacity: 1;\"/><path class=\"point\" transform=\"translate(108.39,332.18)\" d=\"M5.88,0A5.88,5.88 0 1,1 0,-5.88A5.88,5.88 0 0,1 5.88,0Z\" style=\"opacity: 0.7; stroke-width: 1px; fill: rgb(94, 2, 164); fill-opacity: 1; stroke: rgb(255, 255, 255); stroke-opacity: 1;\"/><path class=\"point\" transform=\"translate(219.33,317.68)\" d=\"M7.63,0A7.63,7.63 0 1,1 0,-7.63A7.63,7.63 0 0,1 7.63,0Z\" style=\"opacity: 0.7; stroke-width: 1px; fill: rgb(140, 15, 162); fill-opacity: 1; stroke: rgb(255, 255, 255); stroke-opacity: 1;\"/><path class=\"point\" transform=\"translate(126.61,329)\" d=\"M4.13,0A4.13,4.13 0 1,1 0,-4.13A4.13,4.13 0 0,1 4.13,0Z\" style=\"opacity: 0.7; stroke-width: 1px; fill: rgb(57, 4, 153); fill-opacity: 1; stroke: rgb(255, 255, 255); stroke-opacity: 1;\"/><path class=\"point\" transform=\"translate(159.09,323.68)\" d=\"M7.26,0A7.26,7.26 0 1,1 0,-7.26A7.26,7.26 0 0,1 7.26,0Z\" style=\"opacity: 0.7; stroke-width: 1px; fill: rgb(130, 9, 164); fill-opacity: 1; stroke: rgb(255, 255, 255); stroke-opacity: 1;\"/><path class=\"point\" transform=\"translate(230.27,325.18)\" d=\"M10.69,0A10.69,10.69 0 1,1 0,-10.69A10.69,10.69 0 0,1 10.69,0Z\" style=\"opacity: 0.7; stroke-width: 1px; fill: rgb(219, 92, 104); fill-opacity: 1; stroke: rgb(255, 255, 255); stroke-opacity: 1;\"/><path class=\"point\" transform=\"translate(25.75,333.51)\" d=\"M2.83,0A2.83,2.83 0 1,1 0,-2.83A2.83,2.83 0 0,1 2.83,0Z\" style=\"opacity: 0.7; stroke-width: 1px; fill: rgb(34, 6, 144); fill-opacity: 1; stroke: rgb(255, 255, 255); stroke-opacity: 1;\"/><path class=\"point\" transform=\"translate(132.24,326.59)\" d=\"M3.86,0A3.86,3.86 0 1,1 0,-3.86A3.86,3.86 0 0,1 3.86,0Z\" style=\"opacity: 0.7; stroke-width: 1px; fill: rgb(51, 5, 151); fill-opacity: 1; stroke: rgb(255, 255, 255); stroke-opacity: 1;\"/><path class=\"point\" transform=\"translate(127.77,327.14)\" d=\"M3.39,0A3.39,3.39 0 1,1 0,-3.39A3.39,3.39 0 0,1 3.39,0Z\" style=\"opacity: 0.7; stroke-width: 1px; fill: rgb(42, 5, 147); fill-opacity: 1; stroke: rgb(255, 255, 255); stroke-opacity: 1;\"/><path class=\"point\" transform=\"translate(133.81,328.16)\" d=\"M7.44,0A7.44,7.44 0 1,1 0,-7.44A7.44,7.44 0 0,1 7.44,0Z\" style=\"opacity: 0.7; stroke-width: 1px; fill: rgb(135, 12, 163); fill-opacity: 1; stroke: rgb(255, 255, 255); stroke-opacity: 1;\"/><path class=\"point\" transform=\"translate(169.57,315.7)\" d=\"M6.13,0A6.13,6.13 0 1,1 0,-6.13A6.13,6.13 0 0,1 6.13,0Z\" style=\"opacity: 0.7; stroke-width: 1px; fill: rgb(100, 2, 165); fill-opacity: 1; stroke: rgb(255, 255, 255); stroke-opacity: 1;\"/><path class=\"point\" transform=\"translate(189.25,322.67)\" d=\"M3.61,0A3.61,3.61 0 1,1 0,-3.61A3.61,3.61 0 0,1 3.61,0Z\" style=\"opacity: 0.7; stroke-width: 1px; fill: rgb(46, 5, 149); fill-opacity: 1; stroke: rgb(255, 255, 255); stroke-opacity: 1;\"/><path class=\"point\" transform=\"translate(177.36,321.12)\" d=\"M4.74,0A4.74,4.74 0 1,1 0,-4.74A4.74,4.74 0 0,1 4.74,0Z\" style=\"opacity: 0.7; stroke-width: 1px; fill: rgb(70, 3, 159); fill-opacity: 1; stroke: rgb(255, 255, 255); stroke-opacity: 1;\"/><path class=\"point\" transform=\"translate(103.57,328.72)\" d=\"M4.4,0A4.4,4.4 0 1,1 0,-4.4A4.4,4.4 0 0,1 4.4,0Z\" style=\"opacity: 0.7; stroke-width: 1px; fill: rgb(63, 4, 156); fill-opacity: 1; stroke: rgb(255, 255, 255); stroke-opacity: 1;\"/><path class=\"point\" transform=\"translate(258.88,299.06)\" d=\"M8.08,0A8.08,8.08 0 1,1 0,-8.08A8.08,8.08 0 0,1 8.08,0Z\" style=\"opacity: 0.7; stroke-width: 1px; fill: rgb(153, 22, 159); fill-opacity: 1; stroke: rgb(255, 255, 255); stroke-opacity: 1;\"/><path class=\"point\" transform=\"translate(154.66,330.25)\" d=\"M5.61,0A5.61,5.61 0 1,1 0,-5.61A5.61,5.61 0 0,1 5.61,0Z\" style=\"opacity: 0.7; stroke-width: 1px; fill: rgb(88, 2, 163); fill-opacity: 1; stroke: rgb(255, 255, 255); stroke-opacity: 1;\"/><path class=\"point\" transform=\"translate(149.4,326.41)\" d=\"M3.11,0A3.11,3.11 0 1,1 0,-3.11A3.11,3.11 0 0,1 3.11,0Z\" style=\"opacity: 0.7; stroke-width: 1px; fill: rgb(38, 6, 145); fill-opacity: 1; stroke: rgb(255, 255, 255); stroke-opacity: 1;\"/><path class=\"point\" transform=\"translate(184.54,322.96)\" d=\"M2.61,0A2.61,2.61 0 1,1 0,-2.61A2.61,2.61 0 0,1 2.61,0Z\" style=\"opacity: 0.7; stroke-width: 1px; fill: rgb(30, 6, 142); fill-opacity: 1; stroke: rgb(255, 255, 255); stroke-opacity: 1;\"/><path class=\"point\" transform=\"translate(250.7,311.27)\" d=\"M4.58,0A4.58,4.58 0 1,1 0,-4.58A4.58,4.58 0 0,1 4.58,0Z\" style=\"opacity: 0.7; stroke-width: 1px; fill: rgb(67, 3, 158); fill-opacity: 1; stroke: rgb(255, 255, 255); stroke-opacity: 1;\"/><path class=\"point\" transform=\"translate(290.94,292.45)\" d=\"M4.03,0A4.03,4.03 0 1,1 0,-4.03A4.03,4.03 0 0,1 4.03,0Z\" style=\"opacity: 0.7; stroke-width: 1px; fill: rgb(55, 4, 153); fill-opacity: 1; stroke: rgb(255, 255, 255); stroke-opacity: 1;\"/><path class=\"point\" transform=\"translate(71.21,331.94)\" d=\"M4.65,0A4.65,4.65 0 1,1 0,-4.65A4.65,4.65 0 0,1 4.65,0Z\" style=\"opacity: 0.7; stroke-width: 1px; fill: rgb(68, 3, 158); fill-opacity: 1; stroke: rgb(255, 255, 255); stroke-opacity: 1;\"/><path class=\"point\" transform=\"translate(179.49,326.51)\" d=\"M6.34,0A6.34,6.34 0 1,1 0,-6.34A6.34,6.34 0 0,1 6.34,0Z\" style=\"opacity: 0.7; stroke-width: 1px; fill: rgb(106, 1, 166); fill-opacity: 1; stroke: rgb(255, 255, 255); stroke-opacity: 1;\"/><path class=\"point\" transform=\"translate(240.84,297.31)\" d=\"M6.32,0A6.32,6.32 0 1,1 0,-6.32A6.32,6.32 0 0,1 6.32,0Z\" style=\"opacity: 0.7; stroke-width: 1px; fill: rgb(105, 1, 166); fill-opacity: 1; stroke: rgb(255, 255, 255); stroke-opacity: 1;\"/><path class=\"point\" transform=\"translate(239.18,328.83)\" d=\"M4.78,0A4.78,4.78 0 1,1 0,-4.78A4.78,4.78 0 0,1 4.78,0Z\" style=\"opacity: 0.7; stroke-width: 1px; fill: rgb(71, 3, 159); fill-opacity: 1; stroke: rgb(255, 255, 255); stroke-opacity: 1;\"/><path class=\"point\" transform=\"translate(240.55,304.09)\" d=\"M2.86,0A2.86,2.86 0 1,1 0,-2.86A2.86,2.86 0 0,1 2.86,0Z\" style=\"opacity: 0.7; stroke-width: 1px; fill: rgb(34, 6, 144); fill-opacity: 1; stroke: rgb(255, 255, 255); stroke-opacity: 1;\"/><path class=\"point\" transform=\"translate(152.46,323.06)\" d=\"M6.08,0A6.08,6.08 0 1,1 0,-6.08A6.08,6.08 0 0,1 6.08,0Z\" style=\"opacity: 0.7; stroke-width: 1px; fill: rgb(99, 2, 165); fill-opacity: 1; stroke: rgb(255, 255, 255); stroke-opacity: 1;\"/><path class=\"point\" transform=\"translate(278.58,291.51)\" d=\"M3.26,0A3.26,3.26 0 1,1 0,-3.26A3.26,3.26 0 0,1 3.26,0Z\" style=\"opacity: 0.7; stroke-width: 1px; fill: rgb(40, 6, 146); fill-opacity: 1; stroke: rgb(255, 255, 255); stroke-opacity: 1;\"/><path class=\"point\" transform=\"translate(232.18,311.91)\" d=\"M6.03,0A6.03,6.03 0 1,1 0,-6.03A6.03,6.03 0 0,1 6.03,0Z\" style=\"opacity: 0.7; stroke-width: 1px; fill: rgb(98, 2, 165); fill-opacity: 1; stroke: rgb(255, 255, 255); stroke-opacity: 1;\"/><path class=\"point\" transform=\"translate(195.61,322.11)\" d=\"M2.87,0A2.87,2.87 0 1,1 0,-2.87A2.87,2.87 0 0,1 2.87,0Z\" style=\"opacity: 0.7; stroke-width: 1px; fill: rgb(34, 6, 144); fill-opacity: 1; stroke: rgb(255, 255, 255); stroke-opacity: 1;\"/><path class=\"point\" transform=\"translate(325.37,229.31)\" d=\"M10.6,0A10.6,10.6 0 1,1 0,-10.6A10.6,10.6 0 0,1 10.6,0Z\" style=\"opacity: 0.7; stroke-width: 1px; fill: rgb(217, 89, 106); fill-opacity: 1; stroke: rgb(255, 255, 255); stroke-opacity: 1;\"/><path class=\"point\" transform=\"translate(211.38,318.18)\" d=\"M6.11,0A6.11,6.11 0 1,1 0,-6.11A6.11,6.11 0 0,1 6.11,0Z\" style=\"opacity: 0.7; stroke-width: 1px; fill: rgb(100, 2, 165); fill-opacity: 1; stroke: rgb(255, 255, 255); stroke-opacity: 1;\"/><path class=\"point\" transform=\"translate(374.91,198.3)\" d=\"M6.97,0A6.97,6.97 0 1,1 0,-6.97A6.97,6.97 0 0,1 6.97,0Z\" style=\"opacity: 0.7; stroke-width: 1px; fill: rgb(122, 5, 166); fill-opacity: 1; stroke: rgb(255, 255, 255); stroke-opacity: 1;\"/><path class=\"point\" transform=\"translate(218.4,317.1)\" d=\"M7.05,0A7.05,7.05 0 1,1 0,-7.05A7.05,7.05 0 0,1 7.05,0Z\" style=\"opacity: 0.7; stroke-width: 1px; fill: rgb(124, 6, 166); fill-opacity: 1; stroke: rgb(255, 255, 255); stroke-opacity: 1;\"/><path class=\"point\" transform=\"translate(146.07,325.17)\" d=\"M3.74,0A3.74,3.74 0 1,1 0,-3.74A3.74,3.74 0 0,1 3.74,0Z\" style=\"opacity: 0.7; stroke-width: 1px; fill: rgb(49, 5, 150); fill-opacity: 1; stroke: rgb(255, 255, 255); stroke-opacity: 1;\"/><path class=\"point\" transform=\"translate(218.32,317.67)\" d=\"M3.92,0A3.92,3.92 0 1,1 0,-3.92A3.92,3.92 0 0,1 3.92,0Z\" style=\"opacity: 0.7; stroke-width: 1px; fill: rgb(52, 5, 152); fill-opacity: 1; stroke: rgb(255, 255, 255); stroke-opacity: 1;\"/><path class=\"point\" transform=\"translate(244.15,308.77)\" d=\"M2.77,0A2.77,2.77 0 1,1 0,-2.77A2.77,2.77 0 0,1 2.77,0Z\" style=\"opacity: 0.7; stroke-width: 1px; fill: rgb(33, 6, 143); fill-opacity: 1; stroke: rgb(255, 255, 255); stroke-opacity: 1;\"/><path class=\"point\" transform=\"translate(129.93,326.02)\" d=\"M5.94,0A5.94,5.94 0 1,1 0,-5.94A5.94,5.94 0 0,1 5.94,0Z\" style=\"opacity: 0.7; stroke-width: 1px; fill: rgb(96, 2, 164); fill-opacity: 1; stroke: rgb(255, 255, 255); stroke-opacity: 1;\"/><path class=\"point\" transform=\"translate(243.86,308.42)\" d=\"M4.95,0A4.95,4.95 0 1,1 0,-4.95A4.95,4.95 0 0,1 4.95,0Z\" style=\"opacity: 0.7; stroke-width: 1px; fill: rgb(74, 3, 160); fill-opacity: 1; stroke: rgb(255, 255, 255); stroke-opacity: 1;\"/><path class=\"point\" transform=\"translate(109.82,329.75)\" d=\"M5.52,0A5.52,5.52 0 1,1 0,-5.52A5.52,5.52 0 0,1 5.52,0Z\" style=\"opacity: 0.7; stroke-width: 1px; fill: rgb(86, 2, 162); fill-opacity: 1; stroke: rgb(255, 255, 255); stroke-opacity: 1;\"/><path class=\"point\" transform=\"translate(165.95,325.69)\" d=\"M6.73,0A6.73,6.73 0 1,1 0,-6.73A6.73,6.73 0 0,1 6.73,0Z\" style=\"opacity: 0.7; stroke-width: 1px; fill: rgb(115, 2, 168); fill-opacity: 1; stroke: rgb(255, 255, 255); stroke-opacity: 1;\"/><path class=\"point\" transform=\"translate(288.98,314.88)\" d=\"M2.61,0A2.61,2.61 0 1,1 0,-2.61A2.61,2.61 0 0,1 2.61,0Z\" style=\"opacity: 0.7; stroke-width: 1px; fill: rgb(30, 6, 142); fill-opacity: 1; stroke: rgb(255, 255, 255); stroke-opacity: 1;\"/><path class=\"point\" transform=\"translate(228,312.86)\" d=\"M7.45,0A7.45,7.45 0 1,1 0,-7.45A7.45,7.45 0 0,1 7.45,0Z\" style=\"opacity: 0.7; stroke-width: 1px; fill: rgb(135, 12, 163); fill-opacity: 1; stroke: rgb(255, 255, 255); stroke-opacity: 1;\"/><path class=\"point\" transform=\"translate(242.28,316.57)\" d=\"M6.62,0A6.62,6.62 0 1,1 0,-6.62A6.62,6.62 0 0,1 6.62,0Z\" style=\"opacity: 0.7; stroke-width: 1px; fill: rgb(113, 1, 168); fill-opacity: 1; stroke: rgb(255, 255, 255); stroke-opacity: 1;\"/><path class=\"point\" transform=\"translate(234.16,311.82)\" d=\"M4.67,0A4.67,4.67 0 1,1 0,-4.67A4.67,4.67 0 0,1 4.67,0Z\" style=\"opacity: 0.7; stroke-width: 1px; fill: rgb(69, 3, 159); fill-opacity: 1; stroke: rgb(255, 255, 255); stroke-opacity: 1;\"/><path class=\"point\" transform=\"translate(75.35,330.84)\" d=\"M4.89,0A4.89,4.89 0 1,1 0,-4.89A4.89,4.89 0 0,1 4.89,0Z\" style=\"opacity: 0.7; stroke-width: 1px; fill: rgb(73, 3, 160); fill-opacity: 1; stroke: rgb(255, 255, 255); stroke-opacity: 1;\"/><path class=\"point\" transform=\"translate(314.92,267.34)\" d=\"M5.03,0A5.03,5.03 0 1,1 0,-5.03A5.03,5.03 0 0,1 5.03,0Z\" style=\"opacity: 0.7; stroke-width: 1px; fill: rgb(76, 3, 160); fill-opacity: 1; stroke: rgb(255, 255, 255); stroke-opacity: 1;\"/><path class=\"point\" transform=\"translate(275.29,306.01)\" d=\"M4.78,0A4.78,4.78 0 1,1 0,-4.78A4.78,4.78 0 0,1 4.78,0Z\" style=\"opacity: 0.7; stroke-width: 1px; fill: rgb(71, 3, 159); fill-opacity: 1; stroke: rgb(255, 255, 255); stroke-opacity: 1;\"/><path class=\"point\" transform=\"translate(143.31,320.92)\" d=\"M2.56,0A2.56,2.56 0 1,1 0,-2.56A2.56,2.56 0 0,1 2.56,0Z\" style=\"opacity: 0.7; stroke-width: 1px; fill: rgb(30, 7, 142); fill-opacity: 1; stroke: rgb(255, 255, 255); stroke-opacity: 1;\"/><path class=\"point\" transform=\"translate(57.97,332.66)\" d=\"M7.43,0A7.43,7.43 0 1,1 0,-7.43A7.43,7.43 0 0,1 7.43,0Z\" style=\"opacity: 0.7; stroke-width: 1px; fill: rgb(134, 12, 163); fill-opacity: 1; stroke: rgb(255, 255, 255); stroke-opacity: 1;\"/><path class=\"point\" transform=\"translate(292.84,295.47)\" d=\"M5.51,0A5.51,5.51 0 1,1 0,-5.51A5.51,5.51 0 0,1 5.51,0Z\" style=\"opacity: 0.7; stroke-width: 1px; fill: rgb(86, 2, 162); fill-opacity: 1; stroke: rgb(255, 255, 255); stroke-opacity: 1;\"/><path class=\"point\" transform=\"translate(173.82,312.38)\" d=\"M7.9,0A7.9,7.9 0 1,1 0,-7.9A7.9,7.9 0 0,1 7.9,0Z\" style=\"opacity: 0.7; stroke-width: 1px; fill: rgb(148, 19, 160); fill-opacity: 1; stroke: rgb(255, 255, 255); stroke-opacity: 1;\"/><path class=\"point\" transform=\"translate(207.19,327.8)\" d=\"M3.84,0A3.84,3.84 0 1,1 0,-3.84A3.84,3.84 0 0,1 3.84,0Z\" style=\"opacity: 0.7; stroke-width: 1px; fill: rgb(51, 5, 151); fill-opacity: 1; stroke: rgb(255, 255, 255); stroke-opacity: 1;\"/><path class=\"point\" transform=\"translate(61.66,331.36)\" d=\"M2.61,0A2.61,2.61 0 1,1 0,-2.61A2.61,2.61 0 0,1 2.61,0Z\" style=\"opacity: 0.7; stroke-width: 1px; fill: rgb(30, 6, 142); fill-opacity: 1; stroke: rgb(255, 255, 255); stroke-opacity: 1;\"/><path class=\"point\" transform=\"translate(156.57,325.27)\" d=\"M5.83,0A5.83,5.83 0 1,1 0,-5.83A5.83,5.83 0 0,1 5.83,0Z\" style=\"opacity: 0.7; stroke-width: 1px; fill: rgb(93, 2, 164); fill-opacity: 1; stroke: rgb(255, 255, 255); stroke-opacity: 1;\"/><path class=\"point\" transform=\"translate(78.41,329.27)\" d=\"M4.07,0A4.07,4.07 0 1,1 0,-4.07A4.07,4.07 0 0,1 4.07,0Z\" style=\"opacity: 0.7; stroke-width: 1px; fill: rgb(55, 4, 153); fill-opacity: 1; stroke: rgb(255, 255, 255); stroke-opacity: 1;\"/><path class=\"point\" transform=\"translate(134.06,329.25)\" d=\"M2.99,0A2.99,2.99 0 1,1 0,-2.99A2.99,2.99 0 0,1 2.99,0Z\" style=\"opacity: 0.7; stroke-width: 1px; fill: rgb(36, 6, 145); fill-opacity: 1; stroke: rgb(255, 255, 255); stroke-opacity: 1;\"/><path class=\"point\" transform=\"translate(298.61,248.54)\" d=\"M5.09,0A5.09,5.09 0 1,1 0,-5.09A5.09,5.09 0 0,1 5.09,0Z\" style=\"opacity: 0.7; stroke-width: 1px; fill: rgb(77, 3, 160); fill-opacity: 1; stroke: rgb(255, 255, 255); stroke-opacity: 1;\"/><path class=\"point\" transform=\"translate(320.77,255.51)\" d=\"M5.2,0A5.2,5.2 0 1,1 0,-5.2A5.2,5.2 0 0,1 5.2,0Z\" style=\"opacity: 0.7; stroke-width: 1px; fill: rgb(80, 3, 161); fill-opacity: 1; stroke: rgb(255, 255, 255); stroke-opacity: 1;\"/><path class=\"point\" transform=\"translate(201.76,305.3)\" d=\"M5.77,0A5.77,5.77 0 1,1 0,-5.77A5.77,5.77 0 0,1 5.77,0Z\" style=\"opacity: 0.7; stroke-width: 1px; fill: rgb(92, 2, 163); fill-opacity: 1; stroke: rgb(255, 255, 255); stroke-opacity: 1;\"/><path class=\"point\" transform=\"translate(188.22,316.62)\" d=\"M1.2,0A1.2,1.2 0 1,1 0,-1.2A1.2,1.2 0 0,1 1.2,0Z\" style=\"opacity: 0.7; stroke-width: 1px; fill: rgb(17, 8, 137); fill-opacity: 1; stroke: rgb(255, 255, 255); stroke-opacity: 1;\"/><path class=\"point\" transform=\"translate(293.65,275.12)\" d=\"M6.34,0A6.34,6.34 0 1,1 0,-6.34A6.34,6.34 0 0,1 6.34,0Z\" style=\"opacity: 0.7; stroke-width: 1px; fill: rgb(106, 1, 166); fill-opacity: 1; stroke: rgb(255, 255, 255); stroke-opacity: 1;\"/><path class=\"point\" transform=\"translate(257.46,304.46)\" d=\"M5.21,0A5.21,5.21 0 1,1 0,-5.21A5.21,5.21 0 0,1 5.21,0Z\" style=\"opacity: 0.7; stroke-width: 1px; fill: rgb(80, 3, 161); fill-opacity: 1; stroke: rgb(255, 255, 255); stroke-opacity: 1;\"/><path class=\"point\" transform=\"translate(236.75,311.71)\" d=\"M6.36,0A6.36,6.36 0 1,1 0,-6.36A6.36,6.36 0 0,1 6.36,0Z\" style=\"opacity: 0.7; stroke-width: 1px; fill: rgb(106, 1, 166); fill-opacity: 1; stroke: rgb(255, 255, 255); stroke-opacity: 1;\"/><path class=\"point\" transform=\"translate(224.51,283.65)\" d=\"M1.72,0A1.72,1.72 0 1,1 0,-1.72A1.72,1.72 0 0,1 1.72,0Z\" style=\"opacity: 0.7; stroke-width: 1px; fill: rgb(21, 7, 138); fill-opacity: 1; stroke: rgb(255, 255, 255); stroke-opacity: 1;\"/><path class=\"point\" transform=\"translate(179.48,324.22)\" d=\"M4.4,0A4.4,4.4 0 1,1 0,-4.4A4.4,4.4 0 0,1 4.4,0Z\" style=\"opacity: 0.7; stroke-width: 1px; fill: rgb(63, 4, 156); fill-opacity: 1; stroke: rgb(255, 255, 255); stroke-opacity: 1;\"/><path class=\"point\" transform=\"translate(342.52,243.73)\" d=\"M4.75,0A4.75,4.75 0 1,1 0,-4.75A4.75,4.75 0 0,1 4.75,0Z\" style=\"opacity: 0.7; stroke-width: 1px; fill: rgb(71, 3, 159); fill-opacity: 1; stroke: rgb(255, 255, 255); stroke-opacity: 1;\"/><path class=\"point\" transform=\"translate(244.54,307.05)\" d=\"M5.81,0A5.81,5.81 0 1,1 0,-5.81A5.81,5.81 0 0,1 5.81,0Z\" style=\"opacity: 0.7; stroke-width: 1px; fill: rgb(93, 2, 164); fill-opacity: 1; stroke: rgb(255, 255, 255); stroke-opacity: 1;\"/><path class=\"point\" transform=\"translate(119.75,329.17)\" d=\"M4.17,0A4.17,4.17 0 1,1 0,-4.17A4.17,4.17 0 0,1 4.17,0Z\" style=\"opacity: 0.7; stroke-width: 1px; fill: rgb(58, 4, 154); fill-opacity: 1; stroke: rgb(255, 255, 255); stroke-opacity: 1;\"/><path class=\"point\" transform=\"translate(40.11,332.22)\" d=\"M6.89,0A6.89,6.89 0 1,1 0,-6.89A6.89,6.89 0 0,1 6.89,0Z\" style=\"opacity: 0.7; stroke-width: 1px; fill: rgb(120, 4, 167); fill-opacity: 1; stroke: rgb(255, 255, 255); stroke-opacity: 1;\"/><path class=\"point\" transform=\"translate(270.74,283.77)\" d=\"M5.37,0A5.37,5.37 0 1,1 0,-5.37A5.37,5.37 0 0,1 5.37,0Z\" style=\"opacity: 0.7; stroke-width: 1px; fill: rgb(83, 2, 162); fill-opacity: 1; stroke: rgb(255, 255, 255); stroke-opacity: 1;\"/><path class=\"point\" transform=\"translate(223.21,328.6)\" d=\"M2.76,0A2.76,2.76 0 1,1 0,-2.76A2.76,2.76 0 0,1 2.76,0Z\" style=\"opacity: 0.7; stroke-width: 1px; fill: rgb(33, 6, 143); fill-opacity: 1; stroke: rgb(255, 255, 255); stroke-opacity: 1;\"/><path class=\"point\" transform=\"translate(259.56,308.33)\" d=\"M2.71,0A2.71,2.71 0 1,1 0,-2.71A2.71,2.71 0 0,1 2.71,0Z\" style=\"opacity: 0.7; stroke-width: 1px; fill: rgb(32, 6, 143); fill-opacity: 1; stroke: rgb(255, 255, 255); stroke-opacity: 1;\"/><path class=\"point\" transform=\"translate(275.47,315.31)\" d=\"M4.01,0A4.01,4.01 0 1,1 0,-4.01A4.01,4.01 0 0,1 4.01,0Z\" style=\"opacity: 0.7; stroke-width: 1px; fill: rgb(54, 4, 152); fill-opacity: 1; stroke: rgb(255, 255, 255); stroke-opacity: 1;\"/><path class=\"point\" transform=\"translate(195.65,319.92)\" d=\"M5.86,0A5.86,5.86 0 1,1 0,-5.86A5.86,5.86 0 0,1 5.86,0Z\" style=\"opacity: 0.7; stroke-width: 1px; fill: rgb(94, 2, 164); fill-opacity: 1; stroke: rgb(255, 255, 255); stroke-opacity: 1;\"/><path class=\"point\" transform=\"translate(126.56,329.7)\" d=\"M8.42,0A8.42,8.42 0 1,1 0,-8.42A8.42,8.42 0 0,1 8.42,0Z\" style=\"opacity: 0.7; stroke-width: 1px; fill: rgb(162, 29, 153); fill-opacity: 1; stroke: rgb(255, 255, 255); stroke-opacity: 1;\"/><path class=\"point\" transform=\"translate(160.07,327.63)\" d=\"M6.23,0A6.23,6.23 0 1,1 0,-6.23A6.23,6.23 0 0,1 6.23,0Z\" style=\"opacity: 0.7; stroke-width: 1px; fill: rgb(103, 2, 166); fill-opacity: 1; stroke: rgb(255, 255, 255); stroke-opacity: 1;\"/><path class=\"point\" transform=\"translate(69.88,331.94)\" d=\"M5.09,0A5.09,5.09 0 1,1 0,-5.09A5.09,5.09 0 0,1 5.09,0Z\" style=\"opacity: 0.7; stroke-width: 1px; fill: rgb(77, 3, 160); fill-opacity: 1; stroke: rgb(255, 255, 255); stroke-opacity: 1;\"/><path class=\"point\" transform=\"translate(305.76,284.01)\" d=\"M5.14,0A5.14,5.14 0 1,1 0,-5.14A5.14,5.14 0 0,1 5.14,0Z\" style=\"opacity: 0.7; stroke-width: 1px; fill: rgb(78, 3, 161); fill-opacity: 1; stroke: rgb(255, 255, 255); stroke-opacity: 1;\"/><path class=\"point\" transform=\"translate(215.7,313.23)\" d=\"M7.53,0A7.53,7.53 0 1,1 0,-7.53A7.53,7.53 0 0,1 7.53,0Z\" style=\"opacity: 0.7; stroke-width: 1px; fill: rgb(137, 13, 162); fill-opacity: 1; stroke: rgb(255, 255, 255); stroke-opacity: 1;\"/><path class=\"point\" transform=\"translate(271.97,300.71)\" d=\"M3.81,0A3.81,3.81 0 1,1 0,-3.81A3.81,3.81 0 0,1 3.81,0Z\" style=\"opacity: 0.7; stroke-width: 1px; fill: rgb(50, 5, 151); fill-opacity: 1; stroke: rgb(255, 255, 255); stroke-opacity: 1;\"/><path class=\"point\" transform=\"translate(213.42,317.79)\" d=\"M3.62,0A3.62,3.62 0 1,1 0,-3.62A3.62,3.62 0 0,1 3.62,0Z\" style=\"opacity: 0.7; stroke-width: 1px; fill: rgb(47, 5, 149); fill-opacity: 1; stroke: rgb(255, 255, 255); stroke-opacity: 1;\"/><path class=\"point\" transform=\"translate(247.24,309.02)\" d=\"M5.25,0A5.25,5.25 0 1,1 0,-5.25A5.25,5.25 0 0,1 5.25,0Z\" style=\"opacity: 0.7; stroke-width: 1px; fill: rgb(81, 3, 161); fill-opacity: 1; stroke: rgb(255, 255, 255); stroke-opacity: 1;\"/><path class=\"point\" transform=\"translate(206.98,318.64)\" d=\"M4.43,0A4.43,4.43 0 1,1 0,-4.43A4.43,4.43 0 0,1 4.43,0Z\" style=\"opacity: 0.7; stroke-width: 1px; fill: rgb(63, 4, 156); fill-opacity: 1; stroke: rgb(255, 255, 255); stroke-opacity: 1;\"/><path class=\"point\" transform=\"translate(306.25,289.17)\" d=\"M4.16,0A4.16,4.16 0 1,1 0,-4.16A4.16,4.16 0 0,1 4.16,0Z\" style=\"opacity: 0.7; stroke-width: 1px; fill: rgb(57, 4, 154); fill-opacity: 1; stroke: rgb(255, 255, 255); stroke-opacity: 1;\"/><path class=\"point\" transform=\"translate(337.66,209.19)\" d=\"M3.41,0A3.41,3.41 0 1,1 0,-3.41A3.41,3.41 0 0,1 3.41,0Z\" style=\"opacity: 0.7; stroke-width: 1px; fill: rgb(43, 5, 148); fill-opacity: 1; stroke: rgb(255, 255, 255); stroke-opacity: 1;\"/><path class=\"point\" transform=\"translate(312.7,265.68)\" d=\"M6.07,0A6.07,6.07 0 1,1 0,-6.07A6.07,6.07 0 0,1 6.07,0Z\" style=\"opacity: 0.7; stroke-width: 1px; fill: rgb(99, 2, 165); fill-opacity: 1; stroke: rgb(255, 255, 255); stroke-opacity: 1;\"/><path class=\"point\" transform=\"translate(183.01,316.76)\" d=\"M10.49,0A10.49,10.49 0 1,1 0,-10.49A10.49,10.49 0 0,1 10.49,0Z\" style=\"opacity: 0.7; stroke-width: 1px; fill: rgb(215, 86, 108); fill-opacity: 1; stroke: rgb(255, 255, 255); stroke-opacity: 1;\"/><path class=\"point\" transform=\"translate(322.64,223.09)\" d=\"M9.08,0A9.08,9.08 0 1,1 0,-9.08A9.08,9.08 0 0,1 9.08,0Z\" style=\"opacity: 0.7; stroke-width: 1px; fill: rgb(179, 46, 141); fill-opacity: 1; stroke: rgb(255, 255, 255); stroke-opacity: 1;\"/><path class=\"point\" transform=\"translate(238.03,303)\" d=\"M3.81,0A3.81,3.81 0 1,1 0,-3.81A3.81,3.81 0 0,1 3.81,0Z\" style=\"opacity: 0.7; stroke-width: 1px; fill: rgb(50, 5, 151); fill-opacity: 1; stroke: rgb(255, 255, 255); stroke-opacity: 1;\"/><path class=\"point\" transform=\"translate(168.62,323.77)\" d=\"M8.36,0A8.36,8.36 0 1,1 0,-8.36A8.36,8.36 0 0,1 8.36,0Z\" style=\"opacity: 0.7; stroke-width: 1px; fill: rgb(161, 28, 155); fill-opacity: 1; stroke: rgb(255, 255, 255); stroke-opacity: 1;\"/><path class=\"point\" transform=\"translate(239.53,308.4)\" d=\"M1.75,0A1.75,1.75 0 1,1 0,-1.75A1.75,1.75 0 0,1 1.75,0Z\" style=\"opacity: 0.7; stroke-width: 1px; fill: rgb(21, 7, 138); fill-opacity: 1; stroke: rgb(255, 255, 255); stroke-opacity: 1;\"/><path class=\"point\" transform=\"translate(26.15,333.02)\" d=\"M4.25,0A4.25,4.25 0 1,1 0,-4.25A4.25,4.25 0 0,1 4.25,0Z\" style=\"opacity: 0.7; stroke-width: 1px; fill: rgb(59, 4, 155); fill-opacity: 1; stroke: rgb(255, 255, 255); stroke-opacity: 1;\"/><path class=\"point\" transform=\"translate(223.05,311.07)\" d=\"M5.31,0A5.31,5.31 0 1,1 0,-5.31A5.31,5.31 0 0,1 5.31,0Z\" style=\"opacity: 0.7; stroke-width: 1px; fill: rgb(82, 2, 161); fill-opacity: 1; stroke: rgb(255, 255, 255); stroke-opacity: 1;\"/><path class=\"point\" transform=\"translate(174.61,322.31)\" d=\"M2.38,0A2.38,2.38 0 1,1 0,-2.38A2.38,2.38 0 0,1 2.38,0Z\" style=\"opacity: 0.7; stroke-width: 1px; fill: rgb(28, 7, 141); fill-opacity: 1; stroke: rgb(255, 255, 255); stroke-opacity: 1;\"/><path class=\"point\" transform=\"translate(188.07,312.38)\" d=\"M7.98,0A7.98,7.98 0 1,1 0,-7.98A7.98,7.98 0 0,1 7.98,0Z\" style=\"opacity: 0.7; stroke-width: 1px; fill: rgb(150, 20, 159); fill-opacity: 1; stroke: rgb(255, 255, 255); stroke-opacity: 1;\"/><path class=\"point\" transform=\"translate(314.13,307.49)\" d=\"M5.85,0A5.85,5.85 0 1,1 0,-5.85A5.85,5.85 0 0,1 5.85,0Z\" style=\"opacity: 0.7; stroke-width: 1px; fill: rgb(94, 2, 164); fill-opacity: 1; stroke: rgb(255, 255, 255); stroke-opacity: 1;\"/><path class=\"point\" transform=\"translate(60.5,333.56)\" d=\"M2.44,0A2.44,2.44 0 1,1 0,-2.44A2.44,2.44 0 0,1 2.44,0Z\" style=\"opacity: 0.7; stroke-width: 1px; fill: rgb(28, 7, 141); fill-opacity: 1; stroke: rgb(255, 255, 255); stroke-opacity: 1;\"/><path class=\"point\" transform=\"translate(62.29,331.84)\" d=\"M7.23,0A7.23,7.23 0 1,1 0,-7.23A7.23,7.23 0 0,1 7.23,0Z\" style=\"opacity: 0.7; stroke-width: 1px; fill: rgb(129, 9, 164); fill-opacity: 1; stroke: rgb(255, 255, 255); stroke-opacity: 1;\"/><path class=\"point\" transform=\"translate(153.93,328.65)\" d=\"M2.88,0A2.88,2.88 0 1,1 0,-2.88A2.88,2.88 0 0,1 2.88,0Z\" style=\"opacity: 0.7; stroke-width: 1px; fill: rgb(34, 6, 144); fill-opacity: 1; stroke: rgb(255, 255, 255); stroke-opacity: 1;\"/><path class=\"point\" transform=\"translate(257.83,299.2)\" d=\"M4.88,0A4.88,4.88 0 1,1 0,-4.88A4.88,4.88 0 0,1 4.88,0Z\" style=\"opacity: 0.7; stroke-width: 1px; fill: rgb(73, 3, 160); fill-opacity: 1; stroke: rgb(255, 255, 255); stroke-opacity: 1;\"/><path class=\"point\" transform=\"translate(247.83,307.1)\" d=\"M5.6,0A5.6,5.6 0 1,1 0,-5.6A5.6,5.6 0 0,1 5.6,0Z\" style=\"opacity: 0.7; stroke-width: 1px; fill: rgb(88, 2, 163); fill-opacity: 1; stroke: rgb(255, 255, 255); stroke-opacity: 1;\"/><path class=\"point\" transform=\"translate(126.81,328.48)\" d=\"M3.93,0A3.93,3.93 0 1,1 0,-3.93A3.93,3.93 0 0,1 3.93,0Z\" style=\"opacity: 0.7; stroke-width: 1px; fill: rgb(53, 5, 152); fill-opacity: 1; stroke: rgb(255, 255, 255); stroke-opacity: 1;\"/><path class=\"point\" transform=\"translate(217.41,312.67)\" d=\"M3.5,0A3.5,3.5 0 1,1 0,-3.5A3.5,3.5 0 0,1 3.5,0Z\" style=\"opacity: 0.7; stroke-width: 1px; fill: rgb(44, 5, 148); fill-opacity: 1; stroke: rgb(255, 255, 255); stroke-opacity: 1;\"/><path class=\"point\" transform=\"translate(186.64,319.32)\" d=\"M13.88,0A13.88,13.88 0 1,1 0,-13.88A13.88,13.88 0 0,1 13.88,0Z\" style=\"opacity: 0.7; stroke-width: 1px; fill: rgb(244, 234, 35); fill-opacity: 1; stroke: rgb(255, 255, 255); stroke-opacity: 1;\"/><path class=\"point\" transform=\"translate(139.19,331.57)\" d=\"M3.11,0A3.11,3.11 0 1,1 0,-3.11A3.11,3.11 0 0,1 3.11,0Z\" style=\"opacity: 0.7; stroke-width: 1px; fill: rgb(38, 6, 145); fill-opacity: 1; stroke: rgb(255, 255, 255); stroke-opacity: 1;\"/><path class=\"point\" transform=\"translate(172.34,329.69)\" d=\"M5.73,0A5.73,5.73 0 1,1 0,-5.73A5.73,5.73 0 0,1 5.73,0Z\" style=\"opacity: 0.7; stroke-width: 1px; fill: rgb(91, 2, 163); fill-opacity: 1; stroke: rgb(255, 255, 255); stroke-opacity: 1;\"/><path class=\"point\" transform=\"translate(176.84,317.72)\" d=\"M0.79,0A0.79,0.79 0 1,1 0,-0.79A0.79,0.79 0 0,1 0.79,0Z\" style=\"opacity: 0.7; stroke-width: 1px; fill: rgb(15, 8, 136); fill-opacity: 1; stroke: rgb(255, 255, 255); stroke-opacity: 1;\"/><path class=\"point\" transform=\"translate(221.04,313.13)\" d=\"M5.05,0A5.05,5.05 0 1,1 0,-5.05A5.05,5.05 0 0,1 5.05,0Z\" style=\"opacity: 0.7; stroke-width: 1px; fill: rgb(77, 3, 160); fill-opacity: 1; stroke: rgb(255, 255, 255); stroke-opacity: 1;\"/><path class=\"point\" transform=\"translate(247.93,307.63)\" d=\"M7,0A7,7 0 1,1 0,-7A7,7 0 0,1 7,0Z\" style=\"opacity: 0.7; stroke-width: 1px; fill: rgb(123, 5, 166); fill-opacity: 1; stroke: rgb(255, 255, 255); stroke-opacity: 1;\"/><path class=\"point\" transform=\"translate(242.45,318.64)\" d=\"M6.08,0A6.08,6.08 0 1,1 0,-6.08A6.08,6.08 0 0,1 6.08,0Z\" style=\"opacity: 0.7; stroke-width: 1px; fill: rgb(99, 2, 165); fill-opacity: 1; stroke: rgb(255, 255, 255); stroke-opacity: 1;\"/><path class=\"point\" transform=\"translate(253.62,295.42)\" d=\"M6.7,0A6.7,6.7 0 1,1 0,-6.7A6.7,6.7 0 0,1 6.7,0Z\" style=\"opacity: 0.7; stroke-width: 1px; fill: rgb(115, 1, 168); fill-opacity: 1; stroke: rgb(255, 255, 255); stroke-opacity: 1;\"/><path class=\"point\" transform=\"translate(194.86,320.92)\" d=\"M5.57,0A5.57,5.57 0 1,1 0,-5.57A5.57,5.57 0 0,1 5.57,0Z\" style=\"opacity: 0.7; stroke-width: 1px; fill: rgb(87, 2, 163); fill-opacity: 1; stroke: rgb(255, 255, 255); stroke-opacity: 1;\"/><path class=\"point\" transform=\"translate(161.84,328.62)\" d=\"M7.7,0A7.7,7.7 0 1,1 0,-7.7A7.7,7.7 0 0,1 7.7,0Z\" style=\"opacity: 0.7; stroke-width: 1px; fill: rgb(142, 16, 161); fill-opacity: 1; stroke: rgb(255, 255, 255); stroke-opacity: 1;\"/><path class=\"point\" transform=\"translate(303.27,264.98)\" d=\"M4.49,0A4.49,4.49 0 1,1 0,-4.49A4.49,4.49 0 0,1 4.49,0Z\" style=\"opacity: 0.7; stroke-width: 1px; fill: rgb(65, 3, 157); fill-opacity: 1; stroke: rgb(255, 255, 255); stroke-opacity: 1;\"/><path class=\"point\" transform=\"translate(318.16,264.88)\" d=\"M4.21,0A4.21,4.21 0 1,1 0,-4.21A4.21,4.21 0 0,1 4.21,0Z\" style=\"opacity: 0.7; stroke-width: 1px; fill: rgb(58, 4, 154); fill-opacity: 1; stroke: rgb(255, 255, 255); stroke-opacity: 1;\"/><path class=\"point\" transform=\"translate(280.63,296.34)\" d=\"M5.69,0A5.69,5.69 0 1,1 0,-5.69A5.69,5.69 0 0,1 5.69,0Z\" style=\"opacity: 0.7; stroke-width: 1px; fill: rgb(90, 2, 163); fill-opacity: 1; stroke: rgb(255, 255, 255); stroke-opacity: 1;\"/><path class=\"point\" transform=\"translate(157.77,327.37)\" d=\"M8.31,0A8.31,8.31 0 1,1 0,-8.31A8.31,8.31 0 0,1 8.31,0Z\" style=\"opacity: 0.7; stroke-width: 1px; fill: rgb(160, 27, 155); fill-opacity: 1; stroke: rgb(255, 255, 255); stroke-opacity: 1;\"/><path class=\"point\" transform=\"translate(254.16,308.03)\" d=\"M1.96,0A1.96,1.96 0 1,1 0,-1.96A1.96,1.96 0 0,1 1.96,0Z\" style=\"opacity: 0.7; stroke-width: 1px; fill: rgb(23, 7, 139); fill-opacity: 1; stroke: rgb(255, 255, 255); stroke-opacity: 1;\"/><path class=\"point\" transform=\"translate(315.14,311.29)\" d=\"M2.54,0A2.54,2.54 0 1,1 0,-2.54A2.54,2.54 0 0,1 2.54,0Z\" style=\"opacity: 0.7; stroke-width: 1px; fill: rgb(30, 7, 142); fill-opacity: 1; stroke: rgb(255, 255, 255); stroke-opacity: 1;\"/><path class=\"point\" transform=\"translate(68.16,332.9)\" d=\"M6.1,0A6.1,6.1 0 1,1 0,-6.1A6.1,6.1 0 0,1 6.1,0Z\" style=\"opacity: 0.7; stroke-width: 1px; fill: rgb(100, 2, 165); fill-opacity: 1; stroke: rgb(255, 255, 255); stroke-opacity: 1;\"/><path class=\"point\" transform=\"translate(144.22,327.54)\" d=\"M8.05,0A8.05,8.05 0 1,1 0,-8.05A8.05,8.05 0 0,1 8.05,0Z\" style=\"opacity: 0.7; stroke-width: 1px; fill: rgb(152, 21, 159); fill-opacity: 1; stroke: rgb(255, 255, 255); stroke-opacity: 1;\"/><path class=\"point\" transform=\"translate(247.65,302.34)\" d=\"M3.94,0A3.94,3.94 0 1,1 0,-3.94A3.94,3.94 0 0,1 3.94,0Z\" style=\"opacity: 0.7; stroke-width: 1px; fill: rgb(53, 5, 152); fill-opacity: 1; stroke: rgb(255, 255, 255); stroke-opacity: 1;\"/><path class=\"point\" transform=\"translate(289.58,274.56)\" d=\"M2.9,0A2.9,2.9 0 1,1 0,-2.9A2.9,2.9 0 0,1 2.9,0Z\" style=\"opacity: 0.7; stroke-width: 1px; fill: rgb(35, 6, 144); fill-opacity: 1; stroke: rgb(255, 255, 255); stroke-opacity: 1;\"/><path class=\"point\" transform=\"translate(186.23,323.94)\" d=\"M4.49,0A4.49,4.49 0 1,1 0,-4.49A4.49,4.49 0 0,1 4.49,0Z\" style=\"opacity: 0.7; stroke-width: 1px; fill: rgb(65, 3, 157); fill-opacity: 1; stroke: rgb(255, 255, 255); stroke-opacity: 1;\"/><path class=\"point\" transform=\"translate(206.15,322.31)\" d=\"M3.7,0A3.7,3.7 0 1,1 0,-3.7A3.7,3.7 0 0,1 3.7,0Z\" style=\"opacity: 0.7; stroke-width: 1px; fill: rgb(48, 5, 150); fill-opacity: 1; stroke: rgb(255, 255, 255); stroke-opacity: 1;\"/><path class=\"point\" transform=\"translate(253.91,305.92)\" d=\"M4.41,0A4.41,4.41 0 1,1 0,-4.41A4.41,4.41 0 0,1 4.41,0Z\" style=\"opacity: 0.7; stroke-width: 1px; fill: rgb(63, 4, 156); fill-opacity: 1; stroke: rgb(255, 255, 255); stroke-opacity: 1;\"/><path class=\"point\" transform=\"translate(310.24,244.3)\" d=\"M6.32,0A6.32,6.32 0 1,1 0,-6.32A6.32,6.32 0 0,1 6.32,0Z\" style=\"opacity: 0.7; stroke-width: 1px; fill: rgb(105, 1, 166); fill-opacity: 1; stroke: rgb(255, 255, 255); stroke-opacity: 1;\"/><path class=\"point\" transform=\"translate(275.54,301.06)\" d=\"M3.36,0A3.36,3.36 0 1,1 0,-3.36A3.36,3.36 0 0,1 3.36,0Z\" style=\"opacity: 0.7; stroke-width: 1px; fill: rgb(42, 5, 147); fill-opacity: 1; stroke: rgb(255, 255, 255); stroke-opacity: 1;\"/><path class=\"point\" transform=\"translate(244.35,298.28)\" d=\"M11.08,0A11.08,11.08 0 1,1 0,-11.08A11.08,11.08 0 0,1 11.08,0Z\" style=\"opacity: 0.7; stroke-width: 1px; fill: rgb(227, 105, 94); fill-opacity: 1; stroke: rgb(255, 255, 255); stroke-opacity: 1;\"/><path class=\"point\" transform=\"translate(235.32,307.46)\" d=\"M3.2,0A3.2,3.2 0 1,1 0,-3.2A3.2,3.2 0 0,1 3.2,0Z\" style=\"opacity: 0.7; stroke-width: 1px; fill: rgb(39, 6, 146); fill-opacity: 1; stroke: rgb(255, 255, 255); stroke-opacity: 1;\"/><path class=\"point\" transform=\"translate(210.11,324.77)\" d=\"M7.8,0A7.8,7.8 0 1,1 0,-7.8A7.8,7.8 0 0,1 7.8,0Z\" style=\"opacity: 0.7; stroke-width: 1px; fill: rgb(145, 17, 161); fill-opacity: 1; stroke: rgb(255, 255, 255); stroke-opacity: 1;\"/><path class=\"point\" transform=\"translate(278.54,308.05)\" d=\"M7.65,0A7.65,7.65 0 1,1 0,-7.65A7.65,7.65 0 0,1 7.65,0Z\" style=\"opacity: 0.7; stroke-width: 1px; fill: rgb(141, 15, 162); fill-opacity: 1; stroke: rgb(255, 255, 255); stroke-opacity: 1;\"/><path class=\"point\" transform=\"translate(295.92,280.01)\" d=\"M5.26,0A5.26,5.26 0 1,1 0,-5.26A5.26,5.26 0 0,1 5.26,0Z\" style=\"opacity: 0.7; stroke-width: 1px; fill: rgb(81, 3, 161); fill-opacity: 1; stroke: rgb(255, 255, 255); stroke-opacity: 1;\"/><path class=\"point\" transform=\"translate(365.2,182.69)\" d=\"M6.32,0A6.32,6.32 0 1,1 0,-6.32A6.32,6.32 0 0,1 6.32,0Z\" style=\"opacity: 0.7; stroke-width: 1px; fill: rgb(105, 1, 166); fill-opacity: 1; stroke: rgb(255, 255, 255); stroke-opacity: 1;\"/><path class=\"point\" transform=\"translate(304.66,265.69)\" d=\"M5.41,0A5.41,5.41 0 1,1 0,-5.41A5.41,5.41 0 0,1 5.41,0Z\" style=\"opacity: 0.7; stroke-width: 1px; fill: rgb(84, 2, 162); fill-opacity: 1; stroke: rgb(255, 255, 255); stroke-opacity: 1;\"/><path class=\"point\" transform=\"translate(236.71,311.4)\" d=\"M7.09,0A7.09,7.09 0 1,1 0,-7.09A7.09,7.09 0 0,1 7.09,0Z\" style=\"opacity: 0.7; stroke-width: 1px; fill: rgb(125, 7, 165); fill-opacity: 1; stroke: rgb(255, 255, 255); stroke-opacity: 1;\"/><path class=\"point\" transform=\"translate(195.63,316.69)\" d=\"M14.14,0A14.14,14.14 0 1,1 0,-14.14A14.14,14.14 0 0,1 14.14,0Z\" style=\"opacity: 0.7; stroke-width: 1px; fill: rgb(240, 249, 33); fill-opacity: 1; stroke: rgb(255, 255, 255); stroke-opacity: 1;\"/><path class=\"point\" transform=\"translate(373.44,225.2)\" d=\"M4.94,0A4.94,4.94 0 1,1 0,-4.94A4.94,4.94 0 0,1 4.94,0Z\" style=\"opacity: 0.7; stroke-width: 1px; fill: rgb(74, 3, 160); fill-opacity: 1; stroke: rgb(255, 255, 255); stroke-opacity: 1;\"/><path class=\"point\" transform=\"translate(273.09,275.37)\" d=\"M4.44,0A4.44,4.44 0 1,1 0,-4.44A4.44,4.44 0 0,1 4.44,0Z\" style=\"opacity: 0.7; stroke-width: 1px; fill: rgb(64, 4, 156); fill-opacity: 1; stroke: rgb(255, 255, 255); stroke-opacity: 1;\"/><path class=\"point\" transform=\"translate(260.04,306.87)\" d=\"M5.94,0A5.94,5.94 0 1,1 0,-5.94A5.94,5.94 0 0,1 5.94,0Z\" style=\"opacity: 0.7; stroke-width: 1px; fill: rgb(96, 2, 164); fill-opacity: 1; stroke: rgb(255, 255, 255); stroke-opacity: 1;\"/><path class=\"point\" transform=\"translate(373.71,170.88)\" d=\"M5.71,0A5.71,5.71 0 1,1 0,-5.71A5.71,5.71 0 0,1 5.71,0Z\" style=\"opacity: 0.7; stroke-width: 1px; fill: rgb(91, 2, 163); fill-opacity: 1; stroke: rgb(255, 255, 255); stroke-opacity: 1;\"/><path class=\"point\" transform=\"translate(249.9,306.35)\" d=\"M6.47,0A6.47,6.47 0 1,1 0,-6.47A6.47,6.47 0 0,1 6.47,0Z\" style=\"opacity: 0.7; stroke-width: 1px; fill: rgb(109, 1, 167); fill-opacity: 1; stroke: rgb(255, 255, 255); stroke-opacity: 1;\"/><path class=\"point\" transform=\"translate(251.53,302.05)\" d=\"M2.73,0A2.73,2.73 0 1,1 0,-2.73A2.73,2.73 0 0,1 2.73,0Z\" style=\"opacity: 0.7; stroke-width: 1px; fill: rgb(32, 6, 143); fill-opacity: 1; stroke: rgb(255, 255, 255); stroke-opacity: 1;\"/><path class=\"point\" transform=\"translate(337.18,247.34)\" d=\"M5.56,0A5.56,5.56 0 1,1 0,-5.56A5.56,5.56 0 0,1 5.56,0Z\" style=\"opacity: 0.7; stroke-width: 1px; fill: rgb(87, 2, 163); fill-opacity: 1; stroke: rgb(255, 255, 255); stroke-opacity: 1;\"/><path class=\"point\" transform=\"translate(259.24,318.73)\" d=\"M1.47,0A1.47,1.47 0 1,1 0,-1.47A1.47,1.47 0 0,1 1.47,0Z\" style=\"opacity: 0.7; stroke-width: 1px; fill: rgb(19, 8, 137); fill-opacity: 1; stroke: rgb(255, 255, 255); stroke-opacity: 1;\"/><path class=\"point\" transform=\"translate(207.51,319.59)\" d=\"M5.42,0A5.42,5.42 0 1,1 0,-5.42A5.42,5.42 0 0,1 5.42,0Z\" style=\"opacity: 0.7; stroke-width: 1px; fill: rgb(84, 2, 162); fill-opacity: 1; stroke: rgb(255, 255, 255); stroke-opacity: 1;\"/><path class=\"point\" transform=\"translate(279.76,296.97)\" d=\"M4.77,0A4.77,4.77 0 1,1 0,-4.77A4.77,4.77 0 0,1 4.77,0Z\" style=\"opacity: 0.7; stroke-width: 1px; fill: rgb(71, 3, 159); fill-opacity: 1; stroke: rgb(255, 255, 255); stroke-opacity: 1;\"/><path class=\"point\" transform=\"translate(225.38,323.71)\" d=\"M4.7,0A4.7,4.7 0 1,1 0,-4.7A4.7,4.7 0 0,1 4.7,0Z\" style=\"opacity: 0.7; stroke-width: 1px; fill: rgb(70, 3, 159); fill-opacity: 1; stroke: rgb(255, 255, 255); stroke-opacity: 1;\"/><path class=\"point\" transform=\"translate(86.24,331.32)\" d=\"M1.26,0A1.26,1.26 0 1,1 0,-1.26A1.26,1.26 0 0,1 1.26,0Z\" style=\"opacity: 0.7; stroke-width: 1px; fill: rgb(17, 8, 137); fill-opacity: 1; stroke: rgb(255, 255, 255); stroke-opacity: 1;\"/><path class=\"point\" transform=\"translate(190.39,319.67)\" d=\"M7.39,0A7.39,7.39 0 1,1 0,-7.39A7.39,7.39 0 0,1 7.39,0Z\" style=\"opacity: 0.7; stroke-width: 1px; fill: rgb(133, 11, 163); fill-opacity: 1; stroke: rgb(255, 255, 255); stroke-opacity: 1;\"/><path class=\"point\" transform=\"translate(283.61,302.92)\" d=\"M5.48,0A5.48,5.48 0 1,1 0,-5.48A5.48,5.48 0 0,1 5.48,0Z\" style=\"opacity: 0.7; stroke-width: 1px; fill: rgb(85, 2, 162); fill-opacity: 1; stroke: rgb(255, 255, 255); stroke-opacity: 1;\"/><path class=\"point\" transform=\"translate(102.78,332.33)\" d=\"M5.62,0A5.62,5.62 0 1,1 0,-5.62A5.62,5.62 0 0,1 5.62,0Z\" style=\"opacity: 0.7; stroke-width: 1px; fill: rgb(88, 2, 163); fill-opacity: 1; stroke: rgb(255, 255, 255); stroke-opacity: 1;\"/><path class=\"point\" transform=\"translate(174.61,323.14)\" d=\"M4.17,0A4.17,4.17 0 1,1 0,-4.17A4.17,4.17 0 0,1 4.17,0Z\" style=\"opacity: 0.7; stroke-width: 1px; fill: rgb(57, 4, 154); fill-opacity: 1; stroke: rgb(255, 255, 255); stroke-opacity: 1;\"/><path class=\"point\" transform=\"translate(347.74,259.85)\" d=\"M2.46,0A2.46,2.46 0 1,1 0,-2.46A2.46,2.46 0 0,1 2.46,0Z\" style=\"opacity: 0.7; stroke-width: 1px; fill: rgb(28, 7, 141); fill-opacity: 1; stroke: rgb(255, 255, 255); stroke-opacity: 1;\"/><path class=\"point\" transform=\"translate(231.14,315.94)\" d=\"M8.2,0A8.2,8.2 0 1,1 0,-8.2A8.2,8.2 0 0,1 8.2,0Z\" style=\"opacity: 0.7; stroke-width: 1px; fill: rgb(157, 24, 157); fill-opacity: 1; stroke: rgb(255, 255, 255); stroke-opacity: 1;\"/><path class=\"point\" transform=\"translate(143.39,331.63)\" d=\"M4.7,0A4.7,4.7 0 1,1 0,-4.7A4.7,4.7 0 0,1 4.7,0Z\" style=\"opacity: 0.7; stroke-width: 1px; fill: rgb(70, 3, 159); fill-opacity: 1; stroke: rgb(255, 255, 255); stroke-opacity: 1;\"/><path class=\"point\" transform=\"translate(299.34,279.65)\" d=\"M5.24,0A5.24,5.24 0 1,1 0,-5.24A5.24,5.24 0 0,1 5.24,0Z\" style=\"opacity: 0.7; stroke-width: 1px; fill: rgb(80, 3, 161); fill-opacity: 1; stroke: rgb(255, 255, 255); stroke-opacity: 1;\"/><path class=\"point\" transform=\"translate(108.46,330.94)\" d=\"M8.15,0A8.15,8.15 0 1,1 0,-8.15A8.15,8.15 0 0,1 8.15,0Z\" style=\"opacity: 0.7; stroke-width: 1px; fill: rgb(155, 23, 158); fill-opacity: 1; stroke: rgb(255, 255, 255); stroke-opacity: 1;\"/><path class=\"point\" transform=\"translate(303.35,283.3)\" d=\"M6.17,0A6.17,6.17 0 1,1 0,-6.17A6.17,6.17 0 0,1 6.17,0Z\" style=\"opacity: 0.7; stroke-width: 1px; fill: rgb(101, 2, 165); fill-opacity: 1; stroke: rgb(255, 255, 255); stroke-opacity: 1;\"/><path class=\"point\" transform=\"translate(150.82,326.02)\" d=\"M7.22,0A7.22,7.22 0 1,1 0,-7.22A7.22,7.22 0 0,1 7.22,0Z\" style=\"opacity: 0.7; stroke-width: 1px; fill: rgb(128, 9, 165); fill-opacity: 1; stroke: rgb(255, 255, 255); stroke-opacity: 1;\"/><path class=\"point\" transform=\"translate(151.92,326.1)\" d=\"M3.77,0A3.77,3.77 0 1,1 0,-3.77A3.77,3.77 0 0,1 3.77,0Z\" style=\"opacity: 0.7; stroke-width: 1px; fill: rgb(49, 5, 150); fill-opacity: 1; stroke: rgb(255, 255, 255); stroke-opacity: 1;\"/><path class=\"point\" transform=\"translate(198.14,319.53)\" d=\"M2.12,0A2.12,2.12 0 1,1 0,-2.12A2.12,2.12 0 0,1 2.12,0Z\" style=\"opacity: 0.7; stroke-width: 1px; fill: rgb(24, 7, 140); fill-opacity: 1; stroke: rgb(255, 255, 255); stroke-opacity: 1;\"/><path class=\"point\" transform=\"translate(218.19,327.15)\" d=\"M0.55,0A0.55,0.55 0 1,1 0,-0.55A0.55,0.55 0 0,1 0.55,0Z\" style=\"opacity: 0.7; stroke-width: 1px; fill: rgb(14, 8, 135); fill-opacity: 1; stroke: rgb(255, 255, 255); stroke-opacity: 1;\"/><path class=\"point\" transform=\"translate(142.64,327.69)\" d=\"M10.11,0A10.11,10.11 0 1,1 0,-10.11A10.11,10.11 0 0,1 10.11,0Z\" style=\"opacity: 0.7; stroke-width: 1px; fill: rgb(205, 74, 118); fill-opacity: 1; stroke: rgb(255, 255, 255); stroke-opacity: 1;\"/><path class=\"point\" transform=\"translate(94.25,332.18)\" d=\"M8.78,0A8.78,8.78 0 1,1 0,-8.78A8.78,8.78 0 0,1 8.78,0Z\" style=\"opacity: 0.7; stroke-width: 1px; fill: rgb(172, 38, 147); fill-opacity: 1; stroke: rgb(255, 255, 255); stroke-opacity: 1;\"/><path class=\"point\" transform=\"translate(124.89,331.4)\" d=\"M5.8,0A5.8,5.8 0 1,1 0,-5.8A5.8,5.8 0 0,1 5.8,0Z\" style=\"opacity: 0.7; stroke-width: 1px; fill: rgb(93, 2, 164); fill-opacity: 1; stroke: rgb(255, 255, 255); stroke-opacity: 1;\"/><path class=\"point\" transform=\"translate(149.04,324.37)\" d=\"M3.58,0A3.58,3.58 0 1,1 0,-3.58A3.58,3.58 0 0,1 3.58,0Z\" style=\"opacity: 0.7; stroke-width: 1px; fill: rgb(46, 5, 149); fill-opacity: 1; stroke: rgb(255, 255, 255); stroke-opacity: 1;\"/><path class=\"point\" transform=\"translate(265.19,301.5)\" d=\"M7.76,0A7.76,7.76 0 1,1 0,-7.76A7.76,7.76 0 0,1 7.76,0Z\" style=\"opacity: 0.7; stroke-width: 1px; fill: rgb(144, 17, 161); fill-opacity: 1; stroke: rgb(255, 255, 255); stroke-opacity: 1;\"/><path class=\"point\" transform=\"translate(285.86,283.22)\" d=\"M2.96,0A2.96,2.96 0 1,1 0,-2.96A2.96,2.96 0 0,1 2.96,0Z\" style=\"opacity: 0.7; stroke-width: 1px; fill: rgb(35, 6, 144); fill-opacity: 1; stroke: rgb(255, 255, 255); stroke-opacity: 1;\"/><path class=\"point\" transform=\"translate(287.26,295.75)\" d=\"M7.31,0A7.31,7.31 0 1,1 0,-7.31A7.31,7.31 0 0,1 7.31,0Z\" style=\"opacity: 0.7; stroke-width: 1px; fill: rgb(131, 10, 164); fill-opacity: 1; stroke: rgb(255, 255, 255); stroke-opacity: 1;\"/><path class=\"point\" transform=\"translate(243.79,308.65)\" d=\"M8.01,0A8.01,8.01 0 1,1 0,-8.01A8.01,8.01 0 0,1 8.01,0Z\" style=\"opacity: 0.7; stroke-width: 1px; fill: rgb(151, 21, 159); fill-opacity: 1; stroke: rgb(255, 255, 255); stroke-opacity: 1;\"/><path class=\"point\" transform=\"translate(205.88,318.63)\" d=\"M7.37,0A7.37,7.37 0 1,1 0,-7.37A7.37,7.37 0 0,1 7.37,0Z\" style=\"opacity: 0.7; stroke-width: 1px; fill: rgb(133, 11, 164); fill-opacity: 1; stroke: rgb(255, 255, 255); stroke-opacity: 1;\"/><path class=\"point\" transform=\"translate(324.9,278.12)\" d=\"M3.18,0A3.18,3.18 0 1,1 0,-3.18A3.18,3.18 0 0,1 3.18,0Z\" style=\"opacity: 0.7; stroke-width: 1px; fill: rgb(39, 6, 146); fill-opacity: 1; stroke: rgb(255, 255, 255); stroke-opacity: 1;\"/><path class=\"point\" transform=\"translate(160.16,323.66)\" d=\"M8.21,0A8.21,8.21 0 1,1 0,-8.21A8.21,8.21 0 0,1 8.21,0Z\" style=\"opacity: 0.7; stroke-width: 1px; fill: rgb(157, 24, 157); fill-opacity: 1; stroke: rgb(255, 255, 255); stroke-opacity: 1;\"/><path class=\"point\" transform=\"translate(138.01,328.15)\" d=\"M8.17,0A8.17,8.17 0 1,1 0,-8.17A8.17,8.17 0 0,1 8.17,0Z\" style=\"opacity: 0.7; stroke-width: 1px; fill: rgb(156, 23, 158); fill-opacity: 1; stroke: rgb(255, 255, 255); stroke-opacity: 1;\"/><path class=\"point\" transform=\"translate(209.25,324.31)\" d=\"M5.19,0A5.19,5.19 0 1,1 0,-5.19A5.19,5.19 0 0,1 5.19,0Z\" style=\"opacity: 0.7; stroke-width: 1px; fill: rgb(79, 3, 161); fill-opacity: 1; stroke: rgb(255, 255, 255); stroke-opacity: 1;\"/><path class=\"point\" transform=\"translate(286.67,288.36)\" d=\"M2.84,0A2.84,2.84 0 1,1 0,-2.84A2.84,2.84 0 0,1 2.84,0Z\" style=\"opacity: 0.7; stroke-width: 1px; fill: rgb(34, 6, 144); fill-opacity: 1; stroke: rgb(255, 255, 255); stroke-opacity: 1;\"/><path class=\"point\" transform=\"translate(93.36,332.65)\" d=\"M1.27,0A1.27,1.27 0 1,1 0,-1.27A1.27,1.27 0 0,1 1.27,0Z\" style=\"opacity: 0.7; stroke-width: 1px; fill: rgb(17, 8, 137); fill-opacity: 1; stroke: rgb(255, 255, 255); stroke-opacity: 1;\"/><path class=\"point\" transform=\"translate(151.2,324.3)\" d=\"M5.46,0A5.46,5.46 0 1,1 0,-5.46A5.46,5.46 0 0,1 5.46,0Z\" style=\"opacity: 0.7; stroke-width: 1px; fill: rgb(85, 2, 162); fill-opacity: 1; stroke: rgb(255, 255, 255); stroke-opacity: 1;\"/><path class=\"point\" transform=\"translate(227.58,316.08)\" d=\"M4.2,0A4.2,4.2 0 1,1 0,-4.2A4.2,4.2 0 0,1 4.2,0Z\" style=\"opacity: 0.7; stroke-width: 1px; fill: rgb(58, 4, 154); fill-opacity: 1; stroke: rgb(255, 255, 255); stroke-opacity: 1;\"/><path class=\"point\" transform=\"translate(350.66,226.77)\" d=\"M5.26,0A5.26,5.26 0 1,1 0,-5.26A5.26,5.26 0 0,1 5.26,0Z\" style=\"opacity: 0.7; stroke-width: 1px; fill: rgb(81, 3, 161); fill-opacity: 1; stroke: rgb(255, 255, 255); stroke-opacity: 1;\"/><path class=\"point\" transform=\"translate(271.27,307.98)\" d=\"M3.66,0A3.66,3.66 0 1,1 0,-3.66A3.66,3.66 0 0,1 3.66,0Z\" style=\"opacity: 0.7; stroke-width: 1px; fill: rgb(47, 5, 149); fill-opacity: 1; stroke: rgb(255, 255, 255); stroke-opacity: 1;\"/><path class=\"point\" transform=\"translate(168.68,327.94)\" d=\"M6.79,0A6.79,6.79 0 1,1 0,-6.79A6.79,6.79 0 0,1 6.79,0Z\" style=\"opacity: 0.7; stroke-width: 1px; fill: rgb(117, 3, 167); fill-opacity: 1; stroke: rgb(255, 255, 255); stroke-opacity: 1;\"/><path class=\"point\" transform=\"translate(56.79,332.54)\" d=\"M7.75,0A7.75,7.75 0 1,1 0,-7.75A7.75,7.75 0 0,1 7.75,0Z\" style=\"opacity: 0.7; stroke-width: 1px; fill: rgb(144, 16, 161); fill-opacity: 1; stroke: rgb(255, 255, 255); stroke-opacity: 1;\"/><path class=\"point\" transform=\"translate(344.92,215.31)\" d=\"M3.43,0A3.43,3.43 0 1,1 0,-3.43A3.43,3.43 0 0,1 3.43,0Z\" style=\"opacity: 0.7; stroke-width: 1px; fill: rgb(43, 5, 148); fill-opacity: 1; stroke: rgb(255, 255, 255); stroke-opacity: 1;\"/><path class=\"point\" transform=\"translate(357.95,209.92)\" d=\"M4.65,0A4.65,4.65 0 1,1 0,-4.65A4.65,4.65 0 0,1 4.65,0Z\" style=\"opacity: 0.7; stroke-width: 1px; fill: rgb(68, 3, 158); fill-opacity: 1; stroke: rgb(255, 255, 255); stroke-opacity: 1;\"/><path class=\"point\" transform=\"translate(194.57,318.73)\" d=\"M3.39,0A3.39,3.39 0 1,1 0,-3.39A3.39,3.39 0 0,1 3.39,0Z\" style=\"opacity: 0.7; stroke-width: 1px; fill: rgb(42, 5, 147); fill-opacity: 1; stroke: rgb(255, 255, 255); stroke-opacity: 1;\"/><path class=\"point\" transform=\"translate(351,224.23)\" d=\"M4.68,0A4.68,4.68 0 1,1 0,-4.68A4.68,4.68 0 0,1 4.68,0Z\" style=\"opacity: 0.7; stroke-width: 1px; fill: rgb(69, 3, 159); fill-opacity: 1; stroke: rgb(255, 255, 255); stroke-opacity: 1;\"/><path class=\"point\" transform=\"translate(310.35,289.41)\" d=\"M3.68,0A3.68,3.68 0 1,1 0,-3.68A3.68,3.68 0 0,1 3.68,0Z\" style=\"opacity: 0.7; stroke-width: 1px; fill: rgb(48, 5, 150); fill-opacity: 1; stroke: rgb(255, 255, 255); stroke-opacity: 1;\"/><path class=\"point\" transform=\"translate(125.15,327.73)\" d=\"M3.81,0A3.81,3.81 0 1,1 0,-3.81A3.81,3.81 0 0,1 3.81,0Z\" style=\"opacity: 0.7; stroke-width: 1px; fill: rgb(50, 5, 151); fill-opacity: 1; stroke: rgb(255, 255, 255); stroke-opacity: 1;\"/><path class=\"point\" transform=\"translate(328.75,258.62)\" d=\"M5.21,0A5.21,5.21 0 1,1 0,-5.21A5.21,5.21 0 0,1 5.21,0Z\" style=\"opacity: 0.7; stroke-width: 1px; fill: rgb(80, 3, 161); fill-opacity: 1; stroke: rgb(255, 255, 255); stroke-opacity: 1;\"/><path class=\"point\" transform=\"translate(265.24,292.7)\" d=\"M11.52,0A11.52,11.52 0 1,1 0,-11.52A11.52,11.52 0 0,1 11.52,0Z\" style=\"opacity: 0.7; stroke-width: 1px; fill: rgb(236, 120, 84); fill-opacity: 1; stroke: rgb(255, 255, 255); stroke-opacity: 1;\"/><path class=\"point\" transform=\"translate(195.55,323.2)\" d=\"M2.17,0A2.17,2.17 0 1,1 0,-2.17A2.17,2.17 0 0,1 2.17,0Z\" style=\"opacity: 0.7; stroke-width: 1px; fill: rgb(25, 7, 140); fill-opacity: 1; stroke: rgb(255, 255, 255); stroke-opacity: 1;\"/><path class=\"point\" transform=\"translate(292.8,283.15)\" d=\"M4.54,0A4.54,4.54 0 1,1 0,-4.54A4.54,4.54 0 0,1 4.54,0Z\" style=\"opacity: 0.7; stroke-width: 1px; fill: rgb(66, 3, 157); fill-opacity: 1; stroke: rgb(255, 255, 255); stroke-opacity: 1;\"/></g><g class=\"text\"/></g></g></g><g class=\"overplot\"/><path class=\"xlines-above crisp\" d=\"M0,0\" style=\"fill: none;\"/><path class=\"ylines-above crisp\" d=\"M0,0\" style=\"fill: none;\"/><g class=\"overlines-above\"/><g class=\"xaxislayer-above\"><g class=\"xtick\"><text text-anchor=\"middle\" x=\"0\" y=\"433\" transform=\"translate(107.03,0)\" style=\"font-family: 'Open Sans', verdana, arial, sans-serif; font-size: 12px; fill: rgb(42, 63, 95); fill-opacity: 1; white-space: pre; opacity: 1;\">10k</text></g><g class=\"xtick\"><text text-anchor=\"middle\" x=\"0\" y=\"430\" style=\"font-family: 'Open Sans', verdana, arial, sans-serif; font-size: 9px; fill: rgb(42, 63, 95); fill-opacity: 1; white-space: pre; opacity: 1;\" transform=\"translate(156.75,0)\">2</text></g><g class=\"xtick\"><text text-anchor=\"middle\" x=\"0\" y=\"430\" style=\"font-family: 'Open Sans', verdana, arial, sans-serif; font-size: 9px; fill: rgb(42, 63, 95); fill-opacity: 1; white-space: pre; opacity: 1;\" transform=\"translate(222.48,0)\">5</text></g><g class=\"xtick\"><text text-anchor=\"middle\" x=\"0\" y=\"433\" style=\"font-family: 'Open Sans', verdana, arial, sans-serif; font-size: 12px; fill: rgb(42, 63, 95); fill-opacity: 1; white-space: pre; opacity: 1;\" transform=\"translate(272.21000000000004,0)\">100k</text></g><g class=\"xtick\"><text text-anchor=\"middle\" x=\"0\" y=\"430\" style=\"font-family: 'Open Sans', verdana, arial, sans-serif; font-size: 9px; fill: rgb(42, 63, 95); fill-opacity: 1; white-space: pre; opacity: 1;\" transform=\"translate(321.93,0)\">2</text></g><g class=\"xtick\"><text text-anchor=\"middle\" x=\"0\" y=\"430\" style=\"font-family: 'Open Sans', verdana, arial, sans-serif; font-size: 9px; fill: rgb(42, 63, 95); fill-opacity: 1; white-space: pre; opacity: 1;\" transform=\"translate(387.67,0)\">5</text></g><g class=\"xtick\"><text text-anchor=\"middle\" x=\"0\" y=\"433\" style=\"font-family: 'Open Sans', verdana, arial, sans-serif; font-size: 12px; fill: rgb(42, 63, 95); fill-opacity: 1; white-space: pre; opacity: 1;\" transform=\"translate(437.39,0)\">1M</text></g><g class=\"xtick\"><text text-anchor=\"middle\" x=\"0\" y=\"430\" style=\"font-family: 'Open Sans', verdana, arial, sans-serif; font-size: 9px; fill: rgb(42, 63, 95); fill-opacity: 1; white-space: pre; opacity: 1;\" transform=\"translate(487.12,0)\">2</text></g></g><g class=\"yaxislayer-above\"><g class=\"ytick\"><text text-anchor=\"end\" x=\"79\" y=\"4.199999999999999\" transform=\"translate(0,395.43)\" style=\"font-family: 'Open Sans', verdana, arial, sans-serif; font-size: 12px; fill: rgb(42, 63, 95); fill-opacity: 1; white-space: pre; opacity: 1;\">0</text></g><g class=\"ytick\"><text text-anchor=\"end\" x=\"79\" y=\"4.199999999999999\" style=\"font-family: 'Open Sans', verdana, arial, sans-serif; font-size: 12px; fill: rgb(42, 63, 95); fill-opacity: 1; white-space: pre; opacity: 1;\" transform=\"translate(0,329.46)\">10k</text></g><g class=\"ytick\"><text text-anchor=\"end\" x=\"79\" y=\"4.199999999999999\" style=\"font-family: 'Open Sans', verdana, arial, sans-serif; font-size: 12px; fill: rgb(42, 63, 95); fill-opacity: 1; white-space: pre; opacity: 1;\" transform=\"translate(0,263.49)\">20k</text></g><g class=\"ytick\"><text text-anchor=\"end\" x=\"79\" y=\"4.199999999999999\" style=\"font-family: 'Open Sans', verdana, arial, sans-serif; font-size: 12px; fill: rgb(42, 63, 95); fill-opacity: 1; white-space: pre; opacity: 1;\" transform=\"translate(0,197.52)\">30k</text></g><g class=\"ytick\"><text text-anchor=\"end\" x=\"79\" y=\"4.199999999999999\" style=\"font-family: 'Open Sans', verdana, arial, sans-serif; font-size: 12px; fill: rgb(42, 63, 95); fill-opacity: 1; white-space: pre; opacity: 1;\" transform=\"translate(0,131.55)\">40k</text></g><g class=\"ytick\"><text text-anchor=\"end\" x=\"79\" y=\"4.199999999999999\" style=\"font-family: 'Open Sans', verdana, arial, sans-serif; font-size: 12px; fill: rgb(42, 63, 95); fill-opacity: 1; white-space: pre; opacity: 1;\" transform=\"translate(0,65.58)\">50k</text></g></g><g class=\"overaxes-above\"/></g></g><g class=\"polarlayer\"/><g class=\"smithlayer\"/><g class=\"ternarylayer\"/><g class=\"geolayer\"/><g class=\"funnelarealayer\"/><g class=\"pielayer\"/><g class=\"iciclelayer\"/><g class=\"treemaplayer\"/><g class=\"sunburstlayer\"/><g class=\"glimages\"/><defs id=\"topdefs-f69b5d\"><g class=\"clips\"/></defs><g class=\"layer-above\"><g class=\"imagelayer\"/><g class=\"shapelayer\"/></g><g class=\"infolayer\"><g class=\"cbcoloraxis colorbar\" transform=\"translate(80,60)\"><rect class=\"cbbg\" x=\"437\" y=\"0\" width=\"171.09375\" height=\"360\" style=\"fill: rgb(0, 0, 0); fill-opacity: 0; stroke: rgb(68, 68, 68); stroke-opacity: 1; stroke-width: 0;\"/><g class=\"cbfills\" transform=\"translate(0,32)\"><rect class=\"cbfill\" x=\"447\" y=\"0\" width=\"30\" height=\"318\" style=\"fill: url('#gf69b5d-cbcoloraxis');\"/></g><g class=\"cblines\" transform=\"translate(0,32)\"/><g class=\"cbaxis crisp\" transform=\"translate(0,-60)\"><g class=\"ycbcoloraxistick\"><text text-anchor=\"start\" x=\"479.9\" y=\"4.199999999999999\" transform=\"translate(0,410.03)\" style=\"font-family: 'Open Sans', verdana, arial, sans-serif; font-size: 12px; fill: rgb(42, 63, 95); fill-opacity: 1; white-space: pre; opacity: 1;\">0</text></g><g class=\"ycbcoloraxistick\"><text text-anchor=\"start\" x=\"479.9\" y=\"4.199999999999999\" style=\"font-family: 'Open Sans', verdana, arial, sans-serif; font-size: 12px; fill: rgb(42, 63, 95); fill-opacity: 1; white-space: pre; opacity: 1;\" transform=\"translate(0,357.27)\">0.1</text></g><g class=\"ycbcoloraxistick\"><text text-anchor=\"start\" x=\"479.9\" y=\"4.199999999999999\" style=\"font-family: 'Open Sans', verdana, arial, sans-serif; font-size: 12px; fill: rgb(42, 63, 95); fill-opacity: 1; white-space: pre; opacity: 1;\" transform=\"translate(0,304.51)\">0.2</text></g><g class=\"ycbcoloraxistick\"><text text-anchor=\"start\" x=\"479.9\" y=\"4.199999999999999\" style=\"font-family: 'Open Sans', verdana, arial, sans-serif; font-size: 12px; fill: rgb(42, 63, 95); fill-opacity: 1; white-space: pre; opacity: 1;\" transform=\"translate(0,251.76)\">0.3</text></g><g class=\"ycbcoloraxistick\"><text text-anchor=\"start\" x=\"479.9\" y=\"4.199999999999999\" style=\"font-family: 'Open Sans', verdana, arial, sans-serif; font-size: 12px; fill: rgb(42, 63, 95); fill-opacity: 1; white-space: pre; opacity: 1;\" transform=\"translate(0,199)\">0.4</text></g><g class=\"ycbcoloraxistick\"><text text-anchor=\"start\" x=\"479.9\" y=\"4.199999999999999\" style=\"font-family: 'Open Sans', verdana, arial, sans-serif; font-size: 12px; fill: rgb(42, 63, 95); fill-opacity: 1; white-space: pre; opacity: 1;\" transform=\"translate(0,146.24)\">0.5</text></g><g class=\"ycbcoloraxistick\"><text text-anchor=\"start\" x=\"479.9\" y=\"4.199999999999999\" style=\"font-family: 'Open Sans', verdana, arial, sans-serif; font-size: 12px; fill: rgb(42, 63, 95); fill-opacity: 1; white-space: pre; opacity: 1;\" transform=\"translate(0,93.48)\">0.6</text></g></g><g class=\"cbtitleunshift\" transform=\"translate(-80,-60)\"><g class=\"cbtitle\" transform=\"\"><text class=\"ycbcoloraxistitle\" x=\"526.56\" y=\"83.5\" text-anchor=\"start\" style=\"font-family: 'Open Sans', verdana, arial, sans-serif; font-size: 14px; fill: rgb(42, 63, 95); opacity: 1; font-weight: normal; white-space: pre;\">avg_comp_sentiment</text></g></g><rect class=\"cboutline\" x=\"447\" y=\"32\" width=\"30\" height=\"318\" style=\"stroke: rgb(68, 68, 68); stroke-opacity: 1; fill: none; stroke-width: 0;\"/></g><g class=\"g-gtitle\"/><g class=\"g-xtitle\"><text class=\"xtitle\" x=\"294\" y=\"460.3\" text-anchor=\"middle\" style=\"font-family: 'Open Sans', verdana, arial, sans-serif; font-size: 14px; fill: rgb(42, 63, 95); opacity: 1; font-weight: normal; white-space: pre;\">vid_viewcount</text></g><g class=\"g-ytitle\"><text class=\"ytitle\" transform=\"rotate(-90,31.840625000000003,240)\" x=\"31.840625000000003\" y=\"240\" text-anchor=\"middle\" style=\"font-family: 'Open Sans', verdana, arial, sans-serif; font-size: 14px; fill: rgb(42, 63, 95); opacity: 1; font-weight: normal; white-space: pre;\">vid_likecount</text></g></g></svg>"
     },
     "metadata": {},
     "output_type": "display_data"
    }
   ],
   "source": [
    "import plotly.express as px\n",
    "\n",
    "fig = px.scatter(test_df, x=\"vid_viewcount\", y=\"vid_likecount\",\n",
    "\t         size=\"avg_comp_sentiment\",\n",
    "             color=\"avg_comp_sentiment\", hover_name=\"vid_title\", log_x=True)\n",
    "fig.show(renderer='svg')"
   ]
  },
  {
   "cell_type": "code",
   "execution_count": null,
   "metadata": {},
   "outputs": [],
   "source": []
  }
 ],
 "metadata": {
  "kernelspec": {
   "display_name": "Python 3.9.7 ('base')",
   "language": "python",
   "name": "python3"
  },
  "language_info": {
   "codemirror_mode": {
    "name": "ipython",
    "version": 3
   },
   "file_extension": ".py",
   "mimetype": "text/x-python",
   "name": "python",
   "nbconvert_exporter": "python",
   "pygments_lexer": "ipython3",
   "version": "3.9.7"
  },
  "orig_nbformat": 4,
  "vscode": {
   "interpreter": {
    "hash": "78adb8089f1b1ad0b7743184fb6585d3ffc1b6fb4a355aad49fe7003845e53d4"
   }
  }
 },
 "nbformat": 4,
 "nbformat_minor": 2
}
