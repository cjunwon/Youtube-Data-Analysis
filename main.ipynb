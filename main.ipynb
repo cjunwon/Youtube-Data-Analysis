{
 "cells": [
  {
   "cell_type": "markdown",
   "metadata": {},
   "source": [
    "## Data Collection"
   ]
  },
  {
   "cell_type": "markdown",
   "metadata": {},
   "source": [
    "Main data collection is processed by running ['update.py'](https://github.com/cjunwon/Youtube-Data-Analysis/blob/main/update.py) on a Flask ['server.py'](https://github.com/cjunwon/Youtube-Data-Analysis/blob/main/server.py) scheduled through ngrok and Invictify.\n",
    "\n",
    "This collection pipeline automatically updates the AWS MySQL RDS database with up-to-date channel statistics depending on the configured Invictify schedule."
   ]
  },
  {
   "cell_type": "code",
   "execution_count": 54,
   "metadata": {},
   "outputs": [],
   "source": [
    "from MySQL_DB_connect_functions import *\n",
    "from MySQL_DB_update_functions import *\n",
    "from youtube_api_functions import *"
   ]
  },
  {
   "cell_type": "code",
   "execution_count": 55,
   "metadata": {},
   "outputs": [],
   "source": [
    "# Place \n",
    "channel_id_list = ['UCIRYBXDze5krPDzAEOxFGVA'] #TheGuardian\n",
    "channel_id_list = ['UCqnbDFdCpuN8CMEg0VuEBqA'] #NYTimes\n",
    "channel_id_list = ['UCBi2mrWuNuyYy4gbM6fU18Q'] #ABCNews\n",
    "channel_id_list = ['UCeY0bbntWzzVIaj2z3QigXg'] #NBCNews\n",
    "channel_id_list = ['UCaXkIU1QidjPwiAYu6GcHjg'] #MSNBC"
   ]
  },
  {
   "cell_type": "code",
   "execution_count": 56,
   "metadata": {},
   "outputs": [],
   "source": [
    "# Create Youtube Data API object & cleaned dataframe containing video data from selected channel using function from youtube_api_functions.py:\n",
    "youtube_obj = build_yt_API_object() # builds Youtube API object\n",
    "video_df = create_video_df(youtube_obj, channel_id_list, 500) # store API data into pandas df\n",
    "processed_video_df = clean_video_df(video_df) # run df through cleaning function"
   ]
  },
  {
   "cell_type": "code",
   "execution_count": 57,
   "metadata": {},
   "outputs": [],
   "source": [
    "selected_df = processed_video_df.query('viewCount > 5000 & commentCount > 500')"
   ]
  },
  {
   "cell_type": "code",
   "execution_count": 58,
   "metadata": {},
   "outputs": [],
   "source": [
    "video_ids = list(selected_df['video_id'])"
   ]
  },
  {
   "cell_type": "code",
   "execution_count": 59,
   "metadata": {},
   "outputs": [],
   "source": [
    "all_comments_df = pd.DataFrame()\n",
    "for video in video_ids:\n",
    "    comment_data = get_video_comments(youtube_obj, video)\n",
    "    all_comments_df = all_comments_df.append(comment_data, ignore_index=True)"
   ]
  },
  {
   "cell_type": "code",
   "execution_count": 60,
   "metadata": {},
   "outputs": [
    {
     "data": {
      "text/html": [
       "<div>\n",
       "<style scoped>\n",
       "    .dataframe tbody tr th:only-of-type {\n",
       "        vertical-align: middle;\n",
       "    }\n",
       "\n",
       "    .dataframe tbody tr th {\n",
       "        vertical-align: top;\n",
       "    }\n",
       "\n",
       "    .dataframe thead th {\n",
       "        text-align: right;\n",
       "    }\n",
       "</style>\n",
       "<table border=\"1\" class=\"dataframe\">\n",
       "  <thead>\n",
       "    <tr style=\"text-align: right;\">\n",
       "      <th></th>\n",
       "      <th>video_id</th>\n",
       "      <th>comment_id</th>\n",
       "      <th>comment</th>\n",
       "      <th>date</th>\n",
       "    </tr>\n",
       "  </thead>\n",
       "  <tbody>\n",
       "    <tr>\n",
       "      <th>0</th>\n",
       "      <td>Mo0uGTXOI48</td>\n",
       "      <td>UgzM7eLqk-LaKzXyQ7d4AaABAg</td>\n",
       "      <td>Repent, Jesus wants you!</td>\n",
       "      <td>2022-09-22T22:01:23Z</td>\n",
       "    </tr>\n",
       "    <tr>\n",
       "      <th>1</th>\n",
       "      <td>Mo0uGTXOI48</td>\n",
       "      <td>UgzaVNC2O2bCMRNTIpB4AaABAg</td>\n",
       "      <td>More to the point, how many copies of these do...</td>\n",
       "      <td>2022-09-22T22:01:17Z</td>\n",
       "    </tr>\n",
       "    <tr>\n",
       "      <th>2</th>\n",
       "      <td>Mo0uGTXOI48</td>\n",
       "      <td>UgyPoljoPk5YC-Wu7tx4AaABAg</td>\n",
       "      <td>by the title of this video, intel often holds ...</td>\n",
       "      <td>2022-09-22T22:01:16Z</td>\n",
       "    </tr>\n",
       "    <tr>\n",
       "      <th>3</th>\n",
       "      <td>Mo0uGTXOI48</td>\n",
       "      <td>UgwyOo3gs8sWNrcX3Y14AaABAg</td>\n",
       "      <td>9 traitors you mean</td>\n",
       "      <td>2022-09-22T22:00:54Z</td>\n",
       "    </tr>\n",
       "    <tr>\n",
       "      <th>4</th>\n",
       "      <td>Mo0uGTXOI48</td>\n",
       "      <td>UgxlFa_EFaOoTv8NsQd4AaABAg</td>\n",
       "      <td>MSNBC is the worst FAKE NEWS on TV. How can th...</td>\n",
       "      <td>2022-09-22T22:00:10Z</td>\n",
       "    </tr>\n",
       "  </tbody>\n",
       "</table>\n",
       "</div>"
      ],
      "text/plain": [
       "      video_id                  comment_id  \\\n",
       "0  Mo0uGTXOI48  UgzM7eLqk-LaKzXyQ7d4AaABAg   \n",
       "1  Mo0uGTXOI48  UgzaVNC2O2bCMRNTIpB4AaABAg   \n",
       "2  Mo0uGTXOI48  UgyPoljoPk5YC-Wu7tx4AaABAg   \n",
       "3  Mo0uGTXOI48  UgwyOo3gs8sWNrcX3Y14AaABAg   \n",
       "4  Mo0uGTXOI48  UgxlFa_EFaOoTv8NsQd4AaABAg   \n",
       "\n",
       "                                             comment                  date  \n",
       "0                           Repent, Jesus wants you!  2022-09-22T22:01:23Z  \n",
       "1  More to the point, how many copies of these do...  2022-09-22T22:01:17Z  \n",
       "2  by the title of this video, intel often holds ...  2022-09-22T22:01:16Z  \n",
       "3                                9 traitors you mean  2022-09-22T22:00:54Z  \n",
       "4  MSNBC is the worst FAKE NEWS on TV. How can th...  2022-09-22T22:00:10Z  "
      ]
     },
     "execution_count": 60,
     "metadata": {},
     "output_type": "execute_result"
    }
   ],
   "source": [
    "all_comments_df.head()"
   ]
  },
  {
   "cell_type": "code",
   "execution_count": 61,
   "metadata": {},
   "outputs": [
    {
     "data": {
      "text/plain": [
       "'9 traitors you mean'"
      ]
     },
     "execution_count": 61,
     "metadata": {},
     "output_type": "execute_result"
    }
   ],
   "source": [
    "all_comments_df['comment'][3]"
   ]
  },
  {
   "cell_type": "markdown",
   "metadata": {},
   "source": [
    "## Comment Data Cleaning"
   ]
  },
  {
   "cell_type": "code",
   "execution_count": 62,
   "metadata": {},
   "outputs": [],
   "source": [
    "import nltk\n",
    "from nltk.sentiment import SentimentIntensityAnalyzer\n",
    "sia = SentimentIntensityAnalyzer()"
   ]
  },
  {
   "cell_type": "code",
   "execution_count": 63,
   "metadata": {},
   "outputs": [],
   "source": [
    "def preprocess(comment):\n",
    "    comment = comment.str.replace(\"\\n\", \" \") # remove new lines \n",
    "    return comment\n",
    "\n",
    "all_comments_df['comment'] = preprocess(all_comments_df['comment'])"
   ]
  },
  {
   "cell_type": "code",
   "execution_count": 64,
   "metadata": {},
   "outputs": [
    {
     "data": {
      "text/html": [
       "<div>\n",
       "<style scoped>\n",
       "    .dataframe tbody tr th:only-of-type {\n",
       "        vertical-align: middle;\n",
       "    }\n",
       "\n",
       "    .dataframe tbody tr th {\n",
       "        vertical-align: top;\n",
       "    }\n",
       "\n",
       "    .dataframe thead th {\n",
       "        text-align: right;\n",
       "    }\n",
       "</style>\n",
       "<table border=\"1\" class=\"dataframe\">\n",
       "  <thead>\n",
       "    <tr style=\"text-align: right;\">\n",
       "      <th></th>\n",
       "      <th>video_id</th>\n",
       "      <th>comment_id</th>\n",
       "      <th>comment</th>\n",
       "      <th>date</th>\n",
       "    </tr>\n",
       "  </thead>\n",
       "  <tbody>\n",
       "    <tr>\n",
       "      <th>0</th>\n",
       "      <td>Mo0uGTXOI48</td>\n",
       "      <td>UgzM7eLqk-LaKzXyQ7d4AaABAg</td>\n",
       "      <td>Repent, Jesus wants you!</td>\n",
       "      <td>2022-09-22T22:01:23Z</td>\n",
       "    </tr>\n",
       "    <tr>\n",
       "      <th>1</th>\n",
       "      <td>Mo0uGTXOI48</td>\n",
       "      <td>UgzaVNC2O2bCMRNTIpB4AaABAg</td>\n",
       "      <td>More to the point, how many copies of these do...</td>\n",
       "      <td>2022-09-22T22:01:17Z</td>\n",
       "    </tr>\n",
       "    <tr>\n",
       "      <th>2</th>\n",
       "      <td>Mo0uGTXOI48</td>\n",
       "      <td>UgyPoljoPk5YC-Wu7tx4AaABAg</td>\n",
       "      <td>by the title of this video, intel often holds ...</td>\n",
       "      <td>2022-09-22T22:01:16Z</td>\n",
       "    </tr>\n",
       "    <tr>\n",
       "      <th>3</th>\n",
       "      <td>Mo0uGTXOI48</td>\n",
       "      <td>UgwyOo3gs8sWNrcX3Y14AaABAg</td>\n",
       "      <td>9 traitors you mean</td>\n",
       "      <td>2022-09-22T22:00:54Z</td>\n",
       "    </tr>\n",
       "    <tr>\n",
       "      <th>4</th>\n",
       "      <td>Mo0uGTXOI48</td>\n",
       "      <td>UgxlFa_EFaOoTv8NsQd4AaABAg</td>\n",
       "      <td>MSNBC is the worst FAKE NEWS on TV. How can th...</td>\n",
       "      <td>2022-09-22T22:00:10Z</td>\n",
       "    </tr>\n",
       "    <tr>\n",
       "      <th>...</th>\n",
       "      <td>...</td>\n",
       "      <td>...</td>\n",
       "      <td>...</td>\n",
       "      <td>...</td>\n",
       "    </tr>\n",
       "    <tr>\n",
       "      <th>28518</th>\n",
       "      <td>an2CezI6P8k</td>\n",
       "      <td>UgzFcQ9HnmpvyfJJ1CV4AaABAg</td>\n",
       "      <td>Let's go Bannon!</td>\n",
       "      <td>2022-09-09T13:37:13Z</td>\n",
       "    </tr>\n",
       "    <tr>\n",
       "      <th>28519</th>\n",
       "      <td>an2CezI6P8k</td>\n",
       "      <td>UgwJUBzzcbOMsNb6DRl4AaABAg</td>\n",
       "      <td>Its pretty obvious where the donors money went...</td>\n",
       "      <td>2022-09-09T13:32:17Z</td>\n",
       "    </tr>\n",
       "    <tr>\n",
       "      <th>28520</th>\n",
       "      <td>an2CezI6P8k</td>\n",
       "      <td>UgxTqRQrMpNwPt6sgDB4AaABAg</td>\n",
       "      <td>The caption actually said \"Frog Marched\" 🤣😂🤣🤣🤣🤟🏽</td>\n",
       "      <td>2022-09-09T13:23:55Z</td>\n",
       "    </tr>\n",
       "    <tr>\n",
       "      <th>28521</th>\n",
       "      <td>an2CezI6P8k</td>\n",
       "      <td>UgzckbAH5FCAhrkfu4p4AaABAg</td>\n",
       "      <td>Banon will screw you over and protect your rig...</td>\n",
       "      <td>2022-09-09T13:20:19Z</td>\n",
       "    </tr>\n",
       "    <tr>\n",
       "      <th>28522</th>\n",
       "      <td>an2CezI6P8k</td>\n",
       "      <td>UgzQYEERt-W2KM7fCel4AaABAg</td>\n",
       "      <td>Like Trump, Bannon is a crook..  and a joke.</td>\n",
       "      <td>2022-09-09T13:19:01Z</td>\n",
       "    </tr>\n",
       "  </tbody>\n",
       "</table>\n",
       "<p>28523 rows × 4 columns</p>\n",
       "</div>"
      ],
      "text/plain": [
       "          video_id                  comment_id  \\\n",
       "0      Mo0uGTXOI48  UgzM7eLqk-LaKzXyQ7d4AaABAg   \n",
       "1      Mo0uGTXOI48  UgzaVNC2O2bCMRNTIpB4AaABAg   \n",
       "2      Mo0uGTXOI48  UgyPoljoPk5YC-Wu7tx4AaABAg   \n",
       "3      Mo0uGTXOI48  UgwyOo3gs8sWNrcX3Y14AaABAg   \n",
       "4      Mo0uGTXOI48  UgxlFa_EFaOoTv8NsQd4AaABAg   \n",
       "...            ...                         ...   \n",
       "28518  an2CezI6P8k  UgzFcQ9HnmpvyfJJ1CV4AaABAg   \n",
       "28519  an2CezI6P8k  UgwJUBzzcbOMsNb6DRl4AaABAg   \n",
       "28520  an2CezI6P8k  UgxTqRQrMpNwPt6sgDB4AaABAg   \n",
       "28521  an2CezI6P8k  UgzckbAH5FCAhrkfu4p4AaABAg   \n",
       "28522  an2CezI6P8k  UgzQYEERt-W2KM7fCel4AaABAg   \n",
       "\n",
       "                                                 comment                  date  \n",
       "0                               Repent, Jesus wants you!  2022-09-22T22:01:23Z  \n",
       "1      More to the point, how many copies of these do...  2022-09-22T22:01:17Z  \n",
       "2      by the title of this video, intel often holds ...  2022-09-22T22:01:16Z  \n",
       "3                                    9 traitors you mean  2022-09-22T22:00:54Z  \n",
       "4      MSNBC is the worst FAKE NEWS on TV. How can th...  2022-09-22T22:00:10Z  \n",
       "...                                                  ...                   ...  \n",
       "28518                                   Let's go Bannon!  2022-09-09T13:37:13Z  \n",
       "28519  Its pretty obvious where the donors money went...  2022-09-09T13:32:17Z  \n",
       "28520   The caption actually said \"Frog Marched\" 🤣😂🤣🤣🤣🤟🏽  2022-09-09T13:23:55Z  \n",
       "28521  Banon will screw you over and protect your rig...  2022-09-09T13:20:19Z  \n",
       "28522       Like Trump, Bannon is a crook..  and a joke.  2022-09-09T13:19:01Z  \n",
       "\n",
       "[28523 rows x 4 columns]"
      ]
     },
     "execution_count": 64,
     "metadata": {},
     "output_type": "execute_result"
    }
   ],
   "source": [
    "all_comments_df"
   ]
  },
  {
   "cell_type": "code",
   "execution_count": 65,
   "metadata": {},
   "outputs": [
    {
     "data": {
      "text/plain": [
       "'9 traitors you mean'"
      ]
     },
     "execution_count": 65,
     "metadata": {},
     "output_type": "execute_result"
    }
   ],
   "source": [
    "all_comments_df['comment'][3]"
   ]
  },
  {
   "cell_type": "markdown",
   "metadata": {},
   "source": [
    "## VADER NLP"
   ]
  },
  {
   "cell_type": "code",
   "execution_count": 66,
   "metadata": {},
   "outputs": [],
   "source": [
    "all_comments_df['vader_sentiment'] = all_comments_df.comment.apply(lambda x: sia.polarity_scores(x))\n",
    "all_comments_df['vader_comp_sentiment'] = all_comments_df.vader_sentiment.apply(lambda x: x['compound'])"
   ]
  },
  {
   "cell_type": "code",
   "execution_count": 67,
   "metadata": {},
   "outputs": [],
   "source": [
    "video_comp_sentiments = pd.DataFrame(columns=['video_id', 'vid_title', 'avg_comp_sentiment', 'vid_viewcount'])\n",
    "for video in video_ids:\n",
    "    comment_data = get_video_comments(youtube_obj, video)\n",
    "    comment_data['vader_sentiment'] = comment_data.comment.apply(lambda x: sia.polarity_scores(x))\n",
    "    comment_data['vader_comp_sentiment'] = comment_data.vader_sentiment.apply(lambda x: x['compound'])\n",
    "    comp_mean = comment_data['vader_comp_sentiment'].mean()\n",
    "\n",
    "    vid_title = processed_video_df.loc[processed_video_df['video_id'] == video, 'title'].item()\n",
    "    vid_viewcount = processed_video_df.loc[processed_video_df['video_id'] == video, 'viewCount'].item()\n",
    "    vid_likecount = processed_video_df.loc[processed_video_df['video_id'] == video, 'likeCount'].item()\n",
    "\n",
    "    dict = {'video_id': video,\n",
    "            'vid_title': vid_title,\n",
    "            'avg_comp_sentiment': comp_mean,\n",
    "            'vid_viewcount': vid_viewcount,\n",
    "            'vid_likecount': vid_likecount\n",
    "            }\n",
    "\n",
    "    video_comp_sentiments = video_comp_sentiments.append(dict, ignore_index=True)\n",
    "    "
   ]
  },
  {
   "cell_type": "code",
   "execution_count": 68,
   "metadata": {},
   "outputs": [
    {
     "data": {
      "text/html": [
       "<div>\n",
       "<style scoped>\n",
       "    .dataframe tbody tr th:only-of-type {\n",
       "        vertical-align: middle;\n",
       "    }\n",
       "\n",
       "    .dataframe tbody tr th {\n",
       "        vertical-align: top;\n",
       "    }\n",
       "\n",
       "    .dataframe thead th {\n",
       "        text-align: right;\n",
       "    }\n",
       "</style>\n",
       "<table border=\"1\" class=\"dataframe\">\n",
       "  <thead>\n",
       "    <tr style=\"text-align: right;\">\n",
       "      <th></th>\n",
       "      <th>video_id</th>\n",
       "      <th>vid_title</th>\n",
       "      <th>avg_comp_sentiment</th>\n",
       "      <th>vid_viewcount</th>\n",
       "      <th>vid_likecount</th>\n",
       "    </tr>\n",
       "  </thead>\n",
       "  <tbody>\n",
       "    <tr>\n",
       "      <th>0</th>\n",
       "      <td>Mo0uGTXOI48</td>\n",
       "      <td>Classified Docs Often Contain 'Life Or Death' ...</td>\n",
       "      <td>-0.107191</td>\n",
       "      <td>45116</td>\n",
       "      <td>1502.0</td>\n",
       "    </tr>\n",
       "    <tr>\n",
       "      <th>1</th>\n",
       "      <td>ShrxBrNLVLU</td>\n",
       "      <td>'This Reversal Will Be A Permanent Part Of Jud...</td>\n",
       "      <td>-0.068474</td>\n",
       "      <td>363206</td>\n",
       "      <td>10450.0</td>\n",
       "    </tr>\n",
       "    <tr>\n",
       "      <th>2</th>\n",
       "      <td>_mlLkxSLa68</td>\n",
       "      <td>'Documents Don't Lie; Square Footage Doesn't L...</td>\n",
       "      <td>-0.020497</td>\n",
       "      <td>178632</td>\n",
       "      <td>5574.0</td>\n",
       "    </tr>\n",
       "    <tr>\n",
       "      <th>3</th>\n",
       "      <td>w7km9Znrohw</td>\n",
       "      <td>Trump Charges?: Anticipated Jan. 6 Report Hits...</td>\n",
       "      <td>0.000955</td>\n",
       "      <td>35792</td>\n",
       "      <td>1040.0</td>\n",
       "    </tr>\n",
       "    <tr>\n",
       "      <th>4</th>\n",
       "      <td>aX8ABP4A7gE</td>\n",
       "      <td>Sen. Durbin: It Troubles Me Greatly Some Of My...</td>\n",
       "      <td>-0.138860</td>\n",
       "      <td>206664</td>\n",
       "      <td>5304.0</td>\n",
       "    </tr>\n",
       "    <tr>\n",
       "      <th>...</th>\n",
       "      <td>...</td>\n",
       "      <td>...</td>\n",
       "      <td>...</td>\n",
       "      <td>...</td>\n",
       "      <td>...</td>\n",
       "    </tr>\n",
       "    <tr>\n",
       "      <th>283</th>\n",
       "      <td>Xvq-sBVmOyQ</td>\n",
       "      <td>NBC News Confirms Biden Will Attend Queen Eliz...</td>\n",
       "      <td>0.010662</td>\n",
       "      <td>147063</td>\n",
       "      <td>1302.0</td>\n",
       "    </tr>\n",
       "    <tr>\n",
       "      <th>284</th>\n",
       "      <td>yx8HNCJTztM</td>\n",
       "      <td>Reproductive Rights Has Galvanized Michigan Vo...</td>\n",
       "      <td>-0.086847</td>\n",
       "      <td>137332</td>\n",
       "      <td>3986.0</td>\n",
       "    </tr>\n",
       "    <tr>\n",
       "      <th>285</th>\n",
       "      <td>eeiog3IHZ34</td>\n",
       "      <td>Is There A Chance Steve Bannon Could Serve Tim...</td>\n",
       "      <td>-0.054576</td>\n",
       "      <td>132689</td>\n",
       "      <td>2039.0</td>\n",
       "    </tr>\n",
       "    <tr>\n",
       "      <th>286</th>\n",
       "      <td>R9hcVZZ9glE</td>\n",
       "      <td>Watch The Last Word With Lawrence O’Donnell Hi...</td>\n",
       "      <td>-0.024125</td>\n",
       "      <td>278617</td>\n",
       "      <td>5674.0</td>\n",
       "    </tr>\n",
       "    <tr>\n",
       "      <th>287</th>\n",
       "      <td>an2CezI6P8k</td>\n",
       "      <td>DOJ Turns To Trump's Post-Election Fundraising...</td>\n",
       "      <td>0.049475</td>\n",
       "      <td>71723</td>\n",
       "      <td>1573.0</td>\n",
       "    </tr>\n",
       "  </tbody>\n",
       "</table>\n",
       "<p>288 rows × 5 columns</p>\n",
       "</div>"
      ],
      "text/plain": [
       "        video_id                                          vid_title  \\\n",
       "0    Mo0uGTXOI48  Classified Docs Often Contain 'Life Or Death' ...   \n",
       "1    ShrxBrNLVLU  'This Reversal Will Be A Permanent Part Of Jud...   \n",
       "2    _mlLkxSLa68  'Documents Don't Lie; Square Footage Doesn't L...   \n",
       "3    w7km9Znrohw  Trump Charges?: Anticipated Jan. 6 Report Hits...   \n",
       "4    aX8ABP4A7gE  Sen. Durbin: It Troubles Me Greatly Some Of My...   \n",
       "..           ...                                                ...   \n",
       "283  Xvq-sBVmOyQ  NBC News Confirms Biden Will Attend Queen Eliz...   \n",
       "284  yx8HNCJTztM  Reproductive Rights Has Galvanized Michigan Vo...   \n",
       "285  eeiog3IHZ34  Is There A Chance Steve Bannon Could Serve Tim...   \n",
       "286  R9hcVZZ9glE  Watch The Last Word With Lawrence O’Donnell Hi...   \n",
       "287  an2CezI6P8k  DOJ Turns To Trump's Post-Election Fundraising...   \n",
       "\n",
       "     avg_comp_sentiment vid_viewcount  vid_likecount  \n",
       "0             -0.107191         45116         1502.0  \n",
       "1             -0.068474        363206        10450.0  \n",
       "2             -0.020497        178632         5574.0  \n",
       "3              0.000955         35792         1040.0  \n",
       "4             -0.138860        206664         5304.0  \n",
       "..                  ...           ...            ...  \n",
       "283            0.010662        147063         1302.0  \n",
       "284           -0.086847        137332         3986.0  \n",
       "285           -0.054576        132689         2039.0  \n",
       "286           -0.024125        278617         5674.0  \n",
       "287            0.049475         71723         1573.0  \n",
       "\n",
       "[288 rows x 5 columns]"
      ]
     },
     "execution_count": 68,
     "metadata": {},
     "output_type": "execute_result"
    }
   ],
   "source": [
    "video_comp_sentiments"
   ]
  },
  {
   "cell_type": "markdown",
   "metadata": {},
   "source": [
    "## Data Visualization"
   ]
  },
  {
   "cell_type": "code",
   "execution_count": 69,
   "metadata": {},
   "outputs": [],
   "source": [
    "import plotly.graph_objects as go\n",
    "from plotly.subplots import make_subplots\n",
    "import plotly.io as pio"
   ]
  },
  {
   "cell_type": "markdown",
   "metadata": {},
   "source": [
    "Find the interactive graph [here](https://cjunwon.github.io/Youtube-Data-Analysis/)."
   ]
  },
  {
   "cell_type": "code",
   "execution_count": 70,
   "metadata": {},
   "outputs": [
    {
     "data": {
      "application/vnd.plotly.v1+json": {
       "config": {
        "plotlyServerURL": "https://plot.ly"
       },
       "data": [
        {
         "hovertemplate": "<b>%{text}</b> <br>Sentiment Value: %{x} <br>View Count: %{y}",
         "marker": {
          "color": "Blue"
         },
         "mode": "markers",
         "name": "View Count",
         "text": [
          "Classified Docs Often Contain 'Life Or Death' Intel. Trump Can't Just 'Wish It Away': Rep. Crow:",
          "'This Reversal Will Be A Permanent Part Of Judge Cannon's Legacy': Dave Aronberg",
          "'Documents Don't Lie; Square Footage Doesn't Lie': Caroline Polisi",
          "Trump Charges?: Anticipated Jan. 6 Report Hits #1 On US Book Chart Before It Is Released",
          "Sen. Durbin: It Troubles Me Greatly Some Of My Colleagues Won't Speak Out Against The Big Lie",
          "Ginni Thomas Agrees To Meet With The Jan. 6 Committee",
          "Trump Claims He Could Declassify Documents Just By Thinking About It",
          "Appeals Court Goes 'Chapter And Verse' Against Judge Cannon",
          "Watch All In With Chris Hayes Highlights: Sept. 21",
          "Watch The Beat With Ari Melber Highlights: Sept. 21",
          "Trump Progeny, Eric, Ivanka, Jr., Inextricably Tied To Trump Org And Its Legal Woes",
          "Deep Dive Into Trump’s Finances",
          "Trump Took Advantage Of Fact That We're Not Tough On White Collar Crimes Expert Alleges",
          "Lawrence: Trump Could Now Lose Everything Including His Freedom",
          "‘Trump Family Was Running Fraud Business With A Real Estate Sideline’ Expert Alleges",
          "Appeals Court Rejects Part Of Trump Judge's Ruling, Allows DOJ To Resume Doc Review",
          "Tracking The Brazen Pattern Of Trump Fraud",
          "Michael Cohen: Trump Fraud Lawsuit Will ‘Put An End To The Entire Con’",
          "Why Is NY State Trying To End Trump Org. Over Fraud? Report On The 'Lies' And Receipts",
          "Double Charges?: Trump Facing Two 'Criminal Referrals' In Explosion Of 2022 NY Probe",
          "Complaint From NY AG James Has ‘Devastating Range’: Neal Katyal",
          "Judge Dearie Simply Applied The Facts And The Law: Joyce Vance",
          "Master vs. MAGA: Team Trump Rebuked In Court Over Stolen Docs",
          "Trump Has 'Never Been Held Accountable' To The Extent NY AG Is Now Seeking: Peter Baker",
          "How Will NY AG Lawsuit Impact Trump And GOP Campaign Plans?",
          "Documents Filed By Trump, Family Members Show Inflation Of Property Values: Court Docket",
          "Melber: NY AG’s Lawsuit Against Trump Is ‘Most Severe’ Outcome Of Investigation",
          "Trump Lawyers Accuse NY AG Of Advancing 'Political Agenda' With Lawsuit",
          "BREAKING: New York AG Announces Lawsuit Against Trump Over Business Fraud",
          "Biden Calls On U.N. To 'Hold Russia Accountable' For War In Ukraine",
          "Watch The Last Word With Lawrence O’Donnell Highlights: Sept. 20",
          "Gov. DeSantis Is Not Solving A Problem, It Is Not A Solution: WH Press Secretary",
          "Elise Jordan: DeSantis' Migrant Flights Are Just 'So Damn Wasteful'",
          "'Presidents have declassification authority, but not in this way'",
          "Watch All In With Chris Hayes Highlights: Sept. 20",
          "Putin Mobilizes More Troops For Ukraine War, Threatens Nuclear Retaliation",
          "Special Master To Trump: Put Up Or Shut Up",
          "Trump Delay Tactics Stumble Over Straight-Shooting Special Master",
          "Laurence Tribe Predicts Whether AG Merrick Garland Will Indict Trump",
          "Lawrence: Donald Trump Is Facing A Judge Who's Not Playing Games",
          "New Report: Trump's W.H. Lawyer Warned Him Against Taking Documents To Mar-a-Lago",
          "Just How Close Is The U.S. To A Civil War? | The Mehdi Hasan Show",
          "The Non-Lawyer Who Is Giving Trump Legal Advice On The Mar-a-Lago Case",
          "U.S. Ambassador To U.N. Slams GOP Governors For ‘Using Immigrants As Political Pawns’",
          "Trump Indictment Next?: Why The Blockbuster Jan. 6 Report May Change Everything",
          "Weissmann: Dearie’s Message To Trump Lawyers Is ‘If You Don’t Put Up’ You Won’t Get Relief",
          "House To Vote This Week On Electoral Count Act Update",
          "NBC Poll Shows How Donald Trump Is ‘Uniquely Capable Of Dividing The Republican Party’",
          "Special Master Questions Trump Lawyers Over Which Seized Documents Were Declassified",
          "Feds Charge 47 People Who Defrauded $250M From Federal Pandemic Child Nutrition Program",
          "Trump Ally Mike Lindell Must Face Defamation Suit Over Election-Rigging Claims",
          "'Despicable': DeSantis Is Using Migrants As 'Pawns In A Political Stunt' - Sen. Chris Coons",
          "Watch Morning Joe Highlights: September 20 | MSNBC",
          "Protests Break Out In Iran After Woman Dies While In ‘Morality Police’ Custody",
          "Jared And Ivanka Walk Out During 'Biggest Crisis Of The Trump Presidency'",
          "GOP Colleague Mocked 'Orange Jesus' Trump On Jan. 6, Says Rep. Cheney",
          "Democratic Candidate Has 22-Point Lead Over GOP Challenger",
          "Trump Drew 'Great Hand' From Judge Cannon, But It May Not Fly With Special Master",
          "Watch The Last Word With Lawrence O’Donnell Highlights: Sept. 19",
          "Watch All In With Chris Hayes Highlights: Sept. 19",
          "Barbara McQuade: Why Trump's Lawyers Want To Delay Answer On Declassification",
          "Watch The ReidOut Highlights: Sept. 19",
          "Book Outlines Trump's Desire To Sow Divisions Throughout American Life",
          "Trump Refuses To Share Declassification Defense",
          "‘Our Institutions Can’t Save Us’ From Threats To Democracy",
          "Weissmann: This Is The 'World's Worst Set Of Facts' For Trump",
          "Lawrence: Trump’s Chances Of Indictment May Have ‘Skyrocketed’",
          "GOP Leaders Slammed For Allegedly Transporting Migrants Under False Pretenses",
          "Trump 'Is Merging MAGA With QAnon' Journalist David Corn Says",
          "'Stunt Governor': Why DeSantis May Not Be The Star The GOP Is Looking For",
          "Trump Panders To QAnon Movement At Rally In Most Explicit Embrace Yet",
          "Can Ukraine Secure Victory Without More Russian Escalation? | The Mehdi Hasan Show",
          "Mehdi: No, President Biden, The Pandemic Is Not Over | The Mehdi Hasan Show",
          "The Proud Boys' National Security Threat Began Long Before 1/6 | The Mehdi Hasan Show",
          "MAGA’S 'Weaponized Lies': Trump Touts QAnon, Posing Danger For GOP Ahead Of Midterms",
          "More Republicans Refuse To Vow To Accept Election Results",
          "Frank Figliuzzi Calls Trump’s QAnon Embrace ‘The Last Act Of A Desperate Man’",
          "Calls For Criminal Investigation After 'Manipulated' Migrants Flown To Martha's Vineyard",
          "House To Vote On Bipartisan Elections Bill To Prevent Another Jan. 6",
          "President Biden Seeks To Restore Trust In American Democracy",
          "Political Theater, “Candidate Quality” Signal Trouble For Republicans Come November",
          "Martha’s Vineyard Community Welcomes Venezuelan Migrants With Open Arms",
          "Rep. Deborah Ross: 'People Are Just Outraged' Over Abortion Restrictions",
          "How Fox News Inspired GOP Governors’ Migrant Busing Stunt",
          "'The Republicans Don’t Stand For Anything': Tom Perez Weighs In On Approaching Midterms Elections",
          "President Biden Arrives At Westminster Abbey For State Funeral Of Queen Elizabeth II",
          "Trump’s Indictment Is ‘Unavoidable’ In Mar-a-Lago Case, Says Former Prosecutor",
          "Sen. Graham Flip-Flops On State’s Rights, Proposes National Abortion Ban",
          "DeSantis Builds Upon the Long History of Bigots Busing Unwanted Minorities North",
          "Justice Kagan Warns Legitimacy Of Supreme Court Is On The Line",
          "Democrats And Republicans In Dead Heat In New NBC News Poll",
          "Rep. Ted Lieu: “In America, The Law Is Applied Equally. No One Is Above The Law.”",
          "Republicans Push For A Constitutional Convention",
          "Sen. Leahy: If The Senate Doesn’t Repair Itself, ‘We Are In Deep Trouble In This Country’",
          "Puerto Rico's Power Knocked Out As Hurricane Fiona Approaches",
          "Abortion To Be Key Issue Ahead Of The Midterms",
          "NYC Mayor Adams: Bussing Migrants Is \"Inhumane And Anti-American\"",
          "Hobbs: Election Deniers Are ‘Dangerous' And 'Don't Understand How Elections Even Work’",
          "Newly Arriving Migrants Deceived By Misinformation From Abbott And DeSantis",
          "Family Of Transgender Child In Texas Speaks Out On Gov. Abbott’s Attacks",
          "President Biden, First Lady Arrive In London To Attend Funeral For The Queen",
          "Are Black Men The Key To Stacey Abrams Becoming Georgia's Next Governor?",
          "The Real World Consequences Of A Nationwide Abortion Ban",
          "DOJ Appeals Judge's Decision To Delay Criminal Investigation",
          "Massachusetts State Rep. On Migrants Sent To Martha's Vineyard",
          "Velshi: The British Empire Was Brutal. The Commonwealth Was A Consolation Prize.",
          "Watch The ReidOut Highlights: Sept. 16",
          "Watch All In With Chris Hayes Highlights: Sept. 16",
          "Watch The Beat With Ari Melber Highlights: Sept. 16",
          "DeSantis Takes Page From Autocrats' Playbook With Migrant Plane Stunt",
          "Trump Goal Of Discrediting Courts Plays Out In Mar-a-Lago Special Master Case",
          "Victims Of DeSantis' Cruel Migrant Plane Prank Appear To Have Law On Their Side",
          "DOJ Files Appeal In Trump Docs Case",
          "Mark Meadows Now Has 'Hot Potato' Of Culpability For Mar-a-Lago Docs Legal Expert Says",
          "DeSantis Migrant Stunt Reminiscent Of Deceptive ‘Reverse Freedom Rides’ From 60's",
          "DOJ Asks Appeals Court For Stay To Allow Investigation, Assessment Of Mar-a-Lago Docs",
          "New Reporting On The Trump Lies Leading Up To The Mar-a-Lago Search",
          "GOP Candidates Distance Themselves From Trump After Primary Wins",
          "Boston Children's Hospital Becomes Latest Target Of MAGA-Right Threats",
          "'Outrageous' 'Untethered': DOJ Vets Slam Judge's Ruling On Trump's Stolen Docs",
          "DOJ Corners Trump As 'Newspaper Clippings' Defense Shredded By Stolen Doc Photos",
          "'Barr Did The Bidding Of The President And Politicized The DOJ' Says Fmr. U.S. Attorney",
          "DeSantis, Abbott Using Migrants As Political Pawns | The Katie Phang Show",
          "China’s Xi Not On Board With Putin’s War In Ukraine | The Katie Phang Show",
          "Paul Butler: Judge Cannon ‘Partially Joining Donald Trump’s Defense Team’ | The Katie Phang Show",
          "Charlie Sykes: Desantis And Abbott Are Using ‘Theater Of Cruelty’",
          "‘DOJ Has No Option But To Appeal’: Brandon Van Grack",
          "Biden Moves To Reshape Courts With Diverse Judicial Nominations",
          "We Are Reaching A Breaking Point As A Country, Says Strategist",
          "Watch Morning Joe Highlights: September 16 | MSNBC",
          "Trump's Nightmare?: Feds Seize Another MAGA Insider's Phone As Jan. 6 Probe Escalates",
          "MTG Appears To Kick Activist In Video",
          "'The Trumpiest Thing That A Trump Judge Has Ever Written'",
          "Hillary Clinton: We Should All Be Treated Equally Before The Law",
          "In Warning Over Indictment, Trump Seems To See Himself As Bigger Than The Law",
          "Watch All In With Chris Hayes Highlights: Sept. 15",
          "Hillary Clinton: Abortion Bans 'Could Not Be More Serious And More Deadly'",
          "Joe: There Is A Border Crisis, But Political Human Trafficking Is Grotesque",
          "Watch The Last Word With Lawrence O’Donnell Highlights: Sept. 15",
          "Fetterman Moves On From Stroke With New Empathy And Renewed Disdain For GOP Cruelty",
          "Special Master Appointed In Trump Docs Case",
          "Reverse Freedom Rides: DeSantis GOP Stunt Has Been Attempted Before",
          "Trump Court Stacking Project Bears Fruit In Case Against DOJ Search",
          "GOP Governors Follow Shameful History With Cruel Stunt Abusing Migrants",
          "Massachusetts AG Candidate Blasts Gov. DeSantis’s ‘Political Stunt’",
          "Lawrence: Trump Has Poisoned The Federal Judiciary",
          "'Outrageous And Stupid': Legal Experts Excoriate Trump Judge's New Ruling",
          "Glenn Kirschner On Trump Investigations | Zerlina.",
          "DeSantis Takes Credit For Sending Migrants To Martha’s Vineyard In ‘Inhumane Political Stunt’",
          "Joyce Vance: Mar-a-Lago Investigation ‘Just Keeps Getting Worse’ For Trump",
          "‘Atrocity’: Former Federal Prosecutor On Trump Judge’s Ruling In Mar-a-Lago Case",
          "BREAKING: Judge Denies DOJ Request To Carve Out Access To Mar-a-Lago Docs, Appoints Special Master",
          "Watch #AOC Go After Rep. Higgins For How He Treated A #witness",
          "The Divide In The Republican Party Grows Deeper As Midterms Approach | ScreenShare",
          "Neal Katyal: Obstruction Case Against Trump Is ‘Very Strong’",
          "Herschel Walker Hits Warnock On Race In New Attack Ad | ScreenShare",
          "Trump Wanted To 'Bus And Dump' Migrants Into Democratic Cities Says Fmr. DHS Official",
          "Biden Administration Will Counter Hate-Fueled Violence With 'Every Tool Available'",
          "Jan. 6 Rioter Who Wore 'Camp Auschwitz' Sweatshirt Sentenced To Prison",
          "Russia’s Putin And China’s Xi Meet For First Time Since Ukraine Invasion",
          "DOJ Awaits Judge Cannon’s Ruling On Mar-a-Lago Documents",
          "Watch Morning Joe Highlights: September 15 | MSNBC",
          "New Texts Shed More Light On Welfare Scandal Involving Brett Favre",
          "DeSantis Flies Two Planes Full Of Migrants To Martha's Vineyard",
          "Elise Jordan: Graham Proceeding With Abortion Bill The Way He Did With Failed Presidential Run",
          "Biden's Job Approval Gets Boost In New Polling",
          "Trump Advisers Fear DOJ Probes More Expansive Than Publicly Known: Report",
          "Watch All In With Chris Hayes Highlights: Sept. 14",
          "Watch The Last Word With Lawrence O’Donnell Highlights: Sept. 14",
          "David Enrich On Why Trump Can't Find Top-Notch Lawyers | One-on-One With Stephanie Ruhle",
          "Brett Favre And The Fleecing Of America",
          "Jan. 6 Committee Gets Trove Of New Evidence",
          "'They Know What They're Fighting For': Ukraine Dominates Putin's Army",
          "Lawrence: Another One Of Trump's Lawyers Is In Very Serious Trouble",
          "What The FBI Seizing MyPillow CEO's Phone Tells Us About MAGA Extremism",
          "Trump Continues To Make Martyr Out Of Capitol Rioter",
          "Brett Favre And The Collapse Of Conservative Government In Mississippi",
          "Fascism Is On The Rise In Europe, Not Just In The U.S. | The Mehdi Hasan Show",
          "‘Outrageous’ That Trump Would Pardon Insurrectionists Says Rep. Lofgren",
          "FBI Serves MyPillow CEO Mike Lindell With Search Warrant",
          "Biden Announces Investment In Electric Vehicle Charging Stations",
          "Jeh Johnson: Trump Holding Onto Classified Docs Signals To Allies That ‘America Cannot Be Trusted.’",
          "Sen. Elizabeth Warren: Trump ‘Is Putting The Security Of The U.S. At Risk And He Must Be Stopped.’",
          "The Michigan GOP's Lies About Abortion",
          "Watch Morning Joe Highlights: September 14 | MSNBC",
          "John Fetterman Needs To Debate More Than Once, Says WaPo Editorial Board",
          "DC Police Officer Left With Scars After Jan. 6 Rioter Tased Him",
          "Joe: Sen. Graham Seemed To Put More Fuel On The Fire With Abortion Proposal",
          "Claire McCaskill: Mike Lindell Got A Little Piece Of Law Yesterday",
          "New Unsealed Parts Of Trump Affidavit Show Timeline On Surveillance Video Subpoena",
          "Russia In Secret Spent $300M To Influence Foreign Elections, Says U.S. Official",
          "Watch The Last Word With Lawrence O’Donnell Highlights: Sept. 13",
          "Republican Power Grab In The Judiciary Warps Midterm Election Dynamic",
          "Report: DOJ Takes Steps Not To Rush Trump Investigations",
          "Lindsey Graham Hands Democrats A Gift With Federal Abortion Ban Proposal",
          "Where Are The Lawyers Rushing To Represent Trump?",
          "Joy Reid: Lindsey Graham Has Now Said Midterms Are About Whether Women Are Going To Be Full Citizens",
          "‘Trump Has Attacked The Institutions Of Civil Society’: Expert On New Barr DOJ Allegations",
          "Klobuchar On The GOP Federal Abortion Ban: 'It’s Much Worse Than It Sounds'",
          "Montana Still Reeling GOP-Led Covid Policies | The Mehdi Hasan Show",
          "Former U.S. Attorney Berman Reveals How Trump Weaponized The DOJ",
          "DOJ Issues 40 Subpoenas In Just One Week | Zerlina.",
          "Could This Section Of The Constitution Keep Trump From A 2024 Bid? | The Mehdi Hasan Show",
          "Judge Unseals More Portions Of Mar-a-Lago Search Warrant Affidavit",
          "BREAKING: Judge Hands Down Guilty Verdicts To Two Jan. 6 Defendants",
          "Bill Gates On Why Artificial Intel Will Change Everything And What We Owe Africa | Melber Intv",
          "Joyce Vance: ‘If Berman's Tales Are Borne Out, They Are Very Serious.’",
          "Watch Morning Joe Highlights: September 13 | MSNBC",
          "National Debate Over Abortion At The Heart Of Michigan Midterms",
          "War Correspondent Returns Home To Document 'The Storm Is Here'",
          "How The Republican Party Came To Embrace Conspiracy",
          "Rep. Kinzinger: Trump Brought Heaps Of Fear Into The Republican Party",
          "Former U.S. Attorney: DOJ Pushed Us And Pushed Us On John Kerry",
          "Rep. Ryan Criticizes Challenger's Campaign: 'Dude Took The Whole Summer Off'",
          "Circles Close In On Highest Levels Of Government As DOJ Issues Dozens Of Subpoenas",
          "Watch Rachel Maddow Highlights: Sept. 12",
          "Watch The Last Word With Lawrence O’Donnell Highlights: Sept. 12",
          "Zelenskyy Has Choice Words For Putin As Ukraine Makes Remarkable Progress Repelling Russia",
          "How Trump Loyalists In The DOJ Pushed Prosecutors To Protect 'Individual-1'",
          "DOJ Issues 40 Subpoenas In One Week In Jan. 6 Probe",
          "Support For Putin's War Wavers On Russian State TV",
          "Former U.S. Attorney Details Trump, Barr Efforts To Corrupt DOJ With Political Agenda",
          "Lawrence: Trump Lawyers Respond To DOJ With Stunningly Childish Argument",
          "Chief Justice Confused By Questioning SCOTUS's Legitimacy After Roe Decision",
          "‘They Belong To The Country And People’: Legal Expert On Docs Trump’s Lawyers Say He Has Rights To",
          "Alaska Rep-Elect After Beating Sarah Palin: ‘No American Is My Enemy’",
          "Russian State TV Pundits Openly Question Ukraine War",
          "A Network Of Local Sheriffs Is Helping To Spread The 'Big Lie' | The Mehdi Hasan Show",
          "DOJ Subpoenas 40 Trump Associates Over Jan. 6 Investigation",
          "'Substantial Escalation' In Jan. 6 Probe As DOJ Seizes Phones From 'Top' Trump Aides",
          "Weissmann: We Either Have A System Where We’re All Accountable To Law Or We Don’t",
          "Jan 6th Committee Members Prepare To Work Until The Bitter End",
          "Putin Has Put Himself In A Terrible Box In Ukraine, Says Retired General",
          "Watch Morning Joe Highlights: September 12 | MSNBC",
          "How To Fight Back Against What Author Calls 'Broken News'",
          "Chances 'Very High' Trump Will Be Indicted, Says Former Lawyer",
          "George Will: I Think The Republican Party Will Regain Its Voice",
          "Reproductive Rights A Key Issue Ahead Of The Midterms",
          "Majority See MAGA GOP Threatening The Foundations Of Democracy, Polling Shows",
          "'Desperation For Power, Money': Author Charts Giuliani's Rise And 'Tragic Fall'",
          "President Biden Honors 9/11 Victims 21 Years After Attacks",
          "Russian Forces Retreat As Ukrainian Forces Advance",
          "Trump Asks Judge To Pass Cost Of “Special Master” To The American Taxpayer",
          "Rising Number Of Women Voters Raises More Questions For The Midterms",
          "Vice President Harris: 'I Wouldn’t Dare Tell The Department Of Justice What To Do'",
          "Federal Judge Rules Anti-HIV Medicine Is Unconstitutional",
          "Florida’s Election Police Unit Targets Formerly Imprisoned People",
          "Trump Faces A Deluge Of Legal Woes",
          "Tennessee Abortion Ban Creates Chaos And Confusion",
          "ADL Finds Hundreds Of Law Enforcement Officers In Far-Right Extremist Group",
          "The Future Of Abortion Rights In Michigan Will Be Decided By Voters In November",
          "President Biden Accepts Invitation To Attend Queen Elizabeth's Funeral",
          "The U.S. Faces A New Type Of Threat 21 Years After The 9/11 Attacks",
          "DHS Sec. Mayorkas On Threats At Home And Abroad As U.S. Marks 21 Years Since 9/11",
          "Biden Commemorates 21st Anniversary Of 9/11 Attacks",
          "Millions Could Again Face The Troubles If Northern Ireland Protocol Is Scrapped",
          "Investigations Into Trump’s Actions To Overturn The 2020 Election Widen",
          "Republicans Prepare For Voter Backlash Following Overturn Of Roe",
          "DOJ And National Security Experts Raise Concern Over Delaying Trump Mar-a-Lago Probe",
          "373 Members Of Law Enforcement Found On Oath Keepers Membership Rolls",
          "Velshi: Mixed Feelings About the Monarchy? Why You’re Not Alone. ",
          "Russia Pulls Out Troops From Areas Of Ukraine's Kharkiv Region",
          "Rep. Pramila Jayapal Links Rising Threats Against Lawmakers To GOP Rhetoric",
          "Kehinde Andrews: The Monarchy Represented The Racism That My Generation Felt",
          "Watch Alex Wagner Tonight Highlights: Sep. 9",
          "Watch All In With Chris Hayes Highlights: Sept. 9",
          "Queen's Passing, Monarchy's Legacy Could Push Tenuous Commonwealth Into Collapse",
          "LGBTQ Advocates Unwilling To Cede Ground On Rights To Extremist GOP Candidates",
          "Trump’s Legal Team Submit Their Proposed Picks For Special Master",
          "Expert To DOJ On Trump: Return An Indictment Against Someone Who's Been Criming In Light Of Day",
          "Trump, DOJ Each Propose Two Potential Special Master Candidates For Mar-a-Lago Documents",
          "Royal Expert: King Charles III Extended Olive Branch To Harry And Meghan. Will Rift Be Healed?",
          "The Monarchy And Colonialism | Zerlina.",
          "Texas Podcaster Ted Cruz's Failed Attempt To Troll California",
          "Why Trump Should Be Worried About DOJ's Probe Of His Post-Election Fundraising",
          "Stefanik 'Maintains A Separate Set Of Rules' For The Rich Says Challenger | The Katie Phang Show",
          "Michael Cohen: Bill Barr ‘Is A Coward’ | The Katie Phang Show",
          "GOP Plans Impeachment Of Biden Officials If They Win Back House | The Katie Phang Show",
          "Hot Button Cultural Issues Become Winning Topics For Democrats",
          "Trump Faces Monday Deadline To Respond To DOJ Filing",
          "Full Speech: King Charles III Promises ‘Lifelong Service’ After Death Of Queen Elizabeth II",
          "Watch Morning Joe Highlights: September 9 | MSNBC",
          "Republicans Out Of Touch With Where Most Americans Are, Says Senator",
          "NBC News Confirms Biden Will Attend Queen Elizabeth's Funeral",
          "Reproductive Rights Has Galvanized Michigan Voters, Says House Member",
          "Is There A Chance Steve Bannon Could Serve Time In Jail?",
          "Watch The Last Word With Lawrence O’Donnell Highlights: Sept. 8",
          "DOJ Turns To Trump's Post-Election Fundraising; Bannon Is Frog-Marched To Face The Music"
         ],
         "type": "scatter",
         "x": [
          -0.10719100000000001,
          -0.06847399999999995,
          -0.02049690721649484,
          0.0009545454545454646,
          -0.13885959595959596,
          0.01107938144329896,
          -0.01113434343434343,
          -0.010397959183673469,
          -0.007035353535353529,
          0.15922755102040817,
          -0.09290808080808083,
          -0.04166900000000001,
          -0.067438,
          0.036115306122449016,
          0.0032222222222222157,
          0.03425656565656564,
          -0.24521443298969062,
          -0.015476767676767672,
          -0.047377777777777776,
          -0.031169072164948446,
          -0.13186464646464643,
          0.009593814432989687,
          0.04711752577319587,
          -0.109684693877551,
          -0.1348765306122449,
          -0.01986767676767674,
          -0.097563,
          -0.158677,
          -0.055288000000000004,
          -0.13513699999999995,
          0.08239897959183676,
          -0.09726464646464647,
          -0.0761115789473684,
          0.005996969696969697,
          -0.008426804123711345,
          -0.23021276595744677,
          0.14186632653061224,
          -0.04412755102040816,
          -0.06372142857142857,
          0.008915151515151517,
          0.03726428571428571,
          -0.2451,
          -0.050329292929292925,
          -0.053121428571428576,
          0.023123000000000022,
          0.052751020408163284,
          -0.1902229166666666,
          -0.027861616161616174,
          -0.0027059999999999905,
          -0.06372499999999998,
          -0.12452653061224483,
          -0.07742395833333333,
          -0.0742268817204301,
          -0.08988969072164948,
          -0.06640404040404042,
          -0.1039458333333333,
          0.24156200000000008,
          0.14177499999999998,
          0.01439494949494949,
          -0.0786757894736842,
          -0.095394,
          -0.071415625,
          -0.07216836734693872,
          -0.078183,
          -0.057776767676767656,
          -0.044484536082474234,
          -0.09321818181818183,
          -0.08681734693877552,
          0.001205376344086019,
          -0.10274166666666668,
          -0.07408500000000001,
          -0.12966868686868685,
          -0.047955555555555564,
          -0.1859244897959183,
          -0.03912142857142858,
          -0.14388202247191012,
          -0.10820612244897962,
          -0.07182959183673471,
          0.01164387755102039,
          0.05237551020408162,
          -0.09943400000000004,
          0.06400729166666667,
          -0.10249700000000005,
          -0.07466363636363638,
          -0.010914999999999994,
          -0.03736868686868687,
          -0.06546868686868688,
          -0.0006520000000000142,
          -0.023515151515151538,
          -0.026965999999999997,
          -0.10410505050505056,
          -0.17534499999999995,
          -0.051474,
          0.07947979797979804,
          0.17207699999999998,
          0.012077999999999998,
          -0.04600909090909091,
          -0.034634343434343434,
          -0.16106899999999993,
          -0.1131969072164948,
          0.020448,
          0.08043645833333334,
          -0.058321,
          -0.1948690000000001,
          0.07035400000000001,
          -0.035844000000000015,
          -0.02048200000000001,
          -0.047532000000000026,
          -0.05338800000000001,
          0.03261100000000001,
          -0.12125300000000001,
          -0.11411182795698928,
          -0.069006,
          -0.024592000000000006,
          -0.11355699999999999,
          -0.03199285714285715,
          -0.10945099999999996,
          -0.024911999999999986,
          -0.3143649999999999,
          -0.11255050505050505,
          -0.14220899999999997,
          -0.149671,
          -0.042198,
          -0.046198989898989906,
          -0.023143000000000007,
          -0.10640199999999997,
          0.03685599999999998,
          0.04584599999999999,
          0.06816199999999997,
          -0.024686000000000003,
          -0.16734499999999997,
          -0.12796373626373625,
          -0.06583699999999998,
          -0.07198181818181819,
          -0.08261020408163267,
          -0.07870299999999998,
          -0.019726000000000004,
          -0.166367,
          0.045764285714285736,
          0.10252525252525256,
          -0.044501999999999986,
          0.010228000000000008,
          -0.10253200000000001,
          -0.04980900000000001,
          0.013434,
          -0.07810199999999998,
          -0.081516,
          -0.10036300000000001,
          0.011705050505050484,
          -0.12107979797979798,
          -0.08188799999999999,
          0.060876,
          -0.01942210526315789,
          0.037654999999999994,
          -0.06788199999999998,
          0.05258181818181817,
          0.026256999999999975,
          -0.14324,
          -0.11123608247422674,
          -0.02303299999999999,
          -0.02219199999999999,
          0.024178999999999996,
          -0.10342999999999998,
          0.11827399999999999,
          -0.11682700000000003,
          0.03899899999999999,
          -0.07949393939393942,
          -0.17108000000000004,
          0.021839000000000018,
          -0.03942499999999996,
          -0.07449896907216495,
          0.01624799999999998,
          0.02993092783505155,
          -0.035038383838383855,
          -0.10281734693877552,
          -0.33684799999999987,
          -0.2361202020202019,
          -0.04648780487804876,
          -0.21059799999999995,
          -0.009250999999999999,
          0.027245000000000016,
          -0.08512400000000003,
          0.008554545454545445,
          -0.18310200000000001,
          0.06675500000000001,
          -0.006770000000000005,
          -0.1574939999999999,
          -0.02492399999999999,
          -0.07179799999999997,
          0.04721800000000001,
          0.023306999999999998,
          -0.036969,
          0.29047999999999996,
          -0.033778,
          -0.098942,
          0.0009410000000000063,
          -0.07127878787878789,
          -0.14761499999999994,
          -0.111479,
          -0.12688599999999997,
          -0.09338899999999999,
          -0.178814,
          0.03044444444444443,
          -0.053329999999999995,
          -0.09751799999999995,
          0.10417938144329898,
          -0.011625000000000003,
          0.009745999999999982,
          -0.11214199999999995,
          -0.19526499999999994,
          -0.046789000000000004,
          -0.025349,
          -0.060730000000000034,
          -0.041164000000000006,
          -0.05865099999999998,
          0.06017899999999999,
          -0.034022,
          0.18501326530612247,
          -0.030777000000000006,
          -0.18317499999999998,
          -0.17662061855670105,
          -0.08330600000000002,
          -0.12031299999999998,
          0.04411500000000001,
          -0.15148800000000004,
          0.30140699999999987,
          -0.07337653061224489,
          -0.05950927835051546,
          -0.10627199999999998,
          -0.098415,
          -0.12615,
          -0.022455000000000013,
          -0.09318199999999999,
          0.003265,
          -0.08841999999999998,
          -0.06847500000000001,
          -0.06651499999999996,
          -0.004779000000000008,
          -0.16448099999999996,
          -0.09053399999999995,
          -0.095046,
          0.026157999999999983,
          0.009091000000000009,
          0.09779099999999996,
          -0.06646799999999999,
          -0.07572812500000001,
          -0.20013499999999998,
          -0.11485899999999999,
          -0.15710099999999996,
          -0.046863999999999996,
          0.0067730000000000125,
          -0.000911000000000004,
          -0.30820599999999987,
          -0.23249799999999998,
          -0.10142800000000002,
          0.003884999999999986,
          -0.181537,
          -0.026400999999999997,
          -0.16111099999999998,
          -0.19345299999999996,
          -0.15419600000000006,
          -0.030544,
          -0.20508282828282823,
          -0.20113571428571422,
          0.040604999999999995,
          -0.024244000000000022,
          0.0024149999999999905,
          0.044869000000000006,
          0.026595999999999998,
          -0.08479000000000005,
          -0.04041399999999998,
          0.069573,
          -0.186605,
          0.017717,
          -0.06506800000000004,
          -0.03465,
          -0.06075151515151516,
          -0.040753535353535375,
          0.021832999999999995,
          -0.081662,
          0.19990499999999997,
          -0.014135,
          -0.062208000000000006,
          0.010662000000000003,
          -0.086847,
          -0.05457600000000001,
          -0.024125,
          0.04947500000000003
         ],
         "xaxis": "x",
         "y": [
          45116,
          363206,
          178632,
          35792,
          206664,
          58760,
          474901,
          191732,
          174451,
          168416,
          99851,
          241482,
          156619,
          1274529,
          170091,
          198496,
          277333,
          851518,
          434977,
          480640,
          502702,
          414937,
          550921,
          129216,
          102973,
          190354,
          120678,
          79538,
          270961,
          39655,
          365889,
          22671,
          92156,
          348177,
          337616,
          95552,
          397600,
          154907,
          401695,
          932558,
          280813,
          241298,
          420115,
          60262,
          520438,
          876743,
          37064,
          158186,
          184361,
          129626,
          69319,
          21091,
          364938,
          53568,
          1825905,
          281128,
          83506,
          333311,
          181869,
          270251,
          245389,
          100893,
          82644,
          203254,
          45634,
          400764,
          1245740,
          142479,
          198003,
          134209,
          218801,
          178707,
          21326,
          94576,
          332331,
          140267,
          623852,
          30939,
          145453,
          21974,
          68776,
          15326,
          17445,
          39271,
          39097,
          50796,
          655238,
          132770,
          42721,
          101672,
          31010,
          145900,
          40044,
          62999,
          169918,
          9810,
          43301,
          40682,
          44298,
          72864,
          95856,
          80922,
          29019,
          253140,
          59236,
          54945,
          89761,
          225822,
          395594,
          18503,
          83734,
          196859,
          192455,
          196120,
          57418,
          332961,
          174527,
          104776,
          637205,
          130559,
          1275331,
          143940,
          52550,
          143654,
          205718,
          41959,
          205358,
          31701,
          69309,
          384321,
          164651,
          199163,
          179389,
          19567,
          552373,
          318094,
          50544,
          15377,
          406464,
          77319,
          123204,
          16199,
          60804,
          20391,
          44418,
          440544,
          600010,
          113992,
          94366,
          411076,
          248272,
          185982,
          148284,
          83658,
          811721,
          206402,
          36397,
          11994,
          295550,
          154009,
          255643,
          316678,
          104627,
          40038,
          63884,
          18169,
          486776,
          138711,
          303929,
          134134,
          215090,
          122792,
          490059,
          759170,
          535995,
          87932,
          613975,
          188348,
          71962,
          193346,
          9874,
          153704,
          78224,
          93797,
          534106,
          15931,
          16343,
          58636,
          249569,
          217109,
          40177,
          142034,
          92452,
          47748,
          75786,
          80647,
          149121,
          217413,
          201423,
          235131,
          103704,
          65481,
          470127,
          578656,
          342964,
          61837,
          237155,
          547797,
          17740,
          51219,
          216551,
          388532,
          91978,
          119851,
          236293,
          516976,
          319420,
          206783,
          182327,
          128334,
          332266,
          424278,
          1114872,
          479388,
          185907,
          104866,
          1249705,
          308605,
          257408,
          1255289,
          223464,
          228610,
          754412,
          254525,
          123766,
          338827,
          158631,
          22826,
          97492,
          357370,
          28747,
          78243,
          873956,
          172015,
          50631,
          445020,
          31102,
          470763,
          56133,
          57017,
          108590,
          143629,
          50083,
          25509,
          39109,
          54653,
          276553,
          368905,
          376189,
          205181,
          120947,
          635655,
          63965,
          46858,
          126803,
          373103,
          25201,
          56454,
          163725,
          910353,
          301027,
          72010,
          15108,
          840417,
          1007758,
          103248,
          913914,
          518947,
          39266,
          670757,
          276687,
          104757,
          406394,
          147063,
          137332,
          132689,
          278617,
          71723
         ],
         "yaxis": "y"
        },
        {
         "hovertemplate": "<b>%{text}</b> <br>Sentiment Value: %{x} <br>Like Count: %{y}",
         "marker": {
          "color": "Red"
         },
         "mode": "markers",
         "name": "Like Count",
         "text": [
          "Classified Docs Often Contain 'Life Or Death' Intel. Trump Can't Just 'Wish It Away': Rep. Crow:",
          "'This Reversal Will Be A Permanent Part Of Judge Cannon's Legacy': Dave Aronberg",
          "'Documents Don't Lie; Square Footage Doesn't Lie': Caroline Polisi",
          "Trump Charges?: Anticipated Jan. 6 Report Hits #1 On US Book Chart Before It Is Released",
          "Sen. Durbin: It Troubles Me Greatly Some Of My Colleagues Won't Speak Out Against The Big Lie",
          "Ginni Thomas Agrees To Meet With The Jan. 6 Committee",
          "Trump Claims He Could Declassify Documents Just By Thinking About It",
          "Appeals Court Goes 'Chapter And Verse' Against Judge Cannon",
          "Watch All In With Chris Hayes Highlights: Sept. 21",
          "Watch The Beat With Ari Melber Highlights: Sept. 21",
          "Trump Progeny, Eric, Ivanka, Jr., Inextricably Tied To Trump Org And Its Legal Woes",
          "Deep Dive Into Trump’s Finances",
          "Trump Took Advantage Of Fact That We're Not Tough On White Collar Crimes Expert Alleges",
          "Lawrence: Trump Could Now Lose Everything Including His Freedom",
          "‘Trump Family Was Running Fraud Business With A Real Estate Sideline’ Expert Alleges",
          "Appeals Court Rejects Part Of Trump Judge's Ruling, Allows DOJ To Resume Doc Review",
          "Tracking The Brazen Pattern Of Trump Fraud",
          "Michael Cohen: Trump Fraud Lawsuit Will ‘Put An End To The Entire Con’",
          "Why Is NY State Trying To End Trump Org. Over Fraud? Report On The 'Lies' And Receipts",
          "Double Charges?: Trump Facing Two 'Criminal Referrals' In Explosion Of 2022 NY Probe",
          "Complaint From NY AG James Has ‘Devastating Range’: Neal Katyal",
          "Judge Dearie Simply Applied The Facts And The Law: Joyce Vance",
          "Master vs. MAGA: Team Trump Rebuked In Court Over Stolen Docs",
          "Trump Has 'Never Been Held Accountable' To The Extent NY AG Is Now Seeking: Peter Baker",
          "How Will NY AG Lawsuit Impact Trump And GOP Campaign Plans?",
          "Documents Filed By Trump, Family Members Show Inflation Of Property Values: Court Docket",
          "Melber: NY AG’s Lawsuit Against Trump Is ‘Most Severe’ Outcome Of Investigation",
          "Trump Lawyers Accuse NY AG Of Advancing 'Political Agenda' With Lawsuit",
          "BREAKING: New York AG Announces Lawsuit Against Trump Over Business Fraud",
          "Biden Calls On U.N. To 'Hold Russia Accountable' For War In Ukraine",
          "Watch The Last Word With Lawrence O’Donnell Highlights: Sept. 20",
          "Gov. DeSantis Is Not Solving A Problem, It Is Not A Solution: WH Press Secretary",
          "Elise Jordan: DeSantis' Migrant Flights Are Just 'So Damn Wasteful'",
          "'Presidents have declassification authority, but not in this way'",
          "Watch All In With Chris Hayes Highlights: Sept. 20",
          "Putin Mobilizes More Troops For Ukraine War, Threatens Nuclear Retaliation",
          "Special Master To Trump: Put Up Or Shut Up",
          "Trump Delay Tactics Stumble Over Straight-Shooting Special Master",
          "Laurence Tribe Predicts Whether AG Merrick Garland Will Indict Trump",
          "Lawrence: Donald Trump Is Facing A Judge Who's Not Playing Games",
          "New Report: Trump's W.H. Lawyer Warned Him Against Taking Documents To Mar-a-Lago",
          "Just How Close Is The U.S. To A Civil War? | The Mehdi Hasan Show",
          "The Non-Lawyer Who Is Giving Trump Legal Advice On The Mar-a-Lago Case",
          "U.S. Ambassador To U.N. Slams GOP Governors For ‘Using Immigrants As Political Pawns’",
          "Trump Indictment Next?: Why The Blockbuster Jan. 6 Report May Change Everything",
          "Weissmann: Dearie’s Message To Trump Lawyers Is ‘If You Don’t Put Up’ You Won’t Get Relief",
          "House To Vote This Week On Electoral Count Act Update",
          "NBC Poll Shows How Donald Trump Is ‘Uniquely Capable Of Dividing The Republican Party’",
          "Special Master Questions Trump Lawyers Over Which Seized Documents Were Declassified",
          "Feds Charge 47 People Who Defrauded $250M From Federal Pandemic Child Nutrition Program",
          "Trump Ally Mike Lindell Must Face Defamation Suit Over Election-Rigging Claims",
          "'Despicable': DeSantis Is Using Migrants As 'Pawns In A Political Stunt' - Sen. Chris Coons",
          "Watch Morning Joe Highlights: September 20 | MSNBC",
          "Protests Break Out In Iran After Woman Dies While In ‘Morality Police’ Custody",
          "Jared And Ivanka Walk Out During 'Biggest Crisis Of The Trump Presidency'",
          "GOP Colleague Mocked 'Orange Jesus' Trump On Jan. 6, Says Rep. Cheney",
          "Democratic Candidate Has 22-Point Lead Over GOP Challenger",
          "Trump Drew 'Great Hand' From Judge Cannon, But It May Not Fly With Special Master",
          "Watch The Last Word With Lawrence O’Donnell Highlights: Sept. 19",
          "Watch All In With Chris Hayes Highlights: Sept. 19",
          "Barbara McQuade: Why Trump's Lawyers Want To Delay Answer On Declassification",
          "Watch The ReidOut Highlights: Sept. 19",
          "Book Outlines Trump's Desire To Sow Divisions Throughout American Life",
          "Trump Refuses To Share Declassification Defense",
          "‘Our Institutions Can’t Save Us’ From Threats To Democracy",
          "Weissmann: This Is The 'World's Worst Set Of Facts' For Trump",
          "Lawrence: Trump’s Chances Of Indictment May Have ‘Skyrocketed’",
          "GOP Leaders Slammed For Allegedly Transporting Migrants Under False Pretenses",
          "Trump 'Is Merging MAGA With QAnon' Journalist David Corn Says",
          "'Stunt Governor': Why DeSantis May Not Be The Star The GOP Is Looking For",
          "Trump Panders To QAnon Movement At Rally In Most Explicit Embrace Yet",
          "Can Ukraine Secure Victory Without More Russian Escalation? | The Mehdi Hasan Show",
          "Mehdi: No, President Biden, The Pandemic Is Not Over | The Mehdi Hasan Show",
          "The Proud Boys' National Security Threat Began Long Before 1/6 | The Mehdi Hasan Show",
          "MAGA’S 'Weaponized Lies': Trump Touts QAnon, Posing Danger For GOP Ahead Of Midterms",
          "More Republicans Refuse To Vow To Accept Election Results",
          "Frank Figliuzzi Calls Trump’s QAnon Embrace ‘The Last Act Of A Desperate Man’",
          "Calls For Criminal Investigation After 'Manipulated' Migrants Flown To Martha's Vineyard",
          "House To Vote On Bipartisan Elections Bill To Prevent Another Jan. 6",
          "President Biden Seeks To Restore Trust In American Democracy",
          "Political Theater, “Candidate Quality” Signal Trouble For Republicans Come November",
          "Martha’s Vineyard Community Welcomes Venezuelan Migrants With Open Arms",
          "Rep. Deborah Ross: 'People Are Just Outraged' Over Abortion Restrictions",
          "How Fox News Inspired GOP Governors’ Migrant Busing Stunt",
          "'The Republicans Don’t Stand For Anything': Tom Perez Weighs In On Approaching Midterms Elections",
          "President Biden Arrives At Westminster Abbey For State Funeral Of Queen Elizabeth II",
          "Trump’s Indictment Is ‘Unavoidable’ In Mar-a-Lago Case, Says Former Prosecutor",
          "Sen. Graham Flip-Flops On State’s Rights, Proposes National Abortion Ban",
          "DeSantis Builds Upon the Long History of Bigots Busing Unwanted Minorities North",
          "Justice Kagan Warns Legitimacy Of Supreme Court Is On The Line",
          "Democrats And Republicans In Dead Heat In New NBC News Poll",
          "Rep. Ted Lieu: “In America, The Law Is Applied Equally. No One Is Above The Law.”",
          "Republicans Push For A Constitutional Convention",
          "Sen. Leahy: If The Senate Doesn’t Repair Itself, ‘We Are In Deep Trouble In This Country’",
          "Puerto Rico's Power Knocked Out As Hurricane Fiona Approaches",
          "Abortion To Be Key Issue Ahead Of The Midterms",
          "NYC Mayor Adams: Bussing Migrants Is \"Inhumane And Anti-American\"",
          "Hobbs: Election Deniers Are ‘Dangerous' And 'Don't Understand How Elections Even Work’",
          "Newly Arriving Migrants Deceived By Misinformation From Abbott And DeSantis",
          "Family Of Transgender Child In Texas Speaks Out On Gov. Abbott’s Attacks",
          "President Biden, First Lady Arrive In London To Attend Funeral For The Queen",
          "Are Black Men The Key To Stacey Abrams Becoming Georgia's Next Governor?",
          "The Real World Consequences Of A Nationwide Abortion Ban",
          "DOJ Appeals Judge's Decision To Delay Criminal Investigation",
          "Massachusetts State Rep. On Migrants Sent To Martha's Vineyard",
          "Velshi: The British Empire Was Brutal. The Commonwealth Was A Consolation Prize.",
          "Watch The ReidOut Highlights: Sept. 16",
          "Watch All In With Chris Hayes Highlights: Sept. 16",
          "Watch The Beat With Ari Melber Highlights: Sept. 16",
          "DeSantis Takes Page From Autocrats' Playbook With Migrant Plane Stunt",
          "Trump Goal Of Discrediting Courts Plays Out In Mar-a-Lago Special Master Case",
          "Victims Of DeSantis' Cruel Migrant Plane Prank Appear To Have Law On Their Side",
          "DOJ Files Appeal In Trump Docs Case",
          "Mark Meadows Now Has 'Hot Potato' Of Culpability For Mar-a-Lago Docs Legal Expert Says",
          "DeSantis Migrant Stunt Reminiscent Of Deceptive ‘Reverse Freedom Rides’ From 60's",
          "DOJ Asks Appeals Court For Stay To Allow Investigation, Assessment Of Mar-a-Lago Docs",
          "New Reporting On The Trump Lies Leading Up To The Mar-a-Lago Search",
          "GOP Candidates Distance Themselves From Trump After Primary Wins",
          "Boston Children's Hospital Becomes Latest Target Of MAGA-Right Threats",
          "'Outrageous' 'Untethered': DOJ Vets Slam Judge's Ruling On Trump's Stolen Docs",
          "DOJ Corners Trump As 'Newspaper Clippings' Defense Shredded By Stolen Doc Photos",
          "'Barr Did The Bidding Of The President And Politicized The DOJ' Says Fmr. U.S. Attorney",
          "DeSantis, Abbott Using Migrants As Political Pawns | The Katie Phang Show",
          "China’s Xi Not On Board With Putin’s War In Ukraine | The Katie Phang Show",
          "Paul Butler: Judge Cannon ‘Partially Joining Donald Trump’s Defense Team’ | The Katie Phang Show",
          "Charlie Sykes: Desantis And Abbott Are Using ‘Theater Of Cruelty’",
          "‘DOJ Has No Option But To Appeal’: Brandon Van Grack",
          "Biden Moves To Reshape Courts With Diverse Judicial Nominations",
          "We Are Reaching A Breaking Point As A Country, Says Strategist",
          "Watch Morning Joe Highlights: September 16 | MSNBC",
          "Trump's Nightmare?: Feds Seize Another MAGA Insider's Phone As Jan. 6 Probe Escalates",
          "MTG Appears To Kick Activist In Video",
          "'The Trumpiest Thing That A Trump Judge Has Ever Written'",
          "Hillary Clinton: We Should All Be Treated Equally Before The Law",
          "In Warning Over Indictment, Trump Seems To See Himself As Bigger Than The Law",
          "Watch All In With Chris Hayes Highlights: Sept. 15",
          "Hillary Clinton: Abortion Bans 'Could Not Be More Serious And More Deadly'",
          "Joe: There Is A Border Crisis, But Political Human Trafficking Is Grotesque",
          "Watch The Last Word With Lawrence O’Donnell Highlights: Sept. 15",
          "Fetterman Moves On From Stroke With New Empathy And Renewed Disdain For GOP Cruelty",
          "Special Master Appointed In Trump Docs Case",
          "Reverse Freedom Rides: DeSantis GOP Stunt Has Been Attempted Before",
          "Trump Court Stacking Project Bears Fruit In Case Against DOJ Search",
          "GOP Governors Follow Shameful History With Cruel Stunt Abusing Migrants",
          "Massachusetts AG Candidate Blasts Gov. DeSantis’s ‘Political Stunt’",
          "Lawrence: Trump Has Poisoned The Federal Judiciary",
          "'Outrageous And Stupid': Legal Experts Excoriate Trump Judge's New Ruling",
          "Glenn Kirschner On Trump Investigations | Zerlina.",
          "DeSantis Takes Credit For Sending Migrants To Martha’s Vineyard In ‘Inhumane Political Stunt’",
          "Joyce Vance: Mar-a-Lago Investigation ‘Just Keeps Getting Worse’ For Trump",
          "‘Atrocity’: Former Federal Prosecutor On Trump Judge’s Ruling In Mar-a-Lago Case",
          "BREAKING: Judge Denies DOJ Request To Carve Out Access To Mar-a-Lago Docs, Appoints Special Master",
          "Watch #AOC Go After Rep. Higgins For How He Treated A #witness",
          "The Divide In The Republican Party Grows Deeper As Midterms Approach | ScreenShare",
          "Neal Katyal: Obstruction Case Against Trump Is ‘Very Strong’",
          "Herschel Walker Hits Warnock On Race In New Attack Ad | ScreenShare",
          "Trump Wanted To 'Bus And Dump' Migrants Into Democratic Cities Says Fmr. DHS Official",
          "Biden Administration Will Counter Hate-Fueled Violence With 'Every Tool Available'",
          "Jan. 6 Rioter Who Wore 'Camp Auschwitz' Sweatshirt Sentenced To Prison",
          "Russia’s Putin And China’s Xi Meet For First Time Since Ukraine Invasion",
          "DOJ Awaits Judge Cannon’s Ruling On Mar-a-Lago Documents",
          "Watch Morning Joe Highlights: September 15 | MSNBC",
          "New Texts Shed More Light On Welfare Scandal Involving Brett Favre",
          "DeSantis Flies Two Planes Full Of Migrants To Martha's Vineyard",
          "Elise Jordan: Graham Proceeding With Abortion Bill The Way He Did With Failed Presidential Run",
          "Biden's Job Approval Gets Boost In New Polling",
          "Trump Advisers Fear DOJ Probes More Expansive Than Publicly Known: Report",
          "Watch All In With Chris Hayes Highlights: Sept. 14",
          "Watch The Last Word With Lawrence O’Donnell Highlights: Sept. 14",
          "David Enrich On Why Trump Can't Find Top-Notch Lawyers | One-on-One With Stephanie Ruhle",
          "Brett Favre And The Fleecing Of America",
          "Jan. 6 Committee Gets Trove Of New Evidence",
          "'They Know What They're Fighting For': Ukraine Dominates Putin's Army",
          "Lawrence: Another One Of Trump's Lawyers Is In Very Serious Trouble",
          "What The FBI Seizing MyPillow CEO's Phone Tells Us About MAGA Extremism",
          "Trump Continues To Make Martyr Out Of Capitol Rioter",
          "Brett Favre And The Collapse Of Conservative Government In Mississippi",
          "Fascism Is On The Rise In Europe, Not Just In The U.S. | The Mehdi Hasan Show",
          "‘Outrageous’ That Trump Would Pardon Insurrectionists Says Rep. Lofgren",
          "FBI Serves MyPillow CEO Mike Lindell With Search Warrant",
          "Biden Announces Investment In Electric Vehicle Charging Stations",
          "Jeh Johnson: Trump Holding Onto Classified Docs Signals To Allies That ‘America Cannot Be Trusted.’",
          "Sen. Elizabeth Warren: Trump ‘Is Putting The Security Of The U.S. At Risk And He Must Be Stopped.’",
          "The Michigan GOP's Lies About Abortion",
          "Watch Morning Joe Highlights: September 14 | MSNBC",
          "John Fetterman Needs To Debate More Than Once, Says WaPo Editorial Board",
          "DC Police Officer Left With Scars After Jan. 6 Rioter Tased Him",
          "Joe: Sen. Graham Seemed To Put More Fuel On The Fire With Abortion Proposal",
          "Claire McCaskill: Mike Lindell Got A Little Piece Of Law Yesterday",
          "New Unsealed Parts Of Trump Affidavit Show Timeline On Surveillance Video Subpoena",
          "Russia In Secret Spent $300M To Influence Foreign Elections, Says U.S. Official",
          "Watch The Last Word With Lawrence O’Donnell Highlights: Sept. 13",
          "Republican Power Grab In The Judiciary Warps Midterm Election Dynamic",
          "Report: DOJ Takes Steps Not To Rush Trump Investigations",
          "Lindsey Graham Hands Democrats A Gift With Federal Abortion Ban Proposal",
          "Where Are The Lawyers Rushing To Represent Trump?",
          "Joy Reid: Lindsey Graham Has Now Said Midterms Are About Whether Women Are Going To Be Full Citizens",
          "‘Trump Has Attacked The Institutions Of Civil Society’: Expert On New Barr DOJ Allegations",
          "Klobuchar On The GOP Federal Abortion Ban: 'It’s Much Worse Than It Sounds'",
          "Montana Still Reeling GOP-Led Covid Policies | The Mehdi Hasan Show",
          "Former U.S. Attorney Berman Reveals How Trump Weaponized The DOJ",
          "DOJ Issues 40 Subpoenas In Just One Week | Zerlina.",
          "Could This Section Of The Constitution Keep Trump From A 2024 Bid? | The Mehdi Hasan Show",
          "Judge Unseals More Portions Of Mar-a-Lago Search Warrant Affidavit",
          "BREAKING: Judge Hands Down Guilty Verdicts To Two Jan. 6 Defendants",
          "Bill Gates On Why Artificial Intel Will Change Everything And What We Owe Africa | Melber Intv",
          "Joyce Vance: ‘If Berman's Tales Are Borne Out, They Are Very Serious.’",
          "Watch Morning Joe Highlights: September 13 | MSNBC",
          "National Debate Over Abortion At The Heart Of Michigan Midterms",
          "War Correspondent Returns Home To Document 'The Storm Is Here'",
          "How The Republican Party Came To Embrace Conspiracy",
          "Rep. Kinzinger: Trump Brought Heaps Of Fear Into The Republican Party",
          "Former U.S. Attorney: DOJ Pushed Us And Pushed Us On John Kerry",
          "Rep. Ryan Criticizes Challenger's Campaign: 'Dude Took The Whole Summer Off'",
          "Circles Close In On Highest Levels Of Government As DOJ Issues Dozens Of Subpoenas",
          "Watch Rachel Maddow Highlights: Sept. 12",
          "Watch The Last Word With Lawrence O’Donnell Highlights: Sept. 12",
          "Zelenskyy Has Choice Words For Putin As Ukraine Makes Remarkable Progress Repelling Russia",
          "How Trump Loyalists In The DOJ Pushed Prosecutors To Protect 'Individual-1'",
          "DOJ Issues 40 Subpoenas In One Week In Jan. 6 Probe",
          "Support For Putin's War Wavers On Russian State TV",
          "Former U.S. Attorney Details Trump, Barr Efforts To Corrupt DOJ With Political Agenda",
          "Lawrence: Trump Lawyers Respond To DOJ With Stunningly Childish Argument",
          "Chief Justice Confused By Questioning SCOTUS's Legitimacy After Roe Decision",
          "‘They Belong To The Country And People’: Legal Expert On Docs Trump’s Lawyers Say He Has Rights To",
          "Alaska Rep-Elect After Beating Sarah Palin: ‘No American Is My Enemy’",
          "Russian State TV Pundits Openly Question Ukraine War",
          "A Network Of Local Sheriffs Is Helping To Spread The 'Big Lie' | The Mehdi Hasan Show",
          "DOJ Subpoenas 40 Trump Associates Over Jan. 6 Investigation",
          "'Substantial Escalation' In Jan. 6 Probe As DOJ Seizes Phones From 'Top' Trump Aides",
          "Weissmann: We Either Have A System Where We’re All Accountable To Law Or We Don’t",
          "Jan 6th Committee Members Prepare To Work Until The Bitter End",
          "Putin Has Put Himself In A Terrible Box In Ukraine, Says Retired General",
          "Watch Morning Joe Highlights: September 12 | MSNBC",
          "How To Fight Back Against What Author Calls 'Broken News'",
          "Chances 'Very High' Trump Will Be Indicted, Says Former Lawyer",
          "George Will: I Think The Republican Party Will Regain Its Voice",
          "Reproductive Rights A Key Issue Ahead Of The Midterms",
          "Majority See MAGA GOP Threatening The Foundations Of Democracy, Polling Shows",
          "'Desperation For Power, Money': Author Charts Giuliani's Rise And 'Tragic Fall'",
          "President Biden Honors 9/11 Victims 21 Years After Attacks",
          "Russian Forces Retreat As Ukrainian Forces Advance",
          "Trump Asks Judge To Pass Cost Of “Special Master” To The American Taxpayer",
          "Rising Number Of Women Voters Raises More Questions For The Midterms",
          "Vice President Harris: 'I Wouldn’t Dare Tell The Department Of Justice What To Do'",
          "Federal Judge Rules Anti-HIV Medicine Is Unconstitutional",
          "Florida’s Election Police Unit Targets Formerly Imprisoned People",
          "Trump Faces A Deluge Of Legal Woes",
          "Tennessee Abortion Ban Creates Chaos And Confusion",
          "ADL Finds Hundreds Of Law Enforcement Officers In Far-Right Extremist Group",
          "The Future Of Abortion Rights In Michigan Will Be Decided By Voters In November",
          "President Biden Accepts Invitation To Attend Queen Elizabeth's Funeral",
          "The U.S. Faces A New Type Of Threat 21 Years After The 9/11 Attacks",
          "DHS Sec. Mayorkas On Threats At Home And Abroad As U.S. Marks 21 Years Since 9/11",
          "Biden Commemorates 21st Anniversary Of 9/11 Attacks",
          "Millions Could Again Face The Troubles If Northern Ireland Protocol Is Scrapped",
          "Investigations Into Trump’s Actions To Overturn The 2020 Election Widen",
          "Republicans Prepare For Voter Backlash Following Overturn Of Roe",
          "DOJ And National Security Experts Raise Concern Over Delaying Trump Mar-a-Lago Probe",
          "373 Members Of Law Enforcement Found On Oath Keepers Membership Rolls",
          "Velshi: Mixed Feelings About the Monarchy? Why You’re Not Alone. ",
          "Russia Pulls Out Troops From Areas Of Ukraine's Kharkiv Region",
          "Rep. Pramila Jayapal Links Rising Threats Against Lawmakers To GOP Rhetoric",
          "Kehinde Andrews: The Monarchy Represented The Racism That My Generation Felt",
          "Watch Alex Wagner Tonight Highlights: Sep. 9",
          "Watch All In With Chris Hayes Highlights: Sept. 9",
          "Queen's Passing, Monarchy's Legacy Could Push Tenuous Commonwealth Into Collapse",
          "LGBTQ Advocates Unwilling To Cede Ground On Rights To Extremist GOP Candidates",
          "Trump’s Legal Team Submit Their Proposed Picks For Special Master",
          "Expert To DOJ On Trump: Return An Indictment Against Someone Who's Been Criming In Light Of Day",
          "Trump, DOJ Each Propose Two Potential Special Master Candidates For Mar-a-Lago Documents",
          "Royal Expert: King Charles III Extended Olive Branch To Harry And Meghan. Will Rift Be Healed?",
          "The Monarchy And Colonialism | Zerlina.",
          "Texas Podcaster Ted Cruz's Failed Attempt To Troll California",
          "Why Trump Should Be Worried About DOJ's Probe Of His Post-Election Fundraising",
          "Stefanik 'Maintains A Separate Set Of Rules' For The Rich Says Challenger | The Katie Phang Show",
          "Michael Cohen: Bill Barr ‘Is A Coward’ | The Katie Phang Show",
          "GOP Plans Impeachment Of Biden Officials If They Win Back House | The Katie Phang Show",
          "Hot Button Cultural Issues Become Winning Topics For Democrats",
          "Trump Faces Monday Deadline To Respond To DOJ Filing",
          "Full Speech: King Charles III Promises ‘Lifelong Service’ After Death Of Queen Elizabeth II",
          "Watch Morning Joe Highlights: September 9 | MSNBC",
          "Republicans Out Of Touch With Where Most Americans Are, Says Senator",
          "NBC News Confirms Biden Will Attend Queen Elizabeth's Funeral",
          "Reproductive Rights Has Galvanized Michigan Voters, Says House Member",
          "Is There A Chance Steve Bannon Could Serve Time In Jail?",
          "Watch The Last Word With Lawrence O’Donnell Highlights: Sept. 8",
          "DOJ Turns To Trump's Post-Election Fundraising; Bannon Is Frog-Marched To Face The Music"
         ],
         "type": "scatter",
         "x": [
          -0.10719100000000001,
          -0.06847399999999995,
          -0.02049690721649484,
          0.0009545454545454646,
          -0.13885959595959596,
          0.01107938144329896,
          -0.01113434343434343,
          -0.010397959183673469,
          -0.007035353535353529,
          0.15922755102040817,
          -0.09290808080808083,
          -0.04166900000000001,
          -0.067438,
          0.036115306122449016,
          0.0032222222222222157,
          0.03425656565656564,
          -0.24521443298969062,
          -0.015476767676767672,
          -0.047377777777777776,
          -0.031169072164948446,
          -0.13186464646464643,
          0.009593814432989687,
          0.04711752577319587,
          -0.109684693877551,
          -0.1348765306122449,
          -0.01986767676767674,
          -0.097563,
          -0.158677,
          -0.055288000000000004,
          -0.13513699999999995,
          0.08239897959183676,
          -0.09726464646464647,
          -0.0761115789473684,
          0.005996969696969697,
          -0.008426804123711345,
          -0.23021276595744677,
          0.14186632653061224,
          -0.04412755102040816,
          -0.06372142857142857,
          0.008915151515151517,
          0.03726428571428571,
          -0.2451,
          -0.050329292929292925,
          -0.053121428571428576,
          0.023123000000000022,
          0.052751020408163284,
          -0.1902229166666666,
          -0.027861616161616174,
          -0.0027059999999999905,
          -0.06372499999999998,
          -0.12452653061224483,
          -0.07742395833333333,
          -0.0742268817204301,
          -0.08988969072164948,
          -0.06640404040404042,
          -0.1039458333333333,
          0.24156200000000008,
          0.14177499999999998,
          0.01439494949494949,
          -0.0786757894736842,
          -0.095394,
          -0.071415625,
          -0.07216836734693872,
          -0.078183,
          -0.057776767676767656,
          -0.044484536082474234,
          -0.09321818181818183,
          -0.08681734693877552,
          0.001205376344086019,
          -0.10274166666666668,
          -0.07408500000000001,
          -0.12966868686868685,
          -0.047955555555555564,
          -0.1859244897959183,
          -0.03912142857142858,
          -0.14388202247191012,
          -0.10820612244897962,
          -0.07182959183673471,
          0.01164387755102039,
          0.05237551020408162,
          -0.09943400000000004,
          0.06400729166666667,
          -0.10249700000000005,
          -0.07466363636363638,
          -0.010914999999999994,
          -0.03736868686868687,
          -0.06546868686868688,
          -0.0006520000000000142,
          -0.023515151515151538,
          -0.026965999999999997,
          -0.10410505050505056,
          -0.17534499999999995,
          -0.051474,
          0.07947979797979804,
          0.17207699999999998,
          0.012077999999999998,
          -0.04600909090909091,
          -0.034634343434343434,
          -0.16106899999999993,
          -0.1131969072164948,
          0.020448,
          0.08043645833333334,
          -0.058321,
          -0.1948690000000001,
          0.07035400000000001,
          -0.035844000000000015,
          -0.02048200000000001,
          -0.047532000000000026,
          -0.05338800000000001,
          0.03261100000000001,
          -0.12125300000000001,
          -0.11411182795698928,
          -0.069006,
          -0.024592000000000006,
          -0.11355699999999999,
          -0.03199285714285715,
          -0.10945099999999996,
          -0.024911999999999986,
          -0.3143649999999999,
          -0.11255050505050505,
          -0.14220899999999997,
          -0.149671,
          -0.042198,
          -0.046198989898989906,
          -0.023143000000000007,
          -0.10640199999999997,
          0.03685599999999998,
          0.04584599999999999,
          0.06816199999999997,
          -0.024686000000000003,
          -0.16734499999999997,
          -0.12796373626373625,
          -0.06583699999999998,
          -0.07198181818181819,
          -0.08261020408163267,
          -0.07870299999999998,
          -0.019726000000000004,
          -0.166367,
          0.045764285714285736,
          0.10252525252525256,
          -0.044501999999999986,
          0.010228000000000008,
          -0.10253200000000001,
          -0.04980900000000001,
          0.013434,
          -0.07810199999999998,
          -0.081516,
          -0.10036300000000001,
          0.011705050505050484,
          -0.12107979797979798,
          -0.08188799999999999,
          0.060876,
          -0.01942210526315789,
          0.037654999999999994,
          -0.06788199999999998,
          0.05258181818181817,
          0.026256999999999975,
          -0.14324,
          -0.11123608247422674,
          -0.02303299999999999,
          -0.02219199999999999,
          0.024178999999999996,
          -0.10342999999999998,
          0.11827399999999999,
          -0.11682700000000003,
          0.03899899999999999,
          -0.07949393939393942,
          -0.17108000000000004,
          0.021839000000000018,
          -0.03942499999999996,
          -0.07449896907216495,
          0.01624799999999998,
          0.02993092783505155,
          -0.035038383838383855,
          -0.10281734693877552,
          -0.33684799999999987,
          -0.2361202020202019,
          -0.04648780487804876,
          -0.21059799999999995,
          -0.009250999999999999,
          0.027245000000000016,
          -0.08512400000000003,
          0.008554545454545445,
          -0.18310200000000001,
          0.06675500000000001,
          -0.006770000000000005,
          -0.1574939999999999,
          -0.02492399999999999,
          -0.07179799999999997,
          0.04721800000000001,
          0.023306999999999998,
          -0.036969,
          0.29047999999999996,
          -0.033778,
          -0.098942,
          0.0009410000000000063,
          -0.07127878787878789,
          -0.14761499999999994,
          -0.111479,
          -0.12688599999999997,
          -0.09338899999999999,
          -0.178814,
          0.03044444444444443,
          -0.053329999999999995,
          -0.09751799999999995,
          0.10417938144329898,
          -0.011625000000000003,
          0.009745999999999982,
          -0.11214199999999995,
          -0.19526499999999994,
          -0.046789000000000004,
          -0.025349,
          -0.060730000000000034,
          -0.041164000000000006,
          -0.05865099999999998,
          0.06017899999999999,
          -0.034022,
          0.18501326530612247,
          -0.030777000000000006,
          -0.18317499999999998,
          -0.17662061855670105,
          -0.08330600000000002,
          -0.12031299999999998,
          0.04411500000000001,
          -0.15148800000000004,
          0.30140699999999987,
          -0.07337653061224489,
          -0.05950927835051546,
          -0.10627199999999998,
          -0.098415,
          -0.12615,
          -0.022455000000000013,
          -0.09318199999999999,
          0.003265,
          -0.08841999999999998,
          -0.06847500000000001,
          -0.06651499999999996,
          -0.004779000000000008,
          -0.16448099999999996,
          -0.09053399999999995,
          -0.095046,
          0.026157999999999983,
          0.009091000000000009,
          0.09779099999999996,
          -0.06646799999999999,
          -0.07572812500000001,
          -0.20013499999999998,
          -0.11485899999999999,
          -0.15710099999999996,
          -0.046863999999999996,
          0.0067730000000000125,
          -0.000911000000000004,
          -0.30820599999999987,
          -0.23249799999999998,
          -0.10142800000000002,
          0.003884999999999986,
          -0.181537,
          -0.026400999999999997,
          -0.16111099999999998,
          -0.19345299999999996,
          -0.15419600000000006,
          -0.030544,
          -0.20508282828282823,
          -0.20113571428571422,
          0.040604999999999995,
          -0.024244000000000022,
          0.0024149999999999905,
          0.044869000000000006,
          0.026595999999999998,
          -0.08479000000000005,
          -0.04041399999999998,
          0.069573,
          -0.186605,
          0.017717,
          -0.06506800000000004,
          -0.03465,
          -0.06075151515151516,
          -0.040753535353535375,
          0.021832999999999995,
          -0.081662,
          0.19990499999999997,
          -0.014135,
          -0.062208000000000006,
          0.010662000000000003,
          -0.086847,
          -0.05457600000000001,
          -0.024125,
          0.04947500000000003
         ],
         "xaxis": "x",
         "y": [
          1502,
          10450,
          5574,
          1040,
          5304,
          1462,
          9723,
          4443,
          3485,
          3873,
          2184,
          5283,
          3571,
          44261,
          3712,
          4418,
          5322,
          20690,
          11799,
          11425,
          10030,
          6916,
          9514,
          2420,
          1979,
          3159,
          2626,
          1536,
          9397,
          1286,
          5417,
          524,
          1851,
          6164,
          3933,
          1385,
          9428,
          2691,
          10555,
          24890,
          5451,
          4715,
          8430,
          1955,
          13446,
          16348,
          548,
          1705,
          3673,
          2129,
          1422,
          606,
          2850,
          754,
          24733,
          5723,
          2609,
          5348,
          3700,
          4243,
          4685,
          1929,
          1691,
          3631,
          1372,
          7603,
          28227,
          2337,
          3734,
          3057,
          4034,
          3151,
          645,
          2711,
          8256,
          2676,
          11960,
          953,
          2847,
          617,
          1413,
          304,
          522,
          876,
          935,
          369,
          10193,
          2349,
          1361,
          2374,
          492,
          2690,
          975,
          1782,
          1554,
          291,
          1339,
          1257,
          1102,
          2989,
          1933,
          2165,
          1016,
          5513,
          786,
          1367,
          1890,
          3662,
          6513,
          529,
          1352,
          5779,
          1000,
          4749,
          1876,
          6658,
          3565,
          2019,
          16048,
          2615,
          20780,
          2779,
          1556,
          2691,
          4039,
          1427,
          4094,
          862,
          1477,
          3114,
          3421,
          2842,
          3579,
          696,
          10315,
          4458,
          2199,
          420,
          6057,
          3488,
          1155,
          616,
          1538,
          930,
          935,
          13172,
          12114,
          4564,
          2852,
          9142,
          4695,
          3595,
          7614,
          1697,
          13897,
          4300,
          947,
          487,
          7812,
          1035,
          4110,
          3051,
          2349,
          869,
          1183,
          529,
          7795,
          3365,
          5263,
          2671,
          4001,
          2545,
          7013,
          19135,
          10571,
          2830,
          16998,
          4902,
          1768,
          4096,
          365,
          3693,
          1989,
          3486,
          4191,
          284,
          544,
          1028,
          5493,
          4296,
          1055,
          3450,
          2442,
          586,
          871,
          2684,
          3378,
          4215,
          2545,
          6061,
          2200,
          1033,
          10677,
          10694,
          5925,
          1223,
          4154,
          3651,
          384,
          1196,
          5015,
          9227,
          1742,
          1988,
          4474,
          13795,
          5211,
          5631,
          4240,
          1616,
          4148,
          8402,
          23153,
          10570,
          3643,
          2840,
          16701,
          9101,
          4329,
          24944,
          4409,
          5061,
          13354,
          2532,
          2401,
          5830,
          1776,
          624,
          2391,
          4926,
          470,
          1864,
          11457,
          2955,
          576,
          8453,
          681,
          7903,
          1426,
          1415,
          2411,
          1256,
          1173,
          493,
          611,
          1676,
          5143,
          7916,
          6015,
          4059,
          2546,
          8688,
          1785,
          1104,
          1686,
          7136,
          421,
          1687,
          2935,
          16471,
          4162,
          1136,
          438,
          18207,
          19024,
          2532,
          16853,
          6976,
          1168,
          11645,
          6477,
          1854,
          7925,
          1302,
          3986,
          2039,
          5674,
          1573
         ],
         "yaxis": "y2"
        }
       ],
       "layout": {
        "template": {
         "data": {
          "bar": [
           {
            "error_x": {
             "color": "#f2f5fa"
            },
            "error_y": {
             "color": "#f2f5fa"
            },
            "marker": {
             "line": {
              "color": "rgb(17,17,17)",
              "width": 0.5
             },
             "pattern": {
              "fillmode": "overlay",
              "size": 10,
              "solidity": 0.2
             }
            },
            "type": "bar"
           }
          ],
          "barpolar": [
           {
            "marker": {
             "line": {
              "color": "rgb(17,17,17)",
              "width": 0.5
             },
             "pattern": {
              "fillmode": "overlay",
              "size": 10,
              "solidity": 0.2
             }
            },
            "type": "barpolar"
           }
          ],
          "carpet": [
           {
            "aaxis": {
             "endlinecolor": "#A2B1C6",
             "gridcolor": "#506784",
             "linecolor": "#506784",
             "minorgridcolor": "#506784",
             "startlinecolor": "#A2B1C6"
            },
            "baxis": {
             "endlinecolor": "#A2B1C6",
             "gridcolor": "#506784",
             "linecolor": "#506784",
             "minorgridcolor": "#506784",
             "startlinecolor": "#A2B1C6"
            },
            "type": "carpet"
           }
          ],
          "choropleth": [
           {
            "colorbar": {
             "outlinewidth": 0,
             "ticks": ""
            },
            "type": "choropleth"
           }
          ],
          "contour": [
           {
            "colorbar": {
             "outlinewidth": 0,
             "ticks": ""
            },
            "colorscale": [
             [
              0,
              "#0d0887"
             ],
             [
              0.1111111111111111,
              "#46039f"
             ],
             [
              0.2222222222222222,
              "#7201a8"
             ],
             [
              0.3333333333333333,
              "#9c179e"
             ],
             [
              0.4444444444444444,
              "#bd3786"
             ],
             [
              0.5555555555555556,
              "#d8576b"
             ],
             [
              0.6666666666666666,
              "#ed7953"
             ],
             [
              0.7777777777777778,
              "#fb9f3a"
             ],
             [
              0.8888888888888888,
              "#fdca26"
             ],
             [
              1,
              "#f0f921"
             ]
            ],
            "type": "contour"
           }
          ],
          "contourcarpet": [
           {
            "colorbar": {
             "outlinewidth": 0,
             "ticks": ""
            },
            "type": "contourcarpet"
           }
          ],
          "heatmap": [
           {
            "colorbar": {
             "outlinewidth": 0,
             "ticks": ""
            },
            "colorscale": [
             [
              0,
              "#0d0887"
             ],
             [
              0.1111111111111111,
              "#46039f"
             ],
             [
              0.2222222222222222,
              "#7201a8"
             ],
             [
              0.3333333333333333,
              "#9c179e"
             ],
             [
              0.4444444444444444,
              "#bd3786"
             ],
             [
              0.5555555555555556,
              "#d8576b"
             ],
             [
              0.6666666666666666,
              "#ed7953"
             ],
             [
              0.7777777777777778,
              "#fb9f3a"
             ],
             [
              0.8888888888888888,
              "#fdca26"
             ],
             [
              1,
              "#f0f921"
             ]
            ],
            "type": "heatmap"
           }
          ],
          "heatmapgl": [
           {
            "colorbar": {
             "outlinewidth": 0,
             "ticks": ""
            },
            "colorscale": [
             [
              0,
              "#0d0887"
             ],
             [
              0.1111111111111111,
              "#46039f"
             ],
             [
              0.2222222222222222,
              "#7201a8"
             ],
             [
              0.3333333333333333,
              "#9c179e"
             ],
             [
              0.4444444444444444,
              "#bd3786"
             ],
             [
              0.5555555555555556,
              "#d8576b"
             ],
             [
              0.6666666666666666,
              "#ed7953"
             ],
             [
              0.7777777777777778,
              "#fb9f3a"
             ],
             [
              0.8888888888888888,
              "#fdca26"
             ],
             [
              1,
              "#f0f921"
             ]
            ],
            "type": "heatmapgl"
           }
          ],
          "histogram": [
           {
            "marker": {
             "pattern": {
              "fillmode": "overlay",
              "size": 10,
              "solidity": 0.2
             }
            },
            "type": "histogram"
           }
          ],
          "histogram2d": [
           {
            "colorbar": {
             "outlinewidth": 0,
             "ticks": ""
            },
            "colorscale": [
             [
              0,
              "#0d0887"
             ],
             [
              0.1111111111111111,
              "#46039f"
             ],
             [
              0.2222222222222222,
              "#7201a8"
             ],
             [
              0.3333333333333333,
              "#9c179e"
             ],
             [
              0.4444444444444444,
              "#bd3786"
             ],
             [
              0.5555555555555556,
              "#d8576b"
             ],
             [
              0.6666666666666666,
              "#ed7953"
             ],
             [
              0.7777777777777778,
              "#fb9f3a"
             ],
             [
              0.8888888888888888,
              "#fdca26"
             ],
             [
              1,
              "#f0f921"
             ]
            ],
            "type": "histogram2d"
           }
          ],
          "histogram2dcontour": [
           {
            "colorbar": {
             "outlinewidth": 0,
             "ticks": ""
            },
            "colorscale": [
             [
              0,
              "#0d0887"
             ],
             [
              0.1111111111111111,
              "#46039f"
             ],
             [
              0.2222222222222222,
              "#7201a8"
             ],
             [
              0.3333333333333333,
              "#9c179e"
             ],
             [
              0.4444444444444444,
              "#bd3786"
             ],
             [
              0.5555555555555556,
              "#d8576b"
             ],
             [
              0.6666666666666666,
              "#ed7953"
             ],
             [
              0.7777777777777778,
              "#fb9f3a"
             ],
             [
              0.8888888888888888,
              "#fdca26"
             ],
             [
              1,
              "#f0f921"
             ]
            ],
            "type": "histogram2dcontour"
           }
          ],
          "mesh3d": [
           {
            "colorbar": {
             "outlinewidth": 0,
             "ticks": ""
            },
            "type": "mesh3d"
           }
          ],
          "parcoords": [
           {
            "line": {
             "colorbar": {
              "outlinewidth": 0,
              "ticks": ""
             }
            },
            "type": "parcoords"
           }
          ],
          "pie": [
           {
            "automargin": true,
            "type": "pie"
           }
          ],
          "scatter": [
           {
            "marker": {
             "line": {
              "color": "#283442"
             }
            },
            "type": "scatter"
           }
          ],
          "scatter3d": [
           {
            "line": {
             "colorbar": {
              "outlinewidth": 0,
              "ticks": ""
             }
            },
            "marker": {
             "colorbar": {
              "outlinewidth": 0,
              "ticks": ""
             }
            },
            "type": "scatter3d"
           }
          ],
          "scattercarpet": [
           {
            "marker": {
             "colorbar": {
              "outlinewidth": 0,
              "ticks": ""
             }
            },
            "type": "scattercarpet"
           }
          ],
          "scattergeo": [
           {
            "marker": {
             "colorbar": {
              "outlinewidth": 0,
              "ticks": ""
             }
            },
            "type": "scattergeo"
           }
          ],
          "scattergl": [
           {
            "marker": {
             "line": {
              "color": "#283442"
             }
            },
            "type": "scattergl"
           }
          ],
          "scattermapbox": [
           {
            "marker": {
             "colorbar": {
              "outlinewidth": 0,
              "ticks": ""
             }
            },
            "type": "scattermapbox"
           }
          ],
          "scatterpolar": [
           {
            "marker": {
             "colorbar": {
              "outlinewidth": 0,
              "ticks": ""
             }
            },
            "type": "scatterpolar"
           }
          ],
          "scatterpolargl": [
           {
            "marker": {
             "colorbar": {
              "outlinewidth": 0,
              "ticks": ""
             }
            },
            "type": "scatterpolargl"
           }
          ],
          "scatterternary": [
           {
            "marker": {
             "colorbar": {
              "outlinewidth": 0,
              "ticks": ""
             }
            },
            "type": "scatterternary"
           }
          ],
          "surface": [
           {
            "colorbar": {
             "outlinewidth": 0,
             "ticks": ""
            },
            "colorscale": [
             [
              0,
              "#0d0887"
             ],
             [
              0.1111111111111111,
              "#46039f"
             ],
             [
              0.2222222222222222,
              "#7201a8"
             ],
             [
              0.3333333333333333,
              "#9c179e"
             ],
             [
              0.4444444444444444,
              "#bd3786"
             ],
             [
              0.5555555555555556,
              "#d8576b"
             ],
             [
              0.6666666666666666,
              "#ed7953"
             ],
             [
              0.7777777777777778,
              "#fb9f3a"
             ],
             [
              0.8888888888888888,
              "#fdca26"
             ],
             [
              1,
              "#f0f921"
             ]
            ],
            "type": "surface"
           }
          ],
          "table": [
           {
            "cells": {
             "fill": {
              "color": "#506784"
             },
             "line": {
              "color": "rgb(17,17,17)"
             }
            },
            "header": {
             "fill": {
              "color": "#2a3f5f"
             },
             "line": {
              "color": "rgb(17,17,17)"
             }
            },
            "type": "table"
           }
          ]
         },
         "layout": {
          "annotationdefaults": {
           "arrowcolor": "#f2f5fa",
           "arrowhead": 0,
           "arrowwidth": 1
          },
          "autotypenumbers": "strict",
          "coloraxis": {
           "colorbar": {
            "outlinewidth": 0,
            "ticks": ""
           }
          },
          "colorscale": {
           "diverging": [
            [
             0,
             "#8e0152"
            ],
            [
             0.1,
             "#c51b7d"
            ],
            [
             0.2,
             "#de77ae"
            ],
            [
             0.3,
             "#f1b6da"
            ],
            [
             0.4,
             "#fde0ef"
            ],
            [
             0.5,
             "#f7f7f7"
            ],
            [
             0.6,
             "#e6f5d0"
            ],
            [
             0.7,
             "#b8e186"
            ],
            [
             0.8,
             "#7fbc41"
            ],
            [
             0.9,
             "#4d9221"
            ],
            [
             1,
             "#276419"
            ]
           ],
           "sequential": [
            [
             0,
             "#0d0887"
            ],
            [
             0.1111111111111111,
             "#46039f"
            ],
            [
             0.2222222222222222,
             "#7201a8"
            ],
            [
             0.3333333333333333,
             "#9c179e"
            ],
            [
             0.4444444444444444,
             "#bd3786"
            ],
            [
             0.5555555555555556,
             "#d8576b"
            ],
            [
             0.6666666666666666,
             "#ed7953"
            ],
            [
             0.7777777777777778,
             "#fb9f3a"
            ],
            [
             0.8888888888888888,
             "#fdca26"
            ],
            [
             1,
             "#f0f921"
            ]
           ],
           "sequentialminus": [
            [
             0,
             "#0d0887"
            ],
            [
             0.1111111111111111,
             "#46039f"
            ],
            [
             0.2222222222222222,
             "#7201a8"
            ],
            [
             0.3333333333333333,
             "#9c179e"
            ],
            [
             0.4444444444444444,
             "#bd3786"
            ],
            [
             0.5555555555555556,
             "#d8576b"
            ],
            [
             0.6666666666666666,
             "#ed7953"
            ],
            [
             0.7777777777777778,
             "#fb9f3a"
            ],
            [
             0.8888888888888888,
             "#fdca26"
            ],
            [
             1,
             "#f0f921"
            ]
           ]
          },
          "colorway": [
           "#636efa",
           "#EF553B",
           "#00cc96",
           "#ab63fa",
           "#FFA15A",
           "#19d3f3",
           "#FF6692",
           "#B6E880",
           "#FF97FF",
           "#FECB52"
          ],
          "font": {
           "color": "#f2f5fa"
          },
          "geo": {
           "bgcolor": "rgb(17,17,17)",
           "lakecolor": "rgb(17,17,17)",
           "landcolor": "rgb(17,17,17)",
           "showlakes": true,
           "showland": true,
           "subunitcolor": "#506784"
          },
          "hoverlabel": {
           "align": "left"
          },
          "hovermode": "closest",
          "mapbox": {
           "style": "dark"
          },
          "paper_bgcolor": "rgb(17,17,17)",
          "plot_bgcolor": "rgb(17,17,17)",
          "polar": {
           "angularaxis": {
            "gridcolor": "#506784",
            "linecolor": "#506784",
            "ticks": ""
           },
           "bgcolor": "rgb(17,17,17)",
           "radialaxis": {
            "gridcolor": "#506784",
            "linecolor": "#506784",
            "ticks": ""
           }
          },
          "scene": {
           "xaxis": {
            "backgroundcolor": "rgb(17,17,17)",
            "gridcolor": "#506784",
            "gridwidth": 2,
            "linecolor": "#506784",
            "showbackground": true,
            "ticks": "",
            "zerolinecolor": "#C8D4E3"
           },
           "yaxis": {
            "backgroundcolor": "rgb(17,17,17)",
            "gridcolor": "#506784",
            "gridwidth": 2,
            "linecolor": "#506784",
            "showbackground": true,
            "ticks": "",
            "zerolinecolor": "#C8D4E3"
           },
           "zaxis": {
            "backgroundcolor": "rgb(17,17,17)",
            "gridcolor": "#506784",
            "gridwidth": 2,
            "linecolor": "#506784",
            "showbackground": true,
            "ticks": "",
            "zerolinecolor": "#C8D4E3"
           }
          },
          "shapedefaults": {
           "line": {
            "color": "#f2f5fa"
           }
          },
          "sliderdefaults": {
           "bgcolor": "#C8D4E3",
           "bordercolor": "rgb(17,17,17)",
           "borderwidth": 1,
           "tickwidth": 0
          },
          "ternary": {
           "aaxis": {
            "gridcolor": "#506784",
            "linecolor": "#506784",
            "ticks": ""
           },
           "baxis": {
            "gridcolor": "#506784",
            "linecolor": "#506784",
            "ticks": ""
           },
           "bgcolor": "rgb(17,17,17)",
           "caxis": {
            "gridcolor": "#506784",
            "linecolor": "#506784",
            "ticks": ""
           }
          },
          "title": {
           "x": 0.05
          },
          "updatemenudefaults": {
           "bgcolor": "#506784",
           "borderwidth": 0
          },
          "xaxis": {
           "automargin": true,
           "gridcolor": "#283442",
           "linecolor": "#506784",
           "ticks": "",
           "title": {
            "standoff": 15
           },
           "zerolinecolor": "#283442",
           "zerolinewidth": 2
          },
          "yaxis": {
           "automargin": true,
           "gridcolor": "#283442",
           "linecolor": "#506784",
           "ticks": "",
           "title": {
            "standoff": 15
           },
           "zerolinecolor": "#283442",
           "zerolinewidth": 2
          }
         }
        },
        "title": {
         "text": "<b>Youtube View & Like Counts VS Sentiment Scores<b>"
        },
        "xaxis": {
         "anchor": "y",
         "domain": [
          0,
          0.94
         ],
         "title": {
          "text": "Sentiment Score"
         }
        },
        "yaxis": {
         "anchor": "x",
         "domain": [
          0,
          1
         ],
         "title": {
          "text": "View Counts"
         }
        },
        "yaxis2": {
         "anchor": "x",
         "overlaying": "y",
         "side": "right",
         "title": {
          "text": "Like Counts"
         }
        }
       }
      }
     },
     "metadata": {},
     "output_type": "display_data"
    }
   ],
   "source": [
    "from re import template\n",
    "\n",
    "\n",
    "fig = make_subplots(specs=[[{'secondary_y': True}]])\n",
    "\n",
    "fig.add_trace(\n",
    "        go.Scatter(\n",
    "        x=video_comp_sentiments['avg_comp_sentiment'],\n",
    "        y=video_comp_sentiments['vid_viewcount'],\n",
    "        name='View Count',\n",
    "        mode='markers',\n",
    "        marker_color='Blue',\n",
    "        text=video_comp_sentiments['vid_title'],\n",
    "        hovertemplate='<b>%{text}</b> <br>Sentiment Value: %{x} <br>View Count: %{y}'),\n",
    "        secondary_y=False\n",
    ")\n",
    "\n",
    "fig.add_trace(go.Scatter(\n",
    "    x=video_comp_sentiments['avg_comp_sentiment'],\n",
    "    y=video_comp_sentiments['vid_likecount'],\n",
    "    name='Like Count',\n",
    "    mode='markers',\n",
    "    marker_color='Red',\n",
    "    text=video_comp_sentiments['vid_title'],\n",
    "    hovertemplate='<b>%{text}</b> <br>Sentiment Value: %{x} <br>Like Count: %{y}'),\n",
    "    secondary_y=True\n",
    ")\n",
    "\n",
    "fig.update_layout(\n",
    "    title=\"<b>Youtube View & Like Counts VS Sentiment Scores<b>\",\n",
    "    xaxis_title=\"Sentiment Score\",\n",
    "    template='plotly_dark'\n",
    ")\n",
    "\n",
    "fig.update_yaxes(title_text=\"View Counts\", secondary_y=False)\n",
    "fig.update_yaxes(title_text=\"Like Counts\", secondary_y=True)\n",
    "\n",
    "fig.show(renderer='vscode')\n",
    "\n",
    "pio.write_html(fig, file='index.html', auto_open=True)"
   ]
  },
  {
   "cell_type": "code",
   "execution_count": 71,
   "metadata": {},
   "outputs": [
    {
     "data": {
      "image/svg+xml": "<svg class=\"main-svg\" xmlns=\"http://www.w3.org/2000/svg\" xmlns:xlink=\"http://www.w3.org/1999/xlink\" width=\"700\" height=\"500\" style=\"\" viewBox=\"0 0 700 500\"><rect x=\"0\" y=\"0\" width=\"700\" height=\"500\" style=\"fill: rgb(255, 255, 255); fill-opacity: 1;\"/><defs id=\"defs-84685b\"><g class=\"clips\"><clipPath id=\"clip84685bxyplot\" class=\"plotclip\"><rect width=\"454.96\" height=\"320\"/></clipPath><clipPath id=\"clip84685bxy2plot\" class=\"plotclip\"><rect width=\"454.96\" height=\"320\"/></clipPath><clipPath class=\"axesclip\" id=\"clip84685bx\"><rect x=\"80\" y=\"0\" width=\"454.96\" height=\"500\"/></clipPath><clipPath class=\"axesclip\" id=\"clip84685by\"><rect x=\"0\" y=\"100\" width=\"700\" height=\"320\"/></clipPath><clipPath class=\"axesclip\" id=\"clip84685bxy\"><rect x=\"80\" y=\"100\" width=\"454.96\" height=\"320\"/></clipPath><clipPath class=\"axesclip\" id=\"clip84685by2\"><rect x=\"0\" y=\"100\" width=\"700\" height=\"320\"/></clipPath><clipPath class=\"axesclip\" id=\"clip84685bxy2\"><rect x=\"80\" y=\"100\" width=\"454.96\" height=\"320\"/></clipPath></g><g class=\"gradients\"/><g class=\"patterns\"/></defs><g class=\"bglayer\"><rect class=\"bg\" x=\"80\" y=\"100\" width=\"454.96\" height=\"320\" style=\"fill: rgb(229, 236, 246); fill-opacity: 1; stroke-width: 0;\"/></g><g class=\"layer-below\"><g class=\"imagelayer\"/><g class=\"shapelayer\"/></g><g class=\"cartesianlayer\"><g class=\"subplot xy\"><g class=\"layer-subplot\"><g class=\"shapelayer\"/><g class=\"imagelayer\"/></g><g class=\"gridlayer\"><g class=\"x\"><path class=\"xgrid crisp\" transform=\"translate(192.68,0)\" d=\"M0,100v320\" style=\"stroke: rgb(255, 255, 255); stroke-opacity: 1; stroke-width: 1px;\"/><path class=\"xgrid crisp\" transform=\"translate(444.6,0)\" d=\"M0,100v320\" style=\"stroke: rgb(255, 255, 255); stroke-opacity: 1; stroke-width: 1px;\"/></g><g class=\"y\"><path class=\"ygrid crisp\" transform=\"translate(0,324.53999999999996)\" d=\"M80,0h454.96\" style=\"stroke: rgb(255, 255, 255); stroke-opacity: 1; stroke-width: 1px;\"/><path class=\"ygrid crisp\" transform=\"translate(0,247.31)\" d=\"M80,0h454.96\" style=\"stroke: rgb(255, 255, 255); stroke-opacity: 1; stroke-width: 1px;\"/><path class=\"ygrid crisp\" transform=\"translate(0,170.09)\" d=\"M80,0h454.96\" style=\"stroke: rgb(255, 255, 255); stroke-opacity: 1; stroke-width: 1px;\"/></g><g class=\"y2\"><path class=\"y2grid crisp\" transform=\"translate(0,338.28)\" d=\"M80,0h454.96\" style=\"stroke: rgb(255, 255, 255); stroke-opacity: 1; stroke-width: 1px;\"/><path class=\"y2grid crisp\" transform=\"translate(0,274.49)\" d=\"M80,0h454.96\" style=\"stroke: rgb(255, 255, 255); stroke-opacity: 1; stroke-width: 1px;\"/><path class=\"y2grid crisp\" transform=\"translate(0,210.70999999999998)\" d=\"M80,0h454.96\" style=\"stroke: rgb(255, 255, 255); stroke-opacity: 1; stroke-width: 1px;\"/><path class=\"y2grid crisp\" transform=\"translate(0,146.93)\" d=\"M80,0h454.96\" style=\"stroke: rgb(255, 255, 255); stroke-opacity: 1; stroke-width: 1px;\"/></g></g><g class=\"zerolinelayer\"><path class=\"xzl zl crisp\" transform=\"translate(318.64,0)\" d=\"M0,100v320\" style=\"stroke: rgb(255, 255, 255); stroke-opacity: 1; stroke-width: 2px;\"/><path class=\"yzl zl crisp\" transform=\"translate(0,401.77)\" d=\"M80,0h454.96\" style=\"stroke: rgb(255, 255, 255); stroke-opacity: 1; stroke-width: 2px;\"/><path class=\"y2zl zl crisp\" transform=\"translate(0,402.06)\" d=\"M80,0h454.96\" style=\"stroke: rgb(255, 255, 255); stroke-opacity: 1; stroke-width: 2px;\"/></g><path class=\"xlines-below\"/><path class=\"ylines-below\"/><g class=\"overlines-below\"><path class=\"xy2-x\"/><path class=\"xy2-y\"/></g><g class=\"xaxislayer-below\"/><g class=\"yaxislayer-below\"/><g class=\"overaxes-below\"><g class=\"xy2-x\"/><g class=\"xy2-y\"/></g><g class=\"plot\" transform=\"translate(80,100)\" clip-path=\"url(#clip84685bxyplot)\"><g class=\"scatterlayer mlayer\"><g class=\"trace scatter traceb21f70\" style=\"stroke-miterlimit: 2; opacity: 1;\"><g class=\"fills\"/><g class=\"errorbars\"/><g class=\"lines\"/><g class=\"points\"><path class=\"point\" transform=\"translate(171.13,294.8)\" d=\"M3,0A3,3 0 1,1 0,-3A3,3 0 0,1 3,0Z\" style=\"opacity: 1; stroke-width: 0px; fill: rgb(0, 0, 255); fill-opacity: 1;\"/><path class=\"point\" transform=\"translate(195.52,245.67)\" d=\"M3,0A3,3 0 1,1 0,-3A3,3 0 0,1 3,0Z\" style=\"opacity: 1; stroke-width: 0px; fill: rgb(0, 0, 255); fill-opacity: 1;\"/><path class=\"point\" transform=\"translate(225.73,274.18)\" d=\"M3,0A3,3 0 1,1 0,-3A3,3 0 0,1 3,0Z\" style=\"opacity: 1; stroke-width: 0px; fill: rgb(0, 0, 255); fill-opacity: 1;\"/><path class=\"point\" transform=\"translate(239.24,296.24)\" d=\"M3,0A3,3 0 1,1 0,-3A3,3 0 0,1 3,0Z\" style=\"opacity: 1; stroke-width: 0px; fill: rgb(0, 0, 255); fill-opacity: 1;\"/><path class=\"point\" transform=\"translate(151.19,269.85)\" d=\"M3,0A3,3 0 1,1 0,-3A3,3 0 0,1 3,0Z\" style=\"opacity: 1; stroke-width: 0px; fill: rgb(0, 0, 255); fill-opacity: 1;\"/><path class=\"point\" transform=\"translate(245.62,292.69)\" d=\"M3,0A3,3 0 1,1 0,-3A3,3 0 0,1 3,0Z\" style=\"opacity: 1; stroke-width: 0px; fill: rgb(0, 0, 255); fill-opacity: 1;\"/><path class=\"point\" transform=\"translate(231.63,228.42)\" d=\"M3,0A3,3 0 1,1 0,-3A3,3 0 0,1 3,0Z\" style=\"opacity: 1; stroke-width: 0px; fill: rgb(0, 0, 255); fill-opacity: 1;\"/><path class=\"point\" transform=\"translate(232.09,272.15)\" d=\"M3,0A3,3 0 1,1 0,-3A3,3 0 0,1 3,0Z\" style=\"opacity: 1; stroke-width: 0px; fill: rgb(0, 0, 255); fill-opacity: 1;\"/><path class=\"point\" transform=\"translate(234.21,274.82)\" d=\"M3,0A3,3 0 1,1 0,-3A3,3 0 0,1 3,0Z\" style=\"opacity: 1; stroke-width: 0px; fill: rgb(0, 0, 255); fill-opacity: 1;\"/><path class=\"point\" transform=\"translate(338.92,275.75)\" d=\"M3,0A3,3 0 1,1 0,-3A3,3 0 0,1 3,0Z\" style=\"opacity: 1; stroke-width: 0px; fill: rgb(0, 0, 255); fill-opacity: 1;\"/><path class=\"point\" transform=\"translate(180.13,286.34)\" d=\"M3,0A3,3 0 1,1 0,-3A3,3 0 0,1 3,0Z\" style=\"opacity: 1; stroke-width: 0px; fill: rgb(0, 0, 255); fill-opacity: 1;\"/><path class=\"point\" transform=\"translate(212.4,264.47)\" d=\"M3,0A3,3 0 1,1 0,-3A3,3 0 0,1 3,0Z\" style=\"opacity: 1; stroke-width: 0px; fill: rgb(0, 0, 255); fill-opacity: 1;\"/><path class=\"point\" transform=\"translate(196.17,277.58)\" d=\"M3,0A3,3 0 1,1 0,-3A3,3 0 0,1 3,0Z\" style=\"opacity: 1; stroke-width: 0px; fill: rgb(0, 0, 255); fill-opacity: 1;\"/><path class=\"point\" transform=\"translate(261.39,104.91)\" d=\"M3,0A3,3 0 1,1 0,-3A3,3 0 0,1 3,0Z\" style=\"opacity: 1; stroke-width: 0px; fill: rgb(0, 0, 255); fill-opacity: 1;\"/><path class=\"point\" transform=\"translate(240.67,275.49)\" d=\"M3,0A3,3 0 1,1 0,-3A3,3 0 0,1 3,0Z\" style=\"opacity: 1; stroke-width: 0px; fill: rgb(0, 0, 255); fill-opacity: 1;\"/><path class=\"point\" transform=\"translate(260.21,271.11)\" d=\"M3,0A3,3 0 1,1 0,-3A3,3 0 0,1 3,0Z\" style=\"opacity: 1; stroke-width: 0px; fill: rgb(0, 0, 255); fill-opacity: 1;\"/><path class=\"point\" transform=\"translate(84.21,258.93)\" d=\"M3,0A3,3 0 1,1 0,-3A3,3 0 0,1 3,0Z\" style=\"opacity: 1; stroke-width: 0px; fill: rgb(0, 0, 255); fill-opacity: 1;\"/><path class=\"point\" transform=\"translate(228.89,170.25)\" d=\"M3,0A3,3 0 1,1 0,-3A3,3 0 0,1 3,0Z\" style=\"opacity: 1; stroke-width: 0px; fill: rgb(0, 0, 255); fill-opacity: 1;\"/><path class=\"point\" transform=\"translate(208.8,234.58)\" d=\"M3,0A3,3 0 1,1 0,-3A3,3 0 0,1 3,0Z\" style=\"opacity: 1; stroke-width: 0px; fill: rgb(0, 0, 255); fill-opacity: 1;\"/><path class=\"point\" transform=\"translate(219.01,227.53)\" d=\"M3,0A3,3 0 1,1 0,-3A3,3 0 0,1 3,0Z\" style=\"opacity: 1; stroke-width: 0px; fill: rgb(0, 0, 255); fill-opacity: 1;\"/><path class=\"point\" transform=\"translate(155.59,224.12)\" d=\"M3,0A3,3 0 1,1 0,-3A3,3 0 0,1 3,0Z\" style=\"opacity: 1; stroke-width: 0px; fill: rgb(0, 0, 255); fill-opacity: 1;\"/><path class=\"point\" transform=\"translate(244.68,237.68)\" d=\"M3,0A3,3 0 1,1 0,-3A3,3 0 0,1 3,0Z\" style=\"opacity: 1; stroke-width: 0px; fill: rgb(0, 0, 255); fill-opacity: 1;\"/><path class=\"point\" transform=\"translate(268.31,216.67)\" d=\"M3,0A3,3 0 1,1 0,-3A3,3 0 0,1 3,0Z\" style=\"opacity: 1; stroke-width: 0px; fill: rgb(0, 0, 255); fill-opacity: 1;\"/><path class=\"point\" transform=\"translate(169.56,281.81)\" d=\"M3,0A3,3 0 1,1 0,-3A3,3 0 0,1 3,0Z\" style=\"opacity: 1; stroke-width: 0px; fill: rgb(0, 0, 255); fill-opacity: 1;\"/><path class=\"point\" transform=\"translate(153.7,285.86)\" d=\"M3,0A3,3 0 1,1 0,-3A3,3 0 0,1 3,0Z\" style=\"opacity: 1; stroke-width: 0px; fill: rgb(0, 0, 255); fill-opacity: 1;\"/><path class=\"point\" transform=\"translate(226.13,272.36)\" d=\"M3,0A3,3 0 1,1 0,-3A3,3 0 0,1 3,0Z\" style=\"opacity: 1; stroke-width: 0px; fill: rgb(0, 0, 255); fill-opacity: 1;\"/><path class=\"point\" transform=\"translate(177.2,283.13)\" d=\"M3,0A3,3 0 1,1 0,-3A3,3 0 0,1 3,0Z\" style=\"opacity: 1; stroke-width: 0px; fill: rgb(0, 0, 255); fill-opacity: 1;\"/><path class=\"point\" transform=\"translate(138.71,289.48)\" d=\"M3,0A3,3 0 1,1 0,-3A3,3 0 0,1 3,0Z\" style=\"opacity: 1; stroke-width: 0px; fill: rgb(0, 0, 255); fill-opacity: 1;\"/><path class=\"point\" transform=\"translate(203.82,259.91)\" d=\"M3,0A3,3 0 1,1 0,-3A3,3 0 0,1 3,0Z\" style=\"opacity: 1; stroke-width: 0px; fill: rgb(0, 0, 255); fill-opacity: 1;\"/><path class=\"point\" transform=\"translate(153.53,295.64)\" d=\"M3,0A3,3 0 1,1 0,-3A3,3 0 0,1 3,0Z\" style=\"opacity: 1; stroke-width: 0px; fill: rgb(0, 0, 255); fill-opacity: 1;\"/><path class=\"point\" transform=\"translate(290.53,245.25)\" d=\"M3,0A3,3 0 1,1 0,-3A3,3 0 0,1 3,0Z\" style=\"opacity: 1; stroke-width: 0px; fill: rgb(0, 0, 255); fill-opacity: 1;\"/><path class=\"point\" transform=\"translate(177.38,298.26)\" d=\"M3,0A3,3 0 1,1 0,-3A3,3 0 0,1 3,0Z\" style=\"opacity: 1; stroke-width: 0px; fill: rgb(0, 0, 255); fill-opacity: 1;\"/><path class=\"point\" transform=\"translate(190.71,287.53)\" d=\"M3,0A3,3 0 1,1 0,-3A3,3 0 0,1 3,0Z\" style=\"opacity: 1; stroke-width: 0px; fill: rgb(0, 0, 255); fill-opacity: 1;\"/><path class=\"point\" transform=\"translate(242.42,247.99)\" d=\"M3,0A3,3 0 1,1 0,-3A3,3 0 0,1 3,0Z\" style=\"opacity: 1; stroke-width: 0px; fill: rgb(0, 0, 255); fill-opacity: 1;\"/><path class=\"point\" transform=\"translate(233.33,249.62)\" d=\"M3,0A3,3 0 1,1 0,-3A3,3 0 0,1 3,0Z\" style=\"opacity: 1; stroke-width: 0px; fill: rgb(0, 0, 255); fill-opacity: 1;\"/><path class=\"point\" transform=\"translate(93.66,287.01)\" d=\"M3,0A3,3 0 1,1 0,-3A3,3 0 0,1 3,0Z\" style=\"opacity: 1; stroke-width: 0px; fill: rgb(0, 0, 255); fill-opacity: 1;\"/><path class=\"point\" transform=\"translate(327.99,240.35)\" d=\"M3,0A3,3 0 1,1 0,-3A3,3 0 0,1 3,0Z\" style=\"opacity: 1; stroke-width: 0px; fill: rgb(0, 0, 255); fill-opacity: 1;\"/><path class=\"point\" transform=\"translate(210.85,277.84)\" d=\"M3,0A3,3 0 1,1 0,-3A3,3 0 0,1 3,0Z\" style=\"opacity: 1; stroke-width: 0px; fill: rgb(0, 0, 255); fill-opacity: 1;\"/><path class=\"point\" transform=\"translate(198.51,239.72)\" d=\"M3,0A3,3 0 1,1 0,-3A3,3 0 0,1 3,0Z\" style=\"opacity: 1; stroke-width: 0px; fill: rgb(0, 0, 255); fill-opacity: 1;\"/><path class=\"point\" transform=\"translate(244.25,157.73)\" d=\"M3,0A3,3 0 1,1 0,-3A3,3 0 0,1 3,0Z\" style=\"opacity: 1; stroke-width: 0px; fill: rgb(0, 0, 255); fill-opacity: 1;\"/><path class=\"point\" transform=\"translate(262.11,258.39)\" d=\"M3,0A3,3 0 1,1 0,-3A3,3 0 0,1 3,0Z\" style=\"opacity: 1; stroke-width: 0px; fill: rgb(0, 0, 255); fill-opacity: 1;\"/><path class=\"point\" transform=\"translate(84.28,264.5)\" d=\"M3,0A3,3 0 1,1 0,-3A3,3 0 0,1 3,0Z\" style=\"opacity: 1; stroke-width: 0px; fill: rgb(0, 0, 255); fill-opacity: 1;\"/><path class=\"point\" transform=\"translate(206.94,236.88)\" d=\"M3,0A3,3 0 1,1 0,-3A3,3 0 0,1 3,0Z\" style=\"opacity: 1; stroke-width: 0px; fill: rgb(0, 0, 255); fill-opacity: 1;\"/><path class=\"point\" transform=\"translate(205.18,292.46)\" d=\"M3,0A3,3 0 1,1 0,-3A3,3 0 0,1 3,0Z\" style=\"opacity: 1; stroke-width: 0px; fill: rgb(0, 0, 255); fill-opacity: 1;\"/><path class=\"point\" transform=\"translate(253.2,221.38)\" d=\"M3,0A3,3 0 1,1 0,-3A3,3 0 0,1 3,0Z\" style=\"opacity: 1; stroke-width: 0px; fill: rgb(0, 0, 255); fill-opacity: 1;\"/><path class=\"point\" transform=\"translate(271.86,166.35)\" d=\"M3,0A3,3 0 1,1 0,-3A3,3 0 0,1 3,0Z\" style=\"opacity: 1; stroke-width: 0px; fill: rgb(0, 0, 255); fill-opacity: 1;\"/><path class=\"point\" transform=\"translate(118.84,296.04)\" d=\"M3,0A3,3 0 1,1 0,-3A3,3 0 0,1 3,0Z\" style=\"opacity: 1; stroke-width: 0px; fill: rgb(0, 0, 255); fill-opacity: 1;\"/><path class=\"point\" transform=\"translate(221.09,277.33)\" d=\"M3,0A3,3 0 1,1 0,-3A3,3 0 0,1 3,0Z\" style=\"opacity: 1; stroke-width: 0px; fill: rgb(0, 0, 255); fill-opacity: 1;\"/><path class=\"point\" transform=\"translate(236.94,273.29)\" d=\"M3,0A3,3 0 1,1 0,-3A3,3 0 0,1 3,0Z\" style=\"opacity: 1; stroke-width: 0px; fill: rgb(0, 0, 255); fill-opacity: 1;\"/><path class=\"point\" transform=\"translate(198.51,281.74)\" d=\"M3,0A3,3 0 1,1 0,-3A3,3 0 0,1 3,0Z\" style=\"opacity: 1; stroke-width: 0px; fill: rgb(0, 0, 255); fill-opacity: 1;\"/><path class=\"point\" transform=\"translate(160.22,291.06)\" d=\"M3,0A3,3 0 1,1 0,-3A3,3 0 0,1 3,0Z\" style=\"opacity: 1; stroke-width: 0px; fill: rgb(0, 0, 255); fill-opacity: 1;\"/><path class=\"point\" transform=\"translate(189.88,298.51)\" d=\"M3,0A3,3 0 1,1 0,-3A3,3 0 0,1 3,0Z\" style=\"opacity: 1; stroke-width: 0px; fill: rgb(0, 0, 255); fill-opacity: 1;\"/><path class=\"point\" transform=\"translate(191.89,245.4)\" d=\"M3,0A3,3 0 1,1 0,-3A3,3 0 0,1 3,0Z\" style=\"opacity: 1; stroke-width: 0px; fill: rgb(0, 0, 255); fill-opacity: 1;\"/><path class=\"point\" transform=\"translate(182.03,293.49)\" d=\"M3,0A3,3 0 1,1 0,-3A3,3 0 0,1 3,0Z\" style=\"opacity: 1; stroke-width: 0px; fill: rgb(0, 0, 255); fill-opacity: 1;\"/><path class=\"point\" transform=\"translate(196.82,19.75)\" d=\"M3,0A3,3 0 1,1 0,-3A3,3 0 0,1 3,0Z\" style=\"opacity: 1; stroke-width: 0px; fill: rgb(0, 0, 255); fill-opacity: 1;\"/><path class=\"point\" transform=\"translate(173.18,258.34)\" d=\"M3,0A3,3 0 1,1 0,-3A3,3 0 0,1 3,0Z\" style=\"opacity: 1; stroke-width: 0px; fill: rgb(0, 0, 255); fill-opacity: 1;\"/><path class=\"point\" transform=\"translate(390.77,288.87)\" d=\"M3,0A3,3 0 1,1 0,-3A3,3 0 0,1 3,0Z\" style=\"opacity: 1; stroke-width: 0px; fill: rgb(0, 0, 255); fill-opacity: 1;\"/><path class=\"point\" transform=\"translate(327.93,250.28)\" d=\"M3,0A3,3 0 1,1 0,-3A3,3 0 0,1 3,0Z\" style=\"opacity: 1; stroke-width: 0px; fill: rgb(0, 0, 255); fill-opacity: 1;\"/><path class=\"point\" transform=\"translate(247.71,273.68)\" d=\"M3,0A3,3 0 1,1 0,-3A3,3 0 0,1 3,0Z\" style=\"opacity: 1; stroke-width: 0px; fill: rgb(0, 0, 255); fill-opacity: 1;\"/><path class=\"point\" transform=\"translate(189.09,260.02)\" d=\"M3,0A3,3 0 1,1 0,-3A3,3 0 0,1 3,0Z\" style=\"opacity: 1; stroke-width: 0px; fill: rgb(0, 0, 255); fill-opacity: 1;\"/><path class=\"point\" transform=\"translate(178.56,263.86)\" d=\"M3,0A3,3 0 1,1 0,-3A3,3 0 0,1 3,0Z\" style=\"opacity: 1; stroke-width: 0px; fill: rgb(0, 0, 255); fill-opacity: 1;\"/><path class=\"point\" transform=\"translate(193.66,286.18)\" d=\"M3,0A3,3 0 1,1 0,-3A3,3 0 0,1 3,0Z\" style=\"opacity: 1; stroke-width: 0px; fill: rgb(0, 0, 255); fill-opacity: 1;\"/><path class=\"point\" transform=\"translate(193.19,289)\" d=\"M3,0A3,3 0 1,1 0,-3A3,3 0 0,1 3,0Z\" style=\"opacity: 1; stroke-width: 0px; fill: rgb(0, 0, 255); fill-opacity: 1;\"/><path class=\"point\" transform=\"translate(189.4,270.37)\" d=\"M3,0A3,3 0 1,1 0,-3A3,3 0 0,1 3,0Z\" style=\"opacity: 1; stroke-width: 0px; fill: rgb(0, 0, 255); fill-opacity: 1;\"/><path class=\"point\" transform=\"translate(202.25,294.72)\" d=\"M3,0A3,3 0 1,1 0,-3A3,3 0 0,1 3,0Z\" style=\"opacity: 1; stroke-width: 0px; fill: rgb(0, 0, 255); fill-opacity: 1;\"/><path class=\"point\" transform=\"translate(210.62,239.87)\" d=\"M3,0A3,3 0 1,1 0,-3A3,3 0 0,1 3,0Z\" style=\"opacity: 1; stroke-width: 0px; fill: rgb(0, 0, 255); fill-opacity: 1;\"/><path class=\"point\" transform=\"translate(179.93,109.36)\" d=\"M3,0A3,3 0 1,1 0,-3A3,3 0 0,1 3,0Z\" style=\"opacity: 1; stroke-width: 0px; fill: rgb(0, 0, 255); fill-opacity: 1;\"/><path class=\"point\" transform=\"translate(183.96,279.76)\" d=\"M3,0A3,3 0 1,1 0,-3A3,3 0 0,1 3,0Z\" style=\"opacity: 1; stroke-width: 0px; fill: rgb(0, 0, 255); fill-opacity: 1;\"/><path class=\"point\" transform=\"translate(239.4,271.18)\" d=\"M3,0A3,3 0 1,1 0,-3A3,3 0 0,1 3,0Z\" style=\"opacity: 1; stroke-width: 0px; fill: rgb(0, 0, 255); fill-opacity: 1;\"/><path class=\"point\" transform=\"translate(173.93,281.04)\" d=\"M3,0A3,3 0 1,1 0,-3A3,3 0 0,1 3,0Z\" style=\"opacity: 1; stroke-width: 0px; fill: rgb(0, 0, 255); fill-opacity: 1;\"/><path class=\"point\" transform=\"translate(191.98,267.97)\" d=\"M3,0A3,3 0 1,1 0,-3A3,3 0 0,1 3,0Z\" style=\"opacity: 1; stroke-width: 0px; fill: rgb(0, 0, 255); fill-opacity: 1;\"/><path class=\"point\" transform=\"translate(156.98,274.16)\" d=\"M3,0A3,3 0 1,1 0,-3A3,3 0 0,1 3,0Z\" style=\"opacity: 1; stroke-width: 0px; fill: rgb(0, 0, 255); fill-opacity: 1;\"/><path class=\"point\" transform=\"translate(208.44,298.47)\" d=\"M3,0A3,3 0 1,1 0,-3A3,3 0 0,1 3,0Z\" style=\"opacity: 1; stroke-width: 0px; fill: rgb(0, 0, 255); fill-opacity: 1;\"/><path class=\"point\" transform=\"translate(121.55,287.16)\" d=\"M3,0A3,3 0 1,1 0,-3A3,3 0 0,1 3,0Z\" style=\"opacity: 1; stroke-width: 0px; fill: rgb(0, 0, 255); fill-opacity: 1;\"/><path class=\"point\" transform=\"translate(214,250.44)\" d=\"M3,0A3,3 0 1,1 0,-3A3,3 0 0,1 3,0Z\" style=\"opacity: 1; stroke-width: 0px; fill: rgb(0, 0, 255); fill-opacity: 1;\"/><path class=\"point\" transform=\"translate(148.03,280.1)\" d=\"M3,0A3,3 0 1,1 0,-3A3,3 0 0,1 3,0Z\" style=\"opacity: 1; stroke-width: 0px; fill: rgb(0, 0, 255); fill-opacity: 1;\"/><path class=\"point\" transform=\"translate(170.49,205.41)\" d=\"M3,0A3,3 0 1,1 0,-3A3,3 0 0,1 3,0Z\" style=\"opacity: 1; stroke-width: 0px; fill: rgb(0, 0, 255); fill-opacity: 1;\"/><path class=\"point\" transform=\"translate(193.4,296.99)\" d=\"M3,0A3,3 0 1,1 0,-3A3,3 0 0,1 3,0Z\" style=\"opacity: 1; stroke-width: 0px; fill: rgb(0, 0, 255); fill-opacity: 1;\"/><path class=\"point\" transform=\"translate(245.97,279.3)\" d=\"M3,0A3,3 0 1,1 0,-3A3,3 0 0,1 3,0Z\" style=\"opacity: 1; stroke-width: 0px; fill: rgb(0, 0, 255); fill-opacity: 1;\"/><path class=\"point\" transform=\"translate(271.63,298.37)\" d=\"M3,0A3,3 0 1,1 0,-3A3,3 0 0,1 3,0Z\" style=\"opacity: 1; stroke-width: 0px; fill: rgb(0, 0, 255); fill-opacity: 1;\"/><path class=\"point\" transform=\"translate(176.02,291.14)\" d=\"M3,0A3,3 0 1,1 0,-3A3,3 0 0,1 3,0Z\" style=\"opacity: 1; stroke-width: 0px; fill: rgb(0, 0, 255); fill-opacity: 1;\"/><path class=\"point\" transform=\"translate(278.95,299.4)\" d=\"M3,0A3,3 0 1,1 0,-3A3,3 0 0,1 3,0Z\" style=\"opacity: 1; stroke-width: 0px; fill: rgb(0, 0, 255); fill-opacity: 1;\"/><path class=\"point\" transform=\"translate(174.09,299.07)\" d=\"M3,0A3,3 0 1,1 0,-3A3,3 0 0,1 3,0Z\" style=\"opacity: 1; stroke-width: 0px; fill: rgb(0, 0, 255); fill-opacity: 1;\"/><path class=\"point\" transform=\"translate(191.62,295.7)\" d=\"M3,0A3,3 0 1,1 0,-3A3,3 0 0,1 3,0Z\" style=\"opacity: 1; stroke-width: 0px; fill: rgb(0, 0, 255); fill-opacity: 1;\"/><path class=\"point\" transform=\"translate(231.77,295.73)\" d=\"M3,0A3,3 0 1,1 0,-3A3,3 0 0,1 3,0Z\" style=\"opacity: 1; stroke-width: 0px; fill: rgb(0, 0, 255); fill-opacity: 1;\"/><path class=\"point\" transform=\"translate(215.11,293.92)\" d=\"M3,0A3,3 0 1,1 0,-3A3,3 0 0,1 3,0Z\" style=\"opacity: 1; stroke-width: 0px; fill: rgb(0, 0, 255); fill-opacity: 1;\"/><path class=\"point\" transform=\"translate(197.41,200.56)\" d=\"M3,0A3,3 0 1,1 0,-3A3,3 0 0,1 3,0Z\" style=\"opacity: 1; stroke-width: 0px; fill: rgb(0, 0, 255); fill-opacity: 1;\"/><path class=\"point\" transform=\"translate(238.23,281.26)\" d=\"M3,0A3,3 0 1,1 0,-3A3,3 0 0,1 3,0Z\" style=\"opacity: 1; stroke-width: 0px; fill: rgb(0, 0, 255); fill-opacity: 1;\"/><path class=\"point\" transform=\"translate(223.83,295.17)\" d=\"M3,0A3,3 0 1,1 0,-3A3,3 0 0,1 3,0Z\" style=\"opacity: 1; stroke-width: 0px; fill: rgb(0, 0, 255); fill-opacity: 1;\"/><path class=\"point\" transform=\"translate(221.66,286.06)\" d=\"M3,0A3,3 0 1,1 0,-3A3,3 0 0,1 3,0Z\" style=\"opacity: 1; stroke-width: 0px; fill: rgb(0, 0, 255); fill-opacity: 1;\"/><path class=\"point\" transform=\"translate(173.08,296.98)\" d=\"M3,0A3,3 0 1,1 0,-3A3,3 0 0,1 3,0Z\" style=\"opacity: 1; stroke-width: 0px; fill: rgb(0, 0, 255); fill-opacity: 1;\"/><path class=\"point\" transform=\"translate(128.21,279.23)\" d=\"M3,0A3,3 0 1,1 0,-3A3,3 0 0,1 3,0Z\" style=\"opacity: 1; stroke-width: 0px; fill: rgb(0, 0, 255); fill-opacity: 1;\"/><path class=\"point\" transform=\"translate(206.22,295.58)\" d=\"M3,0A3,3 0 1,1 0,-3A3,3 0 0,1 3,0Z\" style=\"opacity: 1; stroke-width: 0px; fill: rgb(0, 0, 255); fill-opacity: 1;\"/><path class=\"point\" transform=\"translate(288.7,292.03)\" d=\"M3,0A3,3 0 1,1 0,-3A3,3 0 0,1 3,0Z\" style=\"opacity: 1; stroke-width: 0px; fill: rgb(0, 0, 255); fill-opacity: 1;\"/><path class=\"point\" transform=\"translate(347.01,275.52)\" d=\"M3,0A3,3 0 1,1 0,-3A3,3 0 0,1 3,0Z\" style=\"opacity: 1; stroke-width: 0px; fill: rgb(0, 0, 255); fill-opacity: 1;\"/><path class=\"point\" transform=\"translate(246.25,300.25)\" d=\"M3,0A3,3 0 1,1 0,-3A3,3 0 0,1 3,0Z\" style=\"opacity: 1; stroke-width: 0px; fill: rgb(0, 0, 255); fill-opacity: 1;\"/><path class=\"point\" transform=\"translate(209.66,295.08)\" d=\"M3,0A3,3 0 1,1 0,-3A3,3 0 0,1 3,0Z\" style=\"opacity: 1; stroke-width: 0px; fill: rgb(0, 0, 255); fill-opacity: 1;\"/><path class=\"point\" transform=\"translate(216.83,295.48)\" d=\"M3,0A3,3 0 1,1 0,-3A3,3 0 0,1 3,0Z\" style=\"opacity: 1; stroke-width: 0px; fill: rgb(0, 0, 255); fill-opacity: 1;\"/><path class=\"point\" transform=\"translate(137.2,294.92)\" d=\"M3,0A3,3 0 1,1 0,-3A3,3 0 0,1 3,0Z\" style=\"opacity: 1; stroke-width: 0px; fill: rgb(0, 0, 255); fill-opacity: 1;\"/><path class=\"point\" transform=\"translate(167.35,290.51)\" d=\"M3,0A3,3 0 1,1 0,-3A3,3 0 0,1 3,0Z\" style=\"opacity: 1; stroke-width: 0px; fill: rgb(0, 0, 255); fill-opacity: 1;\"/><path class=\"point\" transform=\"translate(251.52,286.96)\" d=\"M3,0A3,3 0 1,1 0,-3A3,3 0 0,1 3,0Z\" style=\"opacity: 1; stroke-width: 0px; fill: rgb(0, 0, 255); fill-opacity: 1;\"/><path class=\"point\" transform=\"translate(289.3,289.27)\" d=\"M3,0A3,3 0 1,1 0,-3A3,3 0 0,1 3,0Z\" style=\"opacity: 1; stroke-width: 0px; fill: rgb(0, 0, 255); fill-opacity: 1;\"/><path class=\"point\" transform=\"translate(201.91,297.28)\" d=\"M3,0A3,3 0 1,1 0,-3A3,3 0 0,1 3,0Z\" style=\"opacity: 1; stroke-width: 0px; fill: rgb(0, 0, 255); fill-opacity: 1;\"/><path class=\"point\" transform=\"translate(115.91,262.67)\" d=\"M3,0A3,3 0 1,1 0,-3A3,3 0 0,1 3,0Z\" style=\"opacity: 1; stroke-width: 0px; fill: rgb(0, 0, 255); fill-opacity: 1;\"/><path class=\"point\" transform=\"translate(282.95,292.62)\" d=\"M3,0A3,3 0 1,1 0,-3A3,3 0 0,1 3,0Z\" style=\"opacity: 1; stroke-width: 0px; fill: rgb(0, 0, 255); fill-opacity: 1;\"/><path class=\"point\" transform=\"translate(216.07,293.28)\" d=\"M3,0A3,3 0 1,1 0,-3A3,3 0 0,1 3,0Z\" style=\"opacity: 1; stroke-width: 0px; fill: rgb(0, 0, 255); fill-opacity: 1;\"/><path class=\"point\" transform=\"translate(225.74,287.9)\" d=\"M3,0A3,3 0 1,1 0,-3A3,3 0 0,1 3,0Z\" style=\"opacity: 1; stroke-width: 0px; fill: rgb(0, 0, 255); fill-opacity: 1;\"/><path class=\"point\" transform=\"translate(208.71,266.89)\" d=\"M3,0A3,3 0 1,1 0,-3A3,3 0 0,1 3,0Z\" style=\"opacity: 1; stroke-width: 0px; fill: rgb(0, 0, 255); fill-opacity: 1;\"/><path class=\"point\" transform=\"translate(205.02,240.66)\" d=\"M3,0A3,3 0 1,1 0,-3A3,3 0 0,1 3,0Z\" style=\"opacity: 1; stroke-width: 0px; fill: rgb(0, 0, 255); fill-opacity: 1;\"/><path class=\"point\" transform=\"translate(259.18,298.91)\" d=\"M3,0A3,3 0 1,1 0,-3A3,3 0 0,1 3,0Z\" style=\"opacity: 1; stroke-width: 0px; fill: rgb(0, 0, 255); fill-opacity: 1;\"/><path class=\"point\" transform=\"translate(162.28,288.83)\" d=\"M3,0A3,3 0 1,1 0,-3A3,3 0 0,1 3,0Z\" style=\"opacity: 1; stroke-width: 0px; fill: rgb(0, 0, 255); fill-opacity: 1;\"/><path class=\"point\" transform=\"translate(166.77,271.36)\" d=\"M3,0A3,3 0 1,1 0,-3A3,3 0 0,1 3,0Z\" style=\"opacity: 1; stroke-width: 0px; fill: rgb(0, 0, 255); fill-opacity: 1;\"/><path class=\"point\" transform=\"translate(195.18,272.04)\" d=\"M3,0A3,3 0 1,1 0,-3A3,3 0 0,1 3,0Z\" style=\"opacity: 1; stroke-width: 0px; fill: rgb(0, 0, 255); fill-opacity: 1;\"/><path class=\"point\" transform=\"translate(223.15,271.47)\" d=\"M3,0A3,3 0 1,1 0,-3A3,3 0 0,1 3,0Z\" style=\"opacity: 1; stroke-width: 0px; fill: rgb(0, 0, 255); fill-opacity: 1;\"/><path class=\"point\" transform=\"translate(167.12,292.9)\" d=\"M3,0A3,3 0 1,1 0,-3A3,3 0 0,1 3,0Z\" style=\"opacity: 1; stroke-width: 0px; fill: rgb(0, 0, 255); fill-opacity: 1;\"/><path class=\"point\" transform=\"translate(218.49,250.34)\" d=\"M3,0A3,3 0 1,1 0,-3A3,3 0 0,1 3,0Z\" style=\"opacity: 1; stroke-width: 0px; fill: rgb(0, 0, 255); fill-opacity: 1;\"/><path class=\"point\" transform=\"translate(169.71,274.81)\" d=\"M3,0A3,3 0 1,1 0,-3A3,3 0 0,1 3,0Z\" style=\"opacity: 1; stroke-width: 0px; fill: rgb(0, 0, 255); fill-opacity: 1;\"/><path class=\"point\" transform=\"translate(222.95,285.58)\" d=\"M3,0A3,3 0 1,1 0,-3A3,3 0 0,1 3,0Z\" style=\"opacity: 1; stroke-width: 0px; fill: rgb(0, 0, 255); fill-opacity: 1;\"/><path class=\"point\" transform=\"translate(40.66,203.35)\" d=\"M3,0A3,3 0 1,1 0,-3A3,3 0 0,1 3,0Z\" style=\"opacity: 1; stroke-width: 0px; fill: rgb(0, 0, 255); fill-opacity: 1;\"/><path class=\"point\" transform=\"translate(167.76,281.6)\" d=\"M3,0A3,3 0 1,1 0,-3A3,3 0 0,1 3,0Z\" style=\"opacity: 1; stroke-width: 0px; fill: rgb(0, 0, 255); fill-opacity: 1;\"/><path class=\"point\" transform=\"translate(149.08,104.79)\" d=\"M3,0A3,3 0 1,1 0,-3A3,3 0 0,1 3,0Z\" style=\"opacity: 1; stroke-width: 0px; fill: rgb(0, 0, 255); fill-opacity: 1;\"/><path class=\"point\" transform=\"translate(144.38,279.53)\" d=\"M3,0A3,3 0 1,1 0,-3A3,3 0 0,1 3,0Z\" style=\"opacity: 1; stroke-width: 0px; fill: rgb(0, 0, 255); fill-opacity: 1;\"/><path class=\"point\" transform=\"translate(212.06,293.65)\" d=\"M3,0A3,3 0 1,1 0,-3A3,3 0 0,1 3,0Z\" style=\"opacity: 1; stroke-width: 0px; fill: rgb(0, 0, 255); fill-opacity: 1;\"/><path class=\"point\" transform=\"translate(209.54,279.58)\" d=\"M3,0A3,3 0 1,1 0,-3A3,3 0 0,1 3,0Z\" style=\"opacity: 1; stroke-width: 0px; fill: rgb(0, 0, 255); fill-opacity: 1;\"/><path class=\"point\" transform=\"translate(224.06,269.99)\" d=\"M3,0A3,3 0 1,1 0,-3A3,3 0 0,1 3,0Z\" style=\"opacity: 1; stroke-width: 0px; fill: rgb(0, 0, 255); fill-opacity: 1;\"/><path class=\"point\" transform=\"translate(171.63,295.28)\" d=\"M3,0A3,3 0 1,1 0,-3A3,3 0 0,1 3,0Z\" style=\"opacity: 1; stroke-width: 0px; fill: rgb(0, 0, 255); fill-opacity: 1;\"/><path class=\"point\" transform=\"translate(261.85,270.05)\" d=\"M3,0A3,3 0 1,1 0,-3A3,3 0 0,1 3,0Z\" style=\"opacity: 1; stroke-width: 0px; fill: rgb(0, 0, 255); fill-opacity: 1;\"/><path class=\"point\" transform=\"translate(267.51,296.87)\" d=\"M3,0A3,3 0 1,1 0,-3A3,3 0 0,1 3,0Z\" style=\"opacity: 1; stroke-width: 0px; fill: rgb(0, 0, 255); fill-opacity: 1;\"/><path class=\"point\" transform=\"translate(281.57,291.06)\" d=\"M3,0A3,3 0 1,1 0,-3A3,3 0 0,1 3,0Z\" style=\"opacity: 1; stroke-width: 0px; fill: rgb(0, 0, 255); fill-opacity: 1;\"/><path class=\"point\" transform=\"translate(223.09,242.41)\" d=\"M3,0A3,3 0 1,1 0,-3A3,3 0 0,1 3,0Z\" style=\"opacity: 1; stroke-width: 0px; fill: rgb(0, 0, 255); fill-opacity: 1;\"/><path class=\"point\" transform=\"translate(133.25,276.33)\" d=\"M3,0A3,3 0 1,1 0,-3A3,3 0 0,1 3,0Z\" style=\"opacity: 1; stroke-width: 0px; fill: rgb(0, 0, 255); fill-opacity: 1;\"/><path class=\"point\" transform=\"translate(158.05,271)\" d=\"M3,0A3,3 0 1,1 0,-3A3,3 0 0,1 3,0Z\" style=\"opacity: 1; stroke-width: 0px; fill: rgb(0, 0, 255); fill-opacity: 1;\"/><path class=\"point\" transform=\"translate(197.18,274.06)\" d=\"M3,0A3,3 0 1,1 0,-3A3,3 0 0,1 3,0Z\" style=\"opacity: 1; stroke-width: 0px; fill: rgb(0, 0, 255); fill-opacity: 1;\"/><path class=\"point\" transform=\"translate(193.31,298.74)\" d=\"M3,0A3,3 0 1,1 0,-3A3,3 0 0,1 3,0Z\" style=\"opacity: 1; stroke-width: 0px; fill: rgb(0, 0, 255); fill-opacity: 1;\"/><path class=\"point\" transform=\"translate(186.61,216.45)\" d=\"M3,0A3,3 0 1,1 0,-3A3,3 0 0,1 3,0Z\" style=\"opacity: 1; stroke-width: 0px; fill: rgb(0, 0, 255); fill-opacity: 1;\"/><path class=\"point\" transform=\"translate(189.07,252.63)\" d=\"M3,0A3,3 0 1,1 0,-3A3,3 0 0,1 3,0Z\" style=\"opacity: 1; stroke-width: 0px; fill: rgb(0, 0, 255); fill-opacity: 1;\"/><path class=\"point\" transform=\"translate(226.22,293.96)\" d=\"M3,0A3,3 0 1,1 0,-3A3,3 0 0,1 3,0Z\" style=\"opacity: 1; stroke-width: 0px; fill: rgb(0, 0, 255); fill-opacity: 1;\"/><path class=\"point\" transform=\"translate(133.86,299.39)\" d=\"M3,0A3,3 0 1,1 0,-3A3,3 0 0,1 3,0Z\" style=\"opacity: 1; stroke-width: 0px; fill: rgb(0, 0, 255); fill-opacity: 1;\"/><path class=\"point\" transform=\"translate(267.46,238.99)\" d=\"M3,0A3,3 0 1,1 0,-3A3,3 0 0,1 3,0Z\" style=\"opacity: 1; stroke-width: 0px; fill: rgb(0, 0, 255); fill-opacity: 1;\"/><path class=\"point\" transform=\"translate(303.21,289.82)\" d=\"M3,0A3,3 0 1,1 0,-3A3,3 0 0,1 3,0Z\" style=\"opacity: 1; stroke-width: 0px; fill: rgb(0, 0, 255); fill-opacity: 1;\"/><path class=\"point\" transform=\"translate(210.61,282.74)\" d=\"M3,0A3,3 0 1,1 0,-3A3,3 0 0,1 3,0Z\" style=\"opacity: 1; stroke-width: 0px; fill: rgb(0, 0, 255); fill-opacity: 1;\"/><path class=\"point\" transform=\"translate(245.08,299.26)\" d=\"M3,0A3,3 0 1,1 0,-3A3,3 0 0,1 3,0Z\" style=\"opacity: 1; stroke-width: 0px; fill: rgb(0, 0, 255); fill-opacity: 1;\"/><path class=\"point\" transform=\"translate(174.07,292.37)\" d=\"M3,0A3,3 0 1,1 0,-3A3,3 0 0,1 3,0Z\" style=\"opacity: 1; stroke-width: 0px; fill: rgb(0, 0, 255); fill-opacity: 1;\"/><path class=\"point\" transform=\"translate(207.27,298.62)\" d=\"M3,0A3,3 0 1,1 0,-3A3,3 0 0,1 3,0Z\" style=\"opacity: 1; stroke-width: 0px; fill: rgb(0, 0, 255); fill-opacity: 1;\"/><path class=\"point\" transform=\"translate(247.1,294.9)\" d=\"M3,0A3,3 0 1,1 0,-3A3,3 0 0,1 3,0Z\" style=\"opacity: 1; stroke-width: 0px; fill: rgb(0, 0, 255); fill-opacity: 1;\"/><path class=\"point\" transform=\"translate(189.45,233.72)\" d=\"M3,0A3,3 0 1,1 0,-3A3,3 0 0,1 3,0Z\" style=\"opacity: 1; stroke-width: 0px; fill: rgb(0, 0, 255); fill-opacity: 1;\"/><path class=\"point\" transform=\"translate(187.3,209.09)\" d=\"M3,0A3,3 0 1,1 0,-3A3,3 0 0,1 3,0Z\" style=\"opacity: 1; stroke-width: 0px; fill: rgb(0, 0, 255); fill-opacity: 1;\"/><path class=\"point\" transform=\"translate(175.43,284.16)\" d=\"M3,0A3,3 0 1,1 0,-3A3,3 0 0,1 3,0Z\" style=\"opacity: 1; stroke-width: 0px; fill: rgb(0, 0, 255); fill-opacity: 1;\"/><path class=\"point\" transform=\"translate(246.01,287.19)\" d=\"M3,0A3,3 0 1,1 0,-3A3,3 0 0,1 3,0Z\" style=\"opacity: 1; stroke-width: 0px; fill: rgb(0, 0, 255); fill-opacity: 1;\"/><path class=\"point\" transform=\"translate(162.39,238.27)\" d=\"M3,0A3,3 0 1,1 0,-3A3,3 0 0,1 3,0Z\" style=\"opacity: 1; stroke-width: 0px; fill: rgb(0, 0, 255); fill-opacity: 1;\"/><path class=\"point\" transform=\"translate(187.07,263.42)\" d=\"M3,0A3,3 0 1,1 0,-3A3,3 0 0,1 3,0Z\" style=\"opacity: 1; stroke-width: 0px; fill: rgb(0, 0, 255); fill-opacity: 1;\"/><path class=\"point\" transform=\"translate(276.98,273.04)\" d=\"M3,0A3,3 0 1,1 0,-3A3,3 0 0,1 3,0Z\" style=\"opacity: 1; stroke-width: 0px; fill: rgb(0, 0, 255); fill-opacity: 1;\"/><path class=\"point\" transform=\"translate(226.41,278.86)\" d=\"M3,0A3,3 0 1,1 0,-3A3,3 0 0,1 3,0Z\" style=\"opacity: 1; stroke-width: 0px; fill: rgb(0, 0, 255); fill-opacity: 1;\"/><path class=\"point\" transform=\"translate(262.35,288.84)\" d=\"M3,0A3,3 0 1,1 0,-3A3,3 0 0,1 3,0Z\" style=\"opacity: 1; stroke-width: 0px; fill: rgb(0, 0, 255); fill-opacity: 1;\"/><path class=\"point\" transform=\"translate(195.89,176.39)\" d=\"M3,0A3,3 0 1,1 0,-3A3,3 0 0,1 3,0Z\" style=\"opacity: 1; stroke-width: 0px; fill: rgb(0, 0, 255); fill-opacity: 1;\"/><path class=\"point\" transform=\"translate(271.76,269.89)\" d=\"M3,0A3,3 0 1,1 0,-3A3,3 0 0,1 3,0Z\" style=\"opacity: 1; stroke-width: 0px; fill: rgb(0, 0, 255); fill-opacity: 1;\"/><path class=\"point\" transform=\"translate(255.18,296.14)\" d=\"M3,0A3,3 0 1,1 0,-3A3,3 0 0,1 3,0Z\" style=\"opacity: 1; stroke-width: 0px; fill: rgb(0, 0, 255); fill-opacity: 1;\"/><path class=\"point\" transform=\"translate(148.43,299.91)\" d=\"M3,0A3,3 0 1,1 0,-3A3,3 0 0,1 3,0Z\" style=\"opacity: 1; stroke-width: 0px; fill: rgb(0, 0, 255); fill-opacity: 1;\"/><path class=\"point\" transform=\"translate(168.59,256.12)\" d=\"M3,0A3,3 0 1,1 0,-3A3,3 0 0,1 3,0Z\" style=\"opacity: 1; stroke-width: 0px; fill: rgb(0, 0, 255); fill-opacity: 1;\"/><path class=\"point\" transform=\"translate(224.13,277.98)\" d=\"M3,0A3,3 0 1,1 0,-3A3,3 0 0,1 3,0Z\" style=\"opacity: 1; stroke-width: 0px; fill: rgb(0, 0, 255); fill-opacity: 1;\"/><path class=\"point\" transform=\"translate(224.66,262.28)\" d=\"M3,0A3,3 0 1,1 0,-3A3,3 0 0,1 3,0Z\" style=\"opacity: 1; stroke-width: 0px; fill: rgb(0, 0, 255); fill-opacity: 1;\"/><path class=\"point\" transform=\"translate(253.87,252.85)\" d=\"M3,0A3,3 0 1,1 0,-3A3,3 0 0,1 3,0Z\" style=\"opacity: 1; stroke-width: 0px; fill: rgb(0, 0, 255); fill-opacity: 1;\"/><path class=\"point\" transform=\"translate(173.5,285.61)\" d=\"M3,0A3,3 0 1,1 0,-3A3,3 0 0,1 3,0Z\" style=\"opacity: 1; stroke-width: 0px; fill: rgb(0, 0, 255); fill-opacity: 1;\"/><path class=\"point\" transform=\"translate(313.13,295.58)\" d=\"M3,0A3,3 0 1,1 0,-3A3,3 0 0,1 3,0Z\" style=\"opacity: 1; stroke-width: 0px; fill: rgb(0, 0, 255); fill-opacity: 1;\"/><path class=\"point\" transform=\"translate(165.06,291.9)\" d=\"M3,0A3,3 0 1,1 0,-3A3,3 0 0,1 3,0Z\" style=\"opacity: 1; stroke-width: 0px; fill: rgb(0, 0, 255); fill-opacity: 1;\"/><path class=\"point\" transform=\"translate(263.2,298.96)\" d=\"M3,0A3,3 0 1,1 0,-3A3,3 0 0,1 3,0Z\" style=\"opacity: 1; stroke-width: 0px; fill: rgb(0, 0, 255); fill-opacity: 1;\"/><path class=\"point\" transform=\"translate(188.58,226.58)\" d=\"M3,0A3,3 0 1,1 0,-3A3,3 0 0,1 3,0Z\" style=\"opacity: 1; stroke-width: 0px; fill: rgb(0, 0, 255); fill-opacity: 1;\"/><path class=\"point\" transform=\"translate(130.9,280.34)\" d=\"M3,0A3,3 0 1,1 0,-3A3,3 0 0,1 3,0Z\" style=\"opacity: 1; stroke-width: 0px; fill: rgb(0, 0, 255); fill-opacity: 1;\"/><path class=\"point\" transform=\"translate(252.39,254.82)\" d=\"M3,0A3,3 0 1,1 0,-3A3,3 0 0,1 3,0Z\" style=\"opacity: 1; stroke-width: 0px; fill: rgb(0, 0, 255); fill-opacity: 1;\"/><path class=\"point\" transform=\"translate(213.81,281.05)\" d=\"M3,0A3,3 0 1,1 0,-3A3,3 0 0,1 3,0Z\" style=\"opacity: 1; stroke-width: 0px; fill: rgb(0, 0, 255); fill-opacity: 1;\"/><path class=\"point\" transform=\"translate(191.72,268.54)\" d=\"M3,0A3,3 0 1,1 0,-3A3,3 0 0,1 3,0Z\" style=\"opacity: 1; stroke-width: 0px; fill: rgb(0, 0, 255); fill-opacity: 1;\"/><path class=\"point\" transform=\"translate(248.87,282.8)\" d=\"M3,0A3,3 0 1,1 0,-3A3,3 0 0,1 3,0Z\" style=\"opacity: 1; stroke-width: 0px; fill: rgb(0, 0, 255); fill-opacity: 1;\"/><path class=\"point\" transform=\"translate(257.49,226.07)\" d=\"M3,0A3,3 0 1,1 0,-3A3,3 0 0,1 3,0Z\" style=\"opacity: 1; stroke-width: 0px; fill: rgb(0, 0, 255); fill-opacity: 1;\"/><path class=\"point\" transform=\"translate(216.57,184.51)\" d=\"M3,0A3,3 0 1,1 0,-3A3,3 0 0,1 3,0Z\" style=\"opacity: 1; stroke-width: 0px; fill: rgb(0, 0, 255); fill-opacity: 1;\"/><path class=\"point\" transform=\"translate(173.89,218.98)\" d=\"M3,0A3,3 0 1,1 0,-3A3,3 0 0,1 3,0Z\" style=\"opacity: 1; stroke-width: 0px; fill: rgb(0, 0, 255); fill-opacity: 1;\"/><path class=\"point\" transform=\"translate(26.5,288.18)\" d=\"M3,0A3,3 0 1,1 0,-3A3,3 0 0,1 3,0Z\" style=\"opacity: 1; stroke-width: 0px; fill: rgb(0, 0, 255); fill-opacity: 1;\"/><path class=\"point\" transform=\"translate(89.93,206.94)\" d=\"M3,0A3,3 0 1,1 0,-3A3,3 0 0,1 3,0Z\" style=\"opacity: 1; stroke-width: 0px; fill: rgb(0, 0, 255); fill-opacity: 1;\"/><path class=\"point\" transform=\"translate(209.36,272.67)\" d=\"M3,0A3,3 0 1,1 0,-3A3,3 0 0,1 3,0Z\" style=\"opacity: 1; stroke-width: 0px; fill: rgb(0, 0, 255); fill-opacity: 1;\"/><path class=\"point\" transform=\"translate(106.01,290.65)\" d=\"M3,0A3,3 0 1,1 0,-3A3,3 0 0,1 3,0Z\" style=\"opacity: 1; stroke-width: 0px; fill: rgb(0, 0, 255); fill-opacity: 1;\"/><path class=\"point\" transform=\"translate(232.81,271.9)\" d=\"M3,0A3,3 0 1,1 0,-3A3,3 0 0,1 3,0Z\" style=\"opacity: 1; stroke-width: 0px; fill: rgb(0, 0, 255); fill-opacity: 1;\"/><path class=\"point\" transform=\"translate(255.8,300.24)\" d=\"M3,0A3,3 0 1,1 0,-3A3,3 0 0,1 3,0Z\" style=\"opacity: 1; stroke-width: 0px; fill: rgb(0, 0, 255); fill-opacity: 1;\"/><path class=\"point\" transform=\"translate(185.03,278.03)\" d=\"M3,0A3,3 0 1,1 0,-3A3,3 0 0,1 3,0Z\" style=\"opacity: 1; stroke-width: 0px; fill: rgb(0, 0, 255); fill-opacity: 1;\"/><path class=\"point\" transform=\"translate(244.03,289.68)\" d=\"M3,0A3,3 0 1,1 0,-3A3,3 0 0,1 3,0Z\" style=\"opacity: 1; stroke-width: 0px; fill: rgb(0, 0, 255); fill-opacity: 1;\"/><path class=\"point\" transform=\"translate(123.33,287.28)\" d=\"M3,0A3,3 0 1,1 0,-3A3,3 0 0,1 3,0Z\" style=\"opacity: 1; stroke-width: 0px; fill: rgb(0, 0, 255); fill-opacity: 1;\"/><path class=\"point\" transform=\"translate(280.68,219.27)\" d=\"M3,0A3,3 0 1,1 0,-3A3,3 0 0,1 3,0Z\" style=\"opacity: 1; stroke-width: 0px; fill: rgb(0, 0, 255); fill-opacity: 1;\"/><path class=\"point\" transform=\"translate(234.38,299.3)\" d=\"M3,0A3,3 0 1,1 0,-3A3,3 0 0,1 3,0Z\" style=\"opacity: 1; stroke-width: 0px; fill: rgb(0, 0, 255); fill-opacity: 1;\"/><path class=\"point\" transform=\"translate(139.45,299.24)\" d=\"M3,0A3,3 0 1,1 0,-3A3,3 0 0,1 3,0Z\" style=\"opacity: 1; stroke-width: 0px; fill: rgb(0, 0, 255); fill-opacity: 1;\"/><path class=\"point\" transform=\"translate(222.94,292.71)\" d=\"M3,0A3,3 0 1,1 0,-3A3,3 0 0,1 3,0Z\" style=\"opacity: 1; stroke-width: 0px; fill: rgb(0, 0, 255); fill-opacity: 1;\"/><path class=\"point\" transform=\"translate(193.42,263.22)\" d=\"M3,0A3,3 0 1,1 0,-3A3,3 0 0,1 3,0Z\" style=\"opacity: 1; stroke-width: 0px; fill: rgb(0, 0, 255); fill-opacity: 1;\"/><path class=\"point\" transform=\"translate(268.38,268.23)\" d=\"M3,0A3,3 0 1,1 0,-3A3,3 0 0,1 3,0Z\" style=\"opacity: 1; stroke-width: 0px; fill: rgb(0, 0, 255); fill-opacity: 1;\"/><path class=\"point\" transform=\"translate(253.32,295.56)\" d=\"M3,0A3,3 0 1,1 0,-3A3,3 0 0,1 3,0Z\" style=\"opacity: 1; stroke-width: 0px; fill: rgb(0, 0, 255); fill-opacity: 1;\"/><path class=\"point\" transform=\"translate(215.36,279.83)\" d=\"M3,0A3,3 0 1,1 0,-3A3,3 0 0,1 3,0Z\" style=\"opacity: 1; stroke-width: 0px; fill: rgb(0, 0, 255); fill-opacity: 1;\"/><path class=\"point\" transform=\"translate(421.58,287.49)\" d=\"M3,0A3,3 0 1,1 0,-3A3,3 0 0,1 3,0Z\" style=\"opacity: 1; stroke-width: 0px; fill: rgb(0, 0, 255); fill-opacity: 1;\"/><path class=\"point\" transform=\"translate(217.37,294.39)\" d=\"M3,0A3,3 0 1,1 0,-3A3,3 0 0,1 3,0Z\" style=\"opacity: 1; stroke-width: 0px; fill: rgb(0, 0, 255); fill-opacity: 1;\"/><path class=\"point\" transform=\"translate(176.33,290.06)\" d=\"M3,0A3,3 0 1,1 0,-3A3,3 0 0,1 3,0Z\" style=\"opacity: 1; stroke-width: 0px; fill: rgb(0, 0, 255); fill-opacity: 1;\"/><path class=\"point\" transform=\"translate(239.23,289.31)\" d=\"M3,0A3,3 0 1,1 0,-3A3,3 0 0,1 3,0Z\" style=\"opacity: 1; stroke-width: 0px; fill: rgb(0, 0, 255); fill-opacity: 1;\"/><path class=\"point\" transform=\"translate(193.75,278.73)\" d=\"M3,0A3,3 0 1,1 0,-3A3,3 0 0,1 3,0Z\" style=\"opacity: 1; stroke-width: 0px; fill: rgb(0, 0, 255); fill-opacity: 1;\"/><path class=\"point\" transform=\"translate(145.67,268.19)\" d=\"M3,0A3,3 0 1,1 0,-3A3,3 0 0,1 3,0Z\" style=\"opacity: 1; stroke-width: 0px; fill: rgb(0, 0, 255); fill-opacity: 1;\"/><path class=\"point\" transform=\"translate(168.43,270.65)\" d=\"M3,0A3,3 0 1,1 0,-3A3,3 0 0,1 3,0Z\" style=\"opacity: 1; stroke-width: 0px; fill: rgb(0, 0, 255); fill-opacity: 1;\"/><path class=\"point\" transform=\"translate(158.73,265.45)\" d=\"M3,0A3,3 0 1,1 0,-3A3,3 0 0,1 3,0Z\" style=\"opacity: 1; stroke-width: 0px; fill: rgb(0, 0, 255); fill-opacity: 1;\"/><path class=\"point\" transform=\"translate(179.83,285.75)\" d=\"M3,0A3,3 0 1,1 0,-3A3,3 0 0,1 3,0Z\" style=\"opacity: 1; stroke-width: 0px; fill: rgb(0, 0, 255); fill-opacity: 1;\"/><path class=\"point\" transform=\"translate(126.03,291.65)\" d=\"M3,0A3,3 0 1,1 0,-3A3,3 0 0,1 3,0Z\" style=\"opacity: 1; stroke-width: 0px; fill: rgb(0, 0, 255); fill-opacity: 1;\"/><path class=\"point\" transform=\"translate(257.81,229.15)\" d=\"M3,0A3,3 0 1,1 0,-3A3,3 0 0,1 3,0Z\" style=\"opacity: 1; stroke-width: 0px; fill: rgb(0, 0, 255); fill-opacity: 1;\"/><path class=\"point\" transform=\"translate(205.05,212.39)\" d=\"M3,0A3,3 0 1,1 0,-3A3,3 0 0,1 3,0Z\" style=\"opacity: 1; stroke-width: 0px; fill: rgb(0, 0, 255); fill-opacity: 1;\"/><path class=\"point\" transform=\"translate(177.22,248.79)\" d=\"M3,0A3,3 0 1,1 0,-3A3,3 0 0,1 3,0Z\" style=\"opacity: 1; stroke-width: 0px; fill: rgb(0, 0, 255); fill-opacity: 1;\"/><path class=\"point\" transform=\"translate(304.25,292.21)\" d=\"M3,0A3,3 0 1,1 0,-3A3,3 0 0,1 3,0Z\" style=\"opacity: 1; stroke-width: 0px; fill: rgb(0, 0, 255); fill-opacity: 1;\"/><path class=\"point\" transform=\"translate(231.32,265.14)\" d=\"M3,0A3,3 0 1,1 0,-3A3,3 0 0,1 3,0Z\" style=\"opacity: 1; stroke-width: 0px; fill: rgb(0, 0, 255); fill-opacity: 1;\"/><path class=\"point\" transform=\"translate(244.78,217.16)\" d=\"M3,0A3,3 0 1,1 0,-3A3,3 0 0,1 3,0Z\" style=\"opacity: 1; stroke-width: 0px; fill: rgb(0, 0, 255); fill-opacity: 1;\"/><path class=\"point\" transform=\"translate(168.01,299.03)\" d=\"M3,0A3,3 0 1,1 0,-3A3,3 0 0,1 3,0Z\" style=\"opacity: 1; stroke-width: 0px; fill: rgb(0, 0, 255); fill-opacity: 1;\"/><path class=\"point\" transform=\"translate(115.66,293.85)\" d=\"M3,0A3,3 0 1,1 0,-3A3,3 0 0,1 3,0Z\" style=\"opacity: 1; stroke-width: 0px; fill: rgb(0, 0, 255); fill-opacity: 1;\"/><path class=\"point\" transform=\"translate(209.17,268.32)\" d=\"M3,0A3,3 0 1,1 0,-3A3,3 0 0,1 3,0Z\" style=\"opacity: 1; stroke-width: 0px; fill: rgb(0, 0, 255); fill-opacity: 1;\"/><path class=\"point\" transform=\"translate(222.68,241.76)\" d=\"M3,0A3,3 0 1,1 0,-3A3,3 0 0,1 3,0Z\" style=\"opacity: 1; stroke-width: 0px; fill: rgb(0, 0, 255); fill-opacity: 1;\"/><path class=\"point\" transform=\"translate(200.39,287.56)\" d=\"M3,0A3,3 0 1,1 0,-3A3,3 0 0,1 3,0Z\" style=\"opacity: 1; stroke-width: 0px; fill: rgb(0, 0, 255); fill-opacity: 1;\"/><path class=\"point\" transform=\"translate(212.72,283.25)\" d=\"M3,0A3,3 0 1,1 0,-3A3,3 0 0,1 3,0Z\" style=\"opacity: 1; stroke-width: 0px; fill: rgb(0, 0, 255); fill-opacity: 1;\"/><path class=\"point\" transform=\"translate(201.7,265.27)\" d=\"M3,0A3,3 0 1,1 0,-3A3,3 0 0,1 3,0Z\" style=\"opacity: 1; stroke-width: 0px; fill: rgb(0, 0, 255); fill-opacity: 1;\"/><path class=\"point\" transform=\"translate(276.54,221.92)\" d=\"M3,0A3,3 0 1,1 0,-3A3,3 0 0,1 3,0Z\" style=\"opacity: 1; stroke-width: 0px; fill: rgb(0, 0, 255); fill-opacity: 1;\"/><path class=\"point\" transform=\"translate(217.21,252.43)\" d=\"M3,0A3,3 0 1,1 0,-3A3,3 0 0,1 3,0Z\" style=\"opacity: 1; stroke-width: 0px; fill: rgb(0, 0, 255); fill-opacity: 1;\"/><path class=\"point\" transform=\"translate(355.16,269.83)\" d=\"M3,0A3,3 0 1,1 0,-3A3,3 0 0,1 3,0Z\" style=\"opacity: 1; stroke-width: 0px; fill: rgb(0, 0, 255); fill-opacity: 1;\"/><path class=\"point\" transform=\"translate(219.26,273.6)\" d=\"M3,0A3,3 0 1,1 0,-3A3,3 0 0,1 3,0Z\" style=\"opacity: 1; stroke-width: 0px; fill: rgb(0, 0, 255); fill-opacity: 1;\"/><path class=\"point\" transform=\"translate(123.28,281.94)\" d=\"M3,0A3,3 0 1,1 0,-3A3,3 0 0,1 3,0Z\" style=\"opacity: 1; stroke-width: 0px; fill: rgb(0, 0, 255); fill-opacity: 1;\"/><path class=\"point\" transform=\"translate(127.41,250.45)\" d=\"M3,0A3,3 0 1,1 0,-3A3,3 0 0,1 3,0Z\" style=\"opacity: 1; stroke-width: 0px; fill: rgb(0, 0, 255); fill-opacity: 1;\"/><path class=\"point\" transform=\"translate(186.18,236.23)\" d=\"M3,0A3,3 0 1,1 0,-3A3,3 0 0,1 3,0Z\" style=\"opacity: 1; stroke-width: 0px; fill: rgb(0, 0, 255); fill-opacity: 1;\"/><path class=\"point\" transform=\"translate(162.87,129.57)\" d=\"M3,0A3,3 0 1,1 0,-3A3,3 0 0,1 3,0Z\" style=\"opacity: 1; stroke-width: 0px; fill: rgb(0, 0, 255); fill-opacity: 1;\"/><path class=\"point\" transform=\"translate(266.42,227.72)\" d=\"M3,0A3,3 0 1,1 0,-3A3,3 0 0,1 3,0Z\" style=\"opacity: 1; stroke-width: 0px; fill: rgb(0, 0, 255); fill-opacity: 1;\"/><path class=\"point\" transform=\"translate(143.24,273.05)\" d=\"M3,0A3,3 0 1,1 0,-3A3,3 0 0,1 3,0Z\" style=\"opacity: 1; stroke-width: 0px; fill: rgb(0, 0, 255); fill-opacity: 1;\"/><path class=\"point\" transform=\"translate(428.46,285.57)\" d=\"M3,0A3,3 0 1,1 0,-3A3,3 0 0,1 3,0Z\" style=\"opacity: 1; stroke-width: 0px; fill: rgb(0, 0, 255); fill-opacity: 1;\"/><path class=\"point\" transform=\"translate(192.43,108.75)\" d=\"M3,0A3,3 0 1,1 0,-3A3,3 0 0,1 3,0Z\" style=\"opacity: 1; stroke-width: 0px; fill: rgb(0, 0, 255); fill-opacity: 1;\"/><path class=\"point\" transform=\"translate(201.16,254.1)\" d=\"M3,0A3,3 0 1,1 0,-3A3,3 0 0,1 3,0Z\" style=\"opacity: 1; stroke-width: 0px; fill: rgb(0, 0, 255); fill-opacity: 1;\"/><path class=\"point\" transform=\"translate(171.71,262.01)\" d=\"M3,0A3,3 0 1,1 0,-3A3,3 0 0,1 3,0Z\" style=\"opacity: 1; stroke-width: 0px; fill: rgb(0, 0, 255); fill-opacity: 1;\"/><path class=\"point\" transform=\"translate(176.66,107.88)\" d=\"M3,0A3,3 0 1,1 0,-3A3,3 0 0,1 3,0Z\" style=\"opacity: 1; stroke-width: 0px; fill: rgb(0, 0, 255); fill-opacity: 1;\"/><path class=\"point\" transform=\"translate(159.19,267.25)\" d=\"M3,0A3,3 0 1,1 0,-3A3,3 0 0,1 3,0Z\" style=\"opacity: 1; stroke-width: 0px; fill: rgb(0, 0, 255); fill-opacity: 1;\"/><path class=\"point\" transform=\"translate(224.5,266.46)\" d=\"M3,0A3,3 0 1,1 0,-3A3,3 0 0,1 3,0Z\" style=\"opacity: 1; stroke-width: 0px; fill: rgb(0, 0, 255); fill-opacity: 1;\"/><path class=\"point\" transform=\"translate(179.96,185.24)\" d=\"M3,0A3,3 0 1,1 0,-3A3,3 0 0,1 3,0Z\" style=\"opacity: 1; stroke-width: 0px; fill: rgb(0, 0, 255); fill-opacity: 1;\"/><path class=\"point\" transform=\"translate(240.7,262.45)\" d=\"M3,0A3,3 0 1,1 0,-3A3,3 0 0,1 3,0Z\" style=\"opacity: 1; stroke-width: 0px; fill: rgb(0, 0, 255); fill-opacity: 1;\"/><path class=\"point\" transform=\"translate(182.95,282.65)\" d=\"M3,0A3,3 0 1,1 0,-3A3,3 0 0,1 3,0Z\" style=\"opacity: 1; stroke-width: 0px; fill: rgb(0, 0, 255); fill-opacity: 1;\"/><path class=\"point\" transform=\"translate(195.52,249.43)\" d=\"M3,0A3,3 0 1,1 0,-3A3,3 0 0,1 3,0Z\" style=\"opacity: 1; stroke-width: 0px; fill: rgb(0, 0, 255); fill-opacity: 1;\"/><path class=\"point\" transform=\"translate(196.75,277.26)\" d=\"M3,0A3,3 0 1,1 0,-3A3,3 0 0,1 3,0Z\" style=\"opacity: 1; stroke-width: 0px; fill: rgb(0, 0, 255); fill-opacity: 1;\"/><path class=\"point\" transform=\"translate(235.63,298.24)\" d=\"M3,0A3,3 0 1,1 0,-3A3,3 0 0,1 3,0Z\" style=\"opacity: 1; stroke-width: 0px; fill: rgb(0, 0, 255); fill-opacity: 1;\"/><path class=\"point\" transform=\"translate(135.05,286.71)\" d=\"M3,0A3,3 0 1,1 0,-3A3,3 0 0,1 3,0Z\" style=\"opacity: 1; stroke-width: 0px; fill: rgb(0, 0, 255); fill-opacity: 1;\"/><path class=\"point\" transform=\"translate(181.62,246.57)\" d=\"M3,0A3,3 0 1,1 0,-3A3,3 0 0,1 3,0Z\" style=\"opacity: 1; stroke-width: 0px; fill: rgb(0, 0, 255); fill-opacity: 1;\"/><path class=\"point\" transform=\"translate(178.78,297.33)\" d=\"M3,0A3,3 0 1,1 0,-3A3,3 0 0,1 3,0Z\" style=\"opacity: 1; stroke-width: 0px; fill: rgb(0, 0, 255); fill-opacity: 1;\"/><path class=\"point\" transform=\"translate(255.11,289.68)\" d=\"M3,0A3,3 0 1,1 0,-3A3,3 0 0,1 3,0Z\" style=\"opacity: 1; stroke-width: 0px; fill: rgb(0, 0, 255); fill-opacity: 1;\"/><path class=\"point\" transform=\"translate(244.37,166.78)\" d=\"M3,0A3,3 0 1,1 0,-3A3,3 0 0,1 3,0Z\" style=\"opacity: 1; stroke-width: 0px; fill: rgb(0, 0, 255); fill-opacity: 1;\"/><path class=\"point\" transform=\"translate(300.23,275.2)\" d=\"M3,0A3,3 0 1,1 0,-3A3,3 0 0,1 3,0Z\" style=\"opacity: 1; stroke-width: 0px; fill: rgb(0, 0, 255); fill-opacity: 1;\"/><path class=\"point\" transform=\"translate(196.78,293.95)\" d=\"M3,0A3,3 0 1,1 0,-3A3,3 0 0,1 3,0Z\" style=\"opacity: 1; stroke-width: 0px; fill: rgb(0, 0, 255); fill-opacity: 1;\"/><path class=\"point\" transform=\"translate(190.95,233.03)\" d=\"M3,0A3,3 0 1,1 0,-3A3,3 0 0,1 3,0Z\" style=\"opacity: 1; stroke-width: 0px; fill: rgb(0, 0, 255); fill-opacity: 1;\"/><path class=\"point\" transform=\"translate(112.6,296.96)\" d=\"M3,0A3,3 0 1,1 0,-3A3,3 0 0,1 3,0Z\" style=\"opacity: 1; stroke-width: 0px; fill: rgb(0, 0, 255); fill-opacity: 1;\"/><path class=\"point\" transform=\"translate(166.3,229.05)\" d=\"M3,0A3,3 0 1,1 0,-3A3,3 0 0,1 3,0Z\" style=\"opacity: 1; stroke-width: 0px; fill: rgb(0, 0, 255); fill-opacity: 1;\"/><path class=\"point\" transform=\"translate(139.7,293.1)\" d=\"M3,0A3,3 0 1,1 0,-3A3,3 0 0,1 3,0Z\" style=\"opacity: 1; stroke-width: 0px; fill: rgb(0, 0, 255); fill-opacity: 1;\"/><path class=\"point\" transform=\"translate(209.13,292.96)\" d=\"M3,0A3,3 0 1,1 0,-3A3,3 0 0,1 3,0Z\" style=\"opacity: 1; stroke-width: 0px; fill: rgb(0, 0, 255); fill-opacity: 1;\"/><path class=\"point\" transform=\"translate(242.91,284.99)\" d=\"M3,0A3,3 0 1,1 0,-3A3,3 0 0,1 3,0Z\" style=\"opacity: 1; stroke-width: 0px; fill: rgb(0, 0, 255); fill-opacity: 1;\"/><path class=\"point\" transform=\"translate(238.07,279.58)\" d=\"M3,0A3,3 0 1,1 0,-3A3,3 0 0,1 3,0Z\" style=\"opacity: 1; stroke-width: 0px; fill: rgb(0, 0, 255); fill-opacity: 1;\"/><path class=\"point\" transform=\"translate(44.54,294.03)\" d=\"M3,0A3,3 0 1,1 0,-3A3,3 0 0,1 3,0Z\" style=\"opacity: 1; stroke-width: 0px; fill: rgb(0, 0, 255); fill-opacity: 1;\"/><path class=\"point\" transform=\"translate(92.22,297.83)\" d=\"M3,0A3,3 0 1,1 0,-3A3,3 0 0,1 3,0Z\" style=\"opacity: 1; stroke-width: 0px; fill: rgb(0, 0, 255); fill-opacity: 1;\"/><path class=\"point\" transform=\"translate(174.76,295.72)\" d=\"M3,0A3,3 0 1,1 0,-3A3,3 0 0,1 3,0Z\" style=\"opacity: 1; stroke-width: 0px; fill: rgb(0, 0, 255); fill-opacity: 1;\"/><path class=\"point\" transform=\"translate(241.09,293.32)\" d=\"M3,0A3,3 0 1,1 0,-3A3,3 0 0,1 3,0Z\" style=\"opacity: 1; stroke-width: 0px; fill: rgb(0, 0, 255); fill-opacity: 1;\"/><path class=\"point\" transform=\"translate(124.31,259.05)\" d=\"M3,0A3,3 0 1,1 0,-3A3,3 0 0,1 3,0Z\" style=\"opacity: 1; stroke-width: 0px; fill: rgb(0, 0, 255); fill-opacity: 1;\"/><path class=\"point\" transform=\"translate(222.01,244.79)\" d=\"M3,0A3,3 0 1,1 0,-3A3,3 0 0,1 3,0Z\" style=\"opacity: 1; stroke-width: 0px; fill: rgb(0, 0, 255); fill-opacity: 1;\"/><path class=\"point\" transform=\"translate(137.17,243.66)\" d=\"M3,0A3,3 0 1,1 0,-3A3,3 0 0,1 3,0Z\" style=\"opacity: 1; stroke-width: 0px; fill: rgb(0, 0, 255); fill-opacity: 1;\"/><path class=\"point\" transform=\"translate(116.81,270.07)\" d=\"M3,0A3,3 0 1,1 0,-3A3,3 0 0,1 3,0Z\" style=\"opacity: 1; stroke-width: 0px; fill: rgb(0, 0, 255); fill-opacity: 1;\"/><path class=\"point\" transform=\"translate(141.53,283.08)\" d=\"M3,0A3,3 0 1,1 0,-3A3,3 0 0,1 3,0Z\" style=\"opacity: 1; stroke-width: 0px; fill: rgb(0, 0, 255); fill-opacity: 1;\"/><path class=\"point\" transform=\"translate(219.4,203.59)\" d=\"M3,0A3,3 0 1,1 0,-3A3,3 0 0,1 3,0Z\" style=\"opacity: 1; stroke-width: 0px; fill: rgb(0, 0, 255); fill-opacity: 1;\"/><path class=\"point\" transform=\"translate(109.48,291.89)\" d=\"M3,0A3,3 0 1,1 0,-3A3,3 0 0,1 3,0Z\" style=\"opacity: 1; stroke-width: 0px; fill: rgb(0, 0, 255); fill-opacity: 1;\"/><path class=\"point\" transform=\"translate(111.97,294.53)\" d=\"M3,0A3,3 0 1,1 0,-3A3,3 0 0,1 3,0Z\" style=\"opacity: 1; stroke-width: 0px; fill: rgb(0, 0, 255); fill-opacity: 1;\"/><path class=\"point\" transform=\"translate(264.21,282.18)\" d=\"M3,0A3,3 0 1,1 0,-3A3,3 0 0,1 3,0Z\" style=\"opacity: 1; stroke-width: 0px; fill: rgb(0, 0, 255); fill-opacity: 1;\"/><path class=\"point\" transform=\"translate(223.37,244.14)\" d=\"M3,0A3,3 0 1,1 0,-3A3,3 0 0,1 3,0Z\" style=\"opacity: 1; stroke-width: 0px; fill: rgb(0, 0, 255); fill-opacity: 1;\"/><path class=\"point\" transform=\"translate(240.16,297.87)\" d=\"M3,0A3,3 0 1,1 0,-3A3,3 0 0,1 3,0Z\" style=\"opacity: 1; stroke-width: 0px; fill: rgb(0, 0, 255); fill-opacity: 1;\"/><path class=\"point\" transform=\"translate(266.9,293.05)\" d=\"M3,0A3,3 0 1,1 0,-3A3,3 0 0,1 3,0Z\" style=\"opacity: 1; stroke-width: 0px; fill: rgb(0, 0, 255); fill-opacity: 1;\"/><path class=\"point\" transform=\"translate(255.39,276.48)\" d=\"M3,0A3,3 0 1,1 0,-3A3,3 0 0,1 3,0Z\" style=\"opacity: 1; stroke-width: 0px; fill: rgb(0, 0, 255); fill-opacity: 1;\"/><path class=\"point\" transform=\"translate(185.24,161.16)\" d=\"M3,0A3,3 0 1,1 0,-3A3,3 0 0,1 3,0Z\" style=\"opacity: 1; stroke-width: 0px; fill: rgb(0, 0, 255); fill-opacity: 1;\"/><path class=\"point\" transform=\"translate(213.19,255.27)\" d=\"M3,0A3,3 0 1,1 0,-3A3,3 0 0,1 3,0Z\" style=\"opacity: 1; stroke-width: 0px; fill: rgb(0, 0, 255); fill-opacity: 1;\"/><path class=\"point\" transform=\"translate(282.46,290.64)\" d=\"M3,0A3,3 0 1,1 0,-3A3,3 0 0,1 3,0Z\" style=\"opacity: 1; stroke-width: 0px; fill: rgb(0, 0, 255); fill-opacity: 1;\"/><path class=\"point\" transform=\"translate(121.12,299.43)\" d=\"M3,0A3,3 0 1,1 0,-3A3,3 0 0,1 3,0Z\" style=\"opacity: 1; stroke-width: 0px; fill: rgb(0, 0, 255); fill-opacity: 1;\"/><path class=\"point\" transform=\"translate(249.8,171.96)\" d=\"M3,0A3,3 0 1,1 0,-3A3,3 0 0,1 3,0Z\" style=\"opacity: 1; stroke-width: 0px; fill: rgb(0, 0, 255); fill-opacity: 1;\"/><path class=\"point\" transform=\"translate(197.66,146.11)\" d=\"M3,0A3,3 0 1,1 0,-3A3,3 0 0,1 3,0Z\" style=\"opacity: 1; stroke-width: 0px; fill: rgb(0, 0, 255); fill-opacity: 1;\"/><path class=\"point\" transform=\"translate(216.82,285.82)\" d=\"M3,0A3,3 0 1,1 0,-3A3,3 0 0,1 3,0Z\" style=\"opacity: 1; stroke-width: 0px; fill: rgb(0, 0, 255); fill-opacity: 1;\"/><path class=\"point\" transform=\"translate(200.38,160.61)\" d=\"M3,0A3,3 0 1,1 0,-3A3,3 0 0,1 3,0Z\" style=\"opacity: 1; stroke-width: 0px; fill: rgb(0, 0, 255); fill-opacity: 1;\"/><path class=\"point\" transform=\"translate(212.97,221.61)\" d=\"M3,0A3,3 0 1,1 0,-3A3,3 0 0,1 3,0Z\" style=\"opacity: 1; stroke-width: 0px; fill: rgb(0, 0, 255); fill-opacity: 1;\"/><path class=\"point\" transform=\"translate(252.39,295.7)\" d=\"M3,0A3,3 0 1,1 0,-3A3,3 0 0,1 3,0Z\" style=\"opacity: 1; stroke-width: 0px; fill: rgb(0, 0, 255); fill-opacity: 1;\"/><path class=\"point\" transform=\"translate(187.21,198.17)\" d=\"M3,0A3,3 0 1,1 0,-3A3,3 0 0,1 3,0Z\" style=\"opacity: 1; stroke-width: 0px; fill: rgb(0, 0, 255); fill-opacity: 1;\"/><path class=\"point\" transform=\"translate(364.54,259.03)\" d=\"M3,0A3,3 0 1,1 0,-3A3,3 0 0,1 3,0Z\" style=\"opacity: 1; stroke-width: 0px; fill: rgb(0, 0, 255); fill-opacity: 1;\"/><path class=\"point\" transform=\"translate(229.74,285.59)\" d=\"M3,0A3,3 0 1,1 0,-3A3,3 0 0,1 3,0Z\" style=\"opacity: 1; stroke-width: 0px; fill: rgb(0, 0, 255); fill-opacity: 1;\"/><path class=\"point\" transform=\"translate(199.46,239)\" d=\"M3,0A3,3 0 1,1 0,-3A3,3 0 0,1 3,0Z\" style=\"opacity: 1; stroke-width: 0px; fill: rgb(0, 0, 255); fill-opacity: 1;\"/><path class=\"point\" transform=\"translate(245.35,279.05)\" d=\"M3,0A3,3 0 1,1 0,-3A3,3 0 0,1 3,0Z\" style=\"opacity: 1; stroke-width: 0px; fill: rgb(0, 0, 255); fill-opacity: 1;\"/><path class=\"point\" transform=\"translate(183.95,280.55)\" d=\"M3,0A3,3 0 1,1 0,-3A3,3 0 0,1 3,0Z\" style=\"opacity: 1; stroke-width: 0px; fill: rgb(0, 0, 255); fill-opacity: 1;\"/><path class=\"point\" transform=\"translate(204.27,281.27)\" d=\"M3,0A3,3 0 1,1 0,-3A3,3 0 0,1 3,0Z\" style=\"opacity: 1; stroke-width: 0px; fill: rgb(0, 0, 255); fill-opacity: 1;\"/><path class=\"point\" transform=\"translate(223.45,258.73)\" d=\"M3,0A3,3 0 1,1 0,-3A3,3 0 0,1 3,0Z\" style=\"opacity: 1; stroke-width: 0px; fill: rgb(0, 0, 255); fill-opacity: 1;\"/><path class=\"point\" transform=\"translate(269.8,290.69)\" d=\"M3,0A3,3 0 1,1 0,-3A3,3 0 0,1 3,0Z\" style=\"opacity: 1; stroke-width: 0px; fill: rgb(0, 0, 255); fill-opacity: 1;\"/></g><g class=\"text\"/></g></g></g><g class=\"overplot\"><g class=\"xy2\" transform=\"translate(80,100)\" clip-path=\"url(#clip84685bxy2plot)\"><g class=\"scatterlayer mlayer\"><g class=\"trace scatter tracee37233\" style=\"stroke-miterlimit: 2; opacity: 1;\"><g class=\"fills\"/><g class=\"errorbars\"/><g class=\"lines\"/><g class=\"points\"><path class=\"point\" transform=\"translate(171.13,292.48)\" d=\"M3,0A3,3 0 1,1 0,-3A3,3 0 0,1 3,0Z\" style=\"opacity: 1; stroke-width: 0px; fill: rgb(255, 0, 0); fill-opacity: 1;\"/><path class=\"point\" transform=\"translate(195.52,235.41)\" d=\"M3,0A3,3 0 1,1 0,-3A3,3 0 0,1 3,0Z\" style=\"opacity: 1; stroke-width: 0px; fill: rgb(255, 0, 0); fill-opacity: 1;\"/><path class=\"point\" transform=\"translate(225.73,266.51)\" d=\"M3,0A3,3 0 1,1 0,-3A3,3 0 0,1 3,0Z\" style=\"opacity: 1; stroke-width: 0px; fill: rgb(255, 0, 0); fill-opacity: 1;\"/><path class=\"point\" transform=\"translate(239.24,295.43)\" d=\"M3,0A3,3 0 1,1 0,-3A3,3 0 0,1 3,0Z\" style=\"opacity: 1; stroke-width: 0px; fill: rgb(255, 0, 0); fill-opacity: 1;\"/><path class=\"point\" transform=\"translate(151.19,268.23)\" d=\"M3,0A3,3 0 1,1 0,-3A3,3 0 0,1 3,0Z\" style=\"opacity: 1; stroke-width: 0px; fill: rgb(255, 0, 0); fill-opacity: 1;\"/><path class=\"point\" transform=\"translate(245.62,292.74)\" d=\"M3,0A3,3 0 1,1 0,-3A3,3 0 0,1 3,0Z\" style=\"opacity: 1; stroke-width: 0px; fill: rgb(255, 0, 0); fill-opacity: 1;\"/><path class=\"point\" transform=\"translate(231.63,240.04)\" d=\"M3,0A3,3 0 1,1 0,-3A3,3 0 0,1 3,0Z\" style=\"opacity: 1; stroke-width: 0px; fill: rgb(255, 0, 0); fill-opacity: 1;\"/><path class=\"point\" transform=\"translate(232.09,273.72)\" d=\"M3,0A3,3 0 1,1 0,-3A3,3 0 0,1 3,0Z\" style=\"opacity: 1; stroke-width: 0px; fill: rgb(255, 0, 0); fill-opacity: 1;\"/><path class=\"point\" transform=\"translate(234.21,279.83)\" d=\"M3,0A3,3 0 1,1 0,-3A3,3 0 0,1 3,0Z\" style=\"opacity: 1; stroke-width: 0px; fill: rgb(255, 0, 0); fill-opacity: 1;\"/><path class=\"point\" transform=\"translate(338.92,277.36)\" d=\"M3,0A3,3 0 1,1 0,-3A3,3 0 0,1 3,0Z\" style=\"opacity: 1; stroke-width: 0px; fill: rgb(255, 0, 0); fill-opacity: 1;\"/><path class=\"point\" transform=\"translate(180.13,288.13)\" d=\"M3,0A3,3 0 1,1 0,-3A3,3 0 0,1 3,0Z\" style=\"opacity: 1; stroke-width: 0px; fill: rgb(255, 0, 0); fill-opacity: 1;\"/><path class=\"point\" transform=\"translate(212.4,268.36)\" d=\"M3,0A3,3 0 1,1 0,-3A3,3 0 0,1 3,0Z\" style=\"opacity: 1; stroke-width: 0px; fill: rgb(255, 0, 0); fill-opacity: 1;\"/><path class=\"point\" transform=\"translate(196.17,279.28)\" d=\"M3,0A3,3 0 1,1 0,-3A3,3 0 0,1 3,0Z\" style=\"opacity: 1; stroke-width: 0px; fill: rgb(255, 0, 0); fill-opacity: 1;\"/><path class=\"point\" transform=\"translate(261.39,19.75)\" d=\"M3,0A3,3 0 1,1 0,-3A3,3 0 0,1 3,0Z\" style=\"opacity: 1; stroke-width: 0px; fill: rgb(255, 0, 0); fill-opacity: 1;\"/><path class=\"point\" transform=\"translate(240.67,278.39)\" d=\"M3,0A3,3 0 1,1 0,-3A3,3 0 0,1 3,0Z\" style=\"opacity: 1; stroke-width: 0px; fill: rgb(255, 0, 0); fill-opacity: 1;\"/><path class=\"point\" transform=\"translate(260.21,273.88)\" d=\"M3,0A3,3 0 1,1 0,-3A3,3 0 0,1 3,0Z\" style=\"opacity: 1; stroke-width: 0px; fill: rgb(255, 0, 0); fill-opacity: 1;\"/><path class=\"point\" transform=\"translate(84.21,268.12)\" d=\"M3,0A3,3 0 1,1 0,-3A3,3 0 0,1 3,0Z\" style=\"opacity: 1; stroke-width: 0px; fill: rgb(255, 0, 0); fill-opacity: 1;\"/><path class=\"point\" transform=\"translate(228.89,170.09)\" d=\"M3,0A3,3 0 1,1 0,-3A3,3 0 0,1 3,0Z\" style=\"opacity: 1; stroke-width: 0px; fill: rgb(255, 0, 0); fill-opacity: 1;\"/><path class=\"point\" transform=\"translate(208.8,226.8)\" d=\"M3,0A3,3 0 1,1 0,-3A3,3 0 0,1 3,0Z\" style=\"opacity: 1; stroke-width: 0px; fill: rgb(255, 0, 0); fill-opacity: 1;\"/><path class=\"point\" transform=\"translate(219.01,229.19)\" d=\"M3,0A3,3 0 1,1 0,-3A3,3 0 0,1 3,0Z\" style=\"opacity: 1; stroke-width: 0px; fill: rgb(255, 0, 0); fill-opacity: 1;\"/><path class=\"point\" transform=\"translate(155.59,238.09)\" d=\"M3,0A3,3 0 1,1 0,-3A3,3 0 0,1 3,0Z\" style=\"opacity: 1; stroke-width: 0px; fill: rgb(255, 0, 0); fill-opacity: 1;\"/><path class=\"point\" transform=\"translate(244.68,257.95)\" d=\"M3,0A3,3 0 1,1 0,-3A3,3 0 0,1 3,0Z\" style=\"opacity: 1; stroke-width: 0px; fill: rgb(255, 0, 0); fill-opacity: 1;\"/><path class=\"point\" transform=\"translate(268.31,241.38)\" d=\"M3,0A3,3 0 1,1 0,-3A3,3 0 0,1 3,0Z\" style=\"opacity: 1; stroke-width: 0px; fill: rgb(255, 0, 0); fill-opacity: 1;\"/><path class=\"point\" transform=\"translate(169.56,286.63)\" d=\"M3,0A3,3 0 1,1 0,-3A3,3 0 0,1 3,0Z\" style=\"opacity: 1; stroke-width: 0px; fill: rgb(255, 0, 0); fill-opacity: 1;\"/><path class=\"point\" transform=\"translate(153.7,289.44)\" d=\"M3,0A3,3 0 1,1 0,-3A3,3 0 0,1 3,0Z\" style=\"opacity: 1; stroke-width: 0px; fill: rgb(255, 0, 0); fill-opacity: 1;\"/><path class=\"point\" transform=\"translate(226.13,281.91)\" d=\"M3,0A3,3 0 1,1 0,-3A3,3 0 0,1 3,0Z\" style=\"opacity: 1; stroke-width: 0px; fill: rgb(255, 0, 0); fill-opacity: 1;\"/><path class=\"point\" transform=\"translate(177.2,285.31)\" d=\"M3,0A3,3 0 1,1 0,-3A3,3 0 0,1 3,0Z\" style=\"opacity: 1; stroke-width: 0px; fill: rgb(255, 0, 0); fill-opacity: 1;\"/><path class=\"point\" transform=\"translate(138.71,292.26)\" d=\"M3,0A3,3 0 1,1 0,-3A3,3 0 0,1 3,0Z\" style=\"opacity: 1; stroke-width: 0px; fill: rgb(255, 0, 0); fill-opacity: 1;\"/><path class=\"point\" transform=\"translate(203.82,242.12)\" d=\"M3,0A3,3 0 1,1 0,-3A3,3 0 0,1 3,0Z\" style=\"opacity: 1; stroke-width: 0px; fill: rgb(255, 0, 0); fill-opacity: 1;\"/><path class=\"point\" transform=\"translate(153.53,293.86)\" d=\"M3,0A3,3 0 1,1 0,-3A3,3 0 0,1 3,0Z\" style=\"opacity: 1; stroke-width: 0px; fill: rgb(255, 0, 0); fill-opacity: 1;\"/><path class=\"point\" transform=\"translate(290.53,267.51)\" d=\"M3,0A3,3 0 1,1 0,-3A3,3 0 0,1 3,0Z\" style=\"opacity: 1; stroke-width: 0px; fill: rgb(255, 0, 0); fill-opacity: 1;\"/><path class=\"point\" transform=\"translate(177.38,298.72)\" d=\"M3,0A3,3 0 1,1 0,-3A3,3 0 0,1 3,0Z\" style=\"opacity: 1; stroke-width: 0px; fill: rgb(255, 0, 0); fill-opacity: 1;\"/><path class=\"point\" transform=\"translate(190.71,290.26)\" d=\"M3,0A3,3 0 1,1 0,-3A3,3 0 0,1 3,0Z\" style=\"opacity: 1; stroke-width: 0px; fill: rgb(255, 0, 0); fill-opacity: 1;\"/><path class=\"point\" transform=\"translate(242.42,262.75)\" d=\"M3,0A3,3 0 1,1 0,-3A3,3 0 0,1 3,0Z\" style=\"opacity: 1; stroke-width: 0px; fill: rgb(255, 0, 0); fill-opacity: 1;\"/><path class=\"point\" transform=\"translate(233.33,276.98)\" d=\"M3,0A3,3 0 1,1 0,-3A3,3 0 0,1 3,0Z\" style=\"opacity: 1; stroke-width: 0px; fill: rgb(255, 0, 0); fill-opacity: 1;\"/><path class=\"point\" transform=\"translate(93.66,293.23)\" d=\"M3,0A3,3 0 1,1 0,-3A3,3 0 0,1 3,0Z\" style=\"opacity: 1; stroke-width: 0px; fill: rgb(255, 0, 0); fill-opacity: 1;\"/><path class=\"point\" transform=\"translate(327.99,241.93)\" d=\"M3,0A3,3 0 1,1 0,-3A3,3 0 0,1 3,0Z\" style=\"opacity: 1; stroke-width: 0px; fill: rgb(255, 0, 0); fill-opacity: 1;\"/><path class=\"point\" transform=\"translate(210.85,284.9)\" d=\"M3,0A3,3 0 1,1 0,-3A3,3 0 0,1 3,0Z\" style=\"opacity: 1; stroke-width: 0px; fill: rgb(255, 0, 0); fill-opacity: 1;\"/><path class=\"point\" transform=\"translate(198.51,234.74)\" d=\"M3,0A3,3 0 1,1 0,-3A3,3 0 0,1 3,0Z\" style=\"opacity: 1; stroke-width: 0px; fill: rgb(255, 0, 0); fill-opacity: 1;\"/><path class=\"point\" transform=\"translate(244.25,143.3)\" d=\"M3,0A3,3 0 1,1 0,-3A3,3 0 0,1 3,0Z\" style=\"opacity: 1; stroke-width: 0px; fill: rgb(255, 0, 0); fill-opacity: 1;\"/><path class=\"point\" transform=\"translate(262.11,267.29)\" d=\"M3,0A3,3 0 1,1 0,-3A3,3 0 0,1 3,0Z\" style=\"opacity: 1; stroke-width: 0px; fill: rgb(255, 0, 0); fill-opacity: 1;\"/><path class=\"point\" transform=\"translate(84.28,271.99)\" d=\"M3,0A3,3 0 1,1 0,-3A3,3 0 0,1 3,0Z\" style=\"opacity: 1; stroke-width: 0px; fill: rgb(255, 0, 0); fill-opacity: 1;\"/><path class=\"point\" transform=\"translate(206.94,248.29)\" d=\"M3,0A3,3 0 1,1 0,-3A3,3 0 0,1 3,0Z\" style=\"opacity: 1; stroke-width: 0px; fill: rgb(255, 0, 0); fill-opacity: 1;\"/><path class=\"point\" transform=\"translate(205.18,289.59)\" d=\"M3,0A3,3 0 1,1 0,-3A3,3 0 0,1 3,0Z\" style=\"opacity: 1; stroke-width: 0px; fill: rgb(255, 0, 0); fill-opacity: 1;\"/><path class=\"point\" transform=\"translate(253.2,216.3)\" d=\"M3,0A3,3 0 1,1 0,-3A3,3 0 0,1 3,0Z\" style=\"opacity: 1; stroke-width: 0px; fill: rgb(255, 0, 0); fill-opacity: 1;\"/><path class=\"point\" transform=\"translate(271.86,197.79)\" d=\"M3,0A3,3 0 1,1 0,-3A3,3 0 0,1 3,0Z\" style=\"opacity: 1; stroke-width: 0px; fill: rgb(255, 0, 0); fill-opacity: 1;\"/><path class=\"point\" transform=\"translate(118.84,298.57)\" d=\"M3,0A3,3 0 1,1 0,-3A3,3 0 0,1 3,0Z\" style=\"opacity: 1; stroke-width: 0px; fill: rgb(255, 0, 0); fill-opacity: 1;\"/><path class=\"point\" transform=\"translate(221.09,291.19)\" d=\"M3,0A3,3 0 1,1 0,-3A3,3 0 0,1 3,0Z\" style=\"opacity: 1; stroke-width: 0px; fill: rgb(255, 0, 0); fill-opacity: 1;\"/><path class=\"point\" transform=\"translate(236.94,278.63)\" d=\"M3,0A3,3 0 1,1 0,-3A3,3 0 0,1 3,0Z\" style=\"opacity: 1; stroke-width: 0px; fill: rgb(255, 0, 0); fill-opacity: 1;\"/><path class=\"point\" transform=\"translate(198.51,288.48)\" d=\"M3,0A3,3 0 1,1 0,-3A3,3 0 0,1 3,0Z\" style=\"opacity: 1; stroke-width: 0px; fill: rgb(255, 0, 0); fill-opacity: 1;\"/><path class=\"point\" transform=\"translate(160.22,292.99)\" d=\"M3,0A3,3 0 1,1 0,-3A3,3 0 0,1 3,0Z\" style=\"opacity: 1; stroke-width: 0px; fill: rgb(255, 0, 0); fill-opacity: 1;\"/><path class=\"point\" transform=\"translate(189.88,298.2)\" d=\"M3,0A3,3 0 1,1 0,-3A3,3 0 0,1 3,0Z\" style=\"opacity: 1; stroke-width: 0px; fill: rgb(255, 0, 0); fill-opacity: 1;\"/><path class=\"point\" transform=\"translate(191.89,283.88)\" d=\"M3,0A3,3 0 1,1 0,-3A3,3 0 0,1 3,0Z\" style=\"opacity: 1; stroke-width: 0px; fill: rgb(255, 0, 0); fill-opacity: 1;\"/><path class=\"point\" transform=\"translate(182.03,297.25)\" d=\"M3,0A3,3 0 1,1 0,-3A3,3 0 0,1 3,0Z\" style=\"opacity: 1; stroke-width: 0px; fill: rgb(255, 0, 0); fill-opacity: 1;\"/><path class=\"point\" transform=\"translate(196.82,144.31)\" d=\"M3,0A3,3 0 1,1 0,-3A3,3 0 0,1 3,0Z\" style=\"opacity: 1; stroke-width: 0px; fill: rgb(255, 0, 0); fill-opacity: 1;\"/><path class=\"point\" transform=\"translate(173.18,265.56)\" d=\"M3,0A3,3 0 1,1 0,-3A3,3 0 0,1 3,0Z\" style=\"opacity: 1; stroke-width: 0px; fill: rgb(255, 0, 0); fill-opacity: 1;\"/><path class=\"point\" transform=\"translate(390.77,285.42)\" d=\"M3,0A3,3 0 1,1 0,-3A3,3 0 0,1 3,0Z\" style=\"opacity: 1; stroke-width: 0px; fill: rgb(255, 0, 0); fill-opacity: 1;\"/><path class=\"point\" transform=\"translate(327.93,267.95)\" d=\"M3,0A3,3 0 1,1 0,-3A3,3 0 0,1 3,0Z\" style=\"opacity: 1; stroke-width: 0px; fill: rgb(255, 0, 0); fill-opacity: 1;\"/><path class=\"point\" transform=\"translate(247.71,278.46)\" d=\"M3,0A3,3 0 1,1 0,-3A3,3 0 0,1 3,0Z\" style=\"opacity: 1; stroke-width: 0px; fill: rgb(255, 0, 0); fill-opacity: 1;\"/><path class=\"point\" transform=\"translate(189.09,275)\" d=\"M3,0A3,3 0 1,1 0,-3A3,3 0 0,1 3,0Z\" style=\"opacity: 1; stroke-width: 0px; fill: rgb(255, 0, 0); fill-opacity: 1;\"/><path class=\"point\" transform=\"translate(178.56,272.18)\" d=\"M3,0A3,3 0 1,1 0,-3A3,3 0 0,1 3,0Z\" style=\"opacity: 1; stroke-width: 0px; fill: rgb(255, 0, 0); fill-opacity: 1;\"/><path class=\"point\" transform=\"translate(193.66,289.76)\" d=\"M3,0A3,3 0 1,1 0,-3A3,3 0 0,1 3,0Z\" style=\"opacity: 1; stroke-width: 0px; fill: rgb(255, 0, 0); fill-opacity: 1;\"/><path class=\"point\" transform=\"translate(193.19,291.28)\" d=\"M3,0A3,3 0 1,1 0,-3A3,3 0 0,1 3,0Z\" style=\"opacity: 1; stroke-width: 0px; fill: rgb(255, 0, 0); fill-opacity: 1;\"/><path class=\"point\" transform=\"translate(189.4,278.9)\" d=\"M3,0A3,3 0 1,1 0,-3A3,3 0 0,1 3,0Z\" style=\"opacity: 1; stroke-width: 0px; fill: rgb(255, 0, 0); fill-opacity: 1;\"/><path class=\"point\" transform=\"translate(202.25,293.31)\" d=\"M3,0A3,3 0 1,1 0,-3A3,3 0 0,1 3,0Z\" style=\"opacity: 1; stroke-width: 0px; fill: rgb(255, 0, 0); fill-opacity: 1;\"/><path class=\"point\" transform=\"translate(210.62,253.57)\" d=\"M3,0A3,3 0 1,1 0,-3A3,3 0 0,1 3,0Z\" style=\"opacity: 1; stroke-width: 0px; fill: rgb(255, 0, 0); fill-opacity: 1;\"/><path class=\"point\" transform=\"translate(179.93,122.02)\" d=\"M3,0A3,3 0 1,1 0,-3A3,3 0 0,1 3,0Z\" style=\"opacity: 1; stroke-width: 0px; fill: rgb(255, 0, 0); fill-opacity: 1;\"/><path class=\"point\" transform=\"translate(183.96,287.16)\" d=\"M3,0A3,3 0 1,1 0,-3A3,3 0 0,1 3,0Z\" style=\"opacity: 1; stroke-width: 0px; fill: rgb(255, 0, 0); fill-opacity: 1;\"/><path class=\"point\" transform=\"translate(239.4,278.24)\" d=\"M3,0A3,3 0 1,1 0,-3A3,3 0 0,1 3,0Z\" style=\"opacity: 1; stroke-width: 0px; fill: rgb(255, 0, 0); fill-opacity: 1;\"/><path class=\"point\" transform=\"translate(173.93,282.56)\" d=\"M3,0A3,3 0 1,1 0,-3A3,3 0 0,1 3,0Z\" style=\"opacity: 1; stroke-width: 0px; fill: rgb(255, 0, 0); fill-opacity: 1;\"/><path class=\"point\" transform=\"translate(191.98,276.33)\" d=\"M3,0A3,3 0 1,1 0,-3A3,3 0 0,1 3,0Z\" style=\"opacity: 1; stroke-width: 0px; fill: rgb(255, 0, 0); fill-opacity: 1;\"/><path class=\"point\" transform=\"translate(156.98,281.96)\" d=\"M3,0A3,3 0 1,1 0,-3A3,3 0 0,1 3,0Z\" style=\"opacity: 1; stroke-width: 0px; fill: rgb(255, 0, 0); fill-opacity: 1;\"/><path class=\"point\" transform=\"translate(208.44,297.95)\" d=\"M3,0A3,3 0 1,1 0,-3A3,3 0 0,1 3,0Z\" style=\"opacity: 1; stroke-width: 0px; fill: rgb(255, 0, 0); fill-opacity: 1;\"/><path class=\"point\" transform=\"translate(121.55,284.77)\" d=\"M3,0A3,3 0 1,1 0,-3A3,3 0 0,1 3,0Z\" style=\"opacity: 1; stroke-width: 0px; fill: rgb(255, 0, 0); fill-opacity: 1;\"/><path class=\"point\" transform=\"translate(214,249.4)\" d=\"M3,0A3,3 0 1,1 0,-3A3,3 0 0,1 3,0Z\" style=\"opacity: 1; stroke-width: 0px; fill: rgb(255, 0, 0); fill-opacity: 1;\"/><path class=\"point\" transform=\"translate(148.03,284.99)\" d=\"M3,0A3,3 0 1,1 0,-3A3,3 0 0,1 3,0Z\" style=\"opacity: 1; stroke-width: 0px; fill: rgb(255, 0, 0); fill-opacity: 1;\"/><path class=\"point\" transform=\"translate(170.49,225.78)\" d=\"M3,0A3,3 0 1,1 0,-3A3,3 0 0,1 3,0Z\" style=\"opacity: 1; stroke-width: 0px; fill: rgb(255, 0, 0); fill-opacity: 1;\"/><path class=\"point\" transform=\"translate(193.4,295.98)\" d=\"M3,0A3,3 0 1,1 0,-3A3,3 0 0,1 3,0Z\" style=\"opacity: 1; stroke-width: 0px; fill: rgb(255, 0, 0); fill-opacity: 1;\"/><path class=\"point\" transform=\"translate(245.97,283.9)\" d=\"M3,0A3,3 0 1,1 0,-3A3,3 0 0,1 3,0Z\" style=\"opacity: 1; stroke-width: 0px; fill: rgb(255, 0, 0); fill-opacity: 1;\"/><path class=\"point\" transform=\"translate(271.63,298.13)\" d=\"M3,0A3,3 0 1,1 0,-3A3,3 0 0,1 3,0Z\" style=\"opacity: 1; stroke-width: 0px; fill: rgb(255, 0, 0); fill-opacity: 1;\"/><path class=\"point\" transform=\"translate(176.02,293.05)\" d=\"M3,0A3,3 0 1,1 0,-3A3,3 0 0,1 3,0Z\" style=\"opacity: 1; stroke-width: 0px; fill: rgb(255, 0, 0); fill-opacity: 1;\"/><path class=\"point\" transform=\"translate(278.95,300.12)\" d=\"M3,0A3,3 0 1,1 0,-3A3,3 0 0,1 3,0Z\" style=\"opacity: 1; stroke-width: 0px; fill: rgb(255, 0, 0); fill-opacity: 1;\"/><path class=\"point\" transform=\"translate(174.09,298.73)\" d=\"M3,0A3,3 0 1,1 0,-3A3,3 0 0,1 3,0Z\" style=\"opacity: 1; stroke-width: 0px; fill: rgb(255, 0, 0); fill-opacity: 1;\"/><path class=\"point\" transform=\"translate(191.62,296.47)\" d=\"M3,0A3,3 0 1,1 0,-3A3,3 0 0,1 3,0Z\" style=\"opacity: 1; stroke-width: 0px; fill: rgb(255, 0, 0); fill-opacity: 1;\"/><path class=\"point\" transform=\"translate(231.77,296.1)\" d=\"M3,0A3,3 0 1,1 0,-3A3,3 0 0,1 3,0Z\" style=\"opacity: 1; stroke-width: 0px; fill: rgb(255, 0, 0); fill-opacity: 1;\"/><path class=\"point\" transform=\"translate(215.11,299.71)\" d=\"M3,0A3,3 0 1,1 0,-3A3,3 0 0,1 3,0Z\" style=\"opacity: 1; stroke-width: 0px; fill: rgb(255, 0, 0); fill-opacity: 1;\"/><path class=\"point\" transform=\"translate(197.41,237.05)\" d=\"M3,0A3,3 0 1,1 0,-3A3,3 0 0,1 3,0Z\" style=\"opacity: 1; stroke-width: 0px; fill: rgb(255, 0, 0); fill-opacity: 1;\"/><path class=\"point\" transform=\"translate(238.23,287.08)\" d=\"M3,0A3,3 0 1,1 0,-3A3,3 0 0,1 3,0Z\" style=\"opacity: 1; stroke-width: 0px; fill: rgb(255, 0, 0); fill-opacity: 1;\"/><path class=\"point\" transform=\"translate(223.83,293.38)\" d=\"M3,0A3,3 0 1,1 0,-3A3,3 0 0,1 3,0Z\" style=\"opacity: 1; stroke-width: 0px; fill: rgb(255, 0, 0); fill-opacity: 1;\"/><path class=\"point\" transform=\"translate(221.66,286.92)\" d=\"M3,0A3,3 0 1,1 0,-3A3,3 0 0,1 3,0Z\" style=\"opacity: 1; stroke-width: 0px; fill: rgb(255, 0, 0); fill-opacity: 1;\"/><path class=\"point\" transform=\"translate(173.08,298.92)\" d=\"M3,0A3,3 0 1,1 0,-3A3,3 0 0,1 3,0Z\" style=\"opacity: 1; stroke-width: 0px; fill: rgb(255, 0, 0); fill-opacity: 1;\"/><path class=\"point\" transform=\"translate(128.21,284.9)\" d=\"M3,0A3,3 0 1,1 0,-3A3,3 0 0,1 3,0Z\" style=\"opacity: 1; stroke-width: 0px; fill: rgb(255, 0, 0); fill-opacity: 1;\"/><path class=\"point\" transform=\"translate(206.22,295.84)\" d=\"M3,0A3,3 0 1,1 0,-3A3,3 0 0,1 3,0Z\" style=\"opacity: 1; stroke-width: 0px; fill: rgb(255, 0, 0); fill-opacity: 1;\"/><path class=\"point\" transform=\"translate(288.7,290.7)\" d=\"M3,0A3,3 0 1,1 0,-3A3,3 0 0,1 3,0Z\" style=\"opacity: 1; stroke-width: 0px; fill: rgb(255, 0, 0); fill-opacity: 1;\"/><path class=\"point\" transform=\"translate(347.01,292.15)\" d=\"M3,0A3,3 0 1,1 0,-3A3,3 0 0,1 3,0Z\" style=\"opacity: 1; stroke-width: 0px; fill: rgb(255, 0, 0); fill-opacity: 1;\"/><path class=\"point\" transform=\"translate(246.25,300.21)\" d=\"M3,0A3,3 0 1,1 0,-3A3,3 0 0,1 3,0Z\" style=\"opacity: 1; stroke-width: 0px; fill: rgb(255, 0, 0); fill-opacity: 1;\"/><path class=\"point\" transform=\"translate(209.66,293.52)\" d=\"M3,0A3,3 0 1,1 0,-3A3,3 0 0,1 3,0Z\" style=\"opacity: 1; stroke-width: 0px; fill: rgb(255, 0, 0); fill-opacity: 1;\"/><path class=\"point\" transform=\"translate(216.83,294.04)\" d=\"M3,0A3,3 0 1,1 0,-3A3,3 0 0,1 3,0Z\" style=\"opacity: 1; stroke-width: 0px; fill: rgb(255, 0, 0); fill-opacity: 1;\"/><path class=\"point\" transform=\"translate(137.2,295.03)\" d=\"M3,0A3,3 0 1,1 0,-3A3,3 0 0,1 3,0Z\" style=\"opacity: 1; stroke-width: 0px; fill: rgb(255, 0, 0); fill-opacity: 1;\"/><path class=\"point\" transform=\"translate(167.35,283)\" d=\"M3,0A3,3 0 1,1 0,-3A3,3 0 0,1 3,0Z\" style=\"opacity: 1; stroke-width: 0px; fill: rgb(255, 0, 0); fill-opacity: 1;\"/><path class=\"point\" transform=\"translate(251.52,289.73)\" d=\"M3,0A3,3 0 1,1 0,-3A3,3 0 0,1 3,0Z\" style=\"opacity: 1; stroke-width: 0px; fill: rgb(255, 0, 0); fill-opacity: 1;\"/><path class=\"point\" transform=\"translate(289.3,288.25)\" d=\"M3,0A3,3 0 1,1 0,-3A3,3 0 0,1 3,0Z\" style=\"opacity: 1; stroke-width: 0px; fill: rgb(255, 0, 0); fill-opacity: 1;\"/><path class=\"point\" transform=\"translate(201.91,295.58)\" d=\"M3,0A3,3 0 1,1 0,-3A3,3 0 0,1 3,0Z\" style=\"opacity: 1; stroke-width: 0px; fill: rgb(255, 0, 0); fill-opacity: 1;\"/><path class=\"point\" transform=\"translate(115.91,266.9)\" d=\"M3,0A3,3 0 1,1 0,-3A3,3 0 0,1 3,0Z\" style=\"opacity: 1; stroke-width: 0px; fill: rgb(255, 0, 0); fill-opacity: 1;\"/><path class=\"point\" transform=\"translate(282.95,297.05)\" d=\"M3,0A3,3 0 1,1 0,-3A3,3 0 0,1 3,0Z\" style=\"opacity: 1; stroke-width: 0px; fill: rgb(255, 0, 0); fill-opacity: 1;\"/><path class=\"point\" transform=\"translate(216.07,293.34)\" d=\"M3,0A3,3 0 1,1 0,-3A3,3 0 0,1 3,0Z\" style=\"opacity: 1; stroke-width: 0px; fill: rgb(255, 0, 0); fill-opacity: 1;\"/><path class=\"point\" transform=\"translate(225.74,290.01)\" d=\"M3,0A3,3 0 1,1 0,-3A3,3 0 0,1 3,0Z\" style=\"opacity: 1; stroke-width: 0px; fill: rgb(255, 0, 0); fill-opacity: 1;\"/><path class=\"point\" transform=\"translate(208.71,278.7)\" d=\"M3,0A3,3 0 1,1 0,-3A3,3 0 0,1 3,0Z\" style=\"opacity: 1; stroke-width: 0px; fill: rgb(255, 0, 0); fill-opacity: 1;\"/><path class=\"point\" transform=\"translate(205.02,260.52)\" d=\"M3,0A3,3 0 1,1 0,-3A3,3 0 0,1 3,0Z\" style=\"opacity: 1; stroke-width: 0px; fill: rgb(255, 0, 0); fill-opacity: 1;\"/><path class=\"point\" transform=\"translate(259.18,298.69)\" d=\"M3,0A3,3 0 1,1 0,-3A3,3 0 0,1 3,0Z\" style=\"opacity: 1; stroke-width: 0px; fill: rgb(255, 0, 0); fill-opacity: 1;\"/><path class=\"point\" transform=\"translate(162.28,293.44)\" d=\"M3,0A3,3 0 1,1 0,-3A3,3 0 0,1 3,0Z\" style=\"opacity: 1; stroke-width: 0px; fill: rgb(255, 0, 0); fill-opacity: 1;\"/><path class=\"point\" transform=\"translate(166.77,265.2)\" d=\"M3,0A3,3 0 1,1 0,-3A3,3 0 0,1 3,0Z\" style=\"opacity: 1; stroke-width: 0px; fill: rgb(255, 0, 0); fill-opacity: 1;\"/><path class=\"point\" transform=\"translate(195.18,295.68)\" d=\"M3,0A3,3 0 1,1 0,-3A3,3 0 0,1 3,0Z\" style=\"opacity: 1; stroke-width: 0px; fill: rgb(255, 0, 0); fill-opacity: 1;\"/><path class=\"point\" transform=\"translate(223.15,271.77)\" d=\"M3,0A3,3 0 1,1 0,-3A3,3 0 0,1 3,0Z\" style=\"opacity: 1; stroke-width: 0px; fill: rgb(255, 0, 0); fill-opacity: 1;\"/><path class=\"point\" transform=\"translate(167.12,290.1)\" d=\"M3,0A3,3 0 1,1 0,-3A3,3 0 0,1 3,0Z\" style=\"opacity: 1; stroke-width: 0px; fill: rgb(255, 0, 0); fill-opacity: 1;\"/><path class=\"point\" transform=\"translate(218.49,259.59)\" d=\"M3,0A3,3 0 1,1 0,-3A3,3 0 0,1 3,0Z\" style=\"opacity: 1; stroke-width: 0px; fill: rgb(255, 0, 0); fill-opacity: 1;\"/><path class=\"point\" transform=\"translate(169.71,279.32)\" d=\"M3,0A3,3 0 1,1 0,-3A3,3 0 0,1 3,0Z\" style=\"opacity: 1; stroke-width: 0px; fill: rgb(255, 0, 0); fill-opacity: 1;\"/><path class=\"point\" transform=\"translate(222.95,289.18)\" d=\"M3,0A3,3 0 1,1 0,-3A3,3 0 0,1 3,0Z\" style=\"opacity: 1; stroke-width: 0px; fill: rgb(255, 0, 0); fill-opacity: 1;\"/><path class=\"point\" transform=\"translate(40.66,199.7)\" d=\"M3,0A3,3 0 1,1 0,-3A3,3 0 0,1 3,0Z\" style=\"opacity: 1; stroke-width: 0px; fill: rgb(255, 0, 0); fill-opacity: 1;\"/><path class=\"point\" transform=\"translate(167.76,285.38)\" d=\"M3,0A3,3 0 1,1 0,-3A3,3 0 0,1 3,0Z\" style=\"opacity: 1; stroke-width: 0px; fill: rgb(255, 0, 0); fill-opacity: 1;\"/><path class=\"point\" transform=\"translate(149.08,169.52)\" d=\"M3,0A3,3 0 1,1 0,-3A3,3 0 0,1 3,0Z\" style=\"opacity: 1; stroke-width: 0px; fill: rgb(255, 0, 0); fill-opacity: 1;\"/><path class=\"point\" transform=\"translate(144.38,284.34)\" d=\"M3,0A3,3 0 1,1 0,-3A3,3 0 0,1 3,0Z\" style=\"opacity: 1; stroke-width: 0px; fill: rgb(255, 0, 0); fill-opacity: 1;\"/><path class=\"point\" transform=\"translate(212.06,292.14)\" d=\"M3,0A3,3 0 1,1 0,-3A3,3 0 0,1 3,0Z\" style=\"opacity: 1; stroke-width: 0px; fill: rgb(255, 0, 0); fill-opacity: 1;\"/><path class=\"point\" transform=\"translate(209.54,284.9)\" d=\"M3,0A3,3 0 1,1 0,-3A3,3 0 0,1 3,0Z\" style=\"opacity: 1; stroke-width: 0px; fill: rgb(255, 0, 0); fill-opacity: 1;\"/><path class=\"point\" transform=\"translate(224.06,276.3)\" d=\"M3,0A3,3 0 1,1 0,-3A3,3 0 0,1 3,0Z\" style=\"opacity: 1; stroke-width: 0px; fill: rgb(255, 0, 0); fill-opacity: 1;\"/><path class=\"point\" transform=\"translate(171.63,292.96)\" d=\"M3,0A3,3 0 1,1 0,-3A3,3 0 0,1 3,0Z\" style=\"opacity: 1; stroke-width: 0px; fill: rgb(255, 0, 0); fill-opacity: 1;\"/><path class=\"point\" transform=\"translate(261.85,275.95)\" d=\"M3,0A3,3 0 1,1 0,-3A3,3 0 0,1 3,0Z\" style=\"opacity: 1; stroke-width: 0px; fill: rgb(255, 0, 0); fill-opacity: 1;\"/><path class=\"point\" transform=\"translate(267.51,296.56)\" d=\"M3,0A3,3 0 1,1 0,-3A3,3 0 0,1 3,0Z\" style=\"opacity: 1; stroke-width: 0px; fill: rgb(255, 0, 0); fill-opacity: 1;\"/><path class=\"point\" transform=\"translate(281.57,292.64)\" d=\"M3,0A3,3 0 1,1 0,-3A3,3 0 0,1 3,0Z\" style=\"opacity: 1; stroke-width: 0px; fill: rgb(255, 0, 0); fill-opacity: 1;\"/><path class=\"point\" transform=\"translate(223.09,282.2)\" d=\"M3,0A3,3 0 1,1 0,-3A3,3 0 0,1 3,0Z\" style=\"opacity: 1; stroke-width: 0px; fill: rgb(255, 0, 0); fill-opacity: 1;\"/><path class=\"point\" transform=\"translate(133.25,280.24)\" d=\"M3,0A3,3 0 1,1 0,-3A3,3 0 0,1 3,0Z\" style=\"opacity: 1; stroke-width: 0px; fill: rgb(255, 0, 0); fill-opacity: 1;\"/><path class=\"point\" transform=\"translate(158.05,283.93)\" d=\"M3,0A3,3 0 1,1 0,-3A3,3 0 0,1 3,0Z\" style=\"opacity: 1; stroke-width: 0px; fill: rgb(255, 0, 0); fill-opacity: 1;\"/><path class=\"point\" transform=\"translate(197.18,279.23)\" d=\"M3,0A3,3 0 1,1 0,-3A3,3 0 0,1 3,0Z\" style=\"opacity: 1; stroke-width: 0px; fill: rgb(255, 0, 0); fill-opacity: 1;\"/><path class=\"point\" transform=\"translate(193.31,297.62)\" d=\"M3,0A3,3 0 1,1 0,-3A3,3 0 0,1 3,0Z\" style=\"opacity: 1; stroke-width: 0px; fill: rgb(255, 0, 0); fill-opacity: 1;\"/><path class=\"point\" transform=\"translate(186.61,236.27)\" d=\"M3,0A3,3 0 1,1 0,-3A3,3 0 0,1 3,0Z\" style=\"opacity: 1; stroke-width: 0px; fill: rgb(255, 0, 0); fill-opacity: 1;\"/><path class=\"point\" transform=\"translate(189.07,273.63)\" d=\"M3,0A3,3 0 1,1 0,-3A3,3 0 0,1 3,0Z\" style=\"opacity: 1; stroke-width: 0px; fill: rgb(255, 0, 0); fill-opacity: 1;\"/><path class=\"point\" transform=\"translate(226.22,288.04)\" d=\"M3,0A3,3 0 1,1 0,-3A3,3 0 0,1 3,0Z\" style=\"opacity: 1; stroke-width: 0px; fill: rgb(255, 0, 0); fill-opacity: 1;\"/><path class=\"point\" transform=\"translate(133.86,299.38)\" d=\"M3,0A3,3 0 1,1 0,-3A3,3 0 0,1 3,0Z\" style=\"opacity: 1; stroke-width: 0px; fill: rgb(255, 0, 0); fill-opacity: 1;\"/><path class=\"point\" transform=\"translate(267.46,263.43)\" d=\"M3,0A3,3 0 1,1 0,-3A3,3 0 0,1 3,0Z\" style=\"opacity: 1; stroke-width: 0px; fill: rgb(255, 0, 0); fill-opacity: 1;\"/><path class=\"point\" transform=\"translate(303.21,279.81)\" d=\"M3,0A3,3 0 1,1 0,-3A3,3 0 0,1 3,0Z\" style=\"opacity: 1; stroke-width: 0px; fill: rgb(255, 0, 0); fill-opacity: 1;\"/><path class=\"point\" transform=\"translate(210.61,294.69)\" d=\"M3,0A3,3 0 1,1 0,-3A3,3 0 0,1 3,0Z\" style=\"opacity: 1; stroke-width: 0px; fill: rgb(255, 0, 0); fill-opacity: 1;\"/><path class=\"point\" transform=\"translate(245.08,298.13)\" d=\"M3,0A3,3 0 1,1 0,-3A3,3 0 0,1 3,0Z\" style=\"opacity: 1; stroke-width: 0px; fill: rgb(255, 0, 0); fill-opacity: 1;\"/><path class=\"point\" transform=\"translate(174.07,292.25)\" d=\"M3,0A3,3 0 1,1 0,-3A3,3 0 0,1 3,0Z\" style=\"opacity: 1; stroke-width: 0px; fill: rgb(255, 0, 0); fill-opacity: 1;\"/><path class=\"point\" transform=\"translate(207.27,296.13)\" d=\"M3,0A3,3 0 1,1 0,-3A3,3 0 0,1 3,0Z\" style=\"opacity: 1; stroke-width: 0px; fill: rgb(255, 0, 0); fill-opacity: 1;\"/><path class=\"point\" transform=\"translate(247.1,296.1)\" d=\"M3,0A3,3 0 1,1 0,-3A3,3 0 0,1 3,0Z\" style=\"opacity: 1; stroke-width: 0px; fill: rgb(255, 0, 0); fill-opacity: 1;\"/><path class=\"point\" transform=\"translate(189.45,218.05)\" d=\"M3,0A3,3 0 1,1 0,-3A3,3 0 0,1 3,0Z\" style=\"opacity: 1; stroke-width: 0px; fill: rgb(255, 0, 0); fill-opacity: 1;\"/><path class=\"point\" transform=\"translate(187.3,224.79)\" d=\"M3,0A3,3 0 1,1 0,-3A3,3 0 0,1 3,0Z\" style=\"opacity: 1; stroke-width: 0px; fill: rgb(255, 0, 0); fill-opacity: 1;\"/><path class=\"point\" transform=\"translate(175.43,272.95)\" d=\"M3,0A3,3 0 1,1 0,-3A3,3 0 0,1 3,0Z\" style=\"opacity: 1; stroke-width: 0px; fill: rgb(255, 0, 0); fill-opacity: 1;\"/><path class=\"point\" transform=\"translate(246.01,283.87)\" d=\"M3,0A3,3 0 1,1 0,-3A3,3 0 0,1 3,0Z\" style=\"opacity: 1; stroke-width: 0px; fill: rgb(255, 0, 0); fill-opacity: 1;\"/><path class=\"point\" transform=\"translate(162.39,243.75)\" d=\"M3,0A3,3 0 1,1 0,-3A3,3 0 0,1 3,0Z\" style=\"opacity: 1; stroke-width: 0px; fill: rgb(255, 0, 0); fill-opacity: 1;\"/><path class=\"point\" transform=\"translate(187.07,272.12)\" d=\"M3,0A3,3 0 1,1 0,-3A3,3 0 0,1 3,0Z\" style=\"opacity: 1; stroke-width: 0px; fill: rgb(255, 0, 0); fill-opacity: 1;\"/><path class=\"point\" transform=\"translate(276.98,279.13)\" d=\"M3,0A3,3 0 1,1 0,-3A3,3 0 0,1 3,0Z\" style=\"opacity: 1; stroke-width: 0px; fill: rgb(255, 0, 0); fill-opacity: 1;\"/><path class=\"point\" transform=\"translate(226.41,253.5)\" d=\"M3,0A3,3 0 1,1 0,-3A3,3 0 0,1 3,0Z\" style=\"opacity: 1; stroke-width: 0px; fill: rgb(255, 0, 0); fill-opacity: 1;\"/><path class=\"point\" transform=\"translate(262.35,291.24)\" d=\"M3,0A3,3 0 1,1 0,-3A3,3 0 0,1 3,0Z\" style=\"opacity: 1; stroke-width: 0px; fill: rgb(255, 0, 0); fill-opacity: 1;\"/><path class=\"point\" transform=\"translate(195.89,213.42)\" d=\"M3,0A3,3 0 1,1 0,-3A3,3 0 0,1 3,0Z\" style=\"opacity: 1; stroke-width: 0px; fill: rgb(255, 0, 0); fill-opacity: 1;\"/><path class=\"point\" transform=\"translate(271.76,274.63)\" d=\"M3,0A3,3 0 1,1 0,-3A3,3 0 0,1 3,0Z\" style=\"opacity: 1; stroke-width: 0px; fill: rgb(255, 0, 0); fill-opacity: 1;\"/><path class=\"point\" transform=\"translate(255.18,296.02)\" d=\"M3,0A3,3 0 1,1 0,-3A3,3 0 0,1 3,0Z\" style=\"opacity: 1; stroke-width: 0px; fill: rgb(255, 0, 0); fill-opacity: 1;\"/><path class=\"point\" transform=\"translate(148.43,298.96)\" d=\"M3,0A3,3 0 1,1 0,-3A3,3 0 0,1 3,0Z\" style=\"opacity: 1; stroke-width: 0px; fill: rgb(255, 0, 0); fill-opacity: 1;\"/><path class=\"point\" transform=\"translate(168.59,252.23)\" d=\"M3,0A3,3 0 1,1 0,-3A3,3 0 0,1 3,0Z\" style=\"opacity: 1; stroke-width: 0px; fill: rgb(255, 0, 0); fill-opacity: 1;\"/><path class=\"point\" transform=\"translate(224.13,295.46)\" d=\"M3,0A3,3 0 1,1 0,-3A3,3 0 0,1 3,0Z\" style=\"opacity: 1; stroke-width: 0px; fill: rgb(255, 0, 0); fill-opacity: 1;\"/><path class=\"point\" transform=\"translate(224.66,275.85)\" d=\"M3,0A3,3 0 1,1 0,-3A3,3 0 0,1 3,0Z\" style=\"opacity: 1; stroke-width: 0px; fill: rgb(255, 0, 0); fill-opacity: 1;\"/><path class=\"point\" transform=\"translate(253.87,282.6)\" d=\"M3,0A3,3 0 1,1 0,-3A3,3 0 0,1 3,0Z\" style=\"opacity: 1; stroke-width: 0px; fill: rgb(255, 0, 0); fill-opacity: 1;\"/><path class=\"point\" transform=\"translate(173.5,287.08)\" d=\"M3,0A3,3 0 1,1 0,-3A3,3 0 0,1 3,0Z\" style=\"opacity: 1; stroke-width: 0px; fill: rgb(255, 0, 0); fill-opacity: 1;\"/><path class=\"point\" transform=\"translate(313.13,296.52)\" d=\"M3,0A3,3 0 1,1 0,-3A3,3 0 0,1 3,0Z\" style=\"opacity: 1; stroke-width: 0px; fill: rgb(255, 0, 0); fill-opacity: 1;\"/><path class=\"point\" transform=\"translate(165.06,294.52)\" d=\"M3,0A3,3 0 1,1 0,-3A3,3 0 0,1 3,0Z\" style=\"opacity: 1; stroke-width: 0px; fill: rgb(255, 0, 0); fill-opacity: 1;\"/><path class=\"point\" transform=\"translate(263.2,298.69)\" d=\"M3,0A3,3 0 1,1 0,-3A3,3 0 0,1 3,0Z\" style=\"opacity: 1; stroke-width: 0px; fill: rgb(255, 0, 0); fill-opacity: 1;\"/><path class=\"point\" transform=\"translate(188.58,252.34)\" d=\"M3,0A3,3 0 1,1 0,-3A3,3 0 0,1 3,0Z\" style=\"opacity: 1; stroke-width: 0px; fill: rgb(255, 0, 0); fill-opacity: 1;\"/><path class=\"point\" transform=\"translate(130.9,280.6)\" d=\"M3,0A3,3 0 1,1 0,-3A3,3 0 0,1 3,0Z\" style=\"opacity: 1; stroke-width: 0px; fill: rgb(255, 0, 0); fill-opacity: 1;\"/><path class=\"point\" transform=\"translate(252.39,268.49)\" d=\"M3,0A3,3 0 1,1 0,-3A3,3 0 0,1 3,0Z\" style=\"opacity: 1; stroke-width: 0px; fill: rgb(255, 0, 0); fill-opacity: 1;\"/><path class=\"point\" transform=\"translate(213.81,285.02)\" d=\"M3,0A3,3 0 1,1 0,-3A3,3 0 0,1 3,0Z\" style=\"opacity: 1; stroke-width: 0px; fill: rgb(255, 0, 0); fill-opacity: 1;\"/><path class=\"point\" transform=\"translate(191.72,276.54)\" d=\"M3,0A3,3 0 1,1 0,-3A3,3 0 0,1 3,0Z\" style=\"opacity: 1; stroke-width: 0px; fill: rgb(255, 0, 0); fill-opacity: 1;\"/><path class=\"point\" transform=\"translate(248.87,285.83)\" d=\"M3,0A3,3 0 1,1 0,-3A3,3 0 0,1 3,0Z\" style=\"opacity: 1; stroke-width: 0px; fill: rgb(255, 0, 0); fill-opacity: 1;\"/><path class=\"point\" transform=\"translate(257.49,257.33)\" d=\"M3,0A3,3 0 1,1 0,-3A3,3 0 0,1 3,0Z\" style=\"opacity: 1; stroke-width: 0px; fill: rgb(255, 0, 0); fill-opacity: 1;\"/><path class=\"point\" transform=\"translate(216.57,180.01)\" d=\"M3,0A3,3 0 1,1 0,-3A3,3 0 0,1 3,0Z\" style=\"opacity: 1; stroke-width: 0px; fill: rgb(255, 0, 0); fill-opacity: 1;\"/><path class=\"point\" transform=\"translate(173.89,234.64)\" d=\"M3,0A3,3 0 1,1 0,-3A3,3 0 0,1 3,0Z\" style=\"opacity: 1; stroke-width: 0px; fill: rgb(255, 0, 0); fill-opacity: 1;\"/><path class=\"point\" transform=\"translate(26.5,284.01)\" d=\"M3,0A3,3 0 1,1 0,-3A3,3 0 0,1 3,0Z\" style=\"opacity: 1; stroke-width: 0px; fill: rgb(255, 0, 0); fill-opacity: 1;\"/><path class=\"point\" transform=\"translate(89.93,193.64)\" d=\"M3,0A3,3 0 1,1 0,-3A3,3 0 0,1 3,0Z\" style=\"opacity: 1; stroke-width: 0px; fill: rgb(255, 0, 0); fill-opacity: 1;\"/><path class=\"point\" transform=\"translate(209.36,270.79)\" d=\"M3,0A3,3 0 1,1 0,-3A3,3 0 0,1 3,0Z\" style=\"opacity: 1; stroke-width: 0px; fill: rgb(255, 0, 0); fill-opacity: 1;\"/><path class=\"point\" transform=\"translate(106.01,290.78)\" d=\"M3,0A3,3 0 1,1 0,-3A3,3 0 0,1 3,0Z\" style=\"opacity: 1; stroke-width: 0px; fill: rgb(255, 0, 0); fill-opacity: 1;\"/><path class=\"point\" transform=\"translate(232.81,275.94)\" d=\"M3,0A3,3 0 1,1 0,-3A3,3 0 0,1 3,0Z\" style=\"opacity: 1; stroke-width: 0px; fill: rgb(255, 0, 0); fill-opacity: 1;\"/><path class=\"point\" transform=\"translate(255.8,299.73)\" d=\"M3,0A3,3 0 1,1 0,-3A3,3 0 0,1 3,0Z\" style=\"opacity: 1; stroke-width: 0px; fill: rgb(255, 0, 0); fill-opacity: 1;\"/><path class=\"point\" transform=\"translate(185.03,278.51)\" d=\"M3,0A3,3 0 1,1 0,-3A3,3 0 0,1 3,0Z\" style=\"opacity: 1; stroke-width: 0px; fill: rgb(255, 0, 0); fill-opacity: 1;\"/><path class=\"point\" transform=\"translate(244.03,289.37)\" d=\"M3,0A3,3 0 1,1 0,-3A3,3 0 0,1 3,0Z\" style=\"opacity: 1; stroke-width: 0px; fill: rgb(255, 0, 0); fill-opacity: 1;\"/><path class=\"point\" transform=\"translate(123.33,279.83)\" d=\"M3,0A3,3 0 1,1 0,-3A3,3 0 0,1 3,0Z\" style=\"opacity: 1; stroke-width: 0px; fill: rgb(255, 0, 0); fill-opacity: 1;\"/><path class=\"point\" transform=\"translate(280.68,275.33)\" d=\"M3,0A3,3 0 1,1 0,-3A3,3 0 0,1 3,0Z\" style=\"opacity: 1; stroke-width: 0px; fill: rgb(255, 0, 0); fill-opacity: 1;\"/><path class=\"point\" transform=\"translate(234.38,300.25)\" d=\"M3,0A3,3 0 1,1 0,-3A3,3 0 0,1 3,0Z\" style=\"opacity: 1; stroke-width: 0px; fill: rgb(255, 0, 0); fill-opacity: 1;\"/><path class=\"point\" transform=\"translate(139.45,298.59)\" d=\"M3,0A3,3 0 1,1 0,-3A3,3 0 0,1 3,0Z\" style=\"opacity: 1; stroke-width: 0px; fill: rgb(255, 0, 0); fill-opacity: 1;\"/><path class=\"point\" transform=\"translate(222.94,295.5)\" d=\"M3,0A3,3 0 1,1 0,-3A3,3 0 0,1 3,0Z\" style=\"opacity: 1; stroke-width: 0px; fill: rgb(255, 0, 0); fill-opacity: 1;\"/><path class=\"point\" transform=\"translate(193.42,267.03)\" d=\"M3,0A3,3 0 1,1 0,-3A3,3 0 0,1 3,0Z\" style=\"opacity: 1; stroke-width: 0px; fill: rgb(255, 0, 0); fill-opacity: 1;\"/><path class=\"point\" transform=\"translate(268.38,274.66)\" d=\"M3,0A3,3 0 1,1 0,-3A3,3 0 0,1 3,0Z\" style=\"opacity: 1; stroke-width: 0px; fill: rgb(255, 0, 0); fill-opacity: 1;\"/><path class=\"point\" transform=\"translate(253.32,295.33)\" d=\"M3,0A3,3 0 1,1 0,-3A3,3 0 0,1 3,0Z\" style=\"opacity: 1; stroke-width: 0px; fill: rgb(255, 0, 0); fill-opacity: 1;\"/><path class=\"point\" transform=\"translate(215.36,280.06)\" d=\"M3,0A3,3 0 1,1 0,-3A3,3 0 0,1 3,0Z\" style=\"opacity: 1; stroke-width: 0px; fill: rgb(255, 0, 0); fill-opacity: 1;\"/><path class=\"point\" transform=\"translate(421.58,286.49)\" d=\"M3,0A3,3 0 1,1 0,-3A3,3 0 0,1 3,0Z\" style=\"opacity: 1; stroke-width: 0px; fill: rgb(255, 0, 0); fill-opacity: 1;\"/><path class=\"point\" transform=\"translate(217.37,298.32)\" d=\"M3,0A3,3 0 1,1 0,-3A3,3 0 0,1 3,0Z\" style=\"opacity: 1; stroke-width: 0px; fill: rgb(255, 0, 0); fill-opacity: 1;\"/><path class=\"point\" transform=\"translate(176.33,296.51)\" d=\"M3,0A3,3 0 1,1 0,-3A3,3 0 0,1 3,0Z\" style=\"opacity: 1; stroke-width: 0px; fill: rgb(255, 0, 0); fill-opacity: 1;\"/><path class=\"point\" transform=\"translate(239.23,284.94)\" d=\"M3,0A3,3 0 1,1 0,-3A3,3 0 0,1 3,0Z\" style=\"opacity: 1; stroke-width: 0px; fill: rgb(255, 0, 0); fill-opacity: 1;\"/><path class=\"point\" transform=\"translate(193.75,280.52)\" d=\"M3,0A3,3 0 1,1 0,-3A3,3 0 0,1 3,0Z\" style=\"opacity: 1; stroke-width: 0px; fill: rgb(255, 0, 0); fill-opacity: 1;\"/><path class=\"point\" transform=\"translate(145.67,275.18)\" d=\"M3,0A3,3 0 1,1 0,-3A3,3 0 0,1 3,0Z\" style=\"opacity: 1; stroke-width: 0px; fill: rgb(255, 0, 0); fill-opacity: 1;\"/><path class=\"point\" transform=\"translate(168.43,285.83)\" d=\"M3,0A3,3 0 1,1 0,-3A3,3 0 0,1 3,0Z\" style=\"opacity: 1; stroke-width: 0px; fill: rgb(255, 0, 0); fill-opacity: 1;\"/><path class=\"point\" transform=\"translate(158.73,263.4)\" d=\"M3,0A3,3 0 1,1 0,-3A3,3 0 0,1 3,0Z\" style=\"opacity: 1; stroke-width: 0px; fill: rgb(255, 0, 0); fill-opacity: 1;\"/><path class=\"point\" transform=\"translate(179.83,288.03)\" d=\"M3,0A3,3 0 1,1 0,-3A3,3 0 0,1 3,0Z\" style=\"opacity: 1; stroke-width: 0px; fill: rgb(255, 0, 0); fill-opacity: 1;\"/><path class=\"point\" transform=\"translate(126.03,295.47)\" d=\"M3,0A3,3 0 1,1 0,-3A3,3 0 0,1 3,0Z\" style=\"opacity: 1; stroke-width: 0px; fill: rgb(255, 0, 0); fill-opacity: 1;\"/><path class=\"point\" transform=\"translate(257.81,233.96)\" d=\"M3,0A3,3 0 1,1 0,-3A3,3 0 0,1 3,0Z\" style=\"opacity: 1; stroke-width: 0px; fill: rgb(255, 0, 0); fill-opacity: 1;\"/><path class=\"point\" transform=\"translate(205.05,233.85)\" d=\"M3,0A3,3 0 1,1 0,-3A3,3 0 0,1 3,0Z\" style=\"opacity: 1; stroke-width: 0px; fill: rgb(255, 0, 0); fill-opacity: 1;\"/><path class=\"point\" transform=\"translate(177.22,264.27)\" d=\"M3,0A3,3 0 1,1 0,-3A3,3 0 0,1 3,0Z\" style=\"opacity: 1; stroke-width: 0px; fill: rgb(255, 0, 0); fill-opacity: 1;\"/><path class=\"point\" transform=\"translate(304.25,294.26)\" d=\"M3,0A3,3 0 1,1 0,-3A3,3 0 0,1 3,0Z\" style=\"opacity: 1; stroke-width: 0px; fill: rgb(255, 0, 0); fill-opacity: 1;\"/><path class=\"point\" transform=\"translate(231.32,275.57)\" d=\"M3,0A3,3 0 1,1 0,-3A3,3 0 0,1 3,0Z\" style=\"opacity: 1; stroke-width: 0px; fill: rgb(255, 0, 0); fill-opacity: 1;\"/><path class=\"point\" transform=\"translate(244.78,278.77)\" d=\"M3,0A3,3 0 1,1 0,-3A3,3 0 0,1 3,0Z\" style=\"opacity: 1; stroke-width: 0px; fill: rgb(255, 0, 0); fill-opacity: 1;\"/><path class=\"point\" transform=\"translate(168.01,299.61)\" d=\"M3,0A3,3 0 1,1 0,-3A3,3 0 0,1 3,0Z\" style=\"opacity: 1; stroke-width: 0px; fill: rgb(255, 0, 0); fill-opacity: 1;\"/><path class=\"point\" transform=\"translate(115.66,294.43)\" d=\"M3,0A3,3 0 1,1 0,-3A3,3 0 0,1 3,0Z\" style=\"opacity: 1; stroke-width: 0px; fill: rgb(255, 0, 0); fill-opacity: 1;\"/><path class=\"point\" transform=\"translate(209.17,270.07)\" d=\"M3,0A3,3 0 1,1 0,-3A3,3 0 0,1 3,0Z\" style=\"opacity: 1; stroke-width: 0px; fill: rgb(255, 0, 0); fill-opacity: 1;\"/><path class=\"point\" transform=\"translate(222.68,243.21)\" d=\"M3,0A3,3 0 1,1 0,-3A3,3 0 0,1 3,0Z\" style=\"opacity: 1; stroke-width: 0px; fill: rgb(255, 0, 0); fill-opacity: 1;\"/><path class=\"point\" transform=\"translate(200.39,290.95)\" d=\"M3,0A3,3 0 1,1 0,-3A3,3 0 0,1 3,0Z\" style=\"opacity: 1; stroke-width: 0px; fill: rgb(255, 0, 0); fill-opacity: 1;\"/><path class=\"point\" transform=\"translate(212.72,289.38)\" d=\"M3,0A3,3 0 1,1 0,-3A3,3 0 0,1 3,0Z\" style=\"opacity: 1; stroke-width: 0px; fill: rgb(255, 0, 0); fill-opacity: 1;\"/><path class=\"point\" transform=\"translate(201.7,273.52)\" d=\"M3,0A3,3 0 1,1 0,-3A3,3 0 0,1 3,0Z\" style=\"opacity: 1; stroke-width: 0px; fill: rgb(255, 0, 0); fill-opacity: 1;\"/><path class=\"point\" transform=\"translate(276.54,214.07)\" d=\"M3,0A3,3 0 1,1 0,-3A3,3 0 0,1 3,0Z\" style=\"opacity: 1; stroke-width: 0px; fill: rgb(255, 0, 0); fill-opacity: 1;\"/><path class=\"point\" transform=\"translate(217.21,268.82)\" d=\"M3,0A3,3 0 1,1 0,-3A3,3 0 0,1 3,0Z\" style=\"opacity: 1; stroke-width: 0px; fill: rgb(255, 0, 0); fill-opacity: 1;\"/><path class=\"point\" transform=\"translate(355.16,266.15)\" d=\"M3,0A3,3 0 1,1 0,-3A3,3 0 0,1 3,0Z\" style=\"opacity: 1; stroke-width: 0px; fill: rgb(255, 0, 0); fill-opacity: 1;\"/><path class=\"point\" transform=\"translate(219.26,275.02)\" d=\"M3,0A3,3 0 1,1 0,-3A3,3 0 0,1 3,0Z\" style=\"opacity: 1; stroke-width: 0px; fill: rgb(255, 0, 0); fill-opacity: 1;\"/><path class=\"point\" transform=\"translate(123.28,291.75)\" d=\"M3,0A3,3 0 1,1 0,-3A3,3 0 0,1 3,0Z\" style=\"opacity: 1; stroke-width: 0px; fill: rgb(255, 0, 0); fill-opacity: 1;\"/><path class=\"point\" transform=\"translate(127.41,275.6)\" d=\"M3,0A3,3 0 1,1 0,-3A3,3 0 0,1 3,0Z\" style=\"opacity: 1; stroke-width: 0px; fill: rgb(255, 0, 0); fill-opacity: 1;\"/><path class=\"point\" transform=\"translate(186.18,248.47)\" d=\"M3,0A3,3 0 1,1 0,-3A3,3 0 0,1 3,0Z\" style=\"opacity: 1; stroke-width: 0px; fill: rgb(255, 0, 0); fill-opacity: 1;\"/><path class=\"point\" transform=\"translate(162.87,154.38)\" d=\"M3,0A3,3 0 1,1 0,-3A3,3 0 0,1 3,0Z\" style=\"opacity: 1; stroke-width: 0px; fill: rgb(255, 0, 0); fill-opacity: 1;\"/><path class=\"point\" transform=\"translate(266.42,234.64)\" d=\"M3,0A3,3 0 1,1 0,-3A3,3 0 0,1 3,0Z\" style=\"opacity: 1; stroke-width: 0px; fill: rgb(255, 0, 0); fill-opacity: 1;\"/><path class=\"point\" transform=\"translate(143.24,278.83)\" d=\"M3,0A3,3 0 1,1 0,-3A3,3 0 0,1 3,0Z\" style=\"opacity: 1; stroke-width: 0px; fill: rgb(255, 0, 0); fill-opacity: 1;\"/><path class=\"point\" transform=\"translate(428.46,283.95)\" d=\"M3,0A3,3 0 1,1 0,-3A3,3 0 0,1 3,0Z\" style=\"opacity: 1; stroke-width: 0px; fill: rgb(255, 0, 0); fill-opacity: 1;\"/><path class=\"point\" transform=\"translate(192.43,195.54)\" d=\"M3,0A3,3 0 1,1 0,-3A3,3 0 0,1 3,0Z\" style=\"opacity: 1; stroke-width: 0px; fill: rgb(255, 0, 0); fill-opacity: 1;\"/><path class=\"point\" transform=\"translate(201.16,244.01)\" d=\"M3,0A3,3 0 1,1 0,-3A3,3 0 0,1 3,0Z\" style=\"opacity: 1; stroke-width: 0px; fill: rgb(255, 0, 0); fill-opacity: 1;\"/><path class=\"point\" transform=\"translate(171.71,274.45)\" d=\"M3,0A3,3 0 1,1 0,-3A3,3 0 0,1 3,0Z\" style=\"opacity: 1; stroke-width: 0px; fill: rgb(255, 0, 0); fill-opacity: 1;\"/><path class=\"point\" transform=\"translate(176.66,142.96)\" d=\"M3,0A3,3 0 1,1 0,-3A3,3 0 0,1 3,0Z\" style=\"opacity: 1; stroke-width: 0px; fill: rgb(255, 0, 0); fill-opacity: 1;\"/><path class=\"point\" transform=\"translate(159.19,273.94)\" d=\"M3,0A3,3 0 1,1 0,-3A3,3 0 0,1 3,0Z\" style=\"opacity: 1; stroke-width: 0px; fill: rgb(255, 0, 0); fill-opacity: 1;\"/><path class=\"point\" transform=\"translate(224.5,269.78)\" d=\"M3,0A3,3 0 1,1 0,-3A3,3 0 0,1 3,0Z\" style=\"opacity: 1; stroke-width: 0px; fill: rgb(255, 0, 0); fill-opacity: 1;\"/><path class=\"point\" transform=\"translate(179.96,216.89)\" d=\"M3,0A3,3 0 1,1 0,-3A3,3 0 0,1 3,0Z\" style=\"opacity: 1; stroke-width: 0px; fill: rgb(255, 0, 0); fill-opacity: 1;\"/><path class=\"point\" transform=\"translate(240.7,285.91)\" d=\"M3,0A3,3 0 1,1 0,-3A3,3 0 0,1 3,0Z\" style=\"opacity: 1; stroke-width: 0px; fill: rgb(255, 0, 0); fill-opacity: 1;\"/><path class=\"point\" transform=\"translate(182.95,286.75)\" d=\"M3,0A3,3 0 1,1 0,-3A3,3 0 0,1 3,0Z\" style=\"opacity: 1; stroke-width: 0px; fill: rgb(255, 0, 0); fill-opacity: 1;\"/><path class=\"point\" transform=\"translate(195.52,264.88)\" d=\"M3,0A3,3 0 1,1 0,-3A3,3 0 0,1 3,0Z\" style=\"opacity: 1; stroke-width: 0px; fill: rgb(255, 0, 0); fill-opacity: 1;\"/><path class=\"point\" transform=\"translate(196.75,290.73)\" d=\"M3,0A3,3 0 1,1 0,-3A3,3 0 0,1 3,0Z\" style=\"opacity: 1; stroke-width: 0px; fill: rgb(255, 0, 0); fill-opacity: 1;\"/><path class=\"point\" transform=\"translate(235.63,298.08)\" d=\"M3,0A3,3 0 1,1 0,-3A3,3 0 0,1 3,0Z\" style=\"opacity: 1; stroke-width: 0px; fill: rgb(255, 0, 0); fill-opacity: 1;\"/><path class=\"point\" transform=\"translate(135.05,286.81)\" d=\"M3,0A3,3 0 1,1 0,-3A3,3 0 0,1 3,0Z\" style=\"opacity: 1; stroke-width: 0px; fill: rgb(255, 0, 0); fill-opacity: 1;\"/><path class=\"point\" transform=\"translate(181.62,270.64)\" d=\"M3,0A3,3 0 1,1 0,-3A3,3 0 0,1 3,0Z\" style=\"opacity: 1; stroke-width: 0px; fill: rgb(255, 0, 0); fill-opacity: 1;\"/><path class=\"point\" transform=\"translate(178.78,299.06)\" d=\"M3,0A3,3 0 1,1 0,-3A3,3 0 0,1 3,0Z\" style=\"opacity: 1; stroke-width: 0px; fill: rgb(255, 0, 0); fill-opacity: 1;\"/><path class=\"point\" transform=\"translate(255.11,290.17)\" d=\"M3,0A3,3 0 1,1 0,-3A3,3 0 0,1 3,0Z\" style=\"opacity: 1; stroke-width: 0px; fill: rgb(255, 0, 0); fill-opacity: 1;\"/><path class=\"point\" transform=\"translate(244.37,228.98)\" d=\"M3,0A3,3 0 1,1 0,-3A3,3 0 0,1 3,0Z\" style=\"opacity: 1; stroke-width: 0px; fill: rgb(255, 0, 0); fill-opacity: 1;\"/><path class=\"point\" transform=\"translate(300.23,283.21)\" d=\"M3,0A3,3 0 1,1 0,-3A3,3 0 0,1 3,0Z\" style=\"opacity: 1; stroke-width: 0px; fill: rgb(255, 0, 0); fill-opacity: 1;\"/><path class=\"point\" transform=\"translate(196.78,298.39)\" d=\"M3,0A3,3 0 1,1 0,-3A3,3 0 0,1 3,0Z\" style=\"opacity: 1; stroke-width: 0px; fill: rgb(255, 0, 0); fill-opacity: 1;\"/><path class=\"point\" transform=\"translate(190.95,248.15)\" d=\"M3,0A3,3 0 1,1 0,-3A3,3 0 0,1 3,0Z\" style=\"opacity: 1; stroke-width: 0px; fill: rgb(255, 0, 0); fill-opacity: 1;\"/><path class=\"point\" transform=\"translate(112.6,297.72)\" d=\"M3,0A3,3 0 1,1 0,-3A3,3 0 0,1 3,0Z\" style=\"opacity: 1; stroke-width: 0px; fill: rgb(255, 0, 0); fill-opacity: 1;\"/><path class=\"point\" transform=\"translate(166.3,251.65)\" d=\"M3,0A3,3 0 1,1 0,-3A3,3 0 0,1 3,0Z\" style=\"opacity: 1; stroke-width: 0px; fill: rgb(255, 0, 0); fill-opacity: 1;\"/><path class=\"point\" transform=\"translate(139.7,292.97)\" d=\"M3,0A3,3 0 1,1 0,-3A3,3 0 0,1 3,0Z\" style=\"opacity: 1; stroke-width: 0px; fill: rgb(255, 0, 0); fill-opacity: 1;\"/><path class=\"point\" transform=\"translate(209.13,293.04)\" d=\"M3,0A3,3 0 1,1 0,-3A3,3 0 0,1 3,0Z\" style=\"opacity: 1; stroke-width: 0px; fill: rgb(255, 0, 0); fill-opacity: 1;\"/><path class=\"point\" transform=\"translate(242.91,286.68)\" d=\"M3,0A3,3 0 1,1 0,-3A3,3 0 0,1 3,0Z\" style=\"opacity: 1; stroke-width: 0px; fill: rgb(255, 0, 0); fill-opacity: 1;\"/><path class=\"point\" transform=\"translate(238.07,294.05)\" d=\"M3,0A3,3 0 1,1 0,-3A3,3 0 0,1 3,0Z\" style=\"opacity: 1; stroke-width: 0px; fill: rgb(255, 0, 0); fill-opacity: 1;\"/><path class=\"point\" transform=\"translate(44.54,294.58)\" d=\"M3,0A3,3 0 1,1 0,-3A3,3 0 0,1 3,0Z\" style=\"opacity: 1; stroke-width: 0px; fill: rgb(255, 0, 0); fill-opacity: 1;\"/><path class=\"point\" transform=\"translate(92.22,298.92)\" d=\"M3,0A3,3 0 1,1 0,-3A3,3 0 0,1 3,0Z\" style=\"opacity: 1; stroke-width: 0px; fill: rgb(255, 0, 0); fill-opacity: 1;\"/><path class=\"point\" transform=\"translate(174.76,298.16)\" d=\"M3,0A3,3 0 1,1 0,-3A3,3 0 0,1 3,0Z\" style=\"opacity: 1; stroke-width: 0px; fill: rgb(255, 0, 0); fill-opacity: 1;\"/><path class=\"point\" transform=\"translate(241.09,291.37)\" d=\"M3,0A3,3 0 1,1 0,-3A3,3 0 0,1 3,0Z\" style=\"opacity: 1; stroke-width: 0px; fill: rgb(255, 0, 0); fill-opacity: 1;\"/><path class=\"point\" transform=\"translate(124.31,269.26)\" d=\"M3,0A3,3 0 1,1 0,-3A3,3 0 0,1 3,0Z\" style=\"opacity: 1; stroke-width: 0px; fill: rgb(255, 0, 0); fill-opacity: 1;\"/><path class=\"point\" transform=\"translate(222.01,251.57)\" d=\"M3,0A3,3 0 1,1 0,-3A3,3 0 0,1 3,0Z\" style=\"opacity: 1; stroke-width: 0px; fill: rgb(255, 0, 0); fill-opacity: 1;\"/><path class=\"point\" transform=\"translate(137.17,263.7)\" d=\"M3,0A3,3 0 1,1 0,-3A3,3 0 0,1 3,0Z\" style=\"opacity: 1; stroke-width: 0px; fill: rgb(255, 0, 0); fill-opacity: 1;\"/><path class=\"point\" transform=\"translate(116.81,276.17)\" d=\"M3,0A3,3 0 1,1 0,-3A3,3 0 0,1 3,0Z\" style=\"opacity: 1; stroke-width: 0px; fill: rgb(255, 0, 0); fill-opacity: 1;\"/><path class=\"point\" transform=\"translate(141.53,285.82)\" d=\"M3,0A3,3 0 1,1 0,-3A3,3 0 0,1 3,0Z\" style=\"opacity: 1; stroke-width: 0px; fill: rgb(255, 0, 0); fill-opacity: 1;\"/><path class=\"point\" transform=\"translate(219.4,246.65)\" d=\"M3,0A3,3 0 1,1 0,-3A3,3 0 0,1 3,0Z\" style=\"opacity: 1; stroke-width: 0px; fill: rgb(255, 0, 0); fill-opacity: 1;\"/><path class=\"point\" transform=\"translate(109.48,290.68)\" d=\"M3,0A3,3 0 1,1 0,-3A3,3 0 0,1 3,0Z\" style=\"opacity: 1; stroke-width: 0px; fill: rgb(255, 0, 0); fill-opacity: 1;\"/><path class=\"point\" transform=\"translate(111.97,295.02)\" d=\"M3,0A3,3 0 1,1 0,-3A3,3 0 0,1 3,0Z\" style=\"opacity: 1; stroke-width: 0px; fill: rgb(255, 0, 0); fill-opacity: 1;\"/><path class=\"point\" transform=\"translate(264.21,291.31)\" d=\"M3,0A3,3 0 1,1 0,-3A3,3 0 0,1 3,0Z\" style=\"opacity: 1; stroke-width: 0px; fill: rgb(255, 0, 0); fill-opacity: 1;\"/><path class=\"point\" transform=\"translate(223.37,256.55)\" d=\"M3,0A3,3 0 1,1 0,-3A3,3 0 0,1 3,0Z\" style=\"opacity: 1; stroke-width: 0px; fill: rgb(255, 0, 0); fill-opacity: 1;\"/><path class=\"point\" transform=\"translate(240.16,299.38)\" d=\"M3,0A3,3 0 1,1 0,-3A3,3 0 0,1 3,0Z\" style=\"opacity: 1; stroke-width: 0px; fill: rgb(255, 0, 0); fill-opacity: 1;\"/><path class=\"point\" transform=\"translate(266.9,291.3)\" d=\"M3,0A3,3 0 1,1 0,-3A3,3 0 0,1 3,0Z\" style=\"opacity: 1; stroke-width: 0px; fill: rgb(255, 0, 0); fill-opacity: 1;\"/><path class=\"point\" transform=\"translate(255.39,283.34)\" d=\"M3,0A3,3 0 1,1 0,-3A3,3 0 0,1 3,0Z\" style=\"opacity: 1; stroke-width: 0px; fill: rgb(255, 0, 0); fill-opacity: 1;\"/><path class=\"point\" transform=\"translate(185.24,197)\" d=\"M3,0A3,3 0 1,1 0,-3A3,3 0 0,1 3,0Z\" style=\"opacity: 1; stroke-width: 0px; fill: rgb(255, 0, 0); fill-opacity: 1;\"/><path class=\"point\" transform=\"translate(213.19,275.51)\" d=\"M3,0A3,3 0 1,1 0,-3A3,3 0 0,1 3,0Z\" style=\"opacity: 1; stroke-width: 0px; fill: rgb(255, 0, 0); fill-opacity: 1;\"/><path class=\"point\" transform=\"translate(282.46,294.82)\" d=\"M3,0A3,3 0 1,1 0,-3A3,3 0 0,1 3,0Z\" style=\"opacity: 1; stroke-width: 0px; fill: rgb(255, 0, 0); fill-opacity: 1;\"/><path class=\"point\" transform=\"translate(121.12,299.27)\" d=\"M3,0A3,3 0 1,1 0,-3A3,3 0 0,1 3,0Z\" style=\"opacity: 1; stroke-width: 0px; fill: rgb(255, 0, 0); fill-opacity: 1;\"/><path class=\"point\" transform=\"translate(249.8,185.93)\" d=\"M3,0A3,3 0 1,1 0,-3A3,3 0 0,1 3,0Z\" style=\"opacity: 1; stroke-width: 0px; fill: rgb(255, 0, 0); fill-opacity: 1;\"/><path class=\"point\" transform=\"translate(197.66,180.72)\" d=\"M3,0A3,3 0 1,1 0,-3A3,3 0 0,1 3,0Z\" style=\"opacity: 1; stroke-width: 0px; fill: rgb(255, 0, 0); fill-opacity: 1;\"/><path class=\"point\" transform=\"translate(216.82,285.91)\" d=\"M3,0A3,3 0 1,1 0,-3A3,3 0 0,1 3,0Z\" style=\"opacity: 1; stroke-width: 0px; fill: rgb(255, 0, 0); fill-opacity: 1;\"/><path class=\"point\" transform=\"translate(200.38,194.57)\" d=\"M3,0A3,3 0 1,1 0,-3A3,3 0 0,1 3,0Z\" style=\"opacity: 1; stroke-width: 0px; fill: rgb(255, 0, 0); fill-opacity: 1;\"/><path class=\"point\" transform=\"translate(212.97,257.57)\" d=\"M3,0A3,3 0 1,1 0,-3A3,3 0 0,1 3,0Z\" style=\"opacity: 1; stroke-width: 0px; fill: rgb(255, 0, 0); fill-opacity: 1;\"/><path class=\"point\" transform=\"translate(252.39,294.61)\" d=\"M3,0A3,3 0 1,1 0,-3A3,3 0 0,1 3,0Z\" style=\"opacity: 1; stroke-width: 0px; fill: rgb(255, 0, 0); fill-opacity: 1;\"/><path class=\"point\" transform=\"translate(187.21,227.79)\" d=\"M3,0A3,3 0 1,1 0,-3A3,3 0 0,1 3,0Z\" style=\"opacity: 1; stroke-width: 0px; fill: rgb(255, 0, 0); fill-opacity: 1;\"/><path class=\"point\" transform=\"translate(364.54,260.75)\" d=\"M3,0A3,3 0 1,1 0,-3A3,3 0 0,1 3,0Z\" style=\"opacity: 1; stroke-width: 0px; fill: rgb(255, 0, 0); fill-opacity: 1;\"/><path class=\"point\" transform=\"translate(229.74,290.24)\" d=\"M3,0A3,3 0 1,1 0,-3A3,3 0 0,1 3,0Z\" style=\"opacity: 1; stroke-width: 0px; fill: rgb(255, 0, 0); fill-opacity: 1;\"/><path class=\"point\" transform=\"translate(199.46,251.51)\" d=\"M3,0A3,3 0 1,1 0,-3A3,3 0 0,1 3,0Z\" style=\"opacity: 1; stroke-width: 0px; fill: rgb(255, 0, 0); fill-opacity: 1;\"/><path class=\"point\" transform=\"translate(245.35,293.76)\" d=\"M3,0A3,3 0 1,1 0,-3A3,3 0 0,1 3,0Z\" style=\"opacity: 1; stroke-width: 0px; fill: rgb(255, 0, 0); fill-opacity: 1;\"/><path class=\"point\" transform=\"translate(183.95,276.64)\" d=\"M3,0A3,3 0 1,1 0,-3A3,3 0 0,1 3,0Z\" style=\"opacity: 1; stroke-width: 0px; fill: rgb(255, 0, 0); fill-opacity: 1;\"/><path class=\"point\" transform=\"translate(204.27,289.06)\" d=\"M3,0A3,3 0 1,1 0,-3A3,3 0 0,1 3,0Z\" style=\"opacity: 1; stroke-width: 0px; fill: rgb(255, 0, 0); fill-opacity: 1;\"/><path class=\"point\" transform=\"translate(223.45,265.87)\" d=\"M3,0A3,3 0 1,1 0,-3A3,3 0 0,1 3,0Z\" style=\"opacity: 1; stroke-width: 0px; fill: rgb(255, 0, 0); fill-opacity: 1;\"/><path class=\"point\" transform=\"translate(269.8,292.03)\" d=\"M3,0A3,3 0 1,1 0,-3A3,3 0 0,1 3,0Z\" style=\"opacity: 1; stroke-width: 0px; fill: rgb(255, 0, 0); fill-opacity: 1;\"/></g><g class=\"text\"/></g></g></g></g><path class=\"xlines-above crisp\" d=\"M0,0\" style=\"fill: none;\"/><path class=\"ylines-above crisp\" d=\"M0,0\" style=\"fill: none;\"/><g class=\"overlines-above\"><path class=\"xy2-x crisp\" d=\"M0,0\" style=\"fill: none;\"/><path class=\"xy2-y crisp\" d=\"M0,0\" style=\"fill: none;\"/></g><g class=\"xaxislayer-above\"><g class=\"xtick\"><text text-anchor=\"middle\" x=\"0\" y=\"433\" transform=\"translate(192.68,0)\" style=\"font-family: 'Open Sans', verdana, arial, sans-serif; font-size: 12px; fill: rgb(42, 63, 95); fill-opacity: 1; white-space: pre; opacity: 1;\">−0.2</text></g><g class=\"xtick\"><text text-anchor=\"middle\" x=\"0\" y=\"433\" style=\"font-family: 'Open Sans', verdana, arial, sans-serif; font-size: 12px; fill: rgb(42, 63, 95); fill-opacity: 1; white-space: pre; opacity: 1;\" transform=\"translate(318.64,0)\">0</text></g><g class=\"xtick\"><text text-anchor=\"middle\" x=\"0\" y=\"433\" style=\"font-family: 'Open Sans', verdana, arial, sans-serif; font-size: 12px; fill: rgb(42, 63, 95); fill-opacity: 1; white-space: pre; opacity: 1;\" transform=\"translate(444.6,0)\">0.2</text></g></g><g class=\"yaxislayer-above\"><g class=\"ytick\"><text text-anchor=\"end\" x=\"79\" y=\"4.199999999999999\" transform=\"translate(0,401.77)\" style=\"font-family: 'Open Sans', verdana, arial, sans-serif; font-size: 12px; fill: rgb(42, 63, 95); fill-opacity: 1; white-space: pre; opacity: 1;\">0</text></g><g class=\"ytick\"><text text-anchor=\"end\" x=\"79\" y=\"4.199999999999999\" style=\"font-family: 'Open Sans', verdana, arial, sans-serif; font-size: 12px; fill: rgb(42, 63, 95); fill-opacity: 1; white-space: pre; opacity: 1;\" transform=\"translate(0,324.53999999999996)\">0.5M</text></g><g class=\"ytick\"><text text-anchor=\"end\" x=\"79\" y=\"4.199999999999999\" style=\"font-family: 'Open Sans', verdana, arial, sans-serif; font-size: 12px; fill: rgb(42, 63, 95); fill-opacity: 1; white-space: pre; opacity: 1;\" transform=\"translate(0,247.31)\">1M</text></g><g class=\"ytick\"><text text-anchor=\"end\" x=\"79\" y=\"4.199999999999999\" style=\"font-family: 'Open Sans', verdana, arial, sans-serif; font-size: 12px; fill: rgb(42, 63, 95); fill-opacity: 1; white-space: pre; opacity: 1;\" transform=\"translate(0,170.09)\">1.5M</text></g></g><g class=\"overaxes-above\"><g class=\"xy2-x\"/><g class=\"xy2-y\"><g class=\"y2tick\"><text text-anchor=\"start\" x=\"535.96\" y=\"4.199999999999999\" transform=\"translate(0,402.06)\" style=\"font-family: 'Open Sans', verdana, arial, sans-serif; font-size: 12px; fill: rgb(42, 63, 95); fill-opacity: 1; white-space: pre; opacity: 1;\">0</text></g><g class=\"y2tick\"><text text-anchor=\"start\" x=\"535.96\" y=\"4.199999999999999\" style=\"font-family: 'Open Sans', verdana, arial, sans-serif; font-size: 12px; fill: rgb(42, 63, 95); fill-opacity: 1; white-space: pre; opacity: 1;\" transform=\"translate(0,338.28)\">10k</text></g><g class=\"y2tick\"><text text-anchor=\"start\" x=\"535.96\" y=\"4.199999999999999\" style=\"font-family: 'Open Sans', verdana, arial, sans-serif; font-size: 12px; fill: rgb(42, 63, 95); fill-opacity: 1; white-space: pre; opacity: 1;\" transform=\"translate(0,274.49)\">20k</text></g><g class=\"y2tick\"><text text-anchor=\"start\" x=\"535.96\" y=\"4.199999999999999\" style=\"font-family: 'Open Sans', verdana, arial, sans-serif; font-size: 12px; fill: rgb(42, 63, 95); fill-opacity: 1; white-space: pre; opacity: 1;\" transform=\"translate(0,210.70999999999998)\">30k</text></g><g class=\"y2tick\"><text text-anchor=\"start\" x=\"535.96\" y=\"4.199999999999999\" style=\"font-family: 'Open Sans', verdana, arial, sans-serif; font-size: 12px; fill: rgb(42, 63, 95); fill-opacity: 1; white-space: pre; opacity: 1;\" transform=\"translate(0,146.93)\">40k</text></g></g></g></g><g class=\"subplot xy2\"/></g><g class=\"polarlayer\"/><g class=\"smithlayer\"/><g class=\"ternarylayer\"/><g class=\"geolayer\"/><g class=\"funnelarealayer\"/><g class=\"pielayer\"/><g class=\"iciclelayer\"/><g class=\"treemaplayer\"/><g class=\"sunburstlayer\"/><g class=\"glimages\"/><defs id=\"topdefs-84685b\"><g class=\"clips\"/><clipPath id=\"legend84685b\"><rect width=\"114\" height=\"48\" x=\"0\" y=\"0\"/></clipPath></defs><g class=\"layer-above\"><g class=\"imagelayer\"/><g class=\"shapelayer\"/></g><g class=\"infolayer\"><g class=\"legend\" pointer-events=\"all\" transform=\"translate(573.6800000000001,100)\"><rect class=\"bg\" shape-rendering=\"crispEdges\" width=\"114\" height=\"48\" x=\"0\" y=\"0\" style=\"stroke: rgb(68, 68, 68); stroke-opacity: 1; fill: rgb(255, 255, 255); fill-opacity: 1; stroke-width: 0px;\"/><g class=\"scrollbox\" transform=\"\" clip-path=\"url(#legend84685b)\"><g class=\"groups\"><g class=\"traces\" transform=\"translate(0,14.5)\" style=\"opacity: 1;\"><text class=\"legendtext\" text-anchor=\"start\" x=\"40\" y=\"4.680000000000001\" style=\"font-family: 'Open Sans', verdana, arial, sans-serif; font-size: 12px; fill: rgb(42, 63, 95); fill-opacity: 1; white-space: pre;\">View Count</text><g class=\"layers\" style=\"opacity: 1;\"><g class=\"legendfill\"/><g class=\"legendlines\"/><g class=\"legendsymbols\"><g class=\"legendpoints\"><path class=\"scatterpts\" transform=\"translate(20,0)\" d=\"M3,0A3,3 0 1,1 0,-3A3,3 0 0,1 3,0Z\" style=\"opacity: 1; stroke-width: 0px; fill: rgb(0, 0, 255); fill-opacity: 1;\"/></g></g></g><rect class=\"legendtoggle\" x=\"0\" y=\"-9.5\" width=\"108.265625\" height=\"19\" style=\"fill: rgb(0, 0, 0); fill-opacity: 0;\"/></g><g class=\"traces\" transform=\"translate(0,33.5)\" style=\"opacity: 1;\"><text class=\"legendtext\" text-anchor=\"start\" x=\"40\" y=\"4.680000000000001\" style=\"font-family: 'Open Sans', verdana, arial, sans-serif; font-size: 12px; fill: rgb(42, 63, 95); fill-opacity: 1; white-space: pre;\">Like Count</text><g class=\"layers\" style=\"opacity: 1;\"><g class=\"legendfill\"/><g class=\"legendlines\"/><g class=\"legendsymbols\"><g class=\"legendpoints\"><path class=\"scatterpts\" transform=\"translate(20,0)\" d=\"M3,0A3,3 0 1,1 0,-3A3,3 0 0,1 3,0Z\" style=\"opacity: 1; stroke-width: 0px; fill: rgb(255, 0, 0); fill-opacity: 1;\"/></g></g></g><rect class=\"legendtoggle\" x=\"0\" y=\"-9.5\" width=\"108.265625\" height=\"19\" style=\"fill: rgb(0, 0, 0); fill-opacity: 0;\"/></g></g></g><rect class=\"scrollbar\" rx=\"20\" ry=\"3\" width=\"0\" height=\"0\" x=\"0\" y=\"0\" style=\"fill: rgb(128, 139, 164); fill-opacity: 1;\"/></g><g class=\"g-gtitle\"><text class=\"gtitle\" x=\"35\" y=\"50\" text-anchor=\"start\" dy=\"0em\" style=\"font-family: 'Open Sans', verdana, arial, sans-serif; font-size: 17px; fill: rgb(42, 63, 95); opacity: 1; font-weight: normal; white-space: pre;\"><tspan style=\"font-weight:bold\">Youtube View &amp; Like Counts VS Sentiment Scores<tspan style=\"font-weight:bold\"></tspan></tspan></text></g><g class=\"g-xtitle\"><text class=\"xtitle\" x=\"307.48\" y=\"460.3\" text-anchor=\"middle\" style=\"font-family: 'Open Sans', verdana, arial, sans-serif; font-size: 14px; fill: rgb(42, 63, 95); opacity: 1; font-weight: normal; white-space: pre;\">Sentiment Score</text></g><g class=\"g-ytitle\"><text class=\"ytitle\" transform=\"rotate(-90,24.450000000000003,260)\" x=\"24.450000000000003\" y=\"260\" text-anchor=\"middle\" style=\"font-family: 'Open Sans', verdana, arial, sans-serif; font-size: 14px; fill: rgb(42, 63, 95); opacity: 1; font-weight: normal; white-space: pre;\">View Counts</text></g><g class=\"g-y2title\"><text class=\"y2title\" transform=\"rotate(-90,583.128125,260)\" x=\"583.128125\" y=\"260\" text-anchor=\"middle\" style=\"font-family: 'Open Sans', verdana, arial, sans-serif; font-size: 14px; fill: rgb(42, 63, 95); opacity: 1; font-weight: normal; white-space: pre;\">Like Counts</text></g></g></svg>"
     },
     "metadata": {},
     "output_type": "display_data"
    }
   ],
   "source": [
    "fig = make_subplots(specs=[[{'secondary_y': True}]])\n",
    "\n",
    "fig.add_trace(\n",
    "        go.Scatter(\n",
    "        x=video_comp_sentiments['avg_comp_sentiment'],\n",
    "        y=video_comp_sentiments['vid_viewcount'],\n",
    "        name='View Count',\n",
    "        mode='markers',\n",
    "        marker_color='Blue',\n",
    "        text=video_comp_sentiments['vid_title'],\n",
    "        hovertemplate='<b>%{text}</b> <br>Sentiment Value: %{x} <br>View Count: %{y}'),\n",
    "        secondary_y=False\n",
    ")\n",
    "\n",
    "fig.add_trace(go.Scatter(\n",
    "    x=video_comp_sentiments['avg_comp_sentiment'],\n",
    "    y=video_comp_sentiments['vid_likecount'],\n",
    "    name='Like Count',\n",
    "    mode='markers',\n",
    "    marker_color='Red',\n",
    "    text=video_comp_sentiments['vid_title'],\n",
    "    hovertemplate='<b>%{text}</b> <br>Sentiment Value: %{x} <br>Like Count: %{y}'),\n",
    "    secondary_y=True\n",
    ")\n",
    "\n",
    "fig.update_layout(\n",
    "    title=\"<b>Youtube View & Like Counts VS Sentiment Scores<b>\",\n",
    "    xaxis_title=\"Sentiment Score\"\n",
    "    # legend_title=\"Legend Title\"\n",
    ")\n",
    "\n",
    "fig.update_yaxes(title_text=\"View Counts\", secondary_y=False)\n",
    "fig.update_yaxes(title_text=\"Like Counts\", secondary_y=True)\n",
    "\n",
    "fig.show(renderer='svg')"
   ]
  },
  {
   "cell_type": "code",
   "execution_count": 72,
   "metadata": {},
   "outputs": [],
   "source": [
    "test_df = video_comp_sentiments"
   ]
  },
  {
   "cell_type": "code",
   "execution_count": 73,
   "metadata": {},
   "outputs": [
    {
     "data": {
      "text/html": [
       "<div>\n",
       "<style scoped>\n",
       "    .dataframe tbody tr th:only-of-type {\n",
       "        vertical-align: middle;\n",
       "    }\n",
       "\n",
       "    .dataframe tbody tr th {\n",
       "        vertical-align: top;\n",
       "    }\n",
       "\n",
       "    .dataframe thead th {\n",
       "        text-align: right;\n",
       "    }\n",
       "</style>\n",
       "<table border=\"1\" class=\"dataframe\">\n",
       "  <thead>\n",
       "    <tr style=\"text-align: right;\">\n",
       "      <th></th>\n",
       "      <th>video_id</th>\n",
       "      <th>vid_title</th>\n",
       "      <th>avg_comp_sentiment</th>\n",
       "      <th>vid_viewcount</th>\n",
       "      <th>vid_likecount</th>\n",
       "    </tr>\n",
       "  </thead>\n",
       "  <tbody>\n",
       "    <tr>\n",
       "      <th>0</th>\n",
       "      <td>Mo0uGTXOI48</td>\n",
       "      <td>Classified Docs Often Contain 'Life Or Death' ...</td>\n",
       "      <td>-0.107191</td>\n",
       "      <td>45116</td>\n",
       "      <td>1502.0</td>\n",
       "    </tr>\n",
       "    <tr>\n",
       "      <th>1</th>\n",
       "      <td>ShrxBrNLVLU</td>\n",
       "      <td>'This Reversal Will Be A Permanent Part Of Jud...</td>\n",
       "      <td>-0.068474</td>\n",
       "      <td>363206</td>\n",
       "      <td>10450.0</td>\n",
       "    </tr>\n",
       "    <tr>\n",
       "      <th>2</th>\n",
       "      <td>_mlLkxSLa68</td>\n",
       "      <td>'Documents Don't Lie; Square Footage Doesn't L...</td>\n",
       "      <td>-0.020497</td>\n",
       "      <td>178632</td>\n",
       "      <td>5574.0</td>\n",
       "    </tr>\n",
       "    <tr>\n",
       "      <th>3</th>\n",
       "      <td>w7km9Znrohw</td>\n",
       "      <td>Trump Charges?: Anticipated Jan. 6 Report Hits...</td>\n",
       "      <td>0.000955</td>\n",
       "      <td>35792</td>\n",
       "      <td>1040.0</td>\n",
       "    </tr>\n",
       "    <tr>\n",
       "      <th>4</th>\n",
       "      <td>aX8ABP4A7gE</td>\n",
       "      <td>Sen. Durbin: It Troubles Me Greatly Some Of My...</td>\n",
       "      <td>-0.138860</td>\n",
       "      <td>206664</td>\n",
       "      <td>5304.0</td>\n",
       "    </tr>\n",
       "    <tr>\n",
       "      <th>...</th>\n",
       "      <td>...</td>\n",
       "      <td>...</td>\n",
       "      <td>...</td>\n",
       "      <td>...</td>\n",
       "      <td>...</td>\n",
       "    </tr>\n",
       "    <tr>\n",
       "      <th>283</th>\n",
       "      <td>Xvq-sBVmOyQ</td>\n",
       "      <td>NBC News Confirms Biden Will Attend Queen Eliz...</td>\n",
       "      <td>0.010662</td>\n",
       "      <td>147063</td>\n",
       "      <td>1302.0</td>\n",
       "    </tr>\n",
       "    <tr>\n",
       "      <th>284</th>\n",
       "      <td>yx8HNCJTztM</td>\n",
       "      <td>Reproductive Rights Has Galvanized Michigan Vo...</td>\n",
       "      <td>-0.086847</td>\n",
       "      <td>137332</td>\n",
       "      <td>3986.0</td>\n",
       "    </tr>\n",
       "    <tr>\n",
       "      <th>285</th>\n",
       "      <td>eeiog3IHZ34</td>\n",
       "      <td>Is There A Chance Steve Bannon Could Serve Tim...</td>\n",
       "      <td>-0.054576</td>\n",
       "      <td>132689</td>\n",
       "      <td>2039.0</td>\n",
       "    </tr>\n",
       "    <tr>\n",
       "      <th>286</th>\n",
       "      <td>R9hcVZZ9glE</td>\n",
       "      <td>Watch The Last Word With Lawrence O’Donnell Hi...</td>\n",
       "      <td>-0.024125</td>\n",
       "      <td>278617</td>\n",
       "      <td>5674.0</td>\n",
       "    </tr>\n",
       "    <tr>\n",
       "      <th>287</th>\n",
       "      <td>an2CezI6P8k</td>\n",
       "      <td>DOJ Turns To Trump's Post-Election Fundraising...</td>\n",
       "      <td>0.049475</td>\n",
       "      <td>71723</td>\n",
       "      <td>1573.0</td>\n",
       "    </tr>\n",
       "  </tbody>\n",
       "</table>\n",
       "<p>288 rows × 5 columns</p>\n",
       "</div>"
      ],
      "text/plain": [
       "        video_id                                          vid_title  \\\n",
       "0    Mo0uGTXOI48  Classified Docs Often Contain 'Life Or Death' ...   \n",
       "1    ShrxBrNLVLU  'This Reversal Will Be A Permanent Part Of Jud...   \n",
       "2    _mlLkxSLa68  'Documents Don't Lie; Square Footage Doesn't L...   \n",
       "3    w7km9Znrohw  Trump Charges?: Anticipated Jan. 6 Report Hits...   \n",
       "4    aX8ABP4A7gE  Sen. Durbin: It Troubles Me Greatly Some Of My...   \n",
       "..           ...                                                ...   \n",
       "283  Xvq-sBVmOyQ  NBC News Confirms Biden Will Attend Queen Eliz...   \n",
       "284  yx8HNCJTztM  Reproductive Rights Has Galvanized Michigan Vo...   \n",
       "285  eeiog3IHZ34  Is There A Chance Steve Bannon Could Serve Tim...   \n",
       "286  R9hcVZZ9glE  Watch The Last Word With Lawrence O’Donnell Hi...   \n",
       "287  an2CezI6P8k  DOJ Turns To Trump's Post-Election Fundraising...   \n",
       "\n",
       "     avg_comp_sentiment vid_viewcount  vid_likecount  \n",
       "0             -0.107191         45116         1502.0  \n",
       "1             -0.068474        363206        10450.0  \n",
       "2             -0.020497        178632         5574.0  \n",
       "3              0.000955         35792         1040.0  \n",
       "4             -0.138860        206664         5304.0  \n",
       "..                  ...           ...            ...  \n",
       "283            0.010662        147063         1302.0  \n",
       "284           -0.086847        137332         3986.0  \n",
       "285           -0.054576        132689         2039.0  \n",
       "286           -0.024125        278617         5674.0  \n",
       "287            0.049475         71723         1573.0  \n",
       "\n",
       "[288 rows x 5 columns]"
      ]
     },
     "execution_count": 73,
     "metadata": {},
     "output_type": "execute_result"
    }
   ],
   "source": [
    "test_df"
   ]
  },
  {
   "cell_type": "code",
   "execution_count": 74,
   "metadata": {},
   "outputs": [],
   "source": [
    "test_df['avg_comp_sentiment'] = np.where(test_df['avg_comp_sentiment'] > 0, test_df['avg_comp_sentiment'] * 2, test_df['avg_comp_sentiment'])\n",
    "test_df['avg_comp_sentiment'] = np.where(test_df['avg_comp_sentiment'] < 0, test_df['avg_comp_sentiment'] * -1, test_df['avg_comp_sentiment'])"
   ]
  },
  {
   "cell_type": "code",
   "execution_count": 75,
   "metadata": {},
   "outputs": [
    {
     "data": {
      "text/html": [
       "<div>\n",
       "<style scoped>\n",
       "    .dataframe tbody tr th:only-of-type {\n",
       "        vertical-align: middle;\n",
       "    }\n",
       "\n",
       "    .dataframe tbody tr th {\n",
       "        vertical-align: top;\n",
       "    }\n",
       "\n",
       "    .dataframe thead th {\n",
       "        text-align: right;\n",
       "    }\n",
       "</style>\n",
       "<table border=\"1\" class=\"dataframe\">\n",
       "  <thead>\n",
       "    <tr style=\"text-align: right;\">\n",
       "      <th></th>\n",
       "      <th>video_id</th>\n",
       "      <th>vid_title</th>\n",
       "      <th>avg_comp_sentiment</th>\n",
       "      <th>vid_viewcount</th>\n",
       "      <th>vid_likecount</th>\n",
       "    </tr>\n",
       "  </thead>\n",
       "  <tbody>\n",
       "    <tr>\n",
       "      <th>0</th>\n",
       "      <td>Mo0uGTXOI48</td>\n",
       "      <td>Classified Docs Often Contain 'Life Or Death' ...</td>\n",
       "      <td>0.107191</td>\n",
       "      <td>45116</td>\n",
       "      <td>1502.0</td>\n",
       "    </tr>\n",
       "    <tr>\n",
       "      <th>1</th>\n",
       "      <td>ShrxBrNLVLU</td>\n",
       "      <td>'This Reversal Will Be A Permanent Part Of Jud...</td>\n",
       "      <td>0.068474</td>\n",
       "      <td>363206</td>\n",
       "      <td>10450.0</td>\n",
       "    </tr>\n",
       "    <tr>\n",
       "      <th>2</th>\n",
       "      <td>_mlLkxSLa68</td>\n",
       "      <td>'Documents Don't Lie; Square Footage Doesn't L...</td>\n",
       "      <td>0.020497</td>\n",
       "      <td>178632</td>\n",
       "      <td>5574.0</td>\n",
       "    </tr>\n",
       "    <tr>\n",
       "      <th>3</th>\n",
       "      <td>w7km9Znrohw</td>\n",
       "      <td>Trump Charges?: Anticipated Jan. 6 Report Hits...</td>\n",
       "      <td>0.001909</td>\n",
       "      <td>35792</td>\n",
       "      <td>1040.0</td>\n",
       "    </tr>\n",
       "    <tr>\n",
       "      <th>4</th>\n",
       "      <td>aX8ABP4A7gE</td>\n",
       "      <td>Sen. Durbin: It Troubles Me Greatly Some Of My...</td>\n",
       "      <td>0.138860</td>\n",
       "      <td>206664</td>\n",
       "      <td>5304.0</td>\n",
       "    </tr>\n",
       "    <tr>\n",
       "      <th>...</th>\n",
       "      <td>...</td>\n",
       "      <td>...</td>\n",
       "      <td>...</td>\n",
       "      <td>...</td>\n",
       "      <td>...</td>\n",
       "    </tr>\n",
       "    <tr>\n",
       "      <th>283</th>\n",
       "      <td>Xvq-sBVmOyQ</td>\n",
       "      <td>NBC News Confirms Biden Will Attend Queen Eliz...</td>\n",
       "      <td>0.021324</td>\n",
       "      <td>147063</td>\n",
       "      <td>1302.0</td>\n",
       "    </tr>\n",
       "    <tr>\n",
       "      <th>284</th>\n",
       "      <td>yx8HNCJTztM</td>\n",
       "      <td>Reproductive Rights Has Galvanized Michigan Vo...</td>\n",
       "      <td>0.086847</td>\n",
       "      <td>137332</td>\n",
       "      <td>3986.0</td>\n",
       "    </tr>\n",
       "    <tr>\n",
       "      <th>285</th>\n",
       "      <td>eeiog3IHZ34</td>\n",
       "      <td>Is There A Chance Steve Bannon Could Serve Tim...</td>\n",
       "      <td>0.054576</td>\n",
       "      <td>132689</td>\n",
       "      <td>2039.0</td>\n",
       "    </tr>\n",
       "    <tr>\n",
       "      <th>286</th>\n",
       "      <td>R9hcVZZ9glE</td>\n",
       "      <td>Watch The Last Word With Lawrence O’Donnell Hi...</td>\n",
       "      <td>0.024125</td>\n",
       "      <td>278617</td>\n",
       "      <td>5674.0</td>\n",
       "    </tr>\n",
       "    <tr>\n",
       "      <th>287</th>\n",
       "      <td>an2CezI6P8k</td>\n",
       "      <td>DOJ Turns To Trump's Post-Election Fundraising...</td>\n",
       "      <td>0.098950</td>\n",
       "      <td>71723</td>\n",
       "      <td>1573.0</td>\n",
       "    </tr>\n",
       "  </tbody>\n",
       "</table>\n",
       "<p>288 rows × 5 columns</p>\n",
       "</div>"
      ],
      "text/plain": [
       "        video_id                                          vid_title  \\\n",
       "0    Mo0uGTXOI48  Classified Docs Often Contain 'Life Or Death' ...   \n",
       "1    ShrxBrNLVLU  'This Reversal Will Be A Permanent Part Of Jud...   \n",
       "2    _mlLkxSLa68  'Documents Don't Lie; Square Footage Doesn't L...   \n",
       "3    w7km9Znrohw  Trump Charges?: Anticipated Jan. 6 Report Hits...   \n",
       "4    aX8ABP4A7gE  Sen. Durbin: It Troubles Me Greatly Some Of My...   \n",
       "..           ...                                                ...   \n",
       "283  Xvq-sBVmOyQ  NBC News Confirms Biden Will Attend Queen Eliz...   \n",
       "284  yx8HNCJTztM  Reproductive Rights Has Galvanized Michigan Vo...   \n",
       "285  eeiog3IHZ34  Is There A Chance Steve Bannon Could Serve Tim...   \n",
       "286  R9hcVZZ9glE  Watch The Last Word With Lawrence O’Donnell Hi...   \n",
       "287  an2CezI6P8k  DOJ Turns To Trump's Post-Election Fundraising...   \n",
       "\n",
       "     avg_comp_sentiment vid_viewcount  vid_likecount  \n",
       "0              0.107191         45116         1502.0  \n",
       "1              0.068474        363206        10450.0  \n",
       "2              0.020497        178632         5574.0  \n",
       "3              0.001909         35792         1040.0  \n",
       "4              0.138860        206664         5304.0  \n",
       "..                  ...           ...            ...  \n",
       "283            0.021324        147063         1302.0  \n",
       "284            0.086847        137332         3986.0  \n",
       "285            0.054576        132689         2039.0  \n",
       "286            0.024125        278617         5674.0  \n",
       "287            0.098950         71723         1573.0  \n",
       "\n",
       "[288 rows x 5 columns]"
      ]
     },
     "execution_count": 75,
     "metadata": {},
     "output_type": "execute_result"
    }
   ],
   "source": [
    "test_df"
   ]
  },
  {
   "cell_type": "code",
   "execution_count": 78,
   "metadata": {},
   "outputs": [
    {
     "data": {
      "image/svg+xml": "<svg class=\"main-svg\" xmlns=\"http://www.w3.org/2000/svg\" xmlns:xlink=\"http://www.w3.org/1999/xlink\" width=\"700\" height=\"500\" style=\"\" viewBox=\"0 0 700 500\"><rect x=\"0\" y=\"0\" width=\"700\" height=\"500\" style=\"fill: rgb(255, 255, 255); fill-opacity: 1;\"/><defs id=\"defs-f08b6e\"><g class=\"clips\"><clipPath id=\"clipf08b6exyplot\" class=\"plotclip\"><rect width=\"428\" height=\"360\"/></clipPath><clipPath class=\"axesclip\" id=\"clipf08b6ex\"><rect x=\"80\" y=\"0\" width=\"428\" height=\"500\"/></clipPath><clipPath class=\"axesclip\" id=\"clipf08b6ey\"><rect x=\"0\" y=\"60\" width=\"700\" height=\"360\"/></clipPath><clipPath class=\"axesclip\" id=\"clipf08b6exy\"><rect x=\"80\" y=\"60\" width=\"428\" height=\"360\"/></clipPath></g><g class=\"gradients\"><linearGradient x1=\"0\" x2=\"0\" y1=\"1\" y2=\"0\" id=\"gf08b6e-cbcoloraxis\"><stop offset=\"0%\" stop-color=\"rgb(13, 8, 135)\" stop-opacity=\"1\"/><stop offset=\"11.111111%\" stop-color=\"rgb(70, 3, 159)\" stop-opacity=\"1\"/><stop offset=\"22.222222%\" stop-color=\"rgb(114, 1, 168)\" stop-opacity=\"1\"/><stop offset=\"33.333333%\" stop-color=\"rgb(156, 23, 158)\" stop-opacity=\"1\"/><stop offset=\"44.444444%\" stop-color=\"rgb(189, 55, 134)\" stop-opacity=\"1\"/><stop offset=\"55.555556%\" stop-color=\"rgb(216, 87, 107)\" stop-opacity=\"1\"/><stop offset=\"66.666667%\" stop-color=\"rgb(237, 121, 83)\" stop-opacity=\"1\"/><stop offset=\"77.777778%\" stop-color=\"rgb(251, 159, 58)\" stop-opacity=\"1\"/><stop offset=\"88.888889%\" stop-color=\"rgb(253, 202, 38)\" stop-opacity=\"1\"/><stop offset=\"100%\" stop-color=\"rgb(240, 249, 33)\" stop-opacity=\"1\"/></linearGradient></g><g class=\"patterns\"/></defs><g class=\"bglayer\"><rect class=\"bg\" x=\"80\" y=\"60\" width=\"428\" height=\"360\" style=\"fill: rgb(229, 236, 246); fill-opacity: 1; stroke-width: 0;\"/></g><g class=\"layer-below\"><g class=\"imagelayer\"/><g class=\"shapelayer\"/></g><g class=\"cartesianlayer\"><g class=\"subplot xy\"><g class=\"layer-subplot\"><g class=\"shapelayer\"/><g class=\"imagelayer\"/></g><g class=\"gridlayer\"><g class=\"x\"><path class=\"xgrid crisp\" transform=\"translate(107.07,0)\" d=\"M0,60v360\" style=\"stroke: rgb(255, 255, 255); stroke-opacity: 1; stroke-width: 1px;\"/><path class=\"xgrid crisp\" transform=\"translate(156.89,0)\" d=\"M0,60v360\" style=\"stroke: rgb(255, 255, 255); stroke-opacity: 1; stroke-width: 1px;\"/><path class=\"xgrid crisp\" transform=\"translate(222.75,0)\" d=\"M0,60v360\" style=\"stroke: rgb(255, 255, 255); stroke-opacity: 1; stroke-width: 1px;\"/><path class=\"xgrid crisp\" transform=\"translate(272.57,0)\" d=\"M0,60v360\" style=\"stroke: rgb(255, 255, 255); stroke-opacity: 1; stroke-width: 1px;\"/><path class=\"xgrid crisp\" transform=\"translate(322.39,0)\" d=\"M0,60v360\" style=\"stroke: rgb(255, 255, 255); stroke-opacity: 1; stroke-width: 1px;\"/><path class=\"xgrid crisp\" transform=\"translate(388.25,0)\" d=\"M0,60v360\" style=\"stroke: rgb(255, 255, 255); stroke-opacity: 1; stroke-width: 1px;\"/><path class=\"xgrid crisp\" transform=\"translate(438.08,0)\" d=\"M0,60v360\" style=\"stroke: rgb(255, 255, 255); stroke-opacity: 1; stroke-width: 1px;\"/><path class=\"xgrid crisp\" transform=\"translate(487.9,0)\" d=\"M0,60v360\" style=\"stroke: rgb(255, 255, 255); stroke-opacity: 1; stroke-width: 1px;\"/></g><g class=\"y\"><path class=\"ygrid crisp\" transform=\"translate(0,325.13)\" d=\"M80,0h428\" style=\"stroke: rgb(255, 255, 255); stroke-opacity: 1; stroke-width: 1px;\"/><path class=\"ygrid crisp\" transform=\"translate(0,254.59)\" d=\"M80,0h428\" style=\"stroke: rgb(255, 255, 255); stroke-opacity: 1; stroke-width: 1px;\"/><path class=\"ygrid crisp\" transform=\"translate(0,184.06)\" d=\"M80,0h428\" style=\"stroke: rgb(255, 255, 255); stroke-opacity: 1; stroke-width: 1px;\"/><path class=\"ygrid crisp\" transform=\"translate(0,113.53)\" d=\"M80,0h428\" style=\"stroke: rgb(255, 255, 255); stroke-opacity: 1; stroke-width: 1px;\"/></g></g><g class=\"zerolinelayer\"><path class=\"yzl zl crisp\" transform=\"translate(0,395.66)\" d=\"M80,0h428\" style=\"stroke: rgb(255, 255, 255); stroke-opacity: 1; stroke-width: 2px;\"/></g><path class=\"xlines-below\"/><path class=\"ylines-below\"/><g class=\"overlines-below\"/><g class=\"xaxislayer-below\"/><g class=\"yaxislayer-below\"/><g class=\"overaxes-below\"/><g class=\"plot\" transform=\"translate(80,60)\" clip-path=\"url(#clipf08b6exyplot)\"><g class=\"scatterlayer mlayer\"><g class=\"trace scatter trace77c06a\" style=\"stroke-miterlimit: 2; opacity: 1;\"><g class=\"fills\"/><g class=\"errorbars\"/><g class=\"lines\"/><g class=\"points\"><path class=\"point\" transform=\"translate(135.36,325.06)\" d=\"M5.96,0A5.96,5.96 0 1,1 0,-5.96A5.96,5.96 0 0,1 5.96,0Z\" style=\"opacity: 0.7; stroke-width: 1px; fill: rgb(96, 2, 164); fill-opacity: 1; stroke: rgb(255, 255, 255); stroke-opacity: 1;\"/><path class=\"point\" transform=\"translate(285.28,261.95)\" d=\"M4.77,0A4.77,4.77 0 1,1 0,-4.77A4.77,4.77 0 0,1 4.77,0Z\" style=\"opacity: 0.7; stroke-width: 1px; fill: rgb(71, 3, 159); fill-opacity: 1; stroke: rgb(255, 255, 255); stroke-opacity: 1;\"/><path class=\"point\" transform=\"translate(234.27,296.34)\" d=\"M2.61,0A2.61,2.61 0 1,1 0,-2.61A2.61,2.61 0 0,1 2.61,0Z\" style=\"opacity: 0.7; stroke-width: 1px; fill: rgb(30, 7, 142); fill-opacity: 1; stroke: rgb(255, 255, 255); stroke-opacity: 1;\"/><path class=\"point\" transform=\"translate(118.72,328.32)\" d=\"M0.8,0A0.8,0.8 0 1,1 0,-0.8A0.8,0.8 0 0,1 0.8,0Z\" style=\"opacity: 0.7; stroke-width: 1px; fill: rgb(14, 8, 135); fill-opacity: 1; stroke: rgb(255, 255, 255); stroke-opacity: 1;\"/><path class=\"point\" transform=\"translate(244.75,298.25)\" d=\"M6.79,0A6.79,6.79 0 1,1 0,-6.79A6.79,6.79 0 0,1 6.79,0Z\" style=\"opacity: 0.7; stroke-width: 1px; fill: rgb(117, 2, 167); fill-opacity: 1; stroke: rgb(255, 255, 255); stroke-opacity: 1;\"/><path class=\"point\" transform=\"translate(154.35,325.35)\" d=\"M2.71,0A2.71,2.71 0 1,1 0,-2.71A2.71,2.71 0 0,1 2.71,0Z\" style=\"opacity: 0.7; stroke-width: 1px; fill: rgb(31, 6, 143); fill-opacity: 1; stroke: rgb(255, 255, 255); stroke-opacity: 1;\"/><path class=\"point\" transform=\"translate(304.55,267.08)\" d=\"M1.92,0A1.92,1.92 0 1,1 0,-1.92A1.92,1.92 0 0,1 1.92,0Z\" style=\"opacity: 0.7; stroke-width: 1px; fill: rgb(22, 7, 139); fill-opacity: 1; stroke: rgb(255, 255, 255); stroke-opacity: 1;\"/><path class=\"point\" transform=\"translate(239.36,304.32)\" d=\"M1.86,0A1.86,1.86 0 1,1 0,-1.86A1.86,1.86 0 0,1 1.86,0Z\" style=\"opacity: 0.7; stroke-width: 1px; fill: rgb(21, 7, 138); fill-opacity: 1; stroke: rgb(255, 255, 255); stroke-opacity: 1;\"/><path class=\"point\" transform=\"translate(232.57,311.08)\" d=\"M1.53,0A1.53,1.53 0 1,1 0,-1.53A1.53,1.53 0 0,1 1.53,0Z\" style=\"opacity: 0.7; stroke-width: 1px; fill: rgb(18, 8, 137); fill-opacity: 1; stroke: rgb(255, 255, 255); stroke-opacity: 1;\"/><path class=\"point\" transform=\"translate(230.04,308.34)\" d=\"M10.28,0A10.28,10.28 0 1,1 0,-10.28A10.28,10.28 0 0,1 10.28,0Z\" style=\"opacity: 0.7; stroke-width: 1px; fill: rgb(209, 79, 114); fill-opacity: 1; stroke: rgb(255, 255, 255); stroke-opacity: 1;\"/><path class=\"point\" transform=\"translate(192.46,320.25)\" d=\"M5.55,0A5.55,5.55 0 1,1 0,-5.55A5.55,5.55 0 0,1 5.55,0Z\" style=\"opacity: 0.7; stroke-width: 1px; fill: rgb(87, 2, 162); fill-opacity: 1; stroke: rgb(255, 255, 255); stroke-opacity: 1;\"/><path class=\"point\" transform=\"translate(255.94,298.4)\" d=\"M3.72,0A3.72,3.72 0 1,1 0,-3.72A3.72,3.72 0 0,1 3.72,0Z\" style=\"opacity: 0.7; stroke-width: 1px; fill: rgb(48, 5, 150); fill-opacity: 1; stroke: rgb(255, 255, 255); stroke-opacity: 1;\"/><path class=\"point\" transform=\"translate(224.82,310.47)\" d=\"M4.73,0A4.73,4.73 0 1,1 0,-4.73A4.73,4.73 0 0,1 4.73,0Z\" style=\"opacity: 0.7; stroke-width: 1px; fill: rgb(70, 3, 159); fill-opacity: 1; stroke: rgb(255, 255, 255); stroke-opacity: 1;\"/><path class=\"point\" transform=\"translate(375.51,23.47)\" d=\"M4.9,0A4.9,4.9 0 1,1 0,-4.9A4.9,4.9 0 0,1 4.9,0Z\" style=\"opacity: 0.7; stroke-width: 1px; fill: rgb(73, 3, 160); fill-opacity: 1; stroke: rgb(255, 255, 255); stroke-opacity: 1;\"/><path class=\"point\" transform=\"translate(230.75,309.48)\" d=\"M1.46,0A1.46,1.46 0 1,1 0,-1.46A1.46,1.46 0 0,1 1.46,0Z\" style=\"opacity: 0.7; stroke-width: 1px; fill: rgb(18, 8, 137); fill-opacity: 1; stroke: rgb(255, 255, 255); stroke-opacity: 1;\"/><path class=\"point\" transform=\"translate(241.85,304.5)\" d=\"M4.77,0A4.77,4.77 0 1,1 0,-4.77A4.77,4.77 0 0,1 4.77,0Z\" style=\"opacity: 0.7; stroke-width: 1px; fill: rgb(71, 3, 159); fill-opacity: 1; stroke: rgb(255, 255, 255); stroke-opacity: 1;\"/><path class=\"point\" transform=\"translate(265.89,298.12)\" d=\"M9.02,0A9.02,9.02 0 1,1 0,-9.02A9.02,9.02 0 0,1 9.02,0Z\" style=\"opacity: 0.7; stroke-width: 1px; fill: rgb(178, 44, 142); fill-opacity: 1; stroke: rgb(255, 255, 255); stroke-opacity: 1;\"/><path class=\"point\" transform=\"translate(346.52,189.73)\" d=\"M2.27,0A2.27,2.27 0 1,1 0,-2.27A2.27,2.27 0 0,1 2.27,0Z\" style=\"opacity: 0.7; stroke-width: 1px; fill: rgb(26, 7, 140); fill-opacity: 1; stroke: rgb(255, 255, 255); stroke-opacity: 1;\"/><path class=\"point\" transform=\"translate(298.24,252.44)\" d=\"M3.96,0A3.96,3.96 0 1,1 0,-3.96A3.96,3.96 0 0,1 3.96,0Z\" style=\"opacity: 0.7; stroke-width: 1px; fill: rgb(53, 5, 152); fill-opacity: 1; stroke: rgb(255, 255, 255); stroke-opacity: 1;\"/><path class=\"point\" transform=\"translate(305.42,255.07)\" d=\"M3.22,0A3.22,3.22 0 1,1 0,-3.22A3.22,3.22 0 0,1 3.22,0Z\" style=\"opacity: 0.7; stroke-width: 1px; fill: rgb(39, 6, 146); fill-opacity: 1; stroke: rgb(255, 255, 255); stroke-opacity: 1;\"/><path class=\"point\" transform=\"translate(308.64,264.91)\" d=\"M6.61,0A6.61,6.61 0 1,1 0,-6.61A6.61,6.61 0 0,1 6.61,0Z\" style=\"opacity: 0.7; stroke-width: 1px; fill: rgb(112, 1, 168); fill-opacity: 1; stroke: rgb(255, 255, 255); stroke-opacity: 1;\"/><path class=\"point\" transform=\"translate(294.85,286.88)\" d=\"M2.52,0A2.52,2.52 0 1,1 0,-2.52A2.52,2.52 0 0,1 2.52,0Z\" style=\"opacity: 0.7; stroke-width: 1px; fill: rgb(29, 7, 142); fill-opacity: 1; stroke: rgb(255, 255, 255); stroke-opacity: 1;\"/><path class=\"point\" transform=\"translate(315.23,268.55)\" d=\"M5.59,0A5.59,5.59 0 1,1 0,-5.59A5.59,5.59 0 0,1 5.59,0Z\" style=\"opacity: 0.7; stroke-width: 1px; fill: rgb(88, 2, 163); fill-opacity: 1; stroke: rgb(255, 255, 255); stroke-opacity: 1;\"/><path class=\"point\" transform=\"translate(210.99,318.59)\" d=\"M6.03,0A6.03,6.03 0 1,1 0,-6.03A6.03,6.03 0 0,1 6.03,0Z\" style=\"opacity: 0.7; stroke-width: 1px; fill: rgb(98, 2, 165); fill-opacity: 1; stroke: rgb(255, 255, 255); stroke-opacity: 1;\"/><path class=\"point\" transform=\"translate(194.68,321.7)\" d=\"M6.69,0A6.69,6.69 0 1,1 0,-6.69A6.69,6.69 0 0,1 6.69,0Z\" style=\"opacity: 0.7; stroke-width: 1px; fill: rgb(114, 1, 168); fill-opacity: 1; stroke: rgb(255, 255, 255); stroke-opacity: 1;\"/><path class=\"point\" transform=\"translate(238.84,313.38)\" d=\"M2.57,0A2.57,2.57 0 1,1 0,-2.57A2.57,2.57 0 0,1 2.57,0Z\" style=\"opacity: 0.7; stroke-width: 1px; fill: rgb(29, 7, 142); fill-opacity: 1; stroke: rgb(255, 255, 255); stroke-opacity: 1;\"/><path class=\"point\" transform=\"translate(206.08,317.14)\" d=\"M5.69,0A5.69,5.69 0 1,1 0,-5.69A5.69,5.69 0 0,1 5.69,0Z\" style=\"opacity: 0.7; stroke-width: 1px; fill: rgb(90, 2, 163); fill-opacity: 1; stroke: rgb(255, 255, 255); stroke-opacity: 1;\"/><path class=\"point\" transform=\"translate(176.12,324.82)\" d=\"M7.26,0A7.26,7.26 0 1,1 0,-7.26A7.26,7.26 0 0,1 7.26,0Z\" style=\"opacity: 0.7; stroke-width: 1px; fill: rgb(129, 9, 164); fill-opacity: 1; stroke: rgb(255, 255, 255); stroke-opacity: 1;\"/><path class=\"point\" transform=\"translate(264.22,269.38)\" d=\"M4.28,0A4.28,4.28 0 1,1 0,-4.28A4.28,4.28 0 0,1 4.28,0Z\" style=\"opacity: 0.7; stroke-width: 1px; fill: rgb(60, 4, 155); fill-opacity: 1; stroke: rgb(255, 255, 255); stroke-opacity: 1;\"/><path class=\"point\" transform=\"translate(126.09,326.59)\" d=\"M6.7,0A6.7,6.7 0 1,1 0,-6.7A6.7,6.7 0 0,1 6.7,0Z\" style=\"opacity: 0.7; stroke-width: 1px; fill: rgb(114, 1, 168); fill-opacity: 1; stroke: rgb(255, 255, 255); stroke-opacity: 1;\"/><path class=\"point\" transform=\"translate(285.81,297.45)\" d=\"M7.39,0A7.39,7.39 0 1,1 0,-7.39A7.39,7.39 0 0,1 7.39,0Z\" style=\"opacity: 0.7; stroke-width: 1px; fill: rgb(133, 11, 163); fill-opacity: 1; stroke: rgb(255, 255, 255); stroke-opacity: 1;\"/><path class=\"point\" transform=\"translate(85.9,331.96)\" d=\"M5.68,0A5.68,5.68 0 1,1 0,-5.68A5.68,5.68 0 0,1 5.68,0Z\" style=\"opacity: 0.7; stroke-width: 1px; fill: rgb(90, 2, 163); fill-opacity: 1; stroke: rgb(255, 255, 255); stroke-opacity: 1;\"/><path class=\"point\" transform=\"translate(186.7,322.6)\" d=\"M5.03,0A5.03,5.03 0 1,1 0,-5.03A5.03,5.03 0 0,1 5.03,0Z\" style=\"opacity: 0.7; stroke-width: 1px; fill: rgb(76, 3, 160); fill-opacity: 1; stroke: rgb(255, 255, 255); stroke-opacity: 1;\"/><path class=\"point\" transform=\"translate(282.24,292.18)\" d=\"M1.99,0A1.99,1.99 0 1,1 0,-1.99A1.99,1.99 0 0,1 1.99,0Z\" style=\"opacity: 0.7; stroke-width: 1px; fill: rgb(23, 7, 139); fill-opacity: 1; stroke: rgb(255, 255, 255); stroke-opacity: 1;\"/><path class=\"point\" transform=\"translate(280.03,307.92)\" d=\"M1.67,0A1.67,1.67 0 1,1 0,-1.67A1.67,1.67 0 0,1 1.67,0Z\" style=\"opacity: 0.7; stroke-width: 1px; fill: rgb(20, 7, 138); fill-opacity: 1; stroke: rgb(255, 255, 255); stroke-opacity: 1;\"/><path class=\"point\" transform=\"translate(189.3,325.89)\" d=\"M8.74,0A8.74,8.74 0 1,1 0,-8.74A8.74,8.74 0 0,1 8.74,0Z\" style=\"opacity: 0.7; stroke-width: 1px; fill: rgb(170, 37, 148); fill-opacity: 1; stroke: rgb(255, 255, 255); stroke-opacity: 1;\"/><path class=\"point\" transform=\"translate(291.78,269.16)\" d=\"M9.7,0A9.7,9.7 0 1,1 0,-9.7A9.7,9.7 0 0,1 9.7,0Z\" style=\"opacity: 0.7; stroke-width: 1px; fill: rgb(195, 62, 128); fill-opacity: 1; stroke: rgb(255, 255, 255); stroke-opacity: 1;\"/><path class=\"point\" transform=\"translate(224.03,316.68)\" d=\"M3.83,0A3.83,3.83 0 1,1 0,-3.83A3.83,3.83 0 0,1 3.83,0Z\" style=\"opacity: 0.7; stroke-width: 1px; fill: rgb(50, 5, 151); fill-opacity: 1; stroke: rgb(255, 255, 255); stroke-opacity: 1;\"/><path class=\"point\" transform=\"translate(292.52,261.21)\" d=\"M4.6,0A4.6,4.6 0 1,1 0,-4.6A4.6,4.6 0 0,1 4.6,0Z\" style=\"opacity: 0.7; stroke-width: 1px; fill: rgb(67, 3, 158); fill-opacity: 1; stroke: rgb(255, 255, 255); stroke-opacity: 1;\"/><path class=\"point\" transform=\"translate(353.06,160.1)\" d=\"M2.43,0A2.43,2.43 0 1,1 0,-2.43A2.43,2.43 0 0,1 2.43,0Z\" style=\"opacity: 0.7; stroke-width: 1px; fill: rgb(28, 7, 141); fill-opacity: 1; stroke: rgb(255, 255, 255); stroke-opacity: 1;\"/><path class=\"point\" transform=\"translate(266.79,297.21)\" d=\"M4.97,0A4.97,4.97 0 1,1 0,-4.97A4.97,4.97 0 0,1 4.97,0Z\" style=\"opacity: 0.7; stroke-width: 1px; fill: rgb(75, 3, 160); fill-opacity: 1; stroke: rgb(255, 255, 255); stroke-opacity: 1;\"/><path class=\"point\" transform=\"translate(255.89,302.4)\" d=\"M9.02,0A9.02,9.02 0 1,1 0,-9.02A9.02,9.02 0 0,1 9.02,0Z\" style=\"opacity: 0.7; stroke-width: 1px; fill: rgb(178, 44, 142); fill-opacity: 1; stroke: rgb(255, 255, 255); stroke-opacity: 1;\"/><path class=\"point\" transform=\"translate(295.74,276.2)\" d=\"M4.09,0A4.09,4.09 0 1,1 0,-4.09A4.09,4.09 0 0,1 4.09,0Z\" style=\"opacity: 0.7; stroke-width: 1px; fill: rgb(55, 4, 153); fill-opacity: 1; stroke: rgb(255, 255, 255); stroke-opacity: 1;\"/><path class=\"point\" transform=\"translate(156.17,321.87)\" d=\"M4.2,0A4.2,4.2 0 1,1 0,-4.2A4.2,4.2 0 0,1 4.2,0Z\" style=\"opacity: 0.7; stroke-width: 1px; fill: rgb(58, 4, 154); fill-opacity: 1; stroke: rgb(255, 255, 255); stroke-opacity: 1;\"/><path class=\"point\" transform=\"translate(311.13,240.82)\" d=\"M3.92,0A3.92,3.92 0 1,1 0,-3.92A3.92,3.92 0 0,1 3.92,0Z\" style=\"opacity: 0.7; stroke-width: 1px; fill: rgb(52, 5, 151); fill-opacity: 1; stroke: rgb(255, 255, 255); stroke-opacity: 1;\"/><path class=\"point\" transform=\"translate(348.62,220.35)\" d=\"M5.92,0A5.92,5.92 0 1,1 0,-5.92A5.92,5.92 0 0,1 5.92,0Z\" style=\"opacity: 0.7; stroke-width: 1px; fill: rgb(95, 2, 164); fill-opacity: 1; stroke: rgb(255, 255, 255); stroke-opacity: 1;\"/><path class=\"point\" transform=\"translate(121.23,331.79)\" d=\"M7.94,0A7.94,7.94 0 1,1 0,-7.94A7.94,7.94 0 0,1 7.94,0Z\" style=\"opacity: 0.7; stroke-width: 1px; fill: rgb(149, 19, 160); fill-opacity: 1; stroke: rgb(255, 255, 255); stroke-opacity: 1;\"/><path class=\"point\" transform=\"translate(225.53,323.63)\" d=\"M3.04,0A3.04,3.04 0 1,1 0,-3.04A3.04,3.04 0 0,1 3.04,0Z\" style=\"opacity: 0.7; stroke-width: 1px; fill: rgb(36, 6, 145); fill-opacity: 1; stroke: rgb(255, 255, 255); stroke-opacity: 1;\"/><path class=\"point\" transform=\"translate(236.54,309.75)\" d=\"M0.95,0A0.95,0.95 0 1,1 0,-0.95A0.95,0.95 0 0,1 0.95,0Z\" style=\"opacity: 0.7; stroke-width: 1px; fill: rgb(15, 8, 136); fill-opacity: 1; stroke: rgb(255, 255, 255); stroke-opacity: 1;\"/><path class=\"point\" transform=\"translate(211.22,320.64)\" d=\"M4.6,0A4.6,4.6 0 1,1 0,-4.6A4.6,4.6 0 0,1 4.6,0Z\" style=\"opacity: 0.7; stroke-width: 1px; fill: rgb(67, 3, 158); fill-opacity: 1; stroke: rgb(255, 255, 255); stroke-opacity: 1;\"/><path class=\"point\" transform=\"translate(166.23,325.63)\" d=\"M6.43,0A6.43,6.43 0 1,1 0,-6.43A6.43,6.43 0 0,1 6.43,0Z\" style=\"opacity: 0.7; stroke-width: 1px; fill: rgb(107, 1, 167); fill-opacity: 1; stroke: rgb(255, 255, 255); stroke-opacity: 1;\"/><path class=\"point\" transform=\"translate(80.71,331.38)\" d=\"M5.07,0A5.07,5.07 0 1,1 0,-5.07A5.07,5.07 0 0,1 5.07,0Z\" style=\"opacity: 0.7; stroke-width: 1px; fill: rgb(76, 3, 160); fill-opacity: 1; stroke: rgb(255, 255, 255); stroke-opacity: 1;\"/><path class=\"point\" transform=\"translate(285.62,315.56)\" d=\"M4.96,0A4.96,4.96 0 1,1 0,-4.96A4.96,4.96 0 0,1 4.96,0Z\" style=\"opacity: 0.7; stroke-width: 1px; fill: rgb(74, 3, 160); fill-opacity: 1; stroke: rgb(255, 255, 255); stroke-opacity: 1;\"/><path class=\"point\" transform=\"translate(147.7,330.34)\" d=\"M5.46,0A5.46,5.46 0 1,1 0,-5.46A5.46,5.46 0 0,1 5.46,0Z\" style=\"opacity: 0.7; stroke-width: 1px; fill: rgb(85, 2, 162); fill-opacity: 1; stroke: rgb(255, 255, 255); stroke-opacity: 1;\"/><path class=\"point\" transform=\"translate(401.35,161.21)\" d=\"M4.69,0A4.69,4.69 0 1,1 0,-4.69A4.69,4.69 0 0,1 4.69,0Z\" style=\"opacity: 0.7; stroke-width: 1px; fill: rgb(69, 3, 159); fill-opacity: 1; stroke: rgb(255, 255, 255); stroke-opacity: 1;\"/><path class=\"point\" transform=\"translate(266.87,295.29)\" d=\"M5.87,0A5.87,5.87 0 1,1 0,-5.87A5.87,5.87 0 0,1 5.87,0Z\" style=\"opacity: 0.7; stroke-width: 1px; fill: rgb(94, 2, 164); fill-opacity: 1; stroke: rgb(255, 255, 255); stroke-opacity: 1;\"/><path class=\"point\" transform=\"translate(179.61,317.26)\" d=\"M12.66,0A12.66,12.66 0 1,1 0,-12.66A12.66,12.66 0 0,1 12.66,0Z\" style=\"opacity: 0.7; stroke-width: 1px; fill: rgb(251, 168, 54); fill-opacity: 1; stroke: rgb(255, 255, 255); stroke-opacity: 1;\"/><path class=\"point\" transform=\"translate(279.11,297.94)\" d=\"M9.7,0A9.7,9.7 0 1,1 0,-9.7A9.7,9.7 0 0,1 9.7,0Z\" style=\"opacity: 0.7; stroke-width: 1px; fill: rgb(195, 62, 128); fill-opacity: 1; stroke: rgb(255, 255, 255); stroke-opacity: 1;\"/><path class=\"point\" transform=\"translate(235.56,309.56)\" d=\"M3.09,0A3.09,3.09 0 1,1 0,-3.09A3.09,3.09 0 0,1 3.09,0Z\" style=\"opacity: 0.7; stroke-width: 1px; fill: rgb(37, 6, 145); fill-opacity: 1; stroke: rgb(255, 255, 255); stroke-opacity: 1;\"/><path class=\"point\" transform=\"translate(264.03,305.73)\" d=\"M5.11,0A5.11,5.11 0 1,1 0,-5.11A5.11,5.11 0 0,1 5.11,0Z\" style=\"opacity: 0.7; stroke-width: 1px; fill: rgb(77, 3, 160); fill-opacity: 1; stroke: rgb(255, 255, 255); stroke-opacity: 1;\"/><path class=\"point\" transform=\"translate(257.09,302.61)\" d=\"M5.63,0A5.63,5.63 0 1,1 0,-5.63A5.63,5.63 0 0,1 5.63,0Z\" style=\"opacity: 0.7; stroke-width: 1px; fill: rgb(88, 2, 163); fill-opacity: 1; stroke: rgb(255, 255, 255); stroke-opacity: 1;\"/><path class=\"point\" transform=\"translate(193.21,322.05)\" d=\"M4.87,0A4.87,4.87 0 1,1 0,-4.87A4.87,4.87 0 0,1 4.87,0Z\" style=\"opacity: 0.7; stroke-width: 1px; fill: rgb(73, 3, 160); fill-opacity: 1; stroke: rgb(255, 255, 255); stroke-opacity: 1;\"/><path class=\"point\" transform=\"translate(178.87,323.73)\" d=\"M4.89,0A4.89,4.89 0 1,1 0,-4.89A4.89,4.89 0 0,1 4.89,0Z\" style=\"opacity: 0.7; stroke-width: 1px; fill: rgb(73, 3, 160); fill-opacity: 1; stroke: rgb(255, 255, 255); stroke-opacity: 1;\"/><path class=\"point\" transform=\"translate(243.55,310.05)\" d=\"M5.09,0A5.09,5.09 0 1,1 0,-5.09A5.09,5.09 0 0,1 5.09,0Z\" style=\"opacity: 0.7; stroke-width: 1px; fill: rgb(77, 3, 160); fill-opacity: 1; stroke: rgb(255, 255, 255); stroke-opacity: 1;\"/><path class=\"point\" transform=\"translate(136.18,325.98)\" d=\"M4.38,0A4.38,4.38 0 1,1 0,-4.38A4.38,4.38 0 0,1 4.38,0Z\" style=\"opacity: 0.7; stroke-width: 1px; fill: rgb(62, 4, 155); fill-opacity: 1; stroke: rgb(255, 255, 255); stroke-opacity: 1;\"/><path class=\"point\" transform=\"translate(292.35,282.03)\" d=\"M3.84,0A3.84,3.84 0 1,1 0,-3.84A3.84,3.84 0 0,1 3.84,0Z\" style=\"opacity: 0.7; stroke-width: 1px; fill: rgb(50, 5, 151); fill-opacity: 1; stroke: rgb(255, 255, 255); stroke-opacity: 1;\"/><path class=\"point\" transform=\"translate(373.87,136.57)\" d=\"M5.56,0A5.56,5.56 0 1,1 0,-5.56A5.56,5.56 0 0,1 5.56,0Z\" style=\"opacity: 0.7; stroke-width: 1px; fill: rgb(87, 2, 162); fill-opacity: 1; stroke: rgb(255, 255, 255); stroke-opacity: 1;\"/><path class=\"point\" transform=\"translate(218.02,319.17)\" d=\"M5.37,0A5.37,5.37 0 1,1 0,-5.37A5.37,5.37 0 0,1 5.37,0Z\" style=\"opacity: 0.7; stroke-width: 1px; fill: rgb(83, 2, 162); fill-opacity: 1; stroke: rgb(255, 255, 255); stroke-opacity: 1;\"/><path class=\"point\" transform=\"translate(241.67,309.32)\" d=\"M0.89,0A0.89,0.89 0 1,1 0,-0.89A0.89,0.89 0 0,1 0.89,0Z\" style=\"opacity: 0.7; stroke-width: 1px; fill: rgb(14, 8, 136); fill-opacity: 1; stroke: rgb(255, 255, 255); stroke-opacity: 1;\"/><path class=\"point\" transform=\"translate(213.72,314.1)\" d=\"M5.84,0A5.84,5.84 0 1,1 0,-5.84A5.84,5.84 0 0,1 5.84,0Z\" style=\"opacity: 0.7; stroke-width: 1px; fill: rgb(93, 2, 164); fill-opacity: 1; stroke: rgb(255, 255, 255); stroke-opacity: 1;\"/><path class=\"point\" transform=\"translate(248.85,307.2)\" d=\"M4.96,0A4.96,4.96 0 1,1 0,-4.96A4.96,4.96 0 0,1 4.96,0Z\" style=\"opacity: 0.7; stroke-width: 1px; fill: rgb(74, 3, 160); fill-opacity: 1; stroke: rgb(255, 255, 255); stroke-opacity: 1;\"/><path class=\"point\" transform=\"translate(234.3,313.43)\" d=\"M6.56,0A6.56,6.56 0 1,1 0,-6.56A6.56,6.56 0 0,1 6.56,0Z\" style=\"opacity: 0.7; stroke-width: 1px; fill: rgb(111, 1, 167); fill-opacity: 1; stroke: rgb(255, 255, 255); stroke-opacity: 1;\"/><path class=\"point\" transform=\"translate(81.5,331.11)\" d=\"M3.99,0A3.99,3.99 0 1,1 0,-3.99A3.99,3.99 0 0,1 3.99,0Z\" style=\"opacity: 0.7; stroke-width: 1px; fill: rgb(53, 4, 152); fill-opacity: 1; stroke: rgb(255, 255, 255); stroke-opacity: 1;\"/><path class=\"point\" transform=\"translate(188.56,316.54)\" d=\"M7.85,0A7.85,7.85 0 1,1 0,-7.85A7.85,7.85 0 0,1 7.85,0Z\" style=\"opacity: 0.7; stroke-width: 1px; fill: rgb(146, 18, 160); fill-opacity: 1; stroke: rgb(255, 255, 255); stroke-opacity: 1;\"/><path class=\"point\" transform=\"translate(278.89,277.43)\" d=\"M3.6,0A3.6,3.6 0 1,1 0,-3.6A3.6,3.6 0 0,1 3.6,0Z\" style=\"opacity: 0.7; stroke-width: 1px; fill: rgb(46, 5, 149); fill-opacity: 1; stroke: rgb(255, 255, 255); stroke-opacity: 1;\"/><path class=\"point\" transform=\"translate(216.89,316.78)\" d=\"M6.91,0A6.91,6.91 0 1,1 0,-6.91A6.91,6.91 0 0,1 6.91,0Z\" style=\"opacity: 0.7; stroke-width: 1px; fill: rgb(120, 4, 167); fill-opacity: 1; stroke: rgb(255, 255, 255); stroke-opacity: 1;\"/><path class=\"point\" transform=\"translate(324.16,251.3)\" d=\"M5.99,0A5.99,5.99 0 1,1 0,-5.99A5.99,5.99 0 0,1 5.99,0Z\" style=\"opacity: 0.7; stroke-width: 1px; fill: rgb(97, 2, 164); fill-opacity: 1; stroke: rgb(255, 255, 255); stroke-opacity: 1;\"/><path class=\"point\" transform=\"translate(108.25,328.94)\" d=\"M4.88,0A4.88,4.88 0 1,1 0,-4.88A4.88,4.88 0 0,1 4.88,0Z\" style=\"opacity: 0.7; stroke-width: 1px; fill: rgb(73, 3, 160); fill-opacity: 1; stroke: rgb(255, 255, 255); stroke-opacity: 1;\"/><path class=\"point\" transform=\"translate(219.5,315.58)\" d=\"M2.78,0A2.78,2.78 0 1,1 0,-2.78A2.78,2.78 0 0,1 2.78,0Z\" style=\"opacity: 0.7; stroke-width: 1px; fill: rgb(32, 6, 143); fill-opacity: 1; stroke: rgb(255, 255, 255); stroke-opacity: 1;\"/><path class=\"point\" transform=\"translate(83.65,331.31)\" d=\"M5.9,0A5.9,5.9 0 1,1 0,-5.9A5.9,5.9 0 0,1 5.9,0Z\" style=\"opacity: 0.7; stroke-width: 1px; fill: rgb(94, 2, 164); fill-opacity: 1; stroke: rgb(255, 255, 255); stroke-opacity: 1;\"/><path class=\"point\" transform=\"translate(165.67,325.69)\" d=\"M5.74,0A5.74,5.74 0 1,1 0,-5.74A5.74,5.74 0 0,1 5.74,0Z\" style=\"opacity: 0.7; stroke-width: 1px; fill: rgb(91, 2, 163); fill-opacity: 1; stroke: rgb(255, 255, 255); stroke-opacity: 1;\"/><path class=\"point\" transform=\"translate(57.75,333.51)\" d=\"M6.52,0A6.52,6.52 0 1,1 0,-6.52A6.52,6.52 0 0,1 6.52,0Z\" style=\"opacity: 0.7; stroke-width: 1px; fill: rgb(110, 1, 167); fill-opacity: 1; stroke: rgb(255, 255, 255); stroke-opacity: 1;\"/><path class=\"point\" transform=\"translate(67.06,331.98)\" d=\"M5.83,0A5.83,5.83 0 1,1 0,-5.83A5.83,5.83 0 0,1 5.83,0Z\" style=\"opacity: 0.7; stroke-width: 1px; fill: rgb(93, 2, 164); fill-opacity: 1; stroke: rgb(255, 255, 255); stroke-opacity: 1;\"/><path class=\"point\" transform=\"translate(125.39,329.48)\" d=\"M4.98,0A4.98,4.98 0 1,1 0,-4.98A4.98,4.98 0 0,1 4.98,0Z\" style=\"opacity: 0.7; stroke-width: 1px; fill: rgb(75, 3, 160); fill-opacity: 1; stroke: rgb(255, 255, 255); stroke-opacity: 1;\"/><path class=\"point\" transform=\"translate(125.07,329.06)\" d=\"M1.9,0A1.9,1.9 0 1,1 0,-1.9A1.9,1.9 0 0,1 1.9,0Z\" style=\"opacity: 0.7; stroke-width: 1px; fill: rgb(22, 7, 139); fill-opacity: 1; stroke: rgb(255, 255, 255); stroke-opacity: 1;\"/><path class=\"point\" transform=\"translate(143.88,333.06)\" d=\"M3.52,0A3.52,3.52 0 1,1 0,-3.52A3.52,3.52 0 0,1 3.52,0Z\" style=\"opacity: 0.7; stroke-width: 1px; fill: rgb(44, 5, 148); fill-opacity: 1; stroke: rgb(255, 255, 255); stroke-opacity: 1;\"/><path class=\"point\" transform=\"translate(327.69,263.76)\" d=\"M4.66,0A4.66,4.66 0 1,1 0,-4.66A4.66,4.66 0 0,1 4.66,0Z\" style=\"opacity: 0.7; stroke-width: 1px; fill: rgb(68, 3, 158); fill-opacity: 1; stroke: rgb(255, 255, 255); stroke-opacity: 1;\"/><path class=\"point\" transform=\"translate(212.94,319.09)\" d=\"M0.47,0A0.47,0.47 0 1,1 0,-0.47A0.47,0.47 0 0,1 0.47,0Z\" style=\"opacity: 0.7; stroke-width: 1px; fill: rgb(13, 8, 135); fill-opacity: 1; stroke: rgb(255, 255, 255); stroke-opacity: 1;\"/><path class=\"point\" transform=\"translate(131.44,326.06)\" d=\"M2.79,0A2.79,2.79 0 1,1 0,-2.79A2.79,2.79 0 0,1 2.79,0Z\" style=\"opacity: 0.7; stroke-width: 1px; fill: rgb(32, 6, 143); fill-opacity: 1; stroke: rgb(255, 255, 255); stroke-opacity: 1;\"/><path class=\"point\" transform=\"translate(193.76,318.91)\" d=\"M2.99,0A2.99,2.99 0 1,1 0,-2.99A2.99,2.99 0 0,1 2.99,0Z\" style=\"opacity: 0.7; stroke-width: 1px; fill: rgb(35, 6, 144); fill-opacity: 1; stroke: rgb(255, 255, 255); stroke-opacity: 1;\"/><path class=\"point\" transform=\"translate(108.41,332.19)\" d=\"M5.88,0A5.88,5.88 0 1,1 0,-5.88A5.88,5.88 0 0,1 5.88,0Z\" style=\"opacity: 0.7; stroke-width: 1px; fill: rgb(94, 2, 164); fill-opacity: 1; stroke: rgb(255, 255, 255); stroke-opacity: 1;\"/><path class=\"point\" transform=\"translate(219.72,316.68)\" d=\"M7.63,0A7.63,7.63 0 1,1 0,-7.63A7.63,7.63 0 0,1 7.63,0Z\" style=\"opacity: 0.7; stroke-width: 1px; fill: rgb(140, 14, 162); fill-opacity: 1; stroke: rgb(255, 255, 255); stroke-opacity: 1;\"/><path class=\"point\" transform=\"translate(126.79,328.78)\" d=\"M4.13,0A4.13,4.13 0 1,1 0,-4.13A4.13,4.13 0 0,1 4.13,0Z\" style=\"opacity: 0.7; stroke-width: 1px; fill: rgb(56, 4, 153); fill-opacity: 1; stroke: rgb(255, 255, 255); stroke-opacity: 1;\"/><path class=\"point\" transform=\"translate(159.36,323.09)\" d=\"M7.26,0A7.26,7.26 0 1,1 0,-7.26A7.26,7.26 0 0,1 7.26,0Z\" style=\"opacity: 0.7; stroke-width: 1px; fill: rgb(129, 9, 164); fill-opacity: 1; stroke: rgb(255, 255, 255); stroke-opacity: 1;\"/><path class=\"point\" transform=\"translate(230.68,324.7)\" d=\"M10.69,0A10.69,10.69 0 1,1 0,-10.69A10.69,10.69 0 0,1 10.69,0Z\" style=\"opacity: 0.7; stroke-width: 1px; fill: rgb(219, 92, 104); fill-opacity: 1; stroke: rgb(255, 255, 255); stroke-opacity: 1;\"/><path class=\"point\" transform=\"translate(25.69,333.61)\" d=\"M2.83,0A2.83,2.83 0 1,1 0,-2.83A2.83,2.83 0 0,1 2.83,0Z\" style=\"opacity: 0.7; stroke-width: 1px; fill: rgb(33, 6, 143); fill-opacity: 1; stroke: rgb(255, 255, 255); stroke-opacity: 1;\"/><path class=\"point\" transform=\"translate(132.41,326.21)\" d=\"M3.91,0A3.91,3.91 0 1,1 0,-3.91A3.91,3.91 0 0,1 3.91,0Z\" style=\"opacity: 0.7; stroke-width: 1px; fill: rgb(52, 5, 151); fill-opacity: 1; stroke: rgb(255, 255, 255); stroke-opacity: 1;\"/><path class=\"point\" transform=\"translate(127.92,326.79)\" d=\"M3.39,0A3.39,3.39 0 1,1 0,-3.39A3.39,3.39 0 0,1 3.39,0Z\" style=\"opacity: 0.7; stroke-width: 1px; fill: rgb(42, 5, 147); fill-opacity: 1; stroke: rgb(255, 255, 255); stroke-opacity: 1;\"/><path class=\"point\" transform=\"translate(134.05,327.89)\" d=\"M7.31,0A7.31,7.31 0 1,1 0,-7.31A7.31,7.31 0 0,1 7.31,0Z\" style=\"opacity: 0.7; stroke-width: 1px; fill: rgb(131, 10, 164); fill-opacity: 1; stroke: rgb(255, 255, 255); stroke-opacity: 1;\"/><path class=\"point\" transform=\"translate(169.82,314.58)\" d=\"M6.13,0A6.13,6.13 0 1,1 0,-6.13A6.13,6.13 0 0,1 6.13,0Z\" style=\"opacity: 0.7; stroke-width: 1px; fill: rgb(100, 2, 165); fill-opacity: 1; stroke: rgb(255, 255, 255); stroke-opacity: 1;\"/><path class=\"point\" transform=\"translate(189.53,322.02)\" d=\"M3.68,0A3.68,3.68 0 1,1 0,-3.68A3.68,3.68 0 0,1 3.68,0Z\" style=\"opacity: 0.7; stroke-width: 1px; fill: rgb(47, 5, 149); fill-opacity: 1; stroke: rgb(255, 255, 255); stroke-opacity: 1;\"/><path class=\"point\" transform=\"translate(177.36,320.39)\" d=\"M7.31,0A7.31,7.31 0 1,1 0,-7.31A7.31,7.31 0 0,1 7.31,0Z\" style=\"opacity: 0.7; stroke-width: 1px; fill: rgb(131, 10, 164); fill-opacity: 1; stroke: rgb(255, 255, 255); stroke-opacity: 1;\"/><path class=\"point\" transform=\"translate(103.64,328.49)\" d=\"M4.4,0A4.4,4.4 0 1,1 0,-4.4A4.4,4.4 0 0,1 4.4,0Z\" style=\"opacity: 0.7; stroke-width: 1px; fill: rgb(62, 4, 156); fill-opacity: 1; stroke: rgb(255, 255, 255); stroke-opacity: 1;\"/><path class=\"point\" transform=\"translate(259.33,296.77)\" d=\"M8.04,0A8.04,8.04 0 1,1 0,-8.04A8.04,8.04 0 0,1 8.04,0Z\" style=\"opacity: 0.7; stroke-width: 1px; fill: rgb(152, 21, 159); fill-opacity: 1; stroke: rgb(255, 255, 255); stroke-opacity: 1;\"/><path class=\"point\" transform=\"translate(154.93,330.11)\" d=\"M6.83,0A6.83,6.83 0 1,1 0,-6.83A6.83,6.83 0 0,1 6.83,0Z\" style=\"opacity: 0.7; stroke-width: 1px; fill: rgb(118, 3, 167); fill-opacity: 1; stroke: rgb(255, 255, 255); stroke-opacity: 1;\"/><path class=\"point\" transform=\"translate(149.53,326.02)\" d=\"M3.45,0A3.45,3.45 0 1,1 0,-3.45A3.45,3.45 0 0,1 3.45,0Z\" style=\"opacity: 0.7; stroke-width: 1px; fill: rgb(43, 5, 148); fill-opacity: 1; stroke: rgb(255, 255, 255); stroke-opacity: 1;\"/><path class=\"point\" transform=\"translate(184.81,322.33)\" d=\"M2.61,0A2.61,2.61 0 1,1 0,-2.61A2.61,2.61 0 0,1 2.61,0Z\" style=\"opacity: 0.7; stroke-width: 1px; fill: rgb(30, 7, 142); fill-opacity: 1; stroke: rgb(255, 255, 255); stroke-opacity: 1;\"/><path class=\"point\" transform=\"translate(251.12,309.83)\" d=\"M3.97,0A3.97,3.97 0 1,1 0,-3.97A3.97,3.97 0 0,1 3.97,0Z\" style=\"opacity: 0.7; stroke-width: 1px; fill: rgb(53, 4, 152); fill-opacity: 1; stroke: rgb(255, 255, 255); stroke-opacity: 1;\"/><path class=\"point\" transform=\"translate(291.42,289.72)\" d=\"M4.21,0A4.21,4.21 0 1,1 0,-4.21A4.21,4.21 0 0,1 4.21,0Z\" style=\"opacity: 0.7; stroke-width: 1px; fill: rgb(58, 4, 154); fill-opacity: 1; stroke: rgb(255, 255, 255); stroke-opacity: 1;\"/><path class=\"point\" transform=\"translate(71.3,331.93)\" d=\"M4.65,0A4.65,4.65 0 1,1 0,-4.65A4.65,4.65 0 0,1 4.65,0Z\" style=\"opacity: 0.7; stroke-width: 1px; fill: rgb(68, 3, 158); fill-opacity: 1; stroke: rgb(255, 255, 255); stroke-opacity: 1;\"/><path class=\"point\" transform=\"translate(179.81,326.12)\" d=\"M6.34,0A6.34,6.34 0 1,1 0,-6.34A6.34,6.34 0 0,1 6.34,0Z\" style=\"opacity: 0.7; stroke-width: 1px; fill: rgb(105, 1, 166); fill-opacity: 1; stroke: rgb(255, 255, 255); stroke-opacity: 1;\"/><path class=\"point\" transform=\"translate(241.25,294.9)\" d=\"M6.15,0A6.15,6.15 0 1,1 0,-6.15A6.15,6.15 0 0,1 6.15,0Z\" style=\"opacity: 0.7; stroke-width: 1px; fill: rgb(101, 2, 165); fill-opacity: 1; stroke: rgb(255, 255, 255); stroke-opacity: 1;\"/><path class=\"point\" transform=\"translate(239.63,328.6)\" d=\"M4.78,0A4.78,4.78 0 1,1 0,-4.78A4.78,4.78 0 0,1 4.78,0Z\" style=\"opacity: 0.7; stroke-width: 1px; fill: rgb(71, 3, 159); fill-opacity: 1; stroke: rgb(255, 255, 255); stroke-opacity: 1;\"/><path class=\"point\" transform=\"translate(240.98,302.16)\" d=\"M2.86,0A2.86,2.86 0 1,1 0,-2.86A2.86,2.86 0 0,1 2.86,0Z\" style=\"opacity: 0.7; stroke-width: 1px; fill: rgb(33, 6, 144); fill-opacity: 1; stroke: rgb(255, 255, 255); stroke-opacity: 1;\"/><path class=\"point\" transform=\"translate(152.69,322.43)\" d=\"M6.14,0A6.14,6.14 0 1,1 0,-6.14A6.14,6.14 0 0,1 6.14,0Z\" style=\"opacity: 0.7; stroke-width: 1px; fill: rgb(100, 2, 165); fill-opacity: 1; stroke: rgb(255, 255, 255); stroke-opacity: 1;\"/><path class=\"point\" transform=\"translate(279.03,288.7)\" d=\"M3.26,0A3.26,3.26 0 1,1 0,-3.26A3.26,3.26 0 0,1 3.26,0Z\" style=\"opacity: 0.7; stroke-width: 1px; fill: rgb(40, 6, 146); fill-opacity: 1; stroke: rgb(255, 255, 255); stroke-opacity: 1;\"/><path class=\"point\" transform=\"translate(232.6,310.51)\" d=\"M6.03,0A6.03,6.03 0 1,1 0,-6.03A6.03,6.03 0 0,1 6.03,0Z\" style=\"opacity: 0.7; stroke-width: 1px; fill: rgb(98, 2, 165); fill-opacity: 1; stroke: rgb(255, 255, 255); stroke-opacity: 1;\"/><path class=\"point\" transform=\"translate(195.92,321.42)\" d=\"M2.87,0A2.87,2.87 0 1,1 0,-2.87A2.87,2.87 0 0,1 2.87,0Z\" style=\"opacity: 0.7; stroke-width: 1px; fill: rgb(34, 6, 144); fill-opacity: 1; stroke: rgb(255, 255, 255); stroke-opacity: 1;\"/><path class=\"point\" transform=\"translate(325.68,222.47)\" d=\"M10.21,0A10.21,10.21 0 1,1 0,-10.21A10.21,10.21 0 0,1 10.21,0Z\" style=\"opacity: 0.7; stroke-width: 1px; fill: rgb(208, 77, 115); fill-opacity: 1; stroke: rgb(255, 255, 255); stroke-opacity: 1;\"/><path class=\"point\" transform=\"translate(211.74,317.21)\" d=\"M6.11,0A6.11,6.11 0 1,1 0,-6.11A6.11,6.11 0 0,1 6.11,0Z\" style=\"opacity: 0.7; stroke-width: 1px; fill: rgb(100, 2, 165); fill-opacity: 1; stroke: rgb(255, 255, 255); stroke-opacity: 1;\"/><path class=\"point\" transform=\"translate(375.56,189.09)\" d=\"M6.87,0A6.87,6.87 0 1,1 0,-6.87A6.87,6.87 0 0,1 6.87,0Z\" style=\"opacity: 0.7; stroke-width: 1px; fill: rgb(119, 4, 167); fill-opacity: 1; stroke: rgb(255, 255, 255); stroke-opacity: 1;\"/><path class=\"point\" transform=\"translate(218.75,316.06)\" d=\"M7.05,0A7.05,7.05 0 1,1 0,-7.05A7.05,7.05 0 0,1 7.05,0Z\" style=\"opacity: 0.7; stroke-width: 1px; fill: rgb(124, 6, 166); fill-opacity: 1; stroke: rgb(255, 255, 255); stroke-opacity: 1;\"/><path class=\"point\" transform=\"translate(146.32,324.68)\" d=\"M3.74,0A3.74,3.74 0 1,1 0,-3.74A3.74,3.74 0 0,1 3.74,0Z\" style=\"opacity: 0.7; stroke-width: 1px; fill: rgb(48, 5, 150); fill-opacity: 1; stroke: rgb(255, 255, 255); stroke-opacity: 1;\"/><path class=\"point\" transform=\"translate(218.61,316.68)\" d=\"M3.92,0A3.92,3.92 0 1,1 0,-3.92A3.92,3.92 0 0,1 3.92,0Z\" style=\"opacity: 0.7; stroke-width: 1px; fill: rgb(52, 5, 151); fill-opacity: 1; stroke: rgb(255, 255, 255); stroke-opacity: 1;\"/><path class=\"point\" transform=\"translate(244.42,307.17)\" d=\"M2.77,0A2.77,2.77 0 1,1 0,-2.77A2.77,2.77 0 0,1 2.77,0Z\" style=\"opacity: 0.7; stroke-width: 1px; fill: rgb(32, 6, 143); fill-opacity: 1; stroke: rgb(255, 255, 255); stroke-opacity: 1;\"/><path class=\"point\" transform=\"translate(130.15,325.59)\" d=\"M5.94,0A5.94,5.94 0 1,1 0,-5.94A5.94,5.94 0 0,1 5.94,0Z\" style=\"opacity: 0.7; stroke-width: 1px; fill: rgb(96, 2, 164); fill-opacity: 1; stroke: rgb(255, 255, 255); stroke-opacity: 1;\"/><path class=\"point\" transform=\"translate(244.29,306.78)\" d=\"M4.95,0A4.95,4.95 0 1,1 0,-4.95A4.95,4.95 0 0,1 4.95,0Z\" style=\"opacity: 0.7; stroke-width: 1px; fill: rgb(74, 3, 160); fill-opacity: 1; stroke: rgb(255, 255, 255); stroke-opacity: 1;\"/><path class=\"point\" transform=\"translate(110,329.58)\" d=\"M5.52,0A5.52,5.52 0 1,1 0,-5.52A5.52,5.52 0 0,1 5.52,0Z\" style=\"opacity: 0.7; stroke-width: 1px; fill: rgb(86, 2, 162); fill-opacity: 1; stroke: rgb(255, 255, 255); stroke-opacity: 1;\"/><path class=\"point\" transform=\"translate(166.22,325.24)\" d=\"M6.73,0A6.73,6.73 0 1,1 0,-6.73A6.73,6.73 0 0,1 6.73,0Z\" style=\"opacity: 0.7; stroke-width: 1px; fill: rgb(115, 2, 168); fill-opacity: 1; stroke: rgb(255, 255, 255); stroke-opacity: 1;\"/><path class=\"point\" transform=\"translate(289.34,313.69)\" d=\"M2.86,0A2.86,2.86 0 1,1 0,-2.86A2.86,2.86 0 0,1 2.86,0Z\" style=\"opacity: 0.7; stroke-width: 1px; fill: rgb(33, 6, 144); fill-opacity: 1; stroke: rgb(255, 255, 255); stroke-opacity: 1;\"/><path class=\"point\" transform=\"translate(228.41,311.53)\" d=\"M7.45,0A7.45,7.45 0 1,1 0,-7.45A7.45,7.45 0 0,1 7.45,0Z\" style=\"opacity: 0.7; stroke-width: 1px; fill: rgb(135, 12, 163); fill-opacity: 1; stroke: rgb(255, 255, 255); stroke-opacity: 1;\"/><path class=\"point\" transform=\"translate(242.09,315.61)\" d=\"M6.52,0A6.52,6.52 0 1,1 0,-6.52A6.52,6.52 0 0,1 6.52,0Z\" style=\"opacity: 0.7; stroke-width: 1px; fill: rgb(110, 1, 167); fill-opacity: 1; stroke: rgb(255, 255, 255); stroke-opacity: 1;\"/><path class=\"point\" transform=\"translate(234.58,310.41)\" d=\"M4.67,0A4.67,4.67 0 1,1 0,-4.67A4.67,4.67 0 0,1 4.67,0Z\" style=\"opacity: 0.7; stroke-width: 1px; fill: rgb(69, 3, 158); fill-opacity: 1; stroke: rgb(255, 255, 255); stroke-opacity: 1;\"/><path class=\"point\" transform=\"translate(75.31,330.75)\" d=\"M4.89,0A4.89,4.89 0 1,1 0,-4.89A4.89,4.89 0 0,1 4.89,0Z\" style=\"opacity: 0.7; stroke-width: 1px; fill: rgb(73, 3, 160); fill-opacity: 1; stroke: rgb(255, 255, 255); stroke-opacity: 1;\"/><path class=\"point\" transform=\"translate(315.41,262.9)\" d=\"M5.24,0A5.24,5.24 0 1,1 0,-5.24A5.24,5.24 0 0,1 5.24,0Z\" style=\"opacity: 0.7; stroke-width: 1px; fill: rgb(80, 3, 161); fill-opacity: 1; stroke: rgb(255, 255, 255); stroke-opacity: 1;\"/><path class=\"point\" transform=\"translate(275.75,304.21)\" d=\"M5.11,0A5.11,5.11 0 1,1 0,-5.11A5.11,5.11 0 0,1 5.11,0Z\" style=\"opacity: 0.7; stroke-width: 1px; fill: rgb(77, 3, 160); fill-opacity: 1; stroke: rgb(255, 255, 255); stroke-opacity: 1;\"/><path class=\"point\" transform=\"translate(143.53,320.15)\" d=\"M2.56,0A2.56,2.56 0 1,1 0,-2.56A2.56,2.56 0 0,1 2.56,0Z\" style=\"opacity: 0.7; stroke-width: 1px; fill: rgb(29, 7, 142); fill-opacity: 1; stroke: rgb(255, 255, 255); stroke-opacity: 1;\"/><path class=\"point\" transform=\"translate(57.99,332.7)\" d=\"M7.43,0A7.43,7.43 0 1,1 0,-7.43A7.43,7.43 0 0,1 7.43,0Z\" style=\"opacity: 0.7; stroke-width: 1px; fill: rgb(134, 11, 163); fill-opacity: 1; stroke: rgb(255, 255, 255); stroke-opacity: 1;\"/><path class=\"point\" transform=\"translate(293.37,292.94)\" d=\"M5.51,0A5.51,5.51 0 1,1 0,-5.51A5.51,5.51 0 0,1 5.51,0Z\" style=\"opacity: 0.7; stroke-width: 1px; fill: rgb(86, 2, 162); fill-opacity: 1; stroke: rgb(255, 255, 255); stroke-opacity: 1;\"/><path class=\"point\" transform=\"translate(174.08,311.06)\" d=\"M8.25,0A8.25,8.25 0 1,1 0,-8.25A8.25,8.25 0 0,1 8.25,0Z\" style=\"opacity: 0.7; stroke-width: 1px; fill: rgb(158, 25, 157); fill-opacity: 1; stroke: rgb(255, 255, 255); stroke-opacity: 1;\"/><path class=\"point\" transform=\"translate(207.57,327.51)\" d=\"M3.84,0A3.84,3.84 0 1,1 0,-3.84A3.84,3.84 0 0,1 3.84,0Z\" style=\"opacity: 0.7; stroke-width: 1px; fill: rgb(50, 5, 151); fill-opacity: 1; stroke: rgb(255, 255, 255); stroke-opacity: 1;\"/><path class=\"point\" transform=\"translate(61.74,331.31)\" d=\"M2.61,0A2.61,2.61 0 1,1 0,-2.61A2.61,2.61 0 0,1 2.61,0Z\" style=\"opacity: 0.7; stroke-width: 1px; fill: rgb(30, 7, 142); fill-opacity: 1; stroke: rgb(255, 255, 255); stroke-opacity: 1;\"/><path class=\"point\" transform=\"translate(156.81,324.81)\" d=\"M5.83,0A5.83,5.83 0 1,1 0,-5.83A5.83,5.83 0 0,1 5.83,0Z\" style=\"opacity: 0.7; stroke-width: 1px; fill: rgb(93, 2, 164); fill-opacity: 1; stroke: rgb(255, 255, 255); stroke-opacity: 1;\"/><path class=\"point\" transform=\"translate(78.28,329.1)\" d=\"M4.07,0A4.07,4.07 0 1,1 0,-4.07A4.07,4.07 0 0,1 4.07,0Z\" style=\"opacity: 0.7; stroke-width: 1px; fill: rgb(55, 4, 153); fill-opacity: 1; stroke: rgb(255, 255, 255); stroke-opacity: 1;\"/><path class=\"point\" transform=\"translate(134.24,329.06)\" d=\"M2.99,0A2.99,2.99 0 1,1 0,-2.99A2.99,2.99 0 0,1 2.99,0Z\" style=\"opacity: 0.7; stroke-width: 1px; fill: rgb(35, 6, 144); fill-opacity: 1; stroke: rgb(255, 255, 255); stroke-opacity: 1;\"/><path class=\"point\" transform=\"translate(299.15,242.75)\" d=\"M5.09,0A5.09,5.09 0 1,1 0,-5.09A5.09,5.09 0 0,1 5.09,0Z\" style=\"opacity: 0.7; stroke-width: 1px; fill: rgb(77, 3, 160); fill-opacity: 1; stroke: rgb(255, 255, 255); stroke-opacity: 1;\"/><path class=\"point\" transform=\"translate(321.36,250.21)\" d=\"M5.2,0A5.2,5.2 0 1,1 0,-5.2A5.2,5.2 0 0,1 5.2,0Z\" style=\"opacity: 0.7; stroke-width: 1px; fill: rgb(79, 3, 161); fill-opacity: 1; stroke: rgb(255, 255, 255); stroke-opacity: 1;\"/><path class=\"point\" transform=\"translate(201.98,303.47)\" d=\"M5.77,0A5.77,5.77 0 1,1 0,-5.77A5.77,5.77 0 0,1 5.77,0Z\" style=\"opacity: 0.7; stroke-width: 1px; fill: rgb(92, 2, 163); fill-opacity: 1; stroke: rgb(255, 255, 255); stroke-opacity: 1;\"/><path class=\"point\" transform=\"translate(188.4,315.54)\" d=\"M2.79,0A2.79,2.79 0 1,1 0,-2.79A2.79,2.79 0 0,1 2.79,0Z\" style=\"opacity: 0.7; stroke-width: 1px; fill: rgb(32, 6, 143); fill-opacity: 1; stroke: rgb(255, 255, 255); stroke-opacity: 1;\"/><path class=\"point\" transform=\"translate(294.18,271.18)\" d=\"M6.34,0A6.34,6.34 0 1,1 0,-6.34A6.34,6.34 0 0,1 6.34,0Z\" style=\"opacity: 0.7; stroke-width: 1px; fill: rgb(105, 1, 166); fill-opacity: 1; stroke: rgb(255, 255, 255); stroke-opacity: 1;\"/><path class=\"point\" transform=\"translate(257.93,302.54)\" d=\"M5.21,0A5.21,5.21 0 1,1 0,-5.21A5.21,5.21 0 0,1 5.21,0Z\" style=\"opacity: 0.7; stroke-width: 1px; fill: rgb(79, 3, 161); fill-opacity: 1; stroke: rgb(255, 255, 255); stroke-opacity: 1;\"/><path class=\"point\" transform=\"translate(237.17,310.3)\" d=\"M6.36,0A6.36,6.36 0 1,1 0,-6.36A6.36,6.36 0 0,1 6.36,0Z\" style=\"opacity: 0.7; stroke-width: 1px; fill: rgb(106, 1, 166); fill-opacity: 1; stroke: rgb(255, 255, 255); stroke-opacity: 1;\"/><path class=\"point\" transform=\"translate(220.89,281.95)\" d=\"M2.54,0A2.54,2.54 0 1,1 0,-2.54A2.54,2.54 0 0,1 2.54,0Z\" style=\"opacity: 0.7; stroke-width: 1px; fill: rgb(29, 7, 142); fill-opacity: 1; stroke: rgb(255, 255, 255); stroke-opacity: 1;\"/><path class=\"point\" transform=\"translate(179.75,323.69)\" d=\"M5,0A5,5 0 1,1 0,-5A5,5 0 0,1 5,0Z\" style=\"opacity: 0.7; stroke-width: 1px; fill: rgb(75, 3, 160); fill-opacity: 1; stroke: rgb(255, 255, 255); stroke-opacity: 1;\"/><path class=\"point\" transform=\"translate(343.08,237.64)\" d=\"M4.75,0A4.75,4.75 0 1,1 0,-4.75A4.75,4.75 0 0,1 4.75,0Z\" style=\"opacity: 0.7; stroke-width: 1px; fill: rgb(70, 3, 159); fill-opacity: 1; stroke: rgb(255, 255, 255); stroke-opacity: 1;\"/><path class=\"point\" transform=\"translate(244.66,305.33)\" d=\"M5.91,0A5.91,5.91 0 1,1 0,-5.91A5.91,5.91 0 0,1 5.91,0Z\" style=\"opacity: 0.7; stroke-width: 1px; fill: rgb(95, 2, 164); fill-opacity: 1; stroke: rgb(255, 255, 255); stroke-opacity: 1;\"/><path class=\"point\" transform=\"translate(119.92,328.98)\" d=\"M4.17,0A4.17,4.17 0 1,1 0,-4.17A4.17,4.17 0 0,1 4.17,0Z\" style=\"opacity: 0.7; stroke-width: 1px; fill: rgb(57, 4, 154); fill-opacity: 1; stroke: rgb(255, 255, 255); stroke-opacity: 1;\"/><path class=\"point\" transform=\"translate(40.13,332.22)\" d=\"M6.89,0A6.89,6.89 0 1,1 0,-6.89A6.89,6.89 0 0,1 6.89,0Z\" style=\"opacity: 0.7; stroke-width: 1px; fill: rgb(120, 4, 167); fill-opacity: 1; stroke: rgb(255, 255, 255); stroke-opacity: 1;\"/><path class=\"point\" transform=\"translate(270.46,280.56)\" d=\"M6.07,0A6.07,6.07 0 1,1 0,-6.07A6.07,6.07 0 0,1 6.07,0Z\" style=\"opacity: 0.7; stroke-width: 1px; fill: rgb(99, 2, 165); fill-opacity: 1; stroke: rgb(255, 255, 255); stroke-opacity: 1;\"/><path class=\"point\" transform=\"translate(223.61,328.36)\" d=\"M2.76,0A2.76,2.76 0 1,1 0,-2.76A2.76,2.76 0 0,1 2.76,0Z\" style=\"opacity: 0.7; stroke-width: 1px; fill: rgb(32, 6, 143); fill-opacity: 1; stroke: rgb(255, 255, 255); stroke-opacity: 1;\"/><path class=\"point\" transform=\"translate(260.04,306.67)\" d=\"M2.71,0A2.71,2.71 0 1,1 0,-2.71A2.71,2.71 0 0,1 2.71,0Z\" style=\"opacity: 0.7; stroke-width: 1px; fill: rgb(31, 6, 143); fill-opacity: 1; stroke: rgb(255, 255, 255); stroke-opacity: 1;\"/><path class=\"point\" transform=\"translate(275.43,314.14)\" d=\"M4.01,0A4.01,4.01 0 1,1 0,-4.01A4.01,4.01 0 0,1 4.01,0Z\" style=\"opacity: 0.7; stroke-width: 1px; fill: rgb(54, 4, 152); fill-opacity: 1; stroke: rgb(255, 255, 255); stroke-opacity: 1;\"/><path class=\"point\" transform=\"translate(195.82,319.09)\" d=\"M5.86,0A5.86,5.86 0 1,1 0,-5.86A5.86,5.86 0 0,1 5.86,0Z\" style=\"opacity: 0.7; stroke-width: 1px; fill: rgb(94, 2, 164); fill-opacity: 1; stroke: rgb(255, 255, 255); stroke-opacity: 1;\"/><path class=\"point\" transform=\"translate(126.78,329.53)\" d=\"M8.86,0A8.86,8.86 0 1,1 0,-8.86A8.86,8.86 0 0,1 8.86,0Z\" style=\"opacity: 0.7; stroke-width: 1px; fill: rgb(173, 40, 145); fill-opacity: 1; stroke: rgb(255, 255, 255); stroke-opacity: 1;\"/><path class=\"point\" transform=\"translate(160.36,327.31)\" d=\"M6.23,0A6.23,6.23 0 1,1 0,-6.23A6.23,6.23 0 0,1 6.23,0Z\" style=\"opacity: 0.7; stroke-width: 1px; fill: rgb(102, 2, 166); fill-opacity: 1; stroke: rgb(255, 255, 255); stroke-opacity: 1;\"/><path class=\"point\" transform=\"translate(69.99,331.93)\" d=\"M5.09,0A5.09,5.09 0 1,1 0,-5.09A5.09,5.09 0 0,1 5.09,0Z\" style=\"opacity: 0.7; stroke-width: 1px; fill: rgb(77, 3, 160); fill-opacity: 1; stroke: rgb(255, 255, 255); stroke-opacity: 1;\"/><path class=\"point\" transform=\"translate(306.33,280.68)\" d=\"M5.14,0A5.14,5.14 0 1,1 0,-5.14A5.14,5.14 0 0,1 5.14,0Z\" style=\"opacity: 0.7; stroke-width: 1px; fill: rgb(78, 3, 161); fill-opacity: 1; stroke: rgb(255, 255, 255); stroke-opacity: 1;\"/><path class=\"point\" transform=\"translate(216.09,311.92)\" d=\"M7.53,0A7.53,7.53 0 1,1 0,-7.53A7.53,7.53 0 0,1 7.53,0Z\" style=\"opacity: 0.7; stroke-width: 1px; fill: rgb(137, 13, 163); fill-opacity: 1; stroke: rgb(255, 255, 255); stroke-opacity: 1;\"/><path class=\"point\" transform=\"translate(272.47,298.54)\" d=\"M3.81,0A3.81,3.81 0 1,1 0,-3.81A3.81,3.81 0 0,1 3.81,0Z\" style=\"opacity: 0.7; stroke-width: 1px; fill: rgb(50, 5, 150); fill-opacity: 1; stroke: rgb(255, 255, 255); stroke-opacity: 1;\"/><path class=\"point\" transform=\"translate(213.68,316.82)\" d=\"M3.62,0A3.62,3.62 0 1,1 0,-3.62A3.62,3.62 0 0,1 3.62,0Z\" style=\"opacity: 0.7; stroke-width: 1px; fill: rgb(46, 5, 149); fill-opacity: 1; stroke: rgb(255, 255, 255); stroke-opacity: 1;\"/><path class=\"point\" transform=\"translate(247.62,307.44)\" d=\"M4.97,0A4.97,4.97 0 1,1 0,-4.97A4.97,4.97 0 0,1 4.97,0Z\" style=\"opacity: 0.7; stroke-width: 1px; fill: rgb(75, 3, 160); fill-opacity: 1; stroke: rgb(255, 255, 255); stroke-opacity: 1;\"/><path class=\"point\" transform=\"translate(207.33,317.71)\" d=\"M3.28,0A3.28,3.28 0 1,1 0,-3.28A3.28,3.28 0 0,1 3.28,0Z\" style=\"opacity: 0.7; stroke-width: 1px; fill: rgb(40, 6, 146); fill-opacity: 1; stroke: rgb(255, 255, 255); stroke-opacity: 1;\"/><path class=\"point\" transform=\"translate(306.81,286.19)\" d=\"M4.46,0A4.46,4.46 0 1,1 0,-4.46A4.46,4.46 0 0,1 4.46,0Z\" style=\"opacity: 0.7; stroke-width: 1px; fill: rgb(63, 4, 156); fill-opacity: 1; stroke: rgb(255, 255, 255); stroke-opacity: 1;\"/><path class=\"point\" transform=\"translate(338.27,200.69)\" d=\"M3.41,0A3.41,3.41 0 1,1 0,-3.41A3.41,3.41 0 0,1 3.41,0Z\" style=\"opacity: 0.7; stroke-width: 1px; fill: rgb(42, 5, 147); fill-opacity: 1; stroke: rgb(255, 255, 255); stroke-opacity: 1;\"/><path class=\"point\" transform=\"translate(313.25,261.1)\" d=\"M5.84,0A5.84,5.84 0 1,1 0,-5.84A5.84,5.84 0 0,1 5.84,0Z\" style=\"opacity: 0.7; stroke-width: 1px; fill: rgb(93, 2, 164); fill-opacity: 1; stroke: rgb(255, 255, 255); stroke-opacity: 1;\"/><path class=\"point\" transform=\"translate(183.33,315.7)\" d=\"M10.57,0A10.57,10.57 0 1,1 0,-10.57A10.57,10.57 0 0,1 10.57,0Z\" style=\"opacity: 0.7; stroke-width: 1px; fill: rgb(217, 88, 106); fill-opacity: 1; stroke: rgb(255, 255, 255); stroke-opacity: 1;\"/><path class=\"point\" transform=\"translate(323.01,215.77)\" d=\"M8.85,0A8.85,8.85 0 1,1 0,-8.85A8.85,8.85 0 0,1 8.85,0Z\" style=\"opacity: 0.7; stroke-width: 1px; fill: rgb(173, 40, 146); fill-opacity: 1; stroke: rgb(255, 255, 255); stroke-opacity: 1;\"/><path class=\"point\" transform=\"translate(238.08,301.08)\" d=\"M3.93,0A3.93,3.93 0 1,1 0,-3.93A3.93,3.93 0 0,1 3.93,0Z\" style=\"opacity: 0.7; stroke-width: 1px; fill: rgb(52, 5, 151); fill-opacity: 1; stroke: rgb(255, 255, 255); stroke-opacity: 1;\"/><path class=\"point\" transform=\"translate(168.92,323.19)\" d=\"M8.36,0A8.36,8.36 0 1,1 0,-8.36A8.36,8.36 0 0,1 8.36,0Z\" style=\"opacity: 0.7; stroke-width: 1px; fill: rgb(161, 27, 155); fill-opacity: 1; stroke: rgb(255, 255, 255); stroke-opacity: 1;\"/><path class=\"point\" transform=\"translate(239.96,306.77)\" d=\"M1.75,0A1.75,1.75 0 1,1 0,-1.75A1.75,1.75 0 0,1 1.75,0Z\" style=\"opacity: 0.7; stroke-width: 1px; fill: rgb(20, 7, 138); fill-opacity: 1; stroke: rgb(255, 255, 255); stroke-opacity: 1;\"/><path class=\"point\" transform=\"translate(26.15,333.08)\" d=\"M4.25,0A4.25,4.25 0 1,1 0,-4.25A4.25,4.25 0 0,1 4.25,0Z\" style=\"opacity: 0.7; stroke-width: 1px; fill: rgb(59, 4, 154); fill-opacity: 1; stroke: rgb(255, 255, 255); stroke-opacity: 1;\"/><path class=\"point\" transform=\"translate(223.47,309.61)\" d=\"M5.31,0A5.31,5.31 0 1,1 0,-5.31A5.31,5.31 0 0,1 5.31,0Z\" style=\"opacity: 0.7; stroke-width: 1px; fill: rgb(82, 2, 161); fill-opacity: 1; stroke: rgb(255, 255, 255); stroke-opacity: 1;\"/><path class=\"point\" transform=\"translate(174.92,321.63)\" d=\"M2.38,0A2.38,2.38 0 1,1 0,-2.38A2.38,2.38 0 0,1 2.38,0Z\" style=\"opacity: 0.7; stroke-width: 1px; fill: rgb(27, 7, 141); fill-opacity: 1; stroke: rgb(255, 255, 255); stroke-opacity: 1;\"/><path class=\"point\" transform=\"translate(187.97,311.07)\" d=\"M7.79,0A7.79,7.79 0 1,1 0,-7.79A7.79,7.79 0 0,1 7.79,0Z\" style=\"opacity: 0.7; stroke-width: 1px; fill: rgb(145, 17, 161); fill-opacity: 1; stroke: rgb(255, 255, 255); stroke-opacity: 1;\"/><path class=\"point\" transform=\"translate(313,306.1)\" d=\"M6.66,0A6.66,6.66 0 1,1 0,-6.66A6.66,6.66 0 0,1 6.66,0Z\" style=\"opacity: 0.7; stroke-width: 1px; fill: rgb(113, 1, 168); fill-opacity: 1; stroke: rgb(255, 255, 255); stroke-opacity: 1;\"/><path class=\"point\" transform=\"translate(60.54,333.65)\" d=\"M1.5,0A1.5,1.5 0 1,1 0,-1.5A1.5,1.5 0 0,1 1.5,0Z\" style=\"opacity: 0.7; stroke-width: 1px; fill: rgb(18, 8, 137); fill-opacity: 1; stroke: rgb(255, 255, 255); stroke-opacity: 1;\"/><path class=\"point\" transform=\"translate(62.37,331.82)\" d=\"M7.23,0A7.23,7.23 0 1,1 0,-7.23A7.23,7.23 0 0,1 7.23,0Z\" style=\"opacity: 0.7; stroke-width: 1px; fill: rgb(128, 9, 165); fill-opacity: 1; stroke: rgb(255, 255, 255); stroke-opacity: 1;\"/><path class=\"point\" transform=\"translate(154.2,328.41)\" d=\"M2.88,0A2.88,2.88 0 1,1 0,-2.88A2.88,2.88 0 0,1 2.88,0Z\" style=\"opacity: 0.7; stroke-width: 1px; fill: rgb(34, 6, 144); fill-opacity: 1; stroke: rgb(255, 255, 255); stroke-opacity: 1;\"/><path class=\"point\" transform=\"translate(258.31,296.91)\" d=\"M4.88,0A4.88,4.88 0 1,1 0,-4.88A4.88,4.88 0 0,1 4.88,0Z\" style=\"opacity: 0.7; stroke-width: 1px; fill: rgb(73, 3, 160); fill-opacity: 1; stroke: rgb(255, 255, 255); stroke-opacity: 1;\"/><path class=\"point\" transform=\"translate(248.29,305.36)\" d=\"M5.6,0A5.6,5.6 0 1,1 0,-5.6A5.6,5.6 0 0,1 5.6,0Z\" style=\"opacity: 0.7; stroke-width: 1px; fill: rgb(88, 2, 163); fill-opacity: 1; stroke: rgb(255, 255, 255); stroke-opacity: 1;\"/><path class=\"point\" transform=\"translate(127.03,328.22)\" d=\"M3.93,0A3.93,3.93 0 1,1 0,-3.93A3.93,3.93 0 0,1 3.93,0Z\" style=\"opacity: 0.7; stroke-width: 1px; fill: rgb(52, 5, 151); fill-opacity: 1; stroke: rgb(255, 255, 255); stroke-opacity: 1;\"/><path class=\"point\" transform=\"translate(217.79,311.32)\" d=\"M3.5,0A3.5,3.5 0 1,1 0,-3.5A3.5,3.5 0 0,1 3.5,0Z\" style=\"opacity: 0.7; stroke-width: 1px; fill: rgb(44, 5, 148); fill-opacity: 1; stroke: rgb(255, 255, 255); stroke-opacity: 1;\"/><path class=\"point\" transform=\"translate(186.93,318.43)\" d=\"M13.88,0A13.88,13.88 0 1,1 0,-13.88A13.88,13.88 0 0,1 13.88,0Z\" style=\"opacity: 0.7; stroke-width: 1px; fill: rgb(244, 234, 35); fill-opacity: 1; stroke: rgb(255, 255, 255); stroke-opacity: 1;\"/><path class=\"point\" transform=\"translate(139.44,331.52)\" d=\"M3.35,0A3.35,3.35 0 1,1 0,-3.35A3.35,3.35 0 0,1 3.35,0Z\" style=\"opacity: 0.7; stroke-width: 1px; fill: rgb(41, 6, 147); fill-opacity: 1; stroke: rgb(255, 255, 255); stroke-opacity: 1;\"/><path class=\"point\" transform=\"translate(172.64,329.51)\" d=\"M5.73,0A5.73,5.73 0 1,1 0,-5.73A5.73,5.73 0 0,1 5.73,0Z\" style=\"opacity: 0.7; stroke-width: 1px; fill: rgb(91, 2, 163); fill-opacity: 1; stroke: rgb(255, 255, 255); stroke-opacity: 1;\"/><path class=\"point\" transform=\"translate(177.11,316.73)\" d=\"M0.79,0A0.79,0.79 0 1,1 0,-0.79A0.79,0.79 0 0,1 0.79,0Z\" style=\"opacity: 0.7; stroke-width: 1px; fill: rgb(14, 8, 135); fill-opacity: 1; stroke: rgb(255, 255, 255); stroke-opacity: 1;\"/><path class=\"point\" transform=\"translate(221.29,311.83)\" d=\"M4.86,0A4.86,4.86 0 1,1 0,-4.86A4.86,4.86 0 0,1 4.86,0Z\" style=\"opacity: 0.7; stroke-width: 1px; fill: rgb(72, 3, 160); fill-opacity: 1; stroke: rgb(255, 255, 255); stroke-opacity: 1;\"/><path class=\"point\" transform=\"translate(248.39,305.93)\" d=\"M7,0A7,7 0 1,1 0,-7A7,7 0 0,1 7,0Z\" style=\"opacity: 0.7; stroke-width: 1px; fill: rgb(122, 5, 166); fill-opacity: 1; stroke: rgb(255, 255, 255); stroke-opacity: 1;\"/><path class=\"point\" transform=\"translate(242.9,317.71)\" d=\"M6.08,0A6.08,6.08 0 1,1 0,-6.08A6.08,6.08 0 0,1 6.08,0Z\" style=\"opacity: 0.7; stroke-width: 1px; fill: rgb(99, 2, 165); fill-opacity: 1; stroke: rgb(255, 255, 255); stroke-opacity: 1;\"/><path class=\"point\" transform=\"translate(254.02,292.91)\" d=\"M6.49,0A6.49,6.49 0 1,1 0,-6.49A6.49,6.49 0 0,1 6.49,0Z\" style=\"opacity: 0.7; stroke-width: 1px; fill: rgb(109, 1, 167); fill-opacity: 1; stroke: rgb(255, 255, 255); stroke-opacity: 1;\"/><path class=\"point\" transform=\"translate(195.18,320.14)\" d=\"M5.57,0A5.57,5.57 0 1,1 0,-5.57A5.57,5.57 0 0,1 5.57,0Z\" style=\"opacity: 0.7; stroke-width: 1px; fill: rgb(87, 2, 162); fill-opacity: 1; stroke: rgb(255, 255, 255); stroke-opacity: 1;\"/><path class=\"point\" transform=\"translate(162.14,328.37)\" d=\"M7.7,0A7.7,7.7 0 1,1 0,-7.7A7.7,7.7 0 0,1 7.7,0Z\" style=\"opacity: 0.7; stroke-width: 1px; fill: rgb(142, 16, 161); fill-opacity: 1; stroke: rgb(255, 255, 255); stroke-opacity: 1;\"/><path class=\"point\" transform=\"translate(303.83,260.35)\" d=\"M4.49,0A4.49,4.49 0 1,1 0,-4.49A4.49,4.49 0 0,1 4.49,0Z\" style=\"opacity: 0.7; stroke-width: 1px; fill: rgb(64, 3, 157); fill-opacity: 1; stroke: rgb(255, 255, 255); stroke-opacity: 1;\"/><path class=\"point\" transform=\"translate(318.76,260.23)\" d=\"M4.21,0A4.21,4.21 0 1,1 0,-4.21A4.21,4.21 0 0,1 4.21,0Z\" style=\"opacity: 0.7; stroke-width: 1px; fill: rgb(58, 4, 154); fill-opacity: 1; stroke: rgb(255, 255, 255); stroke-opacity: 1;\"/><path class=\"point\" transform=\"translate(281.16,293.87)\" d=\"M5.69,0A5.69,5.69 0 1,1 0,-5.69A5.69,5.69 0 0,1 5.69,0Z\" style=\"opacity: 0.7; stroke-width: 1px; fill: rgb(90, 2, 163); fill-opacity: 1; stroke: rgb(255, 255, 255); stroke-opacity: 1;\"/><path class=\"point\" transform=\"translate(158.02,327.03)\" d=\"M8.31,0A8.31,8.31 0 1,1 0,-8.31A8.31,8.31 0 0,1 8.31,0Z\" style=\"opacity: 0.7; stroke-width: 1px; fill: rgb(159, 26, 155); fill-opacity: 1; stroke: rgb(255, 255, 255); stroke-opacity: 1;\"/><path class=\"point\" transform=\"translate(254.64,306.36)\" d=\"M1.96,0A1.96,1.96 0 1,1 0,-1.96A1.96,1.96 0 0,1 1.96,0Z\" style=\"opacity: 0.7; stroke-width: 1px; fill: rgb(22, 7, 139); fill-opacity: 1; stroke: rgb(255, 255, 255); stroke-opacity: 1;\"/><path class=\"point\" transform=\"translate(314.82,309.91)\" d=\"M2.54,0A2.54,2.54 0 1,1 0,-2.54A2.54,2.54 0 0,1 2.54,0Z\" style=\"opacity: 0.7; stroke-width: 1px; fill: rgb(29, 7, 142); fill-opacity: 1; stroke: rgb(255, 255, 255); stroke-opacity: 1;\"/><path class=\"point\" transform=\"translate(68.27,332.95)\" d=\"M6.1,0A6.1,6.1 0 1,1 0,-6.1A6.1,6.1 0 0,1 6.1,0Z\" style=\"opacity: 0.7; stroke-width: 1px; fill: rgb(99, 2, 165); fill-opacity: 1; stroke: rgb(255, 255, 255); stroke-opacity: 1;\"/><path class=\"point\" transform=\"translate(144.48,327.22)\" d=\"M8.05,0A8.05,8.05 0 1,1 0,-8.05A8.05,8.05 0 0,1 8.05,0Z\" style=\"opacity: 0.7; stroke-width: 1px; fill: rgb(152, 21, 159); fill-opacity: 1; stroke: rgb(255, 255, 255); stroke-opacity: 1;\"/><path class=\"point\" transform=\"translate(248.11,300.29)\" d=\"M3.94,0A3.94,3.94 0 1,1 0,-3.94A3.94,3.94 0 0,1 3.94,0Z\" style=\"opacity: 0.7; stroke-width: 1px; fill: rgb(52, 5, 152); fill-opacity: 1; stroke: rgb(255, 255, 255); stroke-opacity: 1;\"/><path class=\"point\" transform=\"translate(290.12,270.58)\" d=\"M2.9,0A2.9,2.9 0 1,1 0,-2.9A2.9,2.9 0 0,1 2.9,0Z\" style=\"opacity: 0.7; stroke-width: 1px; fill: rgb(34, 6, 144); fill-opacity: 1; stroke: rgb(255, 255, 255); stroke-opacity: 1;\"/><path class=\"point\" transform=\"translate(186.56,323.37)\" d=\"M4.49,0A4.49,4.49 0 1,1 0,-4.49A4.49,4.49 0 0,1 4.49,0Z\" style=\"opacity: 0.7; stroke-width: 1px; fill: rgb(64, 4, 157); fill-opacity: 1; stroke: rgb(255, 255, 255); stroke-opacity: 1;\"/><path class=\"point\" transform=\"translate(205.59,321.64)\" d=\"M3.7,0A3.7,3.7 0 1,1 0,-3.7A3.7,3.7 0 0,1 3.7,0Z\" style=\"opacity: 0.7; stroke-width: 1px; fill: rgb(48, 5, 150); fill-opacity: 1; stroke: rgb(255, 255, 255); stroke-opacity: 1;\"/><path class=\"point\" transform=\"translate(254.38,304.1)\" d=\"M4.41,0A4.41,4.41 0 1,1 0,-4.41A4.41,4.41 0 0,1 4.41,0Z\" style=\"opacity: 0.7; stroke-width: 1px; fill: rgb(62, 4, 156); fill-opacity: 1; stroke: rgb(255, 255, 255); stroke-opacity: 1;\"/><path class=\"point\" transform=\"translate(310.65,238.36)\" d=\"M6.32,0A6.32,6.32 0 1,1 0,-6.32A6.32,6.32 0 0,1 6.32,0Z\" style=\"opacity: 0.7; stroke-width: 1px; fill: rgb(105, 1, 166); fill-opacity: 1; stroke: rgb(255, 255, 255); stroke-opacity: 1;\"/><path class=\"point\" transform=\"translate(276.05,298.9)\" d=\"M3.36,0A3.36,3.36 0 1,1 0,-3.36A3.36,3.36 0 0,1 3.36,0Z\" style=\"opacity: 0.7; stroke-width: 1px; fill: rgb(41, 6, 147); fill-opacity: 1; stroke: rgb(255, 255, 255); stroke-opacity: 1;\"/><path class=\"point\" transform=\"translate(244.79,295.94)\" d=\"M11.08,0A11.08,11.08 0 1,1 0,-11.08A11.08,11.08 0 0,1 11.08,0Z\" style=\"opacity: 0.7; stroke-width: 1px; fill: rgb(227, 105, 95); fill-opacity: 1; stroke: rgb(255, 255, 255); stroke-opacity: 1;\"/><path class=\"point\" transform=\"translate(235.74,305.75)\" d=\"M3.2,0A3.2,3.2 0 1,1 0,-3.2A3.2,3.2 0 0,1 3.2,0Z\" style=\"opacity: 0.7; stroke-width: 1px; fill: rgb(39, 6, 146); fill-opacity: 1; stroke: rgb(255, 255, 255); stroke-opacity: 1;\"/><path class=\"point\" transform=\"translate(210.5,324.26)\" d=\"M7.8,0A7.8,7.8 0 1,1 0,-7.8A7.8,7.8 0 0,1 7.8,0Z\" style=\"opacity: 0.7; stroke-width: 1px; fill: rgb(145, 17, 161); fill-opacity: 1; stroke: rgb(255, 255, 255); stroke-opacity: 1;\"/><path class=\"point\" transform=\"translate(278.88,306.4)\" d=\"M7.65,0A7.65,7.65 0 1,1 0,-7.65A7.65,7.65 0 0,1 7.65,0Z\" style=\"opacity: 0.7; stroke-width: 1px; fill: rgb(140, 15, 162); fill-opacity: 1; stroke: rgb(255, 255, 255); stroke-opacity: 1;\"/><path class=\"point\" transform=\"translate(296.45,276.4)\" d=\"M5.26,0A5.26,5.26 0 1,1 0,-5.26A5.26,5.26 0 0,1 5.26,0Z\" style=\"opacity: 0.7; stroke-width: 1px; fill: rgb(80, 3, 161); fill-opacity: 1; stroke: rgb(255, 255, 255); stroke-opacity: 1;\"/><path class=\"point\" transform=\"translate(365.89,172.35)\" d=\"M6.32,0A6.32,6.32 0 1,1 0,-6.32A6.32,6.32 0 0,1 6.32,0Z\" style=\"opacity: 0.7; stroke-width: 1px; fill: rgb(105, 1, 166); fill-opacity: 1; stroke: rgb(255, 255, 255); stroke-opacity: 1;\"/><path class=\"point\" transform=\"translate(305.23,261.1)\" d=\"M5.41,0A5.41,5.41 0 1,1 0,-5.41A5.41,5.41 0 0,1 5.41,0Z\" style=\"opacity: 0.7; stroke-width: 1px; fill: rgb(84, 2, 162); fill-opacity: 1; stroke: rgb(255, 255, 255); stroke-opacity: 1;\"/><path class=\"point\" transform=\"translate(237.14,309.96)\" d=\"M7.09,0A7.09,7.09 0 1,1 0,-7.09A7.09,7.09 0 0,1 7.09,0Z\" style=\"opacity: 0.7; stroke-width: 1px; fill: rgb(125, 7, 165); fill-opacity: 1; stroke: rgb(255, 255, 255); stroke-opacity: 1;\"/><path class=\"point\" transform=\"translate(195.99,315.63)\" d=\"M14.14,0A14.14,14.14 0 1,1 0,-14.14A14.14,14.14 0 0,1 14.14,0Z\" style=\"opacity: 0.7; stroke-width: 1px; fill: rgb(240, 249, 33); fill-opacity: 1; stroke: rgb(255, 255, 255); stroke-opacity: 1;\"/><path class=\"point\" transform=\"translate(374.1,217.86)\" d=\"M4.93,0A4.93,4.93 0 1,1 0,-4.93A4.93,4.93 0 0,1 4.93,0Z\" style=\"opacity: 0.7; stroke-width: 1px; fill: rgb(74, 3, 160); fill-opacity: 1; stroke: rgb(255, 255, 255); stroke-opacity: 1;\"/><path class=\"point\" transform=\"translate(273.57,271.47)\" d=\"M4.44,0A4.44,4.44 0 1,1 0,-4.44A4.44,4.44 0 0,1 4.44,0Z\" style=\"opacity: 0.7; stroke-width: 1px; fill: rgb(63, 4, 156); fill-opacity: 1; stroke: rgb(255, 255, 255); stroke-opacity: 1;\"/><path class=\"point\" transform=\"translate(260.53,305.12)\" d=\"M5.94,0A5.94,5.94 0 1,1 0,-5.94A5.94,5.94 0 0,1 5.94,0Z\" style=\"opacity: 0.7; stroke-width: 1px; fill: rgb(95, 2, 164); fill-opacity: 1; stroke: rgb(255, 255, 255); stroke-opacity: 1;\"/><path class=\"point\" transform=\"translate(374.42,159.72)\" d=\"M5.71,0A5.71,5.71 0 1,1 0,-5.71A5.71,5.71 0 0,1 5.71,0Z\" style=\"opacity: 0.7; stroke-width: 1px; fill: rgb(90, 2, 163); fill-opacity: 1; stroke: rgb(255, 255, 255); stroke-opacity: 1;\"/><path class=\"point\" transform=\"translate(250.37,304.56)\" d=\"M6.47,0A6.47,6.47 0 1,1 0,-6.47A6.47,6.47 0 0,1 6.47,0Z\" style=\"opacity: 0.7; stroke-width: 1px; fill: rgb(109, 1, 167); fill-opacity: 1; stroke: rgb(255, 255, 255); stroke-opacity: 1;\"/><path class=\"point\" transform=\"translate(252,299.96)\" d=\"M2.73,0A2.73,2.73 0 1,1 0,-2.73A2.73,2.73 0 0,1 2.73,0Z\" style=\"opacity: 0.7; stroke-width: 1px; fill: rgb(32, 6, 143); fill-opacity: 1; stroke: rgb(255, 255, 255); stroke-opacity: 1;\"/><path class=\"point\" transform=\"translate(337.82,241.47)\" d=\"M5.56,0A5.56,5.56 0 1,1 0,-5.56A5.56,5.56 0 0,1 5.56,0Z\" style=\"opacity: 0.7; stroke-width: 1px; fill: rgb(87, 2, 162); fill-opacity: 1; stroke: rgb(255, 255, 255); stroke-opacity: 1;\"/><path class=\"point\" transform=\"translate(259.72,317.8)\" d=\"M1.47,0A1.47,1.47 0 1,1 0,-1.47A1.47,1.47 0 0,1 1.47,0Z\" style=\"opacity: 0.7; stroke-width: 1px; fill: rgb(18, 8, 137); fill-opacity: 1; stroke: rgb(255, 255, 255); stroke-opacity: 1;\"/><path class=\"point\" transform=\"translate(207.9,318.72)\" d=\"M5.42,0A5.42,5.42 0 1,1 0,-5.42A5.42,5.42 0 0,1 5.42,0Z\" style=\"opacity: 0.7; stroke-width: 1px; fill: rgb(84, 2, 162); fill-opacity: 1; stroke: rgb(255, 255, 255); stroke-opacity: 1;\"/><path class=\"point\" transform=\"translate(280.28,294.54)\" d=\"M4.77,0A4.77,4.77 0 1,1 0,-4.77A4.77,4.77 0 0,1 4.77,0Z\" style=\"opacity: 0.7; stroke-width: 1px; fill: rgb(71, 3, 159); fill-opacity: 1; stroke: rgb(255, 255, 255); stroke-opacity: 1;\"/><path class=\"point\" transform=\"translate(225.74,323.13)\" d=\"M4.7,0A4.7,4.7 0 1,1 0,-4.7A4.7,4.7 0 0,1 4.7,0Z\" style=\"opacity: 0.7; stroke-width: 1px; fill: rgb(69, 3, 159); fill-opacity: 1; stroke: rgb(255, 255, 255); stroke-opacity: 1;\"/><path class=\"point\" transform=\"translate(86.39,331.26)\" d=\"M1.26,0A1.26,1.26 0 1,1 0,-1.26A1.26,1.26 0 0,1 1.26,0Z\" style=\"opacity: 0.7; stroke-width: 1px; fill: rgb(17, 8, 136); fill-opacity: 1; stroke: rgb(255, 255, 255); stroke-opacity: 1;\"/><path class=\"point\" transform=\"translate(190.74,318.79)\" d=\"M7.39,0A7.39,7.39 0 1,1 0,-7.39A7.39,7.39 0 0,1 7.39,0Z\" style=\"opacity: 0.7; stroke-width: 1px; fill: rgb(133, 11, 164); fill-opacity: 1; stroke: rgb(255, 255, 255); stroke-opacity: 1;\"/><path class=\"point\" transform=\"translate(284.11,300.91)\" d=\"M5.48,0A5.48,5.48 0 1,1 0,-5.48A5.48,5.48 0 0,1 5.48,0Z\" style=\"opacity: 0.7; stroke-width: 1px; fill: rgb(85, 2, 162); fill-opacity: 1; stroke: rgb(255, 255, 255); stroke-opacity: 1;\"/><path class=\"point\" transform=\"translate(102.96,332.34)\" d=\"M5.62,0A5.62,5.62 0 1,1 0,-5.62A5.62,5.62 0 0,1 5.62,0Z\" style=\"opacity: 0.7; stroke-width: 1px; fill: rgb(88, 2, 163); fill-opacity: 1; stroke: rgb(255, 255, 255); stroke-opacity: 1;\"/><path class=\"point\" transform=\"translate(174.94,322.51)\" d=\"M4.17,0A4.17,4.17 0 1,1 0,-4.17A4.17,4.17 0 0,1 4.17,0Z\" style=\"opacity: 0.7; stroke-width: 1px; fill: rgb(57, 4, 154); fill-opacity: 1; stroke: rgb(255, 255, 255); stroke-opacity: 1;\"/><path class=\"point\" transform=\"translate(348.39,254.85)\" d=\"M2.46,0A2.46,2.46 0 1,1 0,-2.46A2.46,2.46 0 0,1 2.46,0Z\" style=\"opacity: 0.7; stroke-width: 1px; fill: rgb(28, 7, 141); fill-opacity: 1; stroke: rgb(255, 255, 255); stroke-opacity: 1;\"/><path class=\"point\" transform=\"translate(231.56,314.82)\" d=\"M8.06,0A8.06,8.06 0 1,1 0,-8.06A8.06,8.06 0 0,1 8.06,0Z\" style=\"opacity: 0.7; stroke-width: 1px; fill: rgb(152, 21, 159); fill-opacity: 1; stroke: rgb(255, 255, 255); stroke-opacity: 1;\"/><path class=\"point\" transform=\"translate(143.65,331.6)\" d=\"M4.7,0A4.7,4.7 0 1,1 0,-4.7A4.7,4.7 0 0,1 4.7,0Z\" style=\"opacity: 0.7; stroke-width: 1px; fill: rgb(69, 3, 159); fill-opacity: 1; stroke: rgb(255, 255, 255); stroke-opacity: 1;\"/><path class=\"point\" transform=\"translate(299.88,276.04)\" d=\"M5.01,0A5.01,5.01 0 1,1 0,-5.01A5.01,5.01 0 0,1 5.01,0Z\" style=\"opacity: 0.7; stroke-width: 1px; fill: rgb(75, 3, 160); fill-opacity: 1; stroke: rgb(255, 255, 255); stroke-opacity: 1;\"/><path class=\"point\" transform=\"translate(108.62,330.85)\" d=\"M8.15,0A8.15,8.15 0 1,1 0,-8.15A8.15,8.15 0 0,1 8.15,0Z\" style=\"opacity: 0.7; stroke-width: 1px; fill: rgb(155, 23, 158); fill-opacity: 1; stroke: rgb(255, 255, 255); stroke-opacity: 1;\"/><path class=\"point\" transform=\"translate(303.92,279.92)\" d=\"M6.17,0A6.17,6.17 0 1,1 0,-6.17A6.17,6.17 0 0,1 6.17,0Z\" style=\"opacity: 0.7; stroke-width: 1px; fill: rgb(101, 2, 165); fill-opacity: 1; stroke: rgb(255, 255, 255); stroke-opacity: 1;\"/><path class=\"point\" transform=\"translate(151.06,325.6)\" d=\"M7.22,0A7.22,7.22 0 1,1 0,-7.22A7.22,7.22 0 0,1 7.22,0Z\" style=\"opacity: 0.7; stroke-width: 1px; fill: rgb(128, 8, 165); fill-opacity: 1; stroke: rgb(255, 255, 255); stroke-opacity: 1;\"/><path class=\"point\" transform=\"translate(152.19,325.68)\" d=\"M3.94,0A3.94,3.94 0 1,1 0,-3.94A3.94,3.94 0 0,1 3.94,0Z\" style=\"opacity: 0.7; stroke-width: 1px; fill: rgb(52, 5, 152); fill-opacity: 1; stroke: rgb(255, 255, 255); stroke-opacity: 1;\"/><path class=\"point\" transform=\"translate(198.49,318.65)\" d=\"M2.12,0A2.12,2.12 0 1,1 0,-2.12A2.12,2.12 0 0,1 2.12,0Z\" style=\"opacity: 0.7; stroke-width: 1px; fill: rgb(24, 7, 140); fill-opacity: 1; stroke: rgb(255, 255, 255); stroke-opacity: 1;\"/><path class=\"point\" transform=\"translate(218.6,326.8)\" d=\"M0.55,0A0.55,0.55 0 1,1 0,-0.55A0.55,0.55 0 0,1 0.55,0Z\" style=\"opacity: 0.7; stroke-width: 1px; fill: rgb(13, 8, 135); fill-opacity: 1; stroke: rgb(255, 255, 255); stroke-opacity: 1;\"/><path class=\"point\" transform=\"translate(142.87,327.38)\" d=\"M10.11,0A10.11,10.11 0 1,1 0,-10.11A10.11,10.11 0 0,1 10.11,0Z\" style=\"opacity: 0.7; stroke-width: 1px; fill: rgb(205, 74, 118); fill-opacity: 1; stroke: rgb(255, 255, 255); stroke-opacity: 1;\"/><path class=\"point\" transform=\"translate(94.38,332.18)\" d=\"M8.78,0A8.78,8.78 0 1,1 0,-8.78A8.78,8.78 0 0,1 8.78,0Z\" style=\"opacity: 0.7; stroke-width: 1px; fill: rgb(171, 38, 147); fill-opacity: 1; stroke: rgb(255, 255, 255); stroke-opacity: 1;\"/><path class=\"point\" transform=\"translate(125.09,331.35)\" d=\"M5.8,0A5.8,5.8 0 1,1 0,-5.8A5.8,5.8 0 0,1 5.8,0Z\" style=\"opacity: 0.7; stroke-width: 1px; fill: rgb(92, 2, 164); fill-opacity: 1; stroke: rgb(255, 255, 255); stroke-opacity: 1;\"/><path class=\"point\" transform=\"translate(149.14,323.84)\" d=\"M1.61,0A1.61,1.61 0 1,1 0,-1.61A1.61,1.61 0 0,1 1.61,0Z\" style=\"opacity: 0.7; stroke-width: 1px; fill: rgb(19, 7, 138); fill-opacity: 1; stroke: rgb(255, 255, 255); stroke-opacity: 1;\"/><path class=\"point\" transform=\"translate(265.69,299.38)\" d=\"M7.76,0A7.76,7.76 0 1,1 0,-7.76A7.76,7.76 0 0,1 7.76,0Z\" style=\"opacity: 0.7; stroke-width: 1px; fill: rgb(144, 16, 161); fill-opacity: 1; stroke: rgb(255, 255, 255); stroke-opacity: 1;\"/><path class=\"point\" transform=\"translate(286.4,279.82)\" d=\"M2.96,0A2.96,2.96 0 1,1 0,-2.96A2.96,2.96 0 0,1 2.96,0Z\" style=\"opacity: 0.7; stroke-width: 1px; fill: rgb(35, 6, 144); fill-opacity: 1; stroke: rgb(255, 255, 255); stroke-opacity: 1;\"/><path class=\"point\" transform=\"translate(287.8,293.23)\" d=\"M7.31,0A7.31,7.31 0 1,1 0,-7.31A7.31,7.31 0 0,1 7.31,0Z\" style=\"opacity: 0.7; stroke-width: 1px; fill: rgb(131, 10, 164); fill-opacity: 1; stroke: rgb(255, 255, 255); stroke-opacity: 1;\"/><path class=\"point\" transform=\"translate(244.23,307.03)\" d=\"M8.01,0A8.01,8.01 0 1,1 0,-8.01A8.01,8.01 0 0,1 8.01,0Z\" style=\"opacity: 0.7; stroke-width: 1px; fill: rgb(151, 20, 159); fill-opacity: 1; stroke: rgb(255, 255, 255); stroke-opacity: 1;\"/><path class=\"point\" transform=\"translate(206.24,317.7)\" d=\"M7.15,0A7.15,7.15 0 1,1 0,-7.15A7.15,7.15 0 0,1 7.15,0Z\" style=\"opacity: 0.7; stroke-width: 1px; fill: rgb(126, 7, 165); fill-opacity: 1; stroke: rgb(255, 255, 255); stroke-opacity: 1;\"/><path class=\"point\" transform=\"translate(325.51,274.38)\" d=\"M3.18,0A3.18,3.18 0 1,1 0,-3.18A3.18,3.18 0 0,1 3.18,0Z\" style=\"opacity: 0.7; stroke-width: 1px; fill: rgb(38, 6, 146); fill-opacity: 1; stroke: rgb(255, 255, 255); stroke-opacity: 1;\"/><path class=\"point\" transform=\"translate(160.45,323.07)\" d=\"M8.25,0A8.25,8.25 0 1,1 0,-8.25A8.25,8.25 0 0,1 8.25,0Z\" style=\"opacity: 0.7; stroke-width: 1px; fill: rgb(158, 25, 157); fill-opacity: 1; stroke: rgb(255, 255, 255); stroke-opacity: 1;\"/><path class=\"point\" transform=\"translate(138.08,327.87)\" d=\"M8.17,0A8.17,8.17 0 1,1 0,-8.17A8.17,8.17 0 0,1 8.17,0Z\" style=\"opacity: 0.7; stroke-width: 1px; fill: rgb(156, 23, 158); fill-opacity: 1; stroke: rgb(255, 255, 255); stroke-opacity: 1;\"/><path class=\"point\" transform=\"translate(209.64,323.77)\" d=\"M5.19,0A5.19,5.19 0 1,1 0,-5.19A5.19,5.19 0 0,1 5.19,0Z\" style=\"opacity: 0.7; stroke-width: 1px; fill: rgb(79, 3, 161); fill-opacity: 1; stroke: rgb(255, 255, 255); stroke-opacity: 1;\"/><path class=\"point\" transform=\"translate(287.21,285.33)\" d=\"M2.84,0A2.84,2.84 0 1,1 0,-2.84A2.84,2.84 0 0,1 2.84,0Z\" style=\"opacity: 0.7; stroke-width: 1px; fill: rgb(33, 6, 143); fill-opacity: 1; stroke: rgb(255, 255, 255); stroke-opacity: 1;\"/><path class=\"point\" transform=\"translate(93.5,332.69)\" d=\"M1.27,0A1.27,1.27 0 1,1 0,-1.27A1.27,1.27 0 0,1 1.27,0Z\" style=\"opacity: 0.7; stroke-width: 1px; fill: rgb(17, 8, 136); fill-opacity: 1; stroke: rgb(255, 255, 255); stroke-opacity: 1;\"/><path class=\"point\" transform=\"translate(151.47,323.76)\" d=\"M5.46,0A5.46,5.46 0 1,1 0,-5.46A5.46,5.46 0 0,1 5.46,0Z\" style=\"opacity: 0.7; stroke-width: 1px; fill: rgb(85, 2, 162); fill-opacity: 1; stroke: rgb(255, 255, 255); stroke-opacity: 1;\"/><path class=\"point\" transform=\"translate(228.01,314.96)\" d=\"M4.2,0A4.2,4.2 0 1,1 0,-4.2A4.2,4.2 0 0,1 4.2,0Z\" style=\"opacity: 0.7; stroke-width: 1px; fill: rgb(58, 4, 154); fill-opacity: 1; stroke: rgb(255, 255, 255); stroke-opacity: 1;\"/><path class=\"point\" transform=\"translate(351.33,219.48)\" d=\"M5.3,0A5.3,5.3 0 1,1 0,-5.3A5.3,5.3 0 0,1 5.3,0Z\" style=\"opacity: 0.7; stroke-width: 1px; fill: rgb(81, 2, 161); fill-opacity: 1; stroke: rgb(255, 255, 255); stroke-opacity: 1;\"/><path class=\"point\" transform=\"translate(271.78,306.3)\" d=\"M3.66,0A3.66,3.66 0 1,1 0,-3.66A3.66,3.66 0 0,1 3.66,0Z\" style=\"opacity: 0.7; stroke-width: 1px; fill: rgb(47, 5, 149); fill-opacity: 1; stroke: rgb(255, 255, 255); stroke-opacity: 1;\"/><path class=\"point\" transform=\"translate(168.97,327.65)\" d=\"M6.79,0A6.79,6.79 0 1,1 0,-6.79A6.79,6.79 0 0,1 6.79,0Z\" style=\"opacity: 0.7; stroke-width: 1px; fill: rgb(117, 3, 167); fill-opacity: 1; stroke: rgb(255, 255, 255); stroke-opacity: 1;\"/><path class=\"point\" transform=\"translate(56.72,332.57)\" d=\"M7.87,0A7.87,7.87 0 1,1 0,-7.87A7.87,7.87 0 0,1 7.87,0Z\" style=\"opacity: 0.7; stroke-width: 1px; fill: rgb(147, 18, 160); fill-opacity: 1; stroke: rgb(255, 255, 255); stroke-opacity: 1;\"/><path class=\"point\" transform=\"translate(345.58,207.24)\" d=\"M3.43,0A3.43,3.43 0 1,1 0,-3.43A3.43,3.43 0 0,1 3.43,0Z\" style=\"opacity: 0.7; stroke-width: 1px; fill: rgb(43, 5, 147); fill-opacity: 1; stroke: rgb(255, 255, 255); stroke-opacity: 1;\"/><path class=\"point\" transform=\"translate(358.63,201.48)\" d=\"M4.65,0A4.65,4.65 0 1,1 0,-4.65A4.65,4.65 0 0,1 4.65,0Z\" style=\"opacity: 0.7; stroke-width: 1px; fill: rgb(68, 3, 158); fill-opacity: 1; stroke: rgb(255, 255, 255); stroke-opacity: 1;\"/><path class=\"point\" transform=\"translate(194.87,317.8)\" d=\"M3.39,0A3.39,3.39 0 1,1 0,-3.39A3.39,3.39 0 0,1 3.39,0Z\" style=\"opacity: 0.7; stroke-width: 1px; fill: rgb(42, 5, 147); fill-opacity: 1; stroke: rgb(255, 255, 255); stroke-opacity: 1;\"/><path class=\"point\" transform=\"translate(351.61,216.79)\" d=\"M4.49,0A4.49,4.49 0 1,1 0,-4.49A4.49,4.49 0 0,1 4.49,0Z\" style=\"opacity: 0.7; stroke-width: 1px; fill: rgb(64, 4, 157); fill-opacity: 1; stroke: rgb(255, 255, 255); stroke-opacity: 1;\"/><path class=\"point\" transform=\"translate(310.93,286.45)\" d=\"M3.68,0A3.68,3.68 0 1,1 0,-3.68A3.68,3.68 0 0,1 3.68,0Z\" style=\"opacity: 0.7; stroke-width: 1px; fill: rgb(47, 5, 149); fill-opacity: 1; stroke: rgb(255, 255, 255); stroke-opacity: 1;\"/><path class=\"point\" transform=\"translate(125.38,327.42)\" d=\"M3.81,0A3.81,3.81 0 1,1 0,-3.81A3.81,3.81 0 0,1 3.81,0Z\" style=\"opacity: 0.7; stroke-width: 1px; fill: rgb(50, 5, 150); fill-opacity: 1; stroke: rgb(255, 255, 255); stroke-opacity: 1;\"/><path class=\"point\" transform=\"translate(329.37,253.52)\" d=\"M5.21,0A5.21,5.21 0 1,1 0,-5.21A5.21,5.21 0 0,1 5.21,0Z\" style=\"opacity: 0.7; stroke-width: 1px; fill: rgb(79, 3, 161); fill-opacity: 1; stroke: rgb(255, 255, 255); stroke-opacity: 1;\"/><path class=\"point\" transform=\"translate(265.72,289.97)\" d=\"M11.52,0A11.52,11.52 0 1,1 0,-11.52A11.52,11.52 0 0,1 11.52,0Z\" style=\"opacity: 0.7; stroke-width: 1px; fill: rgb(236, 120, 84); fill-opacity: 1; stroke: rgb(255, 255, 255); stroke-opacity: 1;\"/><path class=\"point\" transform=\"translate(195.91,322.58)\" d=\"M2.17,0A2.17,2.17 0 1,1 0,-2.17A2.17,2.17 0 0,1 2.17,0Z\" style=\"opacity: 0.7; stroke-width: 1px; fill: rgb(24, 7, 140); fill-opacity: 1; stroke: rgb(255, 255, 255); stroke-opacity: 1;\"/><path class=\"point\" transform=\"translate(293.35,279.76)\" d=\"M4.54,0A4.54,4.54 0 1,1 0,-4.54A4.54,4.54 0 0,1 4.54,0Z\" style=\"opacity: 0.7; stroke-width: 1px; fill: rgb(65, 3, 157); fill-opacity: 1; stroke: rgb(255, 255, 255); stroke-opacity: 1;\"/><path class=\"point\" transform=\"translate(220.29,326.47)\" d=\"M2.66,0A2.66,2.66 0 1,1 0,-2.66A2.66,2.66 0 0,1 2.66,0Z\" style=\"opacity: 0.7; stroke-width: 1px; fill: rgb(31, 6, 142); fill-opacity: 1; stroke: rgb(255, 255, 255); stroke-opacity: 1;\"/><path class=\"point\" transform=\"translate(215.37,307.54)\" d=\"M5.37,0A5.37,5.37 0 1,1 0,-5.37A5.37,5.37 0 0,1 5.37,0Z\" style=\"opacity: 0.7; stroke-width: 1px; fill: rgb(83, 2, 162); fill-opacity: 1; stroke: rgb(255, 255, 255); stroke-opacity: 1;\"/><path class=\"point\" transform=\"translate(212.9,321.28)\" d=\"M4.26,0A4.26,4.26 0 1,1 0,-4.26A4.26,4.26 0 0,1 4.26,0Z\" style=\"opacity: 0.7; stroke-width: 1px; fill: rgb(59, 4, 154); fill-opacity: 1; stroke: rgb(255, 255, 255); stroke-opacity: 1;\"/><path class=\"point\" transform=\"translate(266.22,295.64)\" d=\"M2.83,0A2.83,2.83 0 1,1 0,-2.83A2.83,2.83 0 0,1 2.83,0Z\" style=\"opacity: 0.7; stroke-width: 1px; fill: rgb(33, 6, 143); fill-opacity: 1; stroke: rgb(255, 255, 255); stroke-opacity: 1;\"/><path class=\"point\" transform=\"translate(168.68,324.56)\" d=\"M5.73,0A5.73,5.73 0 1,1 0,-5.73A5.73,5.73 0 0,1 5.73,0Z\" style=\"opacity: 0.7; stroke-width: 1px; fill: rgb(91, 2, 163); fill-opacity: 1; stroke: rgb(255, 255, 255); stroke-opacity: 1;\"/></g><g class=\"text\"/></g></g></g><g class=\"overplot\"/><path class=\"xlines-above crisp\" d=\"M0,0\" style=\"fill: none;\"/><path class=\"ylines-above crisp\" d=\"M0,0\" style=\"fill: none;\"/><g class=\"overlines-above\"/><g class=\"xaxislayer-above\"><g class=\"xtick\"><text text-anchor=\"middle\" x=\"0\" y=\"433\" transform=\"translate(107.07,0)\" style=\"font-family: 'Open Sans', verdana, arial, sans-serif; font-size: 12px; fill: rgb(42, 63, 95); fill-opacity: 1; white-space: pre; opacity: 1;\">10k</text></g><g class=\"xtick\"><text text-anchor=\"middle\" x=\"0\" y=\"430\" style=\"font-family: 'Open Sans', verdana, arial, sans-serif; font-size: 9px; fill: rgb(42, 63, 95); fill-opacity: 1; white-space: pre; opacity: 1;\" transform=\"translate(156.89,0)\">2</text></g><g class=\"xtick\"><text text-anchor=\"middle\" x=\"0\" y=\"430\" style=\"font-family: 'Open Sans', verdana, arial, sans-serif; font-size: 9px; fill: rgb(42, 63, 95); fill-opacity: 1; white-space: pre; opacity: 1;\" transform=\"translate(222.75,0)\">5</text></g><g class=\"xtick\"><text text-anchor=\"middle\" x=\"0\" y=\"433\" style=\"font-family: 'Open Sans', verdana, arial, sans-serif; font-size: 12px; fill: rgb(42, 63, 95); fill-opacity: 1; white-space: pre; opacity: 1;\" transform=\"translate(272.57,0)\">100k</text></g><g class=\"xtick\"><text text-anchor=\"middle\" x=\"0\" y=\"430\" style=\"font-family: 'Open Sans', verdana, arial, sans-serif; font-size: 9px; fill: rgb(42, 63, 95); fill-opacity: 1; white-space: pre; opacity: 1;\" transform=\"translate(322.39,0)\">2</text></g><g class=\"xtick\"><text text-anchor=\"middle\" x=\"0\" y=\"430\" style=\"font-family: 'Open Sans', verdana, arial, sans-serif; font-size: 9px; fill: rgb(42, 63, 95); fill-opacity: 1; white-space: pre; opacity: 1;\" transform=\"translate(388.25,0)\">5</text></g><g class=\"xtick\"><text text-anchor=\"middle\" x=\"0\" y=\"433\" style=\"font-family: 'Open Sans', verdana, arial, sans-serif; font-size: 12px; fill: rgb(42, 63, 95); fill-opacity: 1; white-space: pre; opacity: 1;\" transform=\"translate(438.08,0)\">1M</text></g><g class=\"xtick\"><text text-anchor=\"middle\" x=\"0\" y=\"430\" style=\"font-family: 'Open Sans', verdana, arial, sans-serif; font-size: 9px; fill: rgb(42, 63, 95); fill-opacity: 1; white-space: pre; opacity: 1;\" transform=\"translate(487.9,0)\">2</text></g></g><g class=\"yaxislayer-above\"><g class=\"ytick\"><text text-anchor=\"end\" x=\"79\" y=\"4.199999999999999\" transform=\"translate(0,395.66)\" style=\"font-family: 'Open Sans', verdana, arial, sans-serif; font-size: 12px; fill: rgb(42, 63, 95); fill-opacity: 1; white-space: pre; opacity: 1;\">0</text></g><g class=\"ytick\"><text text-anchor=\"end\" x=\"79\" y=\"4.199999999999999\" style=\"font-family: 'Open Sans', verdana, arial, sans-serif; font-size: 12px; fill: rgb(42, 63, 95); fill-opacity: 1; white-space: pre; opacity: 1;\" transform=\"translate(0,325.13)\">10k</text></g><g class=\"ytick\"><text text-anchor=\"end\" x=\"79\" y=\"4.199999999999999\" style=\"font-family: 'Open Sans', verdana, arial, sans-serif; font-size: 12px; fill: rgb(42, 63, 95); fill-opacity: 1; white-space: pre; opacity: 1;\" transform=\"translate(0,254.59)\">20k</text></g><g class=\"ytick\"><text text-anchor=\"end\" x=\"79\" y=\"4.199999999999999\" style=\"font-family: 'Open Sans', verdana, arial, sans-serif; font-size: 12px; fill: rgb(42, 63, 95); fill-opacity: 1; white-space: pre; opacity: 1;\" transform=\"translate(0,184.06)\">30k</text></g><g class=\"ytick\"><text text-anchor=\"end\" x=\"79\" y=\"4.199999999999999\" style=\"font-family: 'Open Sans', verdana, arial, sans-serif; font-size: 12px; fill: rgb(42, 63, 95); fill-opacity: 1; white-space: pre; opacity: 1;\" transform=\"translate(0,113.53)\">40k</text></g></g><g class=\"overaxes-above\"/></g></g><g class=\"polarlayer\"/><g class=\"smithlayer\"/><g class=\"ternarylayer\"/><g class=\"geolayer\"/><g class=\"funnelarealayer\"/><g class=\"pielayer\"/><g class=\"iciclelayer\"/><g class=\"treemaplayer\"/><g class=\"sunburstlayer\"/><g class=\"glimages\"/><defs id=\"topdefs-f08b6e\"><g class=\"clips\"/></defs><g class=\"layer-above\"><g class=\"imagelayer\"/><g class=\"shapelayer\"/></g><g class=\"infolayer\"><g class=\"cbcoloraxis colorbar\" transform=\"translate(80,60)\"><rect class=\"cbbg\" x=\"437\" y=\"0\" width=\"171.09375\" height=\"360\" style=\"fill: rgb(0, 0, 0); fill-opacity: 0; stroke: rgb(68, 68, 68); stroke-opacity: 1; stroke-width: 0;\"/><g class=\"cbfills\" transform=\"translate(0,32)\"><rect class=\"cbfill\" x=\"447\" y=\"0\" width=\"30\" height=\"318\" style=\"fill: url('#gf08b6e-cbcoloraxis');\"/></g><g class=\"cblines\" transform=\"translate(0,32)\"/><g class=\"cbaxis crisp\" transform=\"translate(0,-60)\"><g class=\"ycbcoloraxistick\"><text text-anchor=\"start\" x=\"479.9\" y=\"4.199999999999999\" transform=\"translate(0,357.53)\" style=\"font-family: 'Open Sans', verdana, arial, sans-serif; font-size: 12px; fill: rgb(42, 63, 95); fill-opacity: 1; white-space: pre; opacity: 1;\">0.1</text></g><g class=\"ycbcoloraxistick\"><text text-anchor=\"start\" x=\"479.9\" y=\"4.199999999999999\" style=\"font-family: 'Open Sans', verdana, arial, sans-serif; font-size: 12px; fill: rgb(42, 63, 95); fill-opacity: 1; white-space: pre; opacity: 1;\" transform=\"translate(0,304.72)\">0.2</text></g><g class=\"ycbcoloraxistick\"><text text-anchor=\"start\" x=\"479.9\" y=\"4.199999999999999\" style=\"font-family: 'Open Sans', verdana, arial, sans-serif; font-size: 12px; fill: rgb(42, 63, 95); fill-opacity: 1; white-space: pre; opacity: 1;\" transform=\"translate(0,251.92)\">0.3</text></g><g class=\"ycbcoloraxistick\"><text text-anchor=\"start\" x=\"479.9\" y=\"4.199999999999999\" style=\"font-family: 'Open Sans', verdana, arial, sans-serif; font-size: 12px; fill: rgb(42, 63, 95); fill-opacity: 1; white-space: pre; opacity: 1;\" transform=\"translate(0,199.11)\">0.4</text></g><g class=\"ycbcoloraxistick\"><text text-anchor=\"start\" x=\"479.9\" y=\"4.199999999999999\" style=\"font-family: 'Open Sans', verdana, arial, sans-serif; font-size: 12px; fill: rgb(42, 63, 95); fill-opacity: 1; white-space: pre; opacity: 1;\" transform=\"translate(0,146.3)\">0.5</text></g><g class=\"ycbcoloraxistick\"><text text-anchor=\"start\" x=\"479.9\" y=\"4.199999999999999\" style=\"font-family: 'Open Sans', verdana, arial, sans-serif; font-size: 12px; fill: rgb(42, 63, 95); fill-opacity: 1; white-space: pre; opacity: 1;\" transform=\"translate(0,93.49)\">0.6</text></g></g><g class=\"cbtitleunshift\" transform=\"translate(-80,-60)\"><g class=\"cbtitle\" transform=\"\"><text class=\"ycbcoloraxistitle\" x=\"526.56\" y=\"83.5\" text-anchor=\"start\" style=\"font-family: 'Open Sans', verdana, arial, sans-serif; font-size: 14px; fill: rgb(42, 63, 95); opacity: 1; font-weight: normal; white-space: pre;\">avg_comp_sentiment</text></g></g><rect class=\"cboutline\" x=\"447\" y=\"32\" width=\"30\" height=\"318\" style=\"stroke: rgb(68, 68, 68); stroke-opacity: 1; fill: none; stroke-width: 0;\"/></g><g class=\"g-gtitle\"/><g class=\"g-xtitle\"><text class=\"xtitle\" x=\"294\" y=\"460.3\" text-anchor=\"middle\" style=\"font-family: 'Open Sans', verdana, arial, sans-serif; font-size: 14px; fill: rgb(42, 63, 95); opacity: 1; font-weight: normal; white-space: pre;\">vid_viewcount</text></g><g class=\"g-ytitle\"><text class=\"ytitle\" transform=\"rotate(-90,31.840625000000003,240)\" x=\"31.840625000000003\" y=\"240\" text-anchor=\"middle\" style=\"font-family: 'Open Sans', verdana, arial, sans-serif; font-size: 14px; fill: rgb(42, 63, 95); opacity: 1; font-weight: normal; white-space: pre;\">vid_likecount</text></g></g></svg>"
     },
     "metadata": {},
     "output_type": "display_data"
    }
   ],
   "source": [
    "import plotly.express as px\n",
    "\n",
    "fig = px.scatter(test_df, x=\"vid_viewcount\", y=\"vid_likecount\",\n",
    "\t         size=\"avg_comp_sentiment\",\n",
    "             color=\"avg_comp_sentiment\", hover_name=\"vid_title\", log_x=True)\n",
    "fig.show(renderer='svg')"
   ]
  },
  {
   "cell_type": "code",
   "execution_count": 77,
   "metadata": {},
   "outputs": [
    {
     "data": {
      "text/html": [
       "<div>\n",
       "<style scoped>\n",
       "    .dataframe tbody tr th:only-of-type {\n",
       "        vertical-align: middle;\n",
       "    }\n",
       "\n",
       "    .dataframe tbody tr th {\n",
       "        vertical-align: top;\n",
       "    }\n",
       "\n",
       "    .dataframe thead th {\n",
       "        text-align: right;\n",
       "    }\n",
       "</style>\n",
       "<table border=\"1\" class=\"dataframe\">\n",
       "  <thead>\n",
       "    <tr style=\"text-align: right;\">\n",
       "      <th></th>\n",
       "      <th>video_id</th>\n",
       "      <th>channelTitle</th>\n",
       "      <th>title</th>\n",
       "      <th>description</th>\n",
       "      <th>publishedAt</th>\n",
       "      <th>viewCount</th>\n",
       "      <th>likeCount</th>\n",
       "      <th>favoriteCount</th>\n",
       "      <th>commentCount</th>\n",
       "      <th>caption</th>\n",
       "      <th>publishDayName</th>\n",
       "      <th>durationSecs</th>\n",
       "      <th>tagCount</th>\n",
       "    </tr>\n",
       "  </thead>\n",
       "  <tbody>\n",
       "    <tr>\n",
       "      <th>4</th>\n",
       "      <td>Mo0uGTXOI48</td>\n",
       "      <td>MSNBC</td>\n",
       "      <td>Classified Docs Often Contain 'Life Or Death' ...</td>\n",
       "      <td>Representative Jason Crow (D-CO) joins Andrea ...</td>\n",
       "      <td>2022-09-22</td>\n",
       "      <td>45116</td>\n",
       "      <td>1502</td>\n",
       "      <td>0</td>\n",
       "      <td>1289</td>\n",
       "      <td>1</td>\n",
       "      <td>Thursday</td>\n",
       "      <td>360.0</td>\n",
       "      <td>1</td>\n",
       "    </tr>\n",
       "    <tr>\n",
       "      <th>7</th>\n",
       "      <td>ShrxBrNLVLU</td>\n",
       "      <td>MSNBC</td>\n",
       "      <td>'This Reversal Will Be A Permanent Part Of Jud...</td>\n",
       "      <td>A federal appeals court said Wednesday that th...</td>\n",
       "      <td>2022-09-22</td>\n",
       "      <td>363206</td>\n",
       "      <td>10450</td>\n",
       "      <td>0</td>\n",
       "      <td>1964</td>\n",
       "      <td>1</td>\n",
       "      <td>Thursday</td>\n",
       "      <td>354.0</td>\n",
       "      <td>3</td>\n",
       "    </tr>\n",
       "    <tr>\n",
       "      <th>8</th>\n",
       "      <td>_mlLkxSLa68</td>\n",
       "      <td>MSNBC</td>\n",
       "      <td>'Documents Don't Lie; Square Footage Doesn't L...</td>\n",
       "      <td>Ari Melber and defense attorney Caroline Polis...</td>\n",
       "      <td>2022-09-22</td>\n",
       "      <td>178632</td>\n",
       "      <td>5574</td>\n",
       "      <td>0</td>\n",
       "      <td>1592</td>\n",
       "      <td>1</td>\n",
       "      <td>Thursday</td>\n",
       "      <td>522.0</td>\n",
       "      <td>3</td>\n",
       "    </tr>\n",
       "    <tr>\n",
       "      <th>9</th>\n",
       "      <td>w7km9Znrohw</td>\n",
       "      <td>MSNBC</td>\n",
       "      <td>Trump Charges?: Anticipated Jan. 6 Report Hits...</td>\n",
       "      <td>The January 6th committee will conclude its wo...</td>\n",
       "      <td>2022-09-22</td>\n",
       "      <td>35792</td>\n",
       "      <td>1040</td>\n",
       "      <td>0</td>\n",
       "      <td>547</td>\n",
       "      <td>1</td>\n",
       "      <td>Thursday</td>\n",
       "      <td>143.0</td>\n",
       "      <td>1</td>\n",
       "    </tr>\n",
       "    <tr>\n",
       "      <th>13</th>\n",
       "      <td>aX8ABP4A7gE</td>\n",
       "      <td>MSNBC</td>\n",
       "      <td>Sen. Durbin: It Troubles Me Greatly Some Of My...</td>\n",
       "      <td>Judiciary Committee Chair, Sen. Dick Durbin, D...</td>\n",
       "      <td>2022-09-22</td>\n",
       "      <td>206664</td>\n",
       "      <td>5304</td>\n",
       "      <td>0</td>\n",
       "      <td>1622</td>\n",
       "      <td>1</td>\n",
       "      <td>Thursday</td>\n",
       "      <td>541.0</td>\n",
       "      <td>3</td>\n",
       "    </tr>\n",
       "    <tr>\n",
       "      <th>...</th>\n",
       "      <td>...</td>\n",
       "      <td>...</td>\n",
       "      <td>...</td>\n",
       "      <td>...</td>\n",
       "      <td>...</td>\n",
       "      <td>...</td>\n",
       "      <td>...</td>\n",
       "      <td>...</td>\n",
       "      <td>...</td>\n",
       "      <td>...</td>\n",
       "      <td>...</td>\n",
       "      <td>...</td>\n",
       "      <td>...</td>\n",
       "    </tr>\n",
       "    <tr>\n",
       "      <th>485</th>\n",
       "      <td>Xvq-sBVmOyQ</td>\n",
       "      <td>MSNBC</td>\n",
       "      <td>NBC News Confirms Biden Will Attend Queen Eliz...</td>\n",
       "      <td>NBC News has confirmed that President Biden wi...</td>\n",
       "      <td>2022-09-09</td>\n",
       "      <td>147063</td>\n",
       "      <td>1302</td>\n",
       "      <td>0</td>\n",
       "      <td>1686</td>\n",
       "      <td>1</td>\n",
       "      <td>Friday</td>\n",
       "      <td>122.0</td>\n",
       "      <td>28</td>\n",
       "    </tr>\n",
       "    <tr>\n",
       "      <th>488</th>\n",
       "      <td>yx8HNCJTztM</td>\n",
       "      <td>MSNBC</td>\n",
       "      <td>Reproductive Rights Has Galvanized Michigan Vo...</td>\n",
       "      <td>Michigan voters this fall will decide whether ...</td>\n",
       "      <td>2022-09-09</td>\n",
       "      <td>137332</td>\n",
       "      <td>3986</td>\n",
       "      <td>0</td>\n",
       "      <td>1876</td>\n",
       "      <td>1</td>\n",
       "      <td>Friday</td>\n",
       "      <td>555.0</td>\n",
       "      <td>27</td>\n",
       "    </tr>\n",
       "    <tr>\n",
       "      <th>489</th>\n",
       "      <td>eeiog3IHZ34</td>\n",
       "      <td>MSNBC</td>\n",
       "      <td>Is There A Chance Steve Bannon Could Serve Tim...</td>\n",
       "      <td>Former Trump adviser Steve Bannon was charged ...</td>\n",
       "      <td>2022-09-09</td>\n",
       "      <td>132689</td>\n",
       "      <td>2039</td>\n",
       "      <td>0</td>\n",
       "      <td>1125</td>\n",
       "      <td>1</td>\n",
       "      <td>Friday</td>\n",
       "      <td>146.0</td>\n",
       "      <td>23</td>\n",
       "    </tr>\n",
       "    <tr>\n",
       "      <th>492</th>\n",
       "      <td>R9hcVZZ9glE</td>\n",
       "      <td>MSNBC</td>\n",
       "      <td>Watch The Last Word With Lawrence O’Donnell Hi...</td>\n",
       "      <td>Watch highlights from The Last Word with Lawre...</td>\n",
       "      <td>2022-09-09</td>\n",
       "      <td>278617</td>\n",
       "      <td>5674</td>\n",
       "      <td>0</td>\n",
       "      <td>1052</td>\n",
       "      <td>0</td>\n",
       "      <td>Friday</td>\n",
       "      <td>1253.0</td>\n",
       "      <td>3</td>\n",
       "    </tr>\n",
       "    <tr>\n",
       "      <th>499</th>\n",
       "      <td>an2CezI6P8k</td>\n",
       "      <td>MSNBC</td>\n",
       "      <td>DOJ Turns To Trump's Post-Election Fundraising...</td>\n",
       "      <td>Joyce Vance, former U.S. attorney, talks with ...</td>\n",
       "      <td>2022-09-09</td>\n",
       "      <td>71723</td>\n",
       "      <td>1573</td>\n",
       "      <td>0</td>\n",
       "      <td>686</td>\n",
       "      <td>1</td>\n",
       "      <td>Friday</td>\n",
       "      <td>293.0</td>\n",
       "      <td>1</td>\n",
       "    </tr>\n",
       "  </tbody>\n",
       "</table>\n",
       "<p>288 rows × 13 columns</p>\n",
       "</div>"
      ],
      "text/plain": [
       "        video_id channelTitle  \\\n",
       "4    Mo0uGTXOI48        MSNBC   \n",
       "7    ShrxBrNLVLU        MSNBC   \n",
       "8    _mlLkxSLa68        MSNBC   \n",
       "9    w7km9Znrohw        MSNBC   \n",
       "13   aX8ABP4A7gE        MSNBC   \n",
       "..           ...          ...   \n",
       "485  Xvq-sBVmOyQ        MSNBC   \n",
       "488  yx8HNCJTztM        MSNBC   \n",
       "489  eeiog3IHZ34        MSNBC   \n",
       "492  R9hcVZZ9glE        MSNBC   \n",
       "499  an2CezI6P8k        MSNBC   \n",
       "\n",
       "                                                 title  \\\n",
       "4    Classified Docs Often Contain 'Life Or Death' ...   \n",
       "7    'This Reversal Will Be A Permanent Part Of Jud...   \n",
       "8    'Documents Don't Lie; Square Footage Doesn't L...   \n",
       "9    Trump Charges?: Anticipated Jan. 6 Report Hits...   \n",
       "13   Sen. Durbin: It Troubles Me Greatly Some Of My...   \n",
       "..                                                 ...   \n",
       "485  NBC News Confirms Biden Will Attend Queen Eliz...   \n",
       "488  Reproductive Rights Has Galvanized Michigan Vo...   \n",
       "489  Is There A Chance Steve Bannon Could Serve Tim...   \n",
       "492  Watch The Last Word With Lawrence O’Donnell Hi...   \n",
       "499  DOJ Turns To Trump's Post-Election Fundraising...   \n",
       "\n",
       "                                           description publishedAt  viewCount  \\\n",
       "4    Representative Jason Crow (D-CO) joins Andrea ...  2022-09-22      45116   \n",
       "7    A federal appeals court said Wednesday that th...  2022-09-22     363206   \n",
       "8    Ari Melber and defense attorney Caroline Polis...  2022-09-22     178632   \n",
       "9    The January 6th committee will conclude its wo...  2022-09-22      35792   \n",
       "13   Judiciary Committee Chair, Sen. Dick Durbin, D...  2022-09-22     206664   \n",
       "..                                                 ...         ...        ...   \n",
       "485  NBC News has confirmed that President Biden wi...  2022-09-09     147063   \n",
       "488  Michigan voters this fall will decide whether ...  2022-09-09     137332   \n",
       "489  Former Trump adviser Steve Bannon was charged ...  2022-09-09     132689   \n",
       "492  Watch highlights from The Last Word with Lawre...  2022-09-09     278617   \n",
       "499  Joyce Vance, former U.S. attorney, talks with ...  2022-09-09      71723   \n",
       "\n",
       "     likeCount  favoriteCount  commentCount  caption publishDayName  \\\n",
       "4         1502              0          1289        1       Thursday   \n",
       "7        10450              0          1964        1       Thursday   \n",
       "8         5574              0          1592        1       Thursday   \n",
       "9         1040              0           547        1       Thursday   \n",
       "13        5304              0          1622        1       Thursday   \n",
       "..         ...            ...           ...      ...            ...   \n",
       "485       1302              0          1686        1         Friday   \n",
       "488       3986              0          1876        1         Friday   \n",
       "489       2039              0          1125        1         Friday   \n",
       "492       5674              0          1052        0         Friday   \n",
       "499       1573              0           686        1         Friday   \n",
       "\n",
       "     durationSecs  tagCount  \n",
       "4           360.0         1  \n",
       "7           354.0         3  \n",
       "8           522.0         3  \n",
       "9           143.0         1  \n",
       "13          541.0         3  \n",
       "..            ...       ...  \n",
       "485         122.0        28  \n",
       "488         555.0        27  \n",
       "489         146.0        23  \n",
       "492        1253.0         3  \n",
       "499         293.0         1  \n",
       "\n",
       "[288 rows x 13 columns]"
      ]
     },
     "execution_count": 77,
     "metadata": {},
     "output_type": "execute_result"
    }
   ],
   "source": [
    "selected_df"
   ]
  },
  {
   "cell_type": "code",
   "execution_count": 83,
   "metadata": {},
   "outputs": [
    {
     "data": {
      "application/vnd.plotly.v1+json": {
       "config": {
        "plotlyServerURL": "https://plot.ly"
       },
       "data": [
        {
         "marker": {
          "color": "rgb(55, 83, 109)"
         },
         "name": "Rest of world",
         "type": "bar",
         "x": [
          "Thursday",
          "Thursday",
          "Thursday",
          "Thursday",
          "Thursday",
          "Thursday",
          "Thursday",
          "Thursday",
          "Thursday",
          "Thursday",
          "Thursday",
          "Thursday",
          "Thursday",
          "Thursday",
          "Thursday",
          "Thursday",
          "Thursday",
          "Thursday",
          "Thursday",
          "Thursday",
          "Wednesday",
          "Wednesday",
          "Wednesday",
          "Wednesday",
          "Wednesday",
          "Wednesday",
          "Wednesday",
          "Wednesday",
          "Wednesday",
          "Wednesday",
          "Wednesday",
          "Wednesday",
          "Wednesday",
          "Wednesday",
          "Wednesday",
          "Wednesday",
          "Wednesday",
          "Wednesday",
          "Wednesday",
          "Wednesday",
          "Wednesday",
          "Wednesday",
          "Wednesday",
          "Wednesday",
          "Wednesday",
          "Tuesday",
          "Tuesday",
          "Tuesday",
          "Tuesday",
          "Tuesday",
          "Tuesday",
          "Tuesday",
          "Tuesday",
          "Tuesday",
          "Tuesday",
          "Tuesday",
          "Tuesday",
          "Tuesday",
          "Tuesday",
          "Tuesday",
          "Tuesday",
          "Tuesday",
          "Tuesday",
          "Tuesday",
          "Tuesday",
          "Tuesday",
          "Tuesday",
          "Tuesday",
          "Tuesday",
          "Tuesday",
          "Tuesday",
          "Tuesday",
          "Tuesday",
          "Tuesday",
          "Tuesday",
          "Monday",
          "Monday",
          "Monday",
          "Monday",
          "Monday",
          "Monday",
          "Monday",
          "Monday",
          "Monday",
          "Monday",
          "Monday",
          "Monday",
          "Monday",
          "Sunday",
          "Sunday",
          "Sunday",
          "Sunday",
          "Sunday",
          "Sunday",
          "Sunday",
          "Sunday",
          "Sunday",
          "Sunday",
          "Saturday",
          "Saturday",
          "Saturday",
          "Saturday",
          "Saturday",
          "Saturday",
          "Saturday",
          "Saturday",
          "Saturday",
          "Saturday",
          "Saturday",
          "Saturday",
          "Saturday",
          "Saturday",
          "Saturday",
          "Saturday",
          "Saturday",
          "Saturday",
          "Saturday",
          "Saturday",
          "Saturday",
          "Saturday",
          "Saturday",
          "Saturday",
          "Saturday",
          "Friday",
          "Friday",
          "Friday",
          "Friday",
          "Friday",
          "Friday",
          "Friday",
          "Friday",
          "Friday",
          "Friday",
          "Friday",
          "Friday",
          "Friday",
          "Friday",
          "Friday",
          "Friday",
          "Friday",
          "Friday",
          "Friday",
          "Friday",
          "Friday",
          "Friday",
          "Friday",
          "Friday",
          "Friday",
          "Friday",
          "Friday",
          "Friday",
          "Friday",
          "Friday",
          "Thursday",
          "Thursday",
          "Thursday",
          "Thursday",
          "Thursday",
          "Thursday",
          "Thursday",
          "Thursday",
          "Thursday",
          "Thursday",
          "Thursday",
          "Thursday",
          "Thursday",
          "Thursday",
          "Thursday",
          "Thursday",
          "Thursday",
          "Thursday",
          "Thursday",
          "Thursday",
          "Thursday",
          "Thursday",
          "Thursday",
          "Thursday",
          "Thursday",
          "Wednesday",
          "Wednesday",
          "Wednesday",
          "Wednesday",
          "Wednesday",
          "Wednesday",
          "Wednesday",
          "Wednesday",
          "Wednesday",
          "Wednesday",
          "Wednesday",
          "Wednesday",
          "Wednesday",
          "Wednesday",
          "Wednesday",
          "Wednesday",
          "Wednesday",
          "Wednesday",
          "Wednesday",
          "Wednesday",
          "Wednesday",
          "Wednesday",
          "Wednesday",
          "Wednesday",
          "Wednesday",
          "Tuesday",
          "Tuesday",
          "Tuesday",
          "Tuesday",
          "Tuesday",
          "Tuesday",
          "Tuesday",
          "Tuesday",
          "Tuesday",
          "Tuesday",
          "Tuesday",
          "Tuesday",
          "Tuesday",
          "Tuesday",
          "Tuesday",
          "Tuesday",
          "Tuesday",
          "Tuesday",
          "Tuesday",
          "Tuesday",
          "Tuesday",
          "Tuesday",
          "Tuesday",
          "Tuesday",
          "Tuesday",
          "Tuesday",
          "Tuesday",
          "Monday",
          "Monday",
          "Monday",
          "Monday",
          "Monday",
          "Monday",
          "Monday",
          "Monday",
          "Monday",
          "Monday",
          "Monday",
          "Monday",
          "Monday",
          "Monday",
          "Monday",
          "Monday",
          "Sunday",
          "Sunday",
          "Sunday",
          "Sunday",
          "Sunday",
          "Sunday",
          "Sunday",
          "Sunday",
          "Sunday",
          "Sunday",
          "Sunday",
          "Saturday",
          "Saturday",
          "Saturday",
          "Saturday",
          "Saturday",
          "Saturday",
          "Saturday",
          "Saturday",
          "Saturday",
          "Saturday",
          "Saturday",
          "Saturday",
          "Saturday",
          "Saturday",
          "Saturday",
          "Saturday",
          "Saturday",
          "Saturday",
          "Saturday",
          "Saturday",
          "Saturday",
          "Friday",
          "Friday",
          "Friday",
          "Friday",
          "Friday",
          "Friday",
          "Friday",
          "Friday",
          "Friday",
          "Friday"
         ],
         "y": [
          45116,
          363206,
          178632,
          35792,
          206664,
          58760,
          474901,
          191732,
          174451,
          168416,
          99851,
          241482,
          156619,
          1274529,
          170091,
          198496,
          277333,
          851518,
          434977,
          480640,
          502702,
          414937,
          550921,
          129216,
          102973,
          190354,
          120678,
          79538,
          270961,
          39655,
          365889,
          22671,
          92156,
          348177,
          337616,
          95552,
          397600,
          154907,
          401695,
          932558,
          280813,
          241298,
          420115,
          60262,
          520438,
          876743,
          37064,
          158186,
          184361,
          129626,
          69319,
          21091,
          364938,
          53568,
          1825905,
          281128,
          83506,
          333311,
          181869,
          270251,
          245389,
          100893,
          82644,
          203254,
          45634,
          400764,
          1245740,
          142479,
          198003,
          134209,
          218801,
          178707,
          21326,
          94576,
          332331,
          140267,
          623852,
          30939,
          145453,
          21974,
          68776,
          15326,
          17445,
          39271,
          39097,
          50796,
          655238,
          132770,
          42721,
          101672,
          31010,
          145900,
          40044,
          62999,
          169918,
          9810,
          43301,
          40682,
          44298,
          72864,
          95856,
          80922,
          29019,
          253140,
          59236,
          54945,
          89761,
          225822,
          395594,
          18503,
          83734,
          196859,
          192455,
          196120,
          57418,
          332961,
          174527,
          104776,
          637205,
          130559,
          1275331,
          143940,
          52550,
          143654,
          205718,
          41959,
          205358,
          31701,
          69309,
          384321,
          164651,
          199163,
          179389,
          19567,
          552373,
          318094,
          50544,
          15377,
          406464,
          77319,
          123204,
          16199,
          60804,
          20391,
          44418,
          440544,
          600010,
          113992,
          94366,
          411076,
          248272,
          185982,
          148284,
          83658,
          811721,
          206402,
          36397,
          11994,
          295550,
          154009,
          255643,
          316678,
          104627,
          40038,
          63884,
          18169,
          486776,
          138711,
          303929,
          134134,
          215090,
          122792,
          490059,
          759170,
          535995,
          87932,
          613975,
          188348,
          71962,
          193346,
          9874,
          153704,
          78224,
          93797,
          534106,
          15931,
          16343,
          58636,
          249569,
          217109,
          40177,
          142034,
          92452,
          47748,
          75786,
          80647,
          149121,
          217413,
          201423,
          235131,
          103704,
          65481,
          470127,
          578656,
          342964,
          61837,
          237155,
          547797,
          17740,
          51219,
          216551,
          388532,
          91978,
          119851,
          236293,
          516976,
          319420,
          206783,
          182327,
          128334,
          332266,
          424278,
          1114872,
          479388,
          185907,
          104866,
          1249705,
          308605,
          257408,
          1255289,
          223464,
          228610,
          754412,
          254525,
          123766,
          338827,
          158631,
          22826,
          97492,
          357370,
          28747,
          78243,
          873956,
          172015,
          50631,
          445020,
          31102,
          470763,
          56133,
          57017,
          108590,
          143629,
          50083,
          25509,
          39109,
          54653,
          276553,
          368905,
          376189,
          205181,
          120947,
          635655,
          63965,
          46858,
          126803,
          373103,
          25201,
          56454,
          163725,
          910353,
          301027,
          72010,
          15108,
          840417,
          1007758,
          103248,
          913914,
          518947,
          39266,
          670757,
          276687,
          104757,
          406394,
          147063,
          137332,
          132689,
          278617,
          71723
         ]
        }
       ],
       "layout": {
        "bargap": 0.15,
        "bargroupgap": 0.1,
        "template": {
         "data": {
          "bar": [
           {
            "error_x": {
             "color": "#2a3f5f"
            },
            "error_y": {
             "color": "#2a3f5f"
            },
            "marker": {
             "line": {
              "color": "#E5ECF6",
              "width": 0.5
             },
             "pattern": {
              "fillmode": "overlay",
              "size": 10,
              "solidity": 0.2
             }
            },
            "type": "bar"
           }
          ],
          "barpolar": [
           {
            "marker": {
             "line": {
              "color": "#E5ECF6",
              "width": 0.5
             },
             "pattern": {
              "fillmode": "overlay",
              "size": 10,
              "solidity": 0.2
             }
            },
            "type": "barpolar"
           }
          ],
          "carpet": [
           {
            "aaxis": {
             "endlinecolor": "#2a3f5f",
             "gridcolor": "white",
             "linecolor": "white",
             "minorgridcolor": "white",
             "startlinecolor": "#2a3f5f"
            },
            "baxis": {
             "endlinecolor": "#2a3f5f",
             "gridcolor": "white",
             "linecolor": "white",
             "minorgridcolor": "white",
             "startlinecolor": "#2a3f5f"
            },
            "type": "carpet"
           }
          ],
          "choropleth": [
           {
            "colorbar": {
             "outlinewidth": 0,
             "ticks": ""
            },
            "type": "choropleth"
           }
          ],
          "contour": [
           {
            "colorbar": {
             "outlinewidth": 0,
             "ticks": ""
            },
            "colorscale": [
             [
              0,
              "#0d0887"
             ],
             [
              0.1111111111111111,
              "#46039f"
             ],
             [
              0.2222222222222222,
              "#7201a8"
             ],
             [
              0.3333333333333333,
              "#9c179e"
             ],
             [
              0.4444444444444444,
              "#bd3786"
             ],
             [
              0.5555555555555556,
              "#d8576b"
             ],
             [
              0.6666666666666666,
              "#ed7953"
             ],
             [
              0.7777777777777778,
              "#fb9f3a"
             ],
             [
              0.8888888888888888,
              "#fdca26"
             ],
             [
              1,
              "#f0f921"
             ]
            ],
            "type": "contour"
           }
          ],
          "contourcarpet": [
           {
            "colorbar": {
             "outlinewidth": 0,
             "ticks": ""
            },
            "type": "contourcarpet"
           }
          ],
          "heatmap": [
           {
            "colorbar": {
             "outlinewidth": 0,
             "ticks": ""
            },
            "colorscale": [
             [
              0,
              "#0d0887"
             ],
             [
              0.1111111111111111,
              "#46039f"
             ],
             [
              0.2222222222222222,
              "#7201a8"
             ],
             [
              0.3333333333333333,
              "#9c179e"
             ],
             [
              0.4444444444444444,
              "#bd3786"
             ],
             [
              0.5555555555555556,
              "#d8576b"
             ],
             [
              0.6666666666666666,
              "#ed7953"
             ],
             [
              0.7777777777777778,
              "#fb9f3a"
             ],
             [
              0.8888888888888888,
              "#fdca26"
             ],
             [
              1,
              "#f0f921"
             ]
            ],
            "type": "heatmap"
           }
          ],
          "heatmapgl": [
           {
            "colorbar": {
             "outlinewidth": 0,
             "ticks": ""
            },
            "colorscale": [
             [
              0,
              "#0d0887"
             ],
             [
              0.1111111111111111,
              "#46039f"
             ],
             [
              0.2222222222222222,
              "#7201a8"
             ],
             [
              0.3333333333333333,
              "#9c179e"
             ],
             [
              0.4444444444444444,
              "#bd3786"
             ],
             [
              0.5555555555555556,
              "#d8576b"
             ],
             [
              0.6666666666666666,
              "#ed7953"
             ],
             [
              0.7777777777777778,
              "#fb9f3a"
             ],
             [
              0.8888888888888888,
              "#fdca26"
             ],
             [
              1,
              "#f0f921"
             ]
            ],
            "type": "heatmapgl"
           }
          ],
          "histogram": [
           {
            "marker": {
             "pattern": {
              "fillmode": "overlay",
              "size": 10,
              "solidity": 0.2
             }
            },
            "type": "histogram"
           }
          ],
          "histogram2d": [
           {
            "colorbar": {
             "outlinewidth": 0,
             "ticks": ""
            },
            "colorscale": [
             [
              0,
              "#0d0887"
             ],
             [
              0.1111111111111111,
              "#46039f"
             ],
             [
              0.2222222222222222,
              "#7201a8"
             ],
             [
              0.3333333333333333,
              "#9c179e"
             ],
             [
              0.4444444444444444,
              "#bd3786"
             ],
             [
              0.5555555555555556,
              "#d8576b"
             ],
             [
              0.6666666666666666,
              "#ed7953"
             ],
             [
              0.7777777777777778,
              "#fb9f3a"
             ],
             [
              0.8888888888888888,
              "#fdca26"
             ],
             [
              1,
              "#f0f921"
             ]
            ],
            "type": "histogram2d"
           }
          ],
          "histogram2dcontour": [
           {
            "colorbar": {
             "outlinewidth": 0,
             "ticks": ""
            },
            "colorscale": [
             [
              0,
              "#0d0887"
             ],
             [
              0.1111111111111111,
              "#46039f"
             ],
             [
              0.2222222222222222,
              "#7201a8"
             ],
             [
              0.3333333333333333,
              "#9c179e"
             ],
             [
              0.4444444444444444,
              "#bd3786"
             ],
             [
              0.5555555555555556,
              "#d8576b"
             ],
             [
              0.6666666666666666,
              "#ed7953"
             ],
             [
              0.7777777777777778,
              "#fb9f3a"
             ],
             [
              0.8888888888888888,
              "#fdca26"
             ],
             [
              1,
              "#f0f921"
             ]
            ],
            "type": "histogram2dcontour"
           }
          ],
          "mesh3d": [
           {
            "colorbar": {
             "outlinewidth": 0,
             "ticks": ""
            },
            "type": "mesh3d"
           }
          ],
          "parcoords": [
           {
            "line": {
             "colorbar": {
              "outlinewidth": 0,
              "ticks": ""
             }
            },
            "type": "parcoords"
           }
          ],
          "pie": [
           {
            "automargin": true,
            "type": "pie"
           }
          ],
          "scatter": [
           {
            "marker": {
             "colorbar": {
              "outlinewidth": 0,
              "ticks": ""
             }
            },
            "type": "scatter"
           }
          ],
          "scatter3d": [
           {
            "line": {
             "colorbar": {
              "outlinewidth": 0,
              "ticks": ""
             }
            },
            "marker": {
             "colorbar": {
              "outlinewidth": 0,
              "ticks": ""
             }
            },
            "type": "scatter3d"
           }
          ],
          "scattercarpet": [
           {
            "marker": {
             "colorbar": {
              "outlinewidth": 0,
              "ticks": ""
             }
            },
            "type": "scattercarpet"
           }
          ],
          "scattergeo": [
           {
            "marker": {
             "colorbar": {
              "outlinewidth": 0,
              "ticks": ""
             }
            },
            "type": "scattergeo"
           }
          ],
          "scattergl": [
           {
            "marker": {
             "colorbar": {
              "outlinewidth": 0,
              "ticks": ""
             }
            },
            "type": "scattergl"
           }
          ],
          "scattermapbox": [
           {
            "marker": {
             "colorbar": {
              "outlinewidth": 0,
              "ticks": ""
             }
            },
            "type": "scattermapbox"
           }
          ],
          "scatterpolar": [
           {
            "marker": {
             "colorbar": {
              "outlinewidth": 0,
              "ticks": ""
             }
            },
            "type": "scatterpolar"
           }
          ],
          "scatterpolargl": [
           {
            "marker": {
             "colorbar": {
              "outlinewidth": 0,
              "ticks": ""
             }
            },
            "type": "scatterpolargl"
           }
          ],
          "scatterternary": [
           {
            "marker": {
             "colorbar": {
              "outlinewidth": 0,
              "ticks": ""
             }
            },
            "type": "scatterternary"
           }
          ],
          "surface": [
           {
            "colorbar": {
             "outlinewidth": 0,
             "ticks": ""
            },
            "colorscale": [
             [
              0,
              "#0d0887"
             ],
             [
              0.1111111111111111,
              "#46039f"
             ],
             [
              0.2222222222222222,
              "#7201a8"
             ],
             [
              0.3333333333333333,
              "#9c179e"
             ],
             [
              0.4444444444444444,
              "#bd3786"
             ],
             [
              0.5555555555555556,
              "#d8576b"
             ],
             [
              0.6666666666666666,
              "#ed7953"
             ],
             [
              0.7777777777777778,
              "#fb9f3a"
             ],
             [
              0.8888888888888888,
              "#fdca26"
             ],
             [
              1,
              "#f0f921"
             ]
            ],
            "type": "surface"
           }
          ],
          "table": [
           {
            "cells": {
             "fill": {
              "color": "#EBF0F8"
             },
             "line": {
              "color": "white"
             }
            },
            "header": {
             "fill": {
              "color": "#C8D4E3"
             },
             "line": {
              "color": "white"
             }
            },
            "type": "table"
           }
          ]
         },
         "layout": {
          "annotationdefaults": {
           "arrowcolor": "#2a3f5f",
           "arrowhead": 0,
           "arrowwidth": 1
          },
          "autotypenumbers": "strict",
          "coloraxis": {
           "colorbar": {
            "outlinewidth": 0,
            "ticks": ""
           }
          },
          "colorscale": {
           "diverging": [
            [
             0,
             "#8e0152"
            ],
            [
             0.1,
             "#c51b7d"
            ],
            [
             0.2,
             "#de77ae"
            ],
            [
             0.3,
             "#f1b6da"
            ],
            [
             0.4,
             "#fde0ef"
            ],
            [
             0.5,
             "#f7f7f7"
            ],
            [
             0.6,
             "#e6f5d0"
            ],
            [
             0.7,
             "#b8e186"
            ],
            [
             0.8,
             "#7fbc41"
            ],
            [
             0.9,
             "#4d9221"
            ],
            [
             1,
             "#276419"
            ]
           ],
           "sequential": [
            [
             0,
             "#0d0887"
            ],
            [
             0.1111111111111111,
             "#46039f"
            ],
            [
             0.2222222222222222,
             "#7201a8"
            ],
            [
             0.3333333333333333,
             "#9c179e"
            ],
            [
             0.4444444444444444,
             "#bd3786"
            ],
            [
             0.5555555555555556,
             "#d8576b"
            ],
            [
             0.6666666666666666,
             "#ed7953"
            ],
            [
             0.7777777777777778,
             "#fb9f3a"
            ],
            [
             0.8888888888888888,
             "#fdca26"
            ],
            [
             1,
             "#f0f921"
            ]
           ],
           "sequentialminus": [
            [
             0,
             "#0d0887"
            ],
            [
             0.1111111111111111,
             "#46039f"
            ],
            [
             0.2222222222222222,
             "#7201a8"
            ],
            [
             0.3333333333333333,
             "#9c179e"
            ],
            [
             0.4444444444444444,
             "#bd3786"
            ],
            [
             0.5555555555555556,
             "#d8576b"
            ],
            [
             0.6666666666666666,
             "#ed7953"
            ],
            [
             0.7777777777777778,
             "#fb9f3a"
            ],
            [
             0.8888888888888888,
             "#fdca26"
            ],
            [
             1,
             "#f0f921"
            ]
           ]
          },
          "colorway": [
           "#636efa",
           "#EF553B",
           "#00cc96",
           "#ab63fa",
           "#FFA15A",
           "#19d3f3",
           "#FF6692",
           "#B6E880",
           "#FF97FF",
           "#FECB52"
          ],
          "font": {
           "color": "#2a3f5f"
          },
          "geo": {
           "bgcolor": "white",
           "lakecolor": "white",
           "landcolor": "#E5ECF6",
           "showlakes": true,
           "showland": true,
           "subunitcolor": "white"
          },
          "hoverlabel": {
           "align": "left"
          },
          "hovermode": "closest",
          "mapbox": {
           "style": "light"
          },
          "paper_bgcolor": "white",
          "plot_bgcolor": "#E5ECF6",
          "polar": {
           "angularaxis": {
            "gridcolor": "white",
            "linecolor": "white",
            "ticks": ""
           },
           "bgcolor": "#E5ECF6",
           "radialaxis": {
            "gridcolor": "white",
            "linecolor": "white",
            "ticks": ""
           }
          },
          "scene": {
           "xaxis": {
            "backgroundcolor": "#E5ECF6",
            "gridcolor": "white",
            "gridwidth": 2,
            "linecolor": "white",
            "showbackground": true,
            "ticks": "",
            "zerolinecolor": "white"
           },
           "yaxis": {
            "backgroundcolor": "#E5ECF6",
            "gridcolor": "white",
            "gridwidth": 2,
            "linecolor": "white",
            "showbackground": true,
            "ticks": "",
            "zerolinecolor": "white"
           },
           "zaxis": {
            "backgroundcolor": "#E5ECF6",
            "gridcolor": "white",
            "gridwidth": 2,
            "linecolor": "white",
            "showbackground": true,
            "ticks": "",
            "zerolinecolor": "white"
           }
          },
          "shapedefaults": {
           "line": {
            "color": "#2a3f5f"
           }
          },
          "ternary": {
           "aaxis": {
            "gridcolor": "white",
            "linecolor": "white",
            "ticks": ""
           },
           "baxis": {
            "gridcolor": "white",
            "linecolor": "white",
            "ticks": ""
           },
           "bgcolor": "#E5ECF6",
           "caxis": {
            "gridcolor": "white",
            "linecolor": "white",
            "ticks": ""
           }
          },
          "title": {
           "x": 0.05
          },
          "xaxis": {
           "automargin": true,
           "gridcolor": "white",
           "linecolor": "white",
           "ticks": "",
           "title": {
            "standoff": 15
           },
           "zerolinecolor": "white",
           "zerolinewidth": 2
          },
          "yaxis": {
           "automargin": true,
           "gridcolor": "white",
           "linecolor": "white",
           "ticks": "",
           "title": {
            "standoff": 15
           },
           "zerolinecolor": "white",
           "zerolinewidth": 2
          }
         }
        },
        "title": {
         "text": "US Export of Plastic Scrap"
        },
        "xaxis": {
         "tickfont": {
          "size": 14
         }
        }
       }
      }
     },
     "metadata": {},
     "output_type": "display_data"
    }
   ],
   "source": [
    "fig = go.Figure()\n",
    "fig.add_trace(go.Bar(x=selected_df['publishDayName'],\n",
    "                y=selected_df['viewCount'],\n",
    "                name='Rest of world',\n",
    "                marker_color='rgb(55, 83, 109)'\n",
    "                ))\n",
    "\n",
    "fig.update_layout(\n",
    "    title='US Export of Plastic Scrap',\n",
    "    xaxis_tickfont_size=14,\n",
    "    bargap=0.15, # gap between bars of adjacent location coordinates.\n",
    "    bargroupgap=0.1 # gap between bars of the same location coordinate.\n",
    ")\n",
    "fig.show()"
   ]
  },
  {
   "cell_type": "code",
   "execution_count": null,
   "metadata": {},
   "outputs": [],
   "source": [
    "fig = go.Figure([go.Bar(x=animals, y=[20, 14, 23])])\n",
    "fig.show()"
   ]
  },
  {
   "cell_type": "code",
   "execution_count": null,
   "metadata": {},
   "outputs": [],
   "source": []
  }
 ],
 "metadata": {
  "kernelspec": {
   "display_name": "Python 3.9.7 ('base')",
   "language": "python",
   "name": "python3"
  },
  "language_info": {
   "codemirror_mode": {
    "name": "ipython",
    "version": 3
   },
   "file_extension": ".py",
   "mimetype": "text/x-python",
   "name": "python",
   "nbconvert_exporter": "python",
   "pygments_lexer": "ipython3",
   "version": "3.9.7"
  },
  "orig_nbformat": 4,
  "vscode": {
   "interpreter": {
    "hash": "78adb8089f1b1ad0b7743184fb6585d3ffc1b6fb4a355aad49fe7003845e53d4"
   }
  }
 },
 "nbformat": 4,
 "nbformat_minor": 2
}
