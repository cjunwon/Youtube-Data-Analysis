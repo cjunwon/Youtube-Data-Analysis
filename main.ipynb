{
 "cells": [
  {
   "cell_type": "markdown",
   "metadata": {},
   "source": [
    "## Data Collection"
   ]
  },
  {
   "cell_type": "markdown",
   "metadata": {},
   "source": [
    "Main data collection is processed by running ['update.py'](https://github.com/cjunwon/Youtube-Data-Analysis/blob/main/update.py) on a Flask ['server.py'](https://github.com/cjunwon/Youtube-Data-Analysis/blob/main/server.py) scheduled through ngrok and Invictify.\n",
    "\n",
    "This collection pipeline automatically updates the AWS MySQL RDS database with up-to-date channel statistics depending on the configured Invictify schedule."
   ]
  },
  {
   "cell_type": "code",
   "execution_count": 71,
   "metadata": {},
   "outputs": [],
   "source": [
    "from MySQL_DB_connect_functions import *\n",
    "from MySQL_DB_update_functions import *\n",
    "from youtube_api_functions import *"
   ]
  },
  {
   "cell_type": "code",
   "execution_count": 72,
   "metadata": {},
   "outputs": [],
   "source": [
    "channel_id_list = ['UCIRYBXDze5krPDzAEOxFGVA'] #TheGuardian\n",
    "channel_id_list = ['UCqnbDFdCpuN8CMEg0VuEBqA'] #NYTimes"
   ]
  },
  {
   "cell_type": "code",
   "execution_count": 73,
   "metadata": {},
   "outputs": [],
   "source": [
    "# using youtube_api_functions.py:\n",
    "youtube_obj = build_yt_API_object() # builds Youtube API object"
   ]
  },
  {
   "cell_type": "code",
   "execution_count": 74,
   "metadata": {},
   "outputs": [],
   "source": [
    "video_df = create_video_df(youtube_obj, channel_id_list, 150) # store API data into pandas df\n",
    "processed_video_df = clean_video_df(video_df) # run df through cleaning function"
   ]
  },
  {
   "cell_type": "code",
   "execution_count": 75,
   "metadata": {},
   "outputs": [
    {
     "data": {
      "text/html": [
       "<div>\n",
       "<style scoped>\n",
       "    .dataframe tbody tr th:only-of-type {\n",
       "        vertical-align: middle;\n",
       "    }\n",
       "\n",
       "    .dataframe tbody tr th {\n",
       "        vertical-align: top;\n",
       "    }\n",
       "\n",
       "    .dataframe thead th {\n",
       "        text-align: right;\n",
       "    }\n",
       "</style>\n",
       "<table border=\"1\" class=\"dataframe\">\n",
       "  <thead>\n",
       "    <tr style=\"text-align: right;\">\n",
       "      <th></th>\n",
       "      <th>video_id</th>\n",
       "      <th>channelTitle</th>\n",
       "      <th>title</th>\n",
       "      <th>description</th>\n",
       "      <th>publishedAt</th>\n",
       "      <th>viewCount</th>\n",
       "      <th>likeCount</th>\n",
       "      <th>favoriteCount</th>\n",
       "      <th>commentCount</th>\n",
       "      <th>caption</th>\n",
       "      <th>publishDayName</th>\n",
       "      <th>durationSecs</th>\n",
       "      <th>tagCount</th>\n",
       "    </tr>\n",
       "  </thead>\n",
       "  <tbody>\n",
       "    <tr>\n",
       "      <th>0</th>\n",
       "      <td>FJvnn0qRWb4</td>\n",
       "      <td>The New York Times</td>\n",
       "      <td>Watch Warriors in Training in ‘The Woman King’...</td>\n",
       "      <td>The intensity of the action epic “The Woman Ki...</td>\n",
       "      <td>2022-09-16</td>\n",
       "      <td>5654.0</td>\n",
       "      <td>231.0</td>\n",
       "      <td>0.0</td>\n",
       "      <td>0.0</td>\n",
       "      <td>1</td>\n",
       "      <td>Friday</td>\n",
       "      <td>119.0</td>\n",
       "      <td>11</td>\n",
       "    </tr>\n",
       "    <tr>\n",
       "      <th>1</th>\n",
       "      <td>O5d1Cclk5QA</td>\n",
       "      <td>The New York Times</td>\n",
       "      <td>I Sold the French Laundry. Then It Became \"The...</td>\n",
       "      <td>When my father died, he held disappointment in...</td>\n",
       "      <td>2022-09-13</td>\n",
       "      <td>54015.0</td>\n",
       "      <td>2372.0</td>\n",
       "      <td>0.0</td>\n",
       "      <td>218.0</td>\n",
       "      <td>1</td>\n",
       "      <td>Tuesday</td>\n",
       "      <td>1233.0</td>\n",
       "      <td>21</td>\n",
       "    </tr>\n",
       "    <tr>\n",
       "      <th>2</th>\n",
       "      <td>ccVH_1g-kCY</td>\n",
       "      <td>The New York Times</td>\n",
       "      <td>OB-GYNs Confront Legal Impact of Abortion Bans...</td>\n",
       "      <td>As anti-abortion laws take effect across the U...</td>\n",
       "      <td>2022-09-12</td>\n",
       "      <td>11695.0</td>\n",
       "      <td>607.0</td>\n",
       "      <td>0.0</td>\n",
       "      <td>318.0</td>\n",
       "      <td>1</td>\n",
       "      <td>Monday</td>\n",
       "      <td>379.0</td>\n",
       "      <td>33</td>\n",
       "    </tr>\n",
       "    <tr>\n",
       "      <th>3</th>\n",
       "      <td>0bw7rJ2eZaA</td>\n",
       "      <td>The New York Times</td>\n",
       "      <td>The Legacy of Elizabeth II: The Media Queen</td>\n",
       "      <td>Queen Elizabeth II, the world’s longest-servin...</td>\n",
       "      <td>2022-09-08</td>\n",
       "      <td>56300.0</td>\n",
       "      <td>2052.0</td>\n",
       "      <td>0.0</td>\n",
       "      <td>377.0</td>\n",
       "      <td>1</td>\n",
       "      <td>Thursday</td>\n",
       "      <td>486.0</td>\n",
       "      <td>19</td>\n",
       "    </tr>\n",
       "    <tr>\n",
       "      <th>4</th>\n",
       "      <td>m5aWtcx02ZI</td>\n",
       "      <td>The New York Times</td>\n",
       "      <td>Jonathan Pie: Welcome to Britain. Everything i...</td>\n",
       "      <td>So Liz Truss will be Britain’s next prime mini...</td>\n",
       "      <td>2022-09-06</td>\n",
       "      <td>885528.0</td>\n",
       "      <td>44682.0</td>\n",
       "      <td>0.0</td>\n",
       "      <td>4990.0</td>\n",
       "      <td>1</td>\n",
       "      <td>Tuesday</td>\n",
       "      <td>401.0</td>\n",
       "      <td>15</td>\n",
       "    </tr>\n",
       "  </tbody>\n",
       "</table>\n",
       "</div>"
      ],
      "text/plain": [
       "      video_id        channelTitle  \\\n",
       "0  FJvnn0qRWb4  The New York Times   \n",
       "1  O5d1Cclk5QA  The New York Times   \n",
       "2  ccVH_1g-kCY  The New York Times   \n",
       "3  0bw7rJ2eZaA  The New York Times   \n",
       "4  m5aWtcx02ZI  The New York Times   \n",
       "\n",
       "                                               title  \\\n",
       "0  Watch Warriors in Training in ‘The Woman King’...   \n",
       "1  I Sold the French Laundry. Then It Became \"The...   \n",
       "2  OB-GYNs Confront Legal Impact of Abortion Bans...   \n",
       "3        The Legacy of Elizabeth II: The Media Queen   \n",
       "4  Jonathan Pie: Welcome to Britain. Everything i...   \n",
       "\n",
       "                                         description publishedAt  viewCount  \\\n",
       "0  The intensity of the action epic “The Woman Ki...  2022-09-16     5654.0   \n",
       "1  When my father died, he held disappointment in...  2022-09-13    54015.0   \n",
       "2  As anti-abortion laws take effect across the U...  2022-09-12    11695.0   \n",
       "3  Queen Elizabeth II, the world’s longest-servin...  2022-09-08    56300.0   \n",
       "4  So Liz Truss will be Britain’s next prime mini...  2022-09-06   885528.0   \n",
       "\n",
       "   likeCount  favoriteCount  commentCount  caption publishDayName  \\\n",
       "0      231.0            0.0           0.0        1         Friday   \n",
       "1     2372.0            0.0         218.0        1        Tuesday   \n",
       "2      607.0            0.0         318.0        1         Monday   \n",
       "3     2052.0            0.0         377.0        1       Thursday   \n",
       "4    44682.0            0.0        4990.0        1        Tuesday   \n",
       "\n",
       "   durationSecs  tagCount  \n",
       "0         119.0        11  \n",
       "1        1233.0        21  \n",
       "2         379.0        33  \n",
       "3         486.0        19  \n",
       "4         401.0        15  "
      ]
     },
     "execution_count": 75,
     "metadata": {},
     "output_type": "execute_result"
    }
   ],
   "source": [
    "processed_video_df.head()"
   ]
  },
  {
   "cell_type": "code",
   "execution_count": 76,
   "metadata": {},
   "outputs": [],
   "source": [
    "selected_df = processed_video_df.query('viewCount > 5000 & commentCount > 500')"
   ]
  },
  {
   "cell_type": "code",
   "execution_count": 77,
   "metadata": {},
   "outputs": [
    {
     "data": {
      "text/plain": [
       "68"
      ]
     },
     "execution_count": 77,
     "metadata": {},
     "output_type": "execute_result"
    }
   ],
   "source": [
    "len(selected_df)"
   ]
  },
  {
   "cell_type": "code",
   "execution_count": 78,
   "metadata": {},
   "outputs": [
    {
     "data": {
      "text/html": [
       "<div>\n",
       "<style scoped>\n",
       "    .dataframe tbody tr th:only-of-type {\n",
       "        vertical-align: middle;\n",
       "    }\n",
       "\n",
       "    .dataframe tbody tr th {\n",
       "        vertical-align: top;\n",
       "    }\n",
       "\n",
       "    .dataframe thead th {\n",
       "        text-align: right;\n",
       "    }\n",
       "</style>\n",
       "<table border=\"1\" class=\"dataframe\">\n",
       "  <thead>\n",
       "    <tr style=\"text-align: right;\">\n",
       "      <th></th>\n",
       "      <th>video_id</th>\n",
       "      <th>channelTitle</th>\n",
       "      <th>title</th>\n",
       "      <th>description</th>\n",
       "      <th>publishedAt</th>\n",
       "      <th>viewCount</th>\n",
       "      <th>likeCount</th>\n",
       "      <th>favoriteCount</th>\n",
       "      <th>commentCount</th>\n",
       "      <th>caption</th>\n",
       "      <th>publishDayName</th>\n",
       "      <th>durationSecs</th>\n",
       "      <th>tagCount</th>\n",
       "    </tr>\n",
       "  </thead>\n",
       "  <tbody>\n",
       "    <tr>\n",
       "      <th>4</th>\n",
       "      <td>m5aWtcx02ZI</td>\n",
       "      <td>The New York Times</td>\n",
       "      <td>Jonathan Pie: Welcome to Britain. Everything i...</td>\n",
       "      <td>So Liz Truss will be Britain’s next prime mini...</td>\n",
       "      <td>2022-09-06</td>\n",
       "      <td>885528.0</td>\n",
       "      <td>44682.0</td>\n",
       "      <td>0.0</td>\n",
       "      <td>4990.0</td>\n",
       "      <td>1</td>\n",
       "      <td>Tuesday</td>\n",
       "      <td>401.0</td>\n",
       "      <td>15</td>\n",
       "    </tr>\n",
       "    <tr>\n",
       "      <th>9</th>\n",
       "      <td>eMGqvUZjkH8</td>\n",
       "      <td>The New York Times</td>\n",
       "      <td>Kill Your Lawn | NYT Opinion</td>\n",
       "      <td>Seen from above, it’s not the undulating rows ...</td>\n",
       "      <td>2022-08-09</td>\n",
       "      <td>86238.0</td>\n",
       "      <td>3617.0</td>\n",
       "      <td>0.0</td>\n",
       "      <td>582.0</td>\n",
       "      <td>1</td>\n",
       "      <td>Tuesday</td>\n",
       "      <td>321.0</td>\n",
       "      <td>20</td>\n",
       "    </tr>\n",
       "    <tr>\n",
       "      <th>14</th>\n",
       "      <td>RilwnjDwTOc</td>\n",
       "      <td>The New York Times</td>\n",
       "      <td>We Debunk the Latest Corporate Climate Lie | N...</td>\n",
       "      <td>Finally, corporations are jumping into action ...</td>\n",
       "      <td>2022-07-14</td>\n",
       "      <td>282818.0</td>\n",
       "      <td>13268.0</td>\n",
       "      <td>0.0</td>\n",
       "      <td>1586.0</td>\n",
       "      <td>1</td>\n",
       "      <td>Thursday</td>\n",
       "      <td>288.0</td>\n",
       "      <td>17</td>\n",
       "    </tr>\n",
       "    <tr>\n",
       "      <th>17</th>\n",
       "      <td>tjIgYs81mB8</td>\n",
       "      <td>The New York Times</td>\n",
       "      <td>How I Had an Abortion at Home in Texas | NYT O...</td>\n",
       "      <td>This is the true story of a 27-year-old Texas ...</td>\n",
       "      <td>2022-06-29</td>\n",
       "      <td>284347.0</td>\n",
       "      <td>8819.0</td>\n",
       "      <td>0.0</td>\n",
       "      <td>7767.0</td>\n",
       "      <td>1</td>\n",
       "      <td>Wednesday</td>\n",
       "      <td>475.0</td>\n",
       "      <td>16</td>\n",
       "    </tr>\n",
       "    <tr>\n",
       "      <th>20</th>\n",
       "      <td>Oo_FM3mjBCY</td>\n",
       "      <td>The New York Times</td>\n",
       "      <td>How China’s Surveillance Is Growing More Invas...</td>\n",
       "      <td>A New York Times analysis of over 100,000 gove...</td>\n",
       "      <td>2022-06-22</td>\n",
       "      <td>258147.0</td>\n",
       "      <td>9793.0</td>\n",
       "      <td>0.0</td>\n",
       "      <td>1543.0</td>\n",
       "      <td>1</td>\n",
       "      <td>Wednesday</td>\n",
       "      <td>867.0</td>\n",
       "      <td>44</td>\n",
       "    </tr>\n",
       "    <tr>\n",
       "      <th>...</th>\n",
       "      <td>...</td>\n",
       "      <td>...</td>\n",
       "      <td>...</td>\n",
       "      <td>...</td>\n",
       "      <td>...</td>\n",
       "      <td>...</td>\n",
       "      <td>...</td>\n",
       "      <td>...</td>\n",
       "      <td>...</td>\n",
       "      <td>...</td>\n",
       "      <td>...</td>\n",
       "      <td>...</td>\n",
       "      <td>...</td>\n",
       "    </tr>\n",
       "    <tr>\n",
       "      <th>141</th>\n",
       "      <td>NOJzyvOrh8I</td>\n",
       "      <td>The New York Times</td>\n",
       "      <td>A Letter From Death Row: Gov. Abbott, Will You...</td>\n",
       "      <td>Quintin Jones, an inmate on death row in Texas...</td>\n",
       "      <td>2021-05-10</td>\n",
       "      <td>70103.0</td>\n",
       "      <td>1960.0</td>\n",
       "      <td>0.0</td>\n",
       "      <td>863.0</td>\n",
       "      <td>0</td>\n",
       "      <td>Monday</td>\n",
       "      <td>247.0</td>\n",
       "      <td>12</td>\n",
       "    </tr>\n",
       "    <tr>\n",
       "      <th>145</th>\n",
       "      <td>DlnfiULnmMY</td>\n",
       "      <td>The New York Times</td>\n",
       "      <td>Inside the Daily Life of a Live Streaming Star...</td>\n",
       "      <td>Over the past year, as Covid-19 has severely l...</td>\n",
       "      <td>2021-04-29</td>\n",
       "      <td>2061443.0</td>\n",
       "      <td>47979.0</td>\n",
       "      <td>0.0</td>\n",
       "      <td>4139.0</td>\n",
       "      <td>0</td>\n",
       "      <td>Thursday</td>\n",
       "      <td>770.0</td>\n",
       "      <td>21</td>\n",
       "    </tr>\n",
       "    <tr>\n",
       "      <th>146</th>\n",
       "      <td>EBklyksgbco</td>\n",
       "      <td>The New York Times</td>\n",
       "      <td>What Does U.S. Health Care Look Like Abroad? |...</td>\n",
       "      <td>Byzantine health plans. Impoverishing deductib...</td>\n",
       "      <td>2021-04-28</td>\n",
       "      <td>978447.0</td>\n",
       "      <td>30908.0</td>\n",
       "      <td>0.0</td>\n",
       "      <td>9999.0</td>\n",
       "      <td>1</td>\n",
       "      <td>Wednesday</td>\n",
       "      <td>374.0</td>\n",
       "      <td>8</td>\n",
       "    </tr>\n",
       "    <tr>\n",
       "      <th>147</th>\n",
       "      <td>_PSBQvxVuoY</td>\n",
       "      <td>The New York Times</td>\n",
       "      <td>How ICE’s Mishandling of Covid-19 Fueled Outbr...</td>\n",
       "      <td>To date, Immigration and Customs Enforcement h...</td>\n",
       "      <td>2021-04-26</td>\n",
       "      <td>52550.0</td>\n",
       "      <td>701.0</td>\n",
       "      <td>0.0</td>\n",
       "      <td>683.0</td>\n",
       "      <td>1</td>\n",
       "      <td>Monday</td>\n",
       "      <td>880.0</td>\n",
       "      <td>28</td>\n",
       "    </tr>\n",
       "    <tr>\n",
       "      <th>149</th>\n",
       "      <td>O-g4XGPlGZU</td>\n",
       "      <td>The New York Times</td>\n",
       "      <td>Living With the Daunte Wright Protests at the ...</td>\n",
       "      <td>For the past several nights, Ebonie McMillan a...</td>\n",
       "      <td>2021-04-19</td>\n",
       "      <td>42112.0</td>\n",
       "      <td>1068.0</td>\n",
       "      <td>0.0</td>\n",
       "      <td>509.0</td>\n",
       "      <td>1</td>\n",
       "      <td>Monday</td>\n",
       "      <td>280.0</td>\n",
       "      <td>22</td>\n",
       "    </tr>\n",
       "  </tbody>\n",
       "</table>\n",
       "<p>68 rows × 13 columns</p>\n",
       "</div>"
      ],
      "text/plain": [
       "        video_id        channelTitle  \\\n",
       "4    m5aWtcx02ZI  The New York Times   \n",
       "9    eMGqvUZjkH8  The New York Times   \n",
       "14   RilwnjDwTOc  The New York Times   \n",
       "17   tjIgYs81mB8  The New York Times   \n",
       "20   Oo_FM3mjBCY  The New York Times   \n",
       "..           ...                 ...   \n",
       "141  NOJzyvOrh8I  The New York Times   \n",
       "145  DlnfiULnmMY  The New York Times   \n",
       "146  EBklyksgbco  The New York Times   \n",
       "147  _PSBQvxVuoY  The New York Times   \n",
       "149  O-g4XGPlGZU  The New York Times   \n",
       "\n",
       "                                                 title  \\\n",
       "4    Jonathan Pie: Welcome to Britain. Everything i...   \n",
       "9                         Kill Your Lawn | NYT Opinion   \n",
       "14   We Debunk the Latest Corporate Climate Lie | N...   \n",
       "17   How I Had an Abortion at Home in Texas | NYT O...   \n",
       "20   How China’s Surveillance Is Growing More Invas...   \n",
       "..                                                 ...   \n",
       "141  A Letter From Death Row: Gov. Abbott, Will You...   \n",
       "145  Inside the Daily Life of a Live Streaming Star...   \n",
       "146  What Does U.S. Health Care Look Like Abroad? |...   \n",
       "147  How ICE’s Mishandling of Covid-19 Fueled Outbr...   \n",
       "149  Living With the Daunte Wright Protests at the ...   \n",
       "\n",
       "                                           description publishedAt  viewCount  \\\n",
       "4    So Liz Truss will be Britain’s next prime mini...  2022-09-06   885528.0   \n",
       "9    Seen from above, it’s not the undulating rows ...  2022-08-09    86238.0   \n",
       "14   Finally, corporations are jumping into action ...  2022-07-14   282818.0   \n",
       "17   This is the true story of a 27-year-old Texas ...  2022-06-29   284347.0   \n",
       "20   A New York Times analysis of over 100,000 gove...  2022-06-22   258147.0   \n",
       "..                                                 ...         ...        ...   \n",
       "141  Quintin Jones, an inmate on death row in Texas...  2021-05-10    70103.0   \n",
       "145  Over the past year, as Covid-19 has severely l...  2021-04-29  2061443.0   \n",
       "146  Byzantine health plans. Impoverishing deductib...  2021-04-28   978447.0   \n",
       "147  To date, Immigration and Customs Enforcement h...  2021-04-26    52550.0   \n",
       "149  For the past several nights, Ebonie McMillan a...  2021-04-19    42112.0   \n",
       "\n",
       "     likeCount  favoriteCount  commentCount  caption publishDayName  \\\n",
       "4      44682.0            0.0        4990.0        1        Tuesday   \n",
       "9       3617.0            0.0         582.0        1        Tuesday   \n",
       "14     13268.0            0.0        1586.0        1       Thursday   \n",
       "17      8819.0            0.0        7767.0        1      Wednesday   \n",
       "20      9793.0            0.0        1543.0        1      Wednesday   \n",
       "..         ...            ...           ...      ...            ...   \n",
       "141     1960.0            0.0         863.0        0         Monday   \n",
       "145    47979.0            0.0        4139.0        0       Thursday   \n",
       "146    30908.0            0.0        9999.0        1      Wednesday   \n",
       "147      701.0            0.0         683.0        1         Monday   \n",
       "149     1068.0            0.0         509.0        1         Monday   \n",
       "\n",
       "     durationSecs  tagCount  \n",
       "4           401.0        15  \n",
       "9           321.0        20  \n",
       "14          288.0        17  \n",
       "17          475.0        16  \n",
       "20          867.0        44  \n",
       "..            ...       ...  \n",
       "141         247.0        12  \n",
       "145         770.0        21  \n",
       "146         374.0         8  \n",
       "147         880.0        28  \n",
       "149         280.0        22  \n",
       "\n",
       "[68 rows x 13 columns]"
      ]
     },
     "execution_count": 78,
     "metadata": {},
     "output_type": "execute_result"
    }
   ],
   "source": [
    "selected_df"
   ]
  },
  {
   "cell_type": "code",
   "execution_count": 79,
   "metadata": {},
   "outputs": [],
   "source": [
    "video_ids = list(selected_df['video_id'])"
   ]
  },
  {
   "cell_type": "code",
   "execution_count": 80,
   "metadata": {},
   "outputs": [
    {
     "data": {
      "text/plain": [
       "['m5aWtcx02ZI',\n",
       " 'eMGqvUZjkH8',\n",
       " 'RilwnjDwTOc',\n",
       " 'tjIgYs81mB8',\n",
       " 'Oo_FM3mjBCY',\n",
       " '2D_Ogifqm2c',\n",
       " '-DfLbrUa5Ng',\n",
       " '9RnjVFZoHuc',\n",
       " 'v1_ilS5zku8',\n",
       " 'j4qwMGd2wmQ',\n",
       " 'pCCTf17ZiIs',\n",
       " 'Wr7BrKOX6bE',\n",
       " 'ODU_QasrkcQ',\n",
       " 'N04aLpZ0SJ8',\n",
       " 'pCnlxfBgq4o',\n",
       " 'ww8PjviNPfw',\n",
       " 'gCldVMfFim8',\n",
       " 'Ws0mMP7uM34',\n",
       " 'gOmYi96cU1M',\n",
       " 'n54Jyt_P0FY',\n",
       " 'AoFdE0ssDSA',\n",
       " 'H8zDt4VKkVY',\n",
       " 'YAblAQENQhE',\n",
       " '8BtPV1gIaJs',\n",
       " 'ifhD-ZGChr8',\n",
       " 'C1kTEit6-qw',\n",
       " 'gCS9Nlkq5ng',\n",
       " '7xml90IvQJ0',\n",
       " 'm6xE7rieXU0',\n",
       " 'GkSsC6aCFbU',\n",
       " 'QS7kUqKeg_0',\n",
       " 'kOcLyyVyb6o',\n",
       " '0ilKQRXySg8',\n",
       " 'PrDyii0P4DU',\n",
       " 'mX5ObMEVurM',\n",
       " 'zyA68Gs1Mto',\n",
       " 'hNDgcjVGHIw',\n",
       " 'VpTW2AJE9MQ',\n",
       " '2axbxYbWLmk',\n",
       " 'iXKZtAiOPQE',\n",
       " 'nRFVR_JpxDc',\n",
       " 'q0hqnMUi3NA',\n",
       " 'w8l4iI40ues',\n",
       " 'ZtecNyXxb9A',\n",
       " '8dCuSBJtZlk',\n",
       " 'G6ZkONEx2Kw',\n",
       " 'g8FdEvyyZhs',\n",
       " 'YhyN0ve1PYI',\n",
       " 'pd8P12BXebo',\n",
       " 'LpYhU4kR7TU',\n",
       " 'i9pwJF6n720',\n",
       " 'NDW9zKqvPJI',\n",
       " '4P_L_088Diw',\n",
       " 'TjxC-evzxdk',\n",
       " 's6GxHgbvmaI',\n",
       " 'vPFkcoTfr7g',\n",
       " '4fYpvhMgQ_4',\n",
       " 'jWJVMoe7OY0',\n",
       " 'rrYHge7tqsQ',\n",
       " '07WZH-RIe_U',\n",
       " 'V83mytQX37A',\n",
       " '5e7QWV9LB_c',\n",
       " 'ZuL_3dGpqkk',\n",
       " 'NOJzyvOrh8I',\n",
       " 'DlnfiULnmMY',\n",
       " 'EBklyksgbco',\n",
       " '_PSBQvxVuoY',\n",
       " 'O-g4XGPlGZU']"
      ]
     },
     "execution_count": 80,
     "metadata": {},
     "output_type": "execute_result"
    }
   ],
   "source": [
    "video_ids"
   ]
  },
  {
   "cell_type": "code",
   "execution_count": 81,
   "metadata": {},
   "outputs": [],
   "source": [
    "all_comments_df = pd.DataFrame()\n",
    "for video in video_ids:\n",
    "    comment_data = get_video_comments(youtube_obj, video)\n",
    "    all_comments_df = all_comments_df.append(comment_data, ignore_index=True)"
   ]
  },
  {
   "cell_type": "code",
   "execution_count": 82,
   "metadata": {},
   "outputs": [
    {
     "data": {
      "text/html": [
       "<div>\n",
       "<style scoped>\n",
       "    .dataframe tbody tr th:only-of-type {\n",
       "        vertical-align: middle;\n",
       "    }\n",
       "\n",
       "    .dataframe tbody tr th {\n",
       "        vertical-align: top;\n",
       "    }\n",
       "\n",
       "    .dataframe thead th {\n",
       "        text-align: right;\n",
       "    }\n",
       "</style>\n",
       "<table border=\"1\" class=\"dataframe\">\n",
       "  <thead>\n",
       "    <tr style=\"text-align: right;\">\n",
       "      <th></th>\n",
       "      <th>video_id</th>\n",
       "      <th>comment_id</th>\n",
       "      <th>comment</th>\n",
       "      <th>date</th>\n",
       "    </tr>\n",
       "  </thead>\n",
       "  <tbody>\n",
       "    <tr>\n",
       "      <th>0</th>\n",
       "      <td>m5aWtcx02ZI</td>\n",
       "      <td>UgxufqRCtXh89VL-mfp4AaABAg</td>\n",
       "      <td>Though we walk through the valley of death, so...</td>\n",
       "      <td>2022-09-15T23:18:04Z</td>\n",
       "    </tr>\n",
       "    <tr>\n",
       "      <th>1</th>\n",
       "      <td>m5aWtcx02ZI</td>\n",
       "      <td>UgwUecmtXM7o_sFXgo14AaABAg</td>\n",
       "      <td>As a citizen of burgerland, I can confirm Brit...</td>\n",
       "      <td>2022-09-15T22:42:25Z</td>\n",
       "    </tr>\n",
       "    <tr>\n",
       "      <th>2</th>\n",
       "      <td>m5aWtcx02ZI</td>\n",
       "      <td>Ugydc96B5N4nXidOG0h4AaABAg</td>\n",
       "      <td>Really boring. Yet another 'I hate the British...</td>\n",
       "      <td>2022-09-15T22:17:28Z</td>\n",
       "    </tr>\n",
       "    <tr>\n",
       "      <th>3</th>\n",
       "      <td>m5aWtcx02ZI</td>\n",
       "      <td>UgzxQz_m_QuKjo82Jy94AaABAg</td>\n",
       "      <td>very surprised yall had him on.\\nvery progress...</td>\n",
       "      <td>2022-09-15T21:45:34Z</td>\n",
       "    </tr>\n",
       "    <tr>\n",
       "      <th>4</th>\n",
       "      <td>m5aWtcx02ZI</td>\n",
       "      <td>UgykCYZTg5fHmL0FcGZ4AaABAg</td>\n",
       "      <td>The New York Times taking the opportunity to p...</td>\n",
       "      <td>2022-09-15T21:26:09Z</td>\n",
       "    </tr>\n",
       "  </tbody>\n",
       "</table>\n",
       "</div>"
      ],
      "text/plain": [
       "      video_id                  comment_id  \\\n",
       "0  m5aWtcx02ZI  UgxufqRCtXh89VL-mfp4AaABAg   \n",
       "1  m5aWtcx02ZI  UgwUecmtXM7o_sFXgo14AaABAg   \n",
       "2  m5aWtcx02ZI  Ugydc96B5N4nXidOG0h4AaABAg   \n",
       "3  m5aWtcx02ZI  UgzxQz_m_QuKjo82Jy94AaABAg   \n",
       "4  m5aWtcx02ZI  UgykCYZTg5fHmL0FcGZ4AaABAg   \n",
       "\n",
       "                                             comment                  date  \n",
       "0  Though we walk through the valley of death, so...  2022-09-15T23:18:04Z  \n",
       "1  As a citizen of burgerland, I can confirm Brit...  2022-09-15T22:42:25Z  \n",
       "2  Really boring. Yet another 'I hate the British...  2022-09-15T22:17:28Z  \n",
       "3  very surprised yall had him on.\\nvery progress...  2022-09-15T21:45:34Z  \n",
       "4  The New York Times taking the opportunity to p...  2022-09-15T21:26:09Z  "
      ]
     },
     "execution_count": 82,
     "metadata": {},
     "output_type": "execute_result"
    }
   ],
   "source": [
    "all_comments_df.head()"
   ]
  },
  {
   "cell_type": "code",
   "execution_count": 83,
   "metadata": {},
   "outputs": [
    {
     "data": {
      "text/plain": [
       "'very surprised yall had him on.\\nvery progressive.'"
      ]
     },
     "execution_count": 83,
     "metadata": {},
     "output_type": "execute_result"
    }
   ],
   "source": [
    "all_comments_df['comment'][3]"
   ]
  },
  {
   "cell_type": "markdown",
   "metadata": {},
   "source": [
    "## Comment Data Cleaning"
   ]
  },
  {
   "cell_type": "code",
   "execution_count": 84,
   "metadata": {},
   "outputs": [],
   "source": [
    "def preprocess(comment):\n",
    "    comment = comment.str.replace(\"\\n\", \" \") # remove new lines \n",
    "    return comment\n",
    "\n",
    "all_comments_df['comment'] = preprocess(all_comments_df['comment'])"
   ]
  },
  {
   "cell_type": "code",
   "execution_count": 85,
   "metadata": {},
   "outputs": [
    {
     "data": {
      "text/html": [
       "<div>\n",
       "<style scoped>\n",
       "    .dataframe tbody tr th:only-of-type {\n",
       "        vertical-align: middle;\n",
       "    }\n",
       "\n",
       "    .dataframe tbody tr th {\n",
       "        vertical-align: top;\n",
       "    }\n",
       "\n",
       "    .dataframe thead th {\n",
       "        text-align: right;\n",
       "    }\n",
       "</style>\n",
       "<table border=\"1\" class=\"dataframe\">\n",
       "  <thead>\n",
       "    <tr style=\"text-align: right;\">\n",
       "      <th></th>\n",
       "      <th>video_id</th>\n",
       "      <th>comment_id</th>\n",
       "      <th>comment</th>\n",
       "      <th>date</th>\n",
       "    </tr>\n",
       "  </thead>\n",
       "  <tbody>\n",
       "    <tr>\n",
       "      <th>0</th>\n",
       "      <td>m5aWtcx02ZI</td>\n",
       "      <td>UgxufqRCtXh89VL-mfp4AaABAg</td>\n",
       "      <td>Though we walk through the valley of death, so...</td>\n",
       "      <td>2022-09-15T23:18:04Z</td>\n",
       "    </tr>\n",
       "    <tr>\n",
       "      <th>1</th>\n",
       "      <td>m5aWtcx02ZI</td>\n",
       "      <td>UgwUecmtXM7o_sFXgo14AaABAg</td>\n",
       "      <td>As a citizen of burgerland, I can confirm Brit...</td>\n",
       "      <td>2022-09-15T22:42:25Z</td>\n",
       "    </tr>\n",
       "    <tr>\n",
       "      <th>2</th>\n",
       "      <td>m5aWtcx02ZI</td>\n",
       "      <td>Ugydc96B5N4nXidOG0h4AaABAg</td>\n",
       "      <td>Really boring. Yet another 'I hate the British...</td>\n",
       "      <td>2022-09-15T22:17:28Z</td>\n",
       "    </tr>\n",
       "    <tr>\n",
       "      <th>3</th>\n",
       "      <td>m5aWtcx02ZI</td>\n",
       "      <td>UgzxQz_m_QuKjo82Jy94AaABAg</td>\n",
       "      <td>very surprised yall had him on. very progressive.</td>\n",
       "      <td>2022-09-15T21:45:34Z</td>\n",
       "    </tr>\n",
       "    <tr>\n",
       "      <th>4</th>\n",
       "      <td>m5aWtcx02ZI</td>\n",
       "      <td>UgykCYZTg5fHmL0FcGZ4AaABAg</td>\n",
       "      <td>The New York Times taking the opportunity to p...</td>\n",
       "      <td>2022-09-15T21:26:09Z</td>\n",
       "    </tr>\n",
       "    <tr>\n",
       "      <th>...</th>\n",
       "      <td>...</td>\n",
       "      <td>...</td>\n",
       "      <td>...</td>\n",
       "      <td>...</td>\n",
       "    </tr>\n",
       "    <tr>\n",
       "      <th>6794</th>\n",
       "      <td>O-g4XGPlGZU</td>\n",
       "      <td>Ugz6NcYNCahq9SOIE9Z4AaABAg</td>\n",
       "      <td>While the kid didn't deserve to die, he should...</td>\n",
       "      <td>2021-04-20T06:07:19Z</td>\n",
       "    </tr>\n",
       "    <tr>\n",
       "      <th>6795</th>\n",
       "      <td>O-g4XGPlGZU</td>\n",
       "      <td>UgxfHiY17I4ZvHz9Ltl4AaABAg</td>\n",
       "      <td>Maybe if you register your car and not have a ...</td>\n",
       "      <td>2021-04-20T06:05:00Z</td>\n",
       "    </tr>\n",
       "    <tr>\n",
       "      <th>6796</th>\n",
       "      <td>O-g4XGPlGZU</td>\n",
       "      <td>Ugz1oE-OHjtlzX6zkLN4AaABAg</td>\n",
       "      <td>Tell me how you look at the body cam seeing hi...</td>\n",
       "      <td>2021-04-20T06:02:22Z</td>\n",
       "    </tr>\n",
       "    <tr>\n",
       "      <th>6797</th>\n",
       "      <td>O-g4XGPlGZU</td>\n",
       "      <td>UgxdBZrhn_NWDP_xDuF4AaABAg</td>\n",
       "      <td>The racist people in these comments genuinely ...</td>\n",
       "      <td>2021-04-20T05:56:56Z</td>\n",
       "    </tr>\n",
       "    <tr>\n",
       "      <th>6798</th>\n",
       "      <td>O-g4XGPlGZU</td>\n",
       "      <td>Ugy4sMVhXNxw4DTSnSp4AaABAg</td>\n",
       "      <td>As to date on the Go Fund Me, a whopping $931,...</td>\n",
       "      <td>2021-04-20T05:56:52Z</td>\n",
       "    </tr>\n",
       "  </tbody>\n",
       "</table>\n",
       "<p>6799 rows × 4 columns</p>\n",
       "</div>"
      ],
      "text/plain": [
       "         video_id                  comment_id  \\\n",
       "0     m5aWtcx02ZI  UgxufqRCtXh89VL-mfp4AaABAg   \n",
       "1     m5aWtcx02ZI  UgwUecmtXM7o_sFXgo14AaABAg   \n",
       "2     m5aWtcx02ZI  Ugydc96B5N4nXidOG0h4AaABAg   \n",
       "3     m5aWtcx02ZI  UgzxQz_m_QuKjo82Jy94AaABAg   \n",
       "4     m5aWtcx02ZI  UgykCYZTg5fHmL0FcGZ4AaABAg   \n",
       "...           ...                         ...   \n",
       "6794  O-g4XGPlGZU  Ugz6NcYNCahq9SOIE9Z4AaABAg   \n",
       "6795  O-g4XGPlGZU  UgxfHiY17I4ZvHz9Ltl4AaABAg   \n",
       "6796  O-g4XGPlGZU  Ugz1oE-OHjtlzX6zkLN4AaABAg   \n",
       "6797  O-g4XGPlGZU  UgxdBZrhn_NWDP_xDuF4AaABAg   \n",
       "6798  O-g4XGPlGZU  Ugy4sMVhXNxw4DTSnSp4AaABAg   \n",
       "\n",
       "                                                comment                  date  \n",
       "0     Though we walk through the valley of death, so...  2022-09-15T23:18:04Z  \n",
       "1     As a citizen of burgerland, I can confirm Brit...  2022-09-15T22:42:25Z  \n",
       "2     Really boring. Yet another 'I hate the British...  2022-09-15T22:17:28Z  \n",
       "3     very surprised yall had him on. very progressive.  2022-09-15T21:45:34Z  \n",
       "4     The New York Times taking the opportunity to p...  2022-09-15T21:26:09Z  \n",
       "...                                                 ...                   ...  \n",
       "6794  While the kid didn't deserve to die, he should...  2021-04-20T06:07:19Z  \n",
       "6795  Maybe if you register your car and not have a ...  2021-04-20T06:05:00Z  \n",
       "6796  Tell me how you look at the body cam seeing hi...  2021-04-20T06:02:22Z  \n",
       "6797  The racist people in these comments genuinely ...  2021-04-20T05:56:56Z  \n",
       "6798  As to date on the Go Fund Me, a whopping $931,...  2021-04-20T05:56:52Z  \n",
       "\n",
       "[6799 rows x 4 columns]"
      ]
     },
     "execution_count": 85,
     "metadata": {},
     "output_type": "execute_result"
    }
   ],
   "source": [
    "all_comments_df"
   ]
  },
  {
   "cell_type": "code",
   "execution_count": 96,
   "metadata": {},
   "outputs": [
    {
     "data": {
      "text/plain": [
       "'very surprised yall had him on. very progressive.'"
      ]
     },
     "execution_count": 96,
     "metadata": {},
     "output_type": "execute_result"
    }
   ],
   "source": [
    "all_comments_df['comment'][3]"
   ]
  },
  {
   "cell_type": "code",
   "execution_count": 86,
   "metadata": {},
   "outputs": [],
   "source": [
    "import nltk\n",
    "from nltk.sentiment import SentimentIntensityAnalyzer\n",
    "sia = SentimentIntensityAnalyzer()"
   ]
  },
  {
   "cell_type": "code",
   "execution_count": 87,
   "metadata": {},
   "outputs": [],
   "source": [
    "all_comments_df['vader_sentiment'] = all_comments_df.comment.apply(lambda x: sia.polarity_scores(x))\n",
    "all_comments_df['vader_comp_sentiment'] = all_comments_df.vader_sentiment.apply(lambda x: x['compound'])"
   ]
  },
  {
   "cell_type": "code",
   "execution_count": 88,
   "metadata": {},
   "outputs": [
    {
     "data": {
      "text/plain": [
       "-0.012761053096043577"
      ]
     },
     "execution_count": 88,
     "metadata": {},
     "output_type": "execute_result"
    }
   ],
   "source": [
    "all_comments_df['vader_comp_sentiment'].mean()"
   ]
  },
  {
   "cell_type": "code",
   "execution_count": 89,
   "metadata": {},
   "outputs": [],
   "source": [
    "video_comp_sentiments = pd.DataFrame(columns=['video_id', 'vid_title', 'avg_comp_sentiment', 'vid_viewcount'])\n",
    "for video in video_ids:\n",
    "    comment_data = get_video_comments(youtube_obj, video)\n",
    "    comment_data['vader_sentiment'] = comment_data.comment.apply(lambda x: sia.polarity_scores(x))\n",
    "    comment_data['vader_comp_sentiment'] = comment_data.vader_sentiment.apply(lambda x: x['compound'])\n",
    "    comp_mean = comment_data['vader_comp_sentiment'].mean()\n",
    "\n",
    "    vid_title = processed_video_df.loc[processed_video_df['video_id'] == video, 'title'].item()\n",
    "    vid_viewcount = processed_video_df.loc[processed_video_df['video_id'] == video, 'viewCount'].item()\n",
    "    vid_likecount = processed_video_df.loc[processed_video_df['video_id'] == video, 'likeCount'].item()\n",
    "\n",
    "    dict = {'video_id': video,\n",
    "            'vid_title': vid_title,\n",
    "            'avg_comp_sentiment': comp_mean,\n",
    "            'vid_viewcount': vid_viewcount,\n",
    "            'vid_likecount': vid_likecount\n",
    "            }\n",
    "\n",
    "    video_comp_sentiments = video_comp_sentiments.append(dict, ignore_index=True)\n",
    "    "
   ]
  },
  {
   "cell_type": "code",
   "execution_count": 90,
   "metadata": {},
   "outputs": [
    {
     "data": {
      "text/html": [
       "<div>\n",
       "<style scoped>\n",
       "    .dataframe tbody tr th:only-of-type {\n",
       "        vertical-align: middle;\n",
       "    }\n",
       "\n",
       "    .dataframe tbody tr th {\n",
       "        vertical-align: top;\n",
       "    }\n",
       "\n",
       "    .dataframe thead th {\n",
       "        text-align: right;\n",
       "    }\n",
       "</style>\n",
       "<table border=\"1\" class=\"dataframe\">\n",
       "  <thead>\n",
       "    <tr style=\"text-align: right;\">\n",
       "      <th></th>\n",
       "      <th>video_id</th>\n",
       "      <th>vid_title</th>\n",
       "      <th>avg_comp_sentiment</th>\n",
       "      <th>vid_viewcount</th>\n",
       "      <th>vid_likecount</th>\n",
       "    </tr>\n",
       "  </thead>\n",
       "  <tbody>\n",
       "    <tr>\n",
       "      <th>0</th>\n",
       "      <td>m5aWtcx02ZI</td>\n",
       "      <td>Jonathan Pie: Welcome to Britain. Everything i...</td>\n",
       "      <td>0.040505</td>\n",
       "      <td>885528.0</td>\n",
       "      <td>44682.0</td>\n",
       "    </tr>\n",
       "    <tr>\n",
       "      <th>1</th>\n",
       "      <td>eMGqvUZjkH8</td>\n",
       "      <td>Kill Your Lawn | NYT Opinion</td>\n",
       "      <td>0.118600</td>\n",
       "      <td>86238.0</td>\n",
       "      <td>3617.0</td>\n",
       "    </tr>\n",
       "    <tr>\n",
       "      <th>2</th>\n",
       "      <td>RilwnjDwTOc</td>\n",
       "      <td>We Debunk the Latest Corporate Climate Lie | N...</td>\n",
       "      <td>-0.014841</td>\n",
       "      <td>282818.0</td>\n",
       "      <td>13268.0</td>\n",
       "    </tr>\n",
       "    <tr>\n",
       "      <th>3</th>\n",
       "      <td>tjIgYs81mB8</td>\n",
       "      <td>How I Had an Abortion at Home in Texas | NYT O...</td>\n",
       "      <td>-0.189609</td>\n",
       "      <td>284347.0</td>\n",
       "      <td>8819.0</td>\n",
       "    </tr>\n",
       "    <tr>\n",
       "      <th>4</th>\n",
       "      <td>Oo_FM3mjBCY</td>\n",
       "      <td>How China’s Surveillance Is Growing More Invas...</td>\n",
       "      <td>0.028863</td>\n",
       "      <td>258147.0</td>\n",
       "      <td>9793.0</td>\n",
       "    </tr>\n",
       "    <tr>\n",
       "      <th>...</th>\n",
       "      <td>...</td>\n",
       "      <td>...</td>\n",
       "      <td>...</td>\n",
       "      <td>...</td>\n",
       "      <td>...</td>\n",
       "    </tr>\n",
       "    <tr>\n",
       "      <th>63</th>\n",
       "      <td>NOJzyvOrh8I</td>\n",
       "      <td>A Letter From Death Row: Gov. Abbott, Will You...</td>\n",
       "      <td>-0.213699</td>\n",
       "      <td>70103.0</td>\n",
       "      <td>1960.0</td>\n",
       "    </tr>\n",
       "    <tr>\n",
       "      <th>64</th>\n",
       "      <td>DlnfiULnmMY</td>\n",
       "      <td>Inside the Daily Life of a Live Streaming Star...</td>\n",
       "      <td>0.054067</td>\n",
       "      <td>2061443.0</td>\n",
       "      <td>47979.0</td>\n",
       "    </tr>\n",
       "    <tr>\n",
       "      <th>65</th>\n",
       "      <td>EBklyksgbco</td>\n",
       "      <td>What Does U.S. Health Care Look Like Abroad? |...</td>\n",
       "      <td>0.040319</td>\n",
       "      <td>978447.0</td>\n",
       "      <td>30908.0</td>\n",
       "    </tr>\n",
       "    <tr>\n",
       "      <th>66</th>\n",
       "      <td>_PSBQvxVuoY</td>\n",
       "      <td>How ICE’s Mishandling of Covid-19 Fueled Outbr...</td>\n",
       "      <td>-0.036028</td>\n",
       "      <td>52550.0</td>\n",
       "      <td>701.0</td>\n",
       "    </tr>\n",
       "    <tr>\n",
       "      <th>67</th>\n",
       "      <td>O-g4XGPlGZU</td>\n",
       "      <td>Living With the Daunte Wright Protests at the ...</td>\n",
       "      <td>-0.161647</td>\n",
       "      <td>42112.0</td>\n",
       "      <td>1068.0</td>\n",
       "    </tr>\n",
       "  </tbody>\n",
       "</table>\n",
       "<p>68 rows × 5 columns</p>\n",
       "</div>"
      ],
      "text/plain": [
       "       video_id                                          vid_title  \\\n",
       "0   m5aWtcx02ZI  Jonathan Pie: Welcome to Britain. Everything i...   \n",
       "1   eMGqvUZjkH8                       Kill Your Lawn | NYT Opinion   \n",
       "2   RilwnjDwTOc  We Debunk the Latest Corporate Climate Lie | N...   \n",
       "3   tjIgYs81mB8  How I Had an Abortion at Home in Texas | NYT O...   \n",
       "4   Oo_FM3mjBCY  How China’s Surveillance Is Growing More Invas...   \n",
       "..          ...                                                ...   \n",
       "63  NOJzyvOrh8I  A Letter From Death Row: Gov. Abbott, Will You...   \n",
       "64  DlnfiULnmMY  Inside the Daily Life of a Live Streaming Star...   \n",
       "65  EBklyksgbco  What Does U.S. Health Care Look Like Abroad? |...   \n",
       "66  _PSBQvxVuoY  How ICE’s Mishandling of Covid-19 Fueled Outbr...   \n",
       "67  O-g4XGPlGZU  Living With the Daunte Wright Protests at the ...   \n",
       "\n",
       "    avg_comp_sentiment  vid_viewcount  vid_likecount  \n",
       "0             0.040505       885528.0        44682.0  \n",
       "1             0.118600        86238.0         3617.0  \n",
       "2            -0.014841       282818.0        13268.0  \n",
       "3            -0.189609       284347.0         8819.0  \n",
       "4             0.028863       258147.0         9793.0  \n",
       "..                 ...            ...            ...  \n",
       "63           -0.213699        70103.0         1960.0  \n",
       "64            0.054067      2061443.0        47979.0  \n",
       "65            0.040319       978447.0        30908.0  \n",
       "66           -0.036028        52550.0          701.0  \n",
       "67           -0.161647        42112.0         1068.0  \n",
       "\n",
       "[68 rows x 5 columns]"
      ]
     },
     "execution_count": 90,
     "metadata": {},
     "output_type": "execute_result"
    }
   ],
   "source": [
    "video_comp_sentiments"
   ]
  },
  {
   "cell_type": "code",
   "execution_count": 91,
   "metadata": {},
   "outputs": [
    {
     "data": {
      "text/plain": [
       "Renderers configuration\n",
       "-----------------------\n",
       "    Default renderer: 'vscode'\n",
       "    Available renderers:\n",
       "        ['plotly_mimetype', 'jupyterlab', 'nteract', 'vscode',\n",
       "         'notebook', 'notebook_connected', 'kaggle', 'azure', 'colab',\n",
       "         'cocalc', 'databricks', 'json', 'png', 'jpeg', 'jpg', 'svg',\n",
       "         'pdf', 'browser', 'firefox', 'chrome', 'chromium', 'iframe',\n",
       "         'iframe_connected', 'sphinx_gallery', 'sphinx_gallery_png']"
      ]
     },
     "execution_count": 91,
     "metadata": {},
     "output_type": "execute_result"
    }
   ],
   "source": [
    "import plotly.io as pio\n",
    "pio.renderers"
   ]
  },
  {
   "cell_type": "code",
   "execution_count": 92,
   "metadata": {},
   "outputs": [],
   "source": [
    "import plotly.express as px\n",
    "import plotly.graph_objects as go\n",
    "from plotly.subplots import make_subplots"
   ]
  },
  {
   "cell_type": "code",
   "execution_count": 93,
   "metadata": {},
   "outputs": [
    {
     "data": {
      "application/vnd.plotly.v1+json": {
       "config": {
        "plotlyServerURL": "https://plot.ly"
       },
       "data": [
        {
         "hovertemplate": "<b>%{text}</b> <br>Sentiment Value: %{x} <br>View Count: %{y}",
         "marker": {
          "color": "Blue"
         },
         "mode": "markers",
         "text": [
          "Jonathan Pie: Welcome to Britain. Everything is Terrible. | NYT Opinion",
          "Kill Your Lawn | NYT Opinion",
          "We Debunk the Latest Corporate Climate Lie | NYT Opinion",
          "How I Had an Abortion at Home in Texas | NYT Opinion",
          "How China’s Surveillance Is Growing More Invasive | Visual Investigations",
          "The Ukrainians Sent to Russia’s ‘Filtration Camps’ | Russia-Ukraine War",
          "How the Proud Boys Breached the Capitol | Visual Investigations",
          "Watch Bryce Dallas Howard’s Slow Escape in ‘Jurassic World Dominion’ | Anatomy of a Scene",
          "48 Hours in A Kansas Abortion Clinic | NYT News",
          "Watch Tom Cruise Go Hypersonic in ‘Top Gun: Maverick’ | Anatomy of a Scene",
          "Twenty Years of Putin Playing the West in 3 Minutes | NYT Opinion",
          "Teens Are In Crisis. Here’s Why. | The New York Times",
          "Under Attack in Ukraine’s Southeast | Russia-Ukraine War",
          "How Russia’s Disinformation Spreads Beyond Its Borders | Russia-Ukraine War",
          "Ukrainians Identify Bodies in Bucha | Russia-Ukraine War",
          "The Horrors Russia Left Behind | Russia-Ukraine War",
          "The Ukrainian Fighters Defending Kyiv | Russia–Ukraine War",
          "Escape from Mariupol | Russia-Ukraine War",
          "Russia Struggled to Capture a Ukrainian Town. Intercepted Radio Messages Show Why.",
          "The Foreign Fighters in Ukraine to Battle Russia | Russia-Ukraine War",
          "A Ukrainian Soldier Is Laid to Rest | Russia-Ukraine War",
          "Watch Robert Pattinson Take Flight in ‘The Batman’ | Anatomy of a Scene",
          "Jonathan Pie: How Putin Weaponized London’s Greed | NYT Opinion",
          "‘No City in Ukraine Is Safe’: Family Escapes Missile Strike",
          "Ukraine’s Civilians Take Up Arms Against Russia’s Invasion",
          "President Obama: Trayvon Martin Made America Confront Its Original Sin | NYT Opinion",
          "Ukraine’s Energy Gamble: Can it Unplug From Russia? | NYT News",
          "The Ukrainian Paramilitaries Ready to Fight Russia | NYT News",
          "See the True Cost of Your Cheap Chicken | NYT Opinion",
          "How Ukraine Is Training Civilians for Conflict With Russia | NYT News",
          "Jonathan Pie: 'Boris Johnson Is a Liar' | NYT Opinion",
          "Meet the People Getting Paid to Kill Our Planet | NYT Opinion",
          "Ukraine City Braces for Possible Russian Invasion | NYT News",
          "Hospital Greed Is Destroying Our Nurses. Here’s Why. | NYT Opinion",
          "How the Landlord’s Worst Nightmare Could Protect Millions of New Yorkers | NYT Opinion",
          "We’ve Lost Two Years to Covid. It’s Time to Grieve. | NYT Opinion",
          "Liberal Hypocrisy is Fueling American Inequality. Here’s How. | NYT Opinion",
          "A Fatal Night in Kenosha: How the Rittenhouse Shootings Unfolded | Visual Investigations",
          "Greta Thunberg Has Given Up on Politicians. But Not You. | NYT Opinion",
          "Searching for the Lost Graves of Indigenous Children in Canada | NYT News",
          "‘It’s Just a Matter of Time for the Taliban to Find Me’: On the Run in Afghanistan | NYT Opinion",
          "In a Galaxy Far, Far Away, I Was Almost Anakin Skywalker | 'Almost Famous' by Op-Docs",
          "The U.S. Military Said It Was an ISIS Safe House. We Found a Family Home. | Visual Investigations",
          "How a U.S. Drone Strike Killed the Wrong Person in Afghanistan | Visual Investigations",
          "Inside an Abandoned Mansion That 150 Taliban Now Call Home | Afghanistan News",
          "‘I Won’t Go 20 Years Back in Time’: Young Afghan Women Speak Out | NYT",
          "I Uncovered Abuse in the Catholic Church. Why Was it Ignored? | ‘Almost Famous’ by Op-Docs",
          "20 Years, 4 Presidents: The Words That Shaped the War in Afghanistan | NYT",
          "Dying in the Name of Vaccine Freedom | NYT Opinion",
          "Can a Trans Runner Like Me Compete Fairly? | NYT Opinion",
          "‘We Are Here Alone’: An Afghan Translator’s Plea for Help | NYT",
          "I Changed Astronomy Forever. He Won the Nobel Prize for It. | 'Almost Famous' by Op-Docs",
          "Palestinians Film War in Gaza: ‘So They Know We Existed’ | NYT",
          "I Have a Visual Disability, And I Want You To Look Me In the Eye | NYT Opinion",
          "Stay or Leave? Southern Israel, After the Rockets | NYT",
          "The Queen of Basketball | An Oscar-Winning Op-Doc",
          "'Normal' Was Not Working For Everyone — And We're Dreading Its Return | NYT Opinion",
          "Day of Rage: How Trump Supporters Took the U.S. Capitol | Visual Investigations",
          "Gaza’s Deadly Night: How Israeli Airstrikes Killed 44 People | Visual Investigations",
          "Kunal Kamra: Modi Caused a 'Covid Massacre' | NYT Opinion",
          "Cops From Around the World React to U.S. Policing | NYT Opinion",
          "How Mozambique Failed a Town Attacked by Militants  | Visual Investigations",
          "How Does America's Response to Climate Change Look From Abroad? | NYT Opinion",
          "A Letter From Death Row: Gov. Abbott, Will You Save My Life? | NYT Opinion",
          "Inside the Daily Life of a Live Streaming Star in China | Op-Docs",
          "What Does U.S. Health Care Look Like Abroad? | NYT Opinion",
          "How ICE’s Mishandling of Covid-19 Fueled Outbreaks Around the Country | Coronavirus News",
          "Living With the Daunte Wright Protests at the Front Door | NYT News"
         ],
         "type": "scatter",
         "x": [
          0.04050505050505051,
          0.11860000000000001,
          -0.014840999999999995,
          -0.18960899999999992,
          0.028863,
          -0.07531000000000003,
          -0.012082000000000002,
          0.04916700000000002,
          -0.05382300000000001,
          0.211171,
          -0.00032099999999998796,
          0.013058000000000014,
          -0.058129999999999994,
          -0.14511700000000002,
          -0.21104399999999998,
          -0.07800499999999999,
          -0.016504,
          -0.08908899999999997,
          -0.131845,
          -0.12304099999999997,
          -0.06893199999999998,
          0.087934,
          0.06392799999999997,
          -0.034270999999999996,
          -0.05615200000000001,
          -0.17658599999999994,
          -0.114338,
          -0.0008100000000000085,
          -0.046963999999999985,
          -0.0033130000000000004,
          0.16971299999999992,
          -0.035748000000000016,
          -0.10527200000000006,
          -0.010869999999999993,
          0.09516600000000003,
          -0.012074999999999994,
          0.07530399999999998,
          -0.13386200000000006,
          0.025680999999999995,
          -0.126451,
          0.14578000000000008,
          0.23671099999999992,
          -0.136958,
          -0.263035,
          0.08363399999999999,
          0.0666,
          0.006783999999999992,
          -0.162575,
          -0.026656999999999993,
          0.098487,
          0.075772,
          0.353789,
          -0.145589,
          0.33287300000000003,
          -0.097695,
          0.542105,
          0.018525,
          -0.09871300000000004,
          -0.18755299999999991,
          -0.022354000000000002,
          -0.1839119999999999,
          -0.06713799999999998,
          0.026203000000000004,
          -0.213699,
          0.05406699999999999,
          0.040319,
          -0.036028000000000004,
          -0.16164700000000004
         ],
         "xaxis": "x",
         "y": [
          885528,
          86238,
          282818,
          284347,
          258147,
          125287,
          116804,
          2701191,
          116317,
          1070813,
          720258,
          273863,
          2417585,
          598136,
          145405,
          510692,
          3127937,
          551222,
          5336661,
          958622,
          1022216,
          707156,
          1115010,
          125367,
          5198576,
          105328,
          158589,
          1809370,
          222450,
          352997,
          1255254,
          130734,
          646523,
          1830447,
          112650,
          72206,
          8115099,
          6473426,
          90016,
          117970,
          69172,
          324742,
          100483,
          1271663,
          2714031,
          82718,
          239728,
          550941,
          6645701,
          195704,
          206535,
          1575953,
          120249,
          559006,
          60674,
          955595,
          137464,
          8094657,
          298684,
          731712,
          102223,
          522937,
          107062,
          70103,
          2061443,
          978447,
          52550,
          42112
         ],
         "yaxis": "y"
        },
        {
         "hovertemplate": "<b>%{text}</b> <br>Sentiment Value: %{x} <br>Like Count: %{y}",
         "marker": {
          "color": "Red"
         },
         "mode": "markers",
         "text": [
          "Jonathan Pie: Welcome to Britain. Everything is Terrible. | NYT Opinion",
          "Kill Your Lawn | NYT Opinion",
          "We Debunk the Latest Corporate Climate Lie | NYT Opinion",
          "How I Had an Abortion at Home in Texas | NYT Opinion",
          "How China’s Surveillance Is Growing More Invasive | Visual Investigations",
          "The Ukrainians Sent to Russia’s ‘Filtration Camps’ | Russia-Ukraine War",
          "How the Proud Boys Breached the Capitol | Visual Investigations",
          "Watch Bryce Dallas Howard’s Slow Escape in ‘Jurassic World Dominion’ | Anatomy of a Scene",
          "48 Hours in A Kansas Abortion Clinic | NYT News",
          "Watch Tom Cruise Go Hypersonic in ‘Top Gun: Maverick’ | Anatomy of a Scene",
          "Twenty Years of Putin Playing the West in 3 Minutes | NYT Opinion",
          "Teens Are In Crisis. Here’s Why. | The New York Times",
          "Under Attack in Ukraine’s Southeast | Russia-Ukraine War",
          "How Russia’s Disinformation Spreads Beyond Its Borders | Russia-Ukraine War",
          "Ukrainians Identify Bodies in Bucha | Russia-Ukraine War",
          "The Horrors Russia Left Behind | Russia-Ukraine War",
          "The Ukrainian Fighters Defending Kyiv | Russia–Ukraine War",
          "Escape from Mariupol | Russia-Ukraine War",
          "Russia Struggled to Capture a Ukrainian Town. Intercepted Radio Messages Show Why.",
          "The Foreign Fighters in Ukraine to Battle Russia | Russia-Ukraine War",
          "A Ukrainian Soldier Is Laid to Rest | Russia-Ukraine War",
          "Watch Robert Pattinson Take Flight in ‘The Batman’ | Anatomy of a Scene",
          "Jonathan Pie: How Putin Weaponized London’s Greed | NYT Opinion",
          "‘No City in Ukraine Is Safe’: Family Escapes Missile Strike",
          "Ukraine’s Civilians Take Up Arms Against Russia’s Invasion",
          "President Obama: Trayvon Martin Made America Confront Its Original Sin | NYT Opinion",
          "Ukraine’s Energy Gamble: Can it Unplug From Russia? | NYT News",
          "The Ukrainian Paramilitaries Ready to Fight Russia | NYT News",
          "See the True Cost of Your Cheap Chicken | NYT Opinion",
          "How Ukraine Is Training Civilians for Conflict With Russia | NYT News",
          "Jonathan Pie: 'Boris Johnson Is a Liar' | NYT Opinion",
          "Meet the People Getting Paid to Kill Our Planet | NYT Opinion",
          "Ukraine City Braces for Possible Russian Invasion | NYT News",
          "Hospital Greed Is Destroying Our Nurses. Here’s Why. | NYT Opinion",
          "How the Landlord’s Worst Nightmare Could Protect Millions of New Yorkers | NYT Opinion",
          "We’ve Lost Two Years to Covid. It’s Time to Grieve. | NYT Opinion",
          "Liberal Hypocrisy is Fueling American Inequality. Here’s How. | NYT Opinion",
          "A Fatal Night in Kenosha: How the Rittenhouse Shootings Unfolded | Visual Investigations",
          "Greta Thunberg Has Given Up on Politicians. But Not You. | NYT Opinion",
          "Searching for the Lost Graves of Indigenous Children in Canada | NYT News",
          "‘It’s Just a Matter of Time for the Taliban to Find Me’: On the Run in Afghanistan | NYT Opinion",
          "In a Galaxy Far, Far Away, I Was Almost Anakin Skywalker | 'Almost Famous' by Op-Docs",
          "The U.S. Military Said It Was an ISIS Safe House. We Found a Family Home. | Visual Investigations",
          "How a U.S. Drone Strike Killed the Wrong Person in Afghanistan | Visual Investigations",
          "Inside an Abandoned Mansion That 150 Taliban Now Call Home | Afghanistan News",
          "‘I Won’t Go 20 Years Back in Time’: Young Afghan Women Speak Out | NYT",
          "I Uncovered Abuse in the Catholic Church. Why Was it Ignored? | ‘Almost Famous’ by Op-Docs",
          "20 Years, 4 Presidents: The Words That Shaped the War in Afghanistan | NYT",
          "Dying in the Name of Vaccine Freedom | NYT Opinion",
          "Can a Trans Runner Like Me Compete Fairly? | NYT Opinion",
          "‘We Are Here Alone’: An Afghan Translator’s Plea for Help | NYT",
          "I Changed Astronomy Forever. He Won the Nobel Prize for It. | 'Almost Famous' by Op-Docs",
          "Palestinians Film War in Gaza: ‘So They Know We Existed’ | NYT",
          "I Have a Visual Disability, And I Want You To Look Me In the Eye | NYT Opinion",
          "Stay or Leave? Southern Israel, After the Rockets | NYT",
          "The Queen of Basketball | An Oscar-Winning Op-Doc",
          "'Normal' Was Not Working For Everyone — And We're Dreading Its Return | NYT Opinion",
          "Day of Rage: How Trump Supporters Took the U.S. Capitol | Visual Investigations",
          "Gaza’s Deadly Night: How Israeli Airstrikes Killed 44 People | Visual Investigations",
          "Kunal Kamra: Modi Caused a 'Covid Massacre' | NYT Opinion",
          "Cops From Around the World React to U.S. Policing | NYT Opinion",
          "How Mozambique Failed a Town Attacked by Militants  | Visual Investigations",
          "How Does America's Response to Climate Change Look From Abroad? | NYT Opinion",
          "A Letter From Death Row: Gov. Abbott, Will You Save My Life? | NYT Opinion",
          "Inside the Daily Life of a Live Streaming Star in China | Op-Docs",
          "What Does U.S. Health Care Look Like Abroad? | NYT Opinion",
          "How ICE’s Mishandling of Covid-19 Fueled Outbreaks Around the Country | Coronavirus News",
          "Living With the Daunte Wright Protests at the Front Door | NYT News"
         ],
         "type": "scatter",
         "x": [
          0.04050505050505051,
          0.11860000000000001,
          -0.014840999999999995,
          -0.18960899999999992,
          0.028863,
          -0.07531000000000003,
          -0.012082000000000002,
          0.04916700000000002,
          -0.05382300000000001,
          0.211171,
          -0.00032099999999998796,
          0.013058000000000014,
          -0.058129999999999994,
          -0.14511700000000002,
          -0.21104399999999998,
          -0.07800499999999999,
          -0.016504,
          -0.08908899999999997,
          -0.131845,
          -0.12304099999999997,
          -0.06893199999999998,
          0.087934,
          0.06392799999999997,
          -0.034270999999999996,
          -0.05615200000000001,
          -0.17658599999999994,
          -0.114338,
          -0.0008100000000000085,
          -0.046963999999999985,
          -0.0033130000000000004,
          0.16971299999999992,
          -0.035748000000000016,
          -0.10527200000000006,
          -0.010869999999999993,
          0.09516600000000003,
          -0.012074999999999994,
          0.07530399999999998,
          -0.13386200000000006,
          0.025680999999999995,
          -0.126451,
          0.14578000000000008,
          0.23671099999999992,
          -0.136958,
          -0.263035,
          0.08363399999999999,
          0.0666,
          0.006783999999999992,
          -0.162575,
          -0.026656999999999993,
          0.098487,
          0.075772,
          0.353789,
          -0.145589,
          0.33287300000000003,
          -0.097695,
          0.542105,
          0.018525,
          -0.09871300000000004,
          -0.18755299999999991,
          -0.022354000000000002,
          -0.1839119999999999,
          -0.06713799999999998,
          0.026203000000000004,
          -0.213699,
          0.05406699999999999,
          0.040319,
          -0.036028000000000004,
          -0.16164700000000004
         ],
         "xaxis": "x",
         "y": [
          44682,
          3617,
          13268,
          8819,
          9793,
          2404,
          4702,
          8523,
          4552,
          10672,
          17773,
          11255,
          25685,
          10924,
          1831,
          6380,
          33794,
          8737,
          79278,
          11543,
          11709,
          18460,
          48771,
          2857,
          85416,
          3321,
          2987,
          23056,
          5698,
          9263,
          56536,
          5469,
          15763,
          72349,
          4573,
          3308,
          385839,
          82758,
          5556,
          5434,
          2481,
          15786,
          2468,
          36261,
          29998,
          2017,
          9427,
          12525,
          120556,
          6942,
          5903,
          81644,
          4803,
          33760,
          1292,
          33273,
          6186,
          199136,
          10725,
          70387,
          4131,
          9016,
          3514,
          1960,
          47979,
          30908,
          701,
          1068
         ],
         "yaxis": "y2"
        }
       ],
       "layout": {
        "template": {
         "data": {
          "bar": [
           {
            "error_x": {
             "color": "#2a3f5f"
            },
            "error_y": {
             "color": "#2a3f5f"
            },
            "marker": {
             "line": {
              "color": "#E5ECF6",
              "width": 0.5
             },
             "pattern": {
              "fillmode": "overlay",
              "size": 10,
              "solidity": 0.2
             }
            },
            "type": "bar"
           }
          ],
          "barpolar": [
           {
            "marker": {
             "line": {
              "color": "#E5ECF6",
              "width": 0.5
             },
             "pattern": {
              "fillmode": "overlay",
              "size": 10,
              "solidity": 0.2
             }
            },
            "type": "barpolar"
           }
          ],
          "carpet": [
           {
            "aaxis": {
             "endlinecolor": "#2a3f5f",
             "gridcolor": "white",
             "linecolor": "white",
             "minorgridcolor": "white",
             "startlinecolor": "#2a3f5f"
            },
            "baxis": {
             "endlinecolor": "#2a3f5f",
             "gridcolor": "white",
             "linecolor": "white",
             "minorgridcolor": "white",
             "startlinecolor": "#2a3f5f"
            },
            "type": "carpet"
           }
          ],
          "choropleth": [
           {
            "colorbar": {
             "outlinewidth": 0,
             "ticks": ""
            },
            "type": "choropleth"
           }
          ],
          "contour": [
           {
            "colorbar": {
             "outlinewidth": 0,
             "ticks": ""
            },
            "colorscale": [
             [
              0,
              "#0d0887"
             ],
             [
              0.1111111111111111,
              "#46039f"
             ],
             [
              0.2222222222222222,
              "#7201a8"
             ],
             [
              0.3333333333333333,
              "#9c179e"
             ],
             [
              0.4444444444444444,
              "#bd3786"
             ],
             [
              0.5555555555555556,
              "#d8576b"
             ],
             [
              0.6666666666666666,
              "#ed7953"
             ],
             [
              0.7777777777777778,
              "#fb9f3a"
             ],
             [
              0.8888888888888888,
              "#fdca26"
             ],
             [
              1,
              "#f0f921"
             ]
            ],
            "type": "contour"
           }
          ],
          "contourcarpet": [
           {
            "colorbar": {
             "outlinewidth": 0,
             "ticks": ""
            },
            "type": "contourcarpet"
           }
          ],
          "heatmap": [
           {
            "colorbar": {
             "outlinewidth": 0,
             "ticks": ""
            },
            "colorscale": [
             [
              0,
              "#0d0887"
             ],
             [
              0.1111111111111111,
              "#46039f"
             ],
             [
              0.2222222222222222,
              "#7201a8"
             ],
             [
              0.3333333333333333,
              "#9c179e"
             ],
             [
              0.4444444444444444,
              "#bd3786"
             ],
             [
              0.5555555555555556,
              "#d8576b"
             ],
             [
              0.6666666666666666,
              "#ed7953"
             ],
             [
              0.7777777777777778,
              "#fb9f3a"
             ],
             [
              0.8888888888888888,
              "#fdca26"
             ],
             [
              1,
              "#f0f921"
             ]
            ],
            "type": "heatmap"
           }
          ],
          "heatmapgl": [
           {
            "colorbar": {
             "outlinewidth": 0,
             "ticks": ""
            },
            "colorscale": [
             [
              0,
              "#0d0887"
             ],
             [
              0.1111111111111111,
              "#46039f"
             ],
             [
              0.2222222222222222,
              "#7201a8"
             ],
             [
              0.3333333333333333,
              "#9c179e"
             ],
             [
              0.4444444444444444,
              "#bd3786"
             ],
             [
              0.5555555555555556,
              "#d8576b"
             ],
             [
              0.6666666666666666,
              "#ed7953"
             ],
             [
              0.7777777777777778,
              "#fb9f3a"
             ],
             [
              0.8888888888888888,
              "#fdca26"
             ],
             [
              1,
              "#f0f921"
             ]
            ],
            "type": "heatmapgl"
           }
          ],
          "histogram": [
           {
            "marker": {
             "pattern": {
              "fillmode": "overlay",
              "size": 10,
              "solidity": 0.2
             }
            },
            "type": "histogram"
           }
          ],
          "histogram2d": [
           {
            "colorbar": {
             "outlinewidth": 0,
             "ticks": ""
            },
            "colorscale": [
             [
              0,
              "#0d0887"
             ],
             [
              0.1111111111111111,
              "#46039f"
             ],
             [
              0.2222222222222222,
              "#7201a8"
             ],
             [
              0.3333333333333333,
              "#9c179e"
             ],
             [
              0.4444444444444444,
              "#bd3786"
             ],
             [
              0.5555555555555556,
              "#d8576b"
             ],
             [
              0.6666666666666666,
              "#ed7953"
             ],
             [
              0.7777777777777778,
              "#fb9f3a"
             ],
             [
              0.8888888888888888,
              "#fdca26"
             ],
             [
              1,
              "#f0f921"
             ]
            ],
            "type": "histogram2d"
           }
          ],
          "histogram2dcontour": [
           {
            "colorbar": {
             "outlinewidth": 0,
             "ticks": ""
            },
            "colorscale": [
             [
              0,
              "#0d0887"
             ],
             [
              0.1111111111111111,
              "#46039f"
             ],
             [
              0.2222222222222222,
              "#7201a8"
             ],
             [
              0.3333333333333333,
              "#9c179e"
             ],
             [
              0.4444444444444444,
              "#bd3786"
             ],
             [
              0.5555555555555556,
              "#d8576b"
             ],
             [
              0.6666666666666666,
              "#ed7953"
             ],
             [
              0.7777777777777778,
              "#fb9f3a"
             ],
             [
              0.8888888888888888,
              "#fdca26"
             ],
             [
              1,
              "#f0f921"
             ]
            ],
            "type": "histogram2dcontour"
           }
          ],
          "mesh3d": [
           {
            "colorbar": {
             "outlinewidth": 0,
             "ticks": ""
            },
            "type": "mesh3d"
           }
          ],
          "parcoords": [
           {
            "line": {
             "colorbar": {
              "outlinewidth": 0,
              "ticks": ""
             }
            },
            "type": "parcoords"
           }
          ],
          "pie": [
           {
            "automargin": true,
            "type": "pie"
           }
          ],
          "scatter": [
           {
            "marker": {
             "colorbar": {
              "outlinewidth": 0,
              "ticks": ""
             }
            },
            "type": "scatter"
           }
          ],
          "scatter3d": [
           {
            "line": {
             "colorbar": {
              "outlinewidth": 0,
              "ticks": ""
             }
            },
            "marker": {
             "colorbar": {
              "outlinewidth": 0,
              "ticks": ""
             }
            },
            "type": "scatter3d"
           }
          ],
          "scattercarpet": [
           {
            "marker": {
             "colorbar": {
              "outlinewidth": 0,
              "ticks": ""
             }
            },
            "type": "scattercarpet"
           }
          ],
          "scattergeo": [
           {
            "marker": {
             "colorbar": {
              "outlinewidth": 0,
              "ticks": ""
             }
            },
            "type": "scattergeo"
           }
          ],
          "scattergl": [
           {
            "marker": {
             "colorbar": {
              "outlinewidth": 0,
              "ticks": ""
             }
            },
            "type": "scattergl"
           }
          ],
          "scattermapbox": [
           {
            "marker": {
             "colorbar": {
              "outlinewidth": 0,
              "ticks": ""
             }
            },
            "type": "scattermapbox"
           }
          ],
          "scatterpolar": [
           {
            "marker": {
             "colorbar": {
              "outlinewidth": 0,
              "ticks": ""
             }
            },
            "type": "scatterpolar"
           }
          ],
          "scatterpolargl": [
           {
            "marker": {
             "colorbar": {
              "outlinewidth": 0,
              "ticks": ""
             }
            },
            "type": "scatterpolargl"
           }
          ],
          "scatterternary": [
           {
            "marker": {
             "colorbar": {
              "outlinewidth": 0,
              "ticks": ""
             }
            },
            "type": "scatterternary"
           }
          ],
          "surface": [
           {
            "colorbar": {
             "outlinewidth": 0,
             "ticks": ""
            },
            "colorscale": [
             [
              0,
              "#0d0887"
             ],
             [
              0.1111111111111111,
              "#46039f"
             ],
             [
              0.2222222222222222,
              "#7201a8"
             ],
             [
              0.3333333333333333,
              "#9c179e"
             ],
             [
              0.4444444444444444,
              "#bd3786"
             ],
             [
              0.5555555555555556,
              "#d8576b"
             ],
             [
              0.6666666666666666,
              "#ed7953"
             ],
             [
              0.7777777777777778,
              "#fb9f3a"
             ],
             [
              0.8888888888888888,
              "#fdca26"
             ],
             [
              1,
              "#f0f921"
             ]
            ],
            "type": "surface"
           }
          ],
          "table": [
           {
            "cells": {
             "fill": {
              "color": "#EBF0F8"
             },
             "line": {
              "color": "white"
             }
            },
            "header": {
             "fill": {
              "color": "#C8D4E3"
             },
             "line": {
              "color": "white"
             }
            },
            "type": "table"
           }
          ]
         },
         "layout": {
          "annotationdefaults": {
           "arrowcolor": "#2a3f5f",
           "arrowhead": 0,
           "arrowwidth": 1
          },
          "autotypenumbers": "strict",
          "coloraxis": {
           "colorbar": {
            "outlinewidth": 0,
            "ticks": ""
           }
          },
          "colorscale": {
           "diverging": [
            [
             0,
             "#8e0152"
            ],
            [
             0.1,
             "#c51b7d"
            ],
            [
             0.2,
             "#de77ae"
            ],
            [
             0.3,
             "#f1b6da"
            ],
            [
             0.4,
             "#fde0ef"
            ],
            [
             0.5,
             "#f7f7f7"
            ],
            [
             0.6,
             "#e6f5d0"
            ],
            [
             0.7,
             "#b8e186"
            ],
            [
             0.8,
             "#7fbc41"
            ],
            [
             0.9,
             "#4d9221"
            ],
            [
             1,
             "#276419"
            ]
           ],
           "sequential": [
            [
             0,
             "#0d0887"
            ],
            [
             0.1111111111111111,
             "#46039f"
            ],
            [
             0.2222222222222222,
             "#7201a8"
            ],
            [
             0.3333333333333333,
             "#9c179e"
            ],
            [
             0.4444444444444444,
             "#bd3786"
            ],
            [
             0.5555555555555556,
             "#d8576b"
            ],
            [
             0.6666666666666666,
             "#ed7953"
            ],
            [
             0.7777777777777778,
             "#fb9f3a"
            ],
            [
             0.8888888888888888,
             "#fdca26"
            ],
            [
             1,
             "#f0f921"
            ]
           ],
           "sequentialminus": [
            [
             0,
             "#0d0887"
            ],
            [
             0.1111111111111111,
             "#46039f"
            ],
            [
             0.2222222222222222,
             "#7201a8"
            ],
            [
             0.3333333333333333,
             "#9c179e"
            ],
            [
             0.4444444444444444,
             "#bd3786"
            ],
            [
             0.5555555555555556,
             "#d8576b"
            ],
            [
             0.6666666666666666,
             "#ed7953"
            ],
            [
             0.7777777777777778,
             "#fb9f3a"
            ],
            [
             0.8888888888888888,
             "#fdca26"
            ],
            [
             1,
             "#f0f921"
            ]
           ]
          },
          "colorway": [
           "#636efa",
           "#EF553B",
           "#00cc96",
           "#ab63fa",
           "#FFA15A",
           "#19d3f3",
           "#FF6692",
           "#B6E880",
           "#FF97FF",
           "#FECB52"
          ],
          "font": {
           "color": "#2a3f5f"
          },
          "geo": {
           "bgcolor": "white",
           "lakecolor": "white",
           "landcolor": "#E5ECF6",
           "showlakes": true,
           "showland": true,
           "subunitcolor": "white"
          },
          "hoverlabel": {
           "align": "left"
          },
          "hovermode": "closest",
          "mapbox": {
           "style": "light"
          },
          "paper_bgcolor": "white",
          "plot_bgcolor": "#E5ECF6",
          "polar": {
           "angularaxis": {
            "gridcolor": "white",
            "linecolor": "white",
            "ticks": ""
           },
           "bgcolor": "#E5ECF6",
           "radialaxis": {
            "gridcolor": "white",
            "linecolor": "white",
            "ticks": ""
           }
          },
          "scene": {
           "xaxis": {
            "backgroundcolor": "#E5ECF6",
            "gridcolor": "white",
            "gridwidth": 2,
            "linecolor": "white",
            "showbackground": true,
            "ticks": "",
            "zerolinecolor": "white"
           },
           "yaxis": {
            "backgroundcolor": "#E5ECF6",
            "gridcolor": "white",
            "gridwidth": 2,
            "linecolor": "white",
            "showbackground": true,
            "ticks": "",
            "zerolinecolor": "white"
           },
           "zaxis": {
            "backgroundcolor": "#E5ECF6",
            "gridcolor": "white",
            "gridwidth": 2,
            "linecolor": "white",
            "showbackground": true,
            "ticks": "",
            "zerolinecolor": "white"
           }
          },
          "shapedefaults": {
           "line": {
            "color": "#2a3f5f"
           }
          },
          "ternary": {
           "aaxis": {
            "gridcolor": "white",
            "linecolor": "white",
            "ticks": ""
           },
           "baxis": {
            "gridcolor": "white",
            "linecolor": "white",
            "ticks": ""
           },
           "bgcolor": "#E5ECF6",
           "caxis": {
            "gridcolor": "white",
            "linecolor": "white",
            "ticks": ""
           }
          },
          "title": {
           "x": 0.05
          },
          "xaxis": {
           "automargin": true,
           "gridcolor": "white",
           "linecolor": "white",
           "ticks": "",
           "title": {
            "standoff": 15
           },
           "zerolinecolor": "white",
           "zerolinewidth": 2
          },
          "yaxis": {
           "automargin": true,
           "gridcolor": "white",
           "linecolor": "white",
           "ticks": "",
           "title": {
            "standoff": 15
           },
           "zerolinecolor": "white",
           "zerolinewidth": 2
          }
         }
        },
        "xaxis": {
         "anchor": "y",
         "domain": [
          0,
          0.94
         ]
        },
        "yaxis": {
         "anchor": "x",
         "domain": [
          0,
          1
         ]
        },
        "yaxis2": {
         "anchor": "x",
         "overlaying": "y",
         "side": "right"
        }
       }
      }
     },
     "metadata": {},
     "output_type": "display_data"
    }
   ],
   "source": [
    "fig = make_subplots(specs=[[{'secondary_y': True}]])\n",
    "\n",
    "fig.add_trace(\n",
    "        go.Scatter(\n",
    "        x=video_comp_sentiments['avg_comp_sentiment'],\n",
    "        y=video_comp_sentiments['vid_viewcount'],\n",
    "        mode='markers',\n",
    "        marker_color='Blue',\n",
    "        text=video_comp_sentiments['vid_title'],\n",
    "        hovertemplate='<b>%{text}</b> <br>Sentiment Value: %{x} <br>View Count: %{y}'),\n",
    "        secondary_y=False\n",
    ")\n",
    "\n",
    "fig.add_trace(go.Scatter(\n",
    "    x=video_comp_sentiments['avg_comp_sentiment'],\n",
    "    y=video_comp_sentiments['vid_likecount'],\n",
    "    mode='markers',\n",
    "    marker_color='Red',\n",
    "    text=video_comp_sentiments['vid_title'],\n",
    "    hovertemplate='<b>%{text}</b> <br>Sentiment Value: %{x} <br>Like Count: %{y}'),\n",
    "    secondary_y=True\n",
    ")\n",
    "\n",
    "fig.show(renderer='vscode')"
   ]
  },
  {
   "cell_type": "code",
   "execution_count": 94,
   "metadata": {},
   "outputs": [
    {
     "data": {
      "image/svg+xml": "<svg class=\"main-svg\" xmlns=\"http://www.w3.org/2000/svg\" xmlns:xlink=\"http://www.w3.org/1999/xlink\" width=\"700\" height=\"500\" style=\"\" viewBox=\"0 0 700 500\"><rect x=\"0\" y=\"0\" width=\"700\" height=\"500\" style=\"fill: rgb(255, 255, 255); fill-opacity: 1;\"/><defs id=\"defs-efb449\"><g class=\"clips\"><clipPath id=\"clipefb449xyplot\" class=\"plotclip\"><rect width=\"479.4\" height=\"320\"/></clipPath><clipPath id=\"clipefb449xy2plot\" class=\"plotclip\"><rect width=\"479.4\" height=\"320\"/></clipPath><clipPath class=\"axesclip\" id=\"clipefb449x\"><rect x=\"80\" y=\"0\" width=\"479.4\" height=\"500\"/></clipPath><clipPath class=\"axesclip\" id=\"clipefb449y\"><rect x=\"0\" y=\"100\" width=\"700\" height=\"320\"/></clipPath><clipPath class=\"axesclip\" id=\"clipefb449xy\"><rect x=\"80\" y=\"100\" width=\"479.4\" height=\"320\"/></clipPath><clipPath class=\"axesclip\" id=\"clipefb449y2\"><rect x=\"0\" y=\"100\" width=\"700\" height=\"320\"/></clipPath><clipPath class=\"axesclip\" id=\"clipefb449xy2\"><rect x=\"80\" y=\"100\" width=\"479.4\" height=\"320\"/></clipPath></g><g class=\"gradients\"/><g class=\"patterns\"/></defs><g class=\"bglayer\"><rect class=\"bg\" x=\"80\" y=\"100\" width=\"479.4\" height=\"320\" style=\"fill: rgb(229, 236, 246); fill-opacity: 1; stroke-width: 0;\"/></g><g class=\"layer-below\"><g class=\"imagelayer\"/><g class=\"shapelayer\"/></g><g class=\"cartesianlayer\"><g class=\"subplot xy\"><g class=\"layer-subplot\"><g class=\"shapelayer\"/><g class=\"imagelayer\"/></g><g class=\"gridlayer\"><g class=\"x\"><path class=\"xgrid crisp\" transform=\"translate(140.91,0)\" d=\"M0,100v320\" style=\"stroke: rgb(255, 255, 255); stroke-opacity: 1; stroke-width: 1px;\"/><path class=\"xgrid crisp\" transform=\"translate(351.54,0)\" d=\"M0,100v320\" style=\"stroke: rgb(255, 255, 255); stroke-opacity: 1; stroke-width: 1px;\"/><path class=\"xgrid crisp\" transform=\"translate(456.85,0)\" d=\"M0,100v320\" style=\"stroke: rgb(255, 255, 255); stroke-opacity: 1; stroke-width: 1px;\"/></g><g class=\"y\"><path class=\"ygrid crisp\" transform=\"translate(0,332.22)\" d=\"M80,0h479.4\" style=\"stroke: rgb(255, 255, 255); stroke-opacity: 1; stroke-width: 1px;\"/><path class=\"ygrid crisp\" transform=\"translate(0,262.73)\" d=\"M80,0h479.4\" style=\"stroke: rgb(255, 255, 255); stroke-opacity: 1; stroke-width: 1px;\"/><path class=\"ygrid crisp\" transform=\"translate(0,193.24)\" d=\"M80,0h479.4\" style=\"stroke: rgb(255, 255, 255); stroke-opacity: 1; stroke-width: 1px;\"/><path class=\"ygrid crisp\" transform=\"translate(0,123.75)\" d=\"M80,0h479.4\" style=\"stroke: rgb(255, 255, 255); stroke-opacity: 1; stroke-width: 1px;\"/></g><g class=\"y2\"><path class=\"y2grid crisp\" transform=\"translate(0,364.35)\" d=\"M80,0h479.4\" style=\"stroke: rgb(255, 255, 255); stroke-opacity: 1; stroke-width: 1px;\"/><path class=\"y2grid crisp\" transform=\"translate(0,327.93)\" d=\"M80,0h479.4\" style=\"stroke: rgb(255, 255, 255); stroke-opacity: 1; stroke-width: 1px;\"/><path class=\"y2grid crisp\" transform=\"translate(0,291.51)\" d=\"M80,0h479.4\" style=\"stroke: rgb(255, 255, 255); stroke-opacity: 1; stroke-width: 1px;\"/><path class=\"y2grid crisp\" transform=\"translate(0,255.1)\" d=\"M80,0h479.4\" style=\"stroke: rgb(255, 255, 255); stroke-opacity: 1; stroke-width: 1px;\"/><path class=\"y2grid crisp\" transform=\"translate(0,218.68)\" d=\"M80,0h479.4\" style=\"stroke: rgb(255, 255, 255); stroke-opacity: 1; stroke-width: 1px;\"/><path class=\"y2grid crisp\" transform=\"translate(0,182.26999999999998)\" d=\"M80,0h479.4\" style=\"stroke: rgb(255, 255, 255); stroke-opacity: 1; stroke-width: 1px;\"/><path class=\"y2grid crisp\" transform=\"translate(0,145.85)\" d=\"M80,0h479.4\" style=\"stroke: rgb(255, 255, 255); stroke-opacity: 1; stroke-width: 1px;\"/><path class=\"y2grid crisp\" transform=\"translate(0,109.44)\" d=\"M80,0h479.4\" style=\"stroke: rgb(255, 255, 255); stroke-opacity: 1; stroke-width: 1px;\"/></g></g><g class=\"zerolinelayer\"><path class=\"xzl zl crisp\" transform=\"translate(246.23,0)\" d=\"M0,100v320\" style=\"stroke: rgb(255, 255, 255); stroke-opacity: 1; stroke-width: 2px;\"/><path class=\"yzl zl crisp\" transform=\"translate(0,401.71)\" d=\"M80,0h479.4\" style=\"stroke: rgb(255, 255, 255); stroke-opacity: 1; stroke-width: 2px;\"/><path class=\"y2zl zl crisp\" transform=\"translate(0,400.76)\" d=\"M80,0h479.4\" style=\"stroke: rgb(255, 255, 255); stroke-opacity: 1; stroke-width: 2px;\"/></g><path class=\"xlines-below\"/><path class=\"ylines-below\"/><g class=\"overlines-below\"><path class=\"xy2-x\"/><path class=\"xy2-y\"/></g><g class=\"xaxislayer-below\"/><g class=\"yaxislayer-below\"/><g class=\"overaxes-below\"><g class=\"xy2-x\"/><g class=\"xy2-y\"/></g><g class=\"plot\" transform=\"translate(80,100)\" clip-path=\"url(#clipefb449xyplot)\"><g class=\"scatterlayer mlayer\"><g class=\"trace scatter tracee071d4\" style=\"stroke-miterlimit: 2; opacity: 1;\"><g class=\"fills\"/><g class=\"errorbars\"/><g class=\"lines\"/><g class=\"points\"><path class=\"point\" transform=\"translate(187.55,270.95)\" d=\"M3,0A3,3 0 1,1 0,-3A3,3 0 0,1 3,0Z\" style=\"opacity: 1; stroke-width: 0px; fill: rgb(0, 0, 255); fill-opacity: 1;\"/><path class=\"point\" transform=\"translate(228.68,298.72)\" d=\"M3,0A3,3 0 1,1 0,-3A3,3 0 0,1 3,0Z\" style=\"opacity: 1; stroke-width: 0px; fill: rgb(0, 0, 255); fill-opacity: 1;\"/><path class=\"point\" transform=\"translate(158.41,291.89)\" d=\"M3,0A3,3 0 1,1 0,-3A3,3 0 0,1 3,0Z\" style=\"opacity: 1; stroke-width: 0px; fill: rgb(0, 0, 255); fill-opacity: 1;\"/><path class=\"point\" transform=\"translate(66.38,291.83)\" d=\"M3,0A3,3 0 1,1 0,-3A3,3 0 0,1 3,0Z\" style=\"opacity: 1; stroke-width: 0px; fill: rgb(0, 0, 255); fill-opacity: 1;\"/><path class=\"point\" transform=\"translate(181.42,292.74)\" d=\"M3,0A3,3 0 1,1 0,-3A3,3 0 0,1 3,0Z\" style=\"opacity: 1; stroke-width: 0px; fill: rgb(0, 0, 255); fill-opacity: 1;\"/><path class=\"point\" transform=\"translate(126.57,297.36)\" d=\"M3,0A3,3 0 1,1 0,-3A3,3 0 0,1 3,0Z\" style=\"opacity: 1; stroke-width: 0px; fill: rgb(0, 0, 255); fill-opacity: 1;\"/><path class=\"point\" transform=\"translate(159.86,297.65)\" d=\"M3,0A3,3 0 1,1 0,-3A3,3 0 0,1 3,0Z\" style=\"opacity: 1; stroke-width: 0px; fill: rgb(0, 0, 255); fill-opacity: 1;\"/><path class=\"point\" transform=\"translate(192.12,207.86)\" d=\"M3,0A3,3 0 1,1 0,-3A3,3 0 0,1 3,0Z\" style=\"opacity: 1; stroke-width: 0px; fill: rgb(0, 0, 255); fill-opacity: 1;\"/><path class=\"point\" transform=\"translate(137.88,297.67)\" d=\"M3,0A3,3 0 1,1 0,-3A3,3 0 0,1 3,0Z\" style=\"opacity: 1; stroke-width: 0px; fill: rgb(0, 0, 255); fill-opacity: 1;\"/><path class=\"point\" transform=\"translate(277.42,264.51)\" d=\"M3,0A3,3 0 1,1 0,-3A3,3 0 0,1 3,0Z\" style=\"opacity: 1; stroke-width: 0px; fill: rgb(0, 0, 255); fill-opacity: 1;\"/><path class=\"point\" transform=\"translate(166.06,276.69)\" d=\"M3,0A3,3 0 1,1 0,-3A3,3 0 0,1 3,0Z\" style=\"opacity: 1; stroke-width: 0px; fill: rgb(0, 0, 255); fill-opacity: 1;\"/><path class=\"point\" transform=\"translate(173.1,292.2)\" d=\"M3,0A3,3 0 1,1 0,-3A3,3 0 0,1 3,0Z\" style=\"opacity: 1; stroke-width: 0px; fill: rgb(0, 0, 255); fill-opacity: 1;\"/><path class=\"point\" transform=\"translate(135.62,217.71)\" d=\"M3,0A3,3 0 1,1 0,-3A3,3 0 0,1 3,0Z\" style=\"opacity: 1; stroke-width: 0px; fill: rgb(0, 0, 255); fill-opacity: 1;\"/><path class=\"point\" transform=\"translate(89.81,280.93)\" d=\"M3,0A3,3 0 1,1 0,-3A3,3 0 0,1 3,0Z\" style=\"opacity: 1; stroke-width: 0px; fill: rgb(0, 0, 255); fill-opacity: 1;\"/><path class=\"point\" transform=\"translate(55.1,296.66)\" d=\"M3,0A3,3 0 1,1 0,-3A3,3 0 0,1 3,0Z\" style=\"opacity: 1; stroke-width: 0px; fill: rgb(0, 0, 255); fill-opacity: 1;\"/><path class=\"point\" transform=\"translate(125.15,283.97)\" d=\"M3,0A3,3 0 1,1 0,-3A3,3 0 0,1 3,0Z\" style=\"opacity: 1; stroke-width: 0px; fill: rgb(0, 0, 255); fill-opacity: 1;\"/><path class=\"point\" transform=\"translate(157.54,193.03)\" d=\"M3,0A3,3 0 1,1 0,-3A3,3 0 0,1 3,0Z\" style=\"opacity: 1; stroke-width: 0px; fill: rgb(0, 0, 255); fill-opacity: 1;\"/><path class=\"point\" transform=\"translate(119.31,282.56)\" d=\"M3,0A3,3 0 1,1 0,-3A3,3 0 0,1 3,0Z\" style=\"opacity: 1; stroke-width: 0px; fill: rgb(0, 0, 255); fill-opacity: 1;\"/><path class=\"point\" transform=\"translate(96.8,116.29)\" d=\"M3,0A3,3 0 1,1 0,-3A3,3 0 0,1 3,0Z\" style=\"opacity: 1; stroke-width: 0px; fill: rgb(0, 0, 255); fill-opacity: 1;\"/><path class=\"point\" transform=\"translate(101.44,268.41)\" d=\"M3,0A3,3 0 1,1 0,-3A3,3 0 0,1 3,0Z\" style=\"opacity: 1; stroke-width: 0px; fill: rgb(0, 0, 255); fill-opacity: 1;\"/><path class=\"point\" transform=\"translate(129.93,266.2)\" d=\"M3,0A3,3 0 1,1 0,-3A3,3 0 0,1 3,0Z\" style=\"opacity: 1; stroke-width: 0px; fill: rgb(0, 0, 255); fill-opacity: 1;\"/><path class=\"point\" transform=\"translate(212.53,277.14)\" d=\"M3,0A3,3 0 1,1 0,-3A3,3 0 0,1 3,0Z\" style=\"opacity: 1; stroke-width: 0px; fill: rgb(0, 0, 255); fill-opacity: 1;\"/><path class=\"point\" transform=\"translate(199.89,262.97)\" d=\"M3,0A3,3 0 1,1 0,-3A3,3 0 0,1 3,0Z\" style=\"opacity: 1; stroke-width: 0px; fill: rgb(0, 0, 255); fill-opacity: 1;\"/><path class=\"point\" transform=\"translate(148.18,297.36)\" d=\"M3,0A3,3 0 1,1 0,-3A3,3 0 0,1 3,0Z\" style=\"opacity: 1; stroke-width: 0px; fill: rgb(0, 0, 255); fill-opacity: 1;\"/><path class=\"point\" transform=\"translate(136.66,121.09)\" d=\"M3,0A3,3 0 1,1 0,-3A3,3 0 0,1 3,0Z\" style=\"opacity: 1; stroke-width: 0px; fill: rgb(0, 0, 255); fill-opacity: 1;\"/><path class=\"point\" transform=\"translate(73.24,298.05)\" d=\"M3,0A3,3 0 1,1 0,-3A3,3 0 0,1 3,0Z\" style=\"opacity: 1; stroke-width: 0px; fill: rgb(0, 0, 255); fill-opacity: 1;\"/><path class=\"point\" transform=\"translate(106.02,296.2)\" d=\"M3,0A3,3 0 1,1 0,-3A3,3 0 0,1 3,0Z\" style=\"opacity: 1; stroke-width: 0px; fill: rgb(0, 0, 255); fill-opacity: 1;\"/><path class=\"point\" transform=\"translate(165.8,238.85)\" d=\"M3,0A3,3 0 1,1 0,-3A3,3 0 0,1 3,0Z\" style=\"opacity: 1; stroke-width: 0px; fill: rgb(0, 0, 255); fill-opacity: 1;\"/><path class=\"point\" transform=\"translate(141.5,293.98)\" d=\"M3,0A3,3 0 1,1 0,-3A3,3 0 0,1 3,0Z\" style=\"opacity: 1; stroke-width: 0px; fill: rgb(0, 0, 255); fill-opacity: 1;\"/><path class=\"point\" transform=\"translate(164.48,289.45)\" d=\"M3,0A3,3 0 1,1 0,-3A3,3 0 0,1 3,0Z\" style=\"opacity: 1; stroke-width: 0px; fill: rgb(0, 0, 255); fill-opacity: 1;\"/><path class=\"point\" transform=\"translate(255.59,258.1)\" d=\"M3,0A3,3 0 1,1 0,-3A3,3 0 0,1 3,0Z\" style=\"opacity: 1; stroke-width: 0px; fill: rgb(0, 0, 255); fill-opacity: 1;\"/><path class=\"point\" transform=\"translate(147.4,297.17)\" d=\"M3,0A3,3 0 1,1 0,-3A3,3 0 0,1 3,0Z\" style=\"opacity: 1; stroke-width: 0px; fill: rgb(0, 0, 255); fill-opacity: 1;\"/><path class=\"point\" transform=\"translate(110.79,279.25)\" d=\"M3,0A3,3 0 1,1 0,-3A3,3 0 0,1 3,0Z\" style=\"opacity: 1; stroke-width: 0px; fill: rgb(0, 0, 255); fill-opacity: 1;\"/><path class=\"point\" transform=\"translate(160.5,238.11)\" d=\"M3,0A3,3 0 1,1 0,-3A3,3 0 0,1 3,0Z\" style=\"opacity: 1; stroke-width: 0px; fill: rgb(0, 0, 255); fill-opacity: 1;\"/><path class=\"point\" transform=\"translate(216.34,297.8)\" d=\"M3,0A3,3 0 1,1 0,-3A3,3 0 0,1 3,0Z\" style=\"opacity: 1; stroke-width: 0px; fill: rgb(0, 0, 255); fill-opacity: 1;\"/><path class=\"point\" transform=\"translate(159.87,299.2)\" d=\"M3,0A3,3 0 1,1 0,-3A3,3 0 0,1 3,0Z\" style=\"opacity: 1; stroke-width: 0px; fill: rgb(0, 0, 255); fill-opacity: 1;\"/><path class=\"point\" transform=\"translate(205.88,19.75)\" d=\"M3,0A3,3 0 1,1 0,-3A3,3 0 0,1 3,0Z\" style=\"opacity: 1; stroke-width: 0px; fill: rgb(0, 0, 255); fill-opacity: 1;\"/><path class=\"point\" transform=\"translate(95.74,76.79)\" d=\"M3,0A3,3 0 1,1 0,-3A3,3 0 0,1 3,0Z\" style=\"opacity: 1; stroke-width: 0px; fill: rgb(0, 0, 255); fill-opacity: 1;\"/><path class=\"point\" transform=\"translate(179.75,298.59)\" d=\"M3,0A3,3 0 1,1 0,-3A3,3 0 0,1 3,0Z\" style=\"opacity: 1; stroke-width: 0px; fill: rgb(0, 0, 255); fill-opacity: 1;\"/><path class=\"point\" transform=\"translate(99.64,297.61)\" d=\"M3,0A3,3 0 1,1 0,-3A3,3 0 0,1 3,0Z\" style=\"opacity: 1; stroke-width: 0px; fill: rgb(0, 0, 255); fill-opacity: 1;\"/><path class=\"point\" transform=\"translate(242.99,299.31)\" d=\"M3,0A3,3 0 1,1 0,-3A3,3 0 0,1 3,0Z\" style=\"opacity: 1; stroke-width: 0px; fill: rgb(0, 0, 255); fill-opacity: 1;\"/><path class=\"point\" transform=\"translate(290.87,290.43)\" d=\"M3,0A3,3 0 1,1 0,-3A3,3 0 0,1 3,0Z\" style=\"opacity: 1; stroke-width: 0px; fill: rgb(0, 0, 255); fill-opacity: 1;\"/><path class=\"point\" transform=\"translate(94.11,298.22)\" d=\"M3,0A3,3 0 1,1 0,-3A3,3 0 0,1 3,0Z\" style=\"opacity: 1; stroke-width: 0px; fill: rgb(0, 0, 255); fill-opacity: 1;\"/><path class=\"point\" transform=\"translate(27.72,257.53)\" d=\"M3,0A3,3 0 1,1 0,-3A3,3 0 0,1 3,0Z\" style=\"opacity: 1; stroke-width: 0px; fill: rgb(0, 0, 255); fill-opacity: 1;\"/><path class=\"point\" transform=\"translate(210.26,207.41)\" d=\"M3,0A3,3 0 1,1 0,-3A3,3 0 0,1 3,0Z\" style=\"opacity: 1; stroke-width: 0px; fill: rgb(0, 0, 255); fill-opacity: 1;\"/><path class=\"point\" transform=\"translate(201.29,298.84)\" d=\"M3,0A3,3 0 1,1 0,-3A3,3 0 0,1 3,0Z\" style=\"opacity: 1; stroke-width: 0px; fill: rgb(0, 0, 255); fill-opacity: 1;\"/><path class=\"point\" transform=\"translate(169.8,293.38)\" d=\"M3,0A3,3 0 1,1 0,-3A3,3 0 0,1 3,0Z\" style=\"opacity: 1; stroke-width: 0px; fill: rgb(0, 0, 255); fill-opacity: 1;\"/><path class=\"point\" transform=\"translate(80.62,282.57)\" d=\"M3,0A3,3 0 1,1 0,-3A3,3 0 0,1 3,0Z\" style=\"opacity: 1; stroke-width: 0px; fill: rgb(0, 0, 255); fill-opacity: 1;\"/><path class=\"point\" transform=\"translate(152.19,70.8)\" d=\"M3,0A3,3 0 1,1 0,-3A3,3 0 0,1 3,0Z\" style=\"opacity: 1; stroke-width: 0px; fill: rgb(0, 0, 255); fill-opacity: 1;\"/><path class=\"point\" transform=\"translate(218.09,294.91)\" d=\"M3,0A3,3 0 1,1 0,-3A3,3 0 0,1 3,0Z\" style=\"opacity: 1; stroke-width: 0px; fill: rgb(0, 0, 255); fill-opacity: 1;\"/><path class=\"point\" transform=\"translate(206.12,294.54)\" d=\"M3,0A3,3 0 1,1 0,-3A3,3 0 0,1 3,0Z\" style=\"opacity: 1; stroke-width: 0px; fill: rgb(0, 0, 255); fill-opacity: 1;\"/><path class=\"point\" transform=\"translate(352.52,246.96)\" d=\"M3,0A3,3 0 1,1 0,-3A3,3 0 0,1 3,0Z\" style=\"opacity: 1; stroke-width: 0px; fill: rgb(0, 0, 255); fill-opacity: 1;\"/><path class=\"point\" transform=\"translate(89.56,297.54)\" d=\"M3,0A3,3 0 1,1 0,-3A3,3 0 0,1 3,0Z\" style=\"opacity: 1; stroke-width: 0px; fill: rgb(0, 0, 255); fill-opacity: 1;\"/><path class=\"point\" transform=\"translate(341.51,282.29)\" d=\"M3,0A3,3 0 1,1 0,-3A3,3 0 0,1 3,0Z\" style=\"opacity: 1; stroke-width: 0px; fill: rgb(0, 0, 255); fill-opacity: 1;\"/><path class=\"point\" transform=\"translate(114.78,299.61)\" d=\"M3,0A3,3 0 1,1 0,-3A3,3 0 0,1 3,0Z\" style=\"opacity: 1; stroke-width: 0px; fill: rgb(0, 0, 255); fill-opacity: 1;\"/><path class=\"point\" transform=\"translate(451.68,268.51)\" d=\"M3,0A3,3 0 1,1 0,-3A3,3 0 0,1 3,0Z\" style=\"opacity: 1; stroke-width: 0px; fill: rgb(0, 0, 255); fill-opacity: 1;\"/><path class=\"point\" transform=\"translate(175.98,296.94)\" d=\"M3,0A3,3 0 1,1 0,-3A3,3 0 0,1 3,0Z\" style=\"opacity: 1; stroke-width: 0px; fill: rgb(0, 0, 255); fill-opacity: 1;\"/><path class=\"point\" transform=\"translate(114.25,20.46)\" d=\"M3,0A3,3 0 1,1 0,-3A3,3 0 0,1 3,0Z\" style=\"opacity: 1; stroke-width: 0px; fill: rgb(0, 0, 255); fill-opacity: 1;\"/><path class=\"point\" transform=\"translate(67.47,291.34)\" d=\"M3,0A3,3 0 1,1 0,-3A3,3 0 0,1 3,0Z\" style=\"opacity: 1; stroke-width: 0px; fill: rgb(0, 0, 255); fill-opacity: 1;\"/><path class=\"point\" transform=\"translate(154.45,276.29)\" d=\"M3,0A3,3 0 1,1 0,-3A3,3 0 0,1 3,0Z\" style=\"opacity: 1; stroke-width: 0px; fill: rgb(0, 0, 255); fill-opacity: 1;\"/><path class=\"point\" transform=\"translate(69.38,298.16)\" d=\"M3,0A3,3 0 1,1 0,-3A3,3 0 0,1 3,0Z\" style=\"opacity: 1; stroke-width: 0px; fill: rgb(0, 0, 255); fill-opacity: 1;\"/><path class=\"point\" transform=\"translate(130.87,283.54)\" d=\"M3,0A3,3 0 1,1 0,-3A3,3 0 0,1 3,0Z\" style=\"opacity: 1; stroke-width: 0px; fill: rgb(0, 0, 255); fill-opacity: 1;\"/><path class=\"point\" transform=\"translate(180.02,297.99)\" d=\"M3,0A3,3 0 1,1 0,-3A3,3 0 0,1 3,0Z\" style=\"opacity: 1; stroke-width: 0px; fill: rgb(0, 0, 255); fill-opacity: 1;\"/><path class=\"point\" transform=\"translate(53.7,299.28)\" d=\"M3,0A3,3 0 1,1 0,-3A3,3 0 0,1 3,0Z\" style=\"opacity: 1; stroke-width: 0px; fill: rgb(0, 0, 255); fill-opacity: 1;\"/><path class=\"point\" transform=\"translate(194.7,230.09)\" d=\"M3,0A3,3 0 1,1 0,-3A3,3 0 0,1 3,0Z\" style=\"opacity: 1; stroke-width: 0px; fill: rgb(0, 0, 255); fill-opacity: 1;\"/><path class=\"point\" transform=\"translate(187.46,267.72)\" d=\"M3,0A3,3 0 1,1 0,-3A3,3 0 0,1 3,0Z\" style=\"opacity: 1; stroke-width: 0px; fill: rgb(0, 0, 255); fill-opacity: 1;\"/><path class=\"point\" transform=\"translate(147.25,299.89)\" d=\"M3,0A3,3 0 1,1 0,-3A3,3 0 0,1 3,0Z\" style=\"opacity: 1; stroke-width: 0px; fill: rgb(0, 0, 255); fill-opacity: 1;\"/><path class=\"point\" transform=\"translate(81.11,300.25)\" d=\"M3,0A3,3 0 1,1 0,-3A3,3 0 0,1 3,0Z\" style=\"opacity: 1; stroke-width: 0px; fill: rgb(0, 0, 255); fill-opacity: 1;\"/></g><g class=\"text\"/></g></g></g><g class=\"overplot\"><g class=\"xy2\" transform=\"translate(80,100)\" clip-path=\"url(#clipefb449xy2plot)\"><g class=\"scatterlayer mlayer\"><g class=\"trace scatter trace072ff6\" style=\"stroke-miterlimit: 2; opacity: 1;\"><g class=\"fills\"/><g class=\"errorbars\"/><g class=\"lines\"/><g class=\"points\"><path class=\"point\" transform=\"translate(187.55,268.22)\" d=\"M3,0A3,3 0 1,1 0,-3A3,3 0 0,1 3,0Z\" style=\"opacity: 1; stroke-width: 0px; fill: rgb(255, 0, 0); fill-opacity: 1;\"/><path class=\"point\" transform=\"translate(228.68,298.13)\" d=\"M3,0A3,3 0 1,1 0,-3A3,3 0 0,1 3,0Z\" style=\"opacity: 1; stroke-width: 0px; fill: rgb(255, 0, 0); fill-opacity: 1;\"/><path class=\"point\" transform=\"translate(158.41,291.1)\" d=\"M3,0A3,3 0 1,1 0,-3A3,3 0 0,1 3,0Z\" style=\"opacity: 1; stroke-width: 0px; fill: rgb(255, 0, 0); fill-opacity: 1;\"/><path class=\"point\" transform=\"translate(66.38,294.34)\" d=\"M3,0A3,3 0 1,1 0,-3A3,3 0 0,1 3,0Z\" style=\"opacity: 1; stroke-width: 0px; fill: rgb(255, 0, 0); fill-opacity: 1;\"/><path class=\"point\" transform=\"translate(181.42,293.63)\" d=\"M3,0A3,3 0 1,1 0,-3A3,3 0 0,1 3,0Z\" style=\"opacity: 1; stroke-width: 0px; fill: rgb(255, 0, 0); fill-opacity: 1;\"/><path class=\"point\" transform=\"translate(126.57,299.01)\" d=\"M3,0A3,3 0 1,1 0,-3A3,3 0 0,1 3,0Z\" style=\"opacity: 1; stroke-width: 0px; fill: rgb(255, 0, 0); fill-opacity: 1;\"/><path class=\"point\" transform=\"translate(159.86,297.34)\" d=\"M3,0A3,3 0 1,1 0,-3A3,3 0 0,1 3,0Z\" style=\"opacity: 1; stroke-width: 0px; fill: rgb(255, 0, 0); fill-opacity: 1;\"/><path class=\"point\" transform=\"translate(192.12,294.55)\" d=\"M3,0A3,3 0 1,1 0,-3A3,3 0 0,1 3,0Z\" style=\"opacity: 1; stroke-width: 0px; fill: rgb(255, 0, 0); fill-opacity: 1;\"/><path class=\"point\" transform=\"translate(137.88,297.45)\" d=\"M3,0A3,3 0 1,1 0,-3A3,3 0 0,1 3,0Z\" style=\"opacity: 1; stroke-width: 0px; fill: rgb(255, 0, 0); fill-opacity: 1;\"/><path class=\"point\" transform=\"translate(277.42,292.99)\" d=\"M3,0A3,3 0 1,1 0,-3A3,3 0 0,1 3,0Z\" style=\"opacity: 1; stroke-width: 0px; fill: rgb(255, 0, 0); fill-opacity: 1;\"/><path class=\"point\" transform=\"translate(166.06,287.82)\" d=\"M3,0A3,3 0 1,1 0,-3A3,3 0 0,1 3,0Z\" style=\"opacity: 1; stroke-width: 0px; fill: rgb(255, 0, 0); fill-opacity: 1;\"/><path class=\"point\" transform=\"translate(173.1,292.56)\" d=\"M3,0A3,3 0 1,1 0,-3A3,3 0 0,1 3,0Z\" style=\"opacity: 1; stroke-width: 0px; fill: rgb(255, 0, 0); fill-opacity: 1;\"/><path class=\"point\" transform=\"translate(135.62,282.05)\" d=\"M3,0A3,3 0 1,1 0,-3A3,3 0 0,1 3,0Z\" style=\"opacity: 1; stroke-width: 0px; fill: rgb(255, 0, 0); fill-opacity: 1;\"/><path class=\"point\" transform=\"translate(89.81,292.8)\" d=\"M3,0A3,3 0 1,1 0,-3A3,3 0 0,1 3,0Z\" style=\"opacity: 1; stroke-width: 0px; fill: rgb(255, 0, 0); fill-opacity: 1;\"/><path class=\"point\" transform=\"translate(55.1,299.43)\" d=\"M3,0A3,3 0 1,1 0,-3A3,3 0 0,1 3,0Z\" style=\"opacity: 1; stroke-width: 0px; fill: rgb(255, 0, 0); fill-opacity: 1;\"/><path class=\"point\" transform=\"translate(125.15,296.11)\" d=\"M3,0A3,3 0 1,1 0,-3A3,3 0 0,1 3,0Z\" style=\"opacity: 1; stroke-width: 0px; fill: rgb(255, 0, 0); fill-opacity: 1;\"/><path class=\"point\" transform=\"translate(157.54,276.15)\" d=\"M3,0A3,3 0 1,1 0,-3A3,3 0 0,1 3,0Z\" style=\"opacity: 1; stroke-width: 0px; fill: rgb(255, 0, 0); fill-opacity: 1;\"/><path class=\"point\" transform=\"translate(119.31,294.4)\" d=\"M3,0A3,3 0 1,1 0,-3A3,3 0 0,1 3,0Z\" style=\"opacity: 1; stroke-width: 0px; fill: rgb(255, 0, 0); fill-opacity: 1;\"/><path class=\"point\" transform=\"translate(96.8,243.02)\" d=\"M3,0A3,3 0 1,1 0,-3A3,3 0 0,1 3,0Z\" style=\"opacity: 1; stroke-width: 0px; fill: rgb(255, 0, 0); fill-opacity: 1;\"/><path class=\"point\" transform=\"translate(101.44,292.35)\" d=\"M3,0A3,3 0 1,1 0,-3A3,3 0 0,1 3,0Z\" style=\"opacity: 1; stroke-width: 0px; fill: rgb(255, 0, 0); fill-opacity: 1;\"/><path class=\"point\" transform=\"translate(129.93,292.23)\" d=\"M3,0A3,3 0 1,1 0,-3A3,3 0 0,1 3,0Z\" style=\"opacity: 1; stroke-width: 0px; fill: rgb(255, 0, 0); fill-opacity: 1;\"/><path class=\"point\" transform=\"translate(212.53,287.32)\" d=\"M3,0A3,3 0 1,1 0,-3A3,3 0 0,1 3,0Z\" style=\"opacity: 1; stroke-width: 0px; fill: rgb(255, 0, 0); fill-opacity: 1;\"/><path class=\"point\" transform=\"translate(199.89,265.24)\" d=\"M3,0A3,3 0 1,1 0,-3A3,3 0 0,1 3,0Z\" style=\"opacity: 1; stroke-width: 0px; fill: rgb(255, 0, 0); fill-opacity: 1;\"/><path class=\"point\" transform=\"translate(148.18,298.68)\" d=\"M3,0A3,3 0 1,1 0,-3A3,3 0 0,1 3,0Z\" style=\"opacity: 1; stroke-width: 0px; fill: rgb(255, 0, 0); fill-opacity: 1;\"/><path class=\"point\" transform=\"translate(136.66,238.55)\" d=\"M3,0A3,3 0 1,1 0,-3A3,3 0 0,1 3,0Z\" style=\"opacity: 1; stroke-width: 0px; fill: rgb(255, 0, 0); fill-opacity: 1;\"/><path class=\"point\" transform=\"translate(73.24,298.34)\" d=\"M3,0A3,3 0 1,1 0,-3A3,3 0 0,1 3,0Z\" style=\"opacity: 1; stroke-width: 0px; fill: rgb(255, 0, 0); fill-opacity: 1;\"/><path class=\"point\" transform=\"translate(106.02,298.59)\" d=\"M3,0A3,3 0 1,1 0,-3A3,3 0 0,1 3,0Z\" style=\"opacity: 1; stroke-width: 0px; fill: rgb(255, 0, 0); fill-opacity: 1;\"/><path class=\"point\" transform=\"translate(165.8,283.97)\" d=\"M3,0A3,3 0 1,1 0,-3A3,3 0 0,1 3,0Z\" style=\"opacity: 1; stroke-width: 0px; fill: rgb(255, 0, 0); fill-opacity: 1;\"/><path class=\"point\" transform=\"translate(141.5,296.61)\" d=\"M3,0A3,3 0 1,1 0,-3A3,3 0 0,1 3,0Z\" style=\"opacity: 1; stroke-width: 0px; fill: rgb(255, 0, 0); fill-opacity: 1;\"/><path class=\"point\" transform=\"translate(164.48,294.01)\" d=\"M3,0A3,3 0 1,1 0,-3A3,3 0 0,1 3,0Z\" style=\"opacity: 1; stroke-width: 0px; fill: rgb(255, 0, 0); fill-opacity: 1;\"/><path class=\"point\" transform=\"translate(255.59,259.58)\" d=\"M3,0A3,3 0 1,1 0,-3A3,3 0 0,1 3,0Z\" style=\"opacity: 1; stroke-width: 0px; fill: rgb(255, 0, 0); fill-opacity: 1;\"/><path class=\"point\" transform=\"translate(147.4,296.78)\" d=\"M3,0A3,3 0 1,1 0,-3A3,3 0 0,1 3,0Z\" style=\"opacity: 1; stroke-width: 0px; fill: rgb(255, 0, 0); fill-opacity: 1;\"/><path class=\"point\" transform=\"translate(110.79,289.28)\" d=\"M3,0A3,3 0 1,1 0,-3A3,3 0 0,1 3,0Z\" style=\"opacity: 1; stroke-width: 0px; fill: rgb(255, 0, 0); fill-opacity: 1;\"/><path class=\"point\" transform=\"translate(160.5,248.07)\" d=\"M3,0A3,3 0 1,1 0,-3A3,3 0 0,1 3,0Z\" style=\"opacity: 1; stroke-width: 0px; fill: rgb(255, 0, 0); fill-opacity: 1;\"/><path class=\"point\" transform=\"translate(216.34,297.43)\" d=\"M3,0A3,3 0 1,1 0,-3A3,3 0 0,1 3,0Z\" style=\"opacity: 1; stroke-width: 0px; fill: rgb(255, 0, 0); fill-opacity: 1;\"/><path class=\"point\" transform=\"translate(159.87,298.35)\" d=\"M3,0A3,3 0 1,1 0,-3A3,3 0 0,1 3,0Z\" style=\"opacity: 1; stroke-width: 0px; fill: rgb(255, 0, 0); fill-opacity: 1;\"/><path class=\"point\" transform=\"translate(205.88,19.75)\" d=\"M3,0A3,3 0 1,1 0,-3A3,3 0 0,1 3,0Z\" style=\"opacity: 1; stroke-width: 0px; fill: rgb(255, 0, 0); fill-opacity: 1;\"/><path class=\"point\" transform=\"translate(95.74,240.49)\" d=\"M3,0A3,3 0 1,1 0,-3A3,3 0 0,1 3,0Z\" style=\"opacity: 1; stroke-width: 0px; fill: rgb(255, 0, 0); fill-opacity: 1;\"/><path class=\"point\" transform=\"translate(179.75,296.71)\" d=\"M3,0A3,3 0 1,1 0,-3A3,3 0 0,1 3,0Z\" style=\"opacity: 1; stroke-width: 0px; fill: rgb(255, 0, 0); fill-opacity: 1;\"/><path class=\"point\" transform=\"translate(99.64,296.8)\" d=\"M3,0A3,3 0 1,1 0,-3A3,3 0 0,1 3,0Z\" style=\"opacity: 1; stroke-width: 0px; fill: rgb(255, 0, 0); fill-opacity: 1;\"/><path class=\"point\" transform=\"translate(242.99,298.95)\" d=\"M3,0A3,3 0 1,1 0,-3A3,3 0 0,1 3,0Z\" style=\"opacity: 1; stroke-width: 0px; fill: rgb(255, 0, 0); fill-opacity: 1;\"/><path class=\"point\" transform=\"translate(290.87,289.26)\" d=\"M3,0A3,3 0 1,1 0,-3A3,3 0 0,1 3,0Z\" style=\"opacity: 1; stroke-width: 0px; fill: rgb(255, 0, 0); fill-opacity: 1;\"/><path class=\"point\" transform=\"translate(94.11,298.96)\" d=\"M3,0A3,3 0 1,1 0,-3A3,3 0 0,1 3,0Z\" style=\"opacity: 1; stroke-width: 0px; fill: rgb(255, 0, 0); fill-opacity: 1;\"/><path class=\"point\" transform=\"translate(27.72,274.35)\" d=\"M3,0A3,3 0 1,1 0,-3A3,3 0 0,1 3,0Z\" style=\"opacity: 1; stroke-width: 0px; fill: rgb(255, 0, 0); fill-opacity: 1;\"/><path class=\"point\" transform=\"translate(210.26,278.91)\" d=\"M3,0A3,3 0 1,1 0,-3A3,3 0 0,1 3,0Z\" style=\"opacity: 1; stroke-width: 0px; fill: rgb(255, 0, 0); fill-opacity: 1;\"/><path class=\"point\" transform=\"translate(201.29,299.29)\" d=\"M3,0A3,3 0 1,1 0,-3A3,3 0 0,1 3,0Z\" style=\"opacity: 1; stroke-width: 0px; fill: rgb(255, 0, 0); fill-opacity: 1;\"/><path class=\"point\" transform=\"translate(169.8,293.89)\" d=\"M3,0A3,3 0 1,1 0,-3A3,3 0 0,1 3,0Z\" style=\"opacity: 1; stroke-width: 0px; fill: rgb(255, 0, 0); fill-opacity: 1;\"/><path class=\"point\" transform=\"translate(80.62,291.64)\" d=\"M3,0A3,3 0 1,1 0,-3A3,3 0 0,1 3,0Z\" style=\"opacity: 1; stroke-width: 0px; fill: rgb(255, 0, 0); fill-opacity: 1;\"/><path class=\"point\" transform=\"translate(152.19,212.96)\" d=\"M3,0A3,3 0 1,1 0,-3A3,3 0 0,1 3,0Z\" style=\"opacity: 1; stroke-width: 0px; fill: rgb(255, 0, 0); fill-opacity: 1;\"/><path class=\"point\" transform=\"translate(218.09,295.7)\" d=\"M3,0A3,3 0 1,1 0,-3A3,3 0 0,1 3,0Z\" style=\"opacity: 1; stroke-width: 0px; fill: rgb(255, 0, 0); fill-opacity: 1;\"/><path class=\"point\" transform=\"translate(206.12,296.46)\" d=\"M3,0A3,3 0 1,1 0,-3A3,3 0 0,1 3,0Z\" style=\"opacity: 1; stroke-width: 0px; fill: rgb(255, 0, 0); fill-opacity: 1;\"/><path class=\"point\" transform=\"translate(352.52,241.3)\" d=\"M3,0A3,3 0 1,1 0,-3A3,3 0 0,1 3,0Z\" style=\"opacity: 1; stroke-width: 0px; fill: rgb(255, 0, 0); fill-opacity: 1;\"/><path class=\"point\" transform=\"translate(89.56,297.26)\" d=\"M3,0A3,3 0 1,1 0,-3A3,3 0 0,1 3,0Z\" style=\"opacity: 1; stroke-width: 0px; fill: rgb(255, 0, 0); fill-opacity: 1;\"/><path class=\"point\" transform=\"translate(341.51,276.17)\" d=\"M3,0A3,3 0 1,1 0,-3A3,3 0 0,1 3,0Z\" style=\"opacity: 1; stroke-width: 0px; fill: rgb(255, 0, 0); fill-opacity: 1;\"/><path class=\"point\" transform=\"translate(114.78,299.82)\" d=\"M3,0A3,3 0 1,1 0,-3A3,3 0 0,1 3,0Z\" style=\"opacity: 1; stroke-width: 0px; fill: rgb(255, 0, 0); fill-opacity: 1;\"/><path class=\"point\" transform=\"translate(451.68,276.53)\" d=\"M3,0A3,3 0 1,1 0,-3A3,3 0 0,1 3,0Z\" style=\"opacity: 1; stroke-width: 0px; fill: rgb(255, 0, 0); fill-opacity: 1;\"/><path class=\"point\" transform=\"translate(175.98,296.26)\" d=\"M3,0A3,3 0 1,1 0,-3A3,3 0 0,1 3,0Z\" style=\"opacity: 1; stroke-width: 0px; fill: rgb(255, 0, 0); fill-opacity: 1;\"/><path class=\"point\" transform=\"translate(114.25,155.73)\" d=\"M3,0A3,3 0 1,1 0,-3A3,3 0 0,1 3,0Z\" style=\"opacity: 1; stroke-width: 0px; fill: rgb(255, 0, 0); fill-opacity: 1;\"/><path class=\"point\" transform=\"translate(67.47,292.95)\" d=\"M3,0A3,3 0 1,1 0,-3A3,3 0 0,1 3,0Z\" style=\"opacity: 1; stroke-width: 0px; fill: rgb(255, 0, 0); fill-opacity: 1;\"/><path class=\"point\" transform=\"translate(154.45,249.5)\" d=\"M3,0A3,3 0 1,1 0,-3A3,3 0 0,1 3,0Z\" style=\"opacity: 1; stroke-width: 0px; fill: rgb(255, 0, 0); fill-opacity: 1;\"/><path class=\"point\" transform=\"translate(69.38,297.75)\" d=\"M3,0A3,3 0 1,1 0,-3A3,3 0 0,1 3,0Z\" style=\"opacity: 1; stroke-width: 0px; fill: rgb(255, 0, 0); fill-opacity: 1;\"/><path class=\"point\" transform=\"translate(130.87,294.19)\" d=\"M3,0A3,3 0 1,1 0,-3A3,3 0 0,1 3,0Z\" style=\"opacity: 1; stroke-width: 0px; fill: rgb(255, 0, 0); fill-opacity: 1;\"/><path class=\"point\" transform=\"translate(180.02,298.2)\" d=\"M3,0A3,3 0 1,1 0,-3A3,3 0 0,1 3,0Z\" style=\"opacity: 1; stroke-width: 0px; fill: rgb(255, 0, 0); fill-opacity: 1;\"/><path class=\"point\" transform=\"translate(53.7,299.33)\" d=\"M3,0A3,3 0 1,1 0,-3A3,3 0 0,1 3,0Z\" style=\"opacity: 1; stroke-width: 0px; fill: rgb(255, 0, 0); fill-opacity: 1;\"/><path class=\"point\" transform=\"translate(194.7,265.82)\" d=\"M3,0A3,3 0 1,1 0,-3A3,3 0 0,1 3,0Z\" style=\"opacity: 1; stroke-width: 0px; fill: rgb(255, 0, 0); fill-opacity: 1;\"/><path class=\"point\" transform=\"translate(187.46,278.25)\" d=\"M3,0A3,3 0 1,1 0,-3A3,3 0 0,1 3,0Z\" style=\"opacity: 1; stroke-width: 0px; fill: rgb(255, 0, 0); fill-opacity: 1;\"/><path class=\"point\" transform=\"translate(147.25,300.25)\" d=\"M3,0A3,3 0 1,1 0,-3A3,3 0 0,1 3,0Z\" style=\"opacity: 1; stroke-width: 0px; fill: rgb(255, 0, 0); fill-opacity: 1;\"/><path class=\"point\" transform=\"translate(81.11,299.98)\" d=\"M3,0A3,3 0 1,1 0,-3A3,3 0 0,1 3,0Z\" style=\"opacity: 1; stroke-width: 0px; fill: rgb(255, 0, 0); fill-opacity: 1;\"/></g><g class=\"text\"/></g></g></g></g><path class=\"xlines-above crisp\" d=\"M0,0\" style=\"fill: none;\"/><path class=\"ylines-above crisp\" d=\"M0,0\" style=\"fill: none;\"/><g class=\"overlines-above\"><path class=\"xy2-x crisp\" d=\"M0,0\" style=\"fill: none;\"/><path class=\"xy2-y crisp\" d=\"M0,0\" style=\"fill: none;\"/></g><g class=\"xaxislayer-above\"><g class=\"xtick\"><text text-anchor=\"middle\" x=\"0\" y=\"433\" transform=\"translate(140.91,0)\" style=\"font-family: 'Open Sans', verdana, arial, sans-serif; font-size: 12px; fill: rgb(42, 63, 95); fill-opacity: 1; white-space: pre; opacity: 1;\">−0.2</text></g><g class=\"xtick\"><text text-anchor=\"middle\" x=\"0\" y=\"433\" style=\"font-family: 'Open Sans', verdana, arial, sans-serif; font-size: 12px; fill: rgb(42, 63, 95); fill-opacity: 1; white-space: pre; opacity: 1;\" transform=\"translate(246.23,0)\">0</text></g><g class=\"xtick\"><text text-anchor=\"middle\" x=\"0\" y=\"433\" style=\"font-family: 'Open Sans', verdana, arial, sans-serif; font-size: 12px; fill: rgb(42, 63, 95); fill-opacity: 1; white-space: pre; opacity: 1;\" transform=\"translate(351.54,0)\">0.2</text></g><g class=\"xtick\"><text text-anchor=\"middle\" x=\"0\" y=\"433\" style=\"font-family: 'Open Sans', verdana, arial, sans-serif; font-size: 12px; fill: rgb(42, 63, 95); fill-opacity: 1; white-space: pre; opacity: 1;\" transform=\"translate(456.85,0)\">0.4</text></g></g><g class=\"yaxislayer-above\"><g class=\"ytick\"><text text-anchor=\"end\" x=\"79\" y=\"4.199999999999999\" transform=\"translate(0,401.71)\" style=\"font-family: 'Open Sans', verdana, arial, sans-serif; font-size: 12px; fill: rgb(42, 63, 95); fill-opacity: 1; white-space: pre; opacity: 1;\">0</text></g><g class=\"ytick\"><text text-anchor=\"end\" x=\"79\" y=\"4.199999999999999\" style=\"font-family: 'Open Sans', verdana, arial, sans-serif; font-size: 12px; fill: rgb(42, 63, 95); fill-opacity: 1; white-space: pre; opacity: 1;\" transform=\"translate(0,332.22)\">2M</text></g><g class=\"ytick\"><text text-anchor=\"end\" x=\"79\" y=\"4.199999999999999\" style=\"font-family: 'Open Sans', verdana, arial, sans-serif; font-size: 12px; fill: rgb(42, 63, 95); fill-opacity: 1; white-space: pre; opacity: 1;\" transform=\"translate(0,262.73)\">4M</text></g><g class=\"ytick\"><text text-anchor=\"end\" x=\"79\" y=\"4.199999999999999\" style=\"font-family: 'Open Sans', verdana, arial, sans-serif; font-size: 12px; fill: rgb(42, 63, 95); fill-opacity: 1; white-space: pre; opacity: 1;\" transform=\"translate(0,193.24)\">6M</text></g><g class=\"ytick\"><text text-anchor=\"end\" x=\"79\" y=\"4.199999999999999\" style=\"font-family: 'Open Sans', verdana, arial, sans-serif; font-size: 12px; fill: rgb(42, 63, 95); fill-opacity: 1; white-space: pre; opacity: 1;\" transform=\"translate(0,123.75)\">8M</text></g></g><g class=\"overaxes-above\"><g class=\"xy2-x\"/><g class=\"xy2-y\"><g class=\"y2tick\"><text text-anchor=\"start\" x=\"560.4\" y=\"4.199999999999999\" transform=\"translate(0,400.76)\" style=\"font-family: 'Open Sans', verdana, arial, sans-serif; font-size: 12px; fill: rgb(42, 63, 95); fill-opacity: 1; white-space: pre; opacity: 1;\">0</text></g><g class=\"y2tick\"><text text-anchor=\"start\" x=\"560.4\" y=\"4.199999999999999\" style=\"font-family: 'Open Sans', verdana, arial, sans-serif; font-size: 12px; fill: rgb(42, 63, 95); fill-opacity: 1; white-space: pre; opacity: 1;\" transform=\"translate(0,364.35)\">50k</text></g><g class=\"y2tick\"><text text-anchor=\"start\" x=\"560.4\" y=\"4.199999999999999\" style=\"font-family: 'Open Sans', verdana, arial, sans-serif; font-size: 12px; fill: rgb(42, 63, 95); fill-opacity: 1; white-space: pre; opacity: 1;\" transform=\"translate(0,327.93)\">100k</text></g><g class=\"y2tick\"><text text-anchor=\"start\" x=\"560.4\" y=\"4.199999999999999\" style=\"font-family: 'Open Sans', verdana, arial, sans-serif; font-size: 12px; fill: rgb(42, 63, 95); fill-opacity: 1; white-space: pre; opacity: 1;\" transform=\"translate(0,291.51)\">150k</text></g><g class=\"y2tick\"><text text-anchor=\"start\" x=\"560.4\" y=\"4.199999999999999\" style=\"font-family: 'Open Sans', verdana, arial, sans-serif; font-size: 12px; fill: rgb(42, 63, 95); fill-opacity: 1; white-space: pre; opacity: 1;\" transform=\"translate(0,255.1)\">200k</text></g><g class=\"y2tick\"><text text-anchor=\"start\" x=\"560.4\" y=\"4.199999999999999\" style=\"font-family: 'Open Sans', verdana, arial, sans-serif; font-size: 12px; fill: rgb(42, 63, 95); fill-opacity: 1; white-space: pre; opacity: 1;\" transform=\"translate(0,218.68)\">250k</text></g><g class=\"y2tick\"><text text-anchor=\"start\" x=\"560.4\" y=\"4.199999999999999\" style=\"font-family: 'Open Sans', verdana, arial, sans-serif; font-size: 12px; fill: rgb(42, 63, 95); fill-opacity: 1; white-space: pre; opacity: 1;\" transform=\"translate(0,182.26999999999998)\">300k</text></g><g class=\"y2tick\"><text text-anchor=\"start\" x=\"560.4\" y=\"4.199999999999999\" style=\"font-family: 'Open Sans', verdana, arial, sans-serif; font-size: 12px; fill: rgb(42, 63, 95); fill-opacity: 1; white-space: pre; opacity: 1;\" transform=\"translate(0,145.85)\">350k</text></g><g class=\"y2tick\"><text text-anchor=\"start\" x=\"560.4\" y=\"4.199999999999999\" style=\"font-family: 'Open Sans', verdana, arial, sans-serif; font-size: 12px; fill: rgb(42, 63, 95); fill-opacity: 1; white-space: pre; opacity: 1;\" transform=\"translate(0,109.44)\">400k</text></g></g></g></g><g class=\"subplot xy2\"/></g><g class=\"polarlayer\"/><g class=\"smithlayer\"/><g class=\"ternarylayer\"/><g class=\"geolayer\"/><g class=\"funnelarealayer\"/><g class=\"pielayer\"/><g class=\"iciclelayer\"/><g class=\"treemaplayer\"/><g class=\"sunburstlayer\"/><g class=\"glimages\"/><defs id=\"topdefs-efb449\"><g class=\"clips\"/><clipPath id=\"legendefb449\"><rect width=\"88\" height=\"48\" x=\"0\" y=\"0\"/></clipPath></defs><g class=\"layer-above\"><g class=\"imagelayer\"/><g class=\"shapelayer\"/></g><g class=\"infolayer\"><g class=\"legend\" pointer-events=\"all\" transform=\"translate(600.2,100)\"><rect class=\"bg\" shape-rendering=\"crispEdges\" width=\"88\" height=\"48\" x=\"0\" y=\"0\" style=\"stroke: rgb(68, 68, 68); stroke-opacity: 1; fill: rgb(255, 255, 255); fill-opacity: 1; stroke-width: 0px;\"/><g class=\"scrollbox\" transform=\"\" clip-path=\"url(#legendefb449)\"><g class=\"groups\"><g class=\"traces\" transform=\"translate(0,14.5)\" style=\"opacity: 1;\"><text class=\"legendtext\" text-anchor=\"start\" x=\"40\" y=\"4.680000000000001\" style=\"font-family: 'Open Sans', verdana, arial, sans-serif; font-size: 12px; fill: rgb(42, 63, 95); fill-opacity: 1; white-space: pre;\">trace 0</text><g class=\"layers\" style=\"opacity: 1;\"><g class=\"legendfill\"/><g class=\"legendlines\"/><g class=\"legendsymbols\"><g class=\"legendpoints\"><path class=\"scatterpts\" transform=\"translate(20,0)\" d=\"M3,0A3,3 0 1,1 0,-3A3,3 0 0,1 3,0Z\" style=\"opacity: 1; stroke-width: 0px; fill: rgb(0, 0, 255); fill-opacity: 1;\"/></g></g></g><rect class=\"legendtoggle\" x=\"0\" y=\"-9.5\" width=\"82.3125\" height=\"19\" style=\"fill: rgb(0, 0, 0); fill-opacity: 0;\"/></g><g class=\"traces\" transform=\"translate(0,33.5)\" style=\"opacity: 1;\"><text class=\"legendtext\" text-anchor=\"start\" x=\"40\" y=\"4.680000000000001\" style=\"font-family: 'Open Sans', verdana, arial, sans-serif; font-size: 12px; fill: rgb(42, 63, 95); fill-opacity: 1; white-space: pre;\">trace 1</text><g class=\"layers\" style=\"opacity: 1;\"><g class=\"legendfill\"/><g class=\"legendlines\"/><g class=\"legendsymbols\"><g class=\"legendpoints\"><path class=\"scatterpts\" transform=\"translate(20,0)\" d=\"M3,0A3,3 0 1,1 0,-3A3,3 0 0,1 3,0Z\" style=\"opacity: 1; stroke-width: 0px; fill: rgb(255, 0, 0); fill-opacity: 1;\"/></g></g></g><rect class=\"legendtoggle\" x=\"0\" y=\"-9.5\" width=\"82.3125\" height=\"19\" style=\"fill: rgb(0, 0, 0); fill-opacity: 0;\"/></g></g></g><rect class=\"scrollbar\" rx=\"20\" ry=\"3\" width=\"0\" height=\"0\" x=\"0\" y=\"0\" style=\"fill: rgb(128, 139, 164); fill-opacity: 1;\"/></g><g class=\"g-gtitle\"/><g class=\"g-xtitle\"/><g class=\"g-ytitle\"/><g class=\"g-y2title\"/></g></svg>"
     },
     "metadata": {},
     "output_type": "display_data"
    }
   ],
   "source": [
    "fig = make_subplots(specs=[[{'secondary_y': True}]])\n",
    "\n",
    "fig.add_trace(\n",
    "        go.Scatter(\n",
    "        x=video_comp_sentiments['avg_comp_sentiment'],\n",
    "        y=video_comp_sentiments['vid_viewcount'],\n",
    "        mode='markers',\n",
    "        marker_color='Blue',\n",
    "        text=video_comp_sentiments['vid_title'],\n",
    "        hovertemplate='<b>%{text}</b> <br>Sentiment Value: %{x} <br>View Count: %{y}'),\n",
    "        secondary_y=False\n",
    ")\n",
    "\n",
    "fig.add_trace(go.Scatter(\n",
    "    x=video_comp_sentiments['avg_comp_sentiment'],\n",
    "    y=video_comp_sentiments['vid_likecount'],\n",
    "    mode='markers',\n",
    "    marker_color='Red',\n",
    "    text=video_comp_sentiments['vid_title'],\n",
    "    hovertemplate='<b>%{text}</b> <br>Sentiment Value: %{x} <br>Like Count: %{y}'),\n",
    "    secondary_y=True\n",
    ")\n",
    "\n",
    "fig.show(renderer='svg')"
   ]
  },
  {
   "cell_type": "code",
   "execution_count": 95,
   "metadata": {},
   "outputs": [
    {
     "data": {
      "application/vnd.plotly.v1+json": {
       "config": {
        "plotlyServerURL": "https://plot.ly"
       },
       "data": [
        {
         "name": "yaxis values",
         "type": "scatter",
         "x": [
          10,
          20,
          30
         ],
         "xaxis": "x",
         "y": [
          400,
          500,
          600
         ],
         "yaxis": "y"
        },
        {
         "name": "yaxis2 values",
         "type": "scatter",
         "x": [
          20,
          30,
          40
         ],
         "xaxis": "x",
         "y": [
          40,
          50,
          60
         ],
         "yaxis": "y2"
        }
       ],
       "layout": {
        "template": {
         "data": {
          "bar": [
           {
            "error_x": {
             "color": "#2a3f5f"
            },
            "error_y": {
             "color": "#2a3f5f"
            },
            "marker": {
             "line": {
              "color": "#E5ECF6",
              "width": 0.5
             },
             "pattern": {
              "fillmode": "overlay",
              "size": 10,
              "solidity": 0.2
             }
            },
            "type": "bar"
           }
          ],
          "barpolar": [
           {
            "marker": {
             "line": {
              "color": "#E5ECF6",
              "width": 0.5
             },
             "pattern": {
              "fillmode": "overlay",
              "size": 10,
              "solidity": 0.2
             }
            },
            "type": "barpolar"
           }
          ],
          "carpet": [
           {
            "aaxis": {
             "endlinecolor": "#2a3f5f",
             "gridcolor": "white",
             "linecolor": "white",
             "minorgridcolor": "white",
             "startlinecolor": "#2a3f5f"
            },
            "baxis": {
             "endlinecolor": "#2a3f5f",
             "gridcolor": "white",
             "linecolor": "white",
             "minorgridcolor": "white",
             "startlinecolor": "#2a3f5f"
            },
            "type": "carpet"
           }
          ],
          "choropleth": [
           {
            "colorbar": {
             "outlinewidth": 0,
             "ticks": ""
            },
            "type": "choropleth"
           }
          ],
          "contour": [
           {
            "colorbar": {
             "outlinewidth": 0,
             "ticks": ""
            },
            "colorscale": [
             [
              0,
              "#0d0887"
             ],
             [
              0.1111111111111111,
              "#46039f"
             ],
             [
              0.2222222222222222,
              "#7201a8"
             ],
             [
              0.3333333333333333,
              "#9c179e"
             ],
             [
              0.4444444444444444,
              "#bd3786"
             ],
             [
              0.5555555555555556,
              "#d8576b"
             ],
             [
              0.6666666666666666,
              "#ed7953"
             ],
             [
              0.7777777777777778,
              "#fb9f3a"
             ],
             [
              0.8888888888888888,
              "#fdca26"
             ],
             [
              1,
              "#f0f921"
             ]
            ],
            "type": "contour"
           }
          ],
          "contourcarpet": [
           {
            "colorbar": {
             "outlinewidth": 0,
             "ticks": ""
            },
            "type": "contourcarpet"
           }
          ],
          "heatmap": [
           {
            "colorbar": {
             "outlinewidth": 0,
             "ticks": ""
            },
            "colorscale": [
             [
              0,
              "#0d0887"
             ],
             [
              0.1111111111111111,
              "#46039f"
             ],
             [
              0.2222222222222222,
              "#7201a8"
             ],
             [
              0.3333333333333333,
              "#9c179e"
             ],
             [
              0.4444444444444444,
              "#bd3786"
             ],
             [
              0.5555555555555556,
              "#d8576b"
             ],
             [
              0.6666666666666666,
              "#ed7953"
             ],
             [
              0.7777777777777778,
              "#fb9f3a"
             ],
             [
              0.8888888888888888,
              "#fdca26"
             ],
             [
              1,
              "#f0f921"
             ]
            ],
            "type": "heatmap"
           }
          ],
          "heatmapgl": [
           {
            "colorbar": {
             "outlinewidth": 0,
             "ticks": ""
            },
            "colorscale": [
             [
              0,
              "#0d0887"
             ],
             [
              0.1111111111111111,
              "#46039f"
             ],
             [
              0.2222222222222222,
              "#7201a8"
             ],
             [
              0.3333333333333333,
              "#9c179e"
             ],
             [
              0.4444444444444444,
              "#bd3786"
             ],
             [
              0.5555555555555556,
              "#d8576b"
             ],
             [
              0.6666666666666666,
              "#ed7953"
             ],
             [
              0.7777777777777778,
              "#fb9f3a"
             ],
             [
              0.8888888888888888,
              "#fdca26"
             ],
             [
              1,
              "#f0f921"
             ]
            ],
            "type": "heatmapgl"
           }
          ],
          "histogram": [
           {
            "marker": {
             "pattern": {
              "fillmode": "overlay",
              "size": 10,
              "solidity": 0.2
             }
            },
            "type": "histogram"
           }
          ],
          "histogram2d": [
           {
            "colorbar": {
             "outlinewidth": 0,
             "ticks": ""
            },
            "colorscale": [
             [
              0,
              "#0d0887"
             ],
             [
              0.1111111111111111,
              "#46039f"
             ],
             [
              0.2222222222222222,
              "#7201a8"
             ],
             [
              0.3333333333333333,
              "#9c179e"
             ],
             [
              0.4444444444444444,
              "#bd3786"
             ],
             [
              0.5555555555555556,
              "#d8576b"
             ],
             [
              0.6666666666666666,
              "#ed7953"
             ],
             [
              0.7777777777777778,
              "#fb9f3a"
             ],
             [
              0.8888888888888888,
              "#fdca26"
             ],
             [
              1,
              "#f0f921"
             ]
            ],
            "type": "histogram2d"
           }
          ],
          "histogram2dcontour": [
           {
            "colorbar": {
             "outlinewidth": 0,
             "ticks": ""
            },
            "colorscale": [
             [
              0,
              "#0d0887"
             ],
             [
              0.1111111111111111,
              "#46039f"
             ],
             [
              0.2222222222222222,
              "#7201a8"
             ],
             [
              0.3333333333333333,
              "#9c179e"
             ],
             [
              0.4444444444444444,
              "#bd3786"
             ],
             [
              0.5555555555555556,
              "#d8576b"
             ],
             [
              0.6666666666666666,
              "#ed7953"
             ],
             [
              0.7777777777777778,
              "#fb9f3a"
             ],
             [
              0.8888888888888888,
              "#fdca26"
             ],
             [
              1,
              "#f0f921"
             ]
            ],
            "type": "histogram2dcontour"
           }
          ],
          "mesh3d": [
           {
            "colorbar": {
             "outlinewidth": 0,
             "ticks": ""
            },
            "type": "mesh3d"
           }
          ],
          "parcoords": [
           {
            "line": {
             "colorbar": {
              "outlinewidth": 0,
              "ticks": ""
             }
            },
            "type": "parcoords"
           }
          ],
          "pie": [
           {
            "automargin": true,
            "type": "pie"
           }
          ],
          "scatter": [
           {
            "marker": {
             "colorbar": {
              "outlinewidth": 0,
              "ticks": ""
             }
            },
            "type": "scatter"
           }
          ],
          "scatter3d": [
           {
            "line": {
             "colorbar": {
              "outlinewidth": 0,
              "ticks": ""
             }
            },
            "marker": {
             "colorbar": {
              "outlinewidth": 0,
              "ticks": ""
             }
            },
            "type": "scatter3d"
           }
          ],
          "scattercarpet": [
           {
            "marker": {
             "colorbar": {
              "outlinewidth": 0,
              "ticks": ""
             }
            },
            "type": "scattercarpet"
           }
          ],
          "scattergeo": [
           {
            "marker": {
             "colorbar": {
              "outlinewidth": 0,
              "ticks": ""
             }
            },
            "type": "scattergeo"
           }
          ],
          "scattergl": [
           {
            "marker": {
             "colorbar": {
              "outlinewidth": 0,
              "ticks": ""
             }
            },
            "type": "scattergl"
           }
          ],
          "scattermapbox": [
           {
            "marker": {
             "colorbar": {
              "outlinewidth": 0,
              "ticks": ""
             }
            },
            "type": "scattermapbox"
           }
          ],
          "scatterpolar": [
           {
            "marker": {
             "colorbar": {
              "outlinewidth": 0,
              "ticks": ""
             }
            },
            "type": "scatterpolar"
           }
          ],
          "scatterpolargl": [
           {
            "marker": {
             "colorbar": {
              "outlinewidth": 0,
              "ticks": ""
             }
            },
            "type": "scatterpolargl"
           }
          ],
          "scatterternary": [
           {
            "marker": {
             "colorbar": {
              "outlinewidth": 0,
              "ticks": ""
             }
            },
            "type": "scatterternary"
           }
          ],
          "surface": [
           {
            "colorbar": {
             "outlinewidth": 0,
             "ticks": ""
            },
            "colorscale": [
             [
              0,
              "#0d0887"
             ],
             [
              0.1111111111111111,
              "#46039f"
             ],
             [
              0.2222222222222222,
              "#7201a8"
             ],
             [
              0.3333333333333333,
              "#9c179e"
             ],
             [
              0.4444444444444444,
              "#bd3786"
             ],
             [
              0.5555555555555556,
              "#d8576b"
             ],
             [
              0.6666666666666666,
              "#ed7953"
             ],
             [
              0.7777777777777778,
              "#fb9f3a"
             ],
             [
              0.8888888888888888,
              "#fdca26"
             ],
             [
              1,
              "#f0f921"
             ]
            ],
            "type": "surface"
           }
          ],
          "table": [
           {
            "cells": {
             "fill": {
              "color": "#EBF0F8"
             },
             "line": {
              "color": "white"
             }
            },
            "header": {
             "fill": {
              "color": "#C8D4E3"
             },
             "line": {
              "color": "white"
             }
            },
            "type": "table"
           }
          ]
         },
         "layout": {
          "annotationdefaults": {
           "arrowcolor": "#2a3f5f",
           "arrowhead": 0,
           "arrowwidth": 1
          },
          "autotypenumbers": "strict",
          "coloraxis": {
           "colorbar": {
            "outlinewidth": 0,
            "ticks": ""
           }
          },
          "colorscale": {
           "diverging": [
            [
             0,
             "#8e0152"
            ],
            [
             0.1,
             "#c51b7d"
            ],
            [
             0.2,
             "#de77ae"
            ],
            [
             0.3,
             "#f1b6da"
            ],
            [
             0.4,
             "#fde0ef"
            ],
            [
             0.5,
             "#f7f7f7"
            ],
            [
             0.6,
             "#e6f5d0"
            ],
            [
             0.7,
             "#b8e186"
            ],
            [
             0.8,
             "#7fbc41"
            ],
            [
             0.9,
             "#4d9221"
            ],
            [
             1,
             "#276419"
            ]
           ],
           "sequential": [
            [
             0,
             "#0d0887"
            ],
            [
             0.1111111111111111,
             "#46039f"
            ],
            [
             0.2222222222222222,
             "#7201a8"
            ],
            [
             0.3333333333333333,
             "#9c179e"
            ],
            [
             0.4444444444444444,
             "#bd3786"
            ],
            [
             0.5555555555555556,
             "#d8576b"
            ],
            [
             0.6666666666666666,
             "#ed7953"
            ],
            [
             0.7777777777777778,
             "#fb9f3a"
            ],
            [
             0.8888888888888888,
             "#fdca26"
            ],
            [
             1,
             "#f0f921"
            ]
           ],
           "sequentialminus": [
            [
             0,
             "#0d0887"
            ],
            [
             0.1111111111111111,
             "#46039f"
            ],
            [
             0.2222222222222222,
             "#7201a8"
            ],
            [
             0.3333333333333333,
             "#9c179e"
            ],
            [
             0.4444444444444444,
             "#bd3786"
            ],
            [
             0.5555555555555556,
             "#d8576b"
            ],
            [
             0.6666666666666666,
             "#ed7953"
            ],
            [
             0.7777777777777778,
             "#fb9f3a"
            ],
            [
             0.8888888888888888,
             "#fdca26"
            ],
            [
             1,
             "#f0f921"
            ]
           ]
          },
          "colorway": [
           "#636efa",
           "#EF553B",
           "#00cc96",
           "#ab63fa",
           "#FFA15A",
           "#19d3f3",
           "#FF6692",
           "#B6E880",
           "#FF97FF",
           "#FECB52"
          ],
          "font": {
           "color": "#2a3f5f"
          },
          "geo": {
           "bgcolor": "white",
           "lakecolor": "white",
           "landcolor": "#E5ECF6",
           "showlakes": true,
           "showland": true,
           "subunitcolor": "white"
          },
          "hoverlabel": {
           "align": "left"
          },
          "hovermode": "closest",
          "mapbox": {
           "style": "light"
          },
          "paper_bgcolor": "white",
          "plot_bgcolor": "#E5ECF6",
          "polar": {
           "angularaxis": {
            "gridcolor": "white",
            "linecolor": "white",
            "ticks": ""
           },
           "bgcolor": "#E5ECF6",
           "radialaxis": {
            "gridcolor": "white",
            "linecolor": "white",
            "ticks": ""
           }
          },
          "scene": {
           "xaxis": {
            "backgroundcolor": "#E5ECF6",
            "gridcolor": "white",
            "gridwidth": 2,
            "linecolor": "white",
            "showbackground": true,
            "ticks": "",
            "zerolinecolor": "white"
           },
           "yaxis": {
            "backgroundcolor": "#E5ECF6",
            "gridcolor": "white",
            "gridwidth": 2,
            "linecolor": "white",
            "showbackground": true,
            "ticks": "",
            "zerolinecolor": "white"
           },
           "zaxis": {
            "backgroundcolor": "#E5ECF6",
            "gridcolor": "white",
            "gridwidth": 2,
            "linecolor": "white",
            "showbackground": true,
            "ticks": "",
            "zerolinecolor": "white"
           }
          },
          "shapedefaults": {
           "line": {
            "color": "#2a3f5f"
           }
          },
          "ternary": {
           "aaxis": {
            "gridcolor": "white",
            "linecolor": "white",
            "ticks": ""
           },
           "baxis": {
            "gridcolor": "white",
            "linecolor": "white",
            "ticks": ""
           },
           "bgcolor": "#E5ECF6",
           "caxis": {
            "gridcolor": "white",
            "linecolor": "white",
            "ticks": ""
           }
          },
          "title": {
           "x": 0.05
          },
          "xaxis": {
           "automargin": true,
           "gridcolor": "white",
           "linecolor": "white",
           "ticks": "",
           "title": {
            "standoff": 15
           },
           "zerolinecolor": "white",
           "zerolinewidth": 2
          },
          "yaxis": {
           "automargin": true,
           "gridcolor": "white",
           "linecolor": "white",
           "ticks": "",
           "title": {
            "standoff": 15
           },
           "zerolinecolor": "white",
           "zerolinewidth": 2
          }
         }
        },
        "title": {
         "text": "Multiple Y Axis in Plotly"
        },
        "xaxis": {
         "anchor": "y",
         "domain": [
          0,
          0.94
         ],
         "title": {
          "text": "X - axis"
         }
        },
        "yaxis": {
         "anchor": "x",
         "domain": [
          0,
          1
         ],
         "title": {
          "text": "<b>Main</b> Y - axis "
         }
        },
        "yaxis2": {
         "anchor": "x",
         "overlaying": "y",
         "side": "right",
         "title": {
          "text": "<b>secondary</b> Y - axis "
         }
        }
       }
      }
     },
     "metadata": {},
     "output_type": "display_data"
    }
   ],
   "source": [
    "fig = make_subplots(specs=[[{\"secondary_y\": True}]])\n",
    " \n",
    "# plot a scatter chart by specifying the x and y values\n",
    "# Use add_trace function to specify secondary_y axes.\n",
    "fig.add_trace(\n",
    "    go.Scatter(x=[10, 20, 30], y=[400, 500, 600], name=\"yaxis values\"),\n",
    "    secondary_y=False)\n",
    " \n",
    "# Use add_trace function and specify secondary_y axes = True.\n",
    "fig.add_trace(\n",
    "    go.Scatter(x=[20, 30, 40], y=[40, 50, 60], name=\"yaxis2 values\"),\n",
    "    secondary_y=True,)\n",
    " \n",
    "# Adding title text to the figure\n",
    "fig.update_layout(\n",
    "    title_text=\"Multiple Y Axis in Plotly\"\n",
    ")\n",
    " \n",
    "# Naming x-axis\n",
    "fig.update_xaxes(title_text=\"X - axis\")\n",
    " \n",
    "# Naming y-axes\n",
    "fig.update_yaxes(title_text=\"<b>Main</b> Y - axis \", secondary_y=False)\n",
    "fig.update_yaxes(title_text=\"<b>secondary</b> Y - axis \", secondary_y=True)"
   ]
  },
  {
   "cell_type": "code",
   "execution_count": null,
   "metadata": {},
   "outputs": [],
   "source": []
  }
 ],
 "metadata": {
  "kernelspec": {
   "display_name": "Python 3.9.7 ('base')",
   "language": "python",
   "name": "python3"
  },
  "language_info": {
   "codemirror_mode": {
    "name": "ipython",
    "version": 3
   },
   "file_extension": ".py",
   "mimetype": "text/x-python",
   "name": "python",
   "nbconvert_exporter": "python",
   "pygments_lexer": "ipython3",
   "version": "3.9.7"
  },
  "orig_nbformat": 4,
  "vscode": {
   "interpreter": {
    "hash": "78adb8089f1b1ad0b7743184fb6585d3ffc1b6fb4a355aad49fe7003845e53d4"
   }
  }
 },
 "nbformat": 4,
 "nbformat_minor": 2
}
