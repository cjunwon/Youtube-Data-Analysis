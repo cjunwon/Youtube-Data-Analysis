{
 "cells": [
  {
   "cell_type": "markdown",
   "id": "51a26670",
   "metadata": {},
   "source": [
    "# Youtube Data Analysis"
   ]
  },
  {
   "cell_type": "markdown",
   "id": "05464853",
   "metadata": {},
   "source": [
    "## Import Channel Data"
   ]
  },
  {
   "cell_type": "code",
   "execution_count": 1,
   "id": "0b1c4a39",
   "metadata": {},
   "outputs": [],
   "source": [
    "from MySQL_DB_connect_functions import *\n",
    "from MySQL_DB_update_functions import *\n",
    "from youtube_api_functions import *"
   ]
  },
  {
   "cell_type": "code",
   "execution_count": 2,
   "id": "9c335499",
   "metadata": {},
   "outputs": [],
   "source": [
    "import numpy as np"
   ]
  },
  {
   "cell_type": "code",
   "execution_count": 2,
   "id": "8001d494",
   "metadata": {},
   "outputs": [],
   "source": [
    "host_name, dbname, schema_name, port, username, password = get_db_info()"
   ]
  },
  {
   "cell_type": "code",
   "execution_count": 3,
   "id": "7167c947",
   "metadata": {},
   "outputs": [
    {
     "name": "stdout",
     "output_type": "stream",
     "text": [
      "Connected to Database\n"
     ]
    }
   ],
   "source": [
    "cnx = None\n",
    "cnx = connect_to_db(username, password, host_name, schema_name, port)\n",
    "cursor = cnx.cursor()"
   ]
  },
  {
   "cell_type": "code",
   "execution_count": 4,
   "id": "4e9f6c9c",
   "metadata": {},
   "outputs": [],
   "source": [
    "table_name = 'videos' # Name of schema/table storing requested data in the database\n",
    "df = return_df_from_db(table_name, cnx)"
   ]
  },
  {
   "cell_type": "code",
   "execution_count": 5,
   "id": "14dfa94d",
   "metadata": {},
   "outputs": [
    {
     "data": {
      "text/html": [
       "<div>\n",
       "<style scoped>\n",
       "    .dataframe tbody tr th:only-of-type {\n",
       "        vertical-align: middle;\n",
       "    }\n",
       "\n",
       "    .dataframe tbody tr th {\n",
       "        vertical-align: top;\n",
       "    }\n",
       "\n",
       "    .dataframe thead th {\n",
       "        text-align: right;\n",
       "    }\n",
       "</style>\n",
       "<table border=\"1\" class=\"dataframe\">\n",
       "  <thead>\n",
       "    <tr style=\"text-align: right;\">\n",
       "      <th></th>\n",
       "      <th>video_id</th>\n",
       "      <th>channelTitle</th>\n",
       "      <th>title</th>\n",
       "      <th>description</th>\n",
       "      <th>publishedAt</th>\n",
       "      <th>viewCount</th>\n",
       "      <th>likeCount</th>\n",
       "      <th>favoriteCount</th>\n",
       "      <th>commentCount</th>\n",
       "      <th>caption</th>\n",
       "      <th>publishDayName</th>\n",
       "      <th>durationSecs</th>\n",
       "      <th>tagCount</th>\n",
       "    </tr>\n",
       "  </thead>\n",
       "  <tbody>\n",
       "    <tr>\n",
       "      <th>0</th>\n",
       "      <td>_UoTTq651dE</td>\n",
       "      <td>3Blue1Brown</td>\n",
       "      <td>Why 5/3 is a fundamental constant for turbulence</td>\n",
       "      <td>Some mathematical order amidst the chaos of tu...</td>\n",
       "      <td>2018-11-07</td>\n",
       "      <td>622119</td>\n",
       "      <td>23357</td>\n",
       "      <td>0</td>\n",
       "      <td>822</td>\n",
       "      <td>1</td>\n",
       "      <td>Wednesday</td>\n",
       "      <td>688</td>\n",
       "      <td>10</td>\n",
       "    </tr>\n",
       "    <tr>\n",
       "      <th>1</th>\n",
       "      <td>-9OUyo8NFZg</td>\n",
       "      <td>3Blue1Brown</td>\n",
       "      <td>Euler's Formula and Graph Duality</td>\n",
       "      <td>A description of planar graph duality, and how...</td>\n",
       "      <td>2015-06-21</td>\n",
       "      <td>412304</td>\n",
       "      <td>9630</td>\n",
       "      <td>0</td>\n",
       "      <td>331</td>\n",
       "      <td>1</td>\n",
       "      <td>Sunday</td>\n",
       "      <td>447</td>\n",
       "      <td>12</td>\n",
       "    </tr>\n",
       "    <tr>\n",
       "      <th>2</th>\n",
       "      <td>-qgreAUpPwM</td>\n",
       "      <td>3Blue1Brown</td>\n",
       "      <td>Pure Fourier series animation montage</td>\n",
       "      <td>Because why not?\\nLearn the math behind this: ...</td>\n",
       "      <td>2019-07-03</td>\n",
       "      <td>600345</td>\n",
       "      <td>18533</td>\n",
       "      <td>0</td>\n",
       "      <td>1241</td>\n",
       "      <td>1</td>\n",
       "      <td>Wednesday</td>\n",
       "      <td>749</td>\n",
       "      <td>8</td>\n",
       "    </tr>\n",
       "    <tr>\n",
       "      <th>3</th>\n",
       "      <td>-RdOwhmqP5s</td>\n",
       "      <td>3Blue1Brown</td>\n",
       "      <td>Newton’s method produces this fractal, why don...</td>\n",
       "      <td>Who knew root-finding could be so complicated?...</td>\n",
       "      <td>2021-10-12</td>\n",
       "      <td>1832565</td>\n",
       "      <td>74928</td>\n",
       "      <td>0</td>\n",
       "      <td>3107</td>\n",
       "      <td>1</td>\n",
       "      <td>Tuesday</td>\n",
       "      <td>1566</td>\n",
       "      <td>7</td>\n",
       "    </tr>\n",
       "    <tr>\n",
       "      <th>4</th>\n",
       "      <td>1SMmc9gQmHQ</td>\n",
       "      <td>3Blue1Brown</td>\n",
       "      <td>How to count to 1000 on two hands</td>\n",
       "      <td>Typically when we think of counting on two han...</td>\n",
       "      <td>2015-09-18</td>\n",
       "      <td>385566</td>\n",
       "      <td>11316</td>\n",
       "      <td>0</td>\n",
       "      <td>1087</td>\n",
       "      <td>1</td>\n",
       "      <td>Friday</td>\n",
       "      <td>154</td>\n",
       "      <td>11</td>\n",
       "    </tr>\n",
       "  </tbody>\n",
       "</table>\n",
       "</div>"
      ],
      "text/plain": [
       "      video_id channelTitle  \\\n",
       "0  _UoTTq651dE  3Blue1Brown   \n",
       "1  -9OUyo8NFZg  3Blue1Brown   \n",
       "2  -qgreAUpPwM  3Blue1Brown   \n",
       "3  -RdOwhmqP5s  3Blue1Brown   \n",
       "4  1SMmc9gQmHQ  3Blue1Brown   \n",
       "\n",
       "                                               title  \\\n",
       "0   Why 5/3 is a fundamental constant for turbulence   \n",
       "1                  Euler's Formula and Graph Duality   \n",
       "2              Pure Fourier series animation montage   \n",
       "3  Newton’s method produces this fractal, why don...   \n",
       "4                  How to count to 1000 on two hands   \n",
       "\n",
       "                                         description publishedAt  viewCount  \\\n",
       "0  Some mathematical order amidst the chaos of tu...  2018-11-07     622119   \n",
       "1  A description of planar graph duality, and how...  2015-06-21     412304   \n",
       "2  Because why not?\\nLearn the math behind this: ...  2019-07-03     600345   \n",
       "3  Who knew root-finding could be so complicated?...  2021-10-12    1832565   \n",
       "4  Typically when we think of counting on two han...  2015-09-18     385566   \n",
       "\n",
       "   likeCount  favoriteCount  commentCount  caption publishDayName  \\\n",
       "0      23357              0           822        1      Wednesday   \n",
       "1       9630              0           331        1         Sunday   \n",
       "2      18533              0          1241        1      Wednesday   \n",
       "3      74928              0          3107        1        Tuesday   \n",
       "4      11316              0          1087        1         Friday   \n",
       "\n",
       "   durationSecs  tagCount  \n",
       "0           688        10  \n",
       "1           447        12  \n",
       "2           749         8  \n",
       "3          1566         7  \n",
       "4           154        11  "
      ]
     },
     "execution_count": 5,
     "metadata": {},
     "output_type": "execute_result"
    }
   ],
   "source": [
    "df.head()"
   ]
  },
  {
   "cell_type": "markdown",
   "id": "b98c1a22",
   "metadata": {},
   "source": [
    "## Natural Language Processing"
   ]
  },
  {
   "cell_type": "code",
   "execution_count": 6,
   "id": "8884c839",
   "metadata": {},
   "outputs": [],
   "source": [
    "import nltk\n",
    "import numpy as np\n",
    "import matplotlib.pyplot as plt\n",
    "import seaborn as sns\n",
    "plt.style.use('ggplot')"
   ]
  },
  {
   "cell_type": "code",
   "execution_count": null,
   "id": "b5f5a679",
   "metadata": {},
   "outputs": [],
   "source": [
    "comments_df = get_video_comments(youtube_obj, video_id='VYQVlVoWoPY')"
   ]
  },
  {
   "cell_type": "code",
   "execution_count": null,
   "id": "a727e15e",
   "metadata": {},
   "outputs": [],
   "source": [
    "comments_df"
   ]
  },
  {
   "cell_type": "code",
   "execution_count": 7,
   "id": "bbc3f06f",
   "metadata": {},
   "outputs": [
    {
     "name": "stdout",
     "output_type": "stream",
     "text": [
      "What is backpropagation really doing? | Chapter 3, Deep learning\n"
     ]
    }
   ],
   "source": [
    "example = df['title'][50]\n",
    "print(example)"
   ]
  },
  {
   "cell_type": "code",
   "execution_count": 8,
   "id": "99b17d4e",
   "metadata": {},
   "outputs": [
    {
     "data": {
      "text/plain": [
       "['What',\n",
       " 'is',\n",
       " 'backpropagation',\n",
       " 'really',\n",
       " 'doing',\n",
       " '?',\n",
       " '|',\n",
       " 'Chapter',\n",
       " '3',\n",
       " ',']"
      ]
     },
     "execution_count": 8,
     "metadata": {},
     "output_type": "execute_result"
    }
   ],
   "source": [
    "tokens = nltk.word_tokenize(example)\n",
    "tokens[:10]"
   ]
  },
  {
   "cell_type": "code",
   "execution_count": 9,
   "id": "3744c419",
   "metadata": {},
   "outputs": [
    {
     "data": {
      "text/plain": [
       "[('What', 'WP'),\n",
       " ('is', 'VBZ'),\n",
       " ('backpropagation', 'NN'),\n",
       " ('really', 'RB'),\n",
       " ('doing', 'VBG'),\n",
       " ('?', '.'),\n",
       " ('|', 'JJ'),\n",
       " ('Chapter', 'NN'),\n",
       " ('3', 'CD'),\n",
       " (',', ',')]"
      ]
     },
     "execution_count": 9,
     "metadata": {},
     "output_type": "execute_result"
    }
   ],
   "source": [
    "tagged = nltk.pos_tag(tokens)\n",
    "tagged[:10]"
   ]
  },
  {
   "cell_type": "code",
   "execution_count": 10,
   "id": "46c39ec3",
   "metadata": {},
   "outputs": [
    {
     "name": "stdout",
     "output_type": "stream",
     "text": [
      "(S\n",
      "  What/WP\n",
      "  is/VBZ\n",
      "  backpropagation/NN\n",
      "  really/RB\n",
      "  doing/VBG\n",
      "  ?/.\n",
      "  |/JJ\n",
      "  Chapter/NN\n",
      "  3/CD\n",
      "  ,/,\n",
      "  (GPE Deep/NNP)\n",
      "  learning/NN)\n"
     ]
    }
   ],
   "source": [
    "entities = nltk.chunk.ne_chunk(tagged)\n",
    "entities.pprint() #PrettyPrint"
   ]
  },
  {
   "cell_type": "code",
   "execution_count": 11,
   "id": "af5872bf",
   "metadata": {},
   "outputs": [],
   "source": [
    "from nltk.sentiment import SentimentIntensityAnalyzer\n",
    "from tqdm.notebook import tqdm\n",
    "sia = SentimentIntensityAnalyzer()"
   ]
  },
  {
   "cell_type": "code",
   "execution_count": 12,
   "id": "461cfa2b",
   "metadata": {},
   "outputs": [
    {
     "data": {
      "text/plain": [
       "{'neg': 0.0, 'neu': 1.0, 'pos': 0.0, 'compound': 0.0}"
      ]
     },
     "execution_count": 12,
     "metadata": {},
     "output_type": "execute_result"
    }
   ],
   "source": [
    "sia.polarity_scores(example)"
   ]
  },
  {
   "cell_type": "code",
   "execution_count": 13,
   "id": "caece40c",
   "metadata": {},
   "outputs": [
    {
     "data": {
      "application/vnd.jupyter.widget-view+json": {
       "model_id": "1bfde25a50d64db5b5a16ba77a446f5c",
       "version_major": 2,
       "version_minor": 0
      },
      "text/plain": [
       "  0%|          | 0/124 [00:00<?, ?it/s]"
      ]
     },
     "metadata": {},
     "output_type": "display_data"
    }
   ],
   "source": [
    "results = {}\n",
    "for i, row in tqdm(df.iterrows(), total=len(df)):\n",
    "    text = row['title']\n",
    "    myid = row['video_id']\n",
    "    results[myid] = sia.polarity_scores(text)"
   ]
  },
  {
   "cell_type": "code",
   "execution_count": 19,
   "id": "34e169d9",
   "metadata": {},
   "outputs": [],
   "source": [
    "vaders = pd.DataFrame(results).T\n",
    "vaders = vaders.reset_index().rename(columns={'index': 'video_id'})\n",
    "vaders = vaders.merge(df, how='left')"
   ]
  },
  {
   "cell_type": "code",
   "execution_count": 20,
   "id": "b4d854ce",
   "metadata": {},
   "outputs": [
    {
     "data": {
      "text/html": [
       "<div>\n",
       "<style scoped>\n",
       "    .dataframe tbody tr th:only-of-type {\n",
       "        vertical-align: middle;\n",
       "    }\n",
       "\n",
       "    .dataframe tbody tr th {\n",
       "        vertical-align: top;\n",
       "    }\n",
       "\n",
       "    .dataframe thead th {\n",
       "        text-align: right;\n",
       "    }\n",
       "</style>\n",
       "<table border=\"1\" class=\"dataframe\">\n",
       "  <thead>\n",
       "    <tr style=\"text-align: right;\">\n",
       "      <th></th>\n",
       "      <th>video_id</th>\n",
       "      <th>neg</th>\n",
       "      <th>neu</th>\n",
       "      <th>pos</th>\n",
       "      <th>compound</th>\n",
       "      <th>channelTitle</th>\n",
       "      <th>title</th>\n",
       "      <th>description</th>\n",
       "      <th>publishedAt</th>\n",
       "      <th>viewCount</th>\n",
       "      <th>likeCount</th>\n",
       "      <th>favoriteCount</th>\n",
       "      <th>commentCount</th>\n",
       "      <th>caption</th>\n",
       "      <th>publishDayName</th>\n",
       "      <th>durationSecs</th>\n",
       "      <th>tagCount</th>\n",
       "    </tr>\n",
       "  </thead>\n",
       "  <tbody>\n",
       "    <tr>\n",
       "      <th>0</th>\n",
       "      <td>_UoTTq651dE</td>\n",
       "      <td>0.0</td>\n",
       "      <td>1.0</td>\n",
       "      <td>0.0</td>\n",
       "      <td>0.0</td>\n",
       "      <td>3Blue1Brown</td>\n",
       "      <td>Why 5/3 is a fundamental constant for turbulence</td>\n",
       "      <td>Some mathematical order amidst the chaos of tu...</td>\n",
       "      <td>2018-11-07</td>\n",
       "      <td>622119</td>\n",
       "      <td>23357</td>\n",
       "      <td>0</td>\n",
       "      <td>822</td>\n",
       "      <td>1</td>\n",
       "      <td>Wednesday</td>\n",
       "      <td>688</td>\n",
       "      <td>10</td>\n",
       "    </tr>\n",
       "    <tr>\n",
       "      <th>1</th>\n",
       "      <td>-9OUyo8NFZg</td>\n",
       "      <td>0.0</td>\n",
       "      <td>1.0</td>\n",
       "      <td>0.0</td>\n",
       "      <td>0.0</td>\n",
       "      <td>3Blue1Brown</td>\n",
       "      <td>Euler's Formula and Graph Duality</td>\n",
       "      <td>A description of planar graph duality, and how...</td>\n",
       "      <td>2015-06-21</td>\n",
       "      <td>412304</td>\n",
       "      <td>9630</td>\n",
       "      <td>0</td>\n",
       "      <td>331</td>\n",
       "      <td>1</td>\n",
       "      <td>Sunday</td>\n",
       "      <td>447</td>\n",
       "      <td>12</td>\n",
       "    </tr>\n",
       "    <tr>\n",
       "      <th>2</th>\n",
       "      <td>-qgreAUpPwM</td>\n",
       "      <td>0.0</td>\n",
       "      <td>1.0</td>\n",
       "      <td>0.0</td>\n",
       "      <td>0.0</td>\n",
       "      <td>3Blue1Brown</td>\n",
       "      <td>Pure Fourier series animation montage</td>\n",
       "      <td>Because why not?\\nLearn the math behind this: ...</td>\n",
       "      <td>2019-07-03</td>\n",
       "      <td>600345</td>\n",
       "      <td>18533</td>\n",
       "      <td>0</td>\n",
       "      <td>1241</td>\n",
       "      <td>1</td>\n",
       "      <td>Wednesday</td>\n",
       "      <td>749</td>\n",
       "      <td>8</td>\n",
       "    </tr>\n",
       "    <tr>\n",
       "      <th>3</th>\n",
       "      <td>-RdOwhmqP5s</td>\n",
       "      <td>0.0</td>\n",
       "      <td>1.0</td>\n",
       "      <td>0.0</td>\n",
       "      <td>0.0</td>\n",
       "      <td>3Blue1Brown</td>\n",
       "      <td>Newton’s method produces this fractal, why don...</td>\n",
       "      <td>Who knew root-finding could be so complicated?...</td>\n",
       "      <td>2021-10-12</td>\n",
       "      <td>1832565</td>\n",
       "      <td>74928</td>\n",
       "      <td>0</td>\n",
       "      <td>3107</td>\n",
       "      <td>1</td>\n",
       "      <td>Tuesday</td>\n",
       "      <td>1566</td>\n",
       "      <td>7</td>\n",
       "    </tr>\n",
       "    <tr>\n",
       "      <th>4</th>\n",
       "      <td>1SMmc9gQmHQ</td>\n",
       "      <td>0.0</td>\n",
       "      <td>1.0</td>\n",
       "      <td>0.0</td>\n",
       "      <td>0.0</td>\n",
       "      <td>3Blue1Brown</td>\n",
       "      <td>How to count to 1000 on two hands</td>\n",
       "      <td>Typically when we think of counting on two han...</td>\n",
       "      <td>2015-09-18</td>\n",
       "      <td>385566</td>\n",
       "      <td>11316</td>\n",
       "      <td>0</td>\n",
       "      <td>1087</td>\n",
       "      <td>1</td>\n",
       "      <td>Friday</td>\n",
       "      <td>154</td>\n",
       "      <td>11</td>\n",
       "    </tr>\n",
       "    <tr>\n",
       "      <th>...</th>\n",
       "      <td>...</td>\n",
       "      <td>...</td>\n",
       "      <td>...</td>\n",
       "      <td>...</td>\n",
       "      <td>...</td>\n",
       "      <td>...</td>\n",
       "      <td>...</td>\n",
       "      <td>...</td>\n",
       "      <td>...</td>\n",
       "      <td>...</td>\n",
       "      <td>...</td>\n",
       "      <td>...</td>\n",
       "      <td>...</td>\n",
       "      <td>...</td>\n",
       "      <td>...</td>\n",
       "      <td>...</td>\n",
       "      <td>...</td>\n",
       "    </tr>\n",
       "    <tr>\n",
       "      <th>119</th>\n",
       "      <td>ZA4JkHKZM50</td>\n",
       "      <td>0.0</td>\n",
       "      <td>1.0</td>\n",
       "      <td>0.0</td>\n",
       "      <td>0.0</td>\n",
       "      <td>3Blue1Brown</td>\n",
       "      <td>Why “probability of 0” does not mean “impossib...</td>\n",
       "      <td>An introduction to probability density functio...</td>\n",
       "      <td>2020-04-12</td>\n",
       "      <td>2125788</td>\n",
       "      <td>58621</td>\n",
       "      <td>0</td>\n",
       "      <td>3247</td>\n",
       "      <td>1</td>\n",
       "      <td>Sunday</td>\n",
       "      <td>601</td>\n",
       "      <td>7</td>\n",
       "    </tr>\n",
       "    <tr>\n",
       "      <th>120</th>\n",
       "      <td>zjMuIxRvygQ</td>\n",
       "      <td>0.0</td>\n",
       "      <td>1.0</td>\n",
       "      <td>0.0</td>\n",
       "      <td>0.0</td>\n",
       "      <td>3Blue1Brown</td>\n",
       "      <td>Quaternions and 3d rotation, explained interac...</td>\n",
       "      <td>Go experience the explorable videos: https://e...</td>\n",
       "      <td>2018-10-26</td>\n",
       "      <td>815190</td>\n",
       "      <td>21020</td>\n",
       "      <td>0</td>\n",
       "      <td>673</td>\n",
       "      <td>1</td>\n",
       "      <td>Friday</td>\n",
       "      <td>359</td>\n",
       "      <td>9</td>\n",
       "    </tr>\n",
       "    <tr>\n",
       "      <th>121</th>\n",
       "      <td>zLzLxVeqdQg</td>\n",
       "      <td>0.0</td>\n",
       "      <td>1.0</td>\n",
       "      <td>0.0</td>\n",
       "      <td>0.0</td>\n",
       "      <td>3Blue1Brown</td>\n",
       "      <td>Euler's Formula Poem</td>\n",
       "      <td>A poem about why e to the pi i equals -1, base...</td>\n",
       "      <td>2015-03-05</td>\n",
       "      <td>140989</td>\n",
       "      <td>4316</td>\n",
       "      <td>0</td>\n",
       "      <td>139</td>\n",
       "      <td>1</td>\n",
       "      <td>Thursday</td>\n",
       "      <td>64</td>\n",
       "      <td>10</td>\n",
       "    </tr>\n",
       "    <tr>\n",
       "      <th>122</th>\n",
       "      <td>zwAD6dRSVyI</td>\n",
       "      <td>0.0</td>\n",
       "      <td>1.0</td>\n",
       "      <td>0.0</td>\n",
       "      <td>0.0</td>\n",
       "      <td>3Blue1Brown</td>\n",
       "      <td>Thinking outside the 10-dimensional box</td>\n",
       "      <td>Visualizing high-dimensional spheres to unders...</td>\n",
       "      <td>2017-08-11</td>\n",
       "      <td>2787477</td>\n",
       "      <td>59021</td>\n",
       "      <td>0</td>\n",
       "      <td>3496</td>\n",
       "      <td>1</td>\n",
       "      <td>Friday</td>\n",
       "      <td>1627</td>\n",
       "      <td>15</td>\n",
       "    </tr>\n",
       "    <tr>\n",
       "      <th>123</th>\n",
       "      <td>ZxYOEwM6Wbk</td>\n",
       "      <td>0.0</td>\n",
       "      <td>1.0</td>\n",
       "      <td>0.0</td>\n",
       "      <td>0.0</td>\n",
       "      <td>3Blue1Brown</td>\n",
       "      <td>What is Euler's formula actually saying? | Ep....</td>\n",
       "      <td>What does it mean to compute e^{pi i}?\\nFull p...</td>\n",
       "      <td>2020-04-28</td>\n",
       "      <td>845672</td>\n",
       "      <td>22639</td>\n",
       "      <td>0</td>\n",
       "      <td>1632</td>\n",
       "      <td>0</td>\n",
       "      <td>Tuesday</td>\n",
       "      <td>3076</td>\n",
       "      <td>0</td>\n",
       "    </tr>\n",
       "  </tbody>\n",
       "</table>\n",
       "<p>124 rows × 17 columns</p>\n",
       "</div>"
      ],
      "text/plain": [
       "        video_id  neg  neu  pos  compound channelTitle  \\\n",
       "0    _UoTTq651dE  0.0  1.0  0.0       0.0  3Blue1Brown   \n",
       "1    -9OUyo8NFZg  0.0  1.0  0.0       0.0  3Blue1Brown   \n",
       "2    -qgreAUpPwM  0.0  1.0  0.0       0.0  3Blue1Brown   \n",
       "3    -RdOwhmqP5s  0.0  1.0  0.0       0.0  3Blue1Brown   \n",
       "4    1SMmc9gQmHQ  0.0  1.0  0.0       0.0  3Blue1Brown   \n",
       "..           ...  ...  ...  ...       ...          ...   \n",
       "119  ZA4JkHKZM50  0.0  1.0  0.0       0.0  3Blue1Brown   \n",
       "120  zjMuIxRvygQ  0.0  1.0  0.0       0.0  3Blue1Brown   \n",
       "121  zLzLxVeqdQg  0.0  1.0  0.0       0.0  3Blue1Brown   \n",
       "122  zwAD6dRSVyI  0.0  1.0  0.0       0.0  3Blue1Brown   \n",
       "123  ZxYOEwM6Wbk  0.0  1.0  0.0       0.0  3Blue1Brown   \n",
       "\n",
       "                                                 title  \\\n",
       "0     Why 5/3 is a fundamental constant for turbulence   \n",
       "1                    Euler's Formula and Graph Duality   \n",
       "2                Pure Fourier series animation montage   \n",
       "3    Newton’s method produces this fractal, why don...   \n",
       "4                    How to count to 1000 on two hands   \n",
       "..                                                 ...   \n",
       "119  Why “probability of 0” does not mean “impossib...   \n",
       "120  Quaternions and 3d rotation, explained interac...   \n",
       "121                               Euler's Formula Poem   \n",
       "122            Thinking outside the 10-dimensional box   \n",
       "123  What is Euler's formula actually saying? | Ep....   \n",
       "\n",
       "                                           description publishedAt  viewCount  \\\n",
       "0    Some mathematical order amidst the chaos of tu...  2018-11-07     622119   \n",
       "1    A description of planar graph duality, and how...  2015-06-21     412304   \n",
       "2    Because why not?\\nLearn the math behind this: ...  2019-07-03     600345   \n",
       "3    Who knew root-finding could be so complicated?...  2021-10-12    1832565   \n",
       "4    Typically when we think of counting on two han...  2015-09-18     385566   \n",
       "..                                                 ...         ...        ...   \n",
       "119  An introduction to probability density functio...  2020-04-12    2125788   \n",
       "120  Go experience the explorable videos: https://e...  2018-10-26     815190   \n",
       "121  A poem about why e to the pi i equals -1, base...  2015-03-05     140989   \n",
       "122  Visualizing high-dimensional spheres to unders...  2017-08-11    2787477   \n",
       "123  What does it mean to compute e^{pi i}?\\nFull p...  2020-04-28     845672   \n",
       "\n",
       "     likeCount  favoriteCount  commentCount  caption publishDayName  \\\n",
       "0        23357              0           822        1      Wednesday   \n",
       "1         9630              0           331        1         Sunday   \n",
       "2        18533              0          1241        1      Wednesday   \n",
       "3        74928              0          3107        1        Tuesday   \n",
       "4        11316              0          1087        1         Friday   \n",
       "..         ...            ...           ...      ...            ...   \n",
       "119      58621              0          3247        1         Sunday   \n",
       "120      21020              0           673        1         Friday   \n",
       "121       4316              0           139        1       Thursday   \n",
       "122      59021              0          3496        1         Friday   \n",
       "123      22639              0          1632        0        Tuesday   \n",
       "\n",
       "     durationSecs  tagCount  \n",
       "0             688        10  \n",
       "1             447        12  \n",
       "2             749         8  \n",
       "3            1566         7  \n",
       "4             154        11  \n",
       "..            ...       ...  \n",
       "119           601         7  \n",
       "120           359         9  \n",
       "121            64        10  \n",
       "122          1627        15  \n",
       "123          3076         0  \n",
       "\n",
       "[124 rows x 17 columns]"
      ]
     },
     "execution_count": 20,
     "metadata": {},
     "output_type": "execute_result"
    }
   ],
   "source": [
    "vaders"
   ]
  }
 ],
 "metadata": {
  "kernelspec": {
   "display_name": "Python 3.9.7 ('base')",
   "language": "python",
   "name": "python3"
  },
  "language_info": {
   "codemirror_mode": {
    "name": "ipython",
    "version": 3
   },
   "file_extension": ".py",
   "mimetype": "text/x-python",
   "name": "python",
   "nbconvert_exporter": "python",
   "pygments_lexer": "ipython3",
   "version": "3.9.7"
  },
  "vscode": {
   "interpreter": {
    "hash": "78adb8089f1b1ad0b7743184fb6585d3ffc1b6fb4a355aad49fe7003845e53d4"
   }
  }
 },
 "nbformat": 4,
 "nbformat_minor": 5
}
