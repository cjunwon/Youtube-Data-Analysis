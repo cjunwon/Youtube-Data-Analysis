{
 "cells": [
  {
   "cell_type": "code",
   "execution_count": 8,
   "id": "0b1c4a39",
   "metadata": {},
   "outputs": [],
   "source": [
    "from MySQL_DB_connect_functions import get_db_info, connect_to_db\n",
    "import pandas as pd"
   ]
  },
  {
   "cell_type": "code",
   "execution_count": 9,
   "id": "8001d494",
   "metadata": {},
   "outputs": [],
   "source": [
    "host_name, dbname, schema_name, port, username, password = get_db_info()"
   ]
  },
  {
   "cell_type": "code",
   "execution_count": 10,
   "id": "7167c947",
   "metadata": {},
   "outputs": [],
   "source": [
    "cnx = None"
   ]
  },
  {
   "cell_type": "code",
   "execution_count": 11,
   "id": "2f276899",
   "metadata": {},
   "outputs": [
    {
     "name": "stdout",
     "output_type": "stream",
     "text": [
      "Connected!\n"
     ]
    }
   ],
   "source": [
    "cnx = connect_to_db(username, password, host_name, schema_name, port)"
   ]
  },
  {
   "cell_type": "code",
   "execution_count": 12,
   "id": "a7e170ab",
   "metadata": {},
   "outputs": [],
   "source": [
    "cursor = cnx.cursor()"
   ]
  },
  {
   "cell_type": "code",
   "execution_count": 13,
   "id": "419b392f",
   "metadata": {},
   "outputs": [],
   "source": [
    "cursor.execute(\"SELECT * FROM videos LIMIT 5\")"
   ]
  },
  {
   "cell_type": "code",
   "execution_count": 14,
   "id": "26b0980b",
   "metadata": {},
   "outputs": [
    {
     "name": "stdout",
     "output_type": "stream",
     "text": [
      "('_-0J49_9lwc', 'LastWeekTonight', 'Housing Discrimination: Last Week Tonight with John Oliver (HBO)', 'John Oliver breaks down the long history of housing discrimination in the U.S., the damage it’s done, and, crucially, what we can do about it. \\n\\nConnect with Last Week Tonight online... \\n\\nSubscribe to the Last Week Tonight YouTube channel for more almost news as it almost happens: www.youtube.com/lastweektonight \\n\\nFind Last Week Tonight on Facebook like your mom would: www.facebook.com/lastweektonight \\n\\nFollow us on Twitter for news about jokes and jokes about news: www.twitter.com/lastweektonight \\n\\nVisit our official site for all that other stuff at once: www.hbo.com/lastweektonight', datetime.date(2021, 7, 26), 6885028, 130544, 0, 16250, 1, 'Monday', 1928, 0)\n",
      "('_066dEkycr4', 'LastWeekTonight', 'Coronavirus II: Last Week Tonight with John Oliver (HBO)', 'As the spread of coronavirus worsens in the US, John Oliver discusses how the government is handling the outbreak, how they’re not, and what we can do to help.\\n\\nConnect with Last Week Tonight online... \\n\\nSubscribe to the Last Week Tonight YouTube channel for more almost news as it almost happens: www.youtube.com/lastweektonight \\n\\nFind Last Week Tonight on Facebook like your mom would: www.facebook.com/lastweektonight \\n\\nFollow us on Twitter for news about jokes and jokes about news: www.twitter.com/lastweektonight \\n\\nVisit our official site for all that other stuff at once: www.hbo.com/lastweektonight', datetime.date(2020, 3, 16), 12474833, 359643, 0, 35953, 0, 'Monday', 1331, 0)\n",
      "('_8m8cQI4DgM', 'LastWeekTonight', 'Ayn Rand - How Is This Still A Thing?: Last Week Tonight with John Oliver (HBO)', 'Ayn Rand, author of \"Atlas Shrugged\" and \"The Fountainhead,\" is still kind of a thing. How? \\n\\nConnect with Last Week Tonight online...\\nSubscribe to the Last Week Tonight YouTube channel for more almost news as it almost happens: www.youtube.com/user/LastWeekTonight\\n\\nFind Last Week Tonight on Facebook like your mom would:\\nhttp://Facebook.com/LastWeekTonight\\n\\nFollow us on Twitter for news about jokes and jokes about news:\\nhttp://Twitter.com/LastWeekTonight\\n\\nVisit our official site for all that other stuff at once:\\nhttp://www.hbo.com/lastweektonight', datetime.date(2014, 10, 9), 6791831, 72583, 0, 13704, 0, 'Thursday', 221, 5)\n",
      "('_ECYMvjU52E', 'LastWeekTonight', 'NRA: Last Week Tonight with John Oliver (HBO)', 'John Oliver discusses the way the NRA not only works to prevent gun control, they work to prevent an informed discussion about gun control.\\n\\nConnect with Last Week Tonight online...\\n\\nSubscribe to the Last Week Tonight YouTube channel for more almost news as it almost happens: www.youtube.com/user/LastWeekTonight\\n\\nFind Last Week Tonight on Facebook like your mom would: http://Facebook.com/LastWeekTonight\\n\\nFollow us on Twitter for news about jokes and jokes about news: http://Twitter.com/LastWeekTonight\\n\\nVisit our official site for all that other stuff at once: http://www.hbo.com/lastweektonight', datetime.date(2017, 10, 4), 9514732, 119173, 0, 16561, 0, 'Wednesday', 758, 3)\n",
      "('_h1ooyyFkF0', 'LastWeekTonight', 'Automation: Last Week Tonight with John Oliver (HBO)', 'Automation often seems like a scary new problem, but it’s neither entirely scary nor entirely new.\\n\\nConnect with Last Week Tonight online...\\n\\nSubscribe to the Last Week Tonight YouTube channel for more almost news as it almost happens: www.youtube.com/lastweektonight\\n\\nFind Last Week Tonight on Facebook like your mom would: www.facebook.com/lastweektonight\\n\\nFollow us on Twitter for news about jokes and jokes about news: www.twitter.com/lastweektonight\\n\\nVisit our official site for all that other stuff at once: www.hbo.com/lastweektonight', datetime.date(2019, 3, 4), 9536348, 144477, 0, 13614, 0, 'Monday', 1188, 0)\n"
     ]
    }
   ],
   "source": [
    "for i in cursor:\n",
    "    print(i)"
   ]
  }
 ],
 "metadata": {
  "kernelspec": {
   "display_name": "Python 3.9.7 ('base')",
   "language": "python",
   "name": "python3"
  },
  "language_info": {
   "codemirror_mode": {
    "name": "ipython",
    "version": 3
   },
   "file_extension": ".py",
   "mimetype": "text/x-python",
   "name": "python",
   "nbconvert_exporter": "python",
   "pygments_lexer": "ipython3",
   "version": "3.9.7"
  },
  "vscode": {
   "interpreter": {
    "hash": "78adb8089f1b1ad0b7743184fb6585d3ffc1b6fb4a355aad49fe7003845e53d4"
   }
  }
 },
 "nbformat": 4,
 "nbformat_minor": 5
}
