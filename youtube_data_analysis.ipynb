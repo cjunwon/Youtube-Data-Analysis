{
 "cells": [
  {
   "cell_type": "code",
   "execution_count": 3,
   "id": "0b1c4a39",
   "metadata": {},
   "outputs": [],
   "source": [
    "from MySQL_DB_connect_functions import *\n",
    "import numpy as np"
   ]
  },
  {
   "cell_type": "code",
   "execution_count": 4,
   "id": "8001d494",
   "metadata": {},
   "outputs": [],
   "source": [
    "host_name, dbname, schema_name, port, username, password = get_db_info()"
   ]
  },
  {
   "cell_type": "code",
   "execution_count": 5,
   "id": "7167c947",
   "metadata": {},
   "outputs": [],
   "source": [
    "cnx = None"
   ]
  },
  {
   "cell_type": "code",
   "execution_count": 6,
   "id": "2f276899",
   "metadata": {},
   "outputs": [
    {
     "name": "stdout",
     "output_type": "stream",
     "text": [
      "Connected to Database\n"
     ]
    }
   ],
   "source": [
    "cnx = connect_to_db(username, password, host_name, schema_name, port)"
   ]
  },
  {
   "cell_type": "code",
   "execution_count": 7,
   "id": "a7e170ab",
   "metadata": {},
   "outputs": [],
   "source": [
    "cursor = cnx.cursor()"
   ]
  },
  {
   "cell_type": "code",
   "execution_count": 8,
   "id": "4e9f6c9c",
   "metadata": {},
   "outputs": [],
   "source": [
    "# Name of schema/table storing requested data in the database\n",
    "table_name = 'videos'"
   ]
  },
  {
   "cell_type": "code",
   "execution_count": 9,
   "id": "3e2a3fb4",
   "metadata": {},
   "outputs": [],
   "source": [
    "analysis_df = return_df_from_db(table_name, cnx)"
   ]
  },
  {
   "cell_type": "code",
   "execution_count": 10,
   "id": "14dfa94d",
   "metadata": {},
   "outputs": [
    {
     "data": {
      "text/html": [
       "<div>\n",
       "<style scoped>\n",
       "    .dataframe tbody tr th:only-of-type {\n",
       "        vertical-align: middle;\n",
       "    }\n",
       "\n",
       "    .dataframe tbody tr th {\n",
       "        vertical-align: top;\n",
       "    }\n",
       "\n",
       "    .dataframe thead th {\n",
       "        text-align: right;\n",
       "    }\n",
       "</style>\n",
       "<table border=\"1\" class=\"dataframe\">\n",
       "  <thead>\n",
       "    <tr style=\"text-align: right;\">\n",
       "      <th></th>\n",
       "      <th>video_id</th>\n",
       "      <th>channelTitle</th>\n",
       "      <th>title</th>\n",
       "      <th>description</th>\n",
       "      <th>publishedAt</th>\n",
       "      <th>viewCount</th>\n",
       "      <th>likeCount</th>\n",
       "      <th>favoriteCount</th>\n",
       "      <th>commentCount</th>\n",
       "      <th>caption</th>\n",
       "      <th>publishDayName</th>\n",
       "      <th>durationSecs</th>\n",
       "      <th>tagCount</th>\n",
       "    </tr>\n",
       "  </thead>\n",
       "  <tbody>\n",
       "    <tr>\n",
       "      <th>0</th>\n",
       "      <td>_UoTTq651dE</td>\n",
       "      <td>3Blue1Brown</td>\n",
       "      <td>Why 5/3 is a fundamental constant for turbulence</td>\n",
       "      <td>Some mathematical order amidst the chaos of tu...</td>\n",
       "      <td>2018-11-07</td>\n",
       "      <td>622119</td>\n",
       "      <td>23357</td>\n",
       "      <td>0</td>\n",
       "      <td>822</td>\n",
       "      <td>1</td>\n",
       "      <td>Wednesday</td>\n",
       "      <td>688</td>\n",
       "      <td>10</td>\n",
       "    </tr>\n",
       "    <tr>\n",
       "      <th>1</th>\n",
       "      <td>-9OUyo8NFZg</td>\n",
       "      <td>3Blue1Brown</td>\n",
       "      <td>Euler's Formula and Graph Duality</td>\n",
       "      <td>A description of planar graph duality, and how...</td>\n",
       "      <td>2015-06-21</td>\n",
       "      <td>412304</td>\n",
       "      <td>9630</td>\n",
       "      <td>0</td>\n",
       "      <td>331</td>\n",
       "      <td>1</td>\n",
       "      <td>Sunday</td>\n",
       "      <td>447</td>\n",
       "      <td>12</td>\n",
       "    </tr>\n",
       "    <tr>\n",
       "      <th>2</th>\n",
       "      <td>-qgreAUpPwM</td>\n",
       "      <td>3Blue1Brown</td>\n",
       "      <td>Pure Fourier series animation montage</td>\n",
       "      <td>Because why not?\\nLearn the math behind this: ...</td>\n",
       "      <td>2019-07-03</td>\n",
       "      <td>600345</td>\n",
       "      <td>18533</td>\n",
       "      <td>0</td>\n",
       "      <td>1241</td>\n",
       "      <td>1</td>\n",
       "      <td>Wednesday</td>\n",
       "      <td>749</td>\n",
       "      <td>8</td>\n",
       "    </tr>\n",
       "    <tr>\n",
       "      <th>3</th>\n",
       "      <td>-RdOwhmqP5s</td>\n",
       "      <td>3Blue1Brown</td>\n",
       "      <td>Newton’s method produces this fractal, why don...</td>\n",
       "      <td>Who knew root-finding could be so complicated?...</td>\n",
       "      <td>2021-10-12</td>\n",
       "      <td>1832565</td>\n",
       "      <td>74928</td>\n",
       "      <td>0</td>\n",
       "      <td>3107</td>\n",
       "      <td>1</td>\n",
       "      <td>Tuesday</td>\n",
       "      <td>1566</td>\n",
       "      <td>7</td>\n",
       "    </tr>\n",
       "    <tr>\n",
       "      <th>4</th>\n",
       "      <td>1SMmc9gQmHQ</td>\n",
       "      <td>3Blue1Brown</td>\n",
       "      <td>How to count to 1000 on two hands</td>\n",
       "      <td>Typically when we think of counting on two han...</td>\n",
       "      <td>2015-09-18</td>\n",
       "      <td>385566</td>\n",
       "      <td>11316</td>\n",
       "      <td>0</td>\n",
       "      <td>1087</td>\n",
       "      <td>1</td>\n",
       "      <td>Friday</td>\n",
       "      <td>154</td>\n",
       "      <td>11</td>\n",
       "    </tr>\n",
       "  </tbody>\n",
       "</table>\n",
       "</div>"
      ],
      "text/plain": [
       "      video_id channelTitle  \\\n",
       "0  _UoTTq651dE  3Blue1Brown   \n",
       "1  -9OUyo8NFZg  3Blue1Brown   \n",
       "2  -qgreAUpPwM  3Blue1Brown   \n",
       "3  -RdOwhmqP5s  3Blue1Brown   \n",
       "4  1SMmc9gQmHQ  3Blue1Brown   \n",
       "\n",
       "                                               title  \\\n",
       "0   Why 5/3 is a fundamental constant for turbulence   \n",
       "1                  Euler's Formula and Graph Duality   \n",
       "2              Pure Fourier series animation montage   \n",
       "3  Newton’s method produces this fractal, why don...   \n",
       "4                  How to count to 1000 on two hands   \n",
       "\n",
       "                                         description publishedAt  viewCount  \\\n",
       "0  Some mathematical order amidst the chaos of tu...  2018-11-07     622119   \n",
       "1  A description of planar graph duality, and how...  2015-06-21     412304   \n",
       "2  Because why not?\\nLearn the math behind this: ...  2019-07-03     600345   \n",
       "3  Who knew root-finding could be so complicated?...  2021-10-12    1832565   \n",
       "4  Typically when we think of counting on two han...  2015-09-18     385566   \n",
       "\n",
       "   likeCount  favoriteCount  commentCount  caption publishDayName  \\\n",
       "0      23357              0           822        1      Wednesday   \n",
       "1       9630              0           331        1         Sunday   \n",
       "2      18533              0          1241        1      Wednesday   \n",
       "3      74928              0          3107        1        Tuesday   \n",
       "4      11316              0          1087        1         Friday   \n",
       "\n",
       "   durationSecs  tagCount  \n",
       "0           688        10  \n",
       "1           447        12  \n",
       "2           749         8  \n",
       "3          1566         7  \n",
       "4           154        11  "
      ]
     },
     "execution_count": 10,
     "metadata": {},
     "output_type": "execute_result"
    }
   ],
   "source": [
    "analysis_df.head()"
   ]
  }
 ],
 "metadata": {
  "kernelspec": {
   "display_name": "Python 3.9.7 ('base')",
   "language": "python",
   "name": "python3"
  },
  "language_info": {
   "codemirror_mode": {
    "name": "ipython",
    "version": 3
   },
   "file_extension": ".py",
   "mimetype": "text/x-python",
   "name": "python",
   "nbconvert_exporter": "python",
   "pygments_lexer": "ipython3",
   "version": "3.9.7"
  },
  "vscode": {
   "interpreter": {
    "hash": "78adb8089f1b1ad0b7743184fb6585d3ffc1b6fb4a355aad49fe7003845e53d4"
   }
  }
 },
 "nbformat": 4,
 "nbformat_minor": 5
}
