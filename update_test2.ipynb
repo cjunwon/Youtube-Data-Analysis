{
 "cells": [
  {
   "cell_type": "code",
   "execution_count": 1,
   "metadata": {},
   "outputs": [],
   "source": [
    "from MySQL_DB_connect_functions import *\n",
    "from MySQL_DB_update_functions import *\n",
    "from youtube_api_functions import *"
   ]
  },
  {
   "cell_type": "code",
   "execution_count": 2,
   "metadata": {},
   "outputs": [],
   "source": [
    "channel_id_list = ['UCYO_jab_esuFRV4b17AJtAw'] #3blue1brown"
   ]
  },
  {
   "cell_type": "code",
   "execution_count": 3,
   "metadata": {},
   "outputs": [],
   "source": [
    "youtube_obj = build_yt_API_object()\n",
    "video_df = create_video_df(youtube_obj, channel_id_list)\n",
    "processed_video_df = clean_video_df(video_df)"
   ]
  },
  {
   "cell_type": "code",
   "execution_count": 4,
   "metadata": {},
   "outputs": [],
   "source": [
    "comments_df = get_video_comments(youtube_obj, video_id='VYQVlVoWoPY')"
   ]
  },
  {
   "cell_type": "code",
   "execution_count": 6,
   "metadata": {},
   "outputs": [
    {
     "data": {
      "text/html": [
       "<div>\n",
       "<style scoped>\n",
       "    .dataframe tbody tr th:only-of-type {\n",
       "        vertical-align: middle;\n",
       "    }\n",
       "\n",
       "    .dataframe tbody tr th {\n",
       "        vertical-align: top;\n",
       "    }\n",
       "\n",
       "    .dataframe thead th {\n",
       "        text-align: right;\n",
       "    }\n",
       "</style>\n",
       "<table border=\"1\" class=\"dataframe\">\n",
       "  <thead>\n",
       "    <tr style=\"text-align: right;\">\n",
       "      <th></th>\n",
       "      <th>video_id</th>\n",
       "      <th>comment_id</th>\n",
       "      <th>comment</th>\n",
       "      <th>like_count</th>\n",
       "      <th>reply_count</th>\n",
       "      <th>authorurl</th>\n",
       "      <th>authorname</th>\n",
       "      <th>date</th>\n",
       "      <th>totalReplyCount</th>\n",
       "    </tr>\n",
       "  </thead>\n",
       "  <tbody>\n",
       "    <tr>\n",
       "      <th>0</th>\n",
       "      <td>VYQVlVoWoPY</td>\n",
       "      <td>UgyWDwJY8nVFasPNAP54AaABAg</td>\n",
       "      <td>The reason the last proof is wrong: the lines ...</td>\n",
       "      <td>0</td>\n",
       "      <td>0</td>\n",
       "      <td>http://www.youtube.com/channel/UCgnMd4I5ZaUplO...</td>\n",
       "      <td>Lucas Hayes</td>\n",
       "      <td>2022-08-03T00:53:06Z</td>\n",
       "      <td>0</td>\n",
       "    </tr>\n",
       "    <tr>\n",
       "      <th>1</th>\n",
       "      <td>VYQVlVoWoPY</td>\n",
       "      <td>UgwkBr2nISiPDO-xD-d4AaABAg</td>\n",
       "      <td>SPOILER WARNING:\\nWait, I took out a ruler and...</td>\n",
       "      <td>0</td>\n",
       "      <td>0</td>\n",
       "      <td>http://www.youtube.com/channel/UCE6mqeNSE1PdN9...</td>\n",
       "      <td>Bright Sky</td>\n",
       "      <td>2022-08-02T20:09:04Z</td>\n",
       "      <td>0</td>\n",
       "    </tr>\n",
       "    <tr>\n",
       "      <th>2</th>\n",
       "      <td>VYQVlVoWoPY</td>\n",
       "      <td>UgwspumMBUpD4idQ8Kl4AaABAg</td>\n",
       "      <td>Offering 100$ to first person that finds a fla...</td>\n",
       "      <td>0</td>\n",
       "      <td>0</td>\n",
       "      <td>http://www.youtube.com/channel/UCWCcfuZzFyVbjO...</td>\n",
       "      <td>Dorina Milka</td>\n",
       "      <td>2022-08-02T19:40:51Z</td>\n",
       "      <td>0</td>\n",
       "    </tr>\n",
       "    <tr>\n",
       "      <th>3</th>\n",
       "      <td>VYQVlVoWoPY</td>\n",
       "      <td>UgzLm8L_zt_RmO-L5wZ4AaABAg</td>\n",
       "      <td>세번째 증명 첨언)   점 D를 지나는 수직이등분선과 삼각형의 외접원의 교점이 점 ...</td>\n",
       "      <td>0</td>\n",
       "      <td>0</td>\n",
       "      <td>http://www.youtube.com/channel/UCiS7ZI9ZFuGlIQ...</td>\n",
       "      <td>Hyun-jae Kim</td>\n",
       "      <td>2022-08-02T15:28:20Z</td>\n",
       "      <td>0</td>\n",
       "    </tr>\n",
       "    <tr>\n",
       "      <th>4</th>\n",
       "      <td>VYQVlVoWoPY</td>\n",
       "      <td>Ugwky65rLo4-bAftuWZ4AaABAg</td>\n",
       "      <td>17:12 I knew it !! I fking knew it!!! I just d...</td>\n",
       "      <td>0</td>\n",
       "      <td>0</td>\n",
       "      <td>http://www.youtube.com/channel/UCTJ3J6uss4xUiu...</td>\n",
       "      <td>Srajan Verma</td>\n",
       "      <td>2022-08-02T15:19:23Z</td>\n",
       "      <td>0</td>\n",
       "    </tr>\n",
       "    <tr>\n",
       "      <th>...</th>\n",
       "      <td>...</td>\n",
       "      <td>...</td>\n",
       "      <td>...</td>\n",
       "      <td>...</td>\n",
       "      <td>...</td>\n",
       "      <td>...</td>\n",
       "      <td>...</td>\n",
       "      <td>...</td>\n",
       "      <td>...</td>\n",
       "    </tr>\n",
       "    <tr>\n",
       "      <th>104195</th>\n",
       "      <td>VYQVlVoWoPY</td>\n",
       "      <td>UgwWO-s3UOO6VMbtEV54AaABAg</td>\n",
       "      <td>My short take on the first example: A spere is...</td>\n",
       "      <td>0</td>\n",
       "      <td>0</td>\n",
       "      <td>http://www.youtube.com/channel/UCD7rbNIjn7hUIh...</td>\n",
       "      <td>Nick's Stuff</td>\n",
       "      <td>2022-07-25T15:03:11Z</td>\n",
       "      <td>0</td>\n",
       "    </tr>\n",
       "    <tr>\n",
       "      <th>104196</th>\n",
       "      <td>VYQVlVoWoPY</td>\n",
       "      <td>UgwB7NoYgFrckeqYC8R4AaABAg</td>\n",
       "      <td>I worked out the triangle thing by myself, and...</td>\n",
       "      <td>0</td>\n",
       "      <td>0</td>\n",
       "      <td>http://www.youtube.com/channel/UCGKAnBc4a-IZVM...</td>\n",
       "      <td>Disciple Peter</td>\n",
       "      <td>2022-07-25T12:59:35Z</td>\n",
       "      <td>0</td>\n",
       "    </tr>\n",
       "    <tr>\n",
       "      <th>104197</th>\n",
       "      <td>VYQVlVoWoPY</td>\n",
       "      <td>Ugzgpx3IFqIa8nG3joh4AaABAg</td>\n",
       "      <td>STOP *** THROWING \"PIE\" IN MY FACE!! It's sick...</td>\n",
       "      <td>0</td>\n",
       "      <td>0</td>\n",
       "      <td>http://www.youtube.com/channel/UCNlxOaHebq0Hom...</td>\n",
       "      <td>Andrew Phi</td>\n",
       "      <td>2022-07-25T12:25:59Z</td>\n",
       "      <td>0</td>\n",
       "    </tr>\n",
       "    <tr>\n",
       "      <th>104198</th>\n",
       "      <td>VYQVlVoWoPY</td>\n",
       "      <td>UgwcuWwQxS9eWrre5FJ4AaABAg</td>\n",
       "      <td>Wonderful! Thanks for sharing!</td>\n",
       "      <td>0</td>\n",
       "      <td>0</td>\n",
       "      <td>http://www.youtube.com/channel/UCDMfNFX5kollL5...</td>\n",
       "      <td>Ebryl Kation</td>\n",
       "      <td>2022-07-25T12:20:13Z</td>\n",
       "      <td>0</td>\n",
       "    </tr>\n",
       "    <tr>\n",
       "      <th>104199</th>\n",
       "      <td>VYQVlVoWoPY</td>\n",
       "      <td>UgxjTSevleGue-fdGhB4AaABAg</td>\n",
       "      <td>My prof had already shown me the \"all triangle...</td>\n",
       "      <td>0</td>\n",
       "      <td>0</td>\n",
       "      <td>http://www.youtube.com/channel/UCN6XakoVDJhX-c...</td>\n",
       "      <td>Shirsendu Pal</td>\n",
       "      <td>2022-07-25T12:00:09Z</td>\n",
       "      <td>0</td>\n",
       "    </tr>\n",
       "  </tbody>\n",
       "</table>\n",
       "<p>104200 rows × 9 columns</p>\n",
       "</div>"
      ],
      "text/plain": [
       "           video_id                  comment_id  \\\n",
       "0       VYQVlVoWoPY  UgyWDwJY8nVFasPNAP54AaABAg   \n",
       "1       VYQVlVoWoPY  UgwkBr2nISiPDO-xD-d4AaABAg   \n",
       "2       VYQVlVoWoPY  UgwspumMBUpD4idQ8Kl4AaABAg   \n",
       "3       VYQVlVoWoPY  UgzLm8L_zt_RmO-L5wZ4AaABAg   \n",
       "4       VYQVlVoWoPY  Ugwky65rLo4-bAftuWZ4AaABAg   \n",
       "...             ...                         ...   \n",
       "104195  VYQVlVoWoPY  UgwWO-s3UOO6VMbtEV54AaABAg   \n",
       "104196  VYQVlVoWoPY  UgwB7NoYgFrckeqYC8R4AaABAg   \n",
       "104197  VYQVlVoWoPY  Ugzgpx3IFqIa8nG3joh4AaABAg   \n",
       "104198  VYQVlVoWoPY  UgwcuWwQxS9eWrre5FJ4AaABAg   \n",
       "104199  VYQVlVoWoPY  UgxjTSevleGue-fdGhB4AaABAg   \n",
       "\n",
       "                                                  comment  like_count  \\\n",
       "0       The reason the last proof is wrong: the lines ...           0   \n",
       "1       SPOILER WARNING:\\nWait, I took out a ruler and...           0   \n",
       "2       Offering 100$ to first person that finds a fla...           0   \n",
       "3       세번째 증명 첨언)   점 D를 지나는 수직이등분선과 삼각형의 외접원의 교점이 점 ...           0   \n",
       "4       17:12 I knew it !! I fking knew it!!! I just d...           0   \n",
       "...                                                   ...         ...   \n",
       "104195  My short take on the first example: A spere is...           0   \n",
       "104196  I worked out the triangle thing by myself, and...           0   \n",
       "104197  STOP *** THROWING \"PIE\" IN MY FACE!! It's sick...           0   \n",
       "104198                     Wonderful! Thanks for sharing!           0   \n",
       "104199  My prof had already shown me the \"all triangle...           0   \n",
       "\n",
       "        reply_count                                          authorurl  \\\n",
       "0                 0  http://www.youtube.com/channel/UCgnMd4I5ZaUplO...   \n",
       "1                 0  http://www.youtube.com/channel/UCE6mqeNSE1PdN9...   \n",
       "2                 0  http://www.youtube.com/channel/UCWCcfuZzFyVbjO...   \n",
       "3                 0  http://www.youtube.com/channel/UCiS7ZI9ZFuGlIQ...   \n",
       "4                 0  http://www.youtube.com/channel/UCTJ3J6uss4xUiu...   \n",
       "...             ...                                                ...   \n",
       "104195            0  http://www.youtube.com/channel/UCD7rbNIjn7hUIh...   \n",
       "104196            0  http://www.youtube.com/channel/UCGKAnBc4a-IZVM...   \n",
       "104197            0  http://www.youtube.com/channel/UCNlxOaHebq0Hom...   \n",
       "104198            0  http://www.youtube.com/channel/UCDMfNFX5kollL5...   \n",
       "104199            0  http://www.youtube.com/channel/UCN6XakoVDJhX-c...   \n",
       "\n",
       "            authorname                  date  totalReplyCount  \n",
       "0          Lucas Hayes  2022-08-03T00:53:06Z                0  \n",
       "1           Bright Sky  2022-08-02T20:09:04Z                0  \n",
       "2         Dorina Milka  2022-08-02T19:40:51Z                0  \n",
       "3         Hyun-jae Kim  2022-08-02T15:28:20Z                0  \n",
       "4         Srajan Verma  2022-08-02T15:19:23Z                0  \n",
       "...                ...                   ...              ...  \n",
       "104195    Nick's Stuff  2022-07-25T15:03:11Z                0  \n",
       "104196  Disciple Peter  2022-07-25T12:59:35Z                0  \n",
       "104197      Andrew Phi  2022-07-25T12:25:59Z                0  \n",
       "104198    Ebryl Kation  2022-07-25T12:20:13Z                0  \n",
       "104199   Shirsendu Pal  2022-07-25T12:00:09Z                0  \n",
       "\n",
       "[104200 rows x 9 columns]"
      ]
     },
     "execution_count": 6,
     "metadata": {},
     "output_type": "execute_result"
    }
   ],
   "source": [
    "comments_df"
   ]
  },
  {
   "cell_type": "code",
   "execution_count": null,
   "metadata": {},
   "outputs": [],
   "source": [
    "processed_video_df"
   ]
  },
  {
   "cell_type": "code",
   "execution_count": null,
   "metadata": {},
   "outputs": [],
   "source": [
    "host_name, dbname, schema_name, port, username, password = get_db_info()\n",
    "\n",
    "cnx = connect_to_db(username, password, host_name, schema_name, port)\n",
    "cursor = cnx.cursor()"
   ]
  },
  {
   "cell_type": "code",
   "execution_count": null,
   "metadata": {},
   "outputs": [],
   "source": [
    "cursor.execute(\"DROP TABLE IF EXISTS videos\")"
   ]
  },
  {
   "cell_type": "code",
   "execution_count": null,
   "metadata": {},
   "outputs": [],
   "source": [
    "create_mysql_table(cursor)"
   ]
  },
  {
   "cell_type": "code",
   "execution_count": null,
   "metadata": {},
   "outputs": [],
   "source": [
    "append_from_df_to_db(cursor, processed_video_df)\n"
   ]
  },
  {
   "cell_type": "code",
   "execution_count": null,
   "metadata": {},
   "outputs": [],
   "source": [
    "new_vid_df = update_db(cursor, processed_video_df)"
   ]
  },
  {
   "cell_type": "code",
   "execution_count": null,
   "metadata": {},
   "outputs": [],
   "source": [
    "new_vid_df"
   ]
  },
  {
   "cell_type": "code",
   "execution_count": null,
   "metadata": {},
   "outputs": [],
   "source": [
    "append_from_df_to_db(cursor, new_vid_df)\n",
    "cnx.commit()\n",
    "cursor.close()\n",
    "cnx.close()"
   ]
  }
 ],
 "metadata": {
  "kernelspec": {
   "display_name": "Python 3.9.7 ('base')",
   "language": "python",
   "name": "python3"
  },
  "language_info": {
   "codemirror_mode": {
    "name": "ipython",
    "version": 3
   },
   "file_extension": ".py",
   "mimetype": "text/x-python",
   "name": "python",
   "nbconvert_exporter": "python",
   "pygments_lexer": "ipython3",
   "version": "3.9.7"
  },
  "orig_nbformat": 4,
  "vscode": {
   "interpreter": {
    "hash": "78adb8089f1b1ad0b7743184fb6585d3ffc1b6fb4a355aad49fe7003845e53d4"
   }
  }
 },
 "nbformat": 4,
 "nbformat_minor": 2
}
