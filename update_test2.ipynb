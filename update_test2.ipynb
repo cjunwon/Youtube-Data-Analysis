{
 "cells": [
  {
   "cell_type": "code",
   "execution_count": 1,
   "metadata": {},
   "outputs": [],
   "source": [
    "from MySQL_DB_connect_functions import *\n",
    "from MySQL_DB_update_functions import *\n",
    "from youtube_api_functions import *"
   ]
  },
  {
   "cell_type": "code",
   "execution_count": 2,
   "metadata": {},
   "outputs": [],
   "source": [
    "channel_id_list = ['UCYO_jab_esuFRV4b17AJtAw'] #3blue1brown"
   ]
  },
  {
   "cell_type": "code",
   "execution_count": 3,
   "metadata": {},
   "outputs": [],
   "source": [
    "youtube_obj = build_yt_API_object()\n",
    "video_df = create_video_df(youtube_obj, channel_id_list)\n",
    "processed_video_df = clean_video_df(video_df)"
   ]
  },
  {
   "cell_type": "code",
   "execution_count": 4,
   "metadata": {},
   "outputs": [
    {
     "data": {
      "text/html": [
       "<div>\n",
       "<style scoped>\n",
       "    .dataframe tbody tr th:only-of-type {\n",
       "        vertical-align: middle;\n",
       "    }\n",
       "\n",
       "    .dataframe tbody tr th {\n",
       "        vertical-align: top;\n",
       "    }\n",
       "\n",
       "    .dataframe thead th {\n",
       "        text-align: right;\n",
       "    }\n",
       "</style>\n",
       "<table border=\"1\" class=\"dataframe\">\n",
       "  <thead>\n",
       "    <tr style=\"text-align: right;\">\n",
       "      <th></th>\n",
       "      <th>video_id</th>\n",
       "      <th>channelTitle</th>\n",
       "      <th>title</th>\n",
       "      <th>description</th>\n",
       "      <th>publishedAt</th>\n",
       "      <th>viewCount</th>\n",
       "      <th>likeCount</th>\n",
       "      <th>favoriteCount</th>\n",
       "      <th>commentCount</th>\n",
       "      <th>caption</th>\n",
       "      <th>publishDayName</th>\n",
       "      <th>durationSecs</th>\n",
       "      <th>tagCount</th>\n",
       "    </tr>\n",
       "  </thead>\n",
       "  <tbody>\n",
       "    <tr>\n",
       "      <th>0</th>\n",
       "      <td>VYQVlVoWoPY</td>\n",
       "      <td>3Blue1Brown</td>\n",
       "      <td>How to lie using visual proofs</td>\n",
       "      <td>Three false proofs, and what lessons they teac...</td>\n",
       "      <td>2022-07-03</td>\n",
       "      <td>1097842</td>\n",
       "      <td>56024</td>\n",
       "      <td>0</td>\n",
       "      <td>2725</td>\n",
       "      <td>1</td>\n",
       "      <td>Sunday</td>\n",
       "      <td>1129.0</td>\n",
       "      <td>7</td>\n",
       "    </tr>\n",
       "    <tr>\n",
       "      <th>1</th>\n",
       "      <td>hZuYICAEN9Y</td>\n",
       "      <td>3Blue1Brown</td>\n",
       "      <td>We want more online math exposition (SoME2)</td>\n",
       "      <td>Announcing the second iteration of the Summer ...</td>\n",
       "      <td>2022-06-09</td>\n",
       "      <td>213111</td>\n",
       "      <td>11174</td>\n",
       "      <td>0</td>\n",
       "      <td>565</td>\n",
       "      <td>0</td>\n",
       "      <td>Thursday</td>\n",
       "      <td>434.0</td>\n",
       "      <td>7</td>\n",
       "    </tr>\n",
       "    <tr>\n",
       "      <th>2</th>\n",
       "      <td>bOXCLR3Wric</td>\n",
       "      <td>3Blue1Brown</td>\n",
       "      <td>Olympiad level counting: How many subsets of {...</td>\n",
       "      <td>A lesson on generating functions, and clever u...</td>\n",
       "      <td>2022-05-23</td>\n",
       "      <td>1121994</td>\n",
       "      <td>48392</td>\n",
       "      <td>0</td>\n",
       "      <td>2338</td>\n",
       "      <td>1</td>\n",
       "      <td>Monday</td>\n",
       "      <td>2076.0</td>\n",
       "      <td>7</td>\n",
       "    </tr>\n",
       "    <tr>\n",
       "      <th>3</th>\n",
       "      <td>fRed0Xmc2Wg</td>\n",
       "      <td>3Blue1Brown</td>\n",
       "      <td>Oh, wait, actually the best Wordle opener is n...</td>\n",
       "      <td>Following up on the Worlde-solver (https://you...</td>\n",
       "      <td>2022-02-13</td>\n",
       "      <td>4825777</td>\n",
       "      <td>132980</td>\n",
       "      <td>0</td>\n",
       "      <td>6461</td>\n",
       "      <td>1</td>\n",
       "      <td>Sunday</td>\n",
       "      <td>653.0</td>\n",
       "      <td>7</td>\n",
       "    </tr>\n",
       "    <tr>\n",
       "      <th>4</th>\n",
       "      <td>v68zYyaEmEA</td>\n",
       "      <td>3Blue1Brown</td>\n",
       "      <td>Solving Wordle using information theory</td>\n",
       "      <td>An excuse to teach a lesson on information the...</td>\n",
       "      <td>2022-02-06</td>\n",
       "      <td>9210370</td>\n",
       "      <td>202628</td>\n",
       "      <td>0</td>\n",
       "      <td>8495</td>\n",
       "      <td>1</td>\n",
       "      <td>Sunday</td>\n",
       "      <td>1838.0</td>\n",
       "      <td>7</td>\n",
       "    </tr>\n",
       "    <tr>\n",
       "      <th>...</th>\n",
       "      <td>...</td>\n",
       "      <td>...</td>\n",
       "      <td>...</td>\n",
       "      <td>...</td>\n",
       "      <td>...</td>\n",
       "      <td>...</td>\n",
       "      <td>...</td>\n",
       "      <td>...</td>\n",
       "      <td>...</td>\n",
       "      <td>...</td>\n",
       "      <td>...</td>\n",
       "      <td>...</td>\n",
       "      <td>...</td>\n",
       "    </tr>\n",
       "    <tr>\n",
       "      <th>119</th>\n",
       "      <td>-9OUyo8NFZg</td>\n",
       "      <td>3Blue1Brown</td>\n",
       "      <td>Euler's Formula and Graph Duality</td>\n",
       "      <td>A description of planar graph duality, and how...</td>\n",
       "      <td>2015-06-21</td>\n",
       "      <td>412301</td>\n",
       "      <td>9630</td>\n",
       "      <td>0</td>\n",
       "      <td>331</td>\n",
       "      <td>1</td>\n",
       "      <td>Sunday</td>\n",
       "      <td>447.0</td>\n",
       "      <td>12</td>\n",
       "    </tr>\n",
       "    <tr>\n",
       "      <th>120</th>\n",
       "      <td>K8P8uFahAgc</td>\n",
       "      <td>3Blue1Brown</td>\n",
       "      <td>Circle Division Solution</td>\n",
       "      <td>An explanation of a neat circle puzzle involvi...</td>\n",
       "      <td>2015-05-24</td>\n",
       "      <td>511325</td>\n",
       "      <td>15434</td>\n",
       "      <td>0</td>\n",
       "      <td>669</td>\n",
       "      <td>1</td>\n",
       "      <td>Sunday</td>\n",
       "      <td>533.0</td>\n",
       "      <td>12</td>\n",
       "    </tr>\n",
       "    <tr>\n",
       "      <th>121</th>\n",
       "      <td>84hEmGHw3J8</td>\n",
       "      <td>3Blue1Brown</td>\n",
       "      <td>A Curious Pattern Indeed</td>\n",
       "      <td>A teaser for some future videos regarding a pa...</td>\n",
       "      <td>2015-04-11</td>\n",
       "      <td>502768</td>\n",
       "      <td>10330</td>\n",
       "      <td>0</td>\n",
       "      <td>204</td>\n",
       "      <td>1</td>\n",
       "      <td>Saturday</td>\n",
       "      <td>109.0</td>\n",
       "      <td>14</td>\n",
       "    </tr>\n",
       "    <tr>\n",
       "      <th>122</th>\n",
       "      <td>zLzLxVeqdQg</td>\n",
       "      <td>3Blue1Brown</td>\n",
       "      <td>Euler's Formula Poem</td>\n",
       "      <td>A poem about why e to the pi i equals -1, base...</td>\n",
       "      <td>2015-03-05</td>\n",
       "      <td>140988</td>\n",
       "      <td>4316</td>\n",
       "      <td>0</td>\n",
       "      <td>139</td>\n",
       "      <td>1</td>\n",
       "      <td>Thursday</td>\n",
       "      <td>64.0</td>\n",
       "      <td>10</td>\n",
       "    </tr>\n",
       "    <tr>\n",
       "      <th>123</th>\n",
       "      <td>F_0yfvm0UoU</td>\n",
       "      <td>3Blue1Brown</td>\n",
       "      <td>e to the pi i, a nontraditional take (old vers...</td>\n",
       "      <td>Wait!  There's an improved version: https://yo...</td>\n",
       "      <td>2015-03-05</td>\n",
       "      <td>2483694</td>\n",
       "      <td>38316</td>\n",
       "      <td>0</td>\n",
       "      <td>2064</td>\n",
       "      <td>1</td>\n",
       "      <td>Thursday</td>\n",
       "      <td>374.0</td>\n",
       "      <td>13</td>\n",
       "    </tr>\n",
       "  </tbody>\n",
       "</table>\n",
       "<p>124 rows × 13 columns</p>\n",
       "</div>"
      ],
      "text/plain": [
       "        video_id channelTitle  \\\n",
       "0    VYQVlVoWoPY  3Blue1Brown   \n",
       "1    hZuYICAEN9Y  3Blue1Brown   \n",
       "2    bOXCLR3Wric  3Blue1Brown   \n",
       "3    fRed0Xmc2Wg  3Blue1Brown   \n",
       "4    v68zYyaEmEA  3Blue1Brown   \n",
       "..           ...          ...   \n",
       "119  -9OUyo8NFZg  3Blue1Brown   \n",
       "120  K8P8uFahAgc  3Blue1Brown   \n",
       "121  84hEmGHw3J8  3Blue1Brown   \n",
       "122  zLzLxVeqdQg  3Blue1Brown   \n",
       "123  F_0yfvm0UoU  3Blue1Brown   \n",
       "\n",
       "                                                 title  \\\n",
       "0                       How to lie using visual proofs   \n",
       "1          We want more online math exposition (SoME2)   \n",
       "2    Olympiad level counting: How many subsets of {...   \n",
       "3    Oh, wait, actually the best Wordle opener is n...   \n",
       "4              Solving Wordle using information theory   \n",
       "..                                                 ...   \n",
       "119                  Euler's Formula and Graph Duality   \n",
       "120                           Circle Division Solution   \n",
       "121                           A Curious Pattern Indeed   \n",
       "122                               Euler's Formula Poem   \n",
       "123  e to the pi i, a nontraditional take (old vers...   \n",
       "\n",
       "                                           description publishedAt  viewCount  \\\n",
       "0    Three false proofs, and what lessons they teac...  2022-07-03    1097842   \n",
       "1    Announcing the second iteration of the Summer ...  2022-06-09     213111   \n",
       "2    A lesson on generating functions, and clever u...  2022-05-23    1121994   \n",
       "3    Following up on the Worlde-solver (https://you...  2022-02-13    4825777   \n",
       "4    An excuse to teach a lesson on information the...  2022-02-06    9210370   \n",
       "..                                                 ...         ...        ...   \n",
       "119  A description of planar graph duality, and how...  2015-06-21     412301   \n",
       "120  An explanation of a neat circle puzzle involvi...  2015-05-24     511325   \n",
       "121  A teaser for some future videos regarding a pa...  2015-04-11     502768   \n",
       "122  A poem about why e to the pi i equals -1, base...  2015-03-05     140988   \n",
       "123  Wait!  There's an improved version: https://yo...  2015-03-05    2483694   \n",
       "\n",
       "     likeCount  favoriteCount  commentCount  caption publishDayName  \\\n",
       "0        56024              0          2725        1         Sunday   \n",
       "1        11174              0           565        0       Thursday   \n",
       "2        48392              0          2338        1         Monday   \n",
       "3       132980              0          6461        1         Sunday   \n",
       "4       202628              0          8495        1         Sunday   \n",
       "..         ...            ...           ...      ...            ...   \n",
       "119       9630              0           331        1         Sunday   \n",
       "120      15434              0           669        1         Sunday   \n",
       "121      10330              0           204        1       Saturday   \n",
       "122       4316              0           139        1       Thursday   \n",
       "123      38316              0          2064        1       Thursday   \n",
       "\n",
       "     durationSecs  tagCount  \n",
       "0          1129.0         7  \n",
       "1           434.0         7  \n",
       "2          2076.0         7  \n",
       "3           653.0         7  \n",
       "4          1838.0         7  \n",
       "..            ...       ...  \n",
       "119         447.0        12  \n",
       "120         533.0        12  \n",
       "121         109.0        14  \n",
       "122          64.0        10  \n",
       "123         374.0        13  \n",
       "\n",
       "[124 rows x 13 columns]"
      ]
     },
     "execution_count": 4,
     "metadata": {},
     "output_type": "execute_result"
    }
   ],
   "source": [
    "processed_video_df"
   ]
  },
  {
   "cell_type": "code",
   "execution_count": 5,
   "metadata": {},
   "outputs": [
    {
     "name": "stdout",
     "output_type": "stream",
     "text": [
      "Connected to Database\n"
     ]
    }
   ],
   "source": [
    "host_name, dbname, schema_name, port, username, password = get_db_info()\n",
    "\n",
    "cnx = connect_to_db(username, password, host_name, schema_name, port)\n",
    "cursor = cnx.cursor()"
   ]
  },
  {
   "cell_type": "code",
   "execution_count": 6,
   "metadata": {},
   "outputs": [],
   "source": [
    "cursor.execute(\"DROP TABLE IF EXISTS videos\")"
   ]
  },
  {
   "cell_type": "code",
   "execution_count": 7,
   "metadata": {},
   "outputs": [
    {
     "name": "stdout",
     "output_type": "stream",
     "text": [
      "MySQL table created\n"
     ]
    }
   ],
   "source": [
    "create_mysql_table(cursor)"
   ]
  },
  {
   "cell_type": "code",
   "execution_count": 8,
   "metadata": {},
   "outputs": [
    {
     "name": "stdout",
     "output_type": "stream",
     "text": [
      "Dataframe appended to database\n"
     ]
    }
   ],
   "source": [
    "append_from_df_to_db(cursor, processed_video_df)\n"
   ]
  },
  {
   "cell_type": "code",
   "execution_count": 9,
   "metadata": {},
   "outputs": [
    {
     "ename": "ProgrammingError",
     "evalue": "1064 (42000): You have an error in your SQL syntax; check the manual that corresponds to your MySQL server version for the right syntax to use near 'BOOL = 1,\n        publishDayName = 'Sunday',\n        durationSecs = 1129.0,\n    ' at line 10",
     "output_type": "error",
     "traceback": [
      "\u001b[0;31m---------------------------------------------------------------------------\u001b[0m",
      "\u001b[0;31mProgrammingError\u001b[0m                          Traceback (most recent call last)",
      "\u001b[0;32m/var/folders/6m/88dwrhnx7m3cybxwl1p0rtq40000gn/T/ipykernel_22950/1518638247.py\u001b[0m in \u001b[0;36m<module>\u001b[0;34m\u001b[0m\n\u001b[0;32m----> 1\u001b[0;31m \u001b[0mnew_vid_df\u001b[0m \u001b[0;34m=\u001b[0m \u001b[0mupdate_db\u001b[0m\u001b[0;34m(\u001b[0m\u001b[0mcursor\u001b[0m\u001b[0;34m,\u001b[0m \u001b[0mprocessed_video_df\u001b[0m\u001b[0;34m)\u001b[0m\u001b[0;34m\u001b[0m\u001b[0;34m\u001b[0m\u001b[0m\n\u001b[0m",
      "\u001b[0;32m~/Desktop/Projects/Youtube Data Analysis/MySQL_DB_update_functions.py\u001b[0m in \u001b[0;36mupdate_db\u001b[0;34m(cursor, df)\u001b[0m\n\u001b[1;32m     70\u001b[0m     \u001b[0;32mfor\u001b[0m \u001b[0mi\u001b[0m\u001b[0;34m,\u001b[0m \u001b[0mrow\u001b[0m \u001b[0;32min\u001b[0m \u001b[0mdf\u001b[0m\u001b[0;34m.\u001b[0m\u001b[0miterrows\u001b[0m\u001b[0;34m(\u001b[0m\u001b[0;34m)\u001b[0m\u001b[0;34m:\u001b[0m\u001b[0;34m\u001b[0m\u001b[0;34m\u001b[0m\u001b[0m\n\u001b[1;32m     71\u001b[0m         \u001b[0;32mif\u001b[0m \u001b[0mcheck_if_video_exists\u001b[0m\u001b[0;34m(\u001b[0m\u001b[0mcursor\u001b[0m\u001b[0;34m,\u001b[0m \u001b[0mrow\u001b[0m\u001b[0;34m[\u001b[0m\u001b[0;34m'video_id'\u001b[0m\u001b[0;34m]\u001b[0m\u001b[0;34m)\u001b[0m\u001b[0;34m:\u001b[0m\u001b[0;34m\u001b[0m\u001b[0;34m\u001b[0m\u001b[0m\n\u001b[0;32m---> 72\u001b[0;31m             \u001b[0mupdate_row\u001b[0m\u001b[0;34m(\u001b[0m\u001b[0mcursor\u001b[0m\u001b[0;34m,\u001b[0m \u001b[0mrow\u001b[0m\u001b[0;34m[\u001b[0m\u001b[0;34m'video_id'\u001b[0m\u001b[0;34m]\u001b[0m\u001b[0;34m,\u001b[0m \u001b[0mrow\u001b[0m\u001b[0;34m[\u001b[0m\u001b[0;34m'channelTitle'\u001b[0m\u001b[0;34m]\u001b[0m\u001b[0;34m,\u001b[0m \u001b[0mrow\u001b[0m\u001b[0;34m[\u001b[0m\u001b[0;34m'title'\u001b[0m\u001b[0;34m]\u001b[0m\u001b[0;34m,\u001b[0m \u001b[0mrow\u001b[0m\u001b[0;34m[\u001b[0m\u001b[0;34m'description'\u001b[0m\u001b[0;34m]\u001b[0m\u001b[0;34m,\u001b[0m \u001b[0mrow\u001b[0m\u001b[0;34m[\u001b[0m\u001b[0;34m'publishedAt'\u001b[0m\u001b[0;34m]\u001b[0m\u001b[0;34m,\u001b[0m \u001b[0mrow\u001b[0m\u001b[0;34m[\u001b[0m\u001b[0;34m'viewCount'\u001b[0m\u001b[0;34m]\u001b[0m\u001b[0;34m,\u001b[0m \u001b[0mrow\u001b[0m\u001b[0;34m[\u001b[0m\u001b[0;34m'likeCount'\u001b[0m\u001b[0;34m]\u001b[0m\u001b[0;34m,\u001b[0m \u001b[0mrow\u001b[0m\u001b[0;34m[\u001b[0m\u001b[0;34m'favoriteCount'\u001b[0m\u001b[0;34m]\u001b[0m\u001b[0;34m,\u001b[0m \u001b[0mrow\u001b[0m\u001b[0;34m[\u001b[0m\u001b[0;34m'commentCount'\u001b[0m\u001b[0;34m]\u001b[0m\u001b[0;34m,\u001b[0m \u001b[0mrow\u001b[0m\u001b[0;34m[\u001b[0m\u001b[0;34m'caption'\u001b[0m\u001b[0;34m]\u001b[0m\u001b[0;34m,\u001b[0m \u001b[0mrow\u001b[0m\u001b[0;34m[\u001b[0m\u001b[0;34m'publishDayName'\u001b[0m\u001b[0;34m]\u001b[0m\u001b[0;34m,\u001b[0m \u001b[0mrow\u001b[0m\u001b[0;34m[\u001b[0m\u001b[0;34m'durationSecs'\u001b[0m\u001b[0;34m]\u001b[0m\u001b[0;34m,\u001b[0m \u001b[0mrow\u001b[0m\u001b[0;34m[\u001b[0m\u001b[0;34m'tagCount'\u001b[0m\u001b[0;34m]\u001b[0m\u001b[0;34m)\u001b[0m\u001b[0;34m\u001b[0m\u001b[0;34m\u001b[0m\u001b[0m\n\u001b[0m\u001b[1;32m     73\u001b[0m         \u001b[0;32melse\u001b[0m\u001b[0;34m:\u001b[0m\u001b[0;34m\u001b[0m\u001b[0;34m\u001b[0m\u001b[0m\n\u001b[1;32m     74\u001b[0m             \u001b[0mpd\u001b[0m\u001b[0;34m.\u001b[0m\u001b[0mconcat\u001b[0m\u001b[0;34m(\u001b[0m\u001b[0;34m[\u001b[0m\u001b[0mtmp_df\u001b[0m\u001b[0;34m,\u001b[0m \u001b[0mrow\u001b[0m\u001b[0;34m]\u001b[0m\u001b[0;34m)\u001b[0m\u001b[0;34m\u001b[0m\u001b[0;34m\u001b[0m\u001b[0m\n",
      "\u001b[0;32m~/Desktop/Projects/Youtube Data Analysis/MySQL_DB_update_functions.py\u001b[0m in \u001b[0;36mupdate_row\u001b[0;34m(cursor, video_id, channelTitle, title, description, publishedAt, viewCount, likeCount, favoriteCount, commentCount, caption, publishDayName, durationSecs, tagCount)\u001b[0m\n\u001b[1;32m     63\u001b[0m     \u001b[0mvars_to_update\u001b[0m \u001b[0;34m=\u001b[0m \u001b[0;34m(\u001b[0m\u001b[0mchannelTitle\u001b[0m\u001b[0;34m,\u001b[0m \u001b[0mtitle\u001b[0m\u001b[0;34m,\u001b[0m \u001b[0mdescription\u001b[0m\u001b[0;34m,\u001b[0m \u001b[0mpublishedAt\u001b[0m\u001b[0;34m,\u001b[0m \u001b[0mviewCount\u001b[0m\u001b[0;34m,\u001b[0m \u001b[0mlikeCount\u001b[0m\u001b[0;34m,\u001b[0m \u001b[0mfavoriteCount\u001b[0m\u001b[0;34m,\u001b[0m \u001b[0mcommentCount\u001b[0m\u001b[0;34m,\u001b[0m \u001b[0mcaption\u001b[0m\u001b[0;34m,\u001b[0m \u001b[0mpublishDayName\u001b[0m\u001b[0;34m,\u001b[0m \u001b[0mdurationSecs\u001b[0m\u001b[0;34m,\u001b[0m \u001b[0mtagCount\u001b[0m\u001b[0;34m,\u001b[0m \u001b[0mvideo_id\u001b[0m\u001b[0;34m)\u001b[0m\u001b[0;34m\u001b[0m\u001b[0;34m\u001b[0m\u001b[0m\n\u001b[1;32m     64\u001b[0m \u001b[0;34m\u001b[0m\u001b[0m\n\u001b[0;32m---> 65\u001b[0;31m     \u001b[0mcursor\u001b[0m\u001b[0;34m.\u001b[0m\u001b[0mexecute\u001b[0m\u001b[0;34m(\u001b[0m\u001b[0mupdate_row_query\u001b[0m\u001b[0;34m,\u001b[0m \u001b[0mvars_to_update\u001b[0m\u001b[0;34m)\u001b[0m\u001b[0;34m\u001b[0m\u001b[0;34m\u001b[0m\u001b[0m\n\u001b[0m\u001b[1;32m     66\u001b[0m \u001b[0;34m\u001b[0m\u001b[0m\n\u001b[1;32m     67\u001b[0m \u001b[0;32mdef\u001b[0m \u001b[0mupdate_db\u001b[0m\u001b[0;34m(\u001b[0m\u001b[0mcursor\u001b[0m\u001b[0;34m,\u001b[0m \u001b[0mdf\u001b[0m\u001b[0;34m)\u001b[0m\u001b[0;34m:\u001b[0m\u001b[0;34m\u001b[0m\u001b[0;34m\u001b[0m\u001b[0m\n",
      "\u001b[0;32m~/opt/anaconda3/lib/python3.9/site-packages/mysql/connector/cursor.py\u001b[0m in \u001b[0;36mexecute\u001b[0;34m(self, operation, params, multi)\u001b[0m\n\u001b[1;32m    549\u001b[0m         \u001b[0;32melse\u001b[0m\u001b[0;34m:\u001b[0m\u001b[0;34m\u001b[0m\u001b[0;34m\u001b[0m\u001b[0m\n\u001b[1;32m    550\u001b[0m             \u001b[0;32mtry\u001b[0m\u001b[0;34m:\u001b[0m\u001b[0;34m\u001b[0m\u001b[0;34m\u001b[0m\u001b[0m\n\u001b[0;32m--> 551\u001b[0;31m                 \u001b[0mself\u001b[0m\u001b[0;34m.\u001b[0m\u001b[0m_handle_result\u001b[0m\u001b[0;34m(\u001b[0m\u001b[0mself\u001b[0m\u001b[0;34m.\u001b[0m\u001b[0m_connection\u001b[0m\u001b[0;34m.\u001b[0m\u001b[0mcmd_query\u001b[0m\u001b[0;34m(\u001b[0m\u001b[0mstmt\u001b[0m\u001b[0;34m)\u001b[0m\u001b[0;34m)\u001b[0m\u001b[0;34m\u001b[0m\u001b[0;34m\u001b[0m\u001b[0m\n\u001b[0m\u001b[1;32m    552\u001b[0m             \u001b[0;32mexcept\u001b[0m \u001b[0merrors\u001b[0m\u001b[0;34m.\u001b[0m\u001b[0mInterfaceError\u001b[0m\u001b[0;34m:\u001b[0m\u001b[0;34m\u001b[0m\u001b[0;34m\u001b[0m\u001b[0m\n\u001b[1;32m    553\u001b[0m                 \u001b[0;32mif\u001b[0m \u001b[0mself\u001b[0m\u001b[0;34m.\u001b[0m\u001b[0m_connection\u001b[0m\u001b[0;34m.\u001b[0m\u001b[0m_have_next_result\u001b[0m\u001b[0;34m:\u001b[0m  \u001b[0;31m# pylint: disable=W0212\u001b[0m\u001b[0;34m\u001b[0m\u001b[0;34m\u001b[0m\u001b[0m\n",
      "\u001b[0;32m~/opt/anaconda3/lib/python3.9/site-packages/mysql/connector/connection.py\u001b[0m in \u001b[0;36mcmd_query\u001b[0;34m(self, query, raw, buffered, raw_as_string)\u001b[0m\n\u001b[1;32m    488\u001b[0m         \u001b[0;32mif\u001b[0m \u001b[0;32mnot\u001b[0m \u001b[0misinstance\u001b[0m\u001b[0;34m(\u001b[0m\u001b[0mquery\u001b[0m\u001b[0;34m,\u001b[0m \u001b[0mbytes\u001b[0m\u001b[0;34m)\u001b[0m\u001b[0;34m:\u001b[0m\u001b[0;34m\u001b[0m\u001b[0;34m\u001b[0m\u001b[0m\n\u001b[1;32m    489\u001b[0m             \u001b[0mquery\u001b[0m \u001b[0;34m=\u001b[0m \u001b[0mquery\u001b[0m\u001b[0;34m.\u001b[0m\u001b[0mencode\u001b[0m\u001b[0;34m(\u001b[0m\u001b[0;34m'utf-8'\u001b[0m\u001b[0;34m)\u001b[0m\u001b[0;34m\u001b[0m\u001b[0;34m\u001b[0m\u001b[0m\n\u001b[0;32m--> 490\u001b[0;31m         \u001b[0mresult\u001b[0m \u001b[0;34m=\u001b[0m \u001b[0mself\u001b[0m\u001b[0;34m.\u001b[0m\u001b[0m_handle_result\u001b[0m\u001b[0;34m(\u001b[0m\u001b[0mself\u001b[0m\u001b[0;34m.\u001b[0m\u001b[0m_send_cmd\u001b[0m\u001b[0;34m(\u001b[0m\u001b[0mServerCmd\u001b[0m\u001b[0;34m.\u001b[0m\u001b[0mQUERY\u001b[0m\u001b[0;34m,\u001b[0m \u001b[0mquery\u001b[0m\u001b[0;34m)\u001b[0m\u001b[0;34m)\u001b[0m\u001b[0;34m\u001b[0m\u001b[0;34m\u001b[0m\u001b[0m\n\u001b[0m\u001b[1;32m    491\u001b[0m \u001b[0;34m\u001b[0m\u001b[0m\n\u001b[1;32m    492\u001b[0m         \u001b[0;32mif\u001b[0m \u001b[0mself\u001b[0m\u001b[0;34m.\u001b[0m\u001b[0m_have_next_result\u001b[0m\u001b[0;34m:\u001b[0m\u001b[0;34m\u001b[0m\u001b[0;34m\u001b[0m\u001b[0m\n",
      "\u001b[0;32m~/opt/anaconda3/lib/python3.9/site-packages/mysql/connector/connection.py\u001b[0m in \u001b[0;36m_handle_result\u001b[0;34m(self, packet)\u001b[0m\n\u001b[1;32m    393\u001b[0m             \u001b[0;32mreturn\u001b[0m \u001b[0mself\u001b[0m\u001b[0;34m.\u001b[0m\u001b[0m_handle_eof\u001b[0m\u001b[0;34m(\u001b[0m\u001b[0mpacket\u001b[0m\u001b[0;34m)\u001b[0m\u001b[0;34m\u001b[0m\u001b[0;34m\u001b[0m\u001b[0m\n\u001b[1;32m    394\u001b[0m         \u001b[0;32melif\u001b[0m \u001b[0mpacket\u001b[0m\u001b[0;34m[\u001b[0m\u001b[0;36m4\u001b[0m\u001b[0;34m]\u001b[0m \u001b[0;34m==\u001b[0m \u001b[0;36m255\u001b[0m\u001b[0;34m:\u001b[0m\u001b[0;34m\u001b[0m\u001b[0;34m\u001b[0m\u001b[0m\n\u001b[0;32m--> 395\u001b[0;31m             \u001b[0;32mraise\u001b[0m \u001b[0merrors\u001b[0m\u001b[0;34m.\u001b[0m\u001b[0mget_exception\u001b[0m\u001b[0;34m(\u001b[0m\u001b[0mpacket\u001b[0m\u001b[0;34m)\u001b[0m\u001b[0;34m\u001b[0m\u001b[0;34m\u001b[0m\u001b[0m\n\u001b[0m\u001b[1;32m    396\u001b[0m \u001b[0;34m\u001b[0m\u001b[0m\n\u001b[1;32m    397\u001b[0m         \u001b[0;31m# We have a text result set\u001b[0m\u001b[0;34m\u001b[0m\u001b[0;34m\u001b[0m\u001b[0m\n",
      "\u001b[0;31mProgrammingError\u001b[0m: 1064 (42000): You have an error in your SQL syntax; check the manual that corresponds to your MySQL server version for the right syntax to use near 'BOOL = 1,\n        publishDayName = 'Sunday',\n        durationSecs = 1129.0,\n    ' at line 10"
     ]
    }
   ],
   "source": [
    "new_vid_df = update_db(cursor, processed_video_df)"
   ]
  },
  {
   "cell_type": "code",
   "execution_count": null,
   "metadata": {},
   "outputs": [],
   "source": [
    "new_vid_df"
   ]
  },
  {
   "cell_type": "code",
   "execution_count": null,
   "metadata": {},
   "outputs": [],
   "source": [
    "append_from_df_to_db(cursor, new_vid_df)\n",
    "cnx.commit()\n",
    "cursor.close()\n",
    "cnx.close()"
   ]
  }
 ],
 "metadata": {
  "kernelspec": {
   "display_name": "Python 3.9.7 ('base')",
   "language": "python",
   "name": "python3"
  },
  "language_info": {
   "codemirror_mode": {
    "name": "ipython",
    "version": 3
   },
   "file_extension": ".py",
   "mimetype": "text/x-python",
   "name": "python",
   "nbconvert_exporter": "python",
   "pygments_lexer": "ipython3",
   "version": "3.9.7"
  },
  "orig_nbformat": 4,
  "vscode": {
   "interpreter": {
    "hash": "78adb8089f1b1ad0b7743184fb6585d3ffc1b6fb4a355aad49fe7003845e53d4"
   }
  }
 },
 "nbformat": 4,
 "nbformat_minor": 2
}
